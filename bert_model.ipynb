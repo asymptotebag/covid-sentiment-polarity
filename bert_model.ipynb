{
  "cells": [
    {
      "cell_type": "markdown",
      "metadata": {
        "id": "view-in-github",
        "colab_type": "text"
      },
      "source": [
        "<a href=\"https://colab.research.google.com/github/asymptotebag/covid-sentiment-polarity/blob/master/bert_model.ipynb\" target=\"_parent\"><img src=\"https://colab.research.google.com/assets/colab-badge.svg\" alt=\"Open In Colab\"/></a>"
      ]
    },
    {
      "cell_type": "markdown",
      "metadata": {
        "id": "7_09HYZyQQGj"
      },
      "source": [
        "#Token Sentiment Analysis of COVID-19 Topic Tweets\n",
        "\n",
        "\n",
        "##Preliminary Model/Baseline Results"
      ]
    },
    {
      "cell_type": "code",
      "execution_count": 2,
      "metadata": {
        "colab": {
          "base_uri": "https://localhost:8080/"
        },
        "id": "_eU_O6R8dpqG",
        "outputId": "6e7872bd-8124-45fc-db97-5d895bfb52ca"
      },
      "outputs": [
        {
          "output_type": "stream",
          "name": "stdout",
          "text": [
            "Mounted at /content/drive\n"
          ]
        }
      ],
      "source": [
        "import os\n",
        "from google.colab import drive\n",
        "drive.mount('/content/drive')\n",
        "data_root = '/content/drive/MyDrive/6.8610 Final Project/data/'\n",
        "#data_root = '/Users/ryznerf/Library/Mobile Documents/com~apple~CloudDocs/MIT/nlp_proj/data/'"
      ]
    },
    {
      "cell_type": "code",
      "execution_count": null,
      "metadata": {
        "colab": {
          "base_uri": "https://localhost:8080/"
        },
        "id": "ZlDeCyqr48z9",
        "outputId": "8ebe0a45-b949-480d-e56e-277391cb47ac"
      },
      "outputs": [
        {
          "output_type": "stream",
          "name": "stdout",
          "text": [
            "Looking in indexes: https://pypi.org/simple, https://us-python.pkg.dev/colab-wheels/public/simple/\n",
            "Collecting transformers\n",
            "  Downloading transformers-4.25.1-py3-none-any.whl (5.8 MB)\n",
            "\u001b[K     |████████████████████████████████| 5.8 MB 27.6 MB/s \n",
            "\u001b[?25hRequirement already satisfied: filelock in /usr/local/lib/python3.8/dist-packages (from transformers) (3.8.0)\n",
            "Requirement already satisfied: requests in /usr/local/lib/python3.8/dist-packages (from transformers) (2.23.0)\n",
            "Requirement already satisfied: numpy>=1.17 in /usr/local/lib/python3.8/dist-packages (from transformers) (1.21.6)\n",
            "Collecting huggingface-hub<1.0,>=0.10.0\n",
            "  Downloading huggingface_hub-0.11.1-py3-none-any.whl (182 kB)\n",
            "\u001b[K     |████████████████████████████████| 182 kB 77.1 MB/s \n",
            "\u001b[?25hRequirement already satisfied: packaging>=20.0 in /usr/local/lib/python3.8/dist-packages (from transformers) (21.3)\n",
            "Requirement already satisfied: tqdm>=4.27 in /usr/local/lib/python3.8/dist-packages (from transformers) (4.64.1)\n",
            "Requirement already satisfied: regex!=2019.12.17 in /usr/local/lib/python3.8/dist-packages (from transformers) (2022.6.2)\n",
            "Requirement already satisfied: pyyaml>=5.1 in /usr/local/lib/python3.8/dist-packages (from transformers) (6.0)\n",
            "Collecting tokenizers!=0.11.3,<0.14,>=0.11.1\n",
            "  Downloading tokenizers-0.13.2-cp38-cp38-manylinux_2_17_x86_64.manylinux2014_x86_64.whl (7.6 MB)\n",
            "\u001b[K     |████████████████████████████████| 7.6 MB 50.0 MB/s \n",
            "\u001b[?25hRequirement already satisfied: typing-extensions>=3.7.4.3 in /usr/local/lib/python3.8/dist-packages (from huggingface-hub<1.0,>=0.10.0->transformers) (4.4.0)\n",
            "Requirement already satisfied: pyparsing!=3.0.5,>=2.0.2 in /usr/local/lib/python3.8/dist-packages (from packaging>=20.0->transformers) (3.0.9)\n",
            "Requirement already satisfied: chardet<4,>=3.0.2 in /usr/local/lib/python3.8/dist-packages (from requests->transformers) (3.0.4)\n",
            "Requirement already satisfied: idna<3,>=2.5 in /usr/local/lib/python3.8/dist-packages (from requests->transformers) (2.10)\n",
            "Requirement already satisfied: certifi>=2017.4.17 in /usr/local/lib/python3.8/dist-packages (from requests->transformers) (2022.9.24)\n",
            "Requirement already satisfied: urllib3!=1.25.0,!=1.25.1,<1.26,>=1.21.1 in /usr/local/lib/python3.8/dist-packages (from requests->transformers) (1.24.3)\n",
            "Installing collected packages: tokenizers, huggingface-hub, transformers\n",
            "Successfully installed huggingface-hub-0.11.1 tokenizers-0.13.2 transformers-4.25.1\n",
            "Looking in indexes: https://pypi.org/simple, https://us-python.pkg.dev/colab-wheels/public/simple/\n",
            "Collecting torchmetrics\n",
            "  Downloading torchmetrics-0.11.0-py3-none-any.whl (512 kB)\n",
            "\u001b[K     |████████████████████████████████| 512 kB 36.0 MB/s \n",
            "\u001b[?25hRequirement already satisfied: torch>=1.8.1 in /usr/local/lib/python3.8/dist-packages (from torchmetrics) (1.13.0+cu116)\n",
            "Requirement already satisfied: numpy>=1.17.2 in /usr/local/lib/python3.8/dist-packages (from torchmetrics) (1.21.6)\n",
            "Requirement already satisfied: typing-extensions in /usr/local/lib/python3.8/dist-packages (from torchmetrics) (4.4.0)\n",
            "Requirement already satisfied: packaging in /usr/local/lib/python3.8/dist-packages (from torchmetrics) (21.3)\n",
            "Requirement already satisfied: pyparsing!=3.0.5,>=2.0.2 in /usr/local/lib/python3.8/dist-packages (from packaging->torchmetrics) (3.0.9)\n",
            "Installing collected packages: torchmetrics\n",
            "Successfully installed torchmetrics-0.11.0\n",
            "Looking in indexes: https://pypi.org/simple, https://us-python.pkg.dev/colab-wheels/public/simple/\n",
            "Requirement already satisfied: nltk in /usr/local/lib/python3.8/dist-packages (3.7)\n",
            "Requirement already satisfied: regex>=2021.8.3 in /usr/local/lib/python3.8/dist-packages (from nltk) (2022.6.2)\n",
            "Requirement already satisfied: joblib in /usr/local/lib/python3.8/dist-packages (from nltk) (1.2.0)\n",
            "Requirement already satisfied: tqdm in /usr/local/lib/python3.8/dist-packages (from nltk) (4.64.1)\n",
            "Requirement already satisfied: click in /usr/local/lib/python3.8/dist-packages (from nltk) (7.1.2)\n"
          ]
        },
        {
          "output_type": "stream",
          "name": "stderr",
          "text": [
            "[nltk_data] Downloading package stopwords to /root/nltk_data...\n",
            "[nltk_data]   Unzipping corpora/stopwords.zip.\n"
          ]
        },
        {
          "output_type": "execute_result",
          "data": {
            "text/plain": [
              "True"
            ]
          },
          "metadata": {},
          "execution_count": 2
        }
      ],
      "source": [
        "!pip install transformers\n",
        "!pip install torchmetrics\n",
        "!pip install nltk\n",
        "\n",
        "import nltk\n",
        "nltk.download('stopwords')"
      ]
    },
    {
      "cell_type": "code",
      "execution_count": null,
      "metadata": {
        "colab": {
          "base_uri": "https://localhost:8080/"
        },
        "id": "VFKi-CFEy8L7",
        "outputId": "9c094bff-317c-4852-ab1f-09a8e0443c0d"
      },
      "outputs": [
        {
          "output_type": "stream",
          "name": "stdout",
          "text": [
            "cuda\n",
            "GPU 0: Tesla T4 (UUID: GPU-5a29cdd4-45ce-b596-023d-8d58e6ba8fe0)\n"
          ]
        }
      ],
      "source": [
        "import torch \n",
        "BATCH_SIZE = 32\n",
        "EPOCH_NUM = 3\n",
        "device = torch.device('mps') if torch.backends.mps.is_available() else torch.device('cuda') if torch.cuda.is_available() else torch.device('cpu')\n",
        "print(device)\n",
        "!nvidia-smi -L"
      ]
    },
    {
      "cell_type": "markdown",
      "metadata": {
        "id": "MhffU2Dc1dXI"
      },
      "source": [
        "## SEC 0 - SHARED FUNCTIONS"
      ]
    },
    {
      "cell_type": "code",
      "execution_count": null,
      "metadata": {
        "id": "brJgp3-p1nEQ"
      },
      "outputs": [],
      "source": [
        "# TRAIN TEST SPLITTING FUNCTIONS\n",
        "\n",
        "from sklearn.model_selection import train_test_split\n",
        "\n",
        "def prepare_data(df_data, random_state = 27, test_perc = 0.2, val_perc = 0.1, sentiment_type = 'binary_sentiment'):\n",
        "    random_state = 27\n",
        "    test_perc = 0.2\n",
        "\n",
        "    X = df_data['text'].to_numpy()\n",
        "    y = df_data[sentiment_type].to_numpy()\n",
        "\n",
        "    # train test splitting\n",
        "    X_train, X_test, y_train, y_test = train_test_split(X, y, test_size=test_perc, random_state=random_state)\n",
        "    X_train, X_val, y_train, y_val = train_test_split(X_train, y_train, test_size= val_perc/(1-test_perc), random_state=random_state)\n",
        "    \n",
        "    # test correctness\n",
        "    assert len(X_train) == len(y_train)\n",
        "    assert len(X_val) == len(y_val)\n",
        "    assert len(X_test) == len(y_test)\n",
        "    \n",
        "    return X_train, X_val, X_test, y_train, y_val, y_test"
      ]
    },
    {
      "cell_type": "code",
      "execution_count": null,
      "metadata": {
        "id": "vggtnwT21jsm"
      },
      "outputs": [],
      "source": [
        "# PLOTTING FUNCTIONS\n",
        "\n",
        "import seaborn as sns\n",
        "\n",
        "def plot_dataset_dists(df_data, class_type='binary_sentiment'):\n",
        "    f, axarr = plt.subplots(1, 3, figsize=(20, 5))\n",
        "    axarr[0].hist(df_data['sentiment'], bins=20, alpha = 0.4, color='blue')\n",
        "    axarr[0].set_title('Sentiment')\n",
        "\n",
        "    axarr[1].hist(df_data['norm_sentiment'], bins=20, alpha = 0.4, color='blue')\n",
        "    axarr[1].set_title('Normalized sentiment')\n",
        "\n",
        "    sns.countplot(ax = axarr[2],x=df_data[class_type])\n",
        "    axarr[2].set_title('Binary sentiment balance')\n",
        "    plt.show()\n",
        "    \n",
        "def check_label_set_balance(label_sets):\n",
        "    train, val, test = label_sets\n",
        "    \n",
        "    f, axarr = plt.subplots(1, 3, figsize=(20, 5))\n",
        "    sns.countplot(ax = axarr[0],x=train)\n",
        "    axarr[0].set_title('Training binary sentiment balance')\n",
        "    \n",
        "    sns.countplot(ax = axarr[1],x=val)\n",
        "    axarr[1].set_title('Validation binary sentiment balance')\n",
        "    \n",
        "    sns.countplot(ax = axarr[2],x=test)\n",
        "    axarr[2].set_title('Test binary sentiment balance')\n",
        "    \n",
        "    plt.show()"
      ]
    },
    {
      "cell_type": "code",
      "execution_count": null,
      "metadata": {
        "id": "PzcppY-91hI6"
      },
      "outputs": [],
      "source": [
        "def flat_accuracy(preds, labels):\n",
        "    pred_flat = np.argmax(preds, axis=1).flatten()\n",
        "    labels_flat = labels.flatten()\n",
        "    return np.sum(pred_flat == labels_flat) / len(labels_flat)\n",
        "\n",
        "\n",
        "def train_model(model, optimizer, epochs,train_data, val_data):\n",
        "    print('Training model ...')\n",
        "    softmax = nn.Softmax(dim=1)\n",
        "    model.train()\n",
        "    \n",
        "    avg_training_loss, avg_train_acc, avg_val_loss, avg_val_acc = [], [], [], []\n",
        "    \n",
        "    for epoch in range(epochs):\n",
        "        total_train_loss = 0\n",
        "        epoch_correctness = torch.tensor([]).to(device)\n",
        "        # train for one epoch\n",
        "        for batch in tqdm(train_data):\n",
        "            model.zero_grad()\n",
        "            \n",
        "            b_tokens = batch[0].to(device)\n",
        "            b_mask = batch[1].to(device)\n",
        "            b_labels = batch[2].to(device)\n",
        "            \n",
        "            outputs = model(b_tokens, attention_mask=b_mask, labels=b_labels)\n",
        "            # training accuracy prep\n",
        "            class_prob = softmax(outputs.logits)\n",
        "            class_pred = torch.argmax(class_prob, axis=1)\n",
        "            pred_correctness = (class_pred == b_labels)\n",
        "            epoch_correctness = torch.cat((epoch_correctness, pred_correctness))\n",
        "\n",
        "            loss = outputs.loss\n",
        "            total_train_loss += loss.item()\n",
        "            loss.backward()\n",
        "            torch.nn.utils.clip_grad_norm_(model.parameters(), 1.0)\n",
        "            optimizer.step()\n",
        "        \n",
        "        epoch_avg_train_loss = total_train_loss / len(train_data)\n",
        "        epoch_avg_train_accuracy = np.sum(epoch_correctness.detach().cpu().numpy()) / (len(train_data)*BATCH_SIZE)\n",
        "        avg_training_loss.append(epoch_avg_train_loss)\n",
        "        avg_train_acc.append(epoch_avg_train_accuracy)\n",
        "        \n",
        "        # evaluate on validation set after training for one epoch\n",
        "        epoch_avg_val_accuracy, epoch_avg_val_loss = validation_loop(model, val_data)\n",
        "        avg_val_loss.append(epoch_avg_val_loss)\n",
        "        avg_val_acc.append(epoch_avg_val_accuracy)\n",
        "        \n",
        "        print('Epoch: {}, Training Loss: {}, Training Acc: {}, Validation Loss: {}, Validation Accuracy: {}'.format(epoch+1, epoch_avg_train_loss, epoch_avg_train_accuracy, epoch_avg_val_loss, epoch_avg_val_accuracy))\n",
        "        \n",
        "    return model, {'train_loss': avg_training_loss, 'validation_loss': avg_val_loss, 'train_acc': avg_train_acc, 'validation_acc': avg_val_acc}\n",
        "        \n",
        "\n",
        "def validation_loop(model, val_data):\n",
        "    print(\"Running Validation...\")\n",
        "    model.eval()\n",
        "    \n",
        "    total_eval_accuracy = 0\n",
        "    total_eval_loss = 0\n",
        "\n",
        "    with torch.no_grad():\n",
        "        for batch in tqdm(val_data):\n",
        "            b_input_ids = batch[0].to(device)\n",
        "            b_input_mask = batch[1].to(device)\n",
        "            b_labels = batch[2].to(device)\n",
        "            \n",
        "            \n",
        "            outputs = model(b_input_ids, attention_mask=b_input_mask, labels=b_labels)\n",
        "            \n",
        "            loss = outputs.loss\n",
        "            logits = outputs.logits\n",
        "            total_eval_loss += loss.item()\n",
        "\n",
        "            logits = logits.detach().cpu().numpy()\n",
        "            label_ids = b_labels.to('cpu').numpy()\n",
        "\n",
        "            total_eval_accuracy += flat_accuracy(logits, label_ids)\n",
        "    \n",
        "    avg_val_accuracy = total_eval_accuracy / len(val_data)\n",
        "    avg_val_loss = total_eval_loss / len(val_data)\n",
        "\n",
        "\n",
        "    return avg_val_accuracy, avg_val_loss\n"
      ]
    },
    {
      "cell_type": "code",
      "execution_count": null,
      "metadata": {
        "id": "Ws7h7zwR1q9U"
      },
      "outputs": [],
      "source": [
        "import torch\n",
        "import transformers\n",
        "from torch.utils.data import TensorDataset, DataLoader\n",
        "from transformers import AutoTokenizer, AutoModelForSequenceClassification, pipeline, AdamW\n",
        "import torch.nn as nn\n",
        "from tqdm import tqdm\n",
        "\n",
        "def tokenizer_loop(x_data, y_labels, tokenizer):\n",
        "    input_ids = []\n",
        "    attention_masks = []\n",
        "    for sent in x_data:\n",
        "        this_encoding = tokenizer.encode_plus(sent, truncation=True, padding='max_length', max_length = 512, return_attention_mask = True, return_tensors = 'pt')\n",
        "        input_ids.append(this_encoding['input_ids'])\n",
        "        attention_masks.append( this_encoding['attention_mask'])\n",
        "    input_ids = torch.cat(input_ids, dim=0)\n",
        "    attention_masks = torch.cat(attention_masks, dim=0)\n",
        "    labels = torch.tensor(y_labels).type(torch.LongTensor)\n",
        "    tokenized_data = TensorDataset(input_ids, attention_masks, labels)\n",
        "    \n",
        "    return tokenized_data"
      ]
    },
    {
      "cell_type": "markdown",
      "metadata": {
        "id": "hzA9hnKvdXYq"
      },
      "source": [
        "## SEC 1 - Data pre-processing"
      ]
    },
    {
      "cell_type": "code",
      "execution_count": null,
      "metadata": {
        "id": "5fHKtpv4dZDK"
      },
      "outputs": [],
      "source": [
        "import pandas as pd\n",
        "import numpy as np\n",
        "import regex as re\n",
        "import sklearn\n",
        "import matplotlib.pyplot as plt\n",
        "from tqdm import tqdm"
      ]
    },
    {
      "cell_type": "code",
      "execution_count": null,
      "metadata": {
        "colab": {
          "base_uri": "https://localhost:8080/",
          "height": 257
        },
        "id": "h8w7Gal5eJWY",
        "outputId": "9202e2a8-5c47-442a-a184-75991d57c510"
      },
      "outputs": [
        {
          "output_type": "execute_result",
          "data": {
            "text/plain": [
              "   Unnamed: 0            id  \\\n",
              "0           0  1.342326e+18   \n",
              "1           1  1.342326e+18   \n",
              "2           2  1.342326e+18   \n",
              "\n",
              "                                                text  sentiment  \\\n",
              "0  we wish a grand success for supreme hero for r...   0.278125   \n",
              "1  sorry to disappoint but I ve not make a dollar...  -0.750000   \n",
              "2  this be wild the who change the definition of ...   0.237500   \n",
              "\n",
              "                                               tweet  norm_sentiment  \\\n",
              "0  We wish a grand success for Supreme Hero @IamS...        0.639062   \n",
              "1  Sorry to disappoint, but I’ve not made a dolla...        0.125000   \n",
              "2  This is wild.\\nThe WHO changed the definition ...        0.618750   \n",
              "\n",
              "   binary_sentiment  multiclass_sentiment  \n",
              "0                 1                     2  \n",
              "1                 0                     0  \n",
              "2                 1                     2  "
            ],
            "text/html": [
              "\n",
              "  <div id=\"df-98b35125-2ca8-49dc-abba-0346deb46b85\">\n",
              "    <div class=\"colab-df-container\">\n",
              "      <div>\n",
              "<style scoped>\n",
              "    .dataframe tbody tr th:only-of-type {\n",
              "        vertical-align: middle;\n",
              "    }\n",
              "\n",
              "    .dataframe tbody tr th {\n",
              "        vertical-align: top;\n",
              "    }\n",
              "\n",
              "    .dataframe thead th {\n",
              "        text-align: right;\n",
              "    }\n",
              "</style>\n",
              "<table border=\"1\" class=\"dataframe\">\n",
              "  <thead>\n",
              "    <tr style=\"text-align: right;\">\n",
              "      <th></th>\n",
              "      <th>Unnamed: 0</th>\n",
              "      <th>id</th>\n",
              "      <th>text</th>\n",
              "      <th>sentiment</th>\n",
              "      <th>tweet</th>\n",
              "      <th>norm_sentiment</th>\n",
              "      <th>binary_sentiment</th>\n",
              "      <th>multiclass_sentiment</th>\n",
              "    </tr>\n",
              "  </thead>\n",
              "  <tbody>\n",
              "    <tr>\n",
              "      <th>0</th>\n",
              "      <td>0</td>\n",
              "      <td>1.342326e+18</td>\n",
              "      <td>we wish a grand success for supreme hero for r...</td>\n",
              "      <td>0.278125</td>\n",
              "      <td>We wish a grand success for Supreme Hero @IamS...</td>\n",
              "      <td>0.639062</td>\n",
              "      <td>1</td>\n",
              "      <td>2</td>\n",
              "    </tr>\n",
              "    <tr>\n",
              "      <th>1</th>\n",
              "      <td>1</td>\n",
              "      <td>1.342326e+18</td>\n",
              "      <td>sorry to disappoint but I ve not make a dollar...</td>\n",
              "      <td>-0.750000</td>\n",
              "      <td>Sorry to disappoint, but I’ve not made a dolla...</td>\n",
              "      <td>0.125000</td>\n",
              "      <td>0</td>\n",
              "      <td>0</td>\n",
              "    </tr>\n",
              "    <tr>\n",
              "      <th>2</th>\n",
              "      <td>2</td>\n",
              "      <td>1.342326e+18</td>\n",
              "      <td>this be wild the who change the definition of ...</td>\n",
              "      <td>0.237500</td>\n",
              "      <td>This is wild.\\nThe WHO changed the definition ...</td>\n",
              "      <td>0.618750</td>\n",
              "      <td>1</td>\n",
              "      <td>2</td>\n",
              "    </tr>\n",
              "  </tbody>\n",
              "</table>\n",
              "</div>\n",
              "      <button class=\"colab-df-convert\" onclick=\"convertToInteractive('df-98b35125-2ca8-49dc-abba-0346deb46b85')\"\n",
              "              title=\"Convert this dataframe to an interactive table.\"\n",
              "              style=\"display:none;\">\n",
              "        \n",
              "  <svg xmlns=\"http://www.w3.org/2000/svg\" height=\"24px\"viewBox=\"0 0 24 24\"\n",
              "       width=\"24px\">\n",
              "    <path d=\"M0 0h24v24H0V0z\" fill=\"none\"/>\n",
              "    <path d=\"M18.56 5.44l.94 2.06.94-2.06 2.06-.94-2.06-.94-.94-2.06-.94 2.06-2.06.94zm-11 1L8.5 8.5l.94-2.06 2.06-.94-2.06-.94L8.5 2.5l-.94 2.06-2.06.94zm10 10l.94 2.06.94-2.06 2.06-.94-2.06-.94-.94-2.06-.94 2.06-2.06.94z\"/><path d=\"M17.41 7.96l-1.37-1.37c-.4-.4-.92-.59-1.43-.59-.52 0-1.04.2-1.43.59L10.3 9.45l-7.72 7.72c-.78.78-.78 2.05 0 2.83L4 21.41c.39.39.9.59 1.41.59.51 0 1.02-.2 1.41-.59l7.78-7.78 2.81-2.81c.8-.78.8-2.07 0-2.86zM5.41 20L4 18.59l7.72-7.72 1.47 1.35L5.41 20z\"/>\n",
              "  </svg>\n",
              "      </button>\n",
              "      \n",
              "  <style>\n",
              "    .colab-df-container {\n",
              "      display:flex;\n",
              "      flex-wrap:wrap;\n",
              "      gap: 12px;\n",
              "    }\n",
              "\n",
              "    .colab-df-convert {\n",
              "      background-color: #E8F0FE;\n",
              "      border: none;\n",
              "      border-radius: 50%;\n",
              "      cursor: pointer;\n",
              "      display: none;\n",
              "      fill: #1967D2;\n",
              "      height: 32px;\n",
              "      padding: 0 0 0 0;\n",
              "      width: 32px;\n",
              "    }\n",
              "\n",
              "    .colab-df-convert:hover {\n",
              "      background-color: #E2EBFA;\n",
              "      box-shadow: 0px 1px 2px rgba(60, 64, 67, 0.3), 0px 1px 3px 1px rgba(60, 64, 67, 0.15);\n",
              "      fill: #174EA6;\n",
              "    }\n",
              "\n",
              "    [theme=dark] .colab-df-convert {\n",
              "      background-color: #3B4455;\n",
              "      fill: #D2E3FC;\n",
              "    }\n",
              "\n",
              "    [theme=dark] .colab-df-convert:hover {\n",
              "      background-color: #434B5C;\n",
              "      box-shadow: 0px 1px 3px 1px rgba(0, 0, 0, 0.15);\n",
              "      filter: drop-shadow(0px 1px 2px rgba(0, 0, 0, 0.3));\n",
              "      fill: #FFFFFF;\n",
              "    }\n",
              "  </style>\n",
              "\n",
              "      <script>\n",
              "        const buttonEl =\n",
              "          document.querySelector('#df-98b35125-2ca8-49dc-abba-0346deb46b85 button.colab-df-convert');\n",
              "        buttonEl.style.display =\n",
              "          google.colab.kernel.accessAllowed ? 'block' : 'none';\n",
              "\n",
              "        async function convertToInteractive(key) {\n",
              "          const element = document.querySelector('#df-98b35125-2ca8-49dc-abba-0346deb46b85');\n",
              "          const dataTable =\n",
              "            await google.colab.kernel.invokeFunction('convertToInteractive',\n",
              "                                                     [key], {});\n",
              "          if (!dataTable) return;\n",
              "\n",
              "          const docLinkHtml = 'Like what you see? Visit the ' +\n",
              "            '<a target=\"_blank\" href=https://colab.research.google.com/notebooks/data_table.ipynb>data table notebook</a>'\n",
              "            + ' to learn more about interactive tables.';\n",
              "          element.innerHTML = '';\n",
              "          dataTable['output_type'] = 'display_data';\n",
              "          await google.colab.output.renderOutput(dataTable, element);\n",
              "          const docLink = document.createElement('div');\n",
              "          docLink.innerHTML = docLinkHtml;\n",
              "          element.appendChild(docLink);\n",
              "        }\n",
              "      </script>\n",
              "    </div>\n",
              "  </div>\n",
              "  "
            ]
          },
          "metadata": {},
          "execution_count": 9
        }
      ],
      "source": [
        "# load prepared dataset\n",
        "df_tweets = pd.read_csv(os.path.join(data_root, 'preprocessed_tweets.csv'))\n",
        "df_tweets.head(3)"
      ]
    },
    {
      "cell_type": "code",
      "execution_count": null,
      "metadata": {
        "colab": {
          "base_uri": "https://localhost:8080/"
        },
        "id": "RjtEjMhBGIaX",
        "outputId": "1e5adefd-89ae-4c9b-fdb4-c8a95bad44bd"
      },
      "outputs": [
        {
          "output_type": "execute_result",
          "data": {
            "text/plain": [
              "85228"
            ]
          },
          "metadata": {},
          "execution_count": 10
        }
      ],
      "source": [
        "len(df_tweets)"
      ]
    },
    {
      "cell_type": "markdown",
      "metadata": {
        "id": "l7A47npzmKN7"
      },
      "source": [
        "## SEC 2.1: TRAINING Model with Binary limited sentiment"
      ]
    },
    {
      "cell_type": "code",
      "execution_count": null,
      "metadata": {
        "colab": {
          "base_uri": "https://localhost:8080/",
          "height": 368
        },
        "id": "BzSeCkuKq_GH",
        "outputId": "4e1b9757-9e4e-4d59-91d5-166afa9dd0d5"
      },
      "outputs": [
        {
          "name": "stdout",
          "output_type": "stream",
          "text": [
            "Full dataset\n"
          ]
        },
        {
          "data": {
            "image/png": "[encoded data removed]",
            "text/plain": [
              "<Figure size 1440x360 with 3 Axes>"
            ]
          },
          "metadata": {},
          "output_type": "display_data"
        }
      ],
      "source": [
        "print('Full dataset')\n",
        "plot_dataset_dists(df_tweets)"
      ]
    },
    {
      "cell_type": "code",
      "execution_count": null,
      "metadata": {
        "id": "d57z3KpFq_GH"
      },
      "outputs": [],
      "source": [
        "# LIMIT THE BINARY DATASET TO MORE CONFIDENT REVIEWS\n",
        "### limit by the normalized sentiment keep values up to 0.3 and from 0.7\n",
        "UPPER_LOWER_BOUND = 0.65\n",
        "LOWER_UPPER_BOUND = 0.4\n",
        "df_tweets_final_binary = df_tweets[(df_tweets['norm_sentiment'] <= LOWER_UPPER_BOUND) | (df_tweets['norm_sentiment'] >= UPPER_LOWER_BOUND)]\n",
        "\n",
        "print('Limited dataset with {} examples'.format(len(df_tweets_final_binary)))\n",
        "plot_dataset_dists(df_tweets_final_binary, 'multiclass_sentiment')"
      ]
    },
    {
      "cell_type": "code",
      "execution_count": null,
      "metadata": {
        "id": "1pFmgGv7g3zV"
      },
      "outputs": [],
      "source": [
        "# TRAIN TEST SPLIT\n",
        "X_train, X_val, X_test, y_train_binary, y_val_binary, y_test_binary = prepare_data(df_tweets_final_binary)"
      ]
    },
    {
      "cell_type": "markdown",
      "metadata": {
        "id": "aR0afzxrq_GI"
      },
      "source": [
        "### Torch Dataset pre-paration"
      ]
    },
    {
      "cell_type": "code",
      "execution_count": null,
      "metadata": {
        "id": "SaNKGgD55K47"
      },
      "outputs": [],
      "source": [
        "# HYPERPARAMETERS\n",
        "BATCH_SIZE = 32\n",
        "EPOCH_NUM = 3\n",
        "model_name = 'distilbert-base-uncased-finetuned-sst-2-english'\n",
        "device = torch.device('mps') if torch.backends.mps.is_available() else torch.device('cuda') if torch.cuda.is_available() else torch.device('cpu')\n",
        "print(device)\n",
        "!nvidia-smi -L\n",
        "\n",
        "tokenizer = AutoTokenizer.from_pretrained(model_name)"
      ]
    },
    {
      "cell_type": "code",
      "execution_count": null,
      "metadata": {
        "id": "hwNRVvLnq_GI"
      },
      "outputs": [],
      "source": [
        "# training data\n",
        "train_dataset = tokenizer_loop(X_train, y_train_binary, tokenizer)\n",
        "val_dataset = tokenizer_loop(X_val, y_val_binary, tokenizer)\n",
        "test_dataset = tokenizer_loop(X_test, y_test_binary, tokenizer)\n",
        "\n",
        "# visualize the set balances\n",
        "check_label_set_balance([y_train_binary, y_val_binary, y_test_binary])\n",
        "\n",
        "#Data Loaders\n",
        "train_loader = DataLoader(train_dataset, batch_size=BATCH_SIZE, shuffle=True) #Feel free to experiment with batch sizes\n",
        "val_loader = DataLoader(val_dataset, batch_size=BATCH_SIZE, shuffle=False)\n",
        "test_loader = DataLoader(test_dataset, batch_size=BATCH_SIZE, shuffle=False)"
      ]
    },
    {
      "cell_type": "code",
      "execution_count": null,
      "metadata": {
        "id": "UADyP4vLq_GI"
      },
      "outputs": [],
      "source": [
        "model = AutoModelForSequenceClassification.from_pretrained(model_name, output_attentions = True, output_hidden_states=False, num_labels=2)\n",
        "model = model.to(device)\n",
        "optimizer = AdamW(model.parameters(), lr = 5e-5, eps = 1e-8)\n",
        "\n",
        "model, res_dict = train_model(model, optimizer, EPOCH_NUM, train_loader, val_loader)"
      ]
    },
    {
      "cell_type": "code",
      "execution_count": null,
      "metadata": {
        "id": "lxQZVUwGrHAg"
      },
      "outputs": [],
      "source": [
        "model.save_pretrained(os.path.join(data_root, 'binary_transformer'))"
      ]
    },
    {
      "cell_type": "code",
      "execution_count": null,
      "metadata": {
        "id": "oY1TWoZmsEbV"
      },
      "outputs": [],
      "source": [
        "## PLOT THE RESULTING TRAIN/VAL PERFORMANCE\n",
        "train_acc = res_dict['train_acc']\n",
        "val_acc = res_dict['validation_acc']\n",
        "\n",
        "plt.plot([i+1 for i in range(len(train_acc))],train_acc, alpha = 0.6, label = 'Training', linestyle='--', marker='o', color = 'blue')\n",
        "plt.plot([i+1 for i in range(len(train_acc))],val_acc, alpha = 0.6, label = 'Validation', marker='o', color ='red')\n",
        "plt.xlabel('Epoch')\n",
        "plt.xticks([i+1 for i in range(len(train_acc))])\n",
        "plt.ylabel('Accuracy')\n",
        "plt.title('Accuracy comparison - binary model')\n",
        "plt.legend()\n",
        "plt.show()"
      ]
    },
    {
      "cell_type": "code",
      "execution_count": null,
      "metadata": {
        "id": "lI56JT-ptYfg"
      },
      "outputs": [],
      "source": [
        "## Validate performance on the test set\n",
        "avg_test_accuracy, avg_test_loss = validation_loop(model, test_loader)"
      ]
    },
    {
      "cell_type": "code",
      "execution_count": null,
      "metadata": {
        "id": "ThNBI0meuYHf"
      },
      "outputs": [],
      "source": [
        "print('TEST ACCURACY WAS: {}'.format(avg_test_accuracy))"
      ]
    },
    {
      "cell_type": "markdown",
      "metadata": {
        "id": "V4cvsF6jrzPZ"
      },
      "source": [
        "## SEC 2.2: LOADING AND USING PRE-TRAINED BINARY TRANSFORMER"
      ]
    },
    {
      "cell_type": "code",
      "execution_count": null,
      "metadata": {
        "id": "n91GGz1-zwKb"
      },
      "outputs": [],
      "source": [
        "# HYPERPARAMETERS\n",
        "BATCH_SIZE = 32\n",
        "EPOCH_NUM = 5\n",
        "model_name = 'distilbert-base-uncased-finetuned-sst-2-english'\n",
        "#model_name = 'j-hartmann/sentiment-roberta-large-english-3-classes'\n",
        "device = torch.device('mps') if torch.backends.mps.is_available() else torch.device('cuda') if torch.cuda.is_available() else torch.device('cpu')\n",
        "print(device)\n",
        "!nvidia-smi -L\n",
        "\n",
        "tokenizer = AutoTokenizer.from_pretrained(model_name)"
      ]
    },
    {
      "cell_type": "code",
      "execution_count": null,
      "metadata": {
        "id": "Q2aJWppJr6yH"
      },
      "outputs": [],
      "source": [
        "binary_model = AutoModelForSequenceClassification.from_pretrained(os.path.join(data_root, 'binary_transformer')).to(device)"
      ]
    },
    {
      "cell_type": "markdown",
      "metadata": {
        "id": "K-64cAWjmB8Q"
      },
      "source": [
        "## SEC 3 - TRAINING Model with Neutral Sentiment"
      ]
    },
    {
      "cell_type": "code",
      "execution_count": null,
      "metadata": {
        "id": "kLJ4QWGJJ2St"
      },
      "outputs": [],
      "source": [
        "df_tweets = df_tweets.dropna(subset=['text'])"
      ]
    },
    {
      "cell_type": "code",
      "execution_count": null,
      "metadata": {
        "colab": {
          "base_uri": "https://localhost:8080/",
          "height": 369
        },
        "id": "7Dccn-uswtZG",
        "outputId": "f642285e-471d-4f7a-92a0-0633b714980f"
      },
      "outputs": [
        {
          "output_type": "stream",
          "name": "stdout",
          "text": [
            "Full dataset\n"
          ]
        },
        {
          "output_type": "display_data",
          "data": {
            "text/plain": [
              "<Figure size 1440x360 with 3 Axes>"
            ],
            "image/png": "[encoded data removed]"
          },
          "metadata": {
            "needs_background": "light"
          }
        }
      ],
      "source": [
        "# super imbalanced .....\n",
        "print('Full dataset')\n",
        "plot_dataset_dists(df_tweets, 'multiclass_sentiment')"
      ]
    },
    {
      "cell_type": "code",
      "execution_count": null,
      "metadata": {
        "colab": {
          "base_uri": "https://localhost:8080/",
          "height": 369
        },
        "id": "BgspyakBw0GS",
        "outputId": "0d3b9bf1-408a-4cdd-d1ee-4b7a7d86511e"
      },
      "outputs": [
        {
          "output_type": "stream",
          "name": "stdout",
          "text": [
            "Lengths are neg: 8364 neutral: 10000 pos: 10000\n"
          ]
        },
        {
          "output_type": "display_data",
          "data": {
            "text/plain": [
              "<Figure size 1440x360 with 3 Axes>"
            ],
            "image/png": "[encoded data removed]"
          },
          "metadata": {
            "needs_background": "light"
          }
        }
      ],
      "source": [
        "# DOWNSAMPLE THE TWEETS to have balanced dataset\n",
        "\n",
        "def sample_tweets(sample_size, df):\n",
        "    sample_size = min(sample_size, len(df))\n",
        "    return df.sample(n=sample_size, replace=False)\n",
        "\n",
        "# sample size\n",
        "SAMPLE_SIZE = 10000\n",
        "\n",
        "negative_tweets = sample_tweets(SAMPLE_SIZE, df_tweets[df_tweets['multiclass_sentiment'] == 0])\n",
        "neutral_tweets = sample_tweets(SAMPLE_SIZE, df_tweets[df_tweets['multiclass_sentiment'] == 1])\n",
        "positive_tweets = sample_tweets(SAMPLE_SIZE, df_tweets[df_tweets['multiclass_sentiment'] == 2])\n",
        "\n",
        "print('Lengths are neg: {} neutral: {} pos: {}'.format(len(negative_tweets), len(neutral_tweets), len(positive_tweets)))\n",
        "\n",
        "# PUT TOGETHER\n",
        "df_tweets_final_multiclass = pd.concat([negative_tweets, neutral_tweets, positive_tweets])\n",
        "plot_dataset_dists(df_tweets_final_multiclass, 'multiclass_sentiment')"
      ]
    },
    {
      "cell_type": "code",
      "execution_count": null,
      "metadata": {
        "colab": {
          "base_uri": "https://localhost:8080/"
        },
        "id": "BPuQPbTWGIaY",
        "outputId": "1af24d7d-b0ce-4e81-9e4e-7ded87ed429f"
      },
      "outputs": [
        {
          "output_type": "stream",
          "name": "stdout",
          "text": [
            "Duplicates remaining: 0\n",
            "Dataset length: 28364\n"
          ]
        }
      ],
      "source": [
        "duplicate = df_tweets_final_multiclass[df_tweets_final_multiclass['text'].duplicated()]\n",
        "print('Duplicates remaining: {}'.format(len(duplicate)))\n",
        "print('Dataset length: {}'.format(len(df_tweets_final_multiclass)))"
      ]
    },
    {
      "cell_type": "code",
      "execution_count": null,
      "metadata": {
        "id": "5QrvGrwU5TaX"
      },
      "outputs": [],
      "source": [
        "df_tweets_final_multiclass.to_csv(os.path.join(data_root, 'multiclass_dataset_final.csv'))"
      ]
    },
    {
      "cell_type": "code",
      "execution_count": null,
      "metadata": {
        "id": "AJS5vguBxChF"
      },
      "outputs": [],
      "source": [
        "X_train, X_val, X_test, y_train_multiclass, y_val_multiclass, y_test_multiclass = prepare_data(df_tweets_final_multiclass, sentiment_type = 'multiclass_sentiment')"
      ]
    },
    {
      "cell_type": "code",
      "execution_count": null,
      "metadata": {
        "colab": {
          "base_uri": "https://localhost:8080/",
          "height": 148,
          "referenced_widgets": [
            "f9fcb9b001a0469f971d4401ebd89e09",
            "e165fb1f3fde431386bff1285a8dbbf9",
            "67af269b21a04affa8627b6841ebcfd0",
            "3ff5fff387534fa8a68dac37a4d45b37",
            "fcde8fdb42404ef9b531a38862b7a9b9",
            "c6f2e4bbcf454911b0f668c668f913de",
            "d34b4f970a6a4736858996b1a80c5902",
            "39463e750abf4377a1eb5c03cda6f69f",
            "035ed1c6a0994a8bb2be486a23377cf3",
            "5d5b23820e284aa3b20723a8de22b308",
            "dacf5e7a7cb7424b9992688e1078eb6a",
            "598d2debaca74f50870dab4a0316447f",
            "2003ec1efaf14ae8afd56bcf43ed7f97",
            "f6cb4a43fc8943b3ab884c40d6a8542a",
            "63456ceae3db4e95b71ba09261b33698",
            "363fa3f82d694460972f3869bcb755dc",
            "57b3041297d647b081f028873bc8d52e",
            "f7eb9c2d457a4570a4758e2fa0717083",
            "10ddab30fe474d5fb61a1e585b1ff4a9",
            "7d417dfc16a3470ea21ff0aa5a3eb63f",
            "57f2fb15d49f4de7941003f10f9ef1e8",
            "65f8ba857a8d443093ea508fad6bd21c",
            "b966ae869cf04d34a1671720452fe547",
            "48074ab504d4464a91f193b49928006d",
            "caa9db85986e46c5ad3d533dfd6a758b",
            "12903f3211e5473080047e1151a0a330",
            "b9fbb8ff1abf4b22b3e8ef7625c3b23d",
            "1e3f2aa5e2494db98a680adc4954fa7e",
            "7783152362734feea6a18d108e3fffff",
            "2a86adbbb860463f880403928c63439f",
            "75679565e03e4be391a804d7c6da1c9f",
            "8f80a82f239340d8849efe856d7b745c",
            "3ea3d63e0ae84e2697a399e188cc23a5"
          ]
        },
        "id": "A3MY0Z3sxv37",
        "outputId": "8a5941a5-b54a-4b42-c086-208bdbbc70f1"
      },
      "outputs": [
        {
          "output_type": "stream",
          "name": "stdout",
          "text": [
            "cuda\n",
            "GPU 0: Tesla T4 (UUID: GPU-e2541b5d-b08e-0d2a-6fe0-3bfcc86b49c6)\n"
          ]
        },
        {
          "output_type": "display_data",
          "data": {
            "text/plain": [
              "Downloading:   0%|          | 0.00/48.0 [00:00<?, ?B/s]"
            ],
            "application/vnd.jupyter.widget-view+json": {
              "version_major": 2,
              "version_minor": 0,
              "model_id": "f9fcb9b001a0469f971d4401ebd89e09"
            }
          },
          "metadata": {}
        },
        {
          "output_type": "display_data",
          "data": {
            "text/plain": [
              "Downloading:   0%|          | 0.00/629 [00:00<?, ?B/s]"
            ],
            "application/vnd.jupyter.widget-view+json": {
              "version_major": 2,
              "version_minor": 0,
              "model_id": "598d2debaca74f50870dab4a0316447f"
            }
          },
          "metadata": {}
        },
        {
          "output_type": "display_data",
          "data": {
            "text/plain": [
              "Downloading:   0%|          | 0.00/232k [00:00<?, ?B/s]"
            ],
            "application/vnd.jupyter.widget-view+json": {
              "version_major": 2,
              "version_minor": 0,
              "model_id": "b966ae869cf04d34a1671720452fe547"
            }
          },
          "metadata": {}
        }
      ],
      "source": [
        "# HYPERPARAMETERS\n",
        "BATCH_SIZE = 32\n",
        "EPOCH_NUM = 3\n",
        "model_name = 'distilbert-base-uncased-finetuned-sst-2-english'\n",
        "device = torch.device('mps') if torch.backends.mps.is_available() else torch.device('cuda') if torch.cuda.is_available() else torch.device('cpu')\n",
        "print(device)\n",
        "!nvidia-smi -L\n",
        "\n",
        "tokenizer = AutoTokenizer.from_pretrained(model_name)"
      ]
    },
    {
      "cell_type": "code",
      "execution_count": null,
      "metadata": {
        "colab": {
          "base_uri": "https://localhost:8080/",
          "height": 336
        },
        "id": "LyAnMdAv0qLM",
        "outputId": "6dc76ca9-b92c-40c7-95fc-5edae651a681"
      },
      "outputs": [
        {
          "output_type": "display_data",
          "data": {
            "text/plain": [
              "<Figure size 1440x360 with 3 Axes>"
            ],
            "image/png": "[encoded data removed]"
          },
          "metadata": {
            "needs_background": "light"
          }
        }
      ],
      "source": [
        "# training data\n",
        "train_dataset = tokenizer_loop(X_train, y_train_multiclass, tokenizer)\n",
        "val_dataset = tokenizer_loop(X_val, y_val_multiclass, tokenizer)\n",
        "test_dataset = tokenizer_loop(X_test, y_test_multiclass, tokenizer)\n",
        "\n",
        "# visualize the set balances\n",
        "check_label_set_balance([y_train_multiclass, y_val_multiclass, y_test_multiclass])\n",
        "\n",
        "#Data Loaders\n",
        "train_loader = DataLoader(train_dataset, batch_size=BATCH_SIZE, shuffle=True) #Feel free to experiment with batch sizes\n",
        "val_loader = DataLoader(val_dataset, batch_size=BATCH_SIZE, shuffle=False)\n",
        "test_loader = DataLoader(test_dataset, batch_size=BATCH_SIZE, shuffle=False)"
      ]
    },
    {
      "cell_type": "code",
      "execution_count": null,
      "metadata": {
        "colab": {
          "base_uri": "https://localhost:8080/",
          "height": 138,
          "referenced_widgets": [
            "4a44f7fab9cb4d749a6ef19666d6628b",
            "93114979689b43a0bfba91fb483dd88c",
            "1a25f81cd8024e26ab8dcdb7797fdf1b",
            "7d624c7b431b4c47b3881c7a4a21ba44",
            "7c1423399ee045b3adddf0ad19e97ee5",
            "96fb2dbc906343928acbb35dc3f80ebb",
            "dd0e7ac1cfc44d528b8d2364a85a9fbf",
            "d4b1187354094106b429d6cbbcc4baa6",
            "61314e9d4d9c40b79311874b9eb99608",
            "e42836af63af4ecdaa13762b88a237cd",
            "35ef10e5503841fdb592700d15d4df07"
          ]
        },
        "id": "E_kv-Z9I0rAV",
        "outputId": "bd7f0603-f90a-44a7-c5dc-f4aaa71ca696"
      },
      "outputs": [
        {
          "output_type": "display_data",
          "data": {
            "text/plain": [
              "Downloading:   0%|          | 0.00/268M [00:00<?, ?B/s]"
            ],
            "application/vnd.jupyter.widget-view+json": {
              "version_major": 2,
              "version_minor": 0,
              "model_id": "4a44f7fab9cb4d749a6ef19666d6628b"
            }
          },
          "metadata": {}
        },
        {
          "output_type": "stream",
          "name": "stderr",
          "text": [
            "Some weights of DistilBertForSequenceClassification were not initialized from the model checkpoint at distilbert-base-uncased-finetuned-sst-2-english and are newly initialized because the shapes did not match:\n",
            "- classifier.weight: found shape torch.Size([2, 768]) in the checkpoint and torch.Size([3, 768]) in the model instantiated\n",
            "- classifier.bias: found shape torch.Size([2]) in the checkpoint and torch.Size([3]) in the model instantiated\n",
            "You should probably TRAIN this model on a down-stream task to be able to use it for predictions and inference.\n"
          ]
        }
      ],
      "source": [
        "multiclass_model = AutoModelForSequenceClassification.from_pretrained(model_name, output_attentions = True, output_hidden_states=False, num_labels=3, ignore_mismatched_sizes=True)\n",
        "multiclass_model = multiclass_model.to(device)"
      ]
    },
    {
      "cell_type": "code",
      "execution_count": null,
      "metadata": {
        "colab": {
          "base_uri": "https://localhost:8080/"
        },
        "id": "61eSYI1859qg",
        "outputId": "f2cfc51c-2947-4c5e-cf24-c83d0362c8e5"
      },
      "outputs": [
        {
          "output_type": "stream",
          "name": "stderr",
          "text": [
            "/usr/local/lib/python3.8/dist-packages/transformers/optimization.py:306: FutureWarning: This implementation of AdamW is deprecated and will be removed in a future version. Use the PyTorch implementation torch.optim.AdamW instead, or set `no_deprecation_warning=True` to disable this warning\n",
            "  warnings.warn(\n"
          ]
        },
        {
          "output_type": "stream",
          "name": "stdout",
          "text": [
            "Training model ...\n"
          ]
        },
        {
          "output_type": "stream",
          "name": "stderr",
          "text": [
            "100%|██████████| 621/621 [14:29<00:00,  1.40s/it]\n"
          ]
        },
        {
          "output_type": "stream",
          "name": "stdout",
          "text": [
            "Running Validation...\n"
          ]
        },
        {
          "output_type": "stream",
          "name": "stderr",
          "text": [
            "100%|██████████| 89/89 [00:46<00:00,  1.91it/s]\n"
          ]
        },
        {
          "output_type": "stream",
          "name": "stdout",
          "text": [
            "Epoch: 1, Training Loss: 0.6809284178099194, Training Acc: 0.7036030595813204, Validation Loss: 0.5306229393803672, Validation Accuracy: 0.7864834135901552\n"
          ]
        },
        {
          "output_type": "stream",
          "name": "stderr",
          "text": [
            "100%|██████████| 621/621 [14:01<00:00,  1.35s/it]\n"
          ]
        },
        {
          "output_type": "stream",
          "name": "stdout",
          "text": [
            "Running Validation...\n"
          ]
        },
        {
          "output_type": "stream",
          "name": "stderr",
          "text": [
            "100%|██████████| 89/89 [00:46<00:00,  1.91it/s]\n"
          ]
        },
        {
          "output_type": "stream",
          "name": "stdout",
          "text": [
            "Epoch: 2, Training Loss: 0.4137221391698205, Training Acc: 0.8398752012882448, Validation Loss: 0.45220290224873616, Validation Accuracy: 0.8277487961476726\n"
          ]
        },
        {
          "output_type": "stream",
          "name": "stderr",
          "text": [
            "100%|██████████| 621/621 [14:00<00:00,  1.35s/it]\n"
          ]
        },
        {
          "output_type": "stream",
          "name": "stdout",
          "text": [
            "Running Validation...\n"
          ]
        },
        {
          "output_type": "stream",
          "name": "stderr",
          "text": [
            "100%|██████████| 89/89 [00:46<00:00,  1.91it/s]"
          ]
        },
        {
          "output_type": "stream",
          "name": "stdout",
          "text": [
            "Epoch: 3, Training Loss: 0.24648792568696198, Training Acc: 0.9127918679549114, Validation Loss: 0.471962904076228, Validation Accuracy: 0.8323134028892456\n"
          ]
        },
        {
          "output_type": "stream",
          "name": "stderr",
          "text": [
            "\n"
          ]
        }
      ],
      "source": [
        "optimizer = AdamW(multiclass_model.parameters(), lr = 2e-5, eps = 1e-8)\n",
        "multiclass_model, res_dict = train_model(multiclass_model, optimizer, EPOCH_NUM, train_loader, val_loader)"
      ]
    },
    {
      "cell_type": "code",
      "execution_count": null,
      "metadata": {
        "id": "VkL_BR6k2kci"
      },
      "outputs": [],
      "source": [
        "multiclass_model.save_pretrained(os.path.join(data_root, 'multiclass_transformer'))"
      ]
    },
    {
      "cell_type": "code",
      "execution_count": null,
      "metadata": {
        "id": "i5F71pW6ICtV",
        "colab": {
          "base_uri": "https://localhost:8080/",
          "height": 295
        },
        "outputId": "014600f5-1673-4bf5-f630-b7f68055f840"
      },
      "outputs": [
        {
          "output_type": "display_data",
          "data": {
            "text/plain": [
              "<Figure size 432x288 with 1 Axes>"
            ],
            "image/png": "[encoded data removed]"
          },
          "metadata": {
            "needs_background": "light"
          }
        }
      ],
      "source": [
        "## PLOT THE RESULTING TRAIN/VAL PERFORMANCE\n",
        "train_acc = res_dict['train_acc']\n",
        "val_acc = res_dict['validation_acc']\n",
        "\n",
        "plt.plot([i+1 for i in range(len(train_acc))],train_acc, alpha = 0.6, label = 'Training', linestyle='--', marker='o', color = 'blue')\n",
        "plt.plot([i+1 for i in range(len(train_acc))],val_acc, alpha = 0.6, label = 'Validation', marker='o', color ='red')\n",
        "plt.xlabel('Epoch')\n",
        "plt.xticks([i+1 for i in range(len(train_acc))])\n",
        "plt.ylabel('Accuracy')\n",
        "plt.title('Accuracy comparison - multiclass model')\n",
        "plt.legend()\n",
        "plt.show()"
      ]
    },
    {
      "cell_type": "code",
      "execution_count": null,
      "metadata": {
        "id": "eWQAvAVXIPeU",
        "colab": {
          "base_uri": "https://localhost:8080/"
        },
        "outputId": "f637f1b1-86ab-4e3d-8ae7-e452c15e0077"
      },
      "outputs": [
        {
          "output_type": "stream",
          "name": "stdout",
          "text": [
            "Running Validation...\n"
          ]
        },
        {
          "output_type": "stream",
          "name": "stderr",
          "text": [
            "100%|██████████| 178/178 [01:33<00:00,  1.90it/s]"
          ]
        },
        {
          "output_type": "stream",
          "name": "stdout",
          "text": [
            "\n",
            " TEST ACCURACY WAS: 0.8237164481897628\n"
          ]
        },
        {
          "output_type": "stream",
          "name": "stderr",
          "text": [
            "\n"
          ]
        }
      ],
      "source": [
        "avg_test_accuracy, avg_test_loss = validation_loop(multiclass_model, test_loader)\n",
        "print('\\n TEST ACCURACY WAS: {}'.format(avg_test_accuracy))"
      ]
    },
    {
      "cell_type": "markdown",
      "metadata": {
        "id": "qtwt_QmOrBwG"
      },
      "source": [
        "## SEC 3.1 - Loading pretrained multiclass model"
      ]
    },
    {
      "cell_type": "code",
      "execution_count": null,
      "metadata": {
        "colab": {
          "base_uri": "https://localhost:8080/",
          "height": 149,
          "referenced_widgets": [
            "1d7469b0ad374afaa7919be1b6324b02",
            "3daea3075c9447c5ae98202b75a8c0da",
            "e2b8fc050e6d4497b96841c50c853beb",
            "c295fc3004654c87b578e3f5d613fee3",
            "c2dc08c4ab664010b41f408951ddf9df",
            "f9bba213087d44218c863dfdf0d4c2c6",
            "121300c05a66427da461e69bfa484873",
            "e3f8373bf89246aa8e06461d0a0ef2ac",
            "164b508a22184b9d8957a9800f20b925",
            "4b9b81747164496899531a7524925990",
            "aa0cb5f4ea594815a09e103fed02bb79",
            "bc0922708bda468c94b19f05808ca7de",
            "4945f387e72047cfaf8e9b27d9de5d80",
            "b44fe753caee4800927cc92823999d8b",
            "52115ef0820e4c84925b2cc3cfb30b1c",
            "ce5109426fd44fad93d38a736c717145",
            "e6977b47e7f548a787b46cd292b58b7a",
            "49f5f337d6f0449aac69b2d67c39f09d",
            "ac71465a7a834acabf3c1e81ebfb1c36",
            "a87de836c47e4d9d8c7aabbd665917ce",
            "2bdf76c1a85049e5b6349893518bc23e",
            "e203926febb7465aaa98a3d45d90b4b8",
            "d1e6e74cd8d24558a2848c00934a6bae",
            "61c8b62bc7034c62909d28f4e02e2ae3",
            "47448df2545b4302b68d022bded14164",
            "0b677126177c4ccf86656da12fcdfa0f",
            "44c385e6756647b489e541fd0f08a6d3",
            "f90a7d9b6db34671b93fdfb3a5bb059d",
            "35cc3ff830fa473eb216f7466bca06df",
            "baadcc612070417e99ee41a70cf44258",
            "d41f8fb14b0e43a48a0e9a1e518d7a15",
            "56855a10e39a469c80e6f572bf55a76c",
            "e82da416d28f4f35bbd436c715a4adda"
          ]
        },
        "id": "I67_LvO8zp-Q",
        "outputId": "7afd942f-4364-47f7-e760-e75ed2c0189b"
      },
      "outputs": [
        {
          "output_type": "stream",
          "name": "stdout",
          "text": [
            "cuda\n",
            "GPU 0: Tesla T4 (UUID: GPU-5a29cdd4-45ce-b596-023d-8d58e6ba8fe0)\n"
          ]
        },
        {
          "output_type": "display_data",
          "data": {
            "text/plain": [
              "Downloading:   0%|          | 0.00/48.0 [00:00<?, ?B/s]"
            ],
            "application/vnd.jupyter.widget-view+json": {
              "version_major": 2,
              "version_minor": 0,
              "model_id": "1d7469b0ad374afaa7919be1b6324b02"
            }
          },
          "metadata": {}
        },
        {
          "output_type": "display_data",
          "data": {
            "text/plain": [
              "Downloading:   0%|          | 0.00/629 [00:00<?, ?B/s]"
            ],
            "application/vnd.jupyter.widget-view+json": {
              "version_major": 2,
              "version_minor": 0,
              "model_id": "bc0922708bda468c94b19f05808ca7de"
            }
          },
          "metadata": {}
        },
        {
          "output_type": "display_data",
          "data": {
            "text/plain": [
              "Downloading:   0%|          | 0.00/232k [00:00<?, ?B/s]"
            ],
            "application/vnd.jupyter.widget-view+json": {
              "version_major": 2,
              "version_minor": 0,
              "model_id": "d1e6e74cd8d24558a2848c00934a6bae"
            }
          },
          "metadata": {}
        }
      ],
      "source": [
        "# HYPERPARAMETERS\n",
        "BATCH_SIZE = 32\n",
        "EPOCH_NUM = 3\n",
        "model_name = 'distilbert-base-uncased-finetuned-sst-2-english'\n",
        "device = torch.device('mps') if torch.backends.mps.is_available() else torch.device('cuda') if torch.cuda.is_available() else torch.device('cpu')\n",
        "print(device)\n",
        "!nvidia-smi -L\n",
        "\n",
        "tokenizer = AutoTokenizer.from_pretrained(model_name)"
      ]
    },
    {
      "cell_type": "code",
      "execution_count": null,
      "metadata": {
        "id": "M-5V7ql7rDHL"
      },
      "outputs": [],
      "source": [
        "multiclass_model = AutoModelForSequenceClassification.from_pretrained(os.path.join(data_root, 'multiclass_transformer')).to(device)"
      ]
    },
    {
      "cell_type": "code",
      "execution_count": null,
      "metadata": {
        "colab": {
          "base_uri": "https://localhost:8080/",
          "height": 964
        },
        "id": "IpiOMgLGyxq6",
        "outputId": "e0dbc966-4e00-4783-8382-6e6d64b830f4"
      },
      "outputs": [
        {
          "output_type": "stream",
          "name": "stdout",
          "text": [
            "Looking in indexes: https://pypi.org/simple, https://us-python.pkg.dev/colab-wheels/public/simple/\n",
            "Collecting bertviz\n",
            "  Downloading bertviz-1.4.0-py3-none-any.whl (157 kB)\n",
            "\u001b[K     |████████████████████████████████| 157 kB 17.8 MB/s \n",
            "\u001b[?25hCollecting sentencepiece\n",
            "  Downloading sentencepiece-0.1.97-cp38-cp38-manylinux_2_17_x86_64.manylinux2014_x86_64.whl (1.3 MB)\n",
            "\u001b[K     |████████████████████████████████| 1.3 MB 40.4 MB/s \n",
            "\u001b[?25hRequirement already satisfied: requests in /usr/local/lib/python3.8/dist-packages (from bertviz) (2.23.0)\n",
            "Collecting boto3\n",
            "  Downloading boto3-1.26.25-py3-none-any.whl (132 kB)\n",
            "\u001b[K     |████████████████████████████████| 132 kB 57.0 MB/s \n",
            "\u001b[?25hRequirement already satisfied: tqdm in /usr/local/lib/python3.8/dist-packages (from bertviz) (4.64.1)\n",
            "Requirement already satisfied: torch>=1.0 in /usr/local/lib/python3.8/dist-packages (from bertviz) (1.13.0+cu116)\n",
            "Requirement already satisfied: transformers>=2.0 in /usr/local/lib/python3.8/dist-packages (from bertviz) (4.25.1)\n",
            "Requirement already satisfied: regex in /usr/local/lib/python3.8/dist-packages (from bertviz) (2022.6.2)\n",
            "Requirement already satisfied: typing-extensions in /usr/local/lib/python3.8/dist-packages (from torch>=1.0->bertviz) (4.4.0)\n",
            "Requirement already satisfied: packaging>=20.0 in /usr/local/lib/python3.8/dist-packages (from transformers>=2.0->bertviz) (21.3)\n",
            "Requirement already satisfied: huggingface-hub<1.0,>=0.10.0 in /usr/local/lib/python3.8/dist-packages (from transformers>=2.0->bertviz) (0.11.1)\n",
            "Requirement already satisfied: pyyaml>=5.1 in /usr/local/lib/python3.8/dist-packages (from transformers>=2.0->bertviz) (6.0)\n",
            "Requirement already satisfied: tokenizers!=0.11.3,<0.14,>=0.11.1 in /usr/local/lib/python3.8/dist-packages (from transformers>=2.0->bertviz) (0.13.2)\n",
            "Requirement already satisfied: filelock in /usr/local/lib/python3.8/dist-packages (from transformers>=2.0->bertviz) (3.8.0)\n",
            "Requirement already satisfied: numpy>=1.17 in /usr/local/lib/python3.8/dist-packages (from transformers>=2.0->bertviz) (1.21.6)\n",
            "Requirement already satisfied: pyparsing!=3.0.5,>=2.0.2 in /usr/local/lib/python3.8/dist-packages (from packaging>=20.0->transformers>=2.0->bertviz) (3.0.9)\n",
            "Collecting s3transfer<0.7.0,>=0.6.0\n",
            "  Downloading s3transfer-0.6.0-py3-none-any.whl (79 kB)\n",
            "\u001b[K     |████████████████████████████████| 79 kB 5.0 MB/s \n",
            "\u001b[?25hCollecting botocore<1.30.0,>=1.29.25\n",
            "  Downloading botocore-1.29.25-py3-none-any.whl (10.2 MB)\n",
            "\u001b[K     |████████████████████████████████| 10.2 MB 65.7 MB/s \n",
            "\u001b[?25hCollecting jmespath<2.0.0,>=0.7.1\n",
            "  Downloading jmespath-1.0.1-py3-none-any.whl (20 kB)\n",
            "Collecting urllib3<1.27,>=1.25.4\n",
            "  Downloading urllib3-1.26.13-py2.py3-none-any.whl (140 kB)\n",
            "\u001b[K     |████████████████████████████████| 140 kB 66.8 MB/s \n",
            "\u001b[?25hRequirement already satisfied: python-dateutil<3.0.0,>=2.1 in /usr/local/lib/python3.8/dist-packages (from botocore<1.30.0,>=1.29.25->boto3->bertviz) (2.8.2)\n",
            "Requirement already satisfied: six>=1.5 in /usr/local/lib/python3.8/dist-packages (from python-dateutil<3.0.0,>=2.1->botocore<1.30.0,>=1.29.25->boto3->bertviz) (1.15.0)\n",
            "  Downloading urllib3-1.25.11-py2.py3-none-any.whl (127 kB)\n",
            "\u001b[K     |████████████████████████████████| 127 kB 65.3 MB/s \n",
            "\u001b[?25hRequirement already satisfied: chardet<4,>=3.0.2 in /usr/local/lib/python3.8/dist-packages (from requests->bertviz) (3.0.4)\n",
            "Requirement already satisfied: idna<3,>=2.5 in /usr/local/lib/python3.8/dist-packages (from requests->bertviz) (2.10)\n",
            "Requirement already satisfied: certifi>=2017.4.17 in /usr/local/lib/python3.8/dist-packages (from requests->bertviz) (2022.9.24)\n",
            "Installing collected packages: urllib3, jmespath, botocore, s3transfer, sentencepiece, boto3, bertviz\n",
            "  Attempting uninstall: urllib3\n",
            "    Found existing installation: urllib3 1.24.3\n",
            "    Uninstalling urllib3-1.24.3:\n",
            "      Successfully uninstalled urllib3-1.24.3\n",
            "Successfully installed bertviz-1.4.0 boto3-1.26.25 botocore-1.29.25 jmespath-1.0.1 s3transfer-0.6.0 sentencepiece-0.1.97 urllib3-1.25.11\n"
          ]
        },
        {
          "output_type": "display_data",
          "data": {
            "application/vnd.colab-display-data+json": {
              "pip_warning": {
                "packages": [
                  "urllib3"
                ]
              }
            }
          },
          "metadata": {}
        }
      ],
      "source": [
        "!pip install bertviz"
      ]
    },
    {
      "cell_type": "code",
      "execution_count": null,
      "metadata": {
        "colab": {
          "base_uri": "https://localhost:8080/"
        },
        "id": "WcKUE0tzzBiP",
        "outputId": "45225b9f-54a8-4dd8-a62e-40f125c2eeac"
      },
      "outputs": [
        {
          "output_type": "execute_result",
          "data": {
            "text/plain": [
              "tensor([[0.0540, 0.9140, 0.0330]], device='cuda:0', grad_fn=<RoundBackward1>)"
            ]
          },
          "metadata": {},
          "execution_count": 29
        }
      ],
      "source": [
        "# Load model and retrieve attention weights\n",
        "\n",
        "from bertviz import head_view, model_view\n",
        "\n",
        "model = multiclass_model\n",
        "# sentence_a = \"I hate the quarantine and I am depressed\"\n",
        "sentence_a = \"I have the freshman plague\" \n",
        "# sentence_a = \"I think covid is great for the society.\"\n",
        "# sentence_a = \"we wish a grand success for supreme hero for solobrathukesobetter release first major theatrical release post lockdown watch the movie only in theatre celebratecinema\"\n",
        "\n",
        "inputs = tokenizer.encode_plus(sentence_a, return_tensors='pt')\n",
        "\n",
        "input_ids = inputs['input_ids'].to(device)\n",
        "att_mask = inputs['attention_mask'].to(device)\n",
        "\n",
        "out = model(input_ids, attention_mask=att_mask)\n",
        "attention = out['attentions']\n",
        "tokens = tokenizer.convert_ids_to_tokens(input_ids[0]) \n",
        "\n",
        "m = nn.Softmax(dim=1)\n",
        "torch.round(m(out['logits']), decimals=3)"
      ]
    },
    {
      "cell_type": "code",
      "execution_count": null,
      "metadata": {
        "colab": {
          "base_uri": "https://localhost:8080/"
        },
        "id": "geieDPUYhHkF",
        "outputId": "817f8cfe-faf5-4992-f5ad-1483aca00ab4"
      },
      "outputs": [
        {
          "output_type": "execute_result",
          "data": {
            "text/plain": [
              "array([0, 1, 2])"
            ]
          },
          "metadata": {},
          "execution_count": 30
        }
      ],
      "source": [
        "np.arange(3)"
      ]
    },
    {
      "cell_type": "code",
      "execution_count": null,
      "metadata": {
        "colab": {
          "base_uri": "https://localhost:8080/",
          "height": 265
        },
        "id": "ciaACUdSg8vR",
        "outputId": "568f68c3-6fa4-431f-bfa4-4794a1f04a53"
      },
      "outputs": [
        {
          "output_type": "display_data",
          "data": {
            "text/plain": [
              "<Figure size 432x288 with 1 Axes>"
            ],
            "image/png": "[encoded data removed]"
          },
          "metadata": {
            "needs_background": "light"
          }
        }
      ],
      "source": [
        "prediction = m(out['logits']).detach().cpu() \n",
        "prediction = prediction.squeeze().numpy() \n",
        "bar = plt.bar([\"Negative\", \"Neutral\", \"Positive\"] , prediction)\n"
      ]
    },
    {
      "cell_type": "code",
      "execution_count": null,
      "metadata": {
        "colab": {
          "base_uri": "https://localhost:8080/",
          "height": 228
        },
        "id": "nrVyH9QWfZPF",
        "outputId": "ba1d2b96-9a45-463e-8500-5cc5bf384646"
      },
      "outputs": [
        {
          "output_type": "display_data",
          "data": {
            "text/plain": [
              "<IPython.core.display.HTML object>"
            ],
            "text/html": [
              "<script src=\"https://cdnjs.cloudflare.com/ajax/libs/require.js/2.3.6/require.min.js\"></script>"
            ]
          },
          "metadata": {}
        },
        {
          "output_type": "display_data",
          "data": {
            "text/plain": [
              "<IPython.core.display.HTML object>"
            ],
            "text/html": [
              "      \n",
              "        <div id=\"bertviz-78f5c57de0124912b42b3e6309e7b6e0\" style=\"font-family:'Helvetica Neue', Helvetica, Arial, sans-serif;\">\n",
              "            <span style=\"user-select:none\">\n",
              "                Layer: <select id=\"layer\"></select>\n",
              "                \n",
              "            </span>\n",
              "            <div id='vis'></div>\n",
              "        </div>\n",
              "    "
            ]
          },
          "metadata": {}
        },
        {
          "output_type": "display_data",
          "data": {
            "text/plain": [
              "<IPython.core.display.Javascript object>"
            ],
            "application/javascript": [
              "/**\n",
              " * @fileoverview Transformer Visualization D3 javascript code.\n",
              " *\n",
              " *\n",
              " *  Based on: https://github.com/tensorflow/tensor2tensor/blob/master/tensor2tensor/visualization/attention.js\n",
              " *\n",
              " * Change log:\n",
              " *\n",
              " * 12/19/18  Jesse Vig   Assorted cleanup. Changed orientation of attention matrices.\n",
              " * 12/29/20  Jesse Vig   Significant refactor.\n",
              " * 12/31/20  Jesse Vig   Support multiple visualizations in single notebook.\n",
              " * 02/06/21  Jesse Vig   Move require config from separate jupyter notebook step\n",
              " * 05/03/21  Jesse Vig   Adjust height of visualization dynamically\n",
              " * 07/25/21  Jesse Vig   Support layer filtering\n",
              " * 03/23/22  Daniel SC   Update requirement URLs for d3 and jQuery (source of bug not allowing end result to be displayed on browsers)\n",
              " **/\n",
              "\n",
              "require.config({\n",
              "  paths: {\n",
              "      d3: 'https://cdnjs.cloudflare.com/ajax/libs/d3/5.7.0/d3.min',\n",
              "    jquery: 'https://cdnjs.cloudflare.com/ajax/libs/jquery/2.0.0/jquery.min',\n",
              "  }\n",
              "});\n",
              "\n",
              "requirejs(['jquery', 'd3'], function ($, d3) {\n",
              "\n",
              "    const params = {\"attention\": [{\"name\": null, \"attn\": [[[[0.14585931599140167, 0.07302606105804443, 0.07639016211032867, 0.12473158538341522, 0.07730850577354431, 0.12632885575294495, 0.37635552883148193], [0.29875412583351135, 0.09628649801015854, 0.04753683879971504, 0.02239958941936493, 0.2534469664096832, 0.2330484837293625, 0.04852752014994621], [0.34410157799720764, 0.18112029135227203, 0.05674855411052704, 0.037401266396045685, 0.14360105991363525, 0.08228566497564316, 0.154741570353508], [0.5081222653388977, 0.1208985447883606, 0.06598587334156036, 0.08116711676120758, 0.07608018070459366, 0.08521250635385513, 0.06253352016210556], [0.22429159283638, 0.11149190366268158, 0.19282959401607513, 0.06877623498439789, 0.1749097853899002, 0.07648009061813354, 0.15122084319591522], [0.16814564168453217, 0.10308029502630234, 0.15738283097743988, 0.025341151282191277, 0.3103429973125458, 0.09767961502075195, 0.13802745938301086], [0.4216024577617645, 0.07304450869560242, 0.06911743432283401, 0.11395289748907089, 0.04315070062875748, 0.06343787908554077, 0.2156941294670105]], [[0.9928650856018066, 0.0010770384687930346, 0.0005117969121783972, 0.002773751737549901, 0.0003891385276801884, 0.00048338586930185556, 0.001899753580801189], [0.006385355722159147, 0.0426609069108963, 0.047836076468229294, 0.009728902950882912, 0.5470901131629944, 0.24519717693328857, 0.10110142081975937], [0.013774560764431953, 0.02845969796180725, 0.02327391691505909, 0.0293443500995636, 0.3580226004123688, 0.4823252260684967, 0.06479955464601517], [0.031317487359046936, 0.13175475597381592, 0.27518653869628906, 0.10290440917015076, 0.14486348628997803, 0.24664831161499023, 0.06732506304979324], [0.050595249980688095, 0.024251459166407585, 0.048780135810375214, 0.02199966087937355, 0.4221353530883789, 0.23480364680290222, 0.1974344402551651], [0.007027801591902971, 0.06209796667098999, 0.044388994574546814, 0.05833413451910019, 0.13884422183036804, 0.15135741233825684, 0.5379494428634644], [0.028099574148654938, 0.26244938373565674, 0.0500415563583374, 0.45823073387145996, 0.03574712201952934, 0.06130171939730644, 0.10412987321615219]], [[0.9064294099807739, 0.00398712744936347, 0.006233170162886381, 0.0067415121011435986, 0.013852282427251339, 0.006693366449326277, 0.056063100695610046], [0.9926846027374268, 0.0009056688868440688, 0.00048057344974949956, 0.00015462150622624904, 7.148927397793159e-05, 0.0011572213843464851, 0.004545785952359438], [0.4734840989112854, 0.47785505652427673, 0.0034690191969275475, 0.00019416834402363747, 0.0032946267165243626, 0.0001049790735123679, 0.04159800708293915], [0.27130424976348877, 0.0008679214515723288, 0.7004011273384094, 0.006492865737527609, 0.006845415104180574, 0.008073966950178146, 0.006014453712850809], [0.9483783841133118, 2.006682007049676e-05, 9.259118814952672e-05, 0.042810384184122086, 0.0003976056759711355, 0.0002621822350192815, 0.008038733154535294], [0.9802765846252441, 1.5915684343781322e-05, 1.1579414604057092e-05, 0.0005902877310290933, 0.015757551416754723, 9.688919817563146e-05, 0.0032511032186448574], [0.8082399964332581, 7.217595702968538e-05, 0.0007381315226666629, 0.0005924170836806297, 0.0007292538648471236, 0.08415910601615906, 0.10546895861625671]], [[0.7541858553886414, 0.02163849025964737, 0.023793404921889305, 0.027472278103232384, 0.02552243135869503, 0.029666703194379807, 0.11772085726261139], [0.8978419899940491, 0.020824842154979706, 0.0014527919702231884, 0.0022182364482432604, 0.003314974019303918, 0.003484820481389761, 0.07086231559515], [0.14004652202129364, 0.7395550012588501, 0.010646600276231766, 0.0027492947410792112, 0.019061505794525146, 0.009931860491633415, 0.07800914347171783], [0.08346492797136307, 0.0798456147313118, 0.7079998850822449, 0.03531123325228691, 0.03786861523985863, 0.035840053111314774, 0.019669674336910248], [0.5805392861366272, 0.03223538026213646, 0.11309559643268585, 0.12113698571920395, 0.05439947918057442, 0.02332613430917263, 0.07526718080043793], [0.3260827660560608, 0.010469400323927402, 0.03226277232170105, 0.1558370292186737, 0.3460235893726349, 0.0819612666964531, 0.04736318811774254], [0.12922169268131256, 0.005672635976225138, 0.016520904377102852, 0.018475478515028954, 0.025619160383939743, 0.12979835271835327, 0.6746917963027954]], [[0.45125117897987366, 0.1062847301363945, 0.08787135779857635, 0.06585829704999924, 0.12005169689655304, 0.1377575397491455, 0.030925121158361435], [0.31677985191345215, 0.007332810666412115, 0.17727184295654297, 0.09617550671100616, 0.1237257570028305, 0.1286287009716034, 0.15008556842803955], [0.43172284960746765, 0.05021650344133377, 0.09474462270736694, 0.05315046384930611, 0.25331911444664, 0.08969397842884064, 0.027152469381690025], [0.1994677037000656, 0.1585482507944107, 0.059578996151685715, 0.1727733165025711, 0.1579332798719406, 0.1328883022069931, 0.11881010979413986], [0.7841795086860657, 0.013768351636826992, 0.020683983340859413, 0.020475465804338455, 0.0018952798563987017, 0.14825637638568878, 0.010741015896201134], [0.5923764109611511, 0.05146683752536774, 0.03130984678864479, 0.03138432279229164, 0.28312551975250244, 0.0020603954326361418, 0.008276695385575294], [0.004189720377326012, 0.0023079728707671165, 0.001537686213850975, 0.004125160165131092, 0.004269161727279425, 0.004715634044259787, 0.9788546562194824]], [[0.6577634811401367, 0.036433443427085876, 0.07074495404958725, 0.07611630856990814, 0.030975772067904472, 0.07539094239473343, 0.052575137466192245], [0.7379980087280273, 0.026785828173160553, 0.048854004591703415, 0.019020071253180504, 0.04702256992459297, 0.012212018482387066, 0.10810743272304535], [0.07176852226257324, 0.012195942923426628, 0.02003657817840576, 0.007868225686252117, 0.3119683265686035, 0.45425543189048767, 0.12190703302621841], [0.5707876682281494, 0.022834036499261856, 0.028097786009311676, 0.025290073826909065, 0.1611069291830063, 0.0670616403222084, 0.12482181191444397], [0.5149634480476379, 0.03157384321093559, 0.053652841597795486, 0.07181808352470398, 0.05523314327001572, 0.019988395273685455, 0.2527703046798706], [0.3701399564743042, 0.028838936239480972, 0.03433622419834137, 0.03390032425522804, 0.12194613367319107, 0.14011244475841522, 0.2707260251045227], [0.4571232795715332, 0.026884453371167183, 0.12049125880002975, 0.04419797286391258, 0.09245504438877106, 0.10251378268003464, 0.15633423626422882]], [[0.2559482455253601, 0.00021742303215432912, 0.0007080483483150601, 0.7395803332328796, 0.0008446110878139734, 0.0006480692536570132, 0.0020532046910375357], [0.10297700017690659, 0.06626159697771072, 0.06355256587266922, 0.015162256546318531, 0.4815109968185425, 0.12526021897792816, 0.14527538418769836], [0.09139510989189148, 0.4014699161052704, 0.08463181555271149, 0.003582598641514778, 0.18894410133361816, 0.11663873493671417, 0.11333775520324707], [0.025576679036021233, 0.26395946741104126, 0.11001884192228317, 0.0016925303498283029, 0.2915908992290497, 0.139108344912529, 0.1680532693862915], [0.5350507497787476, 0.03944344073534012, 0.033685702830553055, 0.0025131432339549065, 0.22107937932014465, 0.08818858861923218, 0.08003906160593033], [0.14106808602809906, 0.18554355204105377, 0.0766596570611, 0.0007594499038532376, 0.20980265736579895, 0.2725464105606079, 0.11362020671367645], [0.8607815504074097, 0.0290767103433609, 0.016291294246912003, 0.018963001668453217, 0.03162014111876488, 0.01550578884780407, 0.02776160091161728]], [[0.3103969097137451, 0.1468508243560791, 0.08168201893568039, 0.031314365565776825, 0.084737628698349, 0.1416887640953064, 0.20332951843738556], [0.682360053062439, 0.14791239798069, 0.02599984221160412, 0.012254903092980385, 0.019276350736618042, 0.016025999560952187, 0.09617055952548981], [0.6969309449195862, 0.06391029059886932, 0.029371270909905434, 0.023469625040888786, 0.023595158010721207, 0.012409861199557781, 0.15031279623508453], [0.8201791644096375, 0.03732391446828842, 0.011351956985890865, 0.011923769488930702, 0.005620327778160572, 0.005822361446917057, 0.10777853429317474], [0.2683725655078888, 0.029238052666187286, 0.1292867809534073, 0.015289974398911, 0.10811737179756165, 0.29367560148239136, 0.1560196429491043], [0.8781864047050476, 0.003663623007014394, 0.026548221707344055, 0.0027760835364460945, 0.045963577926158905, 0.025296488776803017, 0.0175656508654356], [0.21023514866828918, 0.12994886934757233, 0.04991674795746803, 0.4941284954547882, 0.033790867775678635, 0.050518330186605453, 0.03146158531308174]], [[0.6846341490745544, 0.05374348163604736, 0.04702654853463173, 0.048191070556640625, 0.05246284604072571, 0.0595434345304966, 0.05439842492341995], [0.09843060374259949, 0.012491824105381966, 0.10499350726604462, 0.24602141976356506, 0.16267044842243195, 0.18753603100776672, 0.18785615265369415], [0.05010509863495827, 0.007251214701682329, 0.011359711177647114, 0.07459252327680588, 0.44948136806488037, 0.22275221347808838, 0.1844578981399536], [0.021745257079601288, 0.0079955430701375, 0.023592792451381683, 0.019260568544268608, 0.16797880828380585, 0.4653569459915161, 0.2940700352191925], [0.7004765272140503, 0.005916736554354429, 0.0075942701660096645, 0.011025508865714073, 0.042634863406419754, 0.11129105091094971, 0.12106101214885712], [0.7505694627761841, 0.014713727869093418, 0.019179314374923706, 0.012419268488883972, 0.056364502757787704, 0.06086718291044235, 0.08588650822639465], [0.5712417364120483, 0.03881651535630226, 0.062347546219825745, 0.10107617825269699, 0.060495149344205856, 0.11775580048561096, 0.04826710373163223]], [[0.7245020866394043, 0.02024746499955654, 0.015133621171116829, 0.055556122213602066, 0.005163839086890221, 0.007489180192351341, 0.17190773785114288], [0.9092499017715454, 0.03731521964073181, 0.0008998432313092053, 0.004657201934605837, 0.0028386502526700497, 0.0034222505055367947, 0.041616812348365784], [0.9469164609909058, 0.00384551496244967, 0.00521814776584506, 0.0030158688314259052, 0.009461170993745327, 0.0025349885690957308, 0.02900785207748413], [0.9800717830657959, 0.0011567152105271816, 0.0010342206805944443, 0.0004778030270244926, 0.0009314424241892993, 0.0009083825279958546, 0.01541970856487751], [0.3100013732910156, 0.0037623627576977015, 0.002514844061806798, 0.004162713419646025, 0.6458115577697754, 0.0048509277403354645, 0.028896214440464973], [0.5737954378128052, 0.003777662292122841, 0.0038429086562246084, 0.003833469934761524, 0.007151671685278416, 0.3892173767089844, 0.018381468951702118], [0.8533321022987366, 0.02333655022084713, 0.03391002118587494, 0.036585334688425064, 0.0037441716995090246, 0.004620393738150597, 0.044471375644207]], [[0.7361360788345337, 0.03555281460285187, 0.0245811864733696, 0.040741924196481705, 0.041551124304533005, 0.04612293839454651, 0.07531396299600601], [0.15272164344787598, 0.005351325497031212, 0.7607570886611938, 0.00767490454018116, 0.03314099460840225, 0.036445409059524536, 0.003908657934516668], [0.6969485282897949, 0.002657124539837241, 0.0004889428964816034, 0.2872990071773529, 0.006337342318147421, 0.0017997591057792306, 0.004469296894967556], [0.07290446013212204, 0.0007728355121798813, 0.00034567018155939877, 0.007747845724225044, 0.7171916961669922, 0.1967475414276123, 0.004289982374757528], [0.696721613407135, 0.0011460172245278955, 0.000793898303527385, 0.00426778057590127, 0.05150753632187843, 0.22536398470401764, 0.020199066027998924], [0.49032604694366455, 0.003724091686308384, 0.00021859948174096644, 0.0065815201960504055, 0.0012970675015822053, 0.021611308678984642, 0.4762413799762726], [0.9197266697883606, 0.0018580821342766285, 0.0035603682044893503, 0.0014970359625294805, 0.009854741394519806, 0.008228854276239872, 0.055274203419685364]], [[0.7884784936904907, 0.015380505472421646, 0.008807881735265255, 0.031014559790492058, 0.015073985792696476, 0.02284235507249832, 0.11840217560529709], [0.3146240711212158, 0.028815895318984985, 0.2194984406232834, 0.1096595898270607, 0.08786457031965256, 0.13413245975971222, 0.10540500283241272], [0.5579685568809509, 0.13547153770923615, 0.013004286214709282, 0.09378109872341156, 0.06722286343574524, 0.057809017598629, 0.0747426450252533], [0.6486228108406067, 0.042467374354600906, 0.023455685004591942, 0.04812118411064148, 0.06727850437164307, 0.07762690633535385, 0.09242749214172363], [0.6688055396080017, 0.03616463020443916, 0.004328626208007336, 0.09827017784118652, 0.012824577279388905, 0.04382394999265671, 0.13578249514102936], [0.9061171412467957, 0.0009448532364331186, 0.0010064747184515, 0.009797219187021255, 0.025758972391486168, 0.01212067250162363, 0.04425457492470741], [0.47304433584213257, 0.03450002148747444, 0.05018695816397667, 0.08857163786888123, 0.032324858009815216, 0.10195096582174301, 0.21942122280597687]]], [[[0.985056459903717, 0.0014408431015908718, 0.0005895842332392931, 0.0007335307309404016, 0.0077371965162456036, 0.0015158295864239335, 0.0029265580233186483], [3.557777574769716e-07, 2.2426878842907172e-07, 0.9999994039535522, 4.9515758604457005e-08, 1.3156221667642853e-09, 6.532063334674376e-09, 2.2783968489648032e-08], [2.405507302682963e-06, 3.807878101724782e-08, 8.35926350362115e-09, 0.9999961853027344, 1.1838174174272353e-07, 1.6998777385701658e-10, 1.326461983808258e-06], [2.6119546419067774e-06, 7.819474490133871e-08, 3.5806837495044874e-09, 1.3940339158580173e-06, 0.9999884366989136, 1.5511994888584013e-06, 5.9301924011379015e-06], [2.0604934434231836e-06, 1.3693498779332458e-08, 1.4939693926407926e-07, 1.4832488126614862e-08, 2.0779825149475073e-07, 0.9999728202819824, 2.4820768885547295e-05], [1.3493678125087172e-05, 3.175726533299894e-06, 6.430426191528227e-10, 2.6438683562446386e-06, 2.170424284742012e-09, 5.5356767916237e-06, 0.9999752044677734], [0.8588605523109436, 0.004240427166223526, 0.01404494233429432, 0.0008773867739364505, 0.011061018332839012, 0.0001793586852727458, 0.11073634773492813]], [[0.6267945170402527, 0.01337734330445528, 0.04069448634982109, 0.05258685722947121, 0.021010490134358406, 0.02374251000583172, 0.22179371118545532], [0.33102747797966003, 0.03978442773222923, 0.37408530712127686, 0.040437959134578705, 0.0007134907064028084, 0.004840797279030085, 0.20911052823066711], [0.23004761338233948, 0.5601721405982971, 0.003471770090982318, 0.01673213765025139, 0.00990013126283884, 0.0022861177567392588, 0.17739006876945496], [0.1431587040424347, 0.05911621078848839, 0.32627055048942566, 0.04727872833609581, 0.018149087205529213, 0.2812194228172302, 0.12480726838111877], [0.4893248677253723, 0.019448643550276756, 0.013682284392416477, 0.14074364304542542, 0.004121908452361822, 0.03370155021548271, 0.29897716641426086], [0.42136305570602417, 0.01678074151277542, 0.035583335906267166, 0.15373998880386353, 0.025167476385831833, 0.0024508675560355186, 0.3449145555496216], [0.7339270710945129, 0.01063457503914833, 0.023198144510388374, 0.023637080565094948, 0.019010476768016815, 0.007760660722851753, 0.1818319857120514]], [[0.6067094206809998, 0.010309671983122826, 0.03504243120551109, 0.00308835506439209, 0.014675332233309746, 0.01899949461221695, 0.3111753463745117], [0.5107582211494446, 0.057569362223148346, 0.014316185377538204, 0.015777239575982094, 0.02984956093132496, 0.016308920457959175, 0.3554205298423767], [0.8099672198295593, 0.006154919508844614, 0.010096377693116665, 0.0028824673499912024, 0.01666170358657837, 0.004607487935572863, 0.14962981641292572], [0.6743955016136169, 0.0289012361317873, 0.02446039579808712, 0.013684798963367939, 0.02997729741036892, 0.012884190306067467, 0.2156965285539627], [0.11761099100112915, 0.10322082042694092, 0.15434856712818146, 0.02493286319077015, 0.1253308206796646, 0.2119256854057312, 0.2626302242279053], [0.5683960318565369, 0.052553415298461914, 0.03823420777916908, 0.058023422956466675, 0.07041610777378082, 0.015932919457554817, 0.1964438557624817], [0.4626033306121826, 0.0370001383125782, 0.053313981741666794, 0.10905493050813675, 0.02019055001437664, 0.038804225623607635, 0.2790328562259674]], [[0.7014880776405334, 0.037322863936424255, 0.028072599321603775, 0.011859370395541191, 0.03669781610369682, 0.0407625287771225, 0.14379669725894928], [0.3227785527706146, 0.0065739392302930355, 0.015484730713069439, 0.022158056497573853, 0.007534374482929707, 0.027076955884695053, 0.5983933806419373], [0.5577903389930725, 0.019117694348096848, 0.014524591155350208, 0.02962525561451912, 0.05604000389575958, 0.06401356309652328, 0.2588885426521301], [0.6280235052108765, 0.05811355262994766, 0.040835216641426086, 0.018966680392622948, 0.04130689799785614, 0.028614839538931847, 0.18413925170898438], [0.30515411496162415, 0.03163330629467964, 0.07259580492973328, 0.1796751320362091, 0.000555689272005111, 0.1586262285709381, 0.25175973773002625], [0.4141704738140106, 0.02940480224788189, 0.019004767760634422, 0.02182297594845295, 0.3893004059791565, 0.0006004328606650233, 0.1256961226463318], [0.9411020278930664, 0.002074174117296934, 0.004392566159367561, 0.003954550717025995, 0.004125147592276335, 0.00837322510778904, 0.0359782949090004]], [[0.9163492918014526, 0.01378915086388588, 0.014820116572082043, 0.01550160814076662, 0.013699344359338284, 0.02309795655310154, 0.0027424634899944067], [0.6261669993400574, 0.01829150691628456, 0.19404862821102142, 0.02441108413040638, 0.05621037259697914, 0.025602957233786583, 0.05526842176914215], [0.7586625814437866, 0.09973921626806259, 0.018061703070998192, 0.03512493520975113, 0.0636523887515068, 0.017114978283643723, 0.007644210942089558], [0.3594350814819336, 0.27218466997146606, 0.06177140027284622, 0.19125862419605255, 0.04685534909367561, 0.027718987315893173, 0.04077586904168129], [0.8251394629478455, 0.04520013555884361, 0.012595487758517265, 0.042425088584423065, 0.036003172397613525, 0.0258759967982769, 0.012760614976286888], [0.6601506471633911, 0.03763087838888168, 0.05009746178984642, 0.06315473467111588, 0.15614184737205505, 0.014535965397953987, 0.01828845404088497], [0.00544083584100008, 5.220114690018818e-05, 0.0003589258703868836, 0.0029874001629650593, 2.875075733754784e-05, 0.00025772149092517793, 0.9908740520477295]], [[0.5979452133178711, 0.029565881937742233, 0.07720346748828888, 0.091805100440979, 0.05841924995183945, 0.0684506967663765, 0.07661044597625732], [0.4043574631214142, 0.18543663620948792, 0.08186045289039612, 0.08900368958711624, 0.021194741129875183, 0.008247620426118374, 0.2098993957042694], [0.5384457111358643, 0.053210437297821045, 0.04217991977930069, 0.11936280131340027, 0.013117671944200993, 0.007147455122321844, 0.22653602063655853], [0.2173214852809906, 0.09892340004444122, 0.027587562799453735, 0.09962940216064453, 0.03618977218866348, 0.028003228828310966, 0.4923451542854309], [0.6229141354560852, 0.017946060746908188, 0.023338772356510162, 0.07906484603881836, 0.01943514496088028, 0.009945533238351345, 0.22735540568828583], [0.8380599617958069, 0.016035854816436768, 0.005372137296944857, 0.07611576467752457, 0.0015532064717262983, 0.004522977862507105, 0.05834004282951355], [0.7111034989356995, 0.008712098933756351, 0.01619146764278412, 0.023530350998044014, 0.0129911620169878, 0.01580200530588627, 0.21166937053203583]], [[0.18513154983520508, 0.053560949862003326, 0.09094435721635818, 0.16833294928073883, 0.0424967035651207, 0.06660781800746918, 0.3929256498813629], [0.06245934218168259, 0.7683767080307007, 0.00039309693966060877, 0.0013040340272709727, 0.0006523450720123947, 0.00011860118684126064, 0.16669578850269318], [0.17250727117061615, 0.0008054510690271854, 0.4656783640384674, 0.004818743094801903, 0.00042746233521029353, 0.0009261962259188294, 0.35483646392822266], [0.021801693364977837, 0.00034526945091784, 0.001108047435991466, 0.9180059432983398, 7.358573202509433e-05, 0.00233001122251153, 0.0563354566693306], [0.01894494704902172, 0.00022453216661233455, 0.00014028584701009095, 0.0005415233317762613, 0.9598988890647888, 6.424009916372597e-05, 0.02018556371331215], [0.029268978163599968, 2.0516798031167127e-05, 0.0001891894789878279, 0.005839451681822538, 5.927075835643336e-05, 0.9409068822860718, 0.02371574193239212], [0.19360429048538208, 0.08274529874324799, 0.14880259335041046, 0.1266433745622635, 0.04935918748378754, 0.06493298709392548, 0.3339122533798218]], [[0.7948936223983765, 0.03012421354651451, 0.038732144981622696, 0.014436823315918446, 0.03249528631567955, 0.029103143140673637, 0.060214705765247345], [0.3475186228752136, 0.2033781260251999, 0.06486359983682632, 0.09834843128919601, 0.026705684140324593, 0.03552834689617157, 0.22365719079971313], [0.5611793994903564, 0.16241711378097534, 0.0373896025121212, 0.03830964118242264, 0.05155469849705696, 0.024346426129341125, 0.12480306625366211], [0.2513645589351654, 0.3489347994327545, 0.19954931735992432, 0.04545710235834122, 0.03393341600894928, 0.031685613095760345, 0.08907516300678253], [0.5284667611122131, 0.11261065304279327, 0.10845369100570679, 0.030991697683930397, 0.0007356501300819218, 0.09901256114244461, 0.11972899734973907], [0.2309345155954361, 0.21778443455696106, 0.1288899928331375, 0.061257265508174896, 0.2357511818408966, 0.012384780682623386, 0.1129978597164154], [0.9358673691749573, 0.009671767242252827, 0.007841868326067924, 0.004800467751920223, 0.019100379198789597, 0.0075930021703243256, 0.015125170350074768]], [[0.9734523892402649, 0.012073635123670101, 0.003763930406421423, 0.0031613633036613464, 0.0027650503907352686, 0.0032508561853319407, 0.0015328136505559087], [0.1688120812177658, 0.6997395157814026, 0.04197990521788597, 0.004630006849765778, 0.017104441300034523, 0.03142496570944786, 0.036309171468019485], [0.7010592818260193, 0.2074863463640213, 0.013012755662202835, 0.006361979525536299, 0.019177019596099854, 0.033517222851514816, 0.01938537135720253], [0.41203010082244873, 0.00864544790238142, 0.013386206701397896, 0.3381035625934601, 0.025659937411546707, 0.16037492454051971, 0.04179979860782623], [0.6998004913330078, 0.10275983810424805, 0.06948436051607132, 0.012668384239077568, 0.017855163663625717, 0.08026805520057678, 0.017163759097456932], [0.7289060354232788, 0.0961805135011673, 0.006980294361710548, 0.13080281019210815, 0.023748962208628654, 0.005950576160103083, 0.007430686615407467], [0.00511113042011857, 0.0002931045601144433, 0.001059343689121306, 0.004367070272564888, 0.0002183400938520208, 5.068439349997789e-05, 0.9889003038406372]], [[0.7600611448287964, 0.002020136220380664, 0.0005084695876576006, 0.0007629190804436803, 0.00029887526761740446, 1.6623400370008312e-05, 0.23633185029029846], [4.5425278472066566e-07, 9.848544095802936e-07, 0.9999984502792358, 5.545208292545567e-09, 9.891488739199872e-10, 1.2685839045900593e-09, 1.007597703051033e-07], [7.007964086369611e-06, 6.948548048058001e-08, 1.6034046268487145e-07, 0.9999724626541138, 5.568776018094468e-08, 5.29013985395288e-12, 2.025059802690521e-05], [3.2406799164164113e-06, 4.9849028016524244e-08, 4.938102149409929e-10, 1.5665203534354077e-07, 0.9999935626983643, 4.914679152534518e-07, 2.502288907635375e-06], [4.3541407990232983e-07, 1.1193634907868955e-09, 2.9587434724476225e-08, 2.3798387704943025e-09, 2.7224904997069643e-08, 0.9999966621398926, 2.847217274393188e-06], [0.0008659124723635614, 3.574165020836517e-05, 2.030636769845273e-09, 8.5643705460825e-06, 1.9271282347688157e-09, 9.482252607995179e-06, 0.9990801811218262], [0.960979163646698, 0.001015886664390564, 0.008174123242497444, 0.0002007078001042828, 0.007948674261569977, 0.00015130698739085346, 0.021530089899897575]], [[0.6987394094467163, 0.029227575287222862, 0.023391330614686012, 0.015617134980857372, 0.07946799695491791, 0.056135211139917374, 0.09742125123739243], [0.03144076466560364, 0.9256547093391418, 0.016154900193214417, 0.006471296772360802, 0.009100313298404217, 0.0029382084030658007, 0.008239776827394962], [0.5520363450050354, 0.2883472740650177, 0.041133467108011246, 0.019749116152524948, 0.05141652002930641, 0.011838527396321297, 0.03547871485352516], [0.6868693232536316, 0.0756298378109932, 0.06846041232347488, 0.009949175640940666, 0.11997368931770325, 0.018906719982624054, 0.020210862159729004], [0.08013693243265152, 0.20979918539524078, 0.14823830127716064, 0.03641379252076149, 0.5002643465995789, 0.005598635878413916, 0.019548781216144562], [0.38505423069000244, 0.07807385921478271, 0.08724595606327057, 0.10728289932012558, 0.025732580572366714, 0.2407485395669937, 0.07586193829774857], [0.9764831066131592, 0.0013496821047738194, 0.002709572669118643, 0.0023492183536291122, 0.0008607243653386831, 0.004299568943679333, 0.011948106810450554]], [[0.7906399369239807, 0.008768774569034576, 0.015582659281790257, 0.024800332263112068, 0.004581201821565628, 0.008929600939154625, 0.1466975063085556], [0.16889996826648712, 0.08819611370563507, 0.31516313552856445, 0.20652854442596436, 0.053754355758428574, 0.049671512097120285, 0.11778626590967178], [0.16280533373355865, 0.08530983328819275, 0.02995029091835022, 0.2315554916858673, 0.08885926753282547, 0.29205408692359924, 0.10946562886238098], [0.08361721783876419, 0.04655612260103226, 0.015698732808232307, 0.025179490447044373, 0.050768278539180756, 0.4824173152446747, 0.29576292634010315], [0.4434986710548401, 0.01367797888815403, 0.05205053091049194, 0.036590419709682465, 0.014668618328869343, 0.15329381823539734, 0.2862200140953064], [0.7782698273658752, 0.004292966797947884, 0.017664778977632523, 0.027903733775019646, 0.0046833595260977745, 0.03917250409722328, 0.12801286578178406], [0.8925352692604065, 0.002653899136930704, 0.0057600801810622215, 0.018622074276208878, 0.0012788616586476564, 0.0034865224733948708, 0.07566320896148682]]], [[[0.050089284777641296, 0.0030106105841696262, 0.026333145797252655, 0.0016870402032509446, 0.08465155959129333, 0.17734363675117493, 0.6568846702575684], [0.00267928559333086, 0.0005459404201246798, 0.00676741823554039, 0.0008206231868825853, 0.025507500395178795, 0.011107395403087139, 0.9525717496871948], [0.023832062259316444, 0.027996333315968513, 0.04591021314263344, 0.10517080128192902, 0.1291804313659668, 0.3488638997077942, 0.3190462589263916], [0.007475229445844889, 0.0014911015750840306, 0.08048085123300552, 0.004552613012492657, 0.007235056255012751, 0.32978540658950806, 0.568979799747467], [0.009156246669590473, 0.0011992545332759619, 0.004580219276249409, 0.0006036873091943562, 0.0030921348370611668, 0.0010043848305940628, 0.9803640842437744], [0.0030160120222717524, 0.0016427497612312436, 0.0019193212501704693, 0.00021151386317797005, 0.00021799735259264708, 0.039394479244947433, 0.953597903251648], [0.00030131920357234776, 1.765682782206568e-07, 7.586348260701925e-08, 6.527325808747264e-07, 1.5364450973720523e-06, 8.388944934267784e-07, 0.9996954202651978]], [[0.05069448798894882, 0.16863621771335602, 0.1347249299287796, 0.04763063043355942, 0.14184653759002686, 0.42733603715896606, 0.029131170362234116], [0.03509017452597618, 0.17849253118038177, 0.18315903842449188, 0.2007351964712143, 0.03223800286650658, 0.2575076222419739, 0.1127774640917778], [0.24049527943134308, 0.16794905066490173, 0.049736157059669495, 0.21294403076171875, 0.10372896492481232, 0.09991833567619324, 0.1252281665802002], [0.029168397188186646, 0.18428568542003632, 0.17493019998073578, 0.28474730253219604, 0.06993390619754791, 0.22299599647521973, 0.03393852338194847], [0.06641583144664764, 0.0967196375131607, 0.19374492764472961, 0.3070578873157501, 0.06330253928899765, 0.013824617490172386, 0.25893452763557434], [0.5157846808433533, 0.045291073620319366, 0.057956989854574203, 0.13863754272460938, 0.03434258699417114, 0.07117118686437607, 0.13681593537330627], [0.00582166900858283, 0.00817391648888588, 0.02970028668642044, 0.004168334882706404, 0.007958449423313141, 0.0003493608965072781, 0.9438279867172241]], [[0.5583842992782593, 0.06995390355587006, 0.03687828406691551, 0.025291290134191513, 0.006760577671229839, 0.014935729093849659, 0.2877959609031677], [0.11456750333309174, 0.03877658024430275, 0.06899812817573547, 0.001958089880645275, 0.004318675957620144, 0.004914180375635624, 0.7664667963981628], [0.04572436586022377, 0.03054158203303814, 0.31606972217559814, 0.00887355487793684, 0.031132090836763382, 0.03083418868482113, 0.5368245244026184], [0.0733942985534668, 0.0346195288002491, 0.07147195935249329, 0.07474859058856964, 0.020049836486577988, 0.03887491300702095, 0.6868408918380737], [0.08343511819839478, 0.0224626362323761, 0.054353389889001846, 0.010058960877358913, 0.008334249258041382, 0.03748554736375809, 0.7838701605796814], [0.07988100498914719, 0.019357042387127876, 0.04088495299220085, 0.055189572274684906, 0.02764636091887951, 0.004231491591781378, 0.7728095650672913], [0.0003876705886796117, 3.7426045764732407e-06, 2.064067530227476e-06, 1.2451464499463327e-06, 7.566847216367023e-06, 1.346402427770954e-06, 0.9995964169502258]], [[0.005478495731949806, 0.0006743519334122539, 0.0019002747721970081, 0.0016975942999124527, 0.019271988421678543, 0.005151758901774883, 0.9658253788948059], [0.009912867099046707, 0.6749346256256104, 1.2173368304502219e-05, 3.364689837326296e-05, 0.00010446425585541874, 2.715075197556871e-06, 0.3149994909763336], [0.02622864954173565, 1.9061766579397954e-05, 0.5072479844093323, 9.565175423631445e-05, 9.38051744014956e-05, 4.666787572205067e-05, 0.4662681818008423], [0.017944809049367905, 1.1905984138138592e-05, 1.2598044122569263e-05, 0.6739220023155212, 4.638592145056464e-05, 3.806519089266658e-05, 0.30802419781684875], [0.02735850028693676, 3.984069189755246e-05, 3.6217511478753295e-06, 7.997486136446241e-06, 0.025263125076889992, 6.438678246922791e-05, 0.9472624659538269], [0.03992895781993866, 1.6599273067186004e-06, 4.935059678246034e-06, 2.022724220296368e-05, 8.119914855342358e-05, 0.04120111092925072, 0.9187619686126709], [3.921242750948295e-05, 2.1400971661478252e-07, 2.748266751950723e-07, 3.4501869095038273e-07, 6.092881221775315e-08, 9.69371694026222e-09, 0.9999599456787109]], [[0.04555855318903923, 0.08348722010850906, 0.11451748013496399, 0.009871364571154118, 0.20443017780780792, 0.2548188865184784, 0.28731632232666016], [0.02306748926639557, 0.07813291996717453, 0.5280327200889587, 0.013706037774682045, 0.021460415795445442, 0.051935043185949326, 0.28366538882255554], [0.011554190889000893, 0.16806970536708832, 0.33552423119544983, 0.027017654851078987, 0.1794881522655487, 0.07496267557144165, 0.20338335633277893], [0.05224965885281563, 0.08727401494979858, 0.24877242743968964, 0.05561913922429085, 0.1413755565881729, 0.061014074832201004, 0.35369518399238586], [0.007322514429688454, 0.029746176674962044, 0.08867865800857544, 0.026270190253853798, 0.024212315678596497, 0.017974261194467545, 0.8057959079742432], [0.03807580843567848, 0.009535493329167366, 0.04187881574034691, 0.027198296040296555, 0.06139382719993591, 0.05019066482782364, 0.7717270255088806], [0.001624344615265727, 0.00013706328172702342, 8.729039836907759e-05, 2.3352358766715042e-05, 0.0002165460173273459, 0.0003779000253416598, 0.9975334405899048]], [[0.00023922875698190182, 0.00030722562223672867, 0.0003608538245316595, 0.0005672922707162797, 0.00028810108778998256, 0.0003715698840096593, 0.9978657364845276], [0.03113269805908203, 0.006447639316320419, 0.09924555569887161, 0.06662686914205551, 0.1522403210401535, 0.03288079425692558, 0.6114261746406555], [0.07980263233184814, 0.004959160462021828, 0.014427682384848595, 0.03473928943276405, 0.2468917816877365, 0.4896913170814514, 0.12948817014694214], [0.003974949009716511, 0.004756461828947067, 0.0012125390348955989, 0.0004482090880628675, 0.007734213024377823, 0.9713981747627258, 0.010475418530404568], [0.0075206938199698925, 0.006453795824199915, 0.02855329029262066, 0.004109150264412165, 0.012706448324024677, 0.053142793476581573, 0.8875138759613037], [0.0026187454350292683, 7.995055057108402e-05, 0.0026765759103000164, 0.00265726656652987, 0.0011318278266116977, 0.0004631841438822448, 0.9903724193572998], [2.3782149582984857e-05, 2.6265384803991765e-05, 3.733811536221765e-05, 6.525397475343198e-05, 6.0640028095804155e-05, 3.413845843169838e-05, 0.9997527003288269]], [[0.004081498831510544, 0.001369661302305758, 0.0017524684080854058, 0.0005742397042922676, 0.00840021576732397, 0.0032569405157119036, 0.9805650115013123], [0.024017121642827988, 0.01058447640389204, 0.0005629843799397349, 0.000855602731462568, 0.006004138849675655, 0.0035746069625020027, 0.9544010758399963], [0.08167081326246262, 0.14579936861991882, 0.014076320454478264, 0.026690881699323654, 0.053234267979860306, 0.010362881235778332, 0.6681654453277588], [0.058863233774900436, 0.012263448908925056, 0.17848356068134308, 0.1230606958270073, 0.0388084277510643, 0.009659886360168457, 0.5788607597351074], [0.007980776950716972, 0.006451606750488281, 0.0010698414407670498, 0.0014414809411391616, 0.0030317276250571012, 0.019269051030278206, 0.9607555270195007], [0.047270819544792175, 0.02630155347287655, 0.1338573843240738, 0.0988379418849945, 0.05232663452625275, 0.02303779311478138, 0.6183679103851318], [0.00013799523003399372, 6.684287654934451e-05, 3.459677827777341e-06, 2.293690158694517e-06, 5.797416088171303e-05, 2.9867369448766112e-05, 0.9997015595436096]], [[0.004333897493779659, 0.0009622303186915815, 0.0005661449977196753, 0.0012322462862357497, 0.0017826721305027604, 0.00093689258210361, 0.9901859760284424], [0.010375536046922207, 0.006400649901479483, 0.0052492329850792885, 0.002438850235193968, 0.0012319110101088881, 0.008594651706516743, 0.9657092094421387], [0.005237391218543053, 0.1956070214509964, 0.011839321814477444, 0.0018570864340290427, 0.002532507525756955, 0.003752657677978277, 0.7791740298271179], [0.010180767625570297, 0.005477883853018284, 0.603327751159668, 0.003332708729431033, 0.0363071970641613, 0.0024691817816346884, 0.3389045298099518], [0.001924146548844874, 0.00025073651340790093, 0.015291672199964523, 0.19895640015602112, 0.02677023597061634, 0.0005368580459617078, 0.7562700510025024], [0.0015165992081165314, 0.0005705532967112958, 0.00212028413079679, 0.032921794801950455, 0.27847668528556824, 0.00025148963322862983, 0.684142529964447], [0.00015663309022784233, 9.912670793710276e-05, 0.00011203726899111643, 0.0008820864604786038, 0.0001146637587225996, 4.32019260188099e-05, 0.99859219789505]], [[0.022442664951086044, 0.005046024918556213, 0.005273850169032812, 0.0017619673162698746, 0.0013085334794595838, 0.0014963786816224456, 0.962670624256134], [0.07352255284786224, 0.0039742435328662395, 0.02416258491575718, 0.025827115401625633, 0.02132314257323742, 0.030190955847501755, 0.8209993839263916], [0.050693780183792114, 0.022918352857232094, 0.019768521189689636, 0.04179445281624794, 0.1458924561738968, 0.10024382919073105, 0.6186886429786682], [0.05902424827218056, 0.019107704982161522, 0.03687053173780441, 0.2552109956741333, 0.0597405768930912, 0.1211247518658638, 0.4489212930202484], [0.03931557759642601, 0.0010547003475949168, 0.00203725416213274, 0.00447311345487833, 0.0016143363900482655, 0.010356093756854534, 0.9411489367485046], [0.009471031837165356, 0.001990561606362462, 0.0012378889368847013, 0.0013605491258203983, 0.0011171610094606876, 0.0006019253050908446, 0.9842208623886108], [0.002510424703359604, 0.0016165018314495683, 0.000303098582662642, 0.0009783871937543154, 0.00036171788815408945, 0.00030492281075567007, 0.9939249157905579]], [[0.021543972194194794, 0.006730372551828623, 0.008637446910142899, 0.009865115396678448, 0.03877226263284683, 0.020432107150554657, 0.894018828868866], [0.1525585800409317, 0.0017308155074715614, 0.022839533165097237, 0.1458483338356018, 0.00968187116086483, 0.016433143988251686, 0.6509077548980713], [0.07885497063398361, 0.00861486978828907, 0.034005630761384964, 0.015648795291781425, 0.05803840234875679, 0.029401807114481926, 0.7754355072975159], [0.04996257275342941, 0.05435610190033913, 0.04092084616422653, 0.39810651540756226, 0.2503047287464142, 0.03329230099916458, 0.1730569452047348], [0.07688769698143005, 0.015891224145889282, 0.02197732962667942, 0.04627958685159683, 0.00025040472974069417, 0.12281962484121323, 0.7158941030502319], [0.045126065611839294, 0.006716564763337374, 0.026668347418308258, 0.009631271474063396, 0.19558949768543243, 4.394660209072754e-05, 0.7162242531776428], [0.010475576855242252, 0.0010062732035294175, 0.0014394395984709263, 0.005009960848838091, 0.0034172995947301388, 0.004837943706661463, 0.9738134145736694]], [[0.007882583886384964, 0.0043406980112195015, 0.0021599442698061466, 0.0009841490536928177, 0.001620404771529138, 0.001075222622603178, 0.9819371104240417], [0.08444961905479431, 0.025747060775756836, 0.017349140718579292, 0.020393207669258118, 0.02000914141535759, 0.006544934585690498, 0.8255068063735962], [0.06421460211277008, 0.5512089729309082, 0.030895747244358063, 0.009555023163557053, 0.03657866641879082, 0.033316560089588165, 0.274230420589447], [0.06415563821792603, 0.16455163061618805, 0.3252579867839813, 0.061762526631355286, 0.10572387278079987, 0.034854792058467865, 0.24369347095489502], [0.01379756722599268, 0.0208902545273304, 0.13880372047424316, 0.02653084322810173, 0.024868587031960487, 0.004934265743941069, 0.7701747417449951], [0.013200780376791954, 0.006600634194910526, 0.10100674629211426, 0.02473859116435051, 0.2722649872303009, 0.009006698615849018, 0.5731816291809082], [0.0006362482672557235, 6.645291432505473e-05, 4.670831185649149e-05, 0.000124271449749358, 0.00020823800878133625, 8.69928189786151e-05, 0.9988312125205994]], [[0.011970254592597485, 0.008687625639140606, 0.0005284982617013156, 4.9486458010505885e-05, 0.0002632971154525876, 0.0001366826327284798, 0.9783641695976257], [0.02396388351917267, 0.004388854373246431, 0.29474231600761414, 0.004704686813056469, 0.002130888169631362, 0.002298366278409958, 0.66777104139328], [0.11555702984333038, 0.007937701418995857, 0.009554717689752579, 0.3048385679721832, 0.18473313748836517, 0.006427170243114233, 0.3709516227245331], [0.010677716694772243, 0.0026684501208364964, 0.0017233509570360184, 0.00500058988109231, 0.8724848628044128, 0.06844476610422134, 0.0390002466738224], [0.027664195746183395, 0.0011724107898771763, 0.0006432501832023263, 0.002792105544358492, 0.060213666409254074, 0.11210349202156067, 0.7954109311103821], [0.005127182696014643, 0.008323516696691513, 0.00037502311170101166, 0.0003261886886321008, 0.0001682301954133436, 0.00023608926858287305, 0.9854438900947571], [0.001411482342518866, 0.0009365020669065416, 0.0003413960221223533, 0.00012833914661314338, 0.00010916386963799596, 0.00011706482473528013, 0.9969559907913208]]], [[[0.00021056192053947598, 0.001298891264013946, 0.0037829449865967035, 0.0008018299122340977, 0.0015547636430710554, 0.002497923793271184, 0.9898530840873718], [0.006885988172143698, 0.011207086965441704, 0.008642933331429958, 0.0018006988102570176, 0.005126051139086485, 0.007527097128331661, 0.9588101506233215], [0.005406178999692202, 0.014091823250055313, 0.006841517053544521, 0.004990465473383665, 0.009165213443338871, 0.002481468953192234, 0.9570233225822449], [0.011988341808319092, 0.04406719654798508, 0.11073318123817444, 0.07922571152448654, 0.046241674572229385, 0.024885596707463264, 0.6828582882881165], [0.002636935794726014, 0.00309246894903481, 0.01173054426908493, 0.002613753778859973, 0.001245668507181108, 0.0016617412911728024, 0.9770187735557556], [0.0023831927683204412, 0.0056458283215761185, 0.028296811506152153, 0.01836324669420719, 0.006772975437343121, 0.0037942074704915285, 0.9347437024116516], [0.00040544720832258463, 0.0005953566869720817, 0.0022219428792595863, 0.001863681012764573, 0.0007571027963422239, 0.0010356261627748609, 0.9931208491325378]], [[0.0015928164357319474, 0.0019580929074436426, 0.0030985858757048845, 0.002747792052105069, 0.005892145913094282, 0.004394811112433672, 0.9803157448768616], [0.005414713639765978, 0.0048766969703137875, 0.22733592987060547, 0.03295258432626724, 0.08330646902322769, 0.03756161779165268, 0.6085520386695862], [0.007300915662199259, 0.0007000642362982035, 0.013599256053566933, 0.049792055040597916, 0.034689247608184814, 0.21481283009052277, 0.6791056394577026], [0.004568600561469793, 0.0051712156273424625, 0.030457628890872, 0.09387795627117157, 0.0393424928188324, 0.1900871843099594, 0.6364948749542236], [0.0015400038100779057, 0.0004383773193694651, 0.0010120084043592215, 0.0002997583942487836, 0.0007655807421542704, 0.0007527381530962884, 0.9951915740966797], [0.002278820378705859, 0.0016245112055912614, 0.004135185852646828, 0.0005237685982137918, 0.0027249623090028763, 0.0007250672788359225, 0.987987756729126], [0.0008597197593189776, 0.00018517926218919456, 0.00041338158189319074, 0.0003779937978833914, 0.0006432942464016378, 0.0006991628906689584, 0.9968212842941284]], [[0.00016468441754113883, 0.031036606058478355, 0.005972853861749172, 0.0004657613462768495, 0.0008625979535281658, 0.0005579751450568438, 0.9609394073486328], [0.0016058115288615227, 0.0029413821175694466, 0.6456179022789001, 0.009402073919773102, 0.02016240358352661, 0.007132537662982941, 0.31313785910606384], [0.011007201857864857, 0.00847634021192789, 0.021846970543265343, 0.15482470393180847, 0.03369251638650894, 0.02497740276157856, 0.7451749444007874], [0.0037578861229121685, 0.014310800470411777, 0.01905406452715397, 0.01050627138465643, 0.1947583705186844, 0.04608709737658501, 0.7115254402160645], [0.0016195264179259539, 0.0023740767501294613, 0.001267758896574378, 0.008687682449817657, 0.003266984596848488, 0.11036840081214905, 0.8724155426025391], [0.000897617603186518, 0.009271221235394478, 0.0053699989803135395, 0.049533020704984665, 0.0025998433120548725, 0.004230407997965813, 0.9280979037284851], [0.0026627674233168364, 0.0005118474364280701, 0.0019977479241788387, 0.0005383995594456792, 0.000453822169220075, 0.0006890120566822588, 0.9931463599205017]], [[0.0003385998716112226, 0.00016523410158697516, 9.671498264651746e-05, 6.478161958511919e-05, 0.0014190494548529387, 0.0002496509987395257, 0.9976660013198853], [0.00201142649166286, 0.0013880397891625762, 0.0008894805214367807, 0.001594768138602376, 0.0026688093785196543, 0.0006849263445474207, 0.9907625317573547], [0.0008152814698405564, 0.0026592519134283066, 0.002584509551525116, 0.002391490153968334, 0.007853114046156406, 0.000363971950719133, 0.9833323955535889], [0.0011316236341372132, 0.002007885603234172, 0.004120106343179941, 0.002744955476373434, 0.008557227440178394, 0.004967624321579933, 0.9764705896377563], [0.002155349124222994, 5.859697557752952e-05, 0.00017109945474658161, 0.00024356500944122672, 0.000303959590382874, 0.0005900468677282333, 0.9964774250984192], [0.0022318223491311073, 0.0008903032285161316, 0.006206119898706675, 0.002791670151054859, 0.01660093292593956, 0.0017706655198708177, 0.9695084691047668], [0.002814964158460498, 0.0004639493708964437, 7.829575042705983e-05, 0.00024113798281177878, 0.00029977611848153174, 0.0010374569101259112, 0.9950644373893738]], [[0.0001013812143355608, 3.951682629121933e-06, 2.078132274618838e-05, 7.626630394952372e-05, 1.8580192772787996e-05, 5.171230441192165e-05, 0.9997273087501526], [0.11470001935958862, 0.0003332569031044841, 0.0011170924408361316, 0.000289720919681713, 0.000888326670974493, 0.010993614792823792, 0.8716781139373779], [0.0005561484140343964, 0.871965229511261, 0.03738171607255936, 0.0003967668453697115, 0.005633944645524025, 0.00030503043672069907, 0.08376118540763855], [0.0015781434485688806, 0.000893839169293642, 0.9010305404663086, 0.007509317714720964, 0.0011481227120384574, 0.005348034203052521, 0.08249195665121078], [0.004388722591102123, 0.00034152541775256395, 0.0014604381285607815, 0.0770145058631897, 0.0039459653198719025, 4.4454169255914167e-05, 0.9128044247627258], [0.00045827878057025373, 2.8000034944852814e-05, 0.009026712737977505, 0.02800380438566208, 0.9073025584220886, 6.349305476760492e-05, 0.05511726066470146], [0.0002090398338623345, 1.8429860574542545e-05, 3.9974405808607116e-05, 0.00023440999211743474, 0.00020737569138873369, 5.475935176946223e-05, 0.999235987663269]], [[0.00011433162580942735, 5.7026827562367544e-05, 0.0016983171226456761, 9.659242641646415e-05, 0.008571508340537548, 0.003660571528598666, 0.9858015179634094], [0.0018398393876850605, 0.0011347502004355192, 0.07902510464191437, 0.004549826495349407, 0.08397452533245087, 0.05682233348488808, 0.7726536393165588], [0.0002777086046990007, 0.00018290102889295667, 0.005127133801579475, 0.0020053056068718433, 0.02201574295759201, 0.00811892468482256, 0.9622723460197449], [0.004244446288794279, 0.0025432417169213295, 0.01864483579993248, 0.006978495512157679, 0.04138459265232086, 0.07882312685251236, 0.8473812341690063], [0.000414670241298154, 0.00011131605424452573, 0.0006720785167999566, 0.00023277160653378814, 0.00021025912428740412, 0.0010875094449147582, 0.9972713589668274], [0.002214999869465828, 0.00037463594344444573, 0.0012347805313766003, 0.002041266765445471, 0.00445904303342104, 0.0004711697984021157, 0.9892041087150574], [3.654130296126823e-06, 2.2558733689947985e-06, 1.2826317288272548e-05, 2.588071765785571e-06, 0.00011307668319204822, 9.362548007629812e-05, 0.9997720122337341]], [[0.01079516764730215, 0.0003659657668322325, 0.006227799225598574, 0.00028735268278978765, 0.004065086133778095, 0.004091495182365179, 0.9741671681404114], [0.004254186060279608, 0.0010567271383479238, 0.13088588416576385, 0.0188341923058033, 0.012581486254930496, 0.013304827734827995, 0.8190826773643494], [0.0008229000959545374, 0.0002435734058963135, 0.007339776959270239, 0.00893720705062151, 0.00033568221260793507, 0.0026561017148196697, 0.97966468334198], [0.001694443286396563, 0.00038974740891717374, 0.005554414354264736, 0.004398598335683346, 0.006870772689580917, 0.0185410063713789, 0.9625508785247803], [0.02374984696507454, 0.00026700965827330947, 0.0014759749174118042, 0.0003681738453451544, 0.0021935650147497654, 0.004721485078334808, 0.9672238826751709], [0.0034659807570278645, 0.0005745126982219517, 0.0006030555232428014, 0.0007913378649391234, 0.0009935511043295264, 0.0008131593349389732, 0.9927583932876587], [0.001370057463645935, 0.0004616737423930317, 0.0003333377535454929, 0.0004085908003617078, 0.0022467609960585833, 0.004835672676563263, 0.9903438091278076]], [[0.001304701087065041, 0.0007355490233749151, 0.0007058186456561089, 0.00048109915223903954, 0.0003062723553739488, 0.003002541372552514, 0.993463933467865], [0.015845702961087227, 0.0001668665645411238, 0.005051771644502878, 0.0034675218630582094, 0.0006060553132556379, 0.00010726832260843366, 0.9747547507286072], [0.00014201867452356964, 0.0010352490935474634, 0.002111043082550168, 0.0013059203047305346, 0.0005332833388820291, 0.00026084689307026565, 0.9946115016937256], [0.002391687361523509, 0.0017616160912439227, 0.026863692328333855, 0.0032126065343618393, 0.0022170240990817547, 0.006718161515891552, 0.956835150718689], [0.009450025856494904, 0.0007576151983812451, 0.003569401800632477, 0.0014529988402500749, 0.00030295446049422026, 0.00010147121793124825, 0.9843655824661255], [0.006090831942856312, 0.003235487500205636, 0.06806965172290802, 0.016618167981505394, 0.04780030623078346, 0.004653590731322765, 0.8535320162773132], [0.0014075679937377572, 0.0028249952010810375, 0.002338654361665249, 0.0019804630428552628, 0.0018233958398923278, 0.002160628791898489, 0.9874643087387085]], [[0.001878845738247037, 0.0023047677241265774, 0.0014568414771929383, 0.0007192083867266774, 0.005192837677896023, 0.0016174906631931663, 0.9868300557136536], [0.014269622042775154, 0.015970569103956223, 0.04972502589225769, 0.002527136355638504, 0.005387305282056332, 0.025213193148374557, 0.8869070410728455], [0.007154006510972977, 0.0069857388734817505, 0.011584490537643433, 0.0016852328553795815, 0.0062523894011974335, 0.006387318018823862, 0.9599508047103882], [0.01840989664196968, 0.0011880871606990695, 0.004243780393153429, 0.014080367051064968, 0.0027215187437832355, 0.010692759416997433, 0.948663592338562], [0.004864267073571682, 0.002225203439593315, 0.0013244976289570332, 0.008654957637190819, 0.0049843876622617245, 0.005543122533708811, 0.9724035859107971], [0.008053775876760483, 0.0007306179613806307, 0.0005340647767297924, 0.0031154321040958166, 0.0018036438850685954, 0.00344581576064229, 0.9823165535926819], [0.0014896360225975513, 0.0004994496703147888, 0.0005343985976651311, 0.0015323719708248973, 0.0019340335857123137, 0.001878846320323646, 0.9921312928199768]], [[0.00018437797552905977, 0.0004844370123464614, 0.0024116572458297014, 0.001752435346134007, 0.002368333050981164, 0.0012018666602671146, 0.9915968775749207], [0.00770517298951745, 0.0020718486048281193, 0.0039046930614858866, 0.0010942543158307672, 0.0023087088484317064, 0.0077780988067388535, 0.9751372933387756], [0.0061212824657559395, 0.03133763000369072, 0.013017999939620495, 0.000963150174356997, 0.004801518749445677, 0.00518550630658865, 0.938572883605957], [0.009000467136502266, 0.011381039395928383, 0.36685582995414734, 0.03629768267273903, 0.01625773310661316, 0.026639239862561226, 0.5335680842399597], [0.0015017736004665494, 0.004730394575744867, 0.010496379807591438, 0.007798941805958748, 0.0021620579063892365, 0.0038084588013589382, 0.9695019721984863], [0.001301325624808669, 0.004416888579726219, 0.22871063649654388, 0.07455392926931381, 0.014731515198946, 0.003093036590144038, 0.6731926798820496], [0.0010709468042477965, 0.0009417238179594278, 0.0010028432589024305, 0.0018487191991880536, 0.001795027288608253, 0.001762976055033505, 0.9915777444839478]], [[3.997235398855992e-05, 7.976121560204774e-05, 0.0006691091111861169, 0.00012267239799257368, 0.0016868333332240582, 0.004667195491492748, 0.992734432220459], [0.004530610516667366, 0.001807896769605577, 0.07135268300771713, 0.02537006326019764, 0.051807865500450134, 0.14118054509162903, 0.7039504051208496], [0.00665776152163744, 0.005628254730254412, 0.010236997157335281, 0.0516478531062603, 0.05953957512974739, 0.4209483563899994, 0.4453411400318146], [0.004416151437908411, 0.0029439758509397507, 0.001858012517914176, 0.006992395967245102, 0.017071956768631935, 0.8292703628540039, 0.13744711875915527], [0.008105510845780373, 0.0008766708197072148, 0.0015143424971029162, 0.0010578178334981203, 0.0002961023710668087, 0.003666147356852889, 0.9844834208488464], [0.00321060698479414, 0.0054215071722865105, 0.005947355180978775, 0.005465073976665735, 0.008426082320511341, 0.0009391278144903481, 0.9705902934074402], [0.00024039024719968438, 0.00012011188664473593, 0.0004337493737693876, 0.00010761256999103352, 0.00018021301366388798, 0.0005756549653597176, 0.9983422756195068]], [[0.01068459078669548, 0.004901687614619732, 0.0023335032165050507, 0.002508037956431508, 0.0008199170115403831, 0.009684834629297256, 0.969067394733429], [0.008005913347005844, 0.0022179491352289915, 0.0016522215446457267, 0.0003950052778236568, 0.0017084558494389057, 0.003803539089858532, 0.9822169542312622], [0.007671786937862635, 0.06783153861761093, 0.00733480928465724, 0.0034325665328651667, 0.00969802774488926, 0.005778842139989138, 0.898252546787262], [0.004164213314652443, 0.06233992800116539, 0.06994141638278961, 0.00154267402831465, 0.023685701191425323, 0.047544609755277634, 0.7907814383506775], [9.868370398180559e-05, 6.464716716436669e-05, 0.0001601638796273619, 0.0023596908431500196, 0.0004311342490836978, 0.00026621538563631475, 0.9966193437576294], [0.0002742809592746198, 0.0006502168835140765, 0.0058338697999715805, 0.004494519904255867, 0.35764726996421814, 0.004142184276133776, 0.6269576549530029], [0.0007070775027386844, 0.00022283995349425822, 0.00019493118452373892, 0.0003532509144861251, 0.0012209138367325068, 0.0008881752728484571, 0.9964129328727722]]], [[[0.0001495652977610007, 0.00023602278088219464, 0.00043079358874820173, 7.704117160756141e-05, 0.533898115158081, 0.036611031740903854, 0.4285973906517029], [0.00039576058043166995, 0.0025889717508107424, 0.0012199715711176395, 0.0005365699762478471, 0.09936709702014923, 0.005067622289061546, 0.8908240795135498], [0.0001335817069048062, 8.66181799210608e-05, 0.015303700231015682, 0.000355959142325446, 0.010932515375316143, 0.006631032098084688, 0.9665565490722656], [4.9205369577975944e-05, 4.237300163367763e-05, 0.00031728149042464793, 0.0005601785960607231, 0.058935388922691345, 0.5832226276397705, 0.3568730056285858], [0.0002988810883834958, 7.260206621140242e-05, 8.964098378783092e-05, 0.00010670275514712557, 0.19821470975875854, 0.0012484868057072163, 0.7999690175056458], [0.0003773428616113961, 0.0002690886612981558, 0.0004941414808854461, 0.0004622862907126546, 0.06828035414218903, 0.1446429342031479, 0.7854738831520081], [6.08353457209887e-06, 1.8536655261414126e-05, 3.4443062759237364e-05, 9.007741027744487e-05, 0.008293922059237957, 0.00043109789839945734, 0.991125762462616]], [[0.0002613994001876563, 0.0024865595623850822, 0.002527320757508278, 0.009063242934644222, 0.3472746014595032, 0.003982671070843935, 0.634404182434082], [0.003990905825048685, 0.0007303961901925504, 0.003889207961037755, 0.0021257505286484957, 0.1001705676317215, 0.007821855135262012, 0.8812713623046875], [0.007295171730220318, 0.004499727860093117, 0.009610257111489773, 0.0672442838549614, 0.2201603651046753, 0.4980994164943695, 0.1930907815694809], [0.005077695474028587, 0.0044942572712898254, 0.003905173856765032, 0.053441986441612244, 0.30330073833465576, 0.5567871928215027, 0.07299293577671051], [0.0072294436395168304, 0.012185078114271164, 0.011136993765830994, 0.012538078241050243, 0.08947952091693878, 0.04008573666214943, 0.8273451328277588], [0.02358008734881878, 0.07238876074552536, 0.029680954292416573, 0.009537411853671074, 0.5130574107170105, 0.02252770960330963, 0.3292276859283447], [0.0005357510526664555, 0.0008101183921098709, 0.0008408170542679727, 0.0012578035239130259, 0.02381928823888302, 0.00776284234598279, 0.9649733901023865]], [[5.372247323975898e-05, 0.000562469766009599, 0.005921404343098402, 0.00016390376549679786, 0.2921919822692871, 0.001547007355839014, 0.6995595097541809], [0.007732519879937172, 0.0014261790784075856, 0.036578793078660965, 0.0061805411241948605, 0.15090227127075195, 0.02706199698150158, 0.7701177000999451], [0.011228030547499657, 0.022675026208162308, 0.00840207003057003, 0.005146438255906105, 0.2446087896823883, 0.03184938803315163, 0.6760902404785156], [0.018407465890049934, 0.01460415031760931, 0.02648596093058586, 0.00823330320417881, 0.39049121737480164, 0.10420568287372589, 0.437572181224823], [0.01364518329501152, 0.006212487351149321, 0.025587307289242744, 0.008179484866559505, 0.0833810418844223, 0.009098202921450138, 0.8538962006568909], [0.018757792189717293, 0.013804278336465359, 0.03270095959305763, 0.036685261875391006, 0.4997446537017822, 0.01606471836566925, 0.3822422921657562], [0.0009354648645967245, 0.0015941235469654202, 0.0018657331820577383, 0.000350515590980649, 0.00992813054472208, 0.008537298999726772, 0.9767887592315674]], [[0.0001642111747059971, 0.0018341466784477234, 0.0011146065080538392, 0.0002098563127219677, 0.08997584134340286, 0.00573896337300539, 0.9009623527526855], [0.002266578609123826, 0.003030496183782816, 0.009104724042117596, 0.01135145965963602, 0.1161198616027832, 0.07341522723436356, 0.7847117185592651], [0.005395202897489071, 0.02376137487590313, 0.017667826265096664, 0.023026378825306892, 0.2015012502670288, 0.04282304644584656, 0.6858249306678772], [0.016702689230442047, 0.008969256654381752, 0.3305993378162384, 0.09154165536165237, 0.114332415163517, 0.06684591621160507, 0.3710086941719055], [0.0052118259482085705, 0.028997328132390976, 0.055862050503492355, 0.030018417164683342, 0.07014206796884537, 0.06706245988607407, 0.7427058219909668], [0.001391312456689775, 0.005329510662704706, 0.6789047122001648, 0.1317645013332367, 0.12064073979854584, 0.00141166674438864, 0.06055750325322151], [0.060972437262535095, 0.01836446486413479, 0.02147216908633709, 0.014056825079023838, 0.035248734056949615, 0.08489958196878433, 0.7649857997894287]], [[0.00032740217284299433, 0.001443545101210475, 0.004684410989284515, 0.0021397520322352648, 0.02045387774705887, 0.006640898995101452, 0.9643101096153259], [0.011447169817984104, 0.025845259428024292, 0.021951669827103615, 0.014121637679636478, 0.0616208054125309, 0.11226257681846619, 0.7527508735656738], [0.00753070367500186, 0.05009695887565613, 0.03378444164991379, 0.023993032053112984, 0.19488197565078735, 0.04740121215581894, 0.6423115730285645], [0.0013070852728560567, 0.013697599992156029, 0.01459491066634655, 0.010520604439079762, 0.3245445191860199, 0.16748477518558502, 0.4678505063056946], [0.0017396127805113792, 0.0027798707596957684, 0.010288534685969353, 0.002239367924630642, 0.006375512108206749, 0.00867043063044548, 0.967906653881073], [0.0025356013793498278, 0.005664972122758627, 0.14104661345481873, 0.0020700639579445124, 0.3509235084056854, 0.0003842464939225465, 0.4973750412464142], [0.0036207716912031174, 0.0054161627776920795, 0.0021613729186356068, 0.002537040039896965, 0.015228121541440487, 0.031110994517803192, 0.9399255514144897]], [[2.90753578156e-05, 0.0008041230612434447, 0.0007362316246144474, 8.872376201907173e-05, 0.9794600605964661, 0.0003209259593859315, 0.018560899421572685], [0.009234166704118252, 0.0021422880236059427, 0.04448898509144783, 0.01669088378548622, 0.4877585470676422, 0.28986668586730957, 0.14981840550899506], [0.014766774140298367, 0.023719241842627525, 0.022540466859936714, 0.06784268468618393, 0.14614346623420715, 0.16869661211967468, 0.5562907457351685], [0.002621072344481945, 0.017396340146660805, 0.02294304594397545, 0.03204359486699104, 0.12229518592357635, 0.650663435459137, 0.1520373374223709], [0.022500954568386078, 0.0050350758247077465, 0.013071094639599323, 0.005761479027569294, 0.15706376731395721, 0.05680584907531738, 0.7397617697715759], [0.01703610084950924, 0.018463801592588425, 0.002568507567048073, 0.0028948490507900715, 0.5398643612861633, 0.0029721565078943968, 0.4162002503871918], [0.0029429160058498383, 0.012053608894348145, 0.015192842110991478, 0.004607364535331726, 0.05934906750917435, 0.09792832285165787, 0.8079258799552917]], [[0.0008714526193216443, 0.00046231879969127476, 0.0032742945477366447, 0.00033510374487377703, 0.017784375697374344, 0.0011227026116102934, 0.9761497378349304], [0.03578224405646324, 0.05843096226453781, 0.00935734249651432, 0.0025364772882312536, 0.013592960312962532, 0.0011131077772006392, 0.8791869282722473], [0.004485531244426966, 0.0010016083251684904, 0.520586371421814, 0.0003189540293533355, 0.02830236591398716, 0.0003298716328572482, 0.44497525691986084], [0.04380064457654953, 0.009887545369565487, 0.003400927409529686, 0.2828417718410492, 0.12603634595870972, 0.020974498242139816, 0.5130582451820374], [0.02149992063641548, 0.004449212457984686, 0.004777155816555023, 0.0031995950266718864, 0.21259421110153198, 0.0006451255176216364, 0.7528347969055176], [0.005376623477786779, 0.009838688187301159, 0.029945528134703636, 0.04197278991341591, 0.33458247780799866, 0.08707348257303238, 0.49121037125587463], [0.0061189294792711735, 0.0020902662072330713, 0.0017952276393771172, 0.0009570265538059175, 0.004091635346412659, 0.001525282859802246, 0.9834217429161072]], [[0.0006543903145939112, 0.007202173583209515, 0.0025209812447428703, 0.002000344218686223, 0.383179634809494, 0.5098045468330383, 0.0946379005908966], [0.0007703860756009817, 0.0020535325165838003, 0.009241354651749134, 0.010109816677868366, 0.6007603406906128, 0.2420872449874878, 0.1349773406982422], [0.00041181972483173013, 0.008285791613161564, 0.026001259684562683, 0.21722781658172607, 0.280033141374588, 0.3792806565761566, 0.08875953406095505], [1.4862746866128873e-05, 0.00010535382898524404, 0.00030064707971177995, 0.006169074680656195, 0.026542678475379944, 0.9582874774932861, 0.008579930290579796], [0.0007880202610976994, 0.0008452796027995646, 0.0014567570760846138, 0.0008380088838748634, 0.031750697642564774, 0.10378868877887726, 0.8605324625968933], [0.0007451854180544615, 0.01160794124007225, 0.13467811048030853, 0.00792739074677229, 0.31379854679107666, 0.06636635959148407, 0.4648765027523041], [3.386602475075051e-05, 3.396014290046878e-05, 0.00013965893595013767, 6.750972534064204e-05, 0.008713563904166222, 0.020355381071567535, 0.9706560969352722]], [[0.003041264833882451, 0.008717235177755356, 0.005671647377312183, 0.0016961186192929745, 0.10817906260490417, 0.0069045135751366615, 0.8657901883125305], [0.019656069576740265, 0.8367447853088379, 0.0379677414894104, 0.0020816356409341097, 0.01683882623910904, 0.00794804748147726, 0.07876301556825638], [0.018886469304561615, 0.07782452553510666, 0.0866410955786705, 0.04621490091085434, 0.037044376134872437, 0.05623916536569595, 0.6771495342254639], [0.019574815407395363, 0.006253539584577084, 0.06484677642583847, 0.04441206902265549, 0.03392850607633591, 0.30915072560310364, 0.5218335390090942], [0.01356777735054493, 0.017761263996362686, 0.0011314874282106757, 0.0007217191741801798, 0.48251456022262573, 0.0013402197510004044, 0.482962965965271], [0.007130106911063194, 0.0024577786680310965, 0.029563255608081818, 0.12962831556797028, 0.013381967321038246, 0.054783742874860764, 0.7630547881126404], [0.20470668375492096, 0.1110634133219719, 0.04866185039281845, 0.04620576649904251, 0.05886352062225342, 0.059825144708156586, 0.4706735610961914]], [[0.011098338291049004, 0.006709882523864508, 0.00027361634420230985, 0.0008248272351920605, 0.05009248107671738, 0.0008444341947324574, 0.930156409740448], [0.0016034137224778533, 0.0029740671161562204, 0.0016177503857761621, 0.0013232157798483968, 0.011331580579280853, 0.0024528522044420242, 0.9786971211433411], [0.0009350435575470328, 0.009069925174117088, 0.00012509871157817543, 2.0926481738570146e-05, 0.0004300996952224523, 0.00025363880558870733, 0.9891652464866638], [0.0022566597908735275, 0.0013420720351859927, 0.011422831565141678, 0.0021122649777680635, 0.005621661897748709, 0.006646368652582169, 0.9705981612205505], [0.00894080474972725, 0.0016106385737657547, 0.0005331438733264804, 0.003204029519110918, 0.011395630426704884, 0.0006809403421357274, 0.9736348390579224], [0.00011892990733031183, 0.0004493123560678214, 0.0018008018378168344, 0.0005951360217295587, 0.9668906331062317, 0.0002542403235565871, 0.029890939593315125], [0.0024124684277921915, 0.0041508181020617485, 0.0014610670041292906, 0.00263791112229228, 0.007476829923689365, 0.0036554348189383745, 0.9782055020332336]], [[0.00014161538274493068, 0.003726836759597063, 0.0011423745891079307, 0.00017917405057232827, 0.9110484719276428, 0.0005548305925913155, 0.0832066684961319], [0.02313939295709133, 0.01144381333142519, 0.08424612879753113, 0.008418719284236431, 0.7235376238822937, 0.011217688210308552, 0.13799665868282318], [0.008600329048931599, 0.007119860965758562, 0.006164186634123325, 0.009711730293929577, 0.3492269814014435, 0.35069626569747925, 0.26848065853118896], [0.009544795379042625, 0.009710371494293213, 0.006989810615777969, 0.004796097986400127, 0.7590175867080688, 0.07140251994132996, 0.13853880763053894], [0.010733102448284626, 0.006204258184880018, 0.010120936669409275, 0.0036525775212794542, 0.09515032172203064, 0.019768862053751945, 0.8543699979782104], [0.020729996263980865, 0.010161180049180984, 0.06208391860127449, 0.05695772543549538, 0.40738439559936523, 0.011045175604522228, 0.43163758516311646], [0.007011960260570049, 0.02510564774274826, 0.012577821500599384, 0.0048635415732860565, 0.11805452406406403, 0.025583285838365555, 0.8068032264709473]], [[0.009282873943448067, 0.007447092793881893, 0.01719815656542778, 0.02250070869922638, 0.02467927150428295, 0.048087362200021744, 0.8708045482635498], [0.014874468557536602, 0.001723779016174376, 0.026736291125416756, 0.04489781707525253, 0.025750990957021713, 0.3801712691783905, 0.5058453679084778], [0.017054755240678787, 0.007044738158583641, 0.010965975932776928, 0.014499141834676266, 0.04954562708735466, 0.024647552520036697, 0.8762421011924744], [0.12979631125926971, 0.029193781316280365, 0.011171682737767696, 0.0404597669839859, 0.1467757374048233, 0.04294659569859505, 0.5996561050415039], [0.011018398217856884, 0.0024857469834387302, 0.01490874495357275, 0.04018992930650711, 0.0004003701324108988, 0.020178329199552536, 0.9108185768127441], [0.013815583661198616, 0.012783017940819263, 0.008435379713773727, 0.015487821772694588, 0.057487208396196365, 0.0019638403318822384, 0.8900272250175476], [0.16065609455108643, 0.06347378343343735, 0.07031257450580597, 0.053063925355672836, 0.08648134768009186, 0.13740627467632294, 0.4286060035228729]]], [[[0.006324684713035822, 0.0007831849507056177, 0.0009522532927803695, 0.0006593160796910524, 0.0671638548374176, 0.025546126067638397, 0.8985706567764282], [0.0015781590482220054, 0.0007225748850032687, 0.002947603352367878, 0.0062064966186881065, 0.013270384632050991, 0.016535786911845207, 0.9587390422821045], [0.032418884336948395, 0.006181485950946808, 0.005710632540285587, 0.009102492593228817, 0.07212516665458679, 0.14276309311389923, 0.731698215007782], [0.007994448766112328, 0.013472557067871094, 0.007367940619587898, 0.007088314741849899, 0.04863237589597702, 0.035706691443920135, 0.8797376155853271], [0.003397878957912326, 0.0017892727628350258, 0.0032234119717031717, 0.0037686352152377367, 0.015609300695359707, 0.012354067526757717, 0.9598574638366699], [0.107989102602005, 0.0332198329269886, 0.014471682719886303, 0.012122031301259995, 0.20267967879772186, 0.02184530906379223, 0.607672393321991], [0.0007176451617851853, 0.003952289931476116, 0.0015114762354642153, 0.0021203092765063047, 0.010963027365505695, 0.005483526270836592, 0.9752516746520996]], [[0.0003549936809577048, 0.001622729585506022, 4.8525191232329234e-05, 0.0004876645980402827, 0.03959313780069351, 0.05557098984718323, 0.902321994304657], [0.002132051857188344, 0.0036570210941135883, 0.0008458520169369876, 0.0010112281888723373, 0.04328794404864311, 0.027328332886099815, 0.921737551689148], [0.0030258370097726583, 0.004884422291070223, 0.0006968164816498756, 0.0013922767248004675, 0.06272097676992416, 0.011649488471448421, 0.9156301617622375], [0.0028508803807199, 0.0015190953854471445, 0.003307754173874855, 0.003737273858860135, 0.051512785255908966, 0.0350499264895916, 0.9020223021507263], [0.00859686080366373, 0.02532654069364071, 0.020534630864858627, 0.017627622932195663, 0.02040248177945614, 0.0875791683793068, 0.8199326395988464], [0.02014857903122902, 0.01003363449126482, 0.015788905322551727, 0.020080866292119026, 0.12973420321941376, 0.06350454688072205, 0.7407092452049255], [0.0015853563090786338, 0.00338138360530138, 0.0013877574820071459, 0.001291516819037497, 0.027902424335479736, 0.013138472102582455, 0.9513131380081177]], [[0.13983935117721558, 0.047320906072854996, 0.024613292887806892, 0.0354173518717289, 0.22035931050777435, 0.44655176997184753, 0.08589804917573929], [0.12472734600305557, 0.17919203639030457, 0.027328787371516228, 0.04665558785200119, 0.275417298078537, 0.15298932790756226, 0.19368959963321686], [0.12765659391880035, 0.042256444692611694, 0.10555405169725418, 0.09086040407419205, 0.2313569188117981, 0.2883860766887665, 0.11392947286367416], [0.10814525187015533, 0.05505583807826042, 0.11134921759366989, 0.12933331727981567, 0.4106873571872711, 0.1350991576910019, 0.05032980069518089], [0.2043449878692627, 0.06002684682607651, 0.036003172397613525, 0.05464314669370651, 0.21620331704616547, 0.2810419201850891, 0.14773662388324738], [0.1522696614265442, 0.014539455063641071, 0.005996720399707556, 0.01865966245532036, 0.16133910417556763, 0.5656948685646057, 0.08150056004524231], [0.017504369840025902, 0.03297670558094978, 0.011059806682169437, 0.010773922316730022, 0.08626945316791534, 0.03380334749817848, 0.807612419128418]], [[0.009019020013511181, 0.018283933401107788, 0.0031648387666791677, 0.0012778321979567409, 0.7353301048278809, 0.06359413266181946, 0.1693301796913147], [0.01111133024096489, 0.01276249811053276, 0.004443760495632887, 0.000888388545718044, 0.6534211039543152, 0.02016669511795044, 0.297206312417984], [0.002384720603004098, 0.013395498506724834, 0.0029306865762919188, 0.001252077636308968, 0.12661577761173248, 0.01640886813402176, 0.8370123505592346], [0.0048704263754189014, 0.01746070757508278, 0.004102298058569431, 0.002670029876753688, 0.24294264614582062, 0.023173902183771133, 0.7047800421714783], [0.016227440908551216, 0.008862851187586784, 0.005786149296909571, 0.01059106457978487, 0.1317983716726303, 0.05499550700187683, 0.771738588809967], [0.014538805931806564, 0.007910276763141155, 0.010343506000936031, 0.008237597532570362, 0.23681676387786865, 0.1101510152220726, 0.6120019555091858], [0.00742133567109704, 0.010716566815972328, 0.0043166084215044975, 0.007315325550734997, 0.08654171228408813, 0.01666914112865925, 0.8670193552970886]], [[9.403245348948985e-05, 0.0012527949875220656, 0.0002560961584094912, 0.0002169924700865522, 0.08876685798168182, 0.052182309329509735, 0.8572309017181396], [0.00018748646834865212, 0.00244965311139822, 0.0009969413513317704, 0.0018798556411638856, 0.06755074113607407, 0.01677006483078003, 0.9101652503013611], [6.072484097785491e-07, 0.0010946866823360324, 0.0002898576494771987, 0.00040501050534658134, 0.028238236904144287, 0.0022076298482716084, 0.9677640795707703], [0.0002873472694773227, 0.0033512874506413937, 0.0024610047694295645, 0.0032670123036950827, 0.039820704609155655, 0.02952432632446289, 0.921288251876831], [0.0013335032854229212, 0.009662225842475891, 0.019374435767531395, 0.03735505789518356, 0.09714975208044052, 0.08213905990123749, 0.7529858946800232], [0.00022431343677453697, 0.003350738435983658, 0.00554476585239172, 0.0037538413889706135, 0.028820902109146118, 0.07338181883096695, 0.8849237561225891], [0.10877162218093872, 0.007095968816429377, 0.0029609622433781624, 0.0047352928668260574, 0.022987404838204384, 0.009071745909750462, 0.8443770408630371]], [[0.01659465581178665, 0.021762842312455177, 0.0006150089320726693, 0.00023367606627289206, 0.5200232863426208, 0.35224735736846924, 0.08852317929267883], [0.07239773124456406, 0.045688021928071976, 0.0018775596981868148, 0.0023156902752816677, 0.2562676966190338, 0.1512400209903717, 0.47021323442459106], [0.009611316956579685, 0.0045593297109007835, 0.0061199902556836605, 0.01802024058997631, 0.01181021612137556, 0.10830314457416534, 0.8415758013725281], [0.006485085468739271, 0.004192072432488203, 0.0016978159546852112, 0.005206004716455936, 0.02474096044898033, 0.1640159636735916, 0.7936620712280273], [0.044965509325265884, 0.040962014347314835, 0.0026397400069981813, 0.0028567351400852203, 0.6625773310661316, 0.0413396842777729, 0.20465905964374542], [0.01712707057595253, 0.00664774002507329, 0.002123486250638962, 0.0022253035567700863, 0.42589378356933594, 0.43674662709236145, 0.10923607647418976], [0.010144835337996483, 0.01777847297489643, 0.002076508244499564, 0.0046616848558187485, 0.09449826180934906, 0.0332336351275444, 0.8376065492630005]], [[0.0016985106049105525, 0.002553672296926379, 0.0019561953376978636, 0.0031984790693968534, 0.08476829528808594, 0.009654518216848373, 0.8961703777313232], [0.0033221335615962744, 0.010010949335992336, 0.0018672883743420243, 0.0088806739076972, 0.025556396692991257, 0.007742091082036495, 0.9426205158233643], [0.0019967088010162115, 0.00497444299980998, 0.0010129790753126144, 0.0007256529061123729, 0.039072174578905106, 0.0060873618349432945, 0.9461307525634766], [0.0010198926320299506, 0.0024079179856926203, 0.00018428161274641752, 0.00023894300102256238, 0.12090008705854416, 0.006607530172914267, 0.8686413168907166], [0.0062787169590592384, 0.007351416163146496, 0.00573235796764493, 0.01206466555595398, 0.08372122049331665, 0.012136872857809067, 0.8727146983146667], [0.00673746969550848, 0.006675186101347208, 0.0016384882619604468, 0.002508038654923439, 0.08452312648296356, 0.013648152351379395, 0.884269654750824], [0.002350285416468978, 0.004592608660459518, 0.0024226228706538677, 0.004668022971600294, 0.03856860101222992, 0.013552906922996044, 0.9338449835777283]], [[0.00013039150508120656, 0.0006367499590851367, 0.0002625316265039146, 0.0006114052957855165, 0.022360501810908318, 0.04943414777517319, 0.9265642762184143], [0.0006549437530338764, 0.0015444031450897455, 0.0004958419012837112, 0.0011023113038390875, 0.0242463406175375, 0.02860814705491066, 0.9433479905128479], [0.0014337098691612482, 0.003083385294303298, 0.0015889779897406697, 0.0069501097314059734, 0.02203304134309292, 0.05303763598203659, 0.9118731021881104], [0.00033596885623410344, 0.0007248139590956271, 0.0004818136803805828, 0.0010357830906286836, 0.01016093697398901, 0.030000004917383194, 0.9572606086730957], [0.003277358366176486, 0.02395474910736084, 0.0016055910382419825, 0.001762458705343306, 0.0955122858285904, 0.01293548196554184, 0.8609520792961121], [0.007046309299767017, 0.008486649952828884, 0.006624248344451189, 0.019115373492240906, 0.0630839392542839, 0.19549773633480072, 0.7001457214355469], [0.00014686526264995337, 0.0005402502720244229, 0.00010032318823505193, 0.0005232321564108133, 0.020213918760418892, 0.0033098538406193256, 0.9751656651496887]], [[0.06059578061103821, 0.02692095935344696, 0.010781948454678059, 0.006721853278577328, 0.21137143671512604, 0.26581764221191406, 0.41779032349586487], [0.17811276018619537, 0.17538028955459595, 0.027420630678534508, 0.0362670011818409, 0.2002430111169815, 0.03317422419786453, 0.3494020104408264], [0.05577392876148224, 0.0032086551655083895, 0.8879694938659668, 0.009978103451430798, 0.0014004308031871915, 0.015357798896729946, 0.026311596855521202], [0.23866766691207886, 0.03032759577035904, 0.19407673180103302, 0.16384567320346832, 0.008130899630486965, 0.2886761426925659, 0.0762752890586853], [0.015111765824258327, 0.00638724397867918, 0.0004110672452952713, 0.007618206553161144, 0.8563297390937805, 0.0012069926597177982, 0.11293499916791916], [0.0038277190178632736, 0.0024594629649072886, 0.005786880385130644, 0.01110608596354723, 0.02247113548219204, 0.8065703511238098, 0.14777839183807373], [0.001975340535864234, 0.00213342672213912, 0.0005701790796592832, 0.00241538742557168, 0.020017387345433235, 0.013387661427259445, 0.9595006108283997]], [[0.039231788367033005, 0.00643435912206769, 0.001555416383780539, 0.006504132878035307, 0.4833046793937683, 0.29268011450767517, 0.17028950154781342], [0.11382587999105453, 0.10383130609989166, 0.021109402179718018, 0.062436651438474655, 0.07343156635761261, 0.3921189308166504, 0.233246311545372], [0.15273697674274445, 0.06566191464662552, 0.21732358634471893, 0.25008702278137207, 0.014946036972105503, 0.1532037854194641, 0.14604069292545319], [0.12200475484132767, 0.06400234252214432, 0.130116268992424, 0.4220130443572998, 0.0577348954975605, 0.15153652429580688, 0.05259215831756592], [0.10969863831996918, 0.04300912469625473, 0.015783259645104408, 0.018546389415860176, 0.3999361991882324, 0.050180040299892426, 0.362846314907074], [0.04459867626428604, 0.0037886183708906174, 0.004847442731261253, 0.009449171833693981, 0.3768739104270935, 0.2992892861366272, 0.26115286350250244], [0.03887663036584854, 0.053713131695985794, 0.028901074081659317, 0.024954482913017273, 0.07342727482318878, 0.03765174746513367, 0.7424757480621338]], [[0.0006892376695759594, 0.00015184782387223095, 4.760279261972755e-05, 2.9622402507811785e-05, 0.30017420649528503, 0.0013962734956294298, 0.6975111961364746], [0.0003569345863070339, 0.00032982745324261487, 3.832520087598823e-05, 0.00017539001419208944, 0.07731954753398895, 0.0010329056531190872, 0.9207471013069153], [0.000700377335306257, 0.00026509579038247466, 9.059386502485722e-05, 0.0006478765862993896, 0.05161454901099205, 0.001916587701998651, 0.9447649717330933], [0.0003554538998287171, 0.00028988043777644634, 0.00010883658978855237, 0.0006308486335910857, 0.046759795397520065, 0.0022431742399930954, 0.9496120810508728], [0.034748807549476624, 0.010982612147927284, 0.005556861404329538, 0.002207444980740547, 0.5262290239334106, 0.02606598101556301, 0.39420926570892334], [0.004618289414793253, 0.0009827313479036093, 0.000397141877328977, 0.00023445577244274318, 0.15966211259365082, 0.0028187171556055546, 0.8312865495681763], [0.0004816026194021106, 0.0005685589276254177, 0.0005002412362955511, 0.0004742264864034951, 0.05436433479189873, 0.0013575258199125528, 0.9422535300254822]], [[4.669866757467389e-05, 0.00019442939083091915, 0.00012942023749928921, 0.00017702102195471525, 0.026671437546610832, 0.005076221190392971, 0.9677047729492188], [0.00033438505488447845, 0.0019016362493857741, 0.000622016319539398, 0.001270879409275949, 0.03664762154221535, 0.009057858027517796, 0.9501655697822571], [0.0008184527978301048, 0.0024180214386433363, 0.00312923570163548, 0.005281472112983465, 0.05512917414307594, 0.039066117256879807, 0.8941575884819031], [0.0003953771374654025, 0.00028228142764419317, 0.0006862511509098113, 0.0014050721656531096, 0.015294337645173073, 0.09934844821691513, 0.8825882077217102], [0.0017050538444891572, 0.009867609478533268, 0.0025899915490299463, 0.0031429859809577465, 0.13168732821941376, 0.021056970581412315, 0.8299500942230225], [0.0010505628306418657, 0.0036601130850613117, 0.009673809632658958, 0.01566215418279171, 0.028442541137337685, 0.14920161664485931, 0.7923091650009155], [0.0005145125323906541, 0.0012076577404513955, 0.0007420966867357492, 0.0011948158498853445, 0.03974916413426399, 0.015108880586922169, 0.9414829015731812]]]], \"left_text\": [\"[CLS]\", \"i\", \"have\", \"the\", \"freshman\", \"plague\", \"[SEP]\"], \"right_text\": [\"[CLS]\", \"i\", \"have\", \"the\", \"freshman\", \"plague\", \"[SEP]\"]}], \"default_filter\": \"0\", \"root_div_id\": \"bertviz-78f5c57de0124912b42b3e6309e7b6e0\", \"layer\": null, \"heads\": null, \"include_layers\": [0, 1, 2, 3, 4, 5]}; // HACK: {\"attention\": [{\"name\": null, \"attn\": [[[[0.14585931599140167, 0.07302606105804443, 0.07639016211032867, 0.12473158538341522, 0.07730850577354431, 0.12632885575294495, 0.37635552883148193], [0.29875412583351135, 0.09628649801015854, 0.04753683879971504, 0.02239958941936493, 0.2534469664096832, 0.2330484837293625, 0.04852752014994621], [0.34410157799720764, 0.18112029135227203, 0.05674855411052704, 0.037401266396045685, 0.14360105991363525, 0.08228566497564316, 0.154741570353508], [0.5081222653388977, 0.1208985447883606, 0.06598587334156036, 0.08116711676120758, 0.07608018070459366, 0.08521250635385513, 0.06253352016210556], [0.22429159283638, 0.11149190366268158, 0.19282959401607513, 0.06877623498439789, 0.1749097853899002, 0.07648009061813354, 0.15122084319591522], [0.16814564168453217, 0.10308029502630234, 0.15738283097743988, 0.025341151282191277, 0.3103429973125458, 0.09767961502075195, 0.13802745938301086], [0.4216024577617645, 0.07304450869560242, 0.06911743432283401, 0.11395289748907089, 0.04315070062875748, 0.06343787908554077, 0.2156941294670105]], [[0.9928650856018066, 0.0010770384687930346, 0.0005117969121783972, 0.002773751737549901, 0.0003891385276801884, 0.00048338586930185556, 0.001899753580801189], [0.006385355722159147, 0.0426609069108963, 0.047836076468229294, 0.009728902950882912, 0.5470901131629944, 0.24519717693328857, 0.10110142081975937], [0.013774560764431953, 0.02845969796180725, 0.02327391691505909, 0.0293443500995636, 0.3580226004123688, 0.4823252260684967, 0.06479955464601517], [0.031317487359046936, 0.13175475597381592, 0.27518653869628906, 0.10290440917015076, 0.14486348628997803, 0.24664831161499023, 0.06732506304979324], [0.050595249980688095, 0.024251459166407585, 0.048780135810375214, 0.02199966087937355, 0.4221353530883789, 0.23480364680290222, 0.1974344402551651], [0.007027801591902971, 0.06209796667098999, 0.044388994574546814, 0.05833413451910019, 0.13884422183036804, 0.15135741233825684, 0.5379494428634644], [0.028099574148654938, 0.26244938373565674, 0.0500415563583374, 0.45823073387145996, 0.03574712201952934, 0.06130171939730644, 0.10412987321615219]], [[0.9064294099807739, 0.00398712744936347, 0.006233170162886381, 0.0067415121011435986, 0.013852282427251339, 0.006693366449326277, 0.056063100695610046], [0.9926846027374268, 0.0009056688868440688, 0.00048057344974949956, 0.00015462150622624904, 7.148927397793159e-05, 0.0011572213843464851, 0.004545785952359438], [0.4734840989112854, 0.47785505652427673, 0.0034690191969275475, 0.00019416834402363747, 0.0032946267165243626, 0.0001049790735123679, 0.04159800708293915], [0.27130424976348877, 0.0008679214515723288, 0.7004011273384094, 0.006492865737527609, 0.006845415104180574, 0.008073966950178146, 0.006014453712850809], [0.9483783841133118, 2.006682007049676e-05, 9.259118814952672e-05, 0.042810384184122086, 0.0003976056759711355, 0.0002621822350192815, 0.008038733154535294], [0.9802765846252441, 1.5915684343781322e-05, 1.1579414604057092e-05, 0.0005902877310290933, 0.015757551416754723, 9.688919817563146e-05, 0.0032511032186448574], [0.8082399964332581, 7.217595702968538e-05, 0.0007381315226666629, 0.0005924170836806297, 0.0007292538648471236, 0.08415910601615906, 0.10546895861625671]], [[0.7541858553886414, 0.02163849025964737, 0.023793404921889305, 0.027472278103232384, 0.02552243135869503, 0.029666703194379807, 0.11772085726261139], [0.8978419899940491, 0.020824842154979706, 0.0014527919702231884, 0.0022182364482432604, 0.003314974019303918, 0.003484820481389761, 0.07086231559515], [0.14004652202129364, 0.7395550012588501, 0.010646600276231766, 0.0027492947410792112, 0.019061505794525146, 0.009931860491633415, 0.07800914347171783], [0.08346492797136307, 0.0798456147313118, 0.7079998850822449, 0.03531123325228691, 0.03786861523985863, 0.035840053111314774, 0.019669674336910248], [0.5805392861366272, 0.03223538026213646, 0.11309559643268585, 0.12113698571920395, 0.05439947918057442, 0.02332613430917263, 0.07526718080043793], [0.3260827660560608, 0.010469400323927402, 0.03226277232170105, 0.1558370292186737, 0.3460235893726349, 0.0819612666964531, 0.04736318811774254], [0.12922169268131256, 0.005672635976225138, 0.016520904377102852, 0.018475478515028954, 0.025619160383939743, 0.12979835271835327, 0.6746917963027954]], [[0.45125117897987366, 0.1062847301363945, 0.08787135779857635, 0.06585829704999924, 0.12005169689655304, 0.1377575397491455, 0.030925121158361435], [0.31677985191345215, 0.007332810666412115, 0.17727184295654297, 0.09617550671100616, 0.1237257570028305, 0.1286287009716034, 0.15008556842803955], [0.43172284960746765, 0.05021650344133377, 0.09474462270736694, 0.05315046384930611, 0.25331911444664, 0.08969397842884064, 0.027152469381690025], [0.1994677037000656, 0.1585482507944107, 0.059578996151685715, 0.1727733165025711, 0.1579332798719406, 0.1328883022069931, 0.11881010979413986], [0.7841795086860657, 0.013768351636826992, 0.020683983340859413, 0.020475465804338455, 0.0018952798563987017, 0.14825637638568878, 0.010741015896201134], [0.5923764109611511, 0.05146683752536774, 0.03130984678864479, 0.03138432279229164, 0.28312551975250244, 0.0020603954326361418, 0.008276695385575294], [0.004189720377326012, 0.0023079728707671165, 0.001537686213850975, 0.004125160165131092, 0.004269161727279425, 0.004715634044259787, 0.9788546562194824]], [[0.6577634811401367, 0.036433443427085876, 0.07074495404958725, 0.07611630856990814, 0.030975772067904472, 0.07539094239473343, 0.052575137466192245], [0.7379980087280273, 0.026785828173160553, 0.048854004591703415, 0.019020071253180504, 0.04702256992459297, 0.012212018482387066, 0.10810743272304535], [0.07176852226257324, 0.012195942923426628, 0.02003657817840576, 0.007868225686252117, 0.3119683265686035, 0.45425543189048767, 0.12190703302621841], [0.5707876682281494, 0.022834036499261856, 0.028097786009311676, 0.025290073826909065, 0.1611069291830063, 0.0670616403222084, 0.12482181191444397], [0.5149634480476379, 0.03157384321093559, 0.053652841597795486, 0.07181808352470398, 0.05523314327001572, 0.019988395273685455, 0.2527703046798706], [0.3701399564743042, 0.028838936239480972, 0.03433622419834137, 0.03390032425522804, 0.12194613367319107, 0.14011244475841522, 0.2707260251045227], [0.4571232795715332, 0.026884453371167183, 0.12049125880002975, 0.04419797286391258, 0.09245504438877106, 0.10251378268003464, 0.15633423626422882]], [[0.2559482455253601, 0.00021742303215432912, 0.0007080483483150601, 0.7395803332328796, 0.0008446110878139734, 0.0006480692536570132, 0.0020532046910375357], [0.10297700017690659, 0.06626159697771072, 0.06355256587266922, 0.015162256546318531, 0.4815109968185425, 0.12526021897792816, 0.14527538418769836], [0.09139510989189148, 0.4014699161052704, 0.08463181555271149, 0.003582598641514778, 0.18894410133361816, 0.11663873493671417, 0.11333775520324707], [0.025576679036021233, 0.26395946741104126, 0.11001884192228317, 0.0016925303498283029, 0.2915908992290497, 0.139108344912529, 0.1680532693862915], [0.5350507497787476, 0.03944344073534012, 0.033685702830553055, 0.0025131432339549065, 0.22107937932014465, 0.08818858861923218, 0.08003906160593033], [0.14106808602809906, 0.18554355204105377, 0.0766596570611, 0.0007594499038532376, 0.20980265736579895, 0.2725464105606079, 0.11362020671367645], [0.8607815504074097, 0.0290767103433609, 0.016291294246912003, 0.018963001668453217, 0.03162014111876488, 0.01550578884780407, 0.02776160091161728]], [[0.3103969097137451, 0.1468508243560791, 0.08168201893568039, 0.031314365565776825, 0.084737628698349, 0.1416887640953064, 0.20332951843738556], [0.682360053062439, 0.14791239798069, 0.02599984221160412, 0.012254903092980385, 0.019276350736618042, 0.016025999560952187, 0.09617055952548981], [0.6969309449195862, 0.06391029059886932, 0.029371270909905434, 0.023469625040888786, 0.023595158010721207, 0.012409861199557781, 0.15031279623508453], [0.8201791644096375, 0.03732391446828842, 0.011351956985890865, 0.011923769488930702, 0.005620327778160572, 0.005822361446917057, 0.10777853429317474], [0.2683725655078888, 0.029238052666187286, 0.1292867809534073, 0.015289974398911, 0.10811737179756165, 0.29367560148239136, 0.1560196429491043], [0.8781864047050476, 0.003663623007014394, 0.026548221707344055, 0.0027760835364460945, 0.045963577926158905, 0.025296488776803017, 0.0175656508654356], [0.21023514866828918, 0.12994886934757233, 0.04991674795746803, 0.4941284954547882, 0.033790867775678635, 0.050518330186605453, 0.03146158531308174]], [[0.6846341490745544, 0.05374348163604736, 0.04702654853463173, 0.048191070556640625, 0.05246284604072571, 0.0595434345304966, 0.05439842492341995], [0.09843060374259949, 0.012491824105381966, 0.10499350726604462, 0.24602141976356506, 0.16267044842243195, 0.18753603100776672, 0.18785615265369415], [0.05010509863495827, 0.007251214701682329, 0.011359711177647114, 0.07459252327680588, 0.44948136806488037, 0.22275221347808838, 0.1844578981399536], [0.021745257079601288, 0.0079955430701375, 0.023592792451381683, 0.019260568544268608, 0.16797880828380585, 0.4653569459915161, 0.2940700352191925], [0.7004765272140503, 0.005916736554354429, 0.0075942701660096645, 0.011025508865714073, 0.042634863406419754, 0.11129105091094971, 0.12106101214885712], [0.7505694627761841, 0.014713727869093418, 0.019179314374923706, 0.012419268488883972, 0.056364502757787704, 0.06086718291044235, 0.08588650822639465], [0.5712417364120483, 0.03881651535630226, 0.062347546219825745, 0.10107617825269699, 0.060495149344205856, 0.11775580048561096, 0.04826710373163223]], [[0.7245020866394043, 0.02024746499955654, 0.015133621171116829, 0.055556122213602066, 0.005163839086890221, 0.007489180192351341, 0.17190773785114288], [0.9092499017715454, 0.03731521964073181, 0.0008998432313092053, 0.004657201934605837, 0.0028386502526700497, 0.0034222505055367947, 0.041616812348365784], [0.9469164609909058, 0.00384551496244967, 0.00521814776584506, 0.0030158688314259052, 0.009461170993745327, 0.0025349885690957308, 0.02900785207748413], [0.9800717830657959, 0.0011567152105271816, 0.0010342206805944443, 0.0004778030270244926, 0.0009314424241892993, 0.0009083825279958546, 0.01541970856487751], [0.3100013732910156, 0.0037623627576977015, 0.002514844061806798, 0.004162713419646025, 0.6458115577697754, 0.0048509277403354645, 0.028896214440464973], [0.5737954378128052, 0.003777662292122841, 0.0038429086562246084, 0.003833469934761524, 0.007151671685278416, 0.3892173767089844, 0.018381468951702118], [0.8533321022987366, 0.02333655022084713, 0.03391002118587494, 0.036585334688425064, 0.0037441716995090246, 0.004620393738150597, 0.044471375644207]], [[0.7361360788345337, 0.03555281460285187, 0.0245811864733696, 0.040741924196481705, 0.041551124304533005, 0.04612293839454651, 0.07531396299600601], [0.15272164344787598, 0.005351325497031212, 0.7607570886611938, 0.00767490454018116, 0.03314099460840225, 0.036445409059524536, 0.003908657934516668], [0.6969485282897949, 0.002657124539837241, 0.0004889428964816034, 0.2872990071773529, 0.006337342318147421, 0.0017997591057792306, 0.004469296894967556], [0.07290446013212204, 0.0007728355121798813, 0.00034567018155939877, 0.007747845724225044, 0.7171916961669922, 0.1967475414276123, 0.004289982374757528], [0.696721613407135, 0.0011460172245278955, 0.000793898303527385, 0.00426778057590127, 0.05150753632187843, 0.22536398470401764, 0.020199066027998924], [0.49032604694366455, 0.003724091686308384, 0.00021859948174096644, 0.0065815201960504055, 0.0012970675015822053, 0.021611308678984642, 0.4762413799762726], [0.9197266697883606, 0.0018580821342766285, 0.0035603682044893503, 0.0014970359625294805, 0.009854741394519806, 0.008228854276239872, 0.055274203419685364]], [[0.7884784936904907, 0.015380505472421646, 0.008807881735265255, 0.031014559790492058, 0.015073985792696476, 0.02284235507249832, 0.11840217560529709], [0.3146240711212158, 0.028815895318984985, 0.2194984406232834, 0.1096595898270607, 0.08786457031965256, 0.13413245975971222, 0.10540500283241272], [0.5579685568809509, 0.13547153770923615, 0.013004286214709282, 0.09378109872341156, 0.06722286343574524, 0.057809017598629, 0.0747426450252533], [0.6486228108406067, 0.042467374354600906, 0.023455685004591942, 0.04812118411064148, 0.06727850437164307, 0.07762690633535385, 0.09242749214172363], [0.6688055396080017, 0.03616463020443916, 0.004328626208007336, 0.09827017784118652, 0.012824577279388905, 0.04382394999265671, 0.13578249514102936], [0.9061171412467957, 0.0009448532364331186, 0.0010064747184515, 0.009797219187021255, 0.025758972391486168, 0.01212067250162363, 0.04425457492470741], [0.47304433584213257, 0.03450002148747444, 0.05018695816397667, 0.08857163786888123, 0.032324858009815216, 0.10195096582174301, 0.21942122280597687]]], [[[0.985056459903717, 0.0014408431015908718, 0.0005895842332392931, 0.0007335307309404016, 0.0077371965162456036, 0.0015158295864239335, 0.0029265580233186483], [3.557777574769716e-07, 2.2426878842907172e-07, 0.9999994039535522, 4.9515758604457005e-08, 1.3156221667642853e-09, 6.532063334674376e-09, 2.2783968489648032e-08], [2.405507302682963e-06, 3.807878101724782e-08, 8.35926350362115e-09, 0.9999961853027344, 1.1838174174272353e-07, 1.6998777385701658e-10, 1.326461983808258e-06], [2.6119546419067774e-06, 7.819474490133871e-08, 3.5806837495044874e-09, 1.3940339158580173e-06, 0.9999884366989136, 1.5511994888584013e-06, 5.9301924011379015e-06], [2.0604934434231836e-06, 1.3693498779332458e-08, 1.4939693926407926e-07, 1.4832488126614862e-08, 2.0779825149475073e-07, 0.9999728202819824, 2.4820768885547295e-05], [1.3493678125087172e-05, 3.175726533299894e-06, 6.430426191528227e-10, 2.6438683562446386e-06, 2.170424284742012e-09, 5.5356767916237e-06, 0.9999752044677734], [0.8588605523109436, 0.004240427166223526, 0.01404494233429432, 0.0008773867739364505, 0.011061018332839012, 0.0001793586852727458, 0.11073634773492813]], [[0.6267945170402527, 0.01337734330445528, 0.04069448634982109, 0.05258685722947121, 0.021010490134358406, 0.02374251000583172, 0.22179371118545532], [0.33102747797966003, 0.03978442773222923, 0.37408530712127686, 0.040437959134578705, 0.0007134907064028084, 0.004840797279030085, 0.20911052823066711], [0.23004761338233948, 0.5601721405982971, 0.003471770090982318, 0.01673213765025139, 0.00990013126283884, 0.0022861177567392588, 0.17739006876945496], [0.1431587040424347, 0.05911621078848839, 0.32627055048942566, 0.04727872833609581, 0.018149087205529213, 0.2812194228172302, 0.12480726838111877], [0.4893248677253723, 0.019448643550276756, 0.013682284392416477, 0.14074364304542542, 0.004121908452361822, 0.03370155021548271, 0.29897716641426086], [0.42136305570602417, 0.01678074151277542, 0.035583335906267166, 0.15373998880386353, 0.025167476385831833, 0.0024508675560355186, 0.3449145555496216], [0.7339270710945129, 0.01063457503914833, 0.023198144510388374, 0.023637080565094948, 0.019010476768016815, 0.007760660722851753, 0.1818319857120514]], [[0.6067094206809998, 0.010309671983122826, 0.03504243120551109, 0.00308835506439209, 0.014675332233309746, 0.01899949461221695, 0.3111753463745117], [0.5107582211494446, 0.057569362223148346, 0.014316185377538204, 0.015777239575982094, 0.02984956093132496, 0.016308920457959175, 0.3554205298423767], [0.8099672198295593, 0.006154919508844614, 0.010096377693116665, 0.0028824673499912024, 0.01666170358657837, 0.004607487935572863, 0.14962981641292572], [0.6743955016136169, 0.0289012361317873, 0.02446039579808712, 0.013684798963367939, 0.02997729741036892, 0.012884190306067467, 0.2156965285539627], [0.11761099100112915, 0.10322082042694092, 0.15434856712818146, 0.02493286319077015, 0.1253308206796646, 0.2119256854057312, 0.2626302242279053], [0.5683960318565369, 0.052553415298461914, 0.03823420777916908, 0.058023422956466675, 0.07041610777378082, 0.015932919457554817, 0.1964438557624817], [0.4626033306121826, 0.0370001383125782, 0.053313981741666794, 0.10905493050813675, 0.02019055001437664, 0.038804225623607635, 0.2790328562259674]], [[0.7014880776405334, 0.037322863936424255, 0.028072599321603775, 0.011859370395541191, 0.03669781610369682, 0.0407625287771225, 0.14379669725894928], [0.3227785527706146, 0.0065739392302930355, 0.015484730713069439, 0.022158056497573853, 0.007534374482929707, 0.027076955884695053, 0.5983933806419373], [0.5577903389930725, 0.019117694348096848, 0.014524591155350208, 0.02962525561451912, 0.05604000389575958, 0.06401356309652328, 0.2588885426521301], [0.6280235052108765, 0.05811355262994766, 0.040835216641426086, 0.018966680392622948, 0.04130689799785614, 0.028614839538931847, 0.18413925170898438], [0.30515411496162415, 0.03163330629467964, 0.07259580492973328, 0.1796751320362091, 0.000555689272005111, 0.1586262285709381, 0.25175973773002625], [0.4141704738140106, 0.02940480224788189, 0.019004767760634422, 0.02182297594845295, 0.3893004059791565, 0.0006004328606650233, 0.1256961226463318], [0.9411020278930664, 0.002074174117296934, 0.004392566159367561, 0.003954550717025995, 0.004125147592276335, 0.00837322510778904, 0.0359782949090004]], [[0.9163492918014526, 0.01378915086388588, 0.014820116572082043, 0.01550160814076662, 0.013699344359338284, 0.02309795655310154, 0.0027424634899944067], [0.6261669993400574, 0.01829150691628456, 0.19404862821102142, 0.02441108413040638, 0.05621037259697914, 0.025602957233786583, 0.05526842176914215], [0.7586625814437866, 0.09973921626806259, 0.018061703070998192, 0.03512493520975113, 0.0636523887515068, 0.017114978283643723, 0.007644210942089558], [0.3594350814819336, 0.27218466997146606, 0.06177140027284622, 0.19125862419605255, 0.04685534909367561, 0.027718987315893173, 0.04077586904168129], [0.8251394629478455, 0.04520013555884361, 0.012595487758517265, 0.042425088584423065, 0.036003172397613525, 0.0258759967982769, 0.012760614976286888], [0.6601506471633911, 0.03763087838888168, 0.05009746178984642, 0.06315473467111588, 0.15614184737205505, 0.014535965397953987, 0.01828845404088497], [0.00544083584100008, 5.220114690018818e-05, 0.0003589258703868836, 0.0029874001629650593, 2.875075733754784e-05, 0.00025772149092517793, 0.9908740520477295]], [[0.5979452133178711, 0.029565881937742233, 0.07720346748828888, 0.091805100440979, 0.05841924995183945, 0.0684506967663765, 0.07661044597625732], [0.4043574631214142, 0.18543663620948792, 0.08186045289039612, 0.08900368958711624, 0.021194741129875183, 0.008247620426118374, 0.2098993957042694], [0.5384457111358643, 0.053210437297821045, 0.04217991977930069, 0.11936280131340027, 0.013117671944200993, 0.007147455122321844, 0.22653602063655853], [0.2173214852809906, 0.09892340004444122, 0.027587562799453735, 0.09962940216064453, 0.03618977218866348, 0.028003228828310966, 0.4923451542854309], [0.6229141354560852, 0.017946060746908188, 0.023338772356510162, 0.07906484603881836, 0.01943514496088028, 0.009945533238351345, 0.22735540568828583], [0.8380599617958069, 0.016035854816436768, 0.005372137296944857, 0.07611576467752457, 0.0015532064717262983, 0.004522977862507105, 0.05834004282951355], [0.7111034989356995, 0.008712098933756351, 0.01619146764278412, 0.023530350998044014, 0.0129911620169878, 0.01580200530588627, 0.21166937053203583]], [[0.18513154983520508, 0.053560949862003326, 0.09094435721635818, 0.16833294928073883, 0.0424967035651207, 0.06660781800746918, 0.3929256498813629], [0.06245934218168259, 0.7683767080307007, 0.00039309693966060877, 0.0013040340272709727, 0.0006523450720123947, 0.00011860118684126064, 0.16669578850269318], [0.17250727117061615, 0.0008054510690271854, 0.4656783640384674, 0.004818743094801903, 0.00042746233521029353, 0.0009261962259188294, 0.35483646392822266], [0.021801693364977837, 0.00034526945091784, 0.001108047435991466, 0.9180059432983398, 7.358573202509433e-05, 0.00233001122251153, 0.0563354566693306], [0.01894494704902172, 0.00022453216661233455, 0.00014028584701009095, 0.0005415233317762613, 0.9598988890647888, 6.424009916372597e-05, 0.02018556371331215], [0.029268978163599968, 2.0516798031167127e-05, 0.0001891894789878279, 0.005839451681822538, 5.927075835643336e-05, 0.9409068822860718, 0.02371574193239212], [0.19360429048538208, 0.08274529874324799, 0.14880259335041046, 0.1266433745622635, 0.04935918748378754, 0.06493298709392548, 0.3339122533798218]], [[0.7948936223983765, 0.03012421354651451, 0.038732144981622696, 0.014436823315918446, 0.03249528631567955, 0.029103143140673637, 0.060214705765247345], [0.3475186228752136, 0.2033781260251999, 0.06486359983682632, 0.09834843128919601, 0.026705684140324593, 0.03552834689617157, 0.22365719079971313], [0.5611793994903564, 0.16241711378097534, 0.0373896025121212, 0.03830964118242264, 0.05155469849705696, 0.024346426129341125, 0.12480306625366211], [0.2513645589351654, 0.3489347994327545, 0.19954931735992432, 0.04545710235834122, 0.03393341600894928, 0.031685613095760345, 0.08907516300678253], [0.5284667611122131, 0.11261065304279327, 0.10845369100570679, 0.030991697683930397, 0.0007356501300819218, 0.09901256114244461, 0.11972899734973907], [0.2309345155954361, 0.21778443455696106, 0.1288899928331375, 0.061257265508174896, 0.2357511818408966, 0.012384780682623386, 0.1129978597164154], [0.9358673691749573, 0.009671767242252827, 0.007841868326067924, 0.004800467751920223, 0.019100379198789597, 0.0075930021703243256, 0.015125170350074768]], [[0.9734523892402649, 0.012073635123670101, 0.003763930406421423, 0.0031613633036613464, 0.0027650503907352686, 0.0032508561853319407, 0.0015328136505559087], [0.1688120812177658, 0.6997395157814026, 0.04197990521788597, 0.004630006849765778, 0.017104441300034523, 0.03142496570944786, 0.036309171468019485], [0.7010592818260193, 0.2074863463640213, 0.013012755662202835, 0.006361979525536299, 0.019177019596099854, 0.033517222851514816, 0.01938537135720253], [0.41203010082244873, 0.00864544790238142, 0.013386206701397896, 0.3381035625934601, 0.025659937411546707, 0.16037492454051971, 0.04179979860782623], [0.6998004913330078, 0.10275983810424805, 0.06948436051607132, 0.012668384239077568, 0.017855163663625717, 0.08026805520057678, 0.017163759097456932], [0.7289060354232788, 0.0961805135011673, 0.006980294361710548, 0.13080281019210815, 0.023748962208628654, 0.005950576160103083, 0.007430686615407467], [0.00511113042011857, 0.0002931045601144433, 0.001059343689121306, 0.004367070272564888, 0.0002183400938520208, 5.068439349997789e-05, 0.9889003038406372]], [[0.7600611448287964, 0.002020136220380664, 0.0005084695876576006, 0.0007629190804436803, 0.00029887526761740446, 1.6623400370008312e-05, 0.23633185029029846], [4.5425278472066566e-07, 9.848544095802936e-07, 0.9999984502792358, 5.545208292545567e-09, 9.891488739199872e-10, 1.2685839045900593e-09, 1.007597703051033e-07], [7.007964086369611e-06, 6.948548048058001e-08, 1.6034046268487145e-07, 0.9999724626541138, 5.568776018094468e-08, 5.29013985395288e-12, 2.025059802690521e-05], [3.2406799164164113e-06, 4.9849028016524244e-08, 4.938102149409929e-10, 1.5665203534354077e-07, 0.9999935626983643, 4.914679152534518e-07, 2.502288907635375e-06], [4.3541407990232983e-07, 1.1193634907868955e-09, 2.9587434724476225e-08, 2.3798387704943025e-09, 2.7224904997069643e-08, 0.9999966621398926, 2.847217274393188e-06], [0.0008659124723635614, 3.574165020836517e-05, 2.030636769845273e-09, 8.5643705460825e-06, 1.9271282347688157e-09, 9.482252607995179e-06, 0.9990801811218262], [0.960979163646698, 0.001015886664390564, 0.008174123242497444, 0.0002007078001042828, 0.007948674261569977, 0.00015130698739085346, 0.021530089899897575]], [[0.6987394094467163, 0.029227575287222862, 0.023391330614686012, 0.015617134980857372, 0.07946799695491791, 0.056135211139917374, 0.09742125123739243], [0.03144076466560364, 0.9256547093391418, 0.016154900193214417, 0.006471296772360802, 0.009100313298404217, 0.0029382084030658007, 0.008239776827394962], [0.5520363450050354, 0.2883472740650177, 0.041133467108011246, 0.019749116152524948, 0.05141652002930641, 0.011838527396321297, 0.03547871485352516], [0.6868693232536316, 0.0756298378109932, 0.06846041232347488, 0.009949175640940666, 0.11997368931770325, 0.018906719982624054, 0.020210862159729004], [0.08013693243265152, 0.20979918539524078, 0.14823830127716064, 0.03641379252076149, 0.5002643465995789, 0.005598635878413916, 0.019548781216144562], [0.38505423069000244, 0.07807385921478271, 0.08724595606327057, 0.10728289932012558, 0.025732580572366714, 0.2407485395669937, 0.07586193829774857], [0.9764831066131592, 0.0013496821047738194, 0.002709572669118643, 0.0023492183536291122, 0.0008607243653386831, 0.004299568943679333, 0.011948106810450554]], [[0.7906399369239807, 0.008768774569034576, 0.015582659281790257, 0.024800332263112068, 0.004581201821565628, 0.008929600939154625, 0.1466975063085556], [0.16889996826648712, 0.08819611370563507, 0.31516313552856445, 0.20652854442596436, 0.053754355758428574, 0.049671512097120285, 0.11778626590967178], [0.16280533373355865, 0.08530983328819275, 0.02995029091835022, 0.2315554916858673, 0.08885926753282547, 0.29205408692359924, 0.10946562886238098], [0.08361721783876419, 0.04655612260103226, 0.015698732808232307, 0.025179490447044373, 0.050768278539180756, 0.4824173152446747, 0.29576292634010315], [0.4434986710548401, 0.01367797888815403, 0.05205053091049194, 0.036590419709682465, 0.014668618328869343, 0.15329381823539734, 0.2862200140953064], [0.7782698273658752, 0.004292966797947884, 0.017664778977632523, 0.027903733775019646, 0.0046833595260977745, 0.03917250409722328, 0.12801286578178406], [0.8925352692604065, 0.002653899136930704, 0.0057600801810622215, 0.018622074276208878, 0.0012788616586476564, 0.0034865224733948708, 0.07566320896148682]]], [[[0.050089284777641296, 0.0030106105841696262, 0.026333145797252655, 0.0016870402032509446, 0.08465155959129333, 0.17734363675117493, 0.6568846702575684], [0.00267928559333086, 0.0005459404201246798, 0.00676741823554039, 0.0008206231868825853, 0.025507500395178795, 0.011107395403087139, 0.9525717496871948], [0.023832062259316444, 0.027996333315968513, 0.04591021314263344, 0.10517080128192902, 0.1291804313659668, 0.3488638997077942, 0.3190462589263916], [0.007475229445844889, 0.0014911015750840306, 0.08048085123300552, 0.004552613012492657, 0.007235056255012751, 0.32978540658950806, 0.568979799747467], [0.009156246669590473, 0.0011992545332759619, 0.004580219276249409, 0.0006036873091943562, 0.0030921348370611668, 0.0010043848305940628, 0.9803640842437744], [0.0030160120222717524, 0.0016427497612312436, 0.0019193212501704693, 0.00021151386317797005, 0.00021799735259264708, 0.039394479244947433, 0.953597903251648], [0.00030131920357234776, 1.765682782206568e-07, 7.586348260701925e-08, 6.527325808747264e-07, 1.5364450973720523e-06, 8.388944934267784e-07, 0.9996954202651978]], [[0.05069448798894882, 0.16863621771335602, 0.1347249299287796, 0.04763063043355942, 0.14184653759002686, 0.42733603715896606, 0.029131170362234116], [0.03509017452597618, 0.17849253118038177, 0.18315903842449188, 0.2007351964712143, 0.03223800286650658, 0.2575076222419739, 0.1127774640917778], [0.24049527943134308, 0.16794905066490173, 0.049736157059669495, 0.21294403076171875, 0.10372896492481232, 0.09991833567619324, 0.1252281665802002], [0.029168397188186646, 0.18428568542003632, 0.17493019998073578, 0.28474730253219604, 0.06993390619754791, 0.22299599647521973, 0.03393852338194847], [0.06641583144664764, 0.0967196375131607, 0.19374492764472961, 0.3070578873157501, 0.06330253928899765, 0.013824617490172386, 0.25893452763557434], [0.5157846808433533, 0.045291073620319366, 0.057956989854574203, 0.13863754272460938, 0.03434258699417114, 0.07117118686437607, 0.13681593537330627], [0.00582166900858283, 0.00817391648888588, 0.02970028668642044, 0.004168334882706404, 0.007958449423313141, 0.0003493608965072781, 0.9438279867172241]], [[0.5583842992782593, 0.06995390355587006, 0.03687828406691551, 0.025291290134191513, 0.006760577671229839, 0.014935729093849659, 0.2877959609031677], [0.11456750333309174, 0.03877658024430275, 0.06899812817573547, 0.001958089880645275, 0.004318675957620144, 0.004914180375635624, 0.7664667963981628], [0.04572436586022377, 0.03054158203303814, 0.31606972217559814, 0.00887355487793684, 0.031132090836763382, 0.03083418868482113, 0.5368245244026184], [0.0733942985534668, 0.0346195288002491, 0.07147195935249329, 0.07474859058856964, 0.020049836486577988, 0.03887491300702095, 0.6868408918380737], [0.08343511819839478, 0.0224626362323761, 0.054353389889001846, 0.010058960877358913, 0.008334249258041382, 0.03748554736375809, 0.7838701605796814], [0.07988100498914719, 0.019357042387127876, 0.04088495299220085, 0.055189572274684906, 0.02764636091887951, 0.004231491591781378, 0.7728095650672913], [0.0003876705886796117, 3.7426045764732407e-06, 2.064067530227476e-06, 1.2451464499463327e-06, 7.566847216367023e-06, 1.346402427770954e-06, 0.9995964169502258]], [[0.005478495731949806, 0.0006743519334122539, 0.0019002747721970081, 0.0016975942999124527, 0.019271988421678543, 0.005151758901774883, 0.9658253788948059], [0.009912867099046707, 0.6749346256256104, 1.2173368304502219e-05, 3.364689837326296e-05, 0.00010446425585541874, 2.715075197556871e-06, 0.3149994909763336], [0.02622864954173565, 1.9061766579397954e-05, 0.5072479844093323, 9.565175423631445e-05, 9.38051744014956e-05, 4.666787572205067e-05, 0.4662681818008423], [0.017944809049367905, 1.1905984138138592e-05, 1.2598044122569263e-05, 0.6739220023155212, 4.638592145056464e-05, 3.806519089266658e-05, 0.30802419781684875], [0.02735850028693676, 3.984069189755246e-05, 3.6217511478753295e-06, 7.997486136446241e-06, 0.025263125076889992, 6.438678246922791e-05, 0.9472624659538269], [0.03992895781993866, 1.6599273067186004e-06, 4.935059678246034e-06, 2.022724220296368e-05, 8.119914855342358e-05, 0.04120111092925072, 0.9187619686126709], [3.921242750948295e-05, 2.1400971661478252e-07, 2.748266751950723e-07, 3.4501869095038273e-07, 6.092881221775315e-08, 9.69371694026222e-09, 0.9999599456787109]], [[0.04555855318903923, 0.08348722010850906, 0.11451748013496399, 0.009871364571154118, 0.20443017780780792, 0.2548188865184784, 0.28731632232666016], [0.02306748926639557, 0.07813291996717453, 0.5280327200889587, 0.013706037774682045, 0.021460415795445442, 0.051935043185949326, 0.28366538882255554], [0.011554190889000893, 0.16806970536708832, 0.33552423119544983, 0.027017654851078987, 0.1794881522655487, 0.07496267557144165, 0.20338335633277893], [0.05224965885281563, 0.08727401494979858, 0.24877242743968964, 0.05561913922429085, 0.1413755565881729, 0.061014074832201004, 0.35369518399238586], [0.007322514429688454, 0.029746176674962044, 0.08867865800857544, 0.026270190253853798, 0.024212315678596497, 0.017974261194467545, 0.8057959079742432], [0.03807580843567848, 0.009535493329167366, 0.04187881574034691, 0.027198296040296555, 0.06139382719993591, 0.05019066482782364, 0.7717270255088806], [0.001624344615265727, 0.00013706328172702342, 8.729039836907759e-05, 2.3352358766715042e-05, 0.0002165460173273459, 0.0003779000253416598, 0.9975334405899048]], [[0.00023922875698190182, 0.00030722562223672867, 0.0003608538245316595, 0.0005672922707162797, 0.00028810108778998256, 0.0003715698840096593, 0.9978657364845276], [0.03113269805908203, 0.006447639316320419, 0.09924555569887161, 0.06662686914205551, 0.1522403210401535, 0.03288079425692558, 0.6114261746406555], [0.07980263233184814, 0.004959160462021828, 0.014427682384848595, 0.03473928943276405, 0.2468917816877365, 0.4896913170814514, 0.12948817014694214], [0.003974949009716511, 0.004756461828947067, 0.0012125390348955989, 0.0004482090880628675, 0.007734213024377823, 0.9713981747627258, 0.010475418530404568], [0.0075206938199698925, 0.006453795824199915, 0.02855329029262066, 0.004109150264412165, 0.012706448324024677, 0.053142793476581573, 0.8875138759613037], [0.0026187454350292683, 7.995055057108402e-05, 0.0026765759103000164, 0.00265726656652987, 0.0011318278266116977, 0.0004631841438822448, 0.9903724193572998], [2.3782149582984857e-05, 2.6265384803991765e-05, 3.733811536221765e-05, 6.525397475343198e-05, 6.0640028095804155e-05, 3.413845843169838e-05, 0.9997527003288269]], [[0.004081498831510544, 0.001369661302305758, 0.0017524684080854058, 0.0005742397042922676, 0.00840021576732397, 0.0032569405157119036, 0.9805650115013123], [0.024017121642827988, 0.01058447640389204, 0.0005629843799397349, 0.000855602731462568, 0.006004138849675655, 0.0035746069625020027, 0.9544010758399963], [0.08167081326246262, 0.14579936861991882, 0.014076320454478264, 0.026690881699323654, 0.053234267979860306, 0.010362881235778332, 0.6681654453277588], [0.058863233774900436, 0.012263448908925056, 0.17848356068134308, 0.1230606958270073, 0.0388084277510643, 0.009659886360168457, 0.5788607597351074], [0.007980776950716972, 0.006451606750488281, 0.0010698414407670498, 0.0014414809411391616, 0.0030317276250571012, 0.019269051030278206, 0.9607555270195007], [0.047270819544792175, 0.02630155347287655, 0.1338573843240738, 0.0988379418849945, 0.05232663452625275, 0.02303779311478138, 0.6183679103851318], [0.00013799523003399372, 6.684287654934451e-05, 3.459677827777341e-06, 2.293690158694517e-06, 5.797416088171303e-05, 2.9867369448766112e-05, 0.9997015595436096]], [[0.004333897493779659, 0.0009622303186915815, 0.0005661449977196753, 0.0012322462862357497, 0.0017826721305027604, 0.00093689258210361, 0.9901859760284424], [0.010375536046922207, 0.006400649901479483, 0.0052492329850792885, 0.002438850235193968, 0.0012319110101088881, 0.008594651706516743, 0.9657092094421387], [0.005237391218543053, 0.1956070214509964, 0.011839321814477444, 0.0018570864340290427, 0.002532507525756955, 0.003752657677978277, 0.7791740298271179], [0.010180767625570297, 0.005477883853018284, 0.603327751159668, 0.003332708729431033, 0.0363071970641613, 0.0024691817816346884, 0.3389045298099518], [0.001924146548844874, 0.00025073651340790093, 0.015291672199964523, 0.19895640015602112, 0.02677023597061634, 0.0005368580459617078, 0.7562700510025024], [0.0015165992081165314, 0.0005705532967112958, 0.00212028413079679, 0.032921794801950455, 0.27847668528556824, 0.00025148963322862983, 0.684142529964447], [0.00015663309022784233, 9.912670793710276e-05, 0.00011203726899111643, 0.0008820864604786038, 0.0001146637587225996, 4.32019260188099e-05, 0.99859219789505]], [[0.022442664951086044, 0.005046024918556213, 0.005273850169032812, 0.0017619673162698746, 0.0013085334794595838, 0.0014963786816224456, 0.962670624256134], [0.07352255284786224, 0.0039742435328662395, 0.02416258491575718, 0.025827115401625633, 0.02132314257323742, 0.030190955847501755, 0.8209993839263916], [0.050693780183792114, 0.022918352857232094, 0.019768521189689636, 0.04179445281624794, 0.1458924561738968, 0.10024382919073105, 0.6186886429786682], [0.05902424827218056, 0.019107704982161522, 0.03687053173780441, 0.2552109956741333, 0.0597405768930912, 0.1211247518658638, 0.4489212930202484], [0.03931557759642601, 0.0010547003475949168, 0.00203725416213274, 0.00447311345487833, 0.0016143363900482655, 0.010356093756854534, 0.9411489367485046], [0.009471031837165356, 0.001990561606362462, 0.0012378889368847013, 0.0013605491258203983, 0.0011171610094606876, 0.0006019253050908446, 0.9842208623886108], [0.002510424703359604, 0.0016165018314495683, 0.000303098582662642, 0.0009783871937543154, 0.00036171788815408945, 0.00030492281075567007, 0.9939249157905579]], [[0.021543972194194794, 0.006730372551828623, 0.008637446910142899, 0.009865115396678448, 0.03877226263284683, 0.020432107150554657, 0.894018828868866], [0.1525585800409317, 0.0017308155074715614, 0.022839533165097237, 0.1458483338356018, 0.00968187116086483, 0.016433143988251686, 0.6509077548980713], [0.07885497063398361, 0.00861486978828907, 0.034005630761384964, 0.015648795291781425, 0.05803840234875679, 0.029401807114481926, 0.7754355072975159], [0.04996257275342941, 0.05435610190033913, 0.04092084616422653, 0.39810651540756226, 0.2503047287464142, 0.03329230099916458, 0.1730569452047348], [0.07688769698143005, 0.015891224145889282, 0.02197732962667942, 0.04627958685159683, 0.00025040472974069417, 0.12281962484121323, 0.7158941030502319], [0.045126065611839294, 0.006716564763337374, 0.026668347418308258, 0.009631271474063396, 0.19558949768543243, 4.394660209072754e-05, 0.7162242531776428], [0.010475576855242252, 0.0010062732035294175, 0.0014394395984709263, 0.005009960848838091, 0.0034172995947301388, 0.004837943706661463, 0.9738134145736694]], [[0.007882583886384964, 0.0043406980112195015, 0.0021599442698061466, 0.0009841490536928177, 0.001620404771529138, 0.001075222622603178, 0.9819371104240417], [0.08444961905479431, 0.025747060775756836, 0.017349140718579292, 0.020393207669258118, 0.02000914141535759, 0.006544934585690498, 0.8255068063735962], [0.06421460211277008, 0.5512089729309082, 0.030895747244358063, 0.009555023163557053, 0.03657866641879082, 0.033316560089588165, 0.274230420589447], [0.06415563821792603, 0.16455163061618805, 0.3252579867839813, 0.061762526631355286, 0.10572387278079987, 0.034854792058467865, 0.24369347095489502], [0.01379756722599268, 0.0208902545273304, 0.13880372047424316, 0.02653084322810173, 0.024868587031960487, 0.004934265743941069, 0.7701747417449951], [0.013200780376791954, 0.006600634194910526, 0.10100674629211426, 0.02473859116435051, 0.2722649872303009, 0.009006698615849018, 0.5731816291809082], [0.0006362482672557235, 6.645291432505473e-05, 4.670831185649149e-05, 0.000124271449749358, 0.00020823800878133625, 8.69928189786151e-05, 0.9988312125205994]], [[0.011970254592597485, 0.008687625639140606, 0.0005284982617013156, 4.9486458010505885e-05, 0.0002632971154525876, 0.0001366826327284798, 0.9783641695976257], [0.02396388351917267, 0.004388854373246431, 0.29474231600761414, 0.004704686813056469, 0.002130888169631362, 0.002298366278409958, 0.66777104139328], [0.11555702984333038, 0.007937701418995857, 0.009554717689752579, 0.3048385679721832, 0.18473313748836517, 0.006427170243114233, 0.3709516227245331], [0.010677716694772243, 0.0026684501208364964, 0.0017233509570360184, 0.00500058988109231, 0.8724848628044128, 0.06844476610422134, 0.0390002466738224], [0.027664195746183395, 0.0011724107898771763, 0.0006432501832023263, 0.002792105544358492, 0.060213666409254074, 0.11210349202156067, 0.7954109311103821], [0.005127182696014643, 0.008323516696691513, 0.00037502311170101166, 0.0003261886886321008, 0.0001682301954133436, 0.00023608926858287305, 0.9854438900947571], [0.001411482342518866, 0.0009365020669065416, 0.0003413960221223533, 0.00012833914661314338, 0.00010916386963799596, 0.00011706482473528013, 0.9969559907913208]]], [[[0.00021056192053947598, 0.001298891264013946, 0.0037829449865967035, 0.0008018299122340977, 0.0015547636430710554, 0.002497923793271184, 0.9898530840873718], [0.006885988172143698, 0.011207086965441704, 0.008642933331429958, 0.0018006988102570176, 0.005126051139086485, 0.007527097128331661, 0.9588101506233215], [0.005406178999692202, 0.014091823250055313, 0.006841517053544521, 0.004990465473383665, 0.009165213443338871, 0.002481468953192234, 0.9570233225822449], [0.011988341808319092, 0.04406719654798508, 0.11073318123817444, 0.07922571152448654, 0.046241674572229385, 0.024885596707463264, 0.6828582882881165], [0.002636935794726014, 0.00309246894903481, 0.01173054426908493, 0.002613753778859973, 0.001245668507181108, 0.0016617412911728024, 0.9770187735557556], [0.0023831927683204412, 0.0056458283215761185, 0.028296811506152153, 0.01836324669420719, 0.006772975437343121, 0.0037942074704915285, 0.9347437024116516], [0.00040544720832258463, 0.0005953566869720817, 0.0022219428792595863, 0.001863681012764573, 0.0007571027963422239, 0.0010356261627748609, 0.9931208491325378]], [[0.0015928164357319474, 0.0019580929074436426, 0.0030985858757048845, 0.002747792052105069, 0.005892145913094282, 0.004394811112433672, 0.9803157448768616], [0.005414713639765978, 0.0048766969703137875, 0.22733592987060547, 0.03295258432626724, 0.08330646902322769, 0.03756161779165268, 0.6085520386695862], [0.007300915662199259, 0.0007000642362982035, 0.013599256053566933, 0.049792055040597916, 0.034689247608184814, 0.21481283009052277, 0.6791056394577026], [0.004568600561469793, 0.0051712156273424625, 0.030457628890872, 0.09387795627117157, 0.0393424928188324, 0.1900871843099594, 0.6364948749542236], [0.0015400038100779057, 0.0004383773193694651, 0.0010120084043592215, 0.0002997583942487836, 0.0007655807421542704, 0.0007527381530962884, 0.9951915740966797], [0.002278820378705859, 0.0016245112055912614, 0.004135185852646828, 0.0005237685982137918, 0.0027249623090028763, 0.0007250672788359225, 0.987987756729126], [0.0008597197593189776, 0.00018517926218919456, 0.00041338158189319074, 0.0003779937978833914, 0.0006432942464016378, 0.0006991628906689584, 0.9968212842941284]], [[0.00016468441754113883, 0.031036606058478355, 0.005972853861749172, 0.0004657613462768495, 0.0008625979535281658, 0.0005579751450568438, 0.9609394073486328], [0.0016058115288615227, 0.0029413821175694466, 0.6456179022789001, 0.009402073919773102, 0.02016240358352661, 0.007132537662982941, 0.31313785910606384], [0.011007201857864857, 0.00847634021192789, 0.021846970543265343, 0.15482470393180847, 0.03369251638650894, 0.02497740276157856, 0.7451749444007874], [0.0037578861229121685, 0.014310800470411777, 0.01905406452715397, 0.01050627138465643, 0.1947583705186844, 0.04608709737658501, 0.7115254402160645], [0.0016195264179259539, 0.0023740767501294613, 0.001267758896574378, 0.008687682449817657, 0.003266984596848488, 0.11036840081214905, 0.8724155426025391], [0.000897617603186518, 0.009271221235394478, 0.0053699989803135395, 0.049533020704984665, 0.0025998433120548725, 0.004230407997965813, 0.9280979037284851], [0.0026627674233168364, 0.0005118474364280701, 0.0019977479241788387, 0.0005383995594456792, 0.000453822169220075, 0.0006890120566822588, 0.9931463599205017]], [[0.0003385998716112226, 0.00016523410158697516, 9.671498264651746e-05, 6.478161958511919e-05, 0.0014190494548529387, 0.0002496509987395257, 0.9976660013198853], [0.00201142649166286, 0.0013880397891625762, 0.0008894805214367807, 0.001594768138602376, 0.0026688093785196543, 0.0006849263445474207, 0.9907625317573547], [0.0008152814698405564, 0.0026592519134283066, 0.002584509551525116, 0.002391490153968334, 0.007853114046156406, 0.000363971950719133, 0.9833323955535889], [0.0011316236341372132, 0.002007885603234172, 0.004120106343179941, 0.002744955476373434, 0.008557227440178394, 0.004967624321579933, 0.9764705896377563], [0.002155349124222994, 5.859697557752952e-05, 0.00017109945474658161, 0.00024356500944122672, 0.000303959590382874, 0.0005900468677282333, 0.9964774250984192], [0.0022318223491311073, 0.0008903032285161316, 0.006206119898706675, 0.002791670151054859, 0.01660093292593956, 0.0017706655198708177, 0.9695084691047668], [0.002814964158460498, 0.0004639493708964437, 7.829575042705983e-05, 0.00024113798281177878, 0.00029977611848153174, 0.0010374569101259112, 0.9950644373893738]], [[0.0001013812143355608, 3.951682629121933e-06, 2.078132274618838e-05, 7.626630394952372e-05, 1.8580192772787996e-05, 5.171230441192165e-05, 0.9997273087501526], [0.11470001935958862, 0.0003332569031044841, 0.0011170924408361316, 0.000289720919681713, 0.000888326670974493, 0.010993614792823792, 0.8716781139373779], [0.0005561484140343964, 0.871965229511261, 0.03738171607255936, 0.0003967668453697115, 0.005633944645524025, 0.00030503043672069907, 0.08376118540763855], [0.0015781434485688806, 0.000893839169293642, 0.9010305404663086, 0.007509317714720964, 0.0011481227120384574, 0.005348034203052521, 0.08249195665121078], [0.004388722591102123, 0.00034152541775256395, 0.0014604381285607815, 0.0770145058631897, 0.0039459653198719025, 4.4454169255914167e-05, 0.9128044247627258], [0.00045827878057025373, 2.8000034944852814e-05, 0.009026712737977505, 0.02800380438566208, 0.9073025584220886, 6.349305476760492e-05, 0.05511726066470146], [0.0002090398338623345, 1.8429860574542545e-05, 3.9974405808607116e-05, 0.00023440999211743474, 0.00020737569138873369, 5.475935176946223e-05, 0.999235987663269]], [[0.00011433162580942735, 5.7026827562367544e-05, 0.0016983171226456761, 9.659242641646415e-05, 0.008571508340537548, 0.003660571528598666, 0.9858015179634094], [0.0018398393876850605, 0.0011347502004355192, 0.07902510464191437, 0.004549826495349407, 0.08397452533245087, 0.05682233348488808, 0.7726536393165588], [0.0002777086046990007, 0.00018290102889295667, 0.005127133801579475, 0.0020053056068718433, 0.02201574295759201, 0.00811892468482256, 0.9622723460197449], [0.004244446288794279, 0.0025432417169213295, 0.01864483579993248, 0.006978495512157679, 0.04138459265232086, 0.07882312685251236, 0.8473812341690063], [0.000414670241298154, 0.00011131605424452573, 0.0006720785167999566, 0.00023277160653378814, 0.00021025912428740412, 0.0010875094449147582, 0.9972713589668274], [0.002214999869465828, 0.00037463594344444573, 0.0012347805313766003, 0.002041266765445471, 0.00445904303342104, 0.0004711697984021157, 0.9892041087150574], [3.654130296126823e-06, 2.2558733689947985e-06, 1.2826317288272548e-05, 2.588071765785571e-06, 0.00011307668319204822, 9.362548007629812e-05, 0.9997720122337341]], [[0.01079516764730215, 0.0003659657668322325, 0.006227799225598574, 0.00028735268278978765, 0.004065086133778095, 0.004091495182365179, 0.9741671681404114], [0.004254186060279608, 0.0010567271383479238, 0.13088588416576385, 0.0188341923058033, 0.012581486254930496, 0.013304827734827995, 0.8190826773643494], [0.0008229000959545374, 0.0002435734058963135, 0.007339776959270239, 0.00893720705062151, 0.00033568221260793507, 0.0026561017148196697, 0.97966468334198], [0.001694443286396563, 0.00038974740891717374, 0.005554414354264736, 0.004398598335683346, 0.006870772689580917, 0.0185410063713789, 0.9625508785247803], [0.02374984696507454, 0.00026700965827330947, 0.0014759749174118042, 0.0003681738453451544, 0.0021935650147497654, 0.004721485078334808, 0.9672238826751709], [0.0034659807570278645, 0.0005745126982219517, 0.0006030555232428014, 0.0007913378649391234, 0.0009935511043295264, 0.0008131593349389732, 0.9927583932876587], [0.001370057463645935, 0.0004616737423930317, 0.0003333377535454929, 0.0004085908003617078, 0.0022467609960585833, 0.004835672676563263, 0.9903438091278076]], [[0.001304701087065041, 0.0007355490233749151, 0.0007058186456561089, 0.00048109915223903954, 0.0003062723553739488, 0.003002541372552514, 0.993463933467865], [0.015845702961087227, 0.0001668665645411238, 0.005051771644502878, 0.0034675218630582094, 0.0006060553132556379, 0.00010726832260843366, 0.9747547507286072], [0.00014201867452356964, 0.0010352490935474634, 0.002111043082550168, 0.0013059203047305346, 0.0005332833388820291, 0.00026084689307026565, 0.9946115016937256], [0.002391687361523509, 0.0017616160912439227, 0.026863692328333855, 0.0032126065343618393, 0.0022170240990817547, 0.006718161515891552, 0.956835150718689], [0.009450025856494904, 0.0007576151983812451, 0.003569401800632477, 0.0014529988402500749, 0.00030295446049422026, 0.00010147121793124825, 0.9843655824661255], [0.006090831942856312, 0.003235487500205636, 0.06806965172290802, 0.016618167981505394, 0.04780030623078346, 0.004653590731322765, 0.8535320162773132], [0.0014075679937377572, 0.0028249952010810375, 0.002338654361665249, 0.0019804630428552628, 0.0018233958398923278, 0.002160628791898489, 0.9874643087387085]], [[0.001878845738247037, 0.0023047677241265774, 0.0014568414771929383, 0.0007192083867266774, 0.005192837677896023, 0.0016174906631931663, 0.9868300557136536], [0.014269622042775154, 0.015970569103956223, 0.04972502589225769, 0.002527136355638504, 0.005387305282056332, 0.025213193148374557, 0.8869070410728455], [0.007154006510972977, 0.0069857388734817505, 0.011584490537643433, 0.0016852328553795815, 0.0062523894011974335, 0.006387318018823862, 0.9599508047103882], [0.01840989664196968, 0.0011880871606990695, 0.004243780393153429, 0.014080367051064968, 0.0027215187437832355, 0.010692759416997433, 0.948663592338562], [0.004864267073571682, 0.002225203439593315, 0.0013244976289570332, 0.008654957637190819, 0.0049843876622617245, 0.005543122533708811, 0.9724035859107971], [0.008053775876760483, 0.0007306179613806307, 0.0005340647767297924, 0.0031154321040958166, 0.0018036438850685954, 0.00344581576064229, 0.9823165535926819], [0.0014896360225975513, 0.0004994496703147888, 0.0005343985976651311, 0.0015323719708248973, 0.0019340335857123137, 0.001878846320323646, 0.9921312928199768]], [[0.00018437797552905977, 0.0004844370123464614, 0.0024116572458297014, 0.001752435346134007, 0.002368333050981164, 0.0012018666602671146, 0.9915968775749207], [0.00770517298951745, 0.0020718486048281193, 0.0039046930614858866, 0.0010942543158307672, 0.0023087088484317064, 0.0077780988067388535, 0.9751372933387756], [0.0061212824657559395, 0.03133763000369072, 0.013017999939620495, 0.000963150174356997, 0.004801518749445677, 0.00518550630658865, 0.938572883605957], [0.009000467136502266, 0.011381039395928383, 0.36685582995414734, 0.03629768267273903, 0.01625773310661316, 0.026639239862561226, 0.5335680842399597], [0.0015017736004665494, 0.004730394575744867, 0.010496379807591438, 0.007798941805958748, 0.0021620579063892365, 0.0038084588013589382, 0.9695019721984863], [0.001301325624808669, 0.004416888579726219, 0.22871063649654388, 0.07455392926931381, 0.014731515198946, 0.003093036590144038, 0.6731926798820496], [0.0010709468042477965, 0.0009417238179594278, 0.0010028432589024305, 0.0018487191991880536, 0.001795027288608253, 0.001762976055033505, 0.9915777444839478]], [[3.997235398855992e-05, 7.976121560204774e-05, 0.0006691091111861169, 0.00012267239799257368, 0.0016868333332240582, 0.004667195491492748, 0.992734432220459], [0.004530610516667366, 0.001807896769605577, 0.07135268300771713, 0.02537006326019764, 0.051807865500450134, 0.14118054509162903, 0.7039504051208496], [0.00665776152163744, 0.005628254730254412, 0.010236997157335281, 0.0516478531062603, 0.05953957512974739, 0.4209483563899994, 0.4453411400318146], [0.004416151437908411, 0.0029439758509397507, 0.001858012517914176, 0.006992395967245102, 0.017071956768631935, 0.8292703628540039, 0.13744711875915527], [0.008105510845780373, 0.0008766708197072148, 0.0015143424971029162, 0.0010578178334981203, 0.0002961023710668087, 0.003666147356852889, 0.9844834208488464], [0.00321060698479414, 0.0054215071722865105, 0.005947355180978775, 0.005465073976665735, 0.008426082320511341, 0.0009391278144903481, 0.9705902934074402], [0.00024039024719968438, 0.00012011188664473593, 0.0004337493737693876, 0.00010761256999103352, 0.00018021301366388798, 0.0005756549653597176, 0.9983422756195068]], [[0.01068459078669548, 0.004901687614619732, 0.0023335032165050507, 0.002508037956431508, 0.0008199170115403831, 0.009684834629297256, 0.969067394733429], [0.008005913347005844, 0.0022179491352289915, 0.0016522215446457267, 0.0003950052778236568, 0.0017084558494389057, 0.003803539089858532, 0.9822169542312622], [0.007671786937862635, 0.06783153861761093, 0.00733480928465724, 0.0034325665328651667, 0.00969802774488926, 0.005778842139989138, 0.898252546787262], [0.004164213314652443, 0.06233992800116539, 0.06994141638278961, 0.00154267402831465, 0.023685701191425323, 0.047544609755277634, 0.7907814383506775], [9.868370398180559e-05, 6.464716716436669e-05, 0.0001601638796273619, 0.0023596908431500196, 0.0004311342490836978, 0.00026621538563631475, 0.9966193437576294], [0.0002742809592746198, 0.0006502168835140765, 0.0058338697999715805, 0.004494519904255867, 0.35764726996421814, 0.004142184276133776, 0.6269576549530029], [0.0007070775027386844, 0.00022283995349425822, 0.00019493118452373892, 0.0003532509144861251, 0.0012209138367325068, 0.0008881752728484571, 0.9964129328727722]]], [[[0.0001495652977610007, 0.00023602278088219464, 0.00043079358874820173, 7.704117160756141e-05, 0.533898115158081, 0.036611031740903854, 0.4285973906517029], [0.00039576058043166995, 0.0025889717508107424, 0.0012199715711176395, 0.0005365699762478471, 0.09936709702014923, 0.005067622289061546, 0.8908240795135498], [0.0001335817069048062, 8.66181799210608e-05, 0.015303700231015682, 0.000355959142325446, 0.010932515375316143, 0.006631032098084688, 0.9665565490722656], [4.9205369577975944e-05, 4.237300163367763e-05, 0.00031728149042464793, 0.0005601785960607231, 0.058935388922691345, 0.5832226276397705, 0.3568730056285858], [0.0002988810883834958, 7.260206621140242e-05, 8.964098378783092e-05, 0.00010670275514712557, 0.19821470975875854, 0.0012484868057072163, 0.7999690175056458], [0.0003773428616113961, 0.0002690886612981558, 0.0004941414808854461, 0.0004622862907126546, 0.06828035414218903, 0.1446429342031479, 0.7854738831520081], [6.08353457209887e-06, 1.8536655261414126e-05, 3.4443062759237364e-05, 9.007741027744487e-05, 0.008293922059237957, 0.00043109789839945734, 0.991125762462616]], [[0.0002613994001876563, 0.0024865595623850822, 0.002527320757508278, 0.009063242934644222, 0.3472746014595032, 0.003982671070843935, 0.634404182434082], [0.003990905825048685, 0.0007303961901925504, 0.003889207961037755, 0.0021257505286484957, 0.1001705676317215, 0.007821855135262012, 0.8812713623046875], [0.007295171730220318, 0.004499727860093117, 0.009610257111489773, 0.0672442838549614, 0.2201603651046753, 0.4980994164943695, 0.1930907815694809], [0.005077695474028587, 0.0044942572712898254, 0.003905173856765032, 0.053441986441612244, 0.30330073833465576, 0.5567871928215027, 0.07299293577671051], [0.0072294436395168304, 0.012185078114271164, 0.011136993765830994, 0.012538078241050243, 0.08947952091693878, 0.04008573666214943, 0.8273451328277588], [0.02358008734881878, 0.07238876074552536, 0.029680954292416573, 0.009537411853671074, 0.5130574107170105, 0.02252770960330963, 0.3292276859283447], [0.0005357510526664555, 0.0008101183921098709, 0.0008408170542679727, 0.0012578035239130259, 0.02381928823888302, 0.00776284234598279, 0.9649733901023865]], [[5.372247323975898e-05, 0.000562469766009599, 0.005921404343098402, 0.00016390376549679786, 0.2921919822692871, 0.001547007355839014, 0.6995595097541809], [0.007732519879937172, 0.0014261790784075856, 0.036578793078660965, 0.0061805411241948605, 0.15090227127075195, 0.02706199698150158, 0.7701177000999451], [0.011228030547499657, 0.022675026208162308, 0.00840207003057003, 0.005146438255906105, 0.2446087896823883, 0.03184938803315163, 0.6760902404785156], [0.018407465890049934, 0.01460415031760931, 0.02648596093058586, 0.00823330320417881, 0.39049121737480164, 0.10420568287372589, 0.437572181224823], [0.01364518329501152, 0.006212487351149321, 0.025587307289242744, 0.008179484866559505, 0.0833810418844223, 0.009098202921450138, 0.8538962006568909], [0.018757792189717293, 0.013804278336465359, 0.03270095959305763, 0.036685261875391006, 0.4997446537017822, 0.01606471836566925, 0.3822422921657562], [0.0009354648645967245, 0.0015941235469654202, 0.0018657331820577383, 0.000350515590980649, 0.00992813054472208, 0.008537298999726772, 0.9767887592315674]], [[0.0001642111747059971, 0.0018341466784477234, 0.0011146065080538392, 0.0002098563127219677, 0.08997584134340286, 0.00573896337300539, 0.9009623527526855], [0.002266578609123826, 0.003030496183782816, 0.009104724042117596, 0.01135145965963602, 0.1161198616027832, 0.07341522723436356, 0.7847117185592651], [0.005395202897489071, 0.02376137487590313, 0.017667826265096664, 0.023026378825306892, 0.2015012502670288, 0.04282304644584656, 0.6858249306678772], [0.016702689230442047, 0.008969256654381752, 0.3305993378162384, 0.09154165536165237, 0.114332415163517, 0.06684591621160507, 0.3710086941719055], [0.0052118259482085705, 0.028997328132390976, 0.055862050503492355, 0.030018417164683342, 0.07014206796884537, 0.06706245988607407, 0.7427058219909668], [0.001391312456689775, 0.005329510662704706, 0.6789047122001648, 0.1317645013332367, 0.12064073979854584, 0.00141166674438864, 0.06055750325322151], [0.060972437262535095, 0.01836446486413479, 0.02147216908633709, 0.014056825079023838, 0.035248734056949615, 0.08489958196878433, 0.7649857997894287]], [[0.00032740217284299433, 0.001443545101210475, 0.004684410989284515, 0.0021397520322352648, 0.02045387774705887, 0.006640898995101452, 0.9643101096153259], [0.011447169817984104, 0.025845259428024292, 0.021951669827103615, 0.014121637679636478, 0.0616208054125309, 0.11226257681846619, 0.7527508735656738], [0.00753070367500186, 0.05009695887565613, 0.03378444164991379, 0.023993032053112984, 0.19488197565078735, 0.04740121215581894, 0.6423115730285645], [0.0013070852728560567, 0.013697599992156029, 0.01459491066634655, 0.010520604439079762, 0.3245445191860199, 0.16748477518558502, 0.4678505063056946], [0.0017396127805113792, 0.0027798707596957684, 0.010288534685969353, 0.002239367924630642, 0.006375512108206749, 0.00867043063044548, 0.967906653881073], [0.0025356013793498278, 0.005664972122758627, 0.14104661345481873, 0.0020700639579445124, 0.3509235084056854, 0.0003842464939225465, 0.4973750412464142], [0.0036207716912031174, 0.0054161627776920795, 0.0021613729186356068, 0.002537040039896965, 0.015228121541440487, 0.031110994517803192, 0.9399255514144897]], [[2.90753578156e-05, 0.0008041230612434447, 0.0007362316246144474, 8.872376201907173e-05, 0.9794600605964661, 0.0003209259593859315, 0.018560899421572685], [0.009234166704118252, 0.0021422880236059427, 0.04448898509144783, 0.01669088378548622, 0.4877585470676422, 0.28986668586730957, 0.14981840550899506], [0.014766774140298367, 0.023719241842627525, 0.022540466859936714, 0.06784268468618393, 0.14614346623420715, 0.16869661211967468, 0.5562907457351685], [0.002621072344481945, 0.017396340146660805, 0.02294304594397545, 0.03204359486699104, 0.12229518592357635, 0.650663435459137, 0.1520373374223709], [0.022500954568386078, 0.0050350758247077465, 0.013071094639599323, 0.005761479027569294, 0.15706376731395721, 0.05680584907531738, 0.7397617697715759], [0.01703610084950924, 0.018463801592588425, 0.002568507567048073, 0.0028948490507900715, 0.5398643612861633, 0.0029721565078943968, 0.4162002503871918], [0.0029429160058498383, 0.012053608894348145, 0.015192842110991478, 0.004607364535331726, 0.05934906750917435, 0.09792832285165787, 0.8079258799552917]], [[0.0008714526193216443, 0.00046231879969127476, 0.0032742945477366447, 0.00033510374487377703, 0.017784375697374344, 0.0011227026116102934, 0.9761497378349304], [0.03578224405646324, 0.05843096226453781, 0.00935734249651432, 0.0025364772882312536, 0.013592960312962532, 0.0011131077772006392, 0.8791869282722473], [0.004485531244426966, 0.0010016083251684904, 0.520586371421814, 0.0003189540293533355, 0.02830236591398716, 0.0003298716328572482, 0.44497525691986084], [0.04380064457654953, 0.009887545369565487, 0.003400927409529686, 0.2828417718410492, 0.12603634595870972, 0.020974498242139816, 0.5130582451820374], [0.02149992063641548, 0.004449212457984686, 0.004777155816555023, 0.0031995950266718864, 0.21259421110153198, 0.0006451255176216364, 0.7528347969055176], [0.005376623477786779, 0.009838688187301159, 0.029945528134703636, 0.04197278991341591, 0.33458247780799866, 0.08707348257303238, 0.49121037125587463], [0.0061189294792711735, 0.0020902662072330713, 0.0017952276393771172, 0.0009570265538059175, 0.004091635346412659, 0.001525282859802246, 0.9834217429161072]], [[0.0006543903145939112, 0.007202173583209515, 0.0025209812447428703, 0.002000344218686223, 0.383179634809494, 0.5098045468330383, 0.0946379005908966], [0.0007703860756009817, 0.0020535325165838003, 0.009241354651749134, 0.010109816677868366, 0.6007603406906128, 0.2420872449874878, 0.1349773406982422], [0.00041181972483173013, 0.008285791613161564, 0.026001259684562683, 0.21722781658172607, 0.280033141374588, 0.3792806565761566, 0.08875953406095505], [1.4862746866128873e-05, 0.00010535382898524404, 0.00030064707971177995, 0.006169074680656195, 0.026542678475379944, 0.9582874774932861, 0.008579930290579796], [0.0007880202610976994, 0.0008452796027995646, 0.0014567570760846138, 0.0008380088838748634, 0.031750697642564774, 0.10378868877887726, 0.8605324625968933], [0.0007451854180544615, 0.01160794124007225, 0.13467811048030853, 0.00792739074677229, 0.31379854679107666, 0.06636635959148407, 0.4648765027523041], [3.386602475075051e-05, 3.396014290046878e-05, 0.00013965893595013767, 6.750972534064204e-05, 0.008713563904166222, 0.020355381071567535, 0.9706560969352722]], [[0.003041264833882451, 0.008717235177755356, 0.005671647377312183, 0.0016961186192929745, 0.10817906260490417, 0.0069045135751366615, 0.8657901883125305], [0.019656069576740265, 0.8367447853088379, 0.0379677414894104, 0.0020816356409341097, 0.01683882623910904, 0.00794804748147726, 0.07876301556825638], [0.018886469304561615, 0.07782452553510666, 0.0866410955786705, 0.04621490091085434, 0.037044376134872437, 0.05623916536569595, 0.6771495342254639], [0.019574815407395363, 0.006253539584577084, 0.06484677642583847, 0.04441206902265549, 0.03392850607633591, 0.30915072560310364, 0.5218335390090942], [0.01356777735054493, 0.017761263996362686, 0.0011314874282106757, 0.0007217191741801798, 0.48251456022262573, 0.0013402197510004044, 0.482962965965271], [0.007130106911063194, 0.0024577786680310965, 0.029563255608081818, 0.12962831556797028, 0.013381967321038246, 0.054783742874860764, 0.7630547881126404], [0.20470668375492096, 0.1110634133219719, 0.04866185039281845, 0.04620576649904251, 0.05886352062225342, 0.059825144708156586, 0.4706735610961914]], [[0.011098338291049004, 0.006709882523864508, 0.00027361634420230985, 0.0008248272351920605, 0.05009248107671738, 0.0008444341947324574, 0.930156409740448], [0.0016034137224778533, 0.0029740671161562204, 0.0016177503857761621, 0.0013232157798483968, 0.011331580579280853, 0.0024528522044420242, 0.9786971211433411], [0.0009350435575470328, 0.009069925174117088, 0.00012509871157817543, 2.0926481738570146e-05, 0.0004300996952224523, 0.00025363880558870733, 0.9891652464866638], [0.0022566597908735275, 0.0013420720351859927, 0.011422831565141678, 0.0021122649777680635, 0.005621661897748709, 0.006646368652582169, 0.9705981612205505], [0.00894080474972725, 0.0016106385737657547, 0.0005331438733264804, 0.003204029519110918, 0.011395630426704884, 0.0006809403421357274, 0.9736348390579224], [0.00011892990733031183, 0.0004493123560678214, 0.0018008018378168344, 0.0005951360217295587, 0.9668906331062317, 0.0002542403235565871, 0.029890939593315125], [0.0024124684277921915, 0.0041508181020617485, 0.0014610670041292906, 0.00263791112229228, 0.007476829923689365, 0.0036554348189383745, 0.9782055020332336]], [[0.00014161538274493068, 0.003726836759597063, 0.0011423745891079307, 0.00017917405057232827, 0.9110484719276428, 0.0005548305925913155, 0.0832066684961319], [0.02313939295709133, 0.01144381333142519, 0.08424612879753113, 0.008418719284236431, 0.7235376238822937, 0.011217688210308552, 0.13799665868282318], [0.008600329048931599, 0.007119860965758562, 0.006164186634123325, 0.009711730293929577, 0.3492269814014435, 0.35069626569747925, 0.26848065853118896], [0.009544795379042625, 0.009710371494293213, 0.006989810615777969, 0.004796097986400127, 0.7590175867080688, 0.07140251994132996, 0.13853880763053894], [0.010733102448284626, 0.006204258184880018, 0.010120936669409275, 0.0036525775212794542, 0.09515032172203064, 0.019768862053751945, 0.8543699979782104], [0.020729996263980865, 0.010161180049180984, 0.06208391860127449, 0.05695772543549538, 0.40738439559936523, 0.011045175604522228, 0.43163758516311646], [0.007011960260570049, 0.02510564774274826, 0.012577821500599384, 0.0048635415732860565, 0.11805452406406403, 0.025583285838365555, 0.8068032264709473]], [[0.009282873943448067, 0.007447092793881893, 0.01719815656542778, 0.02250070869922638, 0.02467927150428295, 0.048087362200021744, 0.8708045482635498], [0.014874468557536602, 0.001723779016174376, 0.026736291125416756, 0.04489781707525253, 0.025750990957021713, 0.3801712691783905, 0.5058453679084778], [0.017054755240678787, 0.007044738158583641, 0.010965975932776928, 0.014499141834676266, 0.04954562708735466, 0.024647552520036697, 0.8762421011924744], [0.12979631125926971, 0.029193781316280365, 0.011171682737767696, 0.0404597669839859, 0.1467757374048233, 0.04294659569859505, 0.5996561050415039], [0.011018398217856884, 0.0024857469834387302, 0.01490874495357275, 0.04018992930650711, 0.0004003701324108988, 0.020178329199552536, 0.9108185768127441], [0.013815583661198616, 0.012783017940819263, 0.008435379713773727, 0.015487821772694588, 0.057487208396196365, 0.0019638403318822384, 0.8900272250175476], [0.16065609455108643, 0.06347378343343735, 0.07031257450580597, 0.053063925355672836, 0.08648134768009186, 0.13740627467632294, 0.4286060035228729]]], [[[0.006324684713035822, 0.0007831849507056177, 0.0009522532927803695, 0.0006593160796910524, 0.0671638548374176, 0.025546126067638397, 0.8985706567764282], [0.0015781590482220054, 0.0007225748850032687, 0.002947603352367878, 0.0062064966186881065, 0.013270384632050991, 0.016535786911845207, 0.9587390422821045], [0.032418884336948395, 0.006181485950946808, 0.005710632540285587, 0.009102492593228817, 0.07212516665458679, 0.14276309311389923, 0.731698215007782], [0.007994448766112328, 0.013472557067871094, 0.007367940619587898, 0.007088314741849899, 0.04863237589597702, 0.035706691443920135, 0.8797376155853271], [0.003397878957912326, 0.0017892727628350258, 0.0032234119717031717, 0.0037686352152377367, 0.015609300695359707, 0.012354067526757717, 0.9598574638366699], [0.107989102602005, 0.0332198329269886, 0.014471682719886303, 0.012122031301259995, 0.20267967879772186, 0.02184530906379223, 0.607672393321991], [0.0007176451617851853, 0.003952289931476116, 0.0015114762354642153, 0.0021203092765063047, 0.010963027365505695, 0.005483526270836592, 0.9752516746520996]], [[0.0003549936809577048, 0.001622729585506022, 4.8525191232329234e-05, 0.0004876645980402827, 0.03959313780069351, 0.05557098984718323, 0.902321994304657], [0.002132051857188344, 0.0036570210941135883, 0.0008458520169369876, 0.0010112281888723373, 0.04328794404864311, 0.027328332886099815, 0.921737551689148], [0.0030258370097726583, 0.004884422291070223, 0.0006968164816498756, 0.0013922767248004675, 0.06272097676992416, 0.011649488471448421, 0.9156301617622375], [0.0028508803807199, 0.0015190953854471445, 0.003307754173874855, 0.003737273858860135, 0.051512785255908966, 0.0350499264895916, 0.9020223021507263], [0.00859686080366373, 0.02532654069364071, 0.020534630864858627, 0.017627622932195663, 0.02040248177945614, 0.0875791683793068, 0.8199326395988464], [0.02014857903122902, 0.01003363449126482, 0.015788905322551727, 0.020080866292119026, 0.12973420321941376, 0.06350454688072205, 0.7407092452049255], [0.0015853563090786338, 0.00338138360530138, 0.0013877574820071459, 0.001291516819037497, 0.027902424335479736, 0.013138472102582455, 0.9513131380081177]], [[0.13983935117721558, 0.047320906072854996, 0.024613292887806892, 0.0354173518717289, 0.22035931050777435, 0.44655176997184753, 0.08589804917573929], [0.12472734600305557, 0.17919203639030457, 0.027328787371516228, 0.04665558785200119, 0.275417298078537, 0.15298932790756226, 0.19368959963321686], [0.12765659391880035, 0.042256444692611694, 0.10555405169725418, 0.09086040407419205, 0.2313569188117981, 0.2883860766887665, 0.11392947286367416], [0.10814525187015533, 0.05505583807826042, 0.11134921759366989, 0.12933331727981567, 0.4106873571872711, 0.1350991576910019, 0.05032980069518089], [0.2043449878692627, 0.06002684682607651, 0.036003172397613525, 0.05464314669370651, 0.21620331704616547, 0.2810419201850891, 0.14773662388324738], [0.1522696614265442, 0.014539455063641071, 0.005996720399707556, 0.01865966245532036, 0.16133910417556763, 0.5656948685646057, 0.08150056004524231], [0.017504369840025902, 0.03297670558094978, 0.011059806682169437, 0.010773922316730022, 0.08626945316791534, 0.03380334749817848, 0.807612419128418]], [[0.009019020013511181, 0.018283933401107788, 0.0031648387666791677, 0.0012778321979567409, 0.7353301048278809, 0.06359413266181946, 0.1693301796913147], [0.01111133024096489, 0.01276249811053276, 0.004443760495632887, 0.000888388545718044, 0.6534211039543152, 0.02016669511795044, 0.297206312417984], [0.002384720603004098, 0.013395498506724834, 0.0029306865762919188, 0.001252077636308968, 0.12661577761173248, 0.01640886813402176, 0.8370123505592346], [0.0048704263754189014, 0.01746070757508278, 0.004102298058569431, 0.002670029876753688, 0.24294264614582062, 0.023173902183771133, 0.7047800421714783], [0.016227440908551216, 0.008862851187586784, 0.005786149296909571, 0.01059106457978487, 0.1317983716726303, 0.05499550700187683, 0.771738588809967], [0.014538805931806564, 0.007910276763141155, 0.010343506000936031, 0.008237597532570362, 0.23681676387786865, 0.1101510152220726, 0.6120019555091858], [0.00742133567109704, 0.010716566815972328, 0.0043166084215044975, 0.007315325550734997, 0.08654171228408813, 0.01666914112865925, 0.8670193552970886]], [[9.403245348948985e-05, 0.0012527949875220656, 0.0002560961584094912, 0.0002169924700865522, 0.08876685798168182, 0.052182309329509735, 0.8572309017181396], [0.00018748646834865212, 0.00244965311139822, 0.0009969413513317704, 0.0018798556411638856, 0.06755074113607407, 0.01677006483078003, 0.9101652503013611], [6.072484097785491e-07, 0.0010946866823360324, 0.0002898576494771987, 0.00040501050534658134, 0.028238236904144287, 0.0022076298482716084, 0.9677640795707703], [0.0002873472694773227, 0.0033512874506413937, 0.0024610047694295645, 0.0032670123036950827, 0.039820704609155655, 0.02952432632446289, 0.921288251876831], [0.0013335032854229212, 0.009662225842475891, 0.019374435767531395, 0.03735505789518356, 0.09714975208044052, 0.08213905990123749, 0.7529858946800232], [0.00022431343677453697, 0.003350738435983658, 0.00554476585239172, 0.0037538413889706135, 0.028820902109146118, 0.07338181883096695, 0.8849237561225891], [0.10877162218093872, 0.007095968816429377, 0.0029609622433781624, 0.0047352928668260574, 0.022987404838204384, 0.009071745909750462, 0.8443770408630371]], [[0.01659465581178665, 0.021762842312455177, 0.0006150089320726693, 0.00023367606627289206, 0.5200232863426208, 0.35224735736846924, 0.08852317929267883], [0.07239773124456406, 0.045688021928071976, 0.0018775596981868148, 0.0023156902752816677, 0.2562676966190338, 0.1512400209903717, 0.47021323442459106], [0.009611316956579685, 0.0045593297109007835, 0.0061199902556836605, 0.01802024058997631, 0.01181021612137556, 0.10830314457416534, 0.8415758013725281], [0.006485085468739271, 0.004192072432488203, 0.0016978159546852112, 0.005206004716455936, 0.02474096044898033, 0.1640159636735916, 0.7936620712280273], [0.044965509325265884, 0.040962014347314835, 0.0026397400069981813, 0.0028567351400852203, 0.6625773310661316, 0.0413396842777729, 0.20465905964374542], [0.01712707057595253, 0.00664774002507329, 0.002123486250638962, 0.0022253035567700863, 0.42589378356933594, 0.43674662709236145, 0.10923607647418976], [0.010144835337996483, 0.01777847297489643, 0.002076508244499564, 0.0046616848558187485, 0.09449826180934906, 0.0332336351275444, 0.8376065492630005]], [[0.0016985106049105525, 0.002553672296926379, 0.0019561953376978636, 0.0031984790693968534, 0.08476829528808594, 0.009654518216848373, 0.8961703777313232], [0.0033221335615962744, 0.010010949335992336, 0.0018672883743420243, 0.0088806739076972, 0.025556396692991257, 0.007742091082036495, 0.9426205158233643], [0.0019967088010162115, 0.00497444299980998, 0.0010129790753126144, 0.0007256529061123729, 0.039072174578905106, 0.0060873618349432945, 0.9461307525634766], [0.0010198926320299506, 0.0024079179856926203, 0.00018428161274641752, 0.00023894300102256238, 0.12090008705854416, 0.006607530172914267, 0.8686413168907166], [0.0062787169590592384, 0.007351416163146496, 0.00573235796764493, 0.01206466555595398, 0.08372122049331665, 0.012136872857809067, 0.8727146983146667], [0.00673746969550848, 0.006675186101347208, 0.0016384882619604468, 0.002508038654923439, 0.08452312648296356, 0.013648152351379395, 0.884269654750824], [0.002350285416468978, 0.004592608660459518, 0.0024226228706538677, 0.004668022971600294, 0.03856860101222992, 0.013552906922996044, 0.9338449835777283]], [[0.00013039150508120656, 0.0006367499590851367, 0.0002625316265039146, 0.0006114052957855165, 0.022360501810908318, 0.04943414777517319, 0.9265642762184143], [0.0006549437530338764, 0.0015444031450897455, 0.0004958419012837112, 0.0011023113038390875, 0.0242463406175375, 0.02860814705491066, 0.9433479905128479], [0.0014337098691612482, 0.003083385294303298, 0.0015889779897406697, 0.0069501097314059734, 0.02203304134309292, 0.05303763598203659, 0.9118731021881104], [0.00033596885623410344, 0.0007248139590956271, 0.0004818136803805828, 0.0010357830906286836, 0.01016093697398901, 0.030000004917383194, 0.9572606086730957], [0.003277358366176486, 0.02395474910736084, 0.0016055910382419825, 0.001762458705343306, 0.0955122858285904, 0.01293548196554184, 0.8609520792961121], [0.007046309299767017, 0.008486649952828884, 0.006624248344451189, 0.019115373492240906, 0.0630839392542839, 0.19549773633480072, 0.7001457214355469], [0.00014686526264995337, 0.0005402502720244229, 0.00010032318823505193, 0.0005232321564108133, 0.020213918760418892, 0.0033098538406193256, 0.9751656651496887]], [[0.06059578061103821, 0.02692095935344696, 0.010781948454678059, 0.006721853278577328, 0.21137143671512604, 0.26581764221191406, 0.41779032349586487], [0.17811276018619537, 0.17538028955459595, 0.027420630678534508, 0.0362670011818409, 0.2002430111169815, 0.03317422419786453, 0.3494020104408264], [0.05577392876148224, 0.0032086551655083895, 0.8879694938659668, 0.009978103451430798, 0.0014004308031871915, 0.015357798896729946, 0.026311596855521202], [0.23866766691207886, 0.03032759577035904, 0.19407673180103302, 0.16384567320346832, 0.008130899630486965, 0.2886761426925659, 0.0762752890586853], [0.015111765824258327, 0.00638724397867918, 0.0004110672452952713, 0.007618206553161144, 0.8563297390937805, 0.0012069926597177982, 0.11293499916791916], [0.0038277190178632736, 0.0024594629649072886, 0.005786880385130644, 0.01110608596354723, 0.02247113548219204, 0.8065703511238098, 0.14777839183807373], [0.001975340535864234, 0.00213342672213912, 0.0005701790796592832, 0.00241538742557168, 0.020017387345433235, 0.013387661427259445, 0.9595006108283997]], [[0.039231788367033005, 0.00643435912206769, 0.001555416383780539, 0.006504132878035307, 0.4833046793937683, 0.29268011450767517, 0.17028950154781342], [0.11382587999105453, 0.10383130609989166, 0.021109402179718018, 0.062436651438474655, 0.07343156635761261, 0.3921189308166504, 0.233246311545372], [0.15273697674274445, 0.06566191464662552, 0.21732358634471893, 0.25008702278137207, 0.014946036972105503, 0.1532037854194641, 0.14604069292545319], [0.12200475484132767, 0.06400234252214432, 0.130116268992424, 0.4220130443572998, 0.0577348954975605, 0.15153652429580688, 0.05259215831756592], [0.10969863831996918, 0.04300912469625473, 0.015783259645104408, 0.018546389415860176, 0.3999361991882324, 0.050180040299892426, 0.362846314907074], [0.04459867626428604, 0.0037886183708906174, 0.004847442731261253, 0.009449171833693981, 0.3768739104270935, 0.2992892861366272, 0.26115286350250244], [0.03887663036584854, 0.053713131695985794, 0.028901074081659317, 0.024954482913017273, 0.07342727482318878, 0.03765174746513367, 0.7424757480621338]], [[0.0006892376695759594, 0.00015184782387223095, 4.760279261972755e-05, 2.9622402507811785e-05, 0.30017420649528503, 0.0013962734956294298, 0.6975111961364746], [0.0003569345863070339, 0.00032982745324261487, 3.832520087598823e-05, 0.00017539001419208944, 0.07731954753398895, 0.0010329056531190872, 0.9207471013069153], [0.000700377335306257, 0.00026509579038247466, 9.059386502485722e-05, 0.0006478765862993896, 0.05161454901099205, 0.001916587701998651, 0.9447649717330933], [0.0003554538998287171, 0.00028988043777644634, 0.00010883658978855237, 0.0006308486335910857, 0.046759795397520065, 0.0022431742399930954, 0.9496120810508728], [0.034748807549476624, 0.010982612147927284, 0.005556861404329538, 0.002207444980740547, 0.5262290239334106, 0.02606598101556301, 0.39420926570892334], [0.004618289414793253, 0.0009827313479036093, 0.000397141877328977, 0.00023445577244274318, 0.15966211259365082, 0.0028187171556055546, 0.8312865495681763], [0.0004816026194021106, 0.0005685589276254177, 0.0005002412362955511, 0.0004742264864034951, 0.05436433479189873, 0.0013575258199125528, 0.9422535300254822]], [[4.669866757467389e-05, 0.00019442939083091915, 0.00012942023749928921, 0.00017702102195471525, 0.026671437546610832, 0.005076221190392971, 0.9677047729492188], [0.00033438505488447845, 0.0019016362493857741, 0.000622016319539398, 0.001270879409275949, 0.03664762154221535, 0.009057858027517796, 0.9501655697822571], [0.0008184527978301048, 0.0024180214386433363, 0.00312923570163548, 0.005281472112983465, 0.05512917414307594, 0.039066117256879807, 0.8941575884819031], [0.0003953771374654025, 0.00028228142764419317, 0.0006862511509098113, 0.0014050721656531096, 0.015294337645173073, 0.09934844821691513, 0.8825882077217102], [0.0017050538444891572, 0.009867609478533268, 0.0025899915490299463, 0.0031429859809577465, 0.13168732821941376, 0.021056970581412315, 0.8299500942230225], [0.0010505628306418657, 0.0036601130850613117, 0.009673809632658958, 0.01566215418279171, 0.028442541137337685, 0.14920161664485931, 0.7923091650009155], [0.0005145125323906541, 0.0012076577404513955, 0.0007420966867357492, 0.0011948158498853445, 0.03974916413426399, 0.015108880586922169, 0.9414829015731812]]]], \"left_text\": [\"[CLS]\", \"i\", \"have\", \"the\", \"freshman\", \"plague\", \"[SEP]\"], \"right_text\": [\"[CLS]\", \"i\", \"have\", \"the\", \"freshman\", \"plague\", \"[SEP]\"]}], \"default_filter\": \"0\", \"root_div_id\": \"bertviz-78f5c57de0124912b42b3e6309e7b6e0\", \"layer\": null, \"heads\": null, \"include_layers\": [0, 1, 2, 3, 4, 5]} is a template marker that is replaced by actual params.\n",
              "    const TEXT_SIZE = 15;\n",
              "    const BOXWIDTH = 110;\n",
              "    const BOXHEIGHT = 22.5;\n",
              "    const MATRIX_WIDTH = 115;\n",
              "    const CHECKBOX_SIZE = 20;\n",
              "    const TEXT_TOP = 30;\n",
              "\n",
              "    console.log(\"d3 version\", d3.version)\n",
              "    let headColors;\n",
              "    try {\n",
              "        headColors = d3.scaleOrdinal(d3.schemeCategory10);\n",
              "    } catch (err) {\n",
              "        console.log('Older d3 version')\n",
              "        headColors = d3.scale.category10();\n",
              "    }\n",
              "    let config = {};\n",
              "    initialize();\n",
              "    renderVis();\n",
              "\n",
              "    function initialize() {\n",
              "        config.attention = params['attention'];\n",
              "        config.filter = params['default_filter'];\n",
              "        config.rootDivId = params['root_div_id'];\n",
              "        config.nLayers = config.attention[config.filter]['attn'].length;\n",
              "        config.nHeads = config.attention[config.filter]['attn'][0].length;\n",
              "        config.layers = params['include_layers']\n",
              "\n",
              "        if (params['heads']) {\n",
              "            config.headVis = new Array(config.nHeads).fill(false);\n",
              "            params['heads'].forEach(x => config.headVis[x] = true);\n",
              "        } else {\n",
              "            config.headVis = new Array(config.nHeads).fill(true);\n",
              "        }\n",
              "        config.initialTextLength = config.attention[config.filter].right_text.length;\n",
              "        config.layer_seq = (params['layer'] == null ? 0 : config.layers.findIndex(layer => params['layer'] === layer));\n",
              "        config.layer = config.layers[config.layer_seq]\n",
              "\n",
              "        let layerEl = $(`#${config.rootDivId} #layer`);\n",
              "        for (const layer of config.layers) {\n",
              "            layerEl.append($(\"<option />\").val(layer).text(layer));\n",
              "        }\n",
              "        layerEl.val(config.layer).change();\n",
              "        layerEl.on('change', function (e) {\n",
              "            config.layer = +e.currentTarget.value;\n",
              "            config.layer_seq = config.layers.findIndex(layer => config.layer === layer);\n",
              "            renderVis();\n",
              "        });\n",
              "\n",
              "        $(`#${config.rootDivId} #filter`).on('change', function (e) {\n",
              "            config.filter = e.currentTarget.value;\n",
              "            renderVis();\n",
              "        });\n",
              "    }\n",
              "\n",
              "    function renderVis() {\n",
              "\n",
              "        // Load parameters\n",
              "        const attnData = config.attention[config.filter];\n",
              "        const leftText = attnData.left_text;\n",
              "        const rightText = attnData.right_text;\n",
              "\n",
              "        // Select attention for given layer\n",
              "        const layerAttention = attnData.attn[config.layer_seq];\n",
              "\n",
              "        // Clear vis\n",
              "        $(`#${config.rootDivId} #vis`).empty();\n",
              "\n",
              "        // Determine size of visualization\n",
              "        const height = Math.max(leftText.length, rightText.length) * BOXHEIGHT + TEXT_TOP;\n",
              "        const svg = d3.select(`#${config.rootDivId} #vis`)\n",
              "            .append('svg')\n",
              "            .attr(\"width\", \"100%\")\n",
              "            .attr(\"height\", height + \"px\");\n",
              "\n",
              "        // Display tokens on left and right side of visualization\n",
              "        renderText(svg, leftText, true, layerAttention, 0);\n",
              "        renderText(svg, rightText, false, layerAttention, MATRIX_WIDTH + BOXWIDTH);\n",
              "\n",
              "        // Render attention arcs\n",
              "        renderAttention(svg, layerAttention);\n",
              "\n",
              "        // Draw squares at top of visualization, one for each head\n",
              "        drawCheckboxes(0, svg, layerAttention);\n",
              "    }\n",
              "\n",
              "    function renderText(svg, text, isLeft, attention, leftPos) {\n",
              "\n",
              "        const textContainer = svg.append(\"svg:g\")\n",
              "            .attr(\"id\", isLeft ? \"left\" : \"right\");\n",
              "\n",
              "        // Add attention highlights superimposed over words\n",
              "        textContainer.append(\"g\")\n",
              "            .classed(\"attentionBoxes\", true)\n",
              "            .selectAll(\"g\")\n",
              "            .data(attention)\n",
              "            .enter()\n",
              "            .append(\"g\")\n",
              "            .attr(\"head-index\", (d, i) => i)\n",
              "            .selectAll(\"rect\")\n",
              "            .data(d => isLeft ? d : transpose(d)) // if right text, transpose attention to get right-to-left weights\n",
              "            .enter()\n",
              "            .append(\"rect\")\n",
              "            .attr(\"x\", function () {\n",
              "                var headIndex = +this.parentNode.getAttribute(\"head-index\");\n",
              "                return leftPos + boxOffsets(headIndex);\n",
              "            })\n",
              "            .attr(\"y\", (+1) * BOXHEIGHT)\n",
              "            .attr(\"width\", BOXWIDTH / activeHeads())\n",
              "            .attr(\"height\", BOXHEIGHT)\n",
              "            .attr(\"fill\", function () {\n",
              "                return headColors(+this.parentNode.getAttribute(\"head-index\"))\n",
              "            })\n",
              "            .style(\"opacity\", 0.0);\n",
              "\n",
              "        const tokenContainer = textContainer.append(\"g\").selectAll(\"g\")\n",
              "            .data(text)\n",
              "            .enter()\n",
              "            .append(\"g\");\n",
              "\n",
              "        // Add gray background that appears when hovering over text\n",
              "        tokenContainer.append(\"rect\")\n",
              "            .classed(\"background\", true)\n",
              "            .style(\"opacity\", 0.0)\n",
              "            .attr(\"fill\", \"lightgray\")\n",
              "            .attr(\"x\", leftPos)\n",
              "            .attr(\"y\", (d, i) => TEXT_TOP + i * BOXHEIGHT)\n",
              "            .attr(\"width\", BOXWIDTH)\n",
              "            .attr(\"height\", BOXHEIGHT);\n",
              "\n",
              "        // Add token text\n",
              "        const textEl = tokenContainer.append(\"text\")\n",
              "            .text(d => d)\n",
              "            .attr(\"font-size\", TEXT_SIZE + \"px\")\n",
              "            .style(\"cursor\", \"default\")\n",
              "            .style(\"-webkit-user-select\", \"none\")\n",
              "            .attr(\"x\", leftPos)\n",
              "            .attr(\"y\", (d, i) => TEXT_TOP + i * BOXHEIGHT);\n",
              "\n",
              "        if (isLeft) {\n",
              "            textEl.style(\"text-anchor\", \"end\")\n",
              "                .attr(\"dx\", BOXWIDTH - 0.5 * TEXT_SIZE)\n",
              "                .attr(\"dy\", TEXT_SIZE);\n",
              "        } else {\n",
              "            textEl.style(\"text-anchor\", \"start\")\n",
              "                .attr(\"dx\", +0.5 * TEXT_SIZE)\n",
              "                .attr(\"dy\", TEXT_SIZE);\n",
              "        }\n",
              "\n",
              "        tokenContainer.on(\"mouseover\", function (d, index) {\n",
              "\n",
              "            // Show gray background for moused-over token\n",
              "            textContainer.selectAll(\".background\")\n",
              "                .style(\"opacity\", (d, i) => i === index ? 1.0 : 0.0)\n",
              "\n",
              "            // Reset visibility attribute for any previously highlighted attention arcs\n",
              "            svg.select(\"#attention\")\n",
              "                .selectAll(\"line[visibility='visible']\")\n",
              "                .attr(\"visibility\", null)\n",
              "\n",
              "            // Hide group containing attention arcs\n",
              "            svg.select(\"#attention\").attr(\"visibility\", \"hidden\");\n",
              "\n",
              "            // Set to visible appropriate attention arcs to be highlighted\n",
              "            if (isLeft) {\n",
              "                svg.select(\"#attention\").selectAll(\"line[left-token-index='\" + index + \"']\").attr(\"visibility\", \"visible\");\n",
              "            } else {\n",
              "                svg.select(\"#attention\").selectAll(\"line[right-token-index='\" + index + \"']\").attr(\"visibility\", \"visible\");\n",
              "            }\n",
              "\n",
              "            // Update color boxes superimposed over tokens\n",
              "            const id = isLeft ? \"right\" : \"left\";\n",
              "            const leftPos = isLeft ? MATRIX_WIDTH + BOXWIDTH : 0;\n",
              "            svg.select(\"#\" + id)\n",
              "                .selectAll(\".attentionBoxes\")\n",
              "                .selectAll(\"g\")\n",
              "                .attr(\"head-index\", (d, i) => i)\n",
              "                .selectAll(\"rect\")\n",
              "                .attr(\"x\", function () {\n",
              "                    const headIndex = +this.parentNode.getAttribute(\"head-index\");\n",
              "                    return leftPos + boxOffsets(headIndex);\n",
              "                })\n",
              "                .attr(\"y\", (d, i) => TEXT_TOP + i * BOXHEIGHT)\n",
              "                .attr(\"width\", BOXWIDTH / activeHeads())\n",
              "                .attr(\"height\", BOXHEIGHT)\n",
              "                .style(\"opacity\", function (d) {\n",
              "                    const headIndex = +this.parentNode.getAttribute(\"head-index\");\n",
              "                    if (config.headVis[headIndex])\n",
              "                        if (d) {\n",
              "                            return d[index];\n",
              "                        } else {\n",
              "                            return 0.0;\n",
              "                        }\n",
              "                    else\n",
              "                        return 0.0;\n",
              "                });\n",
              "        });\n",
              "\n",
              "        textContainer.on(\"mouseleave\", function () {\n",
              "\n",
              "            // Unhighlight selected token\n",
              "            d3.select(this).selectAll(\".background\")\n",
              "                .style(\"opacity\", 0.0);\n",
              "\n",
              "            // Reset visibility attributes for previously selected lines\n",
              "            svg.select(\"#attention\")\n",
              "                .selectAll(\"line[visibility='visible']\")\n",
              "                .attr(\"visibility\", null) ;\n",
              "            svg.select(\"#attention\").attr(\"visibility\", \"visible\");\n",
              "\n",
              "            // Reset highlights superimposed over tokens\n",
              "            svg.selectAll(\".attentionBoxes\")\n",
              "                .selectAll(\"g\")\n",
              "                .selectAll(\"rect\")\n",
              "                .style(\"opacity\", 0.0);\n",
              "        });\n",
              "    }\n",
              "\n",
              "    function renderAttention(svg, attention) {\n",
              "\n",
              "        // Remove previous dom elements\n",
              "        svg.select(\"#attention\").remove();\n",
              "\n",
              "        // Add new elements\n",
              "        svg.append(\"g\")\n",
              "            .attr(\"id\", \"attention\") // Container for all attention arcs\n",
              "            .selectAll(\".headAttention\")\n",
              "            .data(attention)\n",
              "            .enter()\n",
              "            .append(\"g\")\n",
              "            .classed(\"headAttention\", true) // Group attention arcs by head\n",
              "            .attr(\"head-index\", (d, i) => i)\n",
              "            .selectAll(\".tokenAttention\")\n",
              "            .data(d => d)\n",
              "            .enter()\n",
              "            .append(\"g\")\n",
              "            .classed(\"tokenAttention\", true) // Group attention arcs by left token\n",
              "            .attr(\"left-token-index\", (d, i) => i)\n",
              "            .selectAll(\"line\")\n",
              "            .data(d => d)\n",
              "            .enter()\n",
              "            .append(\"line\")\n",
              "            .attr(\"x1\", BOXWIDTH)\n",
              "            .attr(\"y1\", function () {\n",
              "                const leftTokenIndex = +this.parentNode.getAttribute(\"left-token-index\")\n",
              "                return TEXT_TOP + leftTokenIndex * BOXHEIGHT + (BOXHEIGHT / 2)\n",
              "            })\n",
              "            .attr(\"x2\", BOXWIDTH + MATRIX_WIDTH)\n",
              "            .attr(\"y2\", (d, rightTokenIndex) => TEXT_TOP + rightTokenIndex * BOXHEIGHT + (BOXHEIGHT / 2))\n",
              "            .attr(\"stroke-width\", 2)\n",
              "            .attr(\"stroke\", function () {\n",
              "                const headIndex = +this.parentNode.parentNode.getAttribute(\"head-index\");\n",
              "                return headColors(headIndex)\n",
              "            })\n",
              "            .attr(\"left-token-index\", function () {\n",
              "                return +this.parentNode.getAttribute(\"left-token-index\")\n",
              "            })\n",
              "            .attr(\"right-token-index\", (d, i) => i)\n",
              "        ;\n",
              "        updateAttention(svg)\n",
              "    }\n",
              "\n",
              "    function updateAttention(svg) {\n",
              "        svg.select(\"#attention\")\n",
              "            .selectAll(\"line\")\n",
              "            .attr(\"stroke-opacity\", function (d) {\n",
              "                const headIndex = +this.parentNode.parentNode.getAttribute(\"head-index\");\n",
              "                // If head is selected\n",
              "                if (config.headVis[headIndex]) {\n",
              "                    // Set opacity to attention weight divided by number of active heads\n",
              "                    return d / activeHeads()\n",
              "                } else {\n",
              "                    return 0.0;\n",
              "                }\n",
              "            })\n",
              "    }\n",
              "\n",
              "    function boxOffsets(i) {\n",
              "        const numHeadsAbove = config.headVis.reduce(\n",
              "            function (acc, val, cur) {\n",
              "                return val && cur < i ? acc + 1 : acc;\n",
              "            }, 0);\n",
              "        return numHeadsAbove * (BOXWIDTH / activeHeads());\n",
              "    }\n",
              "\n",
              "    function activeHeads() {\n",
              "        return config.headVis.reduce(function (acc, val) {\n",
              "            return val ? acc + 1 : acc;\n",
              "        }, 0);\n",
              "    }\n",
              "\n",
              "    function drawCheckboxes(top, svg) {\n",
              "        const checkboxContainer = svg.append(\"g\");\n",
              "        const checkbox = checkboxContainer.selectAll(\"rect\")\n",
              "            .data(config.headVis)\n",
              "            .enter()\n",
              "            .append(\"rect\")\n",
              "            .attr(\"fill\", (d, i) => headColors(i))\n",
              "            .attr(\"x\", (d, i) => i * CHECKBOX_SIZE)\n",
              "            .attr(\"y\", top)\n",
              "            .attr(\"width\", CHECKBOX_SIZE)\n",
              "            .attr(\"height\", CHECKBOX_SIZE);\n",
              "\n",
              "        function updateCheckboxes() {\n",
              "            checkboxContainer.selectAll(\"rect\")\n",
              "                .data(config.headVis)\n",
              "                .attr(\"fill\", (d, i) => d ? headColors(i): lighten(headColors(i)));\n",
              "        }\n",
              "\n",
              "        updateCheckboxes();\n",
              "\n",
              "        checkbox.on(\"click\", function (d, i) {\n",
              "            if (config.headVis[i] && activeHeads() === 1) return;\n",
              "            config.headVis[i] = !config.headVis[i];\n",
              "            updateCheckboxes();\n",
              "            updateAttention(svg);\n",
              "        });\n",
              "\n",
              "        checkbox.on(\"dblclick\", function (d, i) {\n",
              "            // If we double click on the only active head then reset\n",
              "            if (config.headVis[i] && activeHeads() === 1) {\n",
              "                config.headVis = new Array(config.nHeads).fill(true);\n",
              "            } else {\n",
              "                config.headVis = new Array(config.nHeads).fill(false);\n",
              "                config.headVis[i] = true;\n",
              "            }\n",
              "            updateCheckboxes();\n",
              "            updateAttention(svg);\n",
              "        });\n",
              "    }\n",
              "\n",
              "    function lighten(color) {\n",
              "        const c = d3.hsl(color);\n",
              "        const increment = (1 - c.l) * 0.6;\n",
              "        c.l += increment;\n",
              "        c.s -= increment;\n",
              "        return c;\n",
              "    }\n",
              "\n",
              "    function transpose(mat) {\n",
              "        return mat[0].map(function (col, i) {\n",
              "            return mat.map(function (row) {\n",
              "                return row[i];\n",
              "            });\n",
              "        });\n",
              "    }\n",
              "\n",
              "});"
            ]
          },
          "metadata": {}
        }
      ],
      "source": [
        "head_view(attention,tokens)"
      ]
    },
    {
      "cell_type": "code",
      "execution_count": null,
      "metadata": {
        "colab": {
          "base_uri": "https://localhost:8080/",
          "height": 414
        },
        "id": "SCWtHfxDaK1r",
        "outputId": "d1e39699-9949-4988-828e-e20617dabd50"
      },
      "outputs": [
        {
          "output_type": "display_data",
          "data": {
            "text/plain": [
              "<IPython.core.display.HTML object>"
            ],
            "text/html": [
              "<script src=\"https://cdnjs.cloudflare.com/ajax/libs/require.js/2.3.6/require.min.js\"></script>"
            ]
          },
          "metadata": {}
        },
        {
          "output_type": "display_data",
          "data": {
            "text/plain": [
              "<IPython.core.display.HTML object>"
            ],
            "text/html": [
              "      \n",
              "        <div id=\"bertviz-27a7af48885b419da2aece1de5fec69f\" style=\"font-family:'Helvetica Neue', Helvetica, Arial, sans-serif;\">\n",
              "            <span style=\"user-select:none\">\n",
              "                \n",
              "            </span>\n",
              "            <div id='vis'></div>\n",
              "        </div>\n",
              "    "
            ]
          },
          "metadata": {}
        },
        {
          "output_type": "display_data",
          "data": {
            "text/plain": [
              "<IPython.core.display.Javascript object>"
            ],
            "application/javascript": [
              "/**\n",
              " * @fileoverview Transformer Visualization D3 javascript code.\n",
              " *\n",
              " * Based on: https://github.com/tensorflow/tensor2tensor/blob/master/tensor2tensor/visualization/attention.js\n",
              " *\n",
              " * Change log:\n",
              " *\n",
              " * 02/01/19  Jesse Vig   Initial implementation\n",
              " * 12/31/20  Jesse Vig   Support multiple visualizations in single notebook.\n",
              " * 01/19/21  Jesse Vig   Support light/dark modes\n",
              " * 02/06/21  Jesse Vig   Move require config from separate jupyter notebook step\n",
              " * 05/03/21  Jesse Vig   Adjust visualization height dynamically\n",
              " * 03/23/22  Daniel SC   Update requirement URLs for d3 and jQuery (source of bug not allowing end result to be displayed on browsers)\n",
              " **/\n",
              "\n",
              "require.config({\n",
              "  paths: {\n",
              "      d3: 'https://cdnjs.cloudflare.com/ajax/libs/d3/5.7.0/d3.min',\n",
              "    jquery: 'https://cdnjs.cloudflare.com/ajax/libs/jquery/2.0.0/jquery.min',\n",
              "  }\n",
              "});\n",
              "\n",
              "requirejs(['jquery', 'd3'], function($, d3) {\n",
              "\n",
              "        const params = {\"attention\": [{\"name\": null, \"attn\": [[[[0.14585931599140167, 0.07302606105804443, 0.07639016211032867, 0.12473158538341522, 0.07730850577354431, 0.12632885575294495, 0.37635552883148193], [0.29875412583351135, 0.09628649801015854, 0.04753683879971504, 0.02239958941936493, 0.2534469664096832, 0.2330484837293625, 0.04852752014994621], [0.34410157799720764, 0.18112029135227203, 0.05674855411052704, 0.037401266396045685, 0.14360105991363525, 0.08228566497564316, 0.154741570353508], [0.5081222653388977, 0.1208985447883606, 0.06598587334156036, 0.08116711676120758, 0.07608018070459366, 0.08521250635385513, 0.06253352016210556], [0.22429159283638, 0.11149190366268158, 0.19282959401607513, 0.06877623498439789, 0.1749097853899002, 0.07648009061813354, 0.15122084319591522], [0.16814564168453217, 0.10308029502630234, 0.15738283097743988, 0.025341151282191277, 0.3103429973125458, 0.09767961502075195, 0.13802745938301086], [0.4216024577617645, 0.07304450869560242, 0.06911743432283401, 0.11395289748907089, 0.04315070062875748, 0.06343787908554077, 0.2156941294670105]], [[0.9928650856018066, 0.0010770384687930346, 0.0005117969121783972, 0.002773751737549901, 0.0003891385276801884, 0.00048338586930185556, 0.001899753580801189], [0.006385355722159147, 0.0426609069108963, 0.047836076468229294, 0.009728902950882912, 0.5470901131629944, 0.24519717693328857, 0.10110142081975937], [0.013774560764431953, 0.02845969796180725, 0.02327391691505909, 0.0293443500995636, 0.3580226004123688, 0.4823252260684967, 0.06479955464601517], [0.031317487359046936, 0.13175475597381592, 0.27518653869628906, 0.10290440917015076, 0.14486348628997803, 0.24664831161499023, 0.06732506304979324], [0.050595249980688095, 0.024251459166407585, 0.048780135810375214, 0.02199966087937355, 0.4221353530883789, 0.23480364680290222, 0.1974344402551651], [0.007027801591902971, 0.06209796667098999, 0.044388994574546814, 0.05833413451910019, 0.13884422183036804, 0.15135741233825684, 0.5379494428634644], [0.028099574148654938, 0.26244938373565674, 0.0500415563583374, 0.45823073387145996, 0.03574712201952934, 0.06130171939730644, 0.10412987321615219]], [[0.9064294099807739, 0.00398712744936347, 0.006233170162886381, 0.0067415121011435986, 0.013852282427251339, 0.006693366449326277, 0.056063100695610046], [0.9926846027374268, 0.0009056688868440688, 0.00048057344974949956, 0.00015462150622624904, 7.148927397793159e-05, 0.0011572213843464851, 0.004545785952359438], [0.4734840989112854, 0.47785505652427673, 0.0034690191969275475, 0.00019416834402363747, 0.0032946267165243626, 0.0001049790735123679, 0.04159800708293915], [0.27130424976348877, 0.0008679214515723288, 0.7004011273384094, 0.006492865737527609, 0.006845415104180574, 0.008073966950178146, 0.006014453712850809], [0.9483783841133118, 2.006682007049676e-05, 9.259118814952672e-05, 0.042810384184122086, 0.0003976056759711355, 0.0002621822350192815, 0.008038733154535294], [0.9802765846252441, 1.5915684343781322e-05, 1.1579414604057092e-05, 0.0005902877310290933, 0.015757551416754723, 9.688919817563146e-05, 0.0032511032186448574], [0.8082399964332581, 7.217595702968538e-05, 0.0007381315226666629, 0.0005924170836806297, 0.0007292538648471236, 0.08415910601615906, 0.10546895861625671]], [[0.7541858553886414, 0.02163849025964737, 0.023793404921889305, 0.027472278103232384, 0.02552243135869503, 0.029666703194379807, 0.11772085726261139], [0.8978419899940491, 0.020824842154979706, 0.0014527919702231884, 0.0022182364482432604, 0.003314974019303918, 0.003484820481389761, 0.07086231559515], [0.14004652202129364, 0.7395550012588501, 0.010646600276231766, 0.0027492947410792112, 0.019061505794525146, 0.009931860491633415, 0.07800914347171783], [0.08346492797136307, 0.0798456147313118, 0.7079998850822449, 0.03531123325228691, 0.03786861523985863, 0.035840053111314774, 0.019669674336910248], [0.5805392861366272, 0.03223538026213646, 0.11309559643268585, 0.12113698571920395, 0.05439947918057442, 0.02332613430917263, 0.07526718080043793], [0.3260827660560608, 0.010469400323927402, 0.03226277232170105, 0.1558370292186737, 0.3460235893726349, 0.0819612666964531, 0.04736318811774254], [0.12922169268131256, 0.005672635976225138, 0.016520904377102852, 0.018475478515028954, 0.025619160383939743, 0.12979835271835327, 0.6746917963027954]], [[0.45125117897987366, 0.1062847301363945, 0.08787135779857635, 0.06585829704999924, 0.12005169689655304, 0.1377575397491455, 0.030925121158361435], [0.31677985191345215, 0.007332810666412115, 0.17727184295654297, 0.09617550671100616, 0.1237257570028305, 0.1286287009716034, 0.15008556842803955], [0.43172284960746765, 0.05021650344133377, 0.09474462270736694, 0.05315046384930611, 0.25331911444664, 0.08969397842884064, 0.027152469381690025], [0.1994677037000656, 0.1585482507944107, 0.059578996151685715, 0.1727733165025711, 0.1579332798719406, 0.1328883022069931, 0.11881010979413986], [0.7841795086860657, 0.013768351636826992, 0.020683983340859413, 0.020475465804338455, 0.0018952798563987017, 0.14825637638568878, 0.010741015896201134], [0.5923764109611511, 0.05146683752536774, 0.03130984678864479, 0.03138432279229164, 0.28312551975250244, 0.0020603954326361418, 0.008276695385575294], [0.004189720377326012, 0.0023079728707671165, 0.001537686213850975, 0.004125160165131092, 0.004269161727279425, 0.004715634044259787, 0.9788546562194824]], [[0.6577634811401367, 0.036433443427085876, 0.07074495404958725, 0.07611630856990814, 0.030975772067904472, 0.07539094239473343, 0.052575137466192245], [0.7379980087280273, 0.026785828173160553, 0.048854004591703415, 0.019020071253180504, 0.04702256992459297, 0.012212018482387066, 0.10810743272304535], [0.07176852226257324, 0.012195942923426628, 0.02003657817840576, 0.007868225686252117, 0.3119683265686035, 0.45425543189048767, 0.12190703302621841], [0.5707876682281494, 0.022834036499261856, 0.028097786009311676, 0.025290073826909065, 0.1611069291830063, 0.0670616403222084, 0.12482181191444397], [0.5149634480476379, 0.03157384321093559, 0.053652841597795486, 0.07181808352470398, 0.05523314327001572, 0.019988395273685455, 0.2527703046798706], [0.3701399564743042, 0.028838936239480972, 0.03433622419834137, 0.03390032425522804, 0.12194613367319107, 0.14011244475841522, 0.2707260251045227], [0.4571232795715332, 0.026884453371167183, 0.12049125880002975, 0.04419797286391258, 0.09245504438877106, 0.10251378268003464, 0.15633423626422882]], [[0.2559482455253601, 0.00021742303215432912, 0.0007080483483150601, 0.7395803332328796, 0.0008446110878139734, 0.0006480692536570132, 0.0020532046910375357], [0.10297700017690659, 0.06626159697771072, 0.06355256587266922, 0.015162256546318531, 0.4815109968185425, 0.12526021897792816, 0.14527538418769836], [0.09139510989189148, 0.4014699161052704, 0.08463181555271149, 0.003582598641514778, 0.18894410133361816, 0.11663873493671417, 0.11333775520324707], [0.025576679036021233, 0.26395946741104126, 0.11001884192228317, 0.0016925303498283029, 0.2915908992290497, 0.139108344912529, 0.1680532693862915], [0.5350507497787476, 0.03944344073534012, 0.033685702830553055, 0.0025131432339549065, 0.22107937932014465, 0.08818858861923218, 0.08003906160593033], [0.14106808602809906, 0.18554355204105377, 0.0766596570611, 0.0007594499038532376, 0.20980265736579895, 0.2725464105606079, 0.11362020671367645], [0.8607815504074097, 0.0290767103433609, 0.016291294246912003, 0.018963001668453217, 0.03162014111876488, 0.01550578884780407, 0.02776160091161728]], [[0.3103969097137451, 0.1468508243560791, 0.08168201893568039, 0.031314365565776825, 0.084737628698349, 0.1416887640953064, 0.20332951843738556], [0.682360053062439, 0.14791239798069, 0.02599984221160412, 0.012254903092980385, 0.019276350736618042, 0.016025999560952187, 0.09617055952548981], [0.6969309449195862, 0.06391029059886932, 0.029371270909905434, 0.023469625040888786, 0.023595158010721207, 0.012409861199557781, 0.15031279623508453], [0.8201791644096375, 0.03732391446828842, 0.011351956985890865, 0.011923769488930702, 0.005620327778160572, 0.005822361446917057, 0.10777853429317474], [0.2683725655078888, 0.029238052666187286, 0.1292867809534073, 0.015289974398911, 0.10811737179756165, 0.29367560148239136, 0.1560196429491043], [0.8781864047050476, 0.003663623007014394, 0.026548221707344055, 0.0027760835364460945, 0.045963577926158905, 0.025296488776803017, 0.0175656508654356], [0.21023514866828918, 0.12994886934757233, 0.04991674795746803, 0.4941284954547882, 0.033790867775678635, 0.050518330186605453, 0.03146158531308174]], [[0.6846341490745544, 0.05374348163604736, 0.04702654853463173, 0.048191070556640625, 0.05246284604072571, 0.0595434345304966, 0.05439842492341995], [0.09843060374259949, 0.012491824105381966, 0.10499350726604462, 0.24602141976356506, 0.16267044842243195, 0.18753603100776672, 0.18785615265369415], [0.05010509863495827, 0.007251214701682329, 0.011359711177647114, 0.07459252327680588, 0.44948136806488037, 0.22275221347808838, 0.1844578981399536], [0.021745257079601288, 0.0079955430701375, 0.023592792451381683, 0.019260568544268608, 0.16797880828380585, 0.4653569459915161, 0.2940700352191925], [0.7004765272140503, 0.005916736554354429, 0.0075942701660096645, 0.011025508865714073, 0.042634863406419754, 0.11129105091094971, 0.12106101214885712], [0.7505694627761841, 0.014713727869093418, 0.019179314374923706, 0.012419268488883972, 0.056364502757787704, 0.06086718291044235, 0.08588650822639465], [0.5712417364120483, 0.03881651535630226, 0.062347546219825745, 0.10107617825269699, 0.060495149344205856, 0.11775580048561096, 0.04826710373163223]], [[0.7245020866394043, 0.02024746499955654, 0.015133621171116829, 0.055556122213602066, 0.005163839086890221, 0.007489180192351341, 0.17190773785114288], [0.9092499017715454, 0.03731521964073181, 0.0008998432313092053, 0.004657201934605837, 0.0028386502526700497, 0.0034222505055367947, 0.041616812348365784], [0.9469164609909058, 0.00384551496244967, 0.00521814776584506, 0.0030158688314259052, 0.009461170993745327, 0.0025349885690957308, 0.02900785207748413], [0.9800717830657959, 0.0011567152105271816, 0.0010342206805944443, 0.0004778030270244926, 0.0009314424241892993, 0.0009083825279958546, 0.01541970856487751], [0.3100013732910156, 0.0037623627576977015, 0.002514844061806798, 0.004162713419646025, 0.6458115577697754, 0.0048509277403354645, 0.028896214440464973], [0.5737954378128052, 0.003777662292122841, 0.0038429086562246084, 0.003833469934761524, 0.007151671685278416, 0.3892173767089844, 0.018381468951702118], [0.8533321022987366, 0.02333655022084713, 0.03391002118587494, 0.036585334688425064, 0.0037441716995090246, 0.004620393738150597, 0.044471375644207]], [[0.7361360788345337, 0.03555281460285187, 0.0245811864733696, 0.040741924196481705, 0.041551124304533005, 0.04612293839454651, 0.07531396299600601], [0.15272164344787598, 0.005351325497031212, 0.7607570886611938, 0.00767490454018116, 0.03314099460840225, 0.036445409059524536, 0.003908657934516668], [0.6969485282897949, 0.002657124539837241, 0.0004889428964816034, 0.2872990071773529, 0.006337342318147421, 0.0017997591057792306, 0.004469296894967556], [0.07290446013212204, 0.0007728355121798813, 0.00034567018155939877, 0.007747845724225044, 0.7171916961669922, 0.1967475414276123, 0.004289982374757528], [0.696721613407135, 0.0011460172245278955, 0.000793898303527385, 0.00426778057590127, 0.05150753632187843, 0.22536398470401764, 0.020199066027998924], [0.49032604694366455, 0.003724091686308384, 0.00021859948174096644, 0.0065815201960504055, 0.0012970675015822053, 0.021611308678984642, 0.4762413799762726], [0.9197266697883606, 0.0018580821342766285, 0.0035603682044893503, 0.0014970359625294805, 0.009854741394519806, 0.008228854276239872, 0.055274203419685364]], [[0.7884784936904907, 0.015380505472421646, 0.008807881735265255, 0.031014559790492058, 0.015073985792696476, 0.02284235507249832, 0.11840217560529709], [0.3146240711212158, 0.028815895318984985, 0.2194984406232834, 0.1096595898270607, 0.08786457031965256, 0.13413245975971222, 0.10540500283241272], [0.5579685568809509, 0.13547153770923615, 0.013004286214709282, 0.09378109872341156, 0.06722286343574524, 0.057809017598629, 0.0747426450252533], [0.6486228108406067, 0.042467374354600906, 0.023455685004591942, 0.04812118411064148, 0.06727850437164307, 0.07762690633535385, 0.09242749214172363], [0.6688055396080017, 0.03616463020443916, 0.004328626208007336, 0.09827017784118652, 0.012824577279388905, 0.04382394999265671, 0.13578249514102936], [0.9061171412467957, 0.0009448532364331186, 0.0010064747184515, 0.009797219187021255, 0.025758972391486168, 0.01212067250162363, 0.04425457492470741], [0.47304433584213257, 0.03450002148747444, 0.05018695816397667, 0.08857163786888123, 0.032324858009815216, 0.10195096582174301, 0.21942122280597687]]], [[[0.985056459903717, 0.0014408431015908718, 0.0005895842332392931, 0.0007335307309404016, 0.0077371965162456036, 0.0015158295864239335, 0.0029265580233186483], [3.557777574769716e-07, 2.2426878842907172e-07, 0.9999994039535522, 4.9515758604457005e-08, 1.3156221667642853e-09, 6.532063334674376e-09, 2.2783968489648032e-08], [2.405507302682963e-06, 3.807878101724782e-08, 8.35926350362115e-09, 0.9999961853027344, 1.1838174174272353e-07, 1.6998777385701658e-10, 1.326461983808258e-06], [2.6119546419067774e-06, 7.819474490133871e-08, 3.5806837495044874e-09, 1.3940339158580173e-06, 0.9999884366989136, 1.5511994888584013e-06, 5.9301924011379015e-06], [2.0604934434231836e-06, 1.3693498779332458e-08, 1.4939693926407926e-07, 1.4832488126614862e-08, 2.0779825149475073e-07, 0.9999728202819824, 2.4820768885547295e-05], [1.3493678125087172e-05, 3.175726533299894e-06, 6.430426191528227e-10, 2.6438683562446386e-06, 2.170424284742012e-09, 5.5356767916237e-06, 0.9999752044677734], [0.8588605523109436, 0.004240427166223526, 0.01404494233429432, 0.0008773867739364505, 0.011061018332839012, 0.0001793586852727458, 0.11073634773492813]], [[0.6267945170402527, 0.01337734330445528, 0.04069448634982109, 0.05258685722947121, 0.021010490134358406, 0.02374251000583172, 0.22179371118545532], [0.33102747797966003, 0.03978442773222923, 0.37408530712127686, 0.040437959134578705, 0.0007134907064028084, 0.004840797279030085, 0.20911052823066711], [0.23004761338233948, 0.5601721405982971, 0.003471770090982318, 0.01673213765025139, 0.00990013126283884, 0.0022861177567392588, 0.17739006876945496], [0.1431587040424347, 0.05911621078848839, 0.32627055048942566, 0.04727872833609581, 0.018149087205529213, 0.2812194228172302, 0.12480726838111877], [0.4893248677253723, 0.019448643550276756, 0.013682284392416477, 0.14074364304542542, 0.004121908452361822, 0.03370155021548271, 0.29897716641426086], [0.42136305570602417, 0.01678074151277542, 0.035583335906267166, 0.15373998880386353, 0.025167476385831833, 0.0024508675560355186, 0.3449145555496216], [0.7339270710945129, 0.01063457503914833, 0.023198144510388374, 0.023637080565094948, 0.019010476768016815, 0.007760660722851753, 0.1818319857120514]], [[0.6067094206809998, 0.010309671983122826, 0.03504243120551109, 0.00308835506439209, 0.014675332233309746, 0.01899949461221695, 0.3111753463745117], [0.5107582211494446, 0.057569362223148346, 0.014316185377538204, 0.015777239575982094, 0.02984956093132496, 0.016308920457959175, 0.3554205298423767], [0.8099672198295593, 0.006154919508844614, 0.010096377693116665, 0.0028824673499912024, 0.01666170358657837, 0.004607487935572863, 0.14962981641292572], [0.6743955016136169, 0.0289012361317873, 0.02446039579808712, 0.013684798963367939, 0.02997729741036892, 0.012884190306067467, 0.2156965285539627], [0.11761099100112915, 0.10322082042694092, 0.15434856712818146, 0.02493286319077015, 0.1253308206796646, 0.2119256854057312, 0.2626302242279053], [0.5683960318565369, 0.052553415298461914, 0.03823420777916908, 0.058023422956466675, 0.07041610777378082, 0.015932919457554817, 0.1964438557624817], [0.4626033306121826, 0.0370001383125782, 0.053313981741666794, 0.10905493050813675, 0.02019055001437664, 0.038804225623607635, 0.2790328562259674]], [[0.7014880776405334, 0.037322863936424255, 0.028072599321603775, 0.011859370395541191, 0.03669781610369682, 0.0407625287771225, 0.14379669725894928], [0.3227785527706146, 0.0065739392302930355, 0.015484730713069439, 0.022158056497573853, 0.007534374482929707, 0.027076955884695053, 0.5983933806419373], [0.5577903389930725, 0.019117694348096848, 0.014524591155350208, 0.02962525561451912, 0.05604000389575958, 0.06401356309652328, 0.2588885426521301], [0.6280235052108765, 0.05811355262994766, 0.040835216641426086, 0.018966680392622948, 0.04130689799785614, 0.028614839538931847, 0.18413925170898438], [0.30515411496162415, 0.03163330629467964, 0.07259580492973328, 0.1796751320362091, 0.000555689272005111, 0.1586262285709381, 0.25175973773002625], [0.4141704738140106, 0.02940480224788189, 0.019004767760634422, 0.02182297594845295, 0.3893004059791565, 0.0006004328606650233, 0.1256961226463318], [0.9411020278930664, 0.002074174117296934, 0.004392566159367561, 0.003954550717025995, 0.004125147592276335, 0.00837322510778904, 0.0359782949090004]], [[0.9163492918014526, 0.01378915086388588, 0.014820116572082043, 0.01550160814076662, 0.013699344359338284, 0.02309795655310154, 0.0027424634899944067], [0.6261669993400574, 0.01829150691628456, 0.19404862821102142, 0.02441108413040638, 0.05621037259697914, 0.025602957233786583, 0.05526842176914215], [0.7586625814437866, 0.09973921626806259, 0.018061703070998192, 0.03512493520975113, 0.0636523887515068, 0.017114978283643723, 0.007644210942089558], [0.3594350814819336, 0.27218466997146606, 0.06177140027284622, 0.19125862419605255, 0.04685534909367561, 0.027718987315893173, 0.04077586904168129], [0.8251394629478455, 0.04520013555884361, 0.012595487758517265, 0.042425088584423065, 0.036003172397613525, 0.0258759967982769, 0.012760614976286888], [0.6601506471633911, 0.03763087838888168, 0.05009746178984642, 0.06315473467111588, 0.15614184737205505, 0.014535965397953987, 0.01828845404088497], [0.00544083584100008, 5.220114690018818e-05, 0.0003589258703868836, 0.0029874001629650593, 2.875075733754784e-05, 0.00025772149092517793, 0.9908740520477295]], [[0.5979452133178711, 0.029565881937742233, 0.07720346748828888, 0.091805100440979, 0.05841924995183945, 0.0684506967663765, 0.07661044597625732], [0.4043574631214142, 0.18543663620948792, 0.08186045289039612, 0.08900368958711624, 0.021194741129875183, 0.008247620426118374, 0.2098993957042694], [0.5384457111358643, 0.053210437297821045, 0.04217991977930069, 0.11936280131340027, 0.013117671944200993, 0.007147455122321844, 0.22653602063655853], [0.2173214852809906, 0.09892340004444122, 0.027587562799453735, 0.09962940216064453, 0.03618977218866348, 0.028003228828310966, 0.4923451542854309], [0.6229141354560852, 0.017946060746908188, 0.023338772356510162, 0.07906484603881836, 0.01943514496088028, 0.009945533238351345, 0.22735540568828583], [0.8380599617958069, 0.016035854816436768, 0.005372137296944857, 0.07611576467752457, 0.0015532064717262983, 0.004522977862507105, 0.05834004282951355], [0.7111034989356995, 0.008712098933756351, 0.01619146764278412, 0.023530350998044014, 0.0129911620169878, 0.01580200530588627, 0.21166937053203583]], [[0.18513154983520508, 0.053560949862003326, 0.09094435721635818, 0.16833294928073883, 0.0424967035651207, 0.06660781800746918, 0.3929256498813629], [0.06245934218168259, 0.7683767080307007, 0.00039309693966060877, 0.0013040340272709727, 0.0006523450720123947, 0.00011860118684126064, 0.16669578850269318], [0.17250727117061615, 0.0008054510690271854, 0.4656783640384674, 0.004818743094801903, 0.00042746233521029353, 0.0009261962259188294, 0.35483646392822266], [0.021801693364977837, 0.00034526945091784, 0.001108047435991466, 0.9180059432983398, 7.358573202509433e-05, 0.00233001122251153, 0.0563354566693306], [0.01894494704902172, 0.00022453216661233455, 0.00014028584701009095, 0.0005415233317762613, 0.9598988890647888, 6.424009916372597e-05, 0.02018556371331215], [0.029268978163599968, 2.0516798031167127e-05, 0.0001891894789878279, 0.005839451681822538, 5.927075835643336e-05, 0.9409068822860718, 0.02371574193239212], [0.19360429048538208, 0.08274529874324799, 0.14880259335041046, 0.1266433745622635, 0.04935918748378754, 0.06493298709392548, 0.3339122533798218]], [[0.7948936223983765, 0.03012421354651451, 0.038732144981622696, 0.014436823315918446, 0.03249528631567955, 0.029103143140673637, 0.060214705765247345], [0.3475186228752136, 0.2033781260251999, 0.06486359983682632, 0.09834843128919601, 0.026705684140324593, 0.03552834689617157, 0.22365719079971313], [0.5611793994903564, 0.16241711378097534, 0.0373896025121212, 0.03830964118242264, 0.05155469849705696, 0.024346426129341125, 0.12480306625366211], [0.2513645589351654, 0.3489347994327545, 0.19954931735992432, 0.04545710235834122, 0.03393341600894928, 0.031685613095760345, 0.08907516300678253], [0.5284667611122131, 0.11261065304279327, 0.10845369100570679, 0.030991697683930397, 0.0007356501300819218, 0.09901256114244461, 0.11972899734973907], [0.2309345155954361, 0.21778443455696106, 0.1288899928331375, 0.061257265508174896, 0.2357511818408966, 0.012384780682623386, 0.1129978597164154], [0.9358673691749573, 0.009671767242252827, 0.007841868326067924, 0.004800467751920223, 0.019100379198789597, 0.0075930021703243256, 0.015125170350074768]], [[0.9734523892402649, 0.012073635123670101, 0.003763930406421423, 0.0031613633036613464, 0.0027650503907352686, 0.0032508561853319407, 0.0015328136505559087], [0.1688120812177658, 0.6997395157814026, 0.04197990521788597, 0.004630006849765778, 0.017104441300034523, 0.03142496570944786, 0.036309171468019485], [0.7010592818260193, 0.2074863463640213, 0.013012755662202835, 0.006361979525536299, 0.019177019596099854, 0.033517222851514816, 0.01938537135720253], [0.41203010082244873, 0.00864544790238142, 0.013386206701397896, 0.3381035625934601, 0.025659937411546707, 0.16037492454051971, 0.04179979860782623], [0.6998004913330078, 0.10275983810424805, 0.06948436051607132, 0.012668384239077568, 0.017855163663625717, 0.08026805520057678, 0.017163759097456932], [0.7289060354232788, 0.0961805135011673, 0.006980294361710548, 0.13080281019210815, 0.023748962208628654, 0.005950576160103083, 0.007430686615407467], [0.00511113042011857, 0.0002931045601144433, 0.001059343689121306, 0.004367070272564888, 0.0002183400938520208, 5.068439349997789e-05, 0.9889003038406372]], [[0.7600611448287964, 0.002020136220380664, 0.0005084695876576006, 0.0007629190804436803, 0.00029887526761740446, 1.6623400370008312e-05, 0.23633185029029846], [4.5425278472066566e-07, 9.848544095802936e-07, 0.9999984502792358, 5.545208292545567e-09, 9.891488739199872e-10, 1.2685839045900593e-09, 1.007597703051033e-07], [7.007964086369611e-06, 6.948548048058001e-08, 1.6034046268487145e-07, 0.9999724626541138, 5.568776018094468e-08, 5.29013985395288e-12, 2.025059802690521e-05], [3.2406799164164113e-06, 4.9849028016524244e-08, 4.938102149409929e-10, 1.5665203534354077e-07, 0.9999935626983643, 4.914679152534518e-07, 2.502288907635375e-06], [4.3541407990232983e-07, 1.1193634907868955e-09, 2.9587434724476225e-08, 2.3798387704943025e-09, 2.7224904997069643e-08, 0.9999966621398926, 2.847217274393188e-06], [0.0008659124723635614, 3.574165020836517e-05, 2.030636769845273e-09, 8.5643705460825e-06, 1.9271282347688157e-09, 9.482252607995179e-06, 0.9990801811218262], [0.960979163646698, 0.001015886664390564, 0.008174123242497444, 0.0002007078001042828, 0.007948674261569977, 0.00015130698739085346, 0.021530089899897575]], [[0.6987394094467163, 0.029227575287222862, 0.023391330614686012, 0.015617134980857372, 0.07946799695491791, 0.056135211139917374, 0.09742125123739243], [0.03144076466560364, 0.9256547093391418, 0.016154900193214417, 0.006471296772360802, 0.009100313298404217, 0.0029382084030658007, 0.008239776827394962], [0.5520363450050354, 0.2883472740650177, 0.041133467108011246, 0.019749116152524948, 0.05141652002930641, 0.011838527396321297, 0.03547871485352516], [0.6868693232536316, 0.0756298378109932, 0.06846041232347488, 0.009949175640940666, 0.11997368931770325, 0.018906719982624054, 0.020210862159729004], [0.08013693243265152, 0.20979918539524078, 0.14823830127716064, 0.03641379252076149, 0.5002643465995789, 0.005598635878413916, 0.019548781216144562], [0.38505423069000244, 0.07807385921478271, 0.08724595606327057, 0.10728289932012558, 0.025732580572366714, 0.2407485395669937, 0.07586193829774857], [0.9764831066131592, 0.0013496821047738194, 0.002709572669118643, 0.0023492183536291122, 0.0008607243653386831, 0.004299568943679333, 0.011948106810450554]], [[0.7906399369239807, 0.008768774569034576, 0.015582659281790257, 0.024800332263112068, 0.004581201821565628, 0.008929600939154625, 0.1466975063085556], [0.16889996826648712, 0.08819611370563507, 0.31516313552856445, 0.20652854442596436, 0.053754355758428574, 0.049671512097120285, 0.11778626590967178], [0.16280533373355865, 0.08530983328819275, 0.02995029091835022, 0.2315554916858673, 0.08885926753282547, 0.29205408692359924, 0.10946562886238098], [0.08361721783876419, 0.04655612260103226, 0.015698732808232307, 0.025179490447044373, 0.050768278539180756, 0.4824173152446747, 0.29576292634010315], [0.4434986710548401, 0.01367797888815403, 0.05205053091049194, 0.036590419709682465, 0.014668618328869343, 0.15329381823539734, 0.2862200140953064], [0.7782698273658752, 0.004292966797947884, 0.017664778977632523, 0.027903733775019646, 0.0046833595260977745, 0.03917250409722328, 0.12801286578178406], [0.8925352692604065, 0.002653899136930704, 0.0057600801810622215, 0.018622074276208878, 0.0012788616586476564, 0.0034865224733948708, 0.07566320896148682]]], [[[0.050089284777641296, 0.0030106105841696262, 0.026333145797252655, 0.0016870402032509446, 0.08465155959129333, 0.17734363675117493, 0.6568846702575684], [0.00267928559333086, 0.0005459404201246798, 0.00676741823554039, 0.0008206231868825853, 0.025507500395178795, 0.011107395403087139, 0.9525717496871948], [0.023832062259316444, 0.027996333315968513, 0.04591021314263344, 0.10517080128192902, 0.1291804313659668, 0.3488638997077942, 0.3190462589263916], [0.007475229445844889, 0.0014911015750840306, 0.08048085123300552, 0.004552613012492657, 0.007235056255012751, 0.32978540658950806, 0.568979799747467], [0.009156246669590473, 0.0011992545332759619, 0.004580219276249409, 0.0006036873091943562, 0.0030921348370611668, 0.0010043848305940628, 0.9803640842437744], [0.0030160120222717524, 0.0016427497612312436, 0.0019193212501704693, 0.00021151386317797005, 0.00021799735259264708, 0.039394479244947433, 0.953597903251648], [0.00030131920357234776, 1.765682782206568e-07, 7.586348260701925e-08, 6.527325808747264e-07, 1.5364450973720523e-06, 8.388944934267784e-07, 0.9996954202651978]], [[0.05069448798894882, 0.16863621771335602, 0.1347249299287796, 0.04763063043355942, 0.14184653759002686, 0.42733603715896606, 0.029131170362234116], [0.03509017452597618, 0.17849253118038177, 0.18315903842449188, 0.2007351964712143, 0.03223800286650658, 0.2575076222419739, 0.1127774640917778], [0.24049527943134308, 0.16794905066490173, 0.049736157059669495, 0.21294403076171875, 0.10372896492481232, 0.09991833567619324, 0.1252281665802002], [0.029168397188186646, 0.18428568542003632, 0.17493019998073578, 0.28474730253219604, 0.06993390619754791, 0.22299599647521973, 0.03393852338194847], [0.06641583144664764, 0.0967196375131607, 0.19374492764472961, 0.3070578873157501, 0.06330253928899765, 0.013824617490172386, 0.25893452763557434], [0.5157846808433533, 0.045291073620319366, 0.057956989854574203, 0.13863754272460938, 0.03434258699417114, 0.07117118686437607, 0.13681593537330627], [0.00582166900858283, 0.00817391648888588, 0.02970028668642044, 0.004168334882706404, 0.007958449423313141, 0.0003493608965072781, 0.9438279867172241]], [[0.5583842992782593, 0.06995390355587006, 0.03687828406691551, 0.025291290134191513, 0.006760577671229839, 0.014935729093849659, 0.2877959609031677], [0.11456750333309174, 0.03877658024430275, 0.06899812817573547, 0.001958089880645275, 0.004318675957620144, 0.004914180375635624, 0.7664667963981628], [0.04572436586022377, 0.03054158203303814, 0.31606972217559814, 0.00887355487793684, 0.031132090836763382, 0.03083418868482113, 0.5368245244026184], [0.0733942985534668, 0.0346195288002491, 0.07147195935249329, 0.07474859058856964, 0.020049836486577988, 0.03887491300702095, 0.6868408918380737], [0.08343511819839478, 0.0224626362323761, 0.054353389889001846, 0.010058960877358913, 0.008334249258041382, 0.03748554736375809, 0.7838701605796814], [0.07988100498914719, 0.019357042387127876, 0.04088495299220085, 0.055189572274684906, 0.02764636091887951, 0.004231491591781378, 0.7728095650672913], [0.0003876705886796117, 3.7426045764732407e-06, 2.064067530227476e-06, 1.2451464499463327e-06, 7.566847216367023e-06, 1.346402427770954e-06, 0.9995964169502258]], [[0.005478495731949806, 0.0006743519334122539, 0.0019002747721970081, 0.0016975942999124527, 0.019271988421678543, 0.005151758901774883, 0.9658253788948059], [0.009912867099046707, 0.6749346256256104, 1.2173368304502219e-05, 3.364689837326296e-05, 0.00010446425585541874, 2.715075197556871e-06, 0.3149994909763336], [0.02622864954173565, 1.9061766579397954e-05, 0.5072479844093323, 9.565175423631445e-05, 9.38051744014956e-05, 4.666787572205067e-05, 0.4662681818008423], [0.017944809049367905, 1.1905984138138592e-05, 1.2598044122569263e-05, 0.6739220023155212, 4.638592145056464e-05, 3.806519089266658e-05, 0.30802419781684875], [0.02735850028693676, 3.984069189755246e-05, 3.6217511478753295e-06, 7.997486136446241e-06, 0.025263125076889992, 6.438678246922791e-05, 0.9472624659538269], [0.03992895781993866, 1.6599273067186004e-06, 4.935059678246034e-06, 2.022724220296368e-05, 8.119914855342358e-05, 0.04120111092925072, 0.9187619686126709], [3.921242750948295e-05, 2.1400971661478252e-07, 2.748266751950723e-07, 3.4501869095038273e-07, 6.092881221775315e-08, 9.69371694026222e-09, 0.9999599456787109]], [[0.04555855318903923, 0.08348722010850906, 0.11451748013496399, 0.009871364571154118, 0.20443017780780792, 0.2548188865184784, 0.28731632232666016], [0.02306748926639557, 0.07813291996717453, 0.5280327200889587, 0.013706037774682045, 0.021460415795445442, 0.051935043185949326, 0.28366538882255554], [0.011554190889000893, 0.16806970536708832, 0.33552423119544983, 0.027017654851078987, 0.1794881522655487, 0.07496267557144165, 0.20338335633277893], [0.05224965885281563, 0.08727401494979858, 0.24877242743968964, 0.05561913922429085, 0.1413755565881729, 0.061014074832201004, 0.35369518399238586], [0.007322514429688454, 0.029746176674962044, 0.08867865800857544, 0.026270190253853798, 0.024212315678596497, 0.017974261194467545, 0.8057959079742432], [0.03807580843567848, 0.009535493329167366, 0.04187881574034691, 0.027198296040296555, 0.06139382719993591, 0.05019066482782364, 0.7717270255088806], [0.001624344615265727, 0.00013706328172702342, 8.729039836907759e-05, 2.3352358766715042e-05, 0.0002165460173273459, 0.0003779000253416598, 0.9975334405899048]], [[0.00023922875698190182, 0.00030722562223672867, 0.0003608538245316595, 0.0005672922707162797, 0.00028810108778998256, 0.0003715698840096593, 0.9978657364845276], [0.03113269805908203, 0.006447639316320419, 0.09924555569887161, 0.06662686914205551, 0.1522403210401535, 0.03288079425692558, 0.6114261746406555], [0.07980263233184814, 0.004959160462021828, 0.014427682384848595, 0.03473928943276405, 0.2468917816877365, 0.4896913170814514, 0.12948817014694214], [0.003974949009716511, 0.004756461828947067, 0.0012125390348955989, 0.0004482090880628675, 0.007734213024377823, 0.9713981747627258, 0.010475418530404568], [0.0075206938199698925, 0.006453795824199915, 0.02855329029262066, 0.004109150264412165, 0.012706448324024677, 0.053142793476581573, 0.8875138759613037], [0.0026187454350292683, 7.995055057108402e-05, 0.0026765759103000164, 0.00265726656652987, 0.0011318278266116977, 0.0004631841438822448, 0.9903724193572998], [2.3782149582984857e-05, 2.6265384803991765e-05, 3.733811536221765e-05, 6.525397475343198e-05, 6.0640028095804155e-05, 3.413845843169838e-05, 0.9997527003288269]], [[0.004081498831510544, 0.001369661302305758, 0.0017524684080854058, 0.0005742397042922676, 0.00840021576732397, 0.0032569405157119036, 0.9805650115013123], [0.024017121642827988, 0.01058447640389204, 0.0005629843799397349, 0.000855602731462568, 0.006004138849675655, 0.0035746069625020027, 0.9544010758399963], [0.08167081326246262, 0.14579936861991882, 0.014076320454478264, 0.026690881699323654, 0.053234267979860306, 0.010362881235778332, 0.6681654453277588], [0.058863233774900436, 0.012263448908925056, 0.17848356068134308, 0.1230606958270073, 0.0388084277510643, 0.009659886360168457, 0.5788607597351074], [0.007980776950716972, 0.006451606750488281, 0.0010698414407670498, 0.0014414809411391616, 0.0030317276250571012, 0.019269051030278206, 0.9607555270195007], [0.047270819544792175, 0.02630155347287655, 0.1338573843240738, 0.0988379418849945, 0.05232663452625275, 0.02303779311478138, 0.6183679103851318], [0.00013799523003399372, 6.684287654934451e-05, 3.459677827777341e-06, 2.293690158694517e-06, 5.797416088171303e-05, 2.9867369448766112e-05, 0.9997015595436096]], [[0.004333897493779659, 0.0009622303186915815, 0.0005661449977196753, 0.0012322462862357497, 0.0017826721305027604, 0.00093689258210361, 0.9901859760284424], [0.010375536046922207, 0.006400649901479483, 0.0052492329850792885, 0.002438850235193968, 0.0012319110101088881, 0.008594651706516743, 0.9657092094421387], [0.005237391218543053, 0.1956070214509964, 0.011839321814477444, 0.0018570864340290427, 0.002532507525756955, 0.003752657677978277, 0.7791740298271179], [0.010180767625570297, 0.005477883853018284, 0.603327751159668, 0.003332708729431033, 0.0363071970641613, 0.0024691817816346884, 0.3389045298099518], [0.001924146548844874, 0.00025073651340790093, 0.015291672199964523, 0.19895640015602112, 0.02677023597061634, 0.0005368580459617078, 0.7562700510025024], [0.0015165992081165314, 0.0005705532967112958, 0.00212028413079679, 0.032921794801950455, 0.27847668528556824, 0.00025148963322862983, 0.684142529964447], [0.00015663309022784233, 9.912670793710276e-05, 0.00011203726899111643, 0.0008820864604786038, 0.0001146637587225996, 4.32019260188099e-05, 0.99859219789505]], [[0.022442664951086044, 0.005046024918556213, 0.005273850169032812, 0.0017619673162698746, 0.0013085334794595838, 0.0014963786816224456, 0.962670624256134], [0.07352255284786224, 0.0039742435328662395, 0.02416258491575718, 0.025827115401625633, 0.02132314257323742, 0.030190955847501755, 0.8209993839263916], [0.050693780183792114, 0.022918352857232094, 0.019768521189689636, 0.04179445281624794, 0.1458924561738968, 0.10024382919073105, 0.6186886429786682], [0.05902424827218056, 0.019107704982161522, 0.03687053173780441, 0.2552109956741333, 0.0597405768930912, 0.1211247518658638, 0.4489212930202484], [0.03931557759642601, 0.0010547003475949168, 0.00203725416213274, 0.00447311345487833, 0.0016143363900482655, 0.010356093756854534, 0.9411489367485046], [0.009471031837165356, 0.001990561606362462, 0.0012378889368847013, 0.0013605491258203983, 0.0011171610094606876, 0.0006019253050908446, 0.9842208623886108], [0.002510424703359604, 0.0016165018314495683, 0.000303098582662642, 0.0009783871937543154, 0.00036171788815408945, 0.00030492281075567007, 0.9939249157905579]], [[0.021543972194194794, 0.006730372551828623, 0.008637446910142899, 0.009865115396678448, 0.03877226263284683, 0.020432107150554657, 0.894018828868866], [0.1525585800409317, 0.0017308155074715614, 0.022839533165097237, 0.1458483338356018, 0.00968187116086483, 0.016433143988251686, 0.6509077548980713], [0.07885497063398361, 0.00861486978828907, 0.034005630761384964, 0.015648795291781425, 0.05803840234875679, 0.029401807114481926, 0.7754355072975159], [0.04996257275342941, 0.05435610190033913, 0.04092084616422653, 0.39810651540756226, 0.2503047287464142, 0.03329230099916458, 0.1730569452047348], [0.07688769698143005, 0.015891224145889282, 0.02197732962667942, 0.04627958685159683, 0.00025040472974069417, 0.12281962484121323, 0.7158941030502319], [0.045126065611839294, 0.006716564763337374, 0.026668347418308258, 0.009631271474063396, 0.19558949768543243, 4.394660209072754e-05, 0.7162242531776428], [0.010475576855242252, 0.0010062732035294175, 0.0014394395984709263, 0.005009960848838091, 0.0034172995947301388, 0.004837943706661463, 0.9738134145736694]], [[0.007882583886384964, 0.0043406980112195015, 0.0021599442698061466, 0.0009841490536928177, 0.001620404771529138, 0.001075222622603178, 0.9819371104240417], [0.08444961905479431, 0.025747060775756836, 0.017349140718579292, 0.020393207669258118, 0.02000914141535759, 0.006544934585690498, 0.8255068063735962], [0.06421460211277008, 0.5512089729309082, 0.030895747244358063, 0.009555023163557053, 0.03657866641879082, 0.033316560089588165, 0.274230420589447], [0.06415563821792603, 0.16455163061618805, 0.3252579867839813, 0.061762526631355286, 0.10572387278079987, 0.034854792058467865, 0.24369347095489502], [0.01379756722599268, 0.0208902545273304, 0.13880372047424316, 0.02653084322810173, 0.024868587031960487, 0.004934265743941069, 0.7701747417449951], [0.013200780376791954, 0.006600634194910526, 0.10100674629211426, 0.02473859116435051, 0.2722649872303009, 0.009006698615849018, 0.5731816291809082], [0.0006362482672557235, 6.645291432505473e-05, 4.670831185649149e-05, 0.000124271449749358, 0.00020823800878133625, 8.69928189786151e-05, 0.9988312125205994]], [[0.011970254592597485, 0.008687625639140606, 0.0005284982617013156, 4.9486458010505885e-05, 0.0002632971154525876, 0.0001366826327284798, 0.9783641695976257], [0.02396388351917267, 0.004388854373246431, 0.29474231600761414, 0.004704686813056469, 0.002130888169631362, 0.002298366278409958, 0.66777104139328], [0.11555702984333038, 0.007937701418995857, 0.009554717689752579, 0.3048385679721832, 0.18473313748836517, 0.006427170243114233, 0.3709516227245331], [0.010677716694772243, 0.0026684501208364964, 0.0017233509570360184, 0.00500058988109231, 0.8724848628044128, 0.06844476610422134, 0.0390002466738224], [0.027664195746183395, 0.0011724107898771763, 0.0006432501832023263, 0.002792105544358492, 0.060213666409254074, 0.11210349202156067, 0.7954109311103821], [0.005127182696014643, 0.008323516696691513, 0.00037502311170101166, 0.0003261886886321008, 0.0001682301954133436, 0.00023608926858287305, 0.9854438900947571], [0.001411482342518866, 0.0009365020669065416, 0.0003413960221223533, 0.00012833914661314338, 0.00010916386963799596, 0.00011706482473528013, 0.9969559907913208]]], [[[0.00021056192053947598, 0.001298891264013946, 0.0037829449865967035, 0.0008018299122340977, 0.0015547636430710554, 0.002497923793271184, 0.9898530840873718], [0.006885988172143698, 0.011207086965441704, 0.008642933331429958, 0.0018006988102570176, 0.005126051139086485, 0.007527097128331661, 0.9588101506233215], [0.005406178999692202, 0.014091823250055313, 0.006841517053544521, 0.004990465473383665, 0.009165213443338871, 0.002481468953192234, 0.9570233225822449], [0.011988341808319092, 0.04406719654798508, 0.11073318123817444, 0.07922571152448654, 0.046241674572229385, 0.024885596707463264, 0.6828582882881165], [0.002636935794726014, 0.00309246894903481, 0.01173054426908493, 0.002613753778859973, 0.001245668507181108, 0.0016617412911728024, 0.9770187735557556], [0.0023831927683204412, 0.0056458283215761185, 0.028296811506152153, 0.01836324669420719, 0.006772975437343121, 0.0037942074704915285, 0.9347437024116516], [0.00040544720832258463, 0.0005953566869720817, 0.0022219428792595863, 0.001863681012764573, 0.0007571027963422239, 0.0010356261627748609, 0.9931208491325378]], [[0.0015928164357319474, 0.0019580929074436426, 0.0030985858757048845, 0.002747792052105069, 0.005892145913094282, 0.004394811112433672, 0.9803157448768616], [0.005414713639765978, 0.0048766969703137875, 0.22733592987060547, 0.03295258432626724, 0.08330646902322769, 0.03756161779165268, 0.6085520386695862], [0.007300915662199259, 0.0007000642362982035, 0.013599256053566933, 0.049792055040597916, 0.034689247608184814, 0.21481283009052277, 0.6791056394577026], [0.004568600561469793, 0.0051712156273424625, 0.030457628890872, 0.09387795627117157, 0.0393424928188324, 0.1900871843099594, 0.6364948749542236], [0.0015400038100779057, 0.0004383773193694651, 0.0010120084043592215, 0.0002997583942487836, 0.0007655807421542704, 0.0007527381530962884, 0.9951915740966797], [0.002278820378705859, 0.0016245112055912614, 0.004135185852646828, 0.0005237685982137918, 0.0027249623090028763, 0.0007250672788359225, 0.987987756729126], [0.0008597197593189776, 0.00018517926218919456, 0.00041338158189319074, 0.0003779937978833914, 0.0006432942464016378, 0.0006991628906689584, 0.9968212842941284]], [[0.00016468441754113883, 0.031036606058478355, 0.005972853861749172, 0.0004657613462768495, 0.0008625979535281658, 0.0005579751450568438, 0.9609394073486328], [0.0016058115288615227, 0.0029413821175694466, 0.6456179022789001, 0.009402073919773102, 0.02016240358352661, 0.007132537662982941, 0.31313785910606384], [0.011007201857864857, 0.00847634021192789, 0.021846970543265343, 0.15482470393180847, 0.03369251638650894, 0.02497740276157856, 0.7451749444007874], [0.0037578861229121685, 0.014310800470411777, 0.01905406452715397, 0.01050627138465643, 0.1947583705186844, 0.04608709737658501, 0.7115254402160645], [0.0016195264179259539, 0.0023740767501294613, 0.001267758896574378, 0.008687682449817657, 0.003266984596848488, 0.11036840081214905, 0.8724155426025391], [0.000897617603186518, 0.009271221235394478, 0.0053699989803135395, 0.049533020704984665, 0.0025998433120548725, 0.004230407997965813, 0.9280979037284851], [0.0026627674233168364, 0.0005118474364280701, 0.0019977479241788387, 0.0005383995594456792, 0.000453822169220075, 0.0006890120566822588, 0.9931463599205017]], [[0.0003385998716112226, 0.00016523410158697516, 9.671498264651746e-05, 6.478161958511919e-05, 0.0014190494548529387, 0.0002496509987395257, 0.9976660013198853], [0.00201142649166286, 0.0013880397891625762, 0.0008894805214367807, 0.001594768138602376, 0.0026688093785196543, 0.0006849263445474207, 0.9907625317573547], [0.0008152814698405564, 0.0026592519134283066, 0.002584509551525116, 0.002391490153968334, 0.007853114046156406, 0.000363971950719133, 0.9833323955535889], [0.0011316236341372132, 0.002007885603234172, 0.004120106343179941, 0.002744955476373434, 0.008557227440178394, 0.004967624321579933, 0.9764705896377563], [0.002155349124222994, 5.859697557752952e-05, 0.00017109945474658161, 0.00024356500944122672, 0.000303959590382874, 0.0005900468677282333, 0.9964774250984192], [0.0022318223491311073, 0.0008903032285161316, 0.006206119898706675, 0.002791670151054859, 0.01660093292593956, 0.0017706655198708177, 0.9695084691047668], [0.002814964158460498, 0.0004639493708964437, 7.829575042705983e-05, 0.00024113798281177878, 0.00029977611848153174, 0.0010374569101259112, 0.9950644373893738]], [[0.0001013812143355608, 3.951682629121933e-06, 2.078132274618838e-05, 7.626630394952372e-05, 1.8580192772787996e-05, 5.171230441192165e-05, 0.9997273087501526], [0.11470001935958862, 0.0003332569031044841, 0.0011170924408361316, 0.000289720919681713, 0.000888326670974493, 0.010993614792823792, 0.8716781139373779], [0.0005561484140343964, 0.871965229511261, 0.03738171607255936, 0.0003967668453697115, 0.005633944645524025, 0.00030503043672069907, 0.08376118540763855], [0.0015781434485688806, 0.000893839169293642, 0.9010305404663086, 0.007509317714720964, 0.0011481227120384574, 0.005348034203052521, 0.08249195665121078], [0.004388722591102123, 0.00034152541775256395, 0.0014604381285607815, 0.0770145058631897, 0.0039459653198719025, 4.4454169255914167e-05, 0.9128044247627258], [0.00045827878057025373, 2.8000034944852814e-05, 0.009026712737977505, 0.02800380438566208, 0.9073025584220886, 6.349305476760492e-05, 0.05511726066470146], [0.0002090398338623345, 1.8429860574542545e-05, 3.9974405808607116e-05, 0.00023440999211743474, 0.00020737569138873369, 5.475935176946223e-05, 0.999235987663269]], [[0.00011433162580942735, 5.7026827562367544e-05, 0.0016983171226456761, 9.659242641646415e-05, 0.008571508340537548, 0.003660571528598666, 0.9858015179634094], [0.0018398393876850605, 0.0011347502004355192, 0.07902510464191437, 0.004549826495349407, 0.08397452533245087, 0.05682233348488808, 0.7726536393165588], [0.0002777086046990007, 0.00018290102889295667, 0.005127133801579475, 0.0020053056068718433, 0.02201574295759201, 0.00811892468482256, 0.9622723460197449], [0.004244446288794279, 0.0025432417169213295, 0.01864483579993248, 0.006978495512157679, 0.04138459265232086, 0.07882312685251236, 0.8473812341690063], [0.000414670241298154, 0.00011131605424452573, 0.0006720785167999566, 0.00023277160653378814, 0.00021025912428740412, 0.0010875094449147582, 0.9972713589668274], [0.002214999869465828, 0.00037463594344444573, 0.0012347805313766003, 0.002041266765445471, 0.00445904303342104, 0.0004711697984021157, 0.9892041087150574], [3.654130296126823e-06, 2.2558733689947985e-06, 1.2826317288272548e-05, 2.588071765785571e-06, 0.00011307668319204822, 9.362548007629812e-05, 0.9997720122337341]], [[0.01079516764730215, 0.0003659657668322325, 0.006227799225598574, 0.00028735268278978765, 0.004065086133778095, 0.004091495182365179, 0.9741671681404114], [0.004254186060279608, 0.0010567271383479238, 0.13088588416576385, 0.0188341923058033, 0.012581486254930496, 0.013304827734827995, 0.8190826773643494], [0.0008229000959545374, 0.0002435734058963135, 0.007339776959270239, 0.00893720705062151, 0.00033568221260793507, 0.0026561017148196697, 0.97966468334198], [0.001694443286396563, 0.00038974740891717374, 0.005554414354264736, 0.004398598335683346, 0.006870772689580917, 0.0185410063713789, 0.9625508785247803], [0.02374984696507454, 0.00026700965827330947, 0.0014759749174118042, 0.0003681738453451544, 0.0021935650147497654, 0.004721485078334808, 0.9672238826751709], [0.0034659807570278645, 0.0005745126982219517, 0.0006030555232428014, 0.0007913378649391234, 0.0009935511043295264, 0.0008131593349389732, 0.9927583932876587], [0.001370057463645935, 0.0004616737423930317, 0.0003333377535454929, 0.0004085908003617078, 0.0022467609960585833, 0.004835672676563263, 0.9903438091278076]], [[0.001304701087065041, 0.0007355490233749151, 0.0007058186456561089, 0.00048109915223903954, 0.0003062723553739488, 0.003002541372552514, 0.993463933467865], [0.015845702961087227, 0.0001668665645411238, 0.005051771644502878, 0.0034675218630582094, 0.0006060553132556379, 0.00010726832260843366, 0.9747547507286072], [0.00014201867452356964, 0.0010352490935474634, 0.002111043082550168, 0.0013059203047305346, 0.0005332833388820291, 0.00026084689307026565, 0.9946115016937256], [0.002391687361523509, 0.0017616160912439227, 0.026863692328333855, 0.0032126065343618393, 0.0022170240990817547, 0.006718161515891552, 0.956835150718689], [0.009450025856494904, 0.0007576151983812451, 0.003569401800632477, 0.0014529988402500749, 0.00030295446049422026, 0.00010147121793124825, 0.9843655824661255], [0.006090831942856312, 0.003235487500205636, 0.06806965172290802, 0.016618167981505394, 0.04780030623078346, 0.004653590731322765, 0.8535320162773132], [0.0014075679937377572, 0.0028249952010810375, 0.002338654361665249, 0.0019804630428552628, 0.0018233958398923278, 0.002160628791898489, 0.9874643087387085]], [[0.001878845738247037, 0.0023047677241265774, 0.0014568414771929383, 0.0007192083867266774, 0.005192837677896023, 0.0016174906631931663, 0.9868300557136536], [0.014269622042775154, 0.015970569103956223, 0.04972502589225769, 0.002527136355638504, 0.005387305282056332, 0.025213193148374557, 0.8869070410728455], [0.007154006510972977, 0.0069857388734817505, 0.011584490537643433, 0.0016852328553795815, 0.0062523894011974335, 0.006387318018823862, 0.9599508047103882], [0.01840989664196968, 0.0011880871606990695, 0.004243780393153429, 0.014080367051064968, 0.0027215187437832355, 0.010692759416997433, 0.948663592338562], [0.004864267073571682, 0.002225203439593315, 0.0013244976289570332, 0.008654957637190819, 0.0049843876622617245, 0.005543122533708811, 0.9724035859107971], [0.008053775876760483, 0.0007306179613806307, 0.0005340647767297924, 0.0031154321040958166, 0.0018036438850685954, 0.00344581576064229, 0.9823165535926819], [0.0014896360225975513, 0.0004994496703147888, 0.0005343985976651311, 0.0015323719708248973, 0.0019340335857123137, 0.001878846320323646, 0.9921312928199768]], [[0.00018437797552905977, 0.0004844370123464614, 0.0024116572458297014, 0.001752435346134007, 0.002368333050981164, 0.0012018666602671146, 0.9915968775749207], [0.00770517298951745, 0.0020718486048281193, 0.0039046930614858866, 0.0010942543158307672, 0.0023087088484317064, 0.0077780988067388535, 0.9751372933387756], [0.0061212824657559395, 0.03133763000369072, 0.013017999939620495, 0.000963150174356997, 0.004801518749445677, 0.00518550630658865, 0.938572883605957], [0.009000467136502266, 0.011381039395928383, 0.36685582995414734, 0.03629768267273903, 0.01625773310661316, 0.026639239862561226, 0.5335680842399597], [0.0015017736004665494, 0.004730394575744867, 0.010496379807591438, 0.007798941805958748, 0.0021620579063892365, 0.0038084588013589382, 0.9695019721984863], [0.001301325624808669, 0.004416888579726219, 0.22871063649654388, 0.07455392926931381, 0.014731515198946, 0.003093036590144038, 0.6731926798820496], [0.0010709468042477965, 0.0009417238179594278, 0.0010028432589024305, 0.0018487191991880536, 0.001795027288608253, 0.001762976055033505, 0.9915777444839478]], [[3.997235398855992e-05, 7.976121560204774e-05, 0.0006691091111861169, 0.00012267239799257368, 0.0016868333332240582, 0.004667195491492748, 0.992734432220459], [0.004530610516667366, 0.001807896769605577, 0.07135268300771713, 0.02537006326019764, 0.051807865500450134, 0.14118054509162903, 0.7039504051208496], [0.00665776152163744, 0.005628254730254412, 0.010236997157335281, 0.0516478531062603, 0.05953957512974739, 0.4209483563899994, 0.4453411400318146], [0.004416151437908411, 0.0029439758509397507, 0.001858012517914176, 0.006992395967245102, 0.017071956768631935, 0.8292703628540039, 0.13744711875915527], [0.008105510845780373, 0.0008766708197072148, 0.0015143424971029162, 0.0010578178334981203, 0.0002961023710668087, 0.003666147356852889, 0.9844834208488464], [0.00321060698479414, 0.0054215071722865105, 0.005947355180978775, 0.005465073976665735, 0.008426082320511341, 0.0009391278144903481, 0.9705902934074402], [0.00024039024719968438, 0.00012011188664473593, 0.0004337493737693876, 0.00010761256999103352, 0.00018021301366388798, 0.0005756549653597176, 0.9983422756195068]], [[0.01068459078669548, 0.004901687614619732, 0.0023335032165050507, 0.002508037956431508, 0.0008199170115403831, 0.009684834629297256, 0.969067394733429], [0.008005913347005844, 0.0022179491352289915, 0.0016522215446457267, 0.0003950052778236568, 0.0017084558494389057, 0.003803539089858532, 0.9822169542312622], [0.007671786937862635, 0.06783153861761093, 0.00733480928465724, 0.0034325665328651667, 0.00969802774488926, 0.005778842139989138, 0.898252546787262], [0.004164213314652443, 0.06233992800116539, 0.06994141638278961, 0.00154267402831465, 0.023685701191425323, 0.047544609755277634, 0.7907814383506775], [9.868370398180559e-05, 6.464716716436669e-05, 0.0001601638796273619, 0.0023596908431500196, 0.0004311342490836978, 0.00026621538563631475, 0.9966193437576294], [0.0002742809592746198, 0.0006502168835140765, 0.0058338697999715805, 0.004494519904255867, 0.35764726996421814, 0.004142184276133776, 0.6269576549530029], [0.0007070775027386844, 0.00022283995349425822, 0.00019493118452373892, 0.0003532509144861251, 0.0012209138367325068, 0.0008881752728484571, 0.9964129328727722]]], [[[0.0001495652977610007, 0.00023602278088219464, 0.00043079358874820173, 7.704117160756141e-05, 0.533898115158081, 0.036611031740903854, 0.4285973906517029], [0.00039576058043166995, 0.0025889717508107424, 0.0012199715711176395, 0.0005365699762478471, 0.09936709702014923, 0.005067622289061546, 0.8908240795135498], [0.0001335817069048062, 8.66181799210608e-05, 0.015303700231015682, 0.000355959142325446, 0.010932515375316143, 0.006631032098084688, 0.9665565490722656], [4.9205369577975944e-05, 4.237300163367763e-05, 0.00031728149042464793, 0.0005601785960607231, 0.058935388922691345, 0.5832226276397705, 0.3568730056285858], [0.0002988810883834958, 7.260206621140242e-05, 8.964098378783092e-05, 0.00010670275514712557, 0.19821470975875854, 0.0012484868057072163, 0.7999690175056458], [0.0003773428616113961, 0.0002690886612981558, 0.0004941414808854461, 0.0004622862907126546, 0.06828035414218903, 0.1446429342031479, 0.7854738831520081], [6.08353457209887e-06, 1.8536655261414126e-05, 3.4443062759237364e-05, 9.007741027744487e-05, 0.008293922059237957, 0.00043109789839945734, 0.991125762462616]], [[0.0002613994001876563, 0.0024865595623850822, 0.002527320757508278, 0.009063242934644222, 0.3472746014595032, 0.003982671070843935, 0.634404182434082], [0.003990905825048685, 0.0007303961901925504, 0.003889207961037755, 0.0021257505286484957, 0.1001705676317215, 0.007821855135262012, 0.8812713623046875], [0.007295171730220318, 0.004499727860093117, 0.009610257111489773, 0.0672442838549614, 0.2201603651046753, 0.4980994164943695, 0.1930907815694809], [0.005077695474028587, 0.0044942572712898254, 0.003905173856765032, 0.053441986441612244, 0.30330073833465576, 0.5567871928215027, 0.07299293577671051], [0.0072294436395168304, 0.012185078114271164, 0.011136993765830994, 0.012538078241050243, 0.08947952091693878, 0.04008573666214943, 0.8273451328277588], [0.02358008734881878, 0.07238876074552536, 0.029680954292416573, 0.009537411853671074, 0.5130574107170105, 0.02252770960330963, 0.3292276859283447], [0.0005357510526664555, 0.0008101183921098709, 0.0008408170542679727, 0.0012578035239130259, 0.02381928823888302, 0.00776284234598279, 0.9649733901023865]], [[5.372247323975898e-05, 0.000562469766009599, 0.005921404343098402, 0.00016390376549679786, 0.2921919822692871, 0.001547007355839014, 0.6995595097541809], [0.007732519879937172, 0.0014261790784075856, 0.036578793078660965, 0.0061805411241948605, 0.15090227127075195, 0.02706199698150158, 0.7701177000999451], [0.011228030547499657, 0.022675026208162308, 0.00840207003057003, 0.005146438255906105, 0.2446087896823883, 0.03184938803315163, 0.6760902404785156], [0.018407465890049934, 0.01460415031760931, 0.02648596093058586, 0.00823330320417881, 0.39049121737480164, 0.10420568287372589, 0.437572181224823], [0.01364518329501152, 0.006212487351149321, 0.025587307289242744, 0.008179484866559505, 0.0833810418844223, 0.009098202921450138, 0.8538962006568909], [0.018757792189717293, 0.013804278336465359, 0.03270095959305763, 0.036685261875391006, 0.4997446537017822, 0.01606471836566925, 0.3822422921657562], [0.0009354648645967245, 0.0015941235469654202, 0.0018657331820577383, 0.000350515590980649, 0.00992813054472208, 0.008537298999726772, 0.9767887592315674]], [[0.0001642111747059971, 0.0018341466784477234, 0.0011146065080538392, 0.0002098563127219677, 0.08997584134340286, 0.00573896337300539, 0.9009623527526855], [0.002266578609123826, 0.003030496183782816, 0.009104724042117596, 0.01135145965963602, 0.1161198616027832, 0.07341522723436356, 0.7847117185592651], [0.005395202897489071, 0.02376137487590313, 0.017667826265096664, 0.023026378825306892, 0.2015012502670288, 0.04282304644584656, 0.6858249306678772], [0.016702689230442047, 0.008969256654381752, 0.3305993378162384, 0.09154165536165237, 0.114332415163517, 0.06684591621160507, 0.3710086941719055], [0.0052118259482085705, 0.028997328132390976, 0.055862050503492355, 0.030018417164683342, 0.07014206796884537, 0.06706245988607407, 0.7427058219909668], [0.001391312456689775, 0.005329510662704706, 0.6789047122001648, 0.1317645013332367, 0.12064073979854584, 0.00141166674438864, 0.06055750325322151], [0.060972437262535095, 0.01836446486413479, 0.02147216908633709, 0.014056825079023838, 0.035248734056949615, 0.08489958196878433, 0.7649857997894287]], [[0.00032740217284299433, 0.001443545101210475, 0.004684410989284515, 0.0021397520322352648, 0.02045387774705887, 0.006640898995101452, 0.9643101096153259], [0.011447169817984104, 0.025845259428024292, 0.021951669827103615, 0.014121637679636478, 0.0616208054125309, 0.11226257681846619, 0.7527508735656738], [0.00753070367500186, 0.05009695887565613, 0.03378444164991379, 0.023993032053112984, 0.19488197565078735, 0.04740121215581894, 0.6423115730285645], [0.0013070852728560567, 0.013697599992156029, 0.01459491066634655, 0.010520604439079762, 0.3245445191860199, 0.16748477518558502, 0.4678505063056946], [0.0017396127805113792, 0.0027798707596957684, 0.010288534685969353, 0.002239367924630642, 0.006375512108206749, 0.00867043063044548, 0.967906653881073], [0.0025356013793498278, 0.005664972122758627, 0.14104661345481873, 0.0020700639579445124, 0.3509235084056854, 0.0003842464939225465, 0.4973750412464142], [0.0036207716912031174, 0.0054161627776920795, 0.0021613729186356068, 0.002537040039896965, 0.015228121541440487, 0.031110994517803192, 0.9399255514144897]], [[2.90753578156e-05, 0.0008041230612434447, 0.0007362316246144474, 8.872376201907173e-05, 0.9794600605964661, 0.0003209259593859315, 0.018560899421572685], [0.009234166704118252, 0.0021422880236059427, 0.04448898509144783, 0.01669088378548622, 0.4877585470676422, 0.28986668586730957, 0.14981840550899506], [0.014766774140298367, 0.023719241842627525, 0.022540466859936714, 0.06784268468618393, 0.14614346623420715, 0.16869661211967468, 0.5562907457351685], [0.002621072344481945, 0.017396340146660805, 0.02294304594397545, 0.03204359486699104, 0.12229518592357635, 0.650663435459137, 0.1520373374223709], [0.022500954568386078, 0.0050350758247077465, 0.013071094639599323, 0.005761479027569294, 0.15706376731395721, 0.05680584907531738, 0.7397617697715759], [0.01703610084950924, 0.018463801592588425, 0.002568507567048073, 0.0028948490507900715, 0.5398643612861633, 0.0029721565078943968, 0.4162002503871918], [0.0029429160058498383, 0.012053608894348145, 0.015192842110991478, 0.004607364535331726, 0.05934906750917435, 0.09792832285165787, 0.8079258799552917]], [[0.0008714526193216443, 0.00046231879969127476, 0.0032742945477366447, 0.00033510374487377703, 0.017784375697374344, 0.0011227026116102934, 0.9761497378349304], [0.03578224405646324, 0.05843096226453781, 0.00935734249651432, 0.0025364772882312536, 0.013592960312962532, 0.0011131077772006392, 0.8791869282722473], [0.004485531244426966, 0.0010016083251684904, 0.520586371421814, 0.0003189540293533355, 0.02830236591398716, 0.0003298716328572482, 0.44497525691986084], [0.04380064457654953, 0.009887545369565487, 0.003400927409529686, 0.2828417718410492, 0.12603634595870972, 0.020974498242139816, 0.5130582451820374], [0.02149992063641548, 0.004449212457984686, 0.004777155816555023, 0.0031995950266718864, 0.21259421110153198, 0.0006451255176216364, 0.7528347969055176], [0.005376623477786779, 0.009838688187301159, 0.029945528134703636, 0.04197278991341591, 0.33458247780799866, 0.08707348257303238, 0.49121037125587463], [0.0061189294792711735, 0.0020902662072330713, 0.0017952276393771172, 0.0009570265538059175, 0.004091635346412659, 0.001525282859802246, 0.9834217429161072]], [[0.0006543903145939112, 0.007202173583209515, 0.0025209812447428703, 0.002000344218686223, 0.383179634809494, 0.5098045468330383, 0.0946379005908966], [0.0007703860756009817, 0.0020535325165838003, 0.009241354651749134, 0.010109816677868366, 0.6007603406906128, 0.2420872449874878, 0.1349773406982422], [0.00041181972483173013, 0.008285791613161564, 0.026001259684562683, 0.21722781658172607, 0.280033141374588, 0.3792806565761566, 0.08875953406095505], [1.4862746866128873e-05, 0.00010535382898524404, 0.00030064707971177995, 0.006169074680656195, 0.026542678475379944, 0.9582874774932861, 0.008579930290579796], [0.0007880202610976994, 0.0008452796027995646, 0.0014567570760846138, 0.0008380088838748634, 0.031750697642564774, 0.10378868877887726, 0.8605324625968933], [0.0007451854180544615, 0.01160794124007225, 0.13467811048030853, 0.00792739074677229, 0.31379854679107666, 0.06636635959148407, 0.4648765027523041], [3.386602475075051e-05, 3.396014290046878e-05, 0.00013965893595013767, 6.750972534064204e-05, 0.008713563904166222, 0.020355381071567535, 0.9706560969352722]], [[0.003041264833882451, 0.008717235177755356, 0.005671647377312183, 0.0016961186192929745, 0.10817906260490417, 0.0069045135751366615, 0.8657901883125305], [0.019656069576740265, 0.8367447853088379, 0.0379677414894104, 0.0020816356409341097, 0.01683882623910904, 0.00794804748147726, 0.07876301556825638], [0.018886469304561615, 0.07782452553510666, 0.0866410955786705, 0.04621490091085434, 0.037044376134872437, 0.05623916536569595, 0.6771495342254639], [0.019574815407395363, 0.006253539584577084, 0.06484677642583847, 0.04441206902265549, 0.03392850607633591, 0.30915072560310364, 0.5218335390090942], [0.01356777735054493, 0.017761263996362686, 0.0011314874282106757, 0.0007217191741801798, 0.48251456022262573, 0.0013402197510004044, 0.482962965965271], [0.007130106911063194, 0.0024577786680310965, 0.029563255608081818, 0.12962831556797028, 0.013381967321038246, 0.054783742874860764, 0.7630547881126404], [0.20470668375492096, 0.1110634133219719, 0.04866185039281845, 0.04620576649904251, 0.05886352062225342, 0.059825144708156586, 0.4706735610961914]], [[0.011098338291049004, 0.006709882523864508, 0.00027361634420230985, 0.0008248272351920605, 0.05009248107671738, 0.0008444341947324574, 0.930156409740448], [0.0016034137224778533, 0.0029740671161562204, 0.0016177503857761621, 0.0013232157798483968, 0.011331580579280853, 0.0024528522044420242, 0.9786971211433411], [0.0009350435575470328, 0.009069925174117088, 0.00012509871157817543, 2.0926481738570146e-05, 0.0004300996952224523, 0.00025363880558870733, 0.9891652464866638], [0.0022566597908735275, 0.0013420720351859927, 0.011422831565141678, 0.0021122649777680635, 0.005621661897748709, 0.006646368652582169, 0.9705981612205505], [0.00894080474972725, 0.0016106385737657547, 0.0005331438733264804, 0.003204029519110918, 0.011395630426704884, 0.0006809403421357274, 0.9736348390579224], [0.00011892990733031183, 0.0004493123560678214, 0.0018008018378168344, 0.0005951360217295587, 0.9668906331062317, 0.0002542403235565871, 0.029890939593315125], [0.0024124684277921915, 0.0041508181020617485, 0.0014610670041292906, 0.00263791112229228, 0.007476829923689365, 0.0036554348189383745, 0.9782055020332336]], [[0.00014161538274493068, 0.003726836759597063, 0.0011423745891079307, 0.00017917405057232827, 0.9110484719276428, 0.0005548305925913155, 0.0832066684961319], [0.02313939295709133, 0.01144381333142519, 0.08424612879753113, 0.008418719284236431, 0.7235376238822937, 0.011217688210308552, 0.13799665868282318], [0.008600329048931599, 0.007119860965758562, 0.006164186634123325, 0.009711730293929577, 0.3492269814014435, 0.35069626569747925, 0.26848065853118896], [0.009544795379042625, 0.009710371494293213, 0.006989810615777969, 0.004796097986400127, 0.7590175867080688, 0.07140251994132996, 0.13853880763053894], [0.010733102448284626, 0.006204258184880018, 0.010120936669409275, 0.0036525775212794542, 0.09515032172203064, 0.019768862053751945, 0.8543699979782104], [0.020729996263980865, 0.010161180049180984, 0.06208391860127449, 0.05695772543549538, 0.40738439559936523, 0.011045175604522228, 0.43163758516311646], [0.007011960260570049, 0.02510564774274826, 0.012577821500599384, 0.0048635415732860565, 0.11805452406406403, 0.025583285838365555, 0.8068032264709473]], [[0.009282873943448067, 0.007447092793881893, 0.01719815656542778, 0.02250070869922638, 0.02467927150428295, 0.048087362200021744, 0.8708045482635498], [0.014874468557536602, 0.001723779016174376, 0.026736291125416756, 0.04489781707525253, 0.025750990957021713, 0.3801712691783905, 0.5058453679084778], [0.017054755240678787, 0.007044738158583641, 0.010965975932776928, 0.014499141834676266, 0.04954562708735466, 0.024647552520036697, 0.8762421011924744], [0.12979631125926971, 0.029193781316280365, 0.011171682737767696, 0.0404597669839859, 0.1467757374048233, 0.04294659569859505, 0.5996561050415039], [0.011018398217856884, 0.0024857469834387302, 0.01490874495357275, 0.04018992930650711, 0.0004003701324108988, 0.020178329199552536, 0.9108185768127441], [0.013815583661198616, 0.012783017940819263, 0.008435379713773727, 0.015487821772694588, 0.057487208396196365, 0.0019638403318822384, 0.8900272250175476], [0.16065609455108643, 0.06347378343343735, 0.07031257450580597, 0.053063925355672836, 0.08648134768009186, 0.13740627467632294, 0.4286060035228729]]], [[[0.006324684713035822, 0.0007831849507056177, 0.0009522532927803695, 0.0006593160796910524, 0.0671638548374176, 0.025546126067638397, 0.8985706567764282], [0.0015781590482220054, 0.0007225748850032687, 0.002947603352367878, 0.0062064966186881065, 0.013270384632050991, 0.016535786911845207, 0.9587390422821045], [0.032418884336948395, 0.006181485950946808, 0.005710632540285587, 0.009102492593228817, 0.07212516665458679, 0.14276309311389923, 0.731698215007782], [0.007994448766112328, 0.013472557067871094, 0.007367940619587898, 0.007088314741849899, 0.04863237589597702, 0.035706691443920135, 0.8797376155853271], [0.003397878957912326, 0.0017892727628350258, 0.0032234119717031717, 0.0037686352152377367, 0.015609300695359707, 0.012354067526757717, 0.9598574638366699], [0.107989102602005, 0.0332198329269886, 0.014471682719886303, 0.012122031301259995, 0.20267967879772186, 0.02184530906379223, 0.607672393321991], [0.0007176451617851853, 0.003952289931476116, 0.0015114762354642153, 0.0021203092765063047, 0.010963027365505695, 0.005483526270836592, 0.9752516746520996]], [[0.0003549936809577048, 0.001622729585506022, 4.8525191232329234e-05, 0.0004876645980402827, 0.03959313780069351, 0.05557098984718323, 0.902321994304657], [0.002132051857188344, 0.0036570210941135883, 0.0008458520169369876, 0.0010112281888723373, 0.04328794404864311, 0.027328332886099815, 0.921737551689148], [0.0030258370097726583, 0.004884422291070223, 0.0006968164816498756, 0.0013922767248004675, 0.06272097676992416, 0.011649488471448421, 0.9156301617622375], [0.0028508803807199, 0.0015190953854471445, 0.003307754173874855, 0.003737273858860135, 0.051512785255908966, 0.0350499264895916, 0.9020223021507263], [0.00859686080366373, 0.02532654069364071, 0.020534630864858627, 0.017627622932195663, 0.02040248177945614, 0.0875791683793068, 0.8199326395988464], [0.02014857903122902, 0.01003363449126482, 0.015788905322551727, 0.020080866292119026, 0.12973420321941376, 0.06350454688072205, 0.7407092452049255], [0.0015853563090786338, 0.00338138360530138, 0.0013877574820071459, 0.001291516819037497, 0.027902424335479736, 0.013138472102582455, 0.9513131380081177]], [[0.13983935117721558, 0.047320906072854996, 0.024613292887806892, 0.0354173518717289, 0.22035931050777435, 0.44655176997184753, 0.08589804917573929], [0.12472734600305557, 0.17919203639030457, 0.027328787371516228, 0.04665558785200119, 0.275417298078537, 0.15298932790756226, 0.19368959963321686], [0.12765659391880035, 0.042256444692611694, 0.10555405169725418, 0.09086040407419205, 0.2313569188117981, 0.2883860766887665, 0.11392947286367416], [0.10814525187015533, 0.05505583807826042, 0.11134921759366989, 0.12933331727981567, 0.4106873571872711, 0.1350991576910019, 0.05032980069518089], [0.2043449878692627, 0.06002684682607651, 0.036003172397613525, 0.05464314669370651, 0.21620331704616547, 0.2810419201850891, 0.14773662388324738], [0.1522696614265442, 0.014539455063641071, 0.005996720399707556, 0.01865966245532036, 0.16133910417556763, 0.5656948685646057, 0.08150056004524231], [0.017504369840025902, 0.03297670558094978, 0.011059806682169437, 0.010773922316730022, 0.08626945316791534, 0.03380334749817848, 0.807612419128418]], [[0.009019020013511181, 0.018283933401107788, 0.0031648387666791677, 0.0012778321979567409, 0.7353301048278809, 0.06359413266181946, 0.1693301796913147], [0.01111133024096489, 0.01276249811053276, 0.004443760495632887, 0.000888388545718044, 0.6534211039543152, 0.02016669511795044, 0.297206312417984], [0.002384720603004098, 0.013395498506724834, 0.0029306865762919188, 0.001252077636308968, 0.12661577761173248, 0.01640886813402176, 0.8370123505592346], [0.0048704263754189014, 0.01746070757508278, 0.004102298058569431, 0.002670029876753688, 0.24294264614582062, 0.023173902183771133, 0.7047800421714783], [0.016227440908551216, 0.008862851187586784, 0.005786149296909571, 0.01059106457978487, 0.1317983716726303, 0.05499550700187683, 0.771738588809967], [0.014538805931806564, 0.007910276763141155, 0.010343506000936031, 0.008237597532570362, 0.23681676387786865, 0.1101510152220726, 0.6120019555091858], [0.00742133567109704, 0.010716566815972328, 0.0043166084215044975, 0.007315325550734997, 0.08654171228408813, 0.01666914112865925, 0.8670193552970886]], [[9.403245348948985e-05, 0.0012527949875220656, 0.0002560961584094912, 0.0002169924700865522, 0.08876685798168182, 0.052182309329509735, 0.8572309017181396], [0.00018748646834865212, 0.00244965311139822, 0.0009969413513317704, 0.0018798556411638856, 0.06755074113607407, 0.01677006483078003, 0.9101652503013611], [6.072484097785491e-07, 0.0010946866823360324, 0.0002898576494771987, 0.00040501050534658134, 0.028238236904144287, 0.0022076298482716084, 0.9677640795707703], [0.0002873472694773227, 0.0033512874506413937, 0.0024610047694295645, 0.0032670123036950827, 0.039820704609155655, 0.02952432632446289, 0.921288251876831], [0.0013335032854229212, 0.009662225842475891, 0.019374435767531395, 0.03735505789518356, 0.09714975208044052, 0.08213905990123749, 0.7529858946800232], [0.00022431343677453697, 0.003350738435983658, 0.00554476585239172, 0.0037538413889706135, 0.028820902109146118, 0.07338181883096695, 0.8849237561225891], [0.10877162218093872, 0.007095968816429377, 0.0029609622433781624, 0.0047352928668260574, 0.022987404838204384, 0.009071745909750462, 0.8443770408630371]], [[0.01659465581178665, 0.021762842312455177, 0.0006150089320726693, 0.00023367606627289206, 0.5200232863426208, 0.35224735736846924, 0.08852317929267883], [0.07239773124456406, 0.045688021928071976, 0.0018775596981868148, 0.0023156902752816677, 0.2562676966190338, 0.1512400209903717, 0.47021323442459106], [0.009611316956579685, 0.0045593297109007835, 0.0061199902556836605, 0.01802024058997631, 0.01181021612137556, 0.10830314457416534, 0.8415758013725281], [0.006485085468739271, 0.004192072432488203, 0.0016978159546852112, 0.005206004716455936, 0.02474096044898033, 0.1640159636735916, 0.7936620712280273], [0.044965509325265884, 0.040962014347314835, 0.0026397400069981813, 0.0028567351400852203, 0.6625773310661316, 0.0413396842777729, 0.20465905964374542], [0.01712707057595253, 0.00664774002507329, 0.002123486250638962, 0.0022253035567700863, 0.42589378356933594, 0.43674662709236145, 0.10923607647418976], [0.010144835337996483, 0.01777847297489643, 0.002076508244499564, 0.0046616848558187485, 0.09449826180934906, 0.0332336351275444, 0.8376065492630005]], [[0.0016985106049105525, 0.002553672296926379, 0.0019561953376978636, 0.0031984790693968534, 0.08476829528808594, 0.009654518216848373, 0.8961703777313232], [0.0033221335615962744, 0.010010949335992336, 0.0018672883743420243, 0.0088806739076972, 0.025556396692991257, 0.007742091082036495, 0.9426205158233643], [0.0019967088010162115, 0.00497444299980998, 0.0010129790753126144, 0.0007256529061123729, 0.039072174578905106, 0.0060873618349432945, 0.9461307525634766], [0.0010198926320299506, 0.0024079179856926203, 0.00018428161274641752, 0.00023894300102256238, 0.12090008705854416, 0.006607530172914267, 0.8686413168907166], [0.0062787169590592384, 0.007351416163146496, 0.00573235796764493, 0.01206466555595398, 0.08372122049331665, 0.012136872857809067, 0.8727146983146667], [0.00673746969550848, 0.006675186101347208, 0.0016384882619604468, 0.002508038654923439, 0.08452312648296356, 0.013648152351379395, 0.884269654750824], [0.002350285416468978, 0.004592608660459518, 0.0024226228706538677, 0.004668022971600294, 0.03856860101222992, 0.013552906922996044, 0.9338449835777283]], [[0.00013039150508120656, 0.0006367499590851367, 0.0002625316265039146, 0.0006114052957855165, 0.022360501810908318, 0.04943414777517319, 0.9265642762184143], [0.0006549437530338764, 0.0015444031450897455, 0.0004958419012837112, 0.0011023113038390875, 0.0242463406175375, 0.02860814705491066, 0.9433479905128479], [0.0014337098691612482, 0.003083385294303298, 0.0015889779897406697, 0.0069501097314059734, 0.02203304134309292, 0.05303763598203659, 0.9118731021881104], [0.00033596885623410344, 0.0007248139590956271, 0.0004818136803805828, 0.0010357830906286836, 0.01016093697398901, 0.030000004917383194, 0.9572606086730957], [0.003277358366176486, 0.02395474910736084, 0.0016055910382419825, 0.001762458705343306, 0.0955122858285904, 0.01293548196554184, 0.8609520792961121], [0.007046309299767017, 0.008486649952828884, 0.006624248344451189, 0.019115373492240906, 0.0630839392542839, 0.19549773633480072, 0.7001457214355469], [0.00014686526264995337, 0.0005402502720244229, 0.00010032318823505193, 0.0005232321564108133, 0.020213918760418892, 0.0033098538406193256, 0.9751656651496887]], [[0.06059578061103821, 0.02692095935344696, 0.010781948454678059, 0.006721853278577328, 0.21137143671512604, 0.26581764221191406, 0.41779032349586487], [0.17811276018619537, 0.17538028955459595, 0.027420630678534508, 0.0362670011818409, 0.2002430111169815, 0.03317422419786453, 0.3494020104408264], [0.05577392876148224, 0.0032086551655083895, 0.8879694938659668, 0.009978103451430798, 0.0014004308031871915, 0.015357798896729946, 0.026311596855521202], [0.23866766691207886, 0.03032759577035904, 0.19407673180103302, 0.16384567320346832, 0.008130899630486965, 0.2886761426925659, 0.0762752890586853], [0.015111765824258327, 0.00638724397867918, 0.0004110672452952713, 0.007618206553161144, 0.8563297390937805, 0.0012069926597177982, 0.11293499916791916], [0.0038277190178632736, 0.0024594629649072886, 0.005786880385130644, 0.01110608596354723, 0.02247113548219204, 0.8065703511238098, 0.14777839183807373], [0.001975340535864234, 0.00213342672213912, 0.0005701790796592832, 0.00241538742557168, 0.020017387345433235, 0.013387661427259445, 0.9595006108283997]], [[0.039231788367033005, 0.00643435912206769, 0.001555416383780539, 0.006504132878035307, 0.4833046793937683, 0.29268011450767517, 0.17028950154781342], [0.11382587999105453, 0.10383130609989166, 0.021109402179718018, 0.062436651438474655, 0.07343156635761261, 0.3921189308166504, 0.233246311545372], [0.15273697674274445, 0.06566191464662552, 0.21732358634471893, 0.25008702278137207, 0.014946036972105503, 0.1532037854194641, 0.14604069292545319], [0.12200475484132767, 0.06400234252214432, 0.130116268992424, 0.4220130443572998, 0.0577348954975605, 0.15153652429580688, 0.05259215831756592], [0.10969863831996918, 0.04300912469625473, 0.015783259645104408, 0.018546389415860176, 0.3999361991882324, 0.050180040299892426, 0.362846314907074], [0.04459867626428604, 0.0037886183708906174, 0.004847442731261253, 0.009449171833693981, 0.3768739104270935, 0.2992892861366272, 0.26115286350250244], [0.03887663036584854, 0.053713131695985794, 0.028901074081659317, 0.024954482913017273, 0.07342727482318878, 0.03765174746513367, 0.7424757480621338]], [[0.0006892376695759594, 0.00015184782387223095, 4.760279261972755e-05, 2.9622402507811785e-05, 0.30017420649528503, 0.0013962734956294298, 0.6975111961364746], [0.0003569345863070339, 0.00032982745324261487, 3.832520087598823e-05, 0.00017539001419208944, 0.07731954753398895, 0.0010329056531190872, 0.9207471013069153], [0.000700377335306257, 0.00026509579038247466, 9.059386502485722e-05, 0.0006478765862993896, 0.05161454901099205, 0.001916587701998651, 0.9447649717330933], [0.0003554538998287171, 0.00028988043777644634, 0.00010883658978855237, 0.0006308486335910857, 0.046759795397520065, 0.0022431742399930954, 0.9496120810508728], [0.034748807549476624, 0.010982612147927284, 0.005556861404329538, 0.002207444980740547, 0.5262290239334106, 0.02606598101556301, 0.39420926570892334], [0.004618289414793253, 0.0009827313479036093, 0.000397141877328977, 0.00023445577244274318, 0.15966211259365082, 0.0028187171556055546, 0.8312865495681763], [0.0004816026194021106, 0.0005685589276254177, 0.0005002412362955511, 0.0004742264864034951, 0.05436433479189873, 0.0013575258199125528, 0.9422535300254822]], [[4.669866757467389e-05, 0.00019442939083091915, 0.00012942023749928921, 0.00017702102195471525, 0.026671437546610832, 0.005076221190392971, 0.9677047729492188], [0.00033438505488447845, 0.0019016362493857741, 0.000622016319539398, 0.001270879409275949, 0.03664762154221535, 0.009057858027517796, 0.9501655697822571], [0.0008184527978301048, 0.0024180214386433363, 0.00312923570163548, 0.005281472112983465, 0.05512917414307594, 0.039066117256879807, 0.8941575884819031], [0.0003953771374654025, 0.00028228142764419317, 0.0006862511509098113, 0.0014050721656531096, 0.015294337645173073, 0.09934844821691513, 0.8825882077217102], [0.0017050538444891572, 0.009867609478533268, 0.0025899915490299463, 0.0031429859809577465, 0.13168732821941376, 0.021056970581412315, 0.8299500942230225], [0.0010505628306418657, 0.0036601130850613117, 0.009673809632658958, 0.01566215418279171, 0.028442541137337685, 0.14920161664485931, 0.7923091650009155], [0.0005145125323906541, 0.0012076577404513955, 0.0007420966867357492, 0.0011948158498853445, 0.03974916413426399, 0.015108880586922169, 0.9414829015731812]]]], \"left_text\": [\"[CLS]\", \"i\", \"have\", \"the\", \"freshman\", \"plague\", \"[SEP]\"], \"right_text\": [\"[CLS]\", \"i\", \"have\", \"the\", \"freshman\", \"plague\", \"[SEP]\"]}], \"default_filter\": \"0\", \"display_mode\": \"dark\", \"root_div_id\": \"bertviz-27a7af48885b419da2aece1de5fec69f\", \"include_layers\": [0, 1, 2, 3, 4, 5], \"include_heads\": [0, 1, 2, 3, 4, 5, 6, 7, 8, 9, 10, 11], \"total_heads\": 12}; // HACK: {\"attention\": [{\"name\": null, \"attn\": [[[[0.14585931599140167, 0.07302606105804443, 0.07639016211032867, 0.12473158538341522, 0.07730850577354431, 0.12632885575294495, 0.37635552883148193], [0.29875412583351135, 0.09628649801015854, 0.04753683879971504, 0.02239958941936493, 0.2534469664096832, 0.2330484837293625, 0.04852752014994621], [0.34410157799720764, 0.18112029135227203, 0.05674855411052704, 0.037401266396045685, 0.14360105991363525, 0.08228566497564316, 0.154741570353508], [0.5081222653388977, 0.1208985447883606, 0.06598587334156036, 0.08116711676120758, 0.07608018070459366, 0.08521250635385513, 0.06253352016210556], [0.22429159283638, 0.11149190366268158, 0.19282959401607513, 0.06877623498439789, 0.1749097853899002, 0.07648009061813354, 0.15122084319591522], [0.16814564168453217, 0.10308029502630234, 0.15738283097743988, 0.025341151282191277, 0.3103429973125458, 0.09767961502075195, 0.13802745938301086], [0.4216024577617645, 0.07304450869560242, 0.06911743432283401, 0.11395289748907089, 0.04315070062875748, 0.06343787908554077, 0.2156941294670105]], [[0.9928650856018066, 0.0010770384687930346, 0.0005117969121783972, 0.002773751737549901, 0.0003891385276801884, 0.00048338586930185556, 0.001899753580801189], [0.006385355722159147, 0.0426609069108963, 0.047836076468229294, 0.009728902950882912, 0.5470901131629944, 0.24519717693328857, 0.10110142081975937], [0.013774560764431953, 0.02845969796180725, 0.02327391691505909, 0.0293443500995636, 0.3580226004123688, 0.4823252260684967, 0.06479955464601517], [0.031317487359046936, 0.13175475597381592, 0.27518653869628906, 0.10290440917015076, 0.14486348628997803, 0.24664831161499023, 0.06732506304979324], [0.050595249980688095, 0.024251459166407585, 0.048780135810375214, 0.02199966087937355, 0.4221353530883789, 0.23480364680290222, 0.1974344402551651], [0.007027801591902971, 0.06209796667098999, 0.044388994574546814, 0.05833413451910019, 0.13884422183036804, 0.15135741233825684, 0.5379494428634644], [0.028099574148654938, 0.26244938373565674, 0.0500415563583374, 0.45823073387145996, 0.03574712201952934, 0.06130171939730644, 0.10412987321615219]], [[0.9064294099807739, 0.00398712744936347, 0.006233170162886381, 0.0067415121011435986, 0.013852282427251339, 0.006693366449326277, 0.056063100695610046], [0.9926846027374268, 0.0009056688868440688, 0.00048057344974949956, 0.00015462150622624904, 7.148927397793159e-05, 0.0011572213843464851, 0.004545785952359438], [0.4734840989112854, 0.47785505652427673, 0.0034690191969275475, 0.00019416834402363747, 0.0032946267165243626, 0.0001049790735123679, 0.04159800708293915], [0.27130424976348877, 0.0008679214515723288, 0.7004011273384094, 0.006492865737527609, 0.006845415104180574, 0.008073966950178146, 0.006014453712850809], [0.9483783841133118, 2.006682007049676e-05, 9.259118814952672e-05, 0.042810384184122086, 0.0003976056759711355, 0.0002621822350192815, 0.008038733154535294], [0.9802765846252441, 1.5915684343781322e-05, 1.1579414604057092e-05, 0.0005902877310290933, 0.015757551416754723, 9.688919817563146e-05, 0.0032511032186448574], [0.8082399964332581, 7.217595702968538e-05, 0.0007381315226666629, 0.0005924170836806297, 0.0007292538648471236, 0.08415910601615906, 0.10546895861625671]], [[0.7541858553886414, 0.02163849025964737, 0.023793404921889305, 0.027472278103232384, 0.02552243135869503, 0.029666703194379807, 0.11772085726261139], [0.8978419899940491, 0.020824842154979706, 0.0014527919702231884, 0.0022182364482432604, 0.003314974019303918, 0.003484820481389761, 0.07086231559515], [0.14004652202129364, 0.7395550012588501, 0.010646600276231766, 0.0027492947410792112, 0.019061505794525146, 0.009931860491633415, 0.07800914347171783], [0.08346492797136307, 0.0798456147313118, 0.7079998850822449, 0.03531123325228691, 0.03786861523985863, 0.035840053111314774, 0.019669674336910248], [0.5805392861366272, 0.03223538026213646, 0.11309559643268585, 0.12113698571920395, 0.05439947918057442, 0.02332613430917263, 0.07526718080043793], [0.3260827660560608, 0.010469400323927402, 0.03226277232170105, 0.1558370292186737, 0.3460235893726349, 0.0819612666964531, 0.04736318811774254], [0.12922169268131256, 0.005672635976225138, 0.016520904377102852, 0.018475478515028954, 0.025619160383939743, 0.12979835271835327, 0.6746917963027954]], [[0.45125117897987366, 0.1062847301363945, 0.08787135779857635, 0.06585829704999924, 0.12005169689655304, 0.1377575397491455, 0.030925121158361435], [0.31677985191345215, 0.007332810666412115, 0.17727184295654297, 0.09617550671100616, 0.1237257570028305, 0.1286287009716034, 0.15008556842803955], [0.43172284960746765, 0.05021650344133377, 0.09474462270736694, 0.05315046384930611, 0.25331911444664, 0.08969397842884064, 0.027152469381690025], [0.1994677037000656, 0.1585482507944107, 0.059578996151685715, 0.1727733165025711, 0.1579332798719406, 0.1328883022069931, 0.11881010979413986], [0.7841795086860657, 0.013768351636826992, 0.020683983340859413, 0.020475465804338455, 0.0018952798563987017, 0.14825637638568878, 0.010741015896201134], [0.5923764109611511, 0.05146683752536774, 0.03130984678864479, 0.03138432279229164, 0.28312551975250244, 0.0020603954326361418, 0.008276695385575294], [0.004189720377326012, 0.0023079728707671165, 0.001537686213850975, 0.004125160165131092, 0.004269161727279425, 0.004715634044259787, 0.9788546562194824]], [[0.6577634811401367, 0.036433443427085876, 0.07074495404958725, 0.07611630856990814, 0.030975772067904472, 0.07539094239473343, 0.052575137466192245], [0.7379980087280273, 0.026785828173160553, 0.048854004591703415, 0.019020071253180504, 0.04702256992459297, 0.012212018482387066, 0.10810743272304535], [0.07176852226257324, 0.012195942923426628, 0.02003657817840576, 0.007868225686252117, 0.3119683265686035, 0.45425543189048767, 0.12190703302621841], [0.5707876682281494, 0.022834036499261856, 0.028097786009311676, 0.025290073826909065, 0.1611069291830063, 0.0670616403222084, 0.12482181191444397], [0.5149634480476379, 0.03157384321093559, 0.053652841597795486, 0.07181808352470398, 0.05523314327001572, 0.019988395273685455, 0.2527703046798706], [0.3701399564743042, 0.028838936239480972, 0.03433622419834137, 0.03390032425522804, 0.12194613367319107, 0.14011244475841522, 0.2707260251045227], [0.4571232795715332, 0.026884453371167183, 0.12049125880002975, 0.04419797286391258, 0.09245504438877106, 0.10251378268003464, 0.15633423626422882]], [[0.2559482455253601, 0.00021742303215432912, 0.0007080483483150601, 0.7395803332328796, 0.0008446110878139734, 0.0006480692536570132, 0.0020532046910375357], [0.10297700017690659, 0.06626159697771072, 0.06355256587266922, 0.015162256546318531, 0.4815109968185425, 0.12526021897792816, 0.14527538418769836], [0.09139510989189148, 0.4014699161052704, 0.08463181555271149, 0.003582598641514778, 0.18894410133361816, 0.11663873493671417, 0.11333775520324707], [0.025576679036021233, 0.26395946741104126, 0.11001884192228317, 0.0016925303498283029, 0.2915908992290497, 0.139108344912529, 0.1680532693862915], [0.5350507497787476, 0.03944344073534012, 0.033685702830553055, 0.0025131432339549065, 0.22107937932014465, 0.08818858861923218, 0.08003906160593033], [0.14106808602809906, 0.18554355204105377, 0.0766596570611, 0.0007594499038532376, 0.20980265736579895, 0.2725464105606079, 0.11362020671367645], [0.8607815504074097, 0.0290767103433609, 0.016291294246912003, 0.018963001668453217, 0.03162014111876488, 0.01550578884780407, 0.02776160091161728]], [[0.3103969097137451, 0.1468508243560791, 0.08168201893568039, 0.031314365565776825, 0.084737628698349, 0.1416887640953064, 0.20332951843738556], [0.682360053062439, 0.14791239798069, 0.02599984221160412, 0.012254903092980385, 0.019276350736618042, 0.016025999560952187, 0.09617055952548981], [0.6969309449195862, 0.06391029059886932, 0.029371270909905434, 0.023469625040888786, 0.023595158010721207, 0.012409861199557781, 0.15031279623508453], [0.8201791644096375, 0.03732391446828842, 0.011351956985890865, 0.011923769488930702, 0.005620327778160572, 0.005822361446917057, 0.10777853429317474], [0.2683725655078888, 0.029238052666187286, 0.1292867809534073, 0.015289974398911, 0.10811737179756165, 0.29367560148239136, 0.1560196429491043], [0.8781864047050476, 0.003663623007014394, 0.026548221707344055, 0.0027760835364460945, 0.045963577926158905, 0.025296488776803017, 0.0175656508654356], [0.21023514866828918, 0.12994886934757233, 0.04991674795746803, 0.4941284954547882, 0.033790867775678635, 0.050518330186605453, 0.03146158531308174]], [[0.6846341490745544, 0.05374348163604736, 0.04702654853463173, 0.048191070556640625, 0.05246284604072571, 0.0595434345304966, 0.05439842492341995], [0.09843060374259949, 0.012491824105381966, 0.10499350726604462, 0.24602141976356506, 0.16267044842243195, 0.18753603100776672, 0.18785615265369415], [0.05010509863495827, 0.007251214701682329, 0.011359711177647114, 0.07459252327680588, 0.44948136806488037, 0.22275221347808838, 0.1844578981399536], [0.021745257079601288, 0.0079955430701375, 0.023592792451381683, 0.019260568544268608, 0.16797880828380585, 0.4653569459915161, 0.2940700352191925], [0.7004765272140503, 0.005916736554354429, 0.0075942701660096645, 0.011025508865714073, 0.042634863406419754, 0.11129105091094971, 0.12106101214885712], [0.7505694627761841, 0.014713727869093418, 0.019179314374923706, 0.012419268488883972, 0.056364502757787704, 0.06086718291044235, 0.08588650822639465], [0.5712417364120483, 0.03881651535630226, 0.062347546219825745, 0.10107617825269699, 0.060495149344205856, 0.11775580048561096, 0.04826710373163223]], [[0.7245020866394043, 0.02024746499955654, 0.015133621171116829, 0.055556122213602066, 0.005163839086890221, 0.007489180192351341, 0.17190773785114288], [0.9092499017715454, 0.03731521964073181, 0.0008998432313092053, 0.004657201934605837, 0.0028386502526700497, 0.0034222505055367947, 0.041616812348365784], [0.9469164609909058, 0.00384551496244967, 0.00521814776584506, 0.0030158688314259052, 0.009461170993745327, 0.0025349885690957308, 0.02900785207748413], [0.9800717830657959, 0.0011567152105271816, 0.0010342206805944443, 0.0004778030270244926, 0.0009314424241892993, 0.0009083825279958546, 0.01541970856487751], [0.3100013732910156, 0.0037623627576977015, 0.002514844061806798, 0.004162713419646025, 0.6458115577697754, 0.0048509277403354645, 0.028896214440464973], [0.5737954378128052, 0.003777662292122841, 0.0038429086562246084, 0.003833469934761524, 0.007151671685278416, 0.3892173767089844, 0.018381468951702118], [0.8533321022987366, 0.02333655022084713, 0.03391002118587494, 0.036585334688425064, 0.0037441716995090246, 0.004620393738150597, 0.044471375644207]], [[0.7361360788345337, 0.03555281460285187, 0.0245811864733696, 0.040741924196481705, 0.041551124304533005, 0.04612293839454651, 0.07531396299600601], [0.15272164344787598, 0.005351325497031212, 0.7607570886611938, 0.00767490454018116, 0.03314099460840225, 0.036445409059524536, 0.003908657934516668], [0.6969485282897949, 0.002657124539837241, 0.0004889428964816034, 0.2872990071773529, 0.006337342318147421, 0.0017997591057792306, 0.004469296894967556], [0.07290446013212204, 0.0007728355121798813, 0.00034567018155939877, 0.007747845724225044, 0.7171916961669922, 0.1967475414276123, 0.004289982374757528], [0.696721613407135, 0.0011460172245278955, 0.000793898303527385, 0.00426778057590127, 0.05150753632187843, 0.22536398470401764, 0.020199066027998924], [0.49032604694366455, 0.003724091686308384, 0.00021859948174096644, 0.0065815201960504055, 0.0012970675015822053, 0.021611308678984642, 0.4762413799762726], [0.9197266697883606, 0.0018580821342766285, 0.0035603682044893503, 0.0014970359625294805, 0.009854741394519806, 0.008228854276239872, 0.055274203419685364]], [[0.7884784936904907, 0.015380505472421646, 0.008807881735265255, 0.031014559790492058, 0.015073985792696476, 0.02284235507249832, 0.11840217560529709], [0.3146240711212158, 0.028815895318984985, 0.2194984406232834, 0.1096595898270607, 0.08786457031965256, 0.13413245975971222, 0.10540500283241272], [0.5579685568809509, 0.13547153770923615, 0.013004286214709282, 0.09378109872341156, 0.06722286343574524, 0.057809017598629, 0.0747426450252533], [0.6486228108406067, 0.042467374354600906, 0.023455685004591942, 0.04812118411064148, 0.06727850437164307, 0.07762690633535385, 0.09242749214172363], [0.6688055396080017, 0.03616463020443916, 0.004328626208007336, 0.09827017784118652, 0.012824577279388905, 0.04382394999265671, 0.13578249514102936], [0.9061171412467957, 0.0009448532364331186, 0.0010064747184515, 0.009797219187021255, 0.025758972391486168, 0.01212067250162363, 0.04425457492470741], [0.47304433584213257, 0.03450002148747444, 0.05018695816397667, 0.08857163786888123, 0.032324858009815216, 0.10195096582174301, 0.21942122280597687]]], [[[0.985056459903717, 0.0014408431015908718, 0.0005895842332392931, 0.0007335307309404016, 0.0077371965162456036, 0.0015158295864239335, 0.0029265580233186483], [3.557777574769716e-07, 2.2426878842907172e-07, 0.9999994039535522, 4.9515758604457005e-08, 1.3156221667642853e-09, 6.532063334674376e-09, 2.2783968489648032e-08], [2.405507302682963e-06, 3.807878101724782e-08, 8.35926350362115e-09, 0.9999961853027344, 1.1838174174272353e-07, 1.6998777385701658e-10, 1.326461983808258e-06], [2.6119546419067774e-06, 7.819474490133871e-08, 3.5806837495044874e-09, 1.3940339158580173e-06, 0.9999884366989136, 1.5511994888584013e-06, 5.9301924011379015e-06], [2.0604934434231836e-06, 1.3693498779332458e-08, 1.4939693926407926e-07, 1.4832488126614862e-08, 2.0779825149475073e-07, 0.9999728202819824, 2.4820768885547295e-05], [1.3493678125087172e-05, 3.175726533299894e-06, 6.430426191528227e-10, 2.6438683562446386e-06, 2.170424284742012e-09, 5.5356767916237e-06, 0.9999752044677734], [0.8588605523109436, 0.004240427166223526, 0.01404494233429432, 0.0008773867739364505, 0.011061018332839012, 0.0001793586852727458, 0.11073634773492813]], [[0.6267945170402527, 0.01337734330445528, 0.04069448634982109, 0.05258685722947121, 0.021010490134358406, 0.02374251000583172, 0.22179371118545532], [0.33102747797966003, 0.03978442773222923, 0.37408530712127686, 0.040437959134578705, 0.0007134907064028084, 0.004840797279030085, 0.20911052823066711], [0.23004761338233948, 0.5601721405982971, 0.003471770090982318, 0.01673213765025139, 0.00990013126283884, 0.0022861177567392588, 0.17739006876945496], [0.1431587040424347, 0.05911621078848839, 0.32627055048942566, 0.04727872833609581, 0.018149087205529213, 0.2812194228172302, 0.12480726838111877], [0.4893248677253723, 0.019448643550276756, 0.013682284392416477, 0.14074364304542542, 0.004121908452361822, 0.03370155021548271, 0.29897716641426086], [0.42136305570602417, 0.01678074151277542, 0.035583335906267166, 0.15373998880386353, 0.025167476385831833, 0.0024508675560355186, 0.3449145555496216], [0.7339270710945129, 0.01063457503914833, 0.023198144510388374, 0.023637080565094948, 0.019010476768016815, 0.007760660722851753, 0.1818319857120514]], [[0.6067094206809998, 0.010309671983122826, 0.03504243120551109, 0.00308835506439209, 0.014675332233309746, 0.01899949461221695, 0.3111753463745117], [0.5107582211494446, 0.057569362223148346, 0.014316185377538204, 0.015777239575982094, 0.02984956093132496, 0.016308920457959175, 0.3554205298423767], [0.8099672198295593, 0.006154919508844614, 0.010096377693116665, 0.0028824673499912024, 0.01666170358657837, 0.004607487935572863, 0.14962981641292572], [0.6743955016136169, 0.0289012361317873, 0.02446039579808712, 0.013684798963367939, 0.02997729741036892, 0.012884190306067467, 0.2156965285539627], [0.11761099100112915, 0.10322082042694092, 0.15434856712818146, 0.02493286319077015, 0.1253308206796646, 0.2119256854057312, 0.2626302242279053], [0.5683960318565369, 0.052553415298461914, 0.03823420777916908, 0.058023422956466675, 0.07041610777378082, 0.015932919457554817, 0.1964438557624817], [0.4626033306121826, 0.0370001383125782, 0.053313981741666794, 0.10905493050813675, 0.02019055001437664, 0.038804225623607635, 0.2790328562259674]], [[0.7014880776405334, 0.037322863936424255, 0.028072599321603775, 0.011859370395541191, 0.03669781610369682, 0.0407625287771225, 0.14379669725894928], [0.3227785527706146, 0.0065739392302930355, 0.015484730713069439, 0.022158056497573853, 0.007534374482929707, 0.027076955884695053, 0.5983933806419373], [0.5577903389930725, 0.019117694348096848, 0.014524591155350208, 0.02962525561451912, 0.05604000389575958, 0.06401356309652328, 0.2588885426521301], [0.6280235052108765, 0.05811355262994766, 0.040835216641426086, 0.018966680392622948, 0.04130689799785614, 0.028614839538931847, 0.18413925170898438], [0.30515411496162415, 0.03163330629467964, 0.07259580492973328, 0.1796751320362091, 0.000555689272005111, 0.1586262285709381, 0.25175973773002625], [0.4141704738140106, 0.02940480224788189, 0.019004767760634422, 0.02182297594845295, 0.3893004059791565, 0.0006004328606650233, 0.1256961226463318], [0.9411020278930664, 0.002074174117296934, 0.004392566159367561, 0.003954550717025995, 0.004125147592276335, 0.00837322510778904, 0.0359782949090004]], [[0.9163492918014526, 0.01378915086388588, 0.014820116572082043, 0.01550160814076662, 0.013699344359338284, 0.02309795655310154, 0.0027424634899944067], [0.6261669993400574, 0.01829150691628456, 0.19404862821102142, 0.02441108413040638, 0.05621037259697914, 0.025602957233786583, 0.05526842176914215], [0.7586625814437866, 0.09973921626806259, 0.018061703070998192, 0.03512493520975113, 0.0636523887515068, 0.017114978283643723, 0.007644210942089558], [0.3594350814819336, 0.27218466997146606, 0.06177140027284622, 0.19125862419605255, 0.04685534909367561, 0.027718987315893173, 0.04077586904168129], [0.8251394629478455, 0.04520013555884361, 0.012595487758517265, 0.042425088584423065, 0.036003172397613525, 0.0258759967982769, 0.012760614976286888], [0.6601506471633911, 0.03763087838888168, 0.05009746178984642, 0.06315473467111588, 0.15614184737205505, 0.014535965397953987, 0.01828845404088497], [0.00544083584100008, 5.220114690018818e-05, 0.0003589258703868836, 0.0029874001629650593, 2.875075733754784e-05, 0.00025772149092517793, 0.9908740520477295]], [[0.5979452133178711, 0.029565881937742233, 0.07720346748828888, 0.091805100440979, 0.05841924995183945, 0.0684506967663765, 0.07661044597625732], [0.4043574631214142, 0.18543663620948792, 0.08186045289039612, 0.08900368958711624, 0.021194741129875183, 0.008247620426118374, 0.2098993957042694], [0.5384457111358643, 0.053210437297821045, 0.04217991977930069, 0.11936280131340027, 0.013117671944200993, 0.007147455122321844, 0.22653602063655853], [0.2173214852809906, 0.09892340004444122, 0.027587562799453735, 0.09962940216064453, 0.03618977218866348, 0.028003228828310966, 0.4923451542854309], [0.6229141354560852, 0.017946060746908188, 0.023338772356510162, 0.07906484603881836, 0.01943514496088028, 0.009945533238351345, 0.22735540568828583], [0.8380599617958069, 0.016035854816436768, 0.005372137296944857, 0.07611576467752457, 0.0015532064717262983, 0.004522977862507105, 0.05834004282951355], [0.7111034989356995, 0.008712098933756351, 0.01619146764278412, 0.023530350998044014, 0.0129911620169878, 0.01580200530588627, 0.21166937053203583]], [[0.18513154983520508, 0.053560949862003326, 0.09094435721635818, 0.16833294928073883, 0.0424967035651207, 0.06660781800746918, 0.3929256498813629], [0.06245934218168259, 0.7683767080307007, 0.00039309693966060877, 0.0013040340272709727, 0.0006523450720123947, 0.00011860118684126064, 0.16669578850269318], [0.17250727117061615, 0.0008054510690271854, 0.4656783640384674, 0.004818743094801903, 0.00042746233521029353, 0.0009261962259188294, 0.35483646392822266], [0.021801693364977837, 0.00034526945091784, 0.001108047435991466, 0.9180059432983398, 7.358573202509433e-05, 0.00233001122251153, 0.0563354566693306], [0.01894494704902172, 0.00022453216661233455, 0.00014028584701009095, 0.0005415233317762613, 0.9598988890647888, 6.424009916372597e-05, 0.02018556371331215], [0.029268978163599968, 2.0516798031167127e-05, 0.0001891894789878279, 0.005839451681822538, 5.927075835643336e-05, 0.9409068822860718, 0.02371574193239212], [0.19360429048538208, 0.08274529874324799, 0.14880259335041046, 0.1266433745622635, 0.04935918748378754, 0.06493298709392548, 0.3339122533798218]], [[0.7948936223983765, 0.03012421354651451, 0.038732144981622696, 0.014436823315918446, 0.03249528631567955, 0.029103143140673637, 0.060214705765247345], [0.3475186228752136, 0.2033781260251999, 0.06486359983682632, 0.09834843128919601, 0.026705684140324593, 0.03552834689617157, 0.22365719079971313], [0.5611793994903564, 0.16241711378097534, 0.0373896025121212, 0.03830964118242264, 0.05155469849705696, 0.024346426129341125, 0.12480306625366211], [0.2513645589351654, 0.3489347994327545, 0.19954931735992432, 0.04545710235834122, 0.03393341600894928, 0.031685613095760345, 0.08907516300678253], [0.5284667611122131, 0.11261065304279327, 0.10845369100570679, 0.030991697683930397, 0.0007356501300819218, 0.09901256114244461, 0.11972899734973907], [0.2309345155954361, 0.21778443455696106, 0.1288899928331375, 0.061257265508174896, 0.2357511818408966, 0.012384780682623386, 0.1129978597164154], [0.9358673691749573, 0.009671767242252827, 0.007841868326067924, 0.004800467751920223, 0.019100379198789597, 0.0075930021703243256, 0.015125170350074768]], [[0.9734523892402649, 0.012073635123670101, 0.003763930406421423, 0.0031613633036613464, 0.0027650503907352686, 0.0032508561853319407, 0.0015328136505559087], [0.1688120812177658, 0.6997395157814026, 0.04197990521788597, 0.004630006849765778, 0.017104441300034523, 0.03142496570944786, 0.036309171468019485], [0.7010592818260193, 0.2074863463640213, 0.013012755662202835, 0.006361979525536299, 0.019177019596099854, 0.033517222851514816, 0.01938537135720253], [0.41203010082244873, 0.00864544790238142, 0.013386206701397896, 0.3381035625934601, 0.025659937411546707, 0.16037492454051971, 0.04179979860782623], [0.6998004913330078, 0.10275983810424805, 0.06948436051607132, 0.012668384239077568, 0.017855163663625717, 0.08026805520057678, 0.017163759097456932], [0.7289060354232788, 0.0961805135011673, 0.006980294361710548, 0.13080281019210815, 0.023748962208628654, 0.005950576160103083, 0.007430686615407467], [0.00511113042011857, 0.0002931045601144433, 0.001059343689121306, 0.004367070272564888, 0.0002183400938520208, 5.068439349997789e-05, 0.9889003038406372]], [[0.7600611448287964, 0.002020136220380664, 0.0005084695876576006, 0.0007629190804436803, 0.00029887526761740446, 1.6623400370008312e-05, 0.23633185029029846], [4.5425278472066566e-07, 9.848544095802936e-07, 0.9999984502792358, 5.545208292545567e-09, 9.891488739199872e-10, 1.2685839045900593e-09, 1.007597703051033e-07], [7.007964086369611e-06, 6.948548048058001e-08, 1.6034046268487145e-07, 0.9999724626541138, 5.568776018094468e-08, 5.29013985395288e-12, 2.025059802690521e-05], [3.2406799164164113e-06, 4.9849028016524244e-08, 4.938102149409929e-10, 1.5665203534354077e-07, 0.9999935626983643, 4.914679152534518e-07, 2.502288907635375e-06], [4.3541407990232983e-07, 1.1193634907868955e-09, 2.9587434724476225e-08, 2.3798387704943025e-09, 2.7224904997069643e-08, 0.9999966621398926, 2.847217274393188e-06], [0.0008659124723635614, 3.574165020836517e-05, 2.030636769845273e-09, 8.5643705460825e-06, 1.9271282347688157e-09, 9.482252607995179e-06, 0.9990801811218262], [0.960979163646698, 0.001015886664390564, 0.008174123242497444, 0.0002007078001042828, 0.007948674261569977, 0.00015130698739085346, 0.021530089899897575]], [[0.6987394094467163, 0.029227575287222862, 0.023391330614686012, 0.015617134980857372, 0.07946799695491791, 0.056135211139917374, 0.09742125123739243], [0.03144076466560364, 0.9256547093391418, 0.016154900193214417, 0.006471296772360802, 0.009100313298404217, 0.0029382084030658007, 0.008239776827394962], [0.5520363450050354, 0.2883472740650177, 0.041133467108011246, 0.019749116152524948, 0.05141652002930641, 0.011838527396321297, 0.03547871485352516], [0.6868693232536316, 0.0756298378109932, 0.06846041232347488, 0.009949175640940666, 0.11997368931770325, 0.018906719982624054, 0.020210862159729004], [0.08013693243265152, 0.20979918539524078, 0.14823830127716064, 0.03641379252076149, 0.5002643465995789, 0.005598635878413916, 0.019548781216144562], [0.38505423069000244, 0.07807385921478271, 0.08724595606327057, 0.10728289932012558, 0.025732580572366714, 0.2407485395669937, 0.07586193829774857], [0.9764831066131592, 0.0013496821047738194, 0.002709572669118643, 0.0023492183536291122, 0.0008607243653386831, 0.004299568943679333, 0.011948106810450554]], [[0.7906399369239807, 0.008768774569034576, 0.015582659281790257, 0.024800332263112068, 0.004581201821565628, 0.008929600939154625, 0.1466975063085556], [0.16889996826648712, 0.08819611370563507, 0.31516313552856445, 0.20652854442596436, 0.053754355758428574, 0.049671512097120285, 0.11778626590967178], [0.16280533373355865, 0.08530983328819275, 0.02995029091835022, 0.2315554916858673, 0.08885926753282547, 0.29205408692359924, 0.10946562886238098], [0.08361721783876419, 0.04655612260103226, 0.015698732808232307, 0.025179490447044373, 0.050768278539180756, 0.4824173152446747, 0.29576292634010315], [0.4434986710548401, 0.01367797888815403, 0.05205053091049194, 0.036590419709682465, 0.014668618328869343, 0.15329381823539734, 0.2862200140953064], [0.7782698273658752, 0.004292966797947884, 0.017664778977632523, 0.027903733775019646, 0.0046833595260977745, 0.03917250409722328, 0.12801286578178406], [0.8925352692604065, 0.002653899136930704, 0.0057600801810622215, 0.018622074276208878, 0.0012788616586476564, 0.0034865224733948708, 0.07566320896148682]]], [[[0.050089284777641296, 0.0030106105841696262, 0.026333145797252655, 0.0016870402032509446, 0.08465155959129333, 0.17734363675117493, 0.6568846702575684], [0.00267928559333086, 0.0005459404201246798, 0.00676741823554039, 0.0008206231868825853, 0.025507500395178795, 0.011107395403087139, 0.9525717496871948], [0.023832062259316444, 0.027996333315968513, 0.04591021314263344, 0.10517080128192902, 0.1291804313659668, 0.3488638997077942, 0.3190462589263916], [0.007475229445844889, 0.0014911015750840306, 0.08048085123300552, 0.004552613012492657, 0.007235056255012751, 0.32978540658950806, 0.568979799747467], [0.009156246669590473, 0.0011992545332759619, 0.004580219276249409, 0.0006036873091943562, 0.0030921348370611668, 0.0010043848305940628, 0.9803640842437744], [0.0030160120222717524, 0.0016427497612312436, 0.0019193212501704693, 0.00021151386317797005, 0.00021799735259264708, 0.039394479244947433, 0.953597903251648], [0.00030131920357234776, 1.765682782206568e-07, 7.586348260701925e-08, 6.527325808747264e-07, 1.5364450973720523e-06, 8.388944934267784e-07, 0.9996954202651978]], [[0.05069448798894882, 0.16863621771335602, 0.1347249299287796, 0.04763063043355942, 0.14184653759002686, 0.42733603715896606, 0.029131170362234116], [0.03509017452597618, 0.17849253118038177, 0.18315903842449188, 0.2007351964712143, 0.03223800286650658, 0.2575076222419739, 0.1127774640917778], [0.24049527943134308, 0.16794905066490173, 0.049736157059669495, 0.21294403076171875, 0.10372896492481232, 0.09991833567619324, 0.1252281665802002], [0.029168397188186646, 0.18428568542003632, 0.17493019998073578, 0.28474730253219604, 0.06993390619754791, 0.22299599647521973, 0.03393852338194847], [0.06641583144664764, 0.0967196375131607, 0.19374492764472961, 0.3070578873157501, 0.06330253928899765, 0.013824617490172386, 0.25893452763557434], [0.5157846808433533, 0.045291073620319366, 0.057956989854574203, 0.13863754272460938, 0.03434258699417114, 0.07117118686437607, 0.13681593537330627], [0.00582166900858283, 0.00817391648888588, 0.02970028668642044, 0.004168334882706404, 0.007958449423313141, 0.0003493608965072781, 0.9438279867172241]], [[0.5583842992782593, 0.06995390355587006, 0.03687828406691551, 0.025291290134191513, 0.006760577671229839, 0.014935729093849659, 0.2877959609031677], [0.11456750333309174, 0.03877658024430275, 0.06899812817573547, 0.001958089880645275, 0.004318675957620144, 0.004914180375635624, 0.7664667963981628], [0.04572436586022377, 0.03054158203303814, 0.31606972217559814, 0.00887355487793684, 0.031132090836763382, 0.03083418868482113, 0.5368245244026184], [0.0733942985534668, 0.0346195288002491, 0.07147195935249329, 0.07474859058856964, 0.020049836486577988, 0.03887491300702095, 0.6868408918380737], [0.08343511819839478, 0.0224626362323761, 0.054353389889001846, 0.010058960877358913, 0.008334249258041382, 0.03748554736375809, 0.7838701605796814], [0.07988100498914719, 0.019357042387127876, 0.04088495299220085, 0.055189572274684906, 0.02764636091887951, 0.004231491591781378, 0.7728095650672913], [0.0003876705886796117, 3.7426045764732407e-06, 2.064067530227476e-06, 1.2451464499463327e-06, 7.566847216367023e-06, 1.346402427770954e-06, 0.9995964169502258]], [[0.005478495731949806, 0.0006743519334122539, 0.0019002747721970081, 0.0016975942999124527, 0.019271988421678543, 0.005151758901774883, 0.9658253788948059], [0.009912867099046707, 0.6749346256256104, 1.2173368304502219e-05, 3.364689837326296e-05, 0.00010446425585541874, 2.715075197556871e-06, 0.3149994909763336], [0.02622864954173565, 1.9061766579397954e-05, 0.5072479844093323, 9.565175423631445e-05, 9.38051744014956e-05, 4.666787572205067e-05, 0.4662681818008423], [0.017944809049367905, 1.1905984138138592e-05, 1.2598044122569263e-05, 0.6739220023155212, 4.638592145056464e-05, 3.806519089266658e-05, 0.30802419781684875], [0.02735850028693676, 3.984069189755246e-05, 3.6217511478753295e-06, 7.997486136446241e-06, 0.025263125076889992, 6.438678246922791e-05, 0.9472624659538269], [0.03992895781993866, 1.6599273067186004e-06, 4.935059678246034e-06, 2.022724220296368e-05, 8.119914855342358e-05, 0.04120111092925072, 0.9187619686126709], [3.921242750948295e-05, 2.1400971661478252e-07, 2.748266751950723e-07, 3.4501869095038273e-07, 6.092881221775315e-08, 9.69371694026222e-09, 0.9999599456787109]], [[0.04555855318903923, 0.08348722010850906, 0.11451748013496399, 0.009871364571154118, 0.20443017780780792, 0.2548188865184784, 0.28731632232666016], [0.02306748926639557, 0.07813291996717453, 0.5280327200889587, 0.013706037774682045, 0.021460415795445442, 0.051935043185949326, 0.28366538882255554], [0.011554190889000893, 0.16806970536708832, 0.33552423119544983, 0.027017654851078987, 0.1794881522655487, 0.07496267557144165, 0.20338335633277893], [0.05224965885281563, 0.08727401494979858, 0.24877242743968964, 0.05561913922429085, 0.1413755565881729, 0.061014074832201004, 0.35369518399238586], [0.007322514429688454, 0.029746176674962044, 0.08867865800857544, 0.026270190253853798, 0.024212315678596497, 0.017974261194467545, 0.8057959079742432], [0.03807580843567848, 0.009535493329167366, 0.04187881574034691, 0.027198296040296555, 0.06139382719993591, 0.05019066482782364, 0.7717270255088806], [0.001624344615265727, 0.00013706328172702342, 8.729039836907759e-05, 2.3352358766715042e-05, 0.0002165460173273459, 0.0003779000253416598, 0.9975334405899048]], [[0.00023922875698190182, 0.00030722562223672867, 0.0003608538245316595, 0.0005672922707162797, 0.00028810108778998256, 0.0003715698840096593, 0.9978657364845276], [0.03113269805908203, 0.006447639316320419, 0.09924555569887161, 0.06662686914205551, 0.1522403210401535, 0.03288079425692558, 0.6114261746406555], [0.07980263233184814, 0.004959160462021828, 0.014427682384848595, 0.03473928943276405, 0.2468917816877365, 0.4896913170814514, 0.12948817014694214], [0.003974949009716511, 0.004756461828947067, 0.0012125390348955989, 0.0004482090880628675, 0.007734213024377823, 0.9713981747627258, 0.010475418530404568], [0.0075206938199698925, 0.006453795824199915, 0.02855329029262066, 0.004109150264412165, 0.012706448324024677, 0.053142793476581573, 0.8875138759613037], [0.0026187454350292683, 7.995055057108402e-05, 0.0026765759103000164, 0.00265726656652987, 0.0011318278266116977, 0.0004631841438822448, 0.9903724193572998], [2.3782149582984857e-05, 2.6265384803991765e-05, 3.733811536221765e-05, 6.525397475343198e-05, 6.0640028095804155e-05, 3.413845843169838e-05, 0.9997527003288269]], [[0.004081498831510544, 0.001369661302305758, 0.0017524684080854058, 0.0005742397042922676, 0.00840021576732397, 0.0032569405157119036, 0.9805650115013123], [0.024017121642827988, 0.01058447640389204, 0.0005629843799397349, 0.000855602731462568, 0.006004138849675655, 0.0035746069625020027, 0.9544010758399963], [0.08167081326246262, 0.14579936861991882, 0.014076320454478264, 0.026690881699323654, 0.053234267979860306, 0.010362881235778332, 0.6681654453277588], [0.058863233774900436, 0.012263448908925056, 0.17848356068134308, 0.1230606958270073, 0.0388084277510643, 0.009659886360168457, 0.5788607597351074], [0.007980776950716972, 0.006451606750488281, 0.0010698414407670498, 0.0014414809411391616, 0.0030317276250571012, 0.019269051030278206, 0.9607555270195007], [0.047270819544792175, 0.02630155347287655, 0.1338573843240738, 0.0988379418849945, 0.05232663452625275, 0.02303779311478138, 0.6183679103851318], [0.00013799523003399372, 6.684287654934451e-05, 3.459677827777341e-06, 2.293690158694517e-06, 5.797416088171303e-05, 2.9867369448766112e-05, 0.9997015595436096]], [[0.004333897493779659, 0.0009622303186915815, 0.0005661449977196753, 0.0012322462862357497, 0.0017826721305027604, 0.00093689258210361, 0.9901859760284424], [0.010375536046922207, 0.006400649901479483, 0.0052492329850792885, 0.002438850235193968, 0.0012319110101088881, 0.008594651706516743, 0.9657092094421387], [0.005237391218543053, 0.1956070214509964, 0.011839321814477444, 0.0018570864340290427, 0.002532507525756955, 0.003752657677978277, 0.7791740298271179], [0.010180767625570297, 0.005477883853018284, 0.603327751159668, 0.003332708729431033, 0.0363071970641613, 0.0024691817816346884, 0.3389045298099518], [0.001924146548844874, 0.00025073651340790093, 0.015291672199964523, 0.19895640015602112, 0.02677023597061634, 0.0005368580459617078, 0.7562700510025024], [0.0015165992081165314, 0.0005705532967112958, 0.00212028413079679, 0.032921794801950455, 0.27847668528556824, 0.00025148963322862983, 0.684142529964447], [0.00015663309022784233, 9.912670793710276e-05, 0.00011203726899111643, 0.0008820864604786038, 0.0001146637587225996, 4.32019260188099e-05, 0.99859219789505]], [[0.022442664951086044, 0.005046024918556213, 0.005273850169032812, 0.0017619673162698746, 0.0013085334794595838, 0.0014963786816224456, 0.962670624256134], [0.07352255284786224, 0.0039742435328662395, 0.02416258491575718, 0.025827115401625633, 0.02132314257323742, 0.030190955847501755, 0.8209993839263916], [0.050693780183792114, 0.022918352857232094, 0.019768521189689636, 0.04179445281624794, 0.1458924561738968, 0.10024382919073105, 0.6186886429786682], [0.05902424827218056, 0.019107704982161522, 0.03687053173780441, 0.2552109956741333, 0.0597405768930912, 0.1211247518658638, 0.4489212930202484], [0.03931557759642601, 0.0010547003475949168, 0.00203725416213274, 0.00447311345487833, 0.0016143363900482655, 0.010356093756854534, 0.9411489367485046], [0.009471031837165356, 0.001990561606362462, 0.0012378889368847013, 0.0013605491258203983, 0.0011171610094606876, 0.0006019253050908446, 0.9842208623886108], [0.002510424703359604, 0.0016165018314495683, 0.000303098582662642, 0.0009783871937543154, 0.00036171788815408945, 0.00030492281075567007, 0.9939249157905579]], [[0.021543972194194794, 0.006730372551828623, 0.008637446910142899, 0.009865115396678448, 0.03877226263284683, 0.020432107150554657, 0.894018828868866], [0.1525585800409317, 0.0017308155074715614, 0.022839533165097237, 0.1458483338356018, 0.00968187116086483, 0.016433143988251686, 0.6509077548980713], [0.07885497063398361, 0.00861486978828907, 0.034005630761384964, 0.015648795291781425, 0.05803840234875679, 0.029401807114481926, 0.7754355072975159], [0.04996257275342941, 0.05435610190033913, 0.04092084616422653, 0.39810651540756226, 0.2503047287464142, 0.03329230099916458, 0.1730569452047348], [0.07688769698143005, 0.015891224145889282, 0.02197732962667942, 0.04627958685159683, 0.00025040472974069417, 0.12281962484121323, 0.7158941030502319], [0.045126065611839294, 0.006716564763337374, 0.026668347418308258, 0.009631271474063396, 0.19558949768543243, 4.394660209072754e-05, 0.7162242531776428], [0.010475576855242252, 0.0010062732035294175, 0.0014394395984709263, 0.005009960848838091, 0.0034172995947301388, 0.004837943706661463, 0.9738134145736694]], [[0.007882583886384964, 0.0043406980112195015, 0.0021599442698061466, 0.0009841490536928177, 0.001620404771529138, 0.001075222622603178, 0.9819371104240417], [0.08444961905479431, 0.025747060775756836, 0.017349140718579292, 0.020393207669258118, 0.02000914141535759, 0.006544934585690498, 0.8255068063735962], [0.06421460211277008, 0.5512089729309082, 0.030895747244358063, 0.009555023163557053, 0.03657866641879082, 0.033316560089588165, 0.274230420589447], [0.06415563821792603, 0.16455163061618805, 0.3252579867839813, 0.061762526631355286, 0.10572387278079987, 0.034854792058467865, 0.24369347095489502], [0.01379756722599268, 0.0208902545273304, 0.13880372047424316, 0.02653084322810173, 0.024868587031960487, 0.004934265743941069, 0.7701747417449951], [0.013200780376791954, 0.006600634194910526, 0.10100674629211426, 0.02473859116435051, 0.2722649872303009, 0.009006698615849018, 0.5731816291809082], [0.0006362482672557235, 6.645291432505473e-05, 4.670831185649149e-05, 0.000124271449749358, 0.00020823800878133625, 8.69928189786151e-05, 0.9988312125205994]], [[0.011970254592597485, 0.008687625639140606, 0.0005284982617013156, 4.9486458010505885e-05, 0.0002632971154525876, 0.0001366826327284798, 0.9783641695976257], [0.02396388351917267, 0.004388854373246431, 0.29474231600761414, 0.004704686813056469, 0.002130888169631362, 0.002298366278409958, 0.66777104139328], [0.11555702984333038, 0.007937701418995857, 0.009554717689752579, 0.3048385679721832, 0.18473313748836517, 0.006427170243114233, 0.3709516227245331], [0.010677716694772243, 0.0026684501208364964, 0.0017233509570360184, 0.00500058988109231, 0.8724848628044128, 0.06844476610422134, 0.0390002466738224], [0.027664195746183395, 0.0011724107898771763, 0.0006432501832023263, 0.002792105544358492, 0.060213666409254074, 0.11210349202156067, 0.7954109311103821], [0.005127182696014643, 0.008323516696691513, 0.00037502311170101166, 0.0003261886886321008, 0.0001682301954133436, 0.00023608926858287305, 0.9854438900947571], [0.001411482342518866, 0.0009365020669065416, 0.0003413960221223533, 0.00012833914661314338, 0.00010916386963799596, 0.00011706482473528013, 0.9969559907913208]]], [[[0.00021056192053947598, 0.001298891264013946, 0.0037829449865967035, 0.0008018299122340977, 0.0015547636430710554, 0.002497923793271184, 0.9898530840873718], [0.006885988172143698, 0.011207086965441704, 0.008642933331429958, 0.0018006988102570176, 0.005126051139086485, 0.007527097128331661, 0.9588101506233215], [0.005406178999692202, 0.014091823250055313, 0.006841517053544521, 0.004990465473383665, 0.009165213443338871, 0.002481468953192234, 0.9570233225822449], [0.011988341808319092, 0.04406719654798508, 0.11073318123817444, 0.07922571152448654, 0.046241674572229385, 0.024885596707463264, 0.6828582882881165], [0.002636935794726014, 0.00309246894903481, 0.01173054426908493, 0.002613753778859973, 0.001245668507181108, 0.0016617412911728024, 0.9770187735557556], [0.0023831927683204412, 0.0056458283215761185, 0.028296811506152153, 0.01836324669420719, 0.006772975437343121, 0.0037942074704915285, 0.9347437024116516], [0.00040544720832258463, 0.0005953566869720817, 0.0022219428792595863, 0.001863681012764573, 0.0007571027963422239, 0.0010356261627748609, 0.9931208491325378]], [[0.0015928164357319474, 0.0019580929074436426, 0.0030985858757048845, 0.002747792052105069, 0.005892145913094282, 0.004394811112433672, 0.9803157448768616], [0.005414713639765978, 0.0048766969703137875, 0.22733592987060547, 0.03295258432626724, 0.08330646902322769, 0.03756161779165268, 0.6085520386695862], [0.007300915662199259, 0.0007000642362982035, 0.013599256053566933, 0.049792055040597916, 0.034689247608184814, 0.21481283009052277, 0.6791056394577026], [0.004568600561469793, 0.0051712156273424625, 0.030457628890872, 0.09387795627117157, 0.0393424928188324, 0.1900871843099594, 0.6364948749542236], [0.0015400038100779057, 0.0004383773193694651, 0.0010120084043592215, 0.0002997583942487836, 0.0007655807421542704, 0.0007527381530962884, 0.9951915740966797], [0.002278820378705859, 0.0016245112055912614, 0.004135185852646828, 0.0005237685982137918, 0.0027249623090028763, 0.0007250672788359225, 0.987987756729126], [0.0008597197593189776, 0.00018517926218919456, 0.00041338158189319074, 0.0003779937978833914, 0.0006432942464016378, 0.0006991628906689584, 0.9968212842941284]], [[0.00016468441754113883, 0.031036606058478355, 0.005972853861749172, 0.0004657613462768495, 0.0008625979535281658, 0.0005579751450568438, 0.9609394073486328], [0.0016058115288615227, 0.0029413821175694466, 0.6456179022789001, 0.009402073919773102, 0.02016240358352661, 0.007132537662982941, 0.31313785910606384], [0.011007201857864857, 0.00847634021192789, 0.021846970543265343, 0.15482470393180847, 0.03369251638650894, 0.02497740276157856, 0.7451749444007874], [0.0037578861229121685, 0.014310800470411777, 0.01905406452715397, 0.01050627138465643, 0.1947583705186844, 0.04608709737658501, 0.7115254402160645], [0.0016195264179259539, 0.0023740767501294613, 0.001267758896574378, 0.008687682449817657, 0.003266984596848488, 0.11036840081214905, 0.8724155426025391], [0.000897617603186518, 0.009271221235394478, 0.0053699989803135395, 0.049533020704984665, 0.0025998433120548725, 0.004230407997965813, 0.9280979037284851], [0.0026627674233168364, 0.0005118474364280701, 0.0019977479241788387, 0.0005383995594456792, 0.000453822169220075, 0.0006890120566822588, 0.9931463599205017]], [[0.0003385998716112226, 0.00016523410158697516, 9.671498264651746e-05, 6.478161958511919e-05, 0.0014190494548529387, 0.0002496509987395257, 0.9976660013198853], [0.00201142649166286, 0.0013880397891625762, 0.0008894805214367807, 0.001594768138602376, 0.0026688093785196543, 0.0006849263445474207, 0.9907625317573547], [0.0008152814698405564, 0.0026592519134283066, 0.002584509551525116, 0.002391490153968334, 0.007853114046156406, 0.000363971950719133, 0.9833323955535889], [0.0011316236341372132, 0.002007885603234172, 0.004120106343179941, 0.002744955476373434, 0.008557227440178394, 0.004967624321579933, 0.9764705896377563], [0.002155349124222994, 5.859697557752952e-05, 0.00017109945474658161, 0.00024356500944122672, 0.000303959590382874, 0.0005900468677282333, 0.9964774250984192], [0.0022318223491311073, 0.0008903032285161316, 0.006206119898706675, 0.002791670151054859, 0.01660093292593956, 0.0017706655198708177, 0.9695084691047668], [0.002814964158460498, 0.0004639493708964437, 7.829575042705983e-05, 0.00024113798281177878, 0.00029977611848153174, 0.0010374569101259112, 0.9950644373893738]], [[0.0001013812143355608, 3.951682629121933e-06, 2.078132274618838e-05, 7.626630394952372e-05, 1.8580192772787996e-05, 5.171230441192165e-05, 0.9997273087501526], [0.11470001935958862, 0.0003332569031044841, 0.0011170924408361316, 0.000289720919681713, 0.000888326670974493, 0.010993614792823792, 0.8716781139373779], [0.0005561484140343964, 0.871965229511261, 0.03738171607255936, 0.0003967668453697115, 0.005633944645524025, 0.00030503043672069907, 0.08376118540763855], [0.0015781434485688806, 0.000893839169293642, 0.9010305404663086, 0.007509317714720964, 0.0011481227120384574, 0.005348034203052521, 0.08249195665121078], [0.004388722591102123, 0.00034152541775256395, 0.0014604381285607815, 0.0770145058631897, 0.0039459653198719025, 4.4454169255914167e-05, 0.9128044247627258], [0.00045827878057025373, 2.8000034944852814e-05, 0.009026712737977505, 0.02800380438566208, 0.9073025584220886, 6.349305476760492e-05, 0.05511726066470146], [0.0002090398338623345, 1.8429860574542545e-05, 3.9974405808607116e-05, 0.00023440999211743474, 0.00020737569138873369, 5.475935176946223e-05, 0.999235987663269]], [[0.00011433162580942735, 5.7026827562367544e-05, 0.0016983171226456761, 9.659242641646415e-05, 0.008571508340537548, 0.003660571528598666, 0.9858015179634094], [0.0018398393876850605, 0.0011347502004355192, 0.07902510464191437, 0.004549826495349407, 0.08397452533245087, 0.05682233348488808, 0.7726536393165588], [0.0002777086046990007, 0.00018290102889295667, 0.005127133801579475, 0.0020053056068718433, 0.02201574295759201, 0.00811892468482256, 0.9622723460197449], [0.004244446288794279, 0.0025432417169213295, 0.01864483579993248, 0.006978495512157679, 0.04138459265232086, 0.07882312685251236, 0.8473812341690063], [0.000414670241298154, 0.00011131605424452573, 0.0006720785167999566, 0.00023277160653378814, 0.00021025912428740412, 0.0010875094449147582, 0.9972713589668274], [0.002214999869465828, 0.00037463594344444573, 0.0012347805313766003, 0.002041266765445471, 0.00445904303342104, 0.0004711697984021157, 0.9892041087150574], [3.654130296126823e-06, 2.2558733689947985e-06, 1.2826317288272548e-05, 2.588071765785571e-06, 0.00011307668319204822, 9.362548007629812e-05, 0.9997720122337341]], [[0.01079516764730215, 0.0003659657668322325, 0.006227799225598574, 0.00028735268278978765, 0.004065086133778095, 0.004091495182365179, 0.9741671681404114], [0.004254186060279608, 0.0010567271383479238, 0.13088588416576385, 0.0188341923058033, 0.012581486254930496, 0.013304827734827995, 0.8190826773643494], [0.0008229000959545374, 0.0002435734058963135, 0.007339776959270239, 0.00893720705062151, 0.00033568221260793507, 0.0026561017148196697, 0.97966468334198], [0.001694443286396563, 0.00038974740891717374, 0.005554414354264736, 0.004398598335683346, 0.006870772689580917, 0.0185410063713789, 0.9625508785247803], [0.02374984696507454, 0.00026700965827330947, 0.0014759749174118042, 0.0003681738453451544, 0.0021935650147497654, 0.004721485078334808, 0.9672238826751709], [0.0034659807570278645, 0.0005745126982219517, 0.0006030555232428014, 0.0007913378649391234, 0.0009935511043295264, 0.0008131593349389732, 0.9927583932876587], [0.001370057463645935, 0.0004616737423930317, 0.0003333377535454929, 0.0004085908003617078, 0.0022467609960585833, 0.004835672676563263, 0.9903438091278076]], [[0.001304701087065041, 0.0007355490233749151, 0.0007058186456561089, 0.00048109915223903954, 0.0003062723553739488, 0.003002541372552514, 0.993463933467865], [0.015845702961087227, 0.0001668665645411238, 0.005051771644502878, 0.0034675218630582094, 0.0006060553132556379, 0.00010726832260843366, 0.9747547507286072], [0.00014201867452356964, 0.0010352490935474634, 0.002111043082550168, 0.0013059203047305346, 0.0005332833388820291, 0.00026084689307026565, 0.9946115016937256], [0.002391687361523509, 0.0017616160912439227, 0.026863692328333855, 0.0032126065343618393, 0.0022170240990817547, 0.006718161515891552, 0.956835150718689], [0.009450025856494904, 0.0007576151983812451, 0.003569401800632477, 0.0014529988402500749, 0.00030295446049422026, 0.00010147121793124825, 0.9843655824661255], [0.006090831942856312, 0.003235487500205636, 0.06806965172290802, 0.016618167981505394, 0.04780030623078346, 0.004653590731322765, 0.8535320162773132], [0.0014075679937377572, 0.0028249952010810375, 0.002338654361665249, 0.0019804630428552628, 0.0018233958398923278, 0.002160628791898489, 0.9874643087387085]], [[0.001878845738247037, 0.0023047677241265774, 0.0014568414771929383, 0.0007192083867266774, 0.005192837677896023, 0.0016174906631931663, 0.9868300557136536], [0.014269622042775154, 0.015970569103956223, 0.04972502589225769, 0.002527136355638504, 0.005387305282056332, 0.025213193148374557, 0.8869070410728455], [0.007154006510972977, 0.0069857388734817505, 0.011584490537643433, 0.0016852328553795815, 0.0062523894011974335, 0.006387318018823862, 0.9599508047103882], [0.01840989664196968, 0.0011880871606990695, 0.004243780393153429, 0.014080367051064968, 0.0027215187437832355, 0.010692759416997433, 0.948663592338562], [0.004864267073571682, 0.002225203439593315, 0.0013244976289570332, 0.008654957637190819, 0.0049843876622617245, 0.005543122533708811, 0.9724035859107971], [0.008053775876760483, 0.0007306179613806307, 0.0005340647767297924, 0.0031154321040958166, 0.0018036438850685954, 0.00344581576064229, 0.9823165535926819], [0.0014896360225975513, 0.0004994496703147888, 0.0005343985976651311, 0.0015323719708248973, 0.0019340335857123137, 0.001878846320323646, 0.9921312928199768]], [[0.00018437797552905977, 0.0004844370123464614, 0.0024116572458297014, 0.001752435346134007, 0.002368333050981164, 0.0012018666602671146, 0.9915968775749207], [0.00770517298951745, 0.0020718486048281193, 0.0039046930614858866, 0.0010942543158307672, 0.0023087088484317064, 0.0077780988067388535, 0.9751372933387756], [0.0061212824657559395, 0.03133763000369072, 0.013017999939620495, 0.000963150174356997, 0.004801518749445677, 0.00518550630658865, 0.938572883605957], [0.009000467136502266, 0.011381039395928383, 0.36685582995414734, 0.03629768267273903, 0.01625773310661316, 0.026639239862561226, 0.5335680842399597], [0.0015017736004665494, 0.004730394575744867, 0.010496379807591438, 0.007798941805958748, 0.0021620579063892365, 0.0038084588013589382, 0.9695019721984863], [0.001301325624808669, 0.004416888579726219, 0.22871063649654388, 0.07455392926931381, 0.014731515198946, 0.003093036590144038, 0.6731926798820496], [0.0010709468042477965, 0.0009417238179594278, 0.0010028432589024305, 0.0018487191991880536, 0.001795027288608253, 0.001762976055033505, 0.9915777444839478]], [[3.997235398855992e-05, 7.976121560204774e-05, 0.0006691091111861169, 0.00012267239799257368, 0.0016868333332240582, 0.004667195491492748, 0.992734432220459], [0.004530610516667366, 0.001807896769605577, 0.07135268300771713, 0.02537006326019764, 0.051807865500450134, 0.14118054509162903, 0.7039504051208496], [0.00665776152163744, 0.005628254730254412, 0.010236997157335281, 0.0516478531062603, 0.05953957512974739, 0.4209483563899994, 0.4453411400318146], [0.004416151437908411, 0.0029439758509397507, 0.001858012517914176, 0.006992395967245102, 0.017071956768631935, 0.8292703628540039, 0.13744711875915527], [0.008105510845780373, 0.0008766708197072148, 0.0015143424971029162, 0.0010578178334981203, 0.0002961023710668087, 0.003666147356852889, 0.9844834208488464], [0.00321060698479414, 0.0054215071722865105, 0.005947355180978775, 0.005465073976665735, 0.008426082320511341, 0.0009391278144903481, 0.9705902934074402], [0.00024039024719968438, 0.00012011188664473593, 0.0004337493737693876, 0.00010761256999103352, 0.00018021301366388798, 0.0005756549653597176, 0.9983422756195068]], [[0.01068459078669548, 0.004901687614619732, 0.0023335032165050507, 0.002508037956431508, 0.0008199170115403831, 0.009684834629297256, 0.969067394733429], [0.008005913347005844, 0.0022179491352289915, 0.0016522215446457267, 0.0003950052778236568, 0.0017084558494389057, 0.003803539089858532, 0.9822169542312622], [0.007671786937862635, 0.06783153861761093, 0.00733480928465724, 0.0034325665328651667, 0.00969802774488926, 0.005778842139989138, 0.898252546787262], [0.004164213314652443, 0.06233992800116539, 0.06994141638278961, 0.00154267402831465, 0.023685701191425323, 0.047544609755277634, 0.7907814383506775], [9.868370398180559e-05, 6.464716716436669e-05, 0.0001601638796273619, 0.0023596908431500196, 0.0004311342490836978, 0.00026621538563631475, 0.9966193437576294], [0.0002742809592746198, 0.0006502168835140765, 0.0058338697999715805, 0.004494519904255867, 0.35764726996421814, 0.004142184276133776, 0.6269576549530029], [0.0007070775027386844, 0.00022283995349425822, 0.00019493118452373892, 0.0003532509144861251, 0.0012209138367325068, 0.0008881752728484571, 0.9964129328727722]]], [[[0.0001495652977610007, 0.00023602278088219464, 0.00043079358874820173, 7.704117160756141e-05, 0.533898115158081, 0.036611031740903854, 0.4285973906517029], [0.00039576058043166995, 0.0025889717508107424, 0.0012199715711176395, 0.0005365699762478471, 0.09936709702014923, 0.005067622289061546, 0.8908240795135498], [0.0001335817069048062, 8.66181799210608e-05, 0.015303700231015682, 0.000355959142325446, 0.010932515375316143, 0.006631032098084688, 0.9665565490722656], [4.9205369577975944e-05, 4.237300163367763e-05, 0.00031728149042464793, 0.0005601785960607231, 0.058935388922691345, 0.5832226276397705, 0.3568730056285858], [0.0002988810883834958, 7.260206621140242e-05, 8.964098378783092e-05, 0.00010670275514712557, 0.19821470975875854, 0.0012484868057072163, 0.7999690175056458], [0.0003773428616113961, 0.0002690886612981558, 0.0004941414808854461, 0.0004622862907126546, 0.06828035414218903, 0.1446429342031479, 0.7854738831520081], [6.08353457209887e-06, 1.8536655261414126e-05, 3.4443062759237364e-05, 9.007741027744487e-05, 0.008293922059237957, 0.00043109789839945734, 0.991125762462616]], [[0.0002613994001876563, 0.0024865595623850822, 0.002527320757508278, 0.009063242934644222, 0.3472746014595032, 0.003982671070843935, 0.634404182434082], [0.003990905825048685, 0.0007303961901925504, 0.003889207961037755, 0.0021257505286484957, 0.1001705676317215, 0.007821855135262012, 0.8812713623046875], [0.007295171730220318, 0.004499727860093117, 0.009610257111489773, 0.0672442838549614, 0.2201603651046753, 0.4980994164943695, 0.1930907815694809], [0.005077695474028587, 0.0044942572712898254, 0.003905173856765032, 0.053441986441612244, 0.30330073833465576, 0.5567871928215027, 0.07299293577671051], [0.0072294436395168304, 0.012185078114271164, 0.011136993765830994, 0.012538078241050243, 0.08947952091693878, 0.04008573666214943, 0.8273451328277588], [0.02358008734881878, 0.07238876074552536, 0.029680954292416573, 0.009537411853671074, 0.5130574107170105, 0.02252770960330963, 0.3292276859283447], [0.0005357510526664555, 0.0008101183921098709, 0.0008408170542679727, 0.0012578035239130259, 0.02381928823888302, 0.00776284234598279, 0.9649733901023865]], [[5.372247323975898e-05, 0.000562469766009599, 0.005921404343098402, 0.00016390376549679786, 0.2921919822692871, 0.001547007355839014, 0.6995595097541809], [0.007732519879937172, 0.0014261790784075856, 0.036578793078660965, 0.0061805411241948605, 0.15090227127075195, 0.02706199698150158, 0.7701177000999451], [0.011228030547499657, 0.022675026208162308, 0.00840207003057003, 0.005146438255906105, 0.2446087896823883, 0.03184938803315163, 0.6760902404785156], [0.018407465890049934, 0.01460415031760931, 0.02648596093058586, 0.00823330320417881, 0.39049121737480164, 0.10420568287372589, 0.437572181224823], [0.01364518329501152, 0.006212487351149321, 0.025587307289242744, 0.008179484866559505, 0.0833810418844223, 0.009098202921450138, 0.8538962006568909], [0.018757792189717293, 0.013804278336465359, 0.03270095959305763, 0.036685261875391006, 0.4997446537017822, 0.01606471836566925, 0.3822422921657562], [0.0009354648645967245, 0.0015941235469654202, 0.0018657331820577383, 0.000350515590980649, 0.00992813054472208, 0.008537298999726772, 0.9767887592315674]], [[0.0001642111747059971, 0.0018341466784477234, 0.0011146065080538392, 0.0002098563127219677, 0.08997584134340286, 0.00573896337300539, 0.9009623527526855], [0.002266578609123826, 0.003030496183782816, 0.009104724042117596, 0.01135145965963602, 0.1161198616027832, 0.07341522723436356, 0.7847117185592651], [0.005395202897489071, 0.02376137487590313, 0.017667826265096664, 0.023026378825306892, 0.2015012502670288, 0.04282304644584656, 0.6858249306678772], [0.016702689230442047, 0.008969256654381752, 0.3305993378162384, 0.09154165536165237, 0.114332415163517, 0.06684591621160507, 0.3710086941719055], [0.0052118259482085705, 0.028997328132390976, 0.055862050503492355, 0.030018417164683342, 0.07014206796884537, 0.06706245988607407, 0.7427058219909668], [0.001391312456689775, 0.005329510662704706, 0.6789047122001648, 0.1317645013332367, 0.12064073979854584, 0.00141166674438864, 0.06055750325322151], [0.060972437262535095, 0.01836446486413479, 0.02147216908633709, 0.014056825079023838, 0.035248734056949615, 0.08489958196878433, 0.7649857997894287]], [[0.00032740217284299433, 0.001443545101210475, 0.004684410989284515, 0.0021397520322352648, 0.02045387774705887, 0.006640898995101452, 0.9643101096153259], [0.011447169817984104, 0.025845259428024292, 0.021951669827103615, 0.014121637679636478, 0.0616208054125309, 0.11226257681846619, 0.7527508735656738], [0.00753070367500186, 0.05009695887565613, 0.03378444164991379, 0.023993032053112984, 0.19488197565078735, 0.04740121215581894, 0.6423115730285645], [0.0013070852728560567, 0.013697599992156029, 0.01459491066634655, 0.010520604439079762, 0.3245445191860199, 0.16748477518558502, 0.4678505063056946], [0.0017396127805113792, 0.0027798707596957684, 0.010288534685969353, 0.002239367924630642, 0.006375512108206749, 0.00867043063044548, 0.967906653881073], [0.0025356013793498278, 0.005664972122758627, 0.14104661345481873, 0.0020700639579445124, 0.3509235084056854, 0.0003842464939225465, 0.4973750412464142], [0.0036207716912031174, 0.0054161627776920795, 0.0021613729186356068, 0.002537040039896965, 0.015228121541440487, 0.031110994517803192, 0.9399255514144897]], [[2.90753578156e-05, 0.0008041230612434447, 0.0007362316246144474, 8.872376201907173e-05, 0.9794600605964661, 0.0003209259593859315, 0.018560899421572685], [0.009234166704118252, 0.0021422880236059427, 0.04448898509144783, 0.01669088378548622, 0.4877585470676422, 0.28986668586730957, 0.14981840550899506], [0.014766774140298367, 0.023719241842627525, 0.022540466859936714, 0.06784268468618393, 0.14614346623420715, 0.16869661211967468, 0.5562907457351685], [0.002621072344481945, 0.017396340146660805, 0.02294304594397545, 0.03204359486699104, 0.12229518592357635, 0.650663435459137, 0.1520373374223709], [0.022500954568386078, 0.0050350758247077465, 0.013071094639599323, 0.005761479027569294, 0.15706376731395721, 0.05680584907531738, 0.7397617697715759], [0.01703610084950924, 0.018463801592588425, 0.002568507567048073, 0.0028948490507900715, 0.5398643612861633, 0.0029721565078943968, 0.4162002503871918], [0.0029429160058498383, 0.012053608894348145, 0.015192842110991478, 0.004607364535331726, 0.05934906750917435, 0.09792832285165787, 0.8079258799552917]], [[0.0008714526193216443, 0.00046231879969127476, 0.0032742945477366447, 0.00033510374487377703, 0.017784375697374344, 0.0011227026116102934, 0.9761497378349304], [0.03578224405646324, 0.05843096226453781, 0.00935734249651432, 0.0025364772882312536, 0.013592960312962532, 0.0011131077772006392, 0.8791869282722473], [0.004485531244426966, 0.0010016083251684904, 0.520586371421814, 0.0003189540293533355, 0.02830236591398716, 0.0003298716328572482, 0.44497525691986084], [0.04380064457654953, 0.009887545369565487, 0.003400927409529686, 0.2828417718410492, 0.12603634595870972, 0.020974498242139816, 0.5130582451820374], [0.02149992063641548, 0.004449212457984686, 0.004777155816555023, 0.0031995950266718864, 0.21259421110153198, 0.0006451255176216364, 0.7528347969055176], [0.005376623477786779, 0.009838688187301159, 0.029945528134703636, 0.04197278991341591, 0.33458247780799866, 0.08707348257303238, 0.49121037125587463], [0.0061189294792711735, 0.0020902662072330713, 0.0017952276393771172, 0.0009570265538059175, 0.004091635346412659, 0.001525282859802246, 0.9834217429161072]], [[0.0006543903145939112, 0.007202173583209515, 0.0025209812447428703, 0.002000344218686223, 0.383179634809494, 0.5098045468330383, 0.0946379005908966], [0.0007703860756009817, 0.0020535325165838003, 0.009241354651749134, 0.010109816677868366, 0.6007603406906128, 0.2420872449874878, 0.1349773406982422], [0.00041181972483173013, 0.008285791613161564, 0.026001259684562683, 0.21722781658172607, 0.280033141374588, 0.3792806565761566, 0.08875953406095505], [1.4862746866128873e-05, 0.00010535382898524404, 0.00030064707971177995, 0.006169074680656195, 0.026542678475379944, 0.9582874774932861, 0.008579930290579796], [0.0007880202610976994, 0.0008452796027995646, 0.0014567570760846138, 0.0008380088838748634, 0.031750697642564774, 0.10378868877887726, 0.8605324625968933], [0.0007451854180544615, 0.01160794124007225, 0.13467811048030853, 0.00792739074677229, 0.31379854679107666, 0.06636635959148407, 0.4648765027523041], [3.386602475075051e-05, 3.396014290046878e-05, 0.00013965893595013767, 6.750972534064204e-05, 0.008713563904166222, 0.020355381071567535, 0.9706560969352722]], [[0.003041264833882451, 0.008717235177755356, 0.005671647377312183, 0.0016961186192929745, 0.10817906260490417, 0.0069045135751366615, 0.8657901883125305], [0.019656069576740265, 0.8367447853088379, 0.0379677414894104, 0.0020816356409341097, 0.01683882623910904, 0.00794804748147726, 0.07876301556825638], [0.018886469304561615, 0.07782452553510666, 0.0866410955786705, 0.04621490091085434, 0.037044376134872437, 0.05623916536569595, 0.6771495342254639], [0.019574815407395363, 0.006253539584577084, 0.06484677642583847, 0.04441206902265549, 0.03392850607633591, 0.30915072560310364, 0.5218335390090942], [0.01356777735054493, 0.017761263996362686, 0.0011314874282106757, 0.0007217191741801798, 0.48251456022262573, 0.0013402197510004044, 0.482962965965271], [0.007130106911063194, 0.0024577786680310965, 0.029563255608081818, 0.12962831556797028, 0.013381967321038246, 0.054783742874860764, 0.7630547881126404], [0.20470668375492096, 0.1110634133219719, 0.04866185039281845, 0.04620576649904251, 0.05886352062225342, 0.059825144708156586, 0.4706735610961914]], [[0.011098338291049004, 0.006709882523864508, 0.00027361634420230985, 0.0008248272351920605, 0.05009248107671738, 0.0008444341947324574, 0.930156409740448], [0.0016034137224778533, 0.0029740671161562204, 0.0016177503857761621, 0.0013232157798483968, 0.011331580579280853, 0.0024528522044420242, 0.9786971211433411], [0.0009350435575470328, 0.009069925174117088, 0.00012509871157817543, 2.0926481738570146e-05, 0.0004300996952224523, 0.00025363880558870733, 0.9891652464866638], [0.0022566597908735275, 0.0013420720351859927, 0.011422831565141678, 0.0021122649777680635, 0.005621661897748709, 0.006646368652582169, 0.9705981612205505], [0.00894080474972725, 0.0016106385737657547, 0.0005331438733264804, 0.003204029519110918, 0.011395630426704884, 0.0006809403421357274, 0.9736348390579224], [0.00011892990733031183, 0.0004493123560678214, 0.0018008018378168344, 0.0005951360217295587, 0.9668906331062317, 0.0002542403235565871, 0.029890939593315125], [0.0024124684277921915, 0.0041508181020617485, 0.0014610670041292906, 0.00263791112229228, 0.007476829923689365, 0.0036554348189383745, 0.9782055020332336]], [[0.00014161538274493068, 0.003726836759597063, 0.0011423745891079307, 0.00017917405057232827, 0.9110484719276428, 0.0005548305925913155, 0.0832066684961319], [0.02313939295709133, 0.01144381333142519, 0.08424612879753113, 0.008418719284236431, 0.7235376238822937, 0.011217688210308552, 0.13799665868282318], [0.008600329048931599, 0.007119860965758562, 0.006164186634123325, 0.009711730293929577, 0.3492269814014435, 0.35069626569747925, 0.26848065853118896], [0.009544795379042625, 0.009710371494293213, 0.006989810615777969, 0.004796097986400127, 0.7590175867080688, 0.07140251994132996, 0.13853880763053894], [0.010733102448284626, 0.006204258184880018, 0.010120936669409275, 0.0036525775212794542, 0.09515032172203064, 0.019768862053751945, 0.8543699979782104], [0.020729996263980865, 0.010161180049180984, 0.06208391860127449, 0.05695772543549538, 0.40738439559936523, 0.011045175604522228, 0.43163758516311646], [0.007011960260570049, 0.02510564774274826, 0.012577821500599384, 0.0048635415732860565, 0.11805452406406403, 0.025583285838365555, 0.8068032264709473]], [[0.009282873943448067, 0.007447092793881893, 0.01719815656542778, 0.02250070869922638, 0.02467927150428295, 0.048087362200021744, 0.8708045482635498], [0.014874468557536602, 0.001723779016174376, 0.026736291125416756, 0.04489781707525253, 0.025750990957021713, 0.3801712691783905, 0.5058453679084778], [0.017054755240678787, 0.007044738158583641, 0.010965975932776928, 0.014499141834676266, 0.04954562708735466, 0.024647552520036697, 0.8762421011924744], [0.12979631125926971, 0.029193781316280365, 0.011171682737767696, 0.0404597669839859, 0.1467757374048233, 0.04294659569859505, 0.5996561050415039], [0.011018398217856884, 0.0024857469834387302, 0.01490874495357275, 0.04018992930650711, 0.0004003701324108988, 0.020178329199552536, 0.9108185768127441], [0.013815583661198616, 0.012783017940819263, 0.008435379713773727, 0.015487821772694588, 0.057487208396196365, 0.0019638403318822384, 0.8900272250175476], [0.16065609455108643, 0.06347378343343735, 0.07031257450580597, 0.053063925355672836, 0.08648134768009186, 0.13740627467632294, 0.4286060035228729]]], [[[0.006324684713035822, 0.0007831849507056177, 0.0009522532927803695, 0.0006593160796910524, 0.0671638548374176, 0.025546126067638397, 0.8985706567764282], [0.0015781590482220054, 0.0007225748850032687, 0.002947603352367878, 0.0062064966186881065, 0.013270384632050991, 0.016535786911845207, 0.9587390422821045], [0.032418884336948395, 0.006181485950946808, 0.005710632540285587, 0.009102492593228817, 0.07212516665458679, 0.14276309311389923, 0.731698215007782], [0.007994448766112328, 0.013472557067871094, 0.007367940619587898, 0.007088314741849899, 0.04863237589597702, 0.035706691443920135, 0.8797376155853271], [0.003397878957912326, 0.0017892727628350258, 0.0032234119717031717, 0.0037686352152377367, 0.015609300695359707, 0.012354067526757717, 0.9598574638366699], [0.107989102602005, 0.0332198329269886, 0.014471682719886303, 0.012122031301259995, 0.20267967879772186, 0.02184530906379223, 0.607672393321991], [0.0007176451617851853, 0.003952289931476116, 0.0015114762354642153, 0.0021203092765063047, 0.010963027365505695, 0.005483526270836592, 0.9752516746520996]], [[0.0003549936809577048, 0.001622729585506022, 4.8525191232329234e-05, 0.0004876645980402827, 0.03959313780069351, 0.05557098984718323, 0.902321994304657], [0.002132051857188344, 0.0036570210941135883, 0.0008458520169369876, 0.0010112281888723373, 0.04328794404864311, 0.027328332886099815, 0.921737551689148], [0.0030258370097726583, 0.004884422291070223, 0.0006968164816498756, 0.0013922767248004675, 0.06272097676992416, 0.011649488471448421, 0.9156301617622375], [0.0028508803807199, 0.0015190953854471445, 0.003307754173874855, 0.003737273858860135, 0.051512785255908966, 0.0350499264895916, 0.9020223021507263], [0.00859686080366373, 0.02532654069364071, 0.020534630864858627, 0.017627622932195663, 0.02040248177945614, 0.0875791683793068, 0.8199326395988464], [0.02014857903122902, 0.01003363449126482, 0.015788905322551727, 0.020080866292119026, 0.12973420321941376, 0.06350454688072205, 0.7407092452049255], [0.0015853563090786338, 0.00338138360530138, 0.0013877574820071459, 0.001291516819037497, 0.027902424335479736, 0.013138472102582455, 0.9513131380081177]], [[0.13983935117721558, 0.047320906072854996, 0.024613292887806892, 0.0354173518717289, 0.22035931050777435, 0.44655176997184753, 0.08589804917573929], [0.12472734600305557, 0.17919203639030457, 0.027328787371516228, 0.04665558785200119, 0.275417298078537, 0.15298932790756226, 0.19368959963321686], [0.12765659391880035, 0.042256444692611694, 0.10555405169725418, 0.09086040407419205, 0.2313569188117981, 0.2883860766887665, 0.11392947286367416], [0.10814525187015533, 0.05505583807826042, 0.11134921759366989, 0.12933331727981567, 0.4106873571872711, 0.1350991576910019, 0.05032980069518089], [0.2043449878692627, 0.06002684682607651, 0.036003172397613525, 0.05464314669370651, 0.21620331704616547, 0.2810419201850891, 0.14773662388324738], [0.1522696614265442, 0.014539455063641071, 0.005996720399707556, 0.01865966245532036, 0.16133910417556763, 0.5656948685646057, 0.08150056004524231], [0.017504369840025902, 0.03297670558094978, 0.011059806682169437, 0.010773922316730022, 0.08626945316791534, 0.03380334749817848, 0.807612419128418]], [[0.009019020013511181, 0.018283933401107788, 0.0031648387666791677, 0.0012778321979567409, 0.7353301048278809, 0.06359413266181946, 0.1693301796913147], [0.01111133024096489, 0.01276249811053276, 0.004443760495632887, 0.000888388545718044, 0.6534211039543152, 0.02016669511795044, 0.297206312417984], [0.002384720603004098, 0.013395498506724834, 0.0029306865762919188, 0.001252077636308968, 0.12661577761173248, 0.01640886813402176, 0.8370123505592346], [0.0048704263754189014, 0.01746070757508278, 0.004102298058569431, 0.002670029876753688, 0.24294264614582062, 0.023173902183771133, 0.7047800421714783], [0.016227440908551216, 0.008862851187586784, 0.005786149296909571, 0.01059106457978487, 0.1317983716726303, 0.05499550700187683, 0.771738588809967], [0.014538805931806564, 0.007910276763141155, 0.010343506000936031, 0.008237597532570362, 0.23681676387786865, 0.1101510152220726, 0.6120019555091858], [0.00742133567109704, 0.010716566815972328, 0.0043166084215044975, 0.007315325550734997, 0.08654171228408813, 0.01666914112865925, 0.8670193552970886]], [[9.403245348948985e-05, 0.0012527949875220656, 0.0002560961584094912, 0.0002169924700865522, 0.08876685798168182, 0.052182309329509735, 0.8572309017181396], [0.00018748646834865212, 0.00244965311139822, 0.0009969413513317704, 0.0018798556411638856, 0.06755074113607407, 0.01677006483078003, 0.9101652503013611], [6.072484097785491e-07, 0.0010946866823360324, 0.0002898576494771987, 0.00040501050534658134, 0.028238236904144287, 0.0022076298482716084, 0.9677640795707703], [0.0002873472694773227, 0.0033512874506413937, 0.0024610047694295645, 0.0032670123036950827, 0.039820704609155655, 0.02952432632446289, 0.921288251876831], [0.0013335032854229212, 0.009662225842475891, 0.019374435767531395, 0.03735505789518356, 0.09714975208044052, 0.08213905990123749, 0.7529858946800232], [0.00022431343677453697, 0.003350738435983658, 0.00554476585239172, 0.0037538413889706135, 0.028820902109146118, 0.07338181883096695, 0.8849237561225891], [0.10877162218093872, 0.007095968816429377, 0.0029609622433781624, 0.0047352928668260574, 0.022987404838204384, 0.009071745909750462, 0.8443770408630371]], [[0.01659465581178665, 0.021762842312455177, 0.0006150089320726693, 0.00023367606627289206, 0.5200232863426208, 0.35224735736846924, 0.08852317929267883], [0.07239773124456406, 0.045688021928071976, 0.0018775596981868148, 0.0023156902752816677, 0.2562676966190338, 0.1512400209903717, 0.47021323442459106], [0.009611316956579685, 0.0045593297109007835, 0.0061199902556836605, 0.01802024058997631, 0.01181021612137556, 0.10830314457416534, 0.8415758013725281], [0.006485085468739271, 0.004192072432488203, 0.0016978159546852112, 0.005206004716455936, 0.02474096044898033, 0.1640159636735916, 0.7936620712280273], [0.044965509325265884, 0.040962014347314835, 0.0026397400069981813, 0.0028567351400852203, 0.6625773310661316, 0.0413396842777729, 0.20465905964374542], [0.01712707057595253, 0.00664774002507329, 0.002123486250638962, 0.0022253035567700863, 0.42589378356933594, 0.43674662709236145, 0.10923607647418976], [0.010144835337996483, 0.01777847297489643, 0.002076508244499564, 0.0046616848558187485, 0.09449826180934906, 0.0332336351275444, 0.8376065492630005]], [[0.0016985106049105525, 0.002553672296926379, 0.0019561953376978636, 0.0031984790693968534, 0.08476829528808594, 0.009654518216848373, 0.8961703777313232], [0.0033221335615962744, 0.010010949335992336, 0.0018672883743420243, 0.0088806739076972, 0.025556396692991257, 0.007742091082036495, 0.9426205158233643], [0.0019967088010162115, 0.00497444299980998, 0.0010129790753126144, 0.0007256529061123729, 0.039072174578905106, 0.0060873618349432945, 0.9461307525634766], [0.0010198926320299506, 0.0024079179856926203, 0.00018428161274641752, 0.00023894300102256238, 0.12090008705854416, 0.006607530172914267, 0.8686413168907166], [0.0062787169590592384, 0.007351416163146496, 0.00573235796764493, 0.01206466555595398, 0.08372122049331665, 0.012136872857809067, 0.8727146983146667], [0.00673746969550848, 0.006675186101347208, 0.0016384882619604468, 0.002508038654923439, 0.08452312648296356, 0.013648152351379395, 0.884269654750824], [0.002350285416468978, 0.004592608660459518, 0.0024226228706538677, 0.004668022971600294, 0.03856860101222992, 0.013552906922996044, 0.9338449835777283]], [[0.00013039150508120656, 0.0006367499590851367, 0.0002625316265039146, 0.0006114052957855165, 0.022360501810908318, 0.04943414777517319, 0.9265642762184143], [0.0006549437530338764, 0.0015444031450897455, 0.0004958419012837112, 0.0011023113038390875, 0.0242463406175375, 0.02860814705491066, 0.9433479905128479], [0.0014337098691612482, 0.003083385294303298, 0.0015889779897406697, 0.0069501097314059734, 0.02203304134309292, 0.05303763598203659, 0.9118731021881104], [0.00033596885623410344, 0.0007248139590956271, 0.0004818136803805828, 0.0010357830906286836, 0.01016093697398901, 0.030000004917383194, 0.9572606086730957], [0.003277358366176486, 0.02395474910736084, 0.0016055910382419825, 0.001762458705343306, 0.0955122858285904, 0.01293548196554184, 0.8609520792961121], [0.007046309299767017, 0.008486649952828884, 0.006624248344451189, 0.019115373492240906, 0.0630839392542839, 0.19549773633480072, 0.7001457214355469], [0.00014686526264995337, 0.0005402502720244229, 0.00010032318823505193, 0.0005232321564108133, 0.020213918760418892, 0.0033098538406193256, 0.9751656651496887]], [[0.06059578061103821, 0.02692095935344696, 0.010781948454678059, 0.006721853278577328, 0.21137143671512604, 0.26581764221191406, 0.41779032349586487], [0.17811276018619537, 0.17538028955459595, 0.027420630678534508, 0.0362670011818409, 0.2002430111169815, 0.03317422419786453, 0.3494020104408264], [0.05577392876148224, 0.0032086551655083895, 0.8879694938659668, 0.009978103451430798, 0.0014004308031871915, 0.015357798896729946, 0.026311596855521202], [0.23866766691207886, 0.03032759577035904, 0.19407673180103302, 0.16384567320346832, 0.008130899630486965, 0.2886761426925659, 0.0762752890586853], [0.015111765824258327, 0.00638724397867918, 0.0004110672452952713, 0.007618206553161144, 0.8563297390937805, 0.0012069926597177982, 0.11293499916791916], [0.0038277190178632736, 0.0024594629649072886, 0.005786880385130644, 0.01110608596354723, 0.02247113548219204, 0.8065703511238098, 0.14777839183807373], [0.001975340535864234, 0.00213342672213912, 0.0005701790796592832, 0.00241538742557168, 0.020017387345433235, 0.013387661427259445, 0.9595006108283997]], [[0.039231788367033005, 0.00643435912206769, 0.001555416383780539, 0.006504132878035307, 0.4833046793937683, 0.29268011450767517, 0.17028950154781342], [0.11382587999105453, 0.10383130609989166, 0.021109402179718018, 0.062436651438474655, 0.07343156635761261, 0.3921189308166504, 0.233246311545372], [0.15273697674274445, 0.06566191464662552, 0.21732358634471893, 0.25008702278137207, 0.014946036972105503, 0.1532037854194641, 0.14604069292545319], [0.12200475484132767, 0.06400234252214432, 0.130116268992424, 0.4220130443572998, 0.0577348954975605, 0.15153652429580688, 0.05259215831756592], [0.10969863831996918, 0.04300912469625473, 0.015783259645104408, 0.018546389415860176, 0.3999361991882324, 0.050180040299892426, 0.362846314907074], [0.04459867626428604, 0.0037886183708906174, 0.004847442731261253, 0.009449171833693981, 0.3768739104270935, 0.2992892861366272, 0.26115286350250244], [0.03887663036584854, 0.053713131695985794, 0.028901074081659317, 0.024954482913017273, 0.07342727482318878, 0.03765174746513367, 0.7424757480621338]], [[0.0006892376695759594, 0.00015184782387223095, 4.760279261972755e-05, 2.9622402507811785e-05, 0.30017420649528503, 0.0013962734956294298, 0.6975111961364746], [0.0003569345863070339, 0.00032982745324261487, 3.832520087598823e-05, 0.00017539001419208944, 0.07731954753398895, 0.0010329056531190872, 0.9207471013069153], [0.000700377335306257, 0.00026509579038247466, 9.059386502485722e-05, 0.0006478765862993896, 0.05161454901099205, 0.001916587701998651, 0.9447649717330933], [0.0003554538998287171, 0.00028988043777644634, 0.00010883658978855237, 0.0006308486335910857, 0.046759795397520065, 0.0022431742399930954, 0.9496120810508728], [0.034748807549476624, 0.010982612147927284, 0.005556861404329538, 0.002207444980740547, 0.5262290239334106, 0.02606598101556301, 0.39420926570892334], [0.004618289414793253, 0.0009827313479036093, 0.000397141877328977, 0.00023445577244274318, 0.15966211259365082, 0.0028187171556055546, 0.8312865495681763], [0.0004816026194021106, 0.0005685589276254177, 0.0005002412362955511, 0.0004742264864034951, 0.05436433479189873, 0.0013575258199125528, 0.9422535300254822]], [[4.669866757467389e-05, 0.00019442939083091915, 0.00012942023749928921, 0.00017702102195471525, 0.026671437546610832, 0.005076221190392971, 0.9677047729492188], [0.00033438505488447845, 0.0019016362493857741, 0.000622016319539398, 0.001270879409275949, 0.03664762154221535, 0.009057858027517796, 0.9501655697822571], [0.0008184527978301048, 0.0024180214386433363, 0.00312923570163548, 0.005281472112983465, 0.05512917414307594, 0.039066117256879807, 0.8941575884819031], [0.0003953771374654025, 0.00028228142764419317, 0.0006862511509098113, 0.0014050721656531096, 0.015294337645173073, 0.09934844821691513, 0.8825882077217102], [0.0017050538444891572, 0.009867609478533268, 0.0025899915490299463, 0.0031429859809577465, 0.13168732821941376, 0.021056970581412315, 0.8299500942230225], [0.0010505628306418657, 0.0036601130850613117, 0.009673809632658958, 0.01566215418279171, 0.028442541137337685, 0.14920161664485931, 0.7923091650009155], [0.0005145125323906541, 0.0012076577404513955, 0.0007420966867357492, 0.0011948158498853445, 0.03974916413426399, 0.015108880586922169, 0.9414829015731812]]]], \"left_text\": [\"[CLS]\", \"i\", \"have\", \"the\", \"freshman\", \"plague\", \"[SEP]\"], \"right_text\": [\"[CLS]\", \"i\", \"have\", \"the\", \"freshman\", \"plague\", \"[SEP]\"]}], \"default_filter\": \"0\", \"display_mode\": \"dark\", \"root_div_id\": \"bertviz-27a7af48885b419da2aece1de5fec69f\", \"include_layers\": [0, 1, 2, 3, 4, 5], \"include_heads\": [0, 1, 2, 3, 4, 5, 6, 7, 8, 9, 10, 11], \"total_heads\": 12} is a template marker that is replaced by actual params.\n",
              "        const config = {};\n",
              "\n",
              "        const MIN_X = 0;\n",
              "        const MIN_Y = 0;\n",
              "        const DIV_WIDTH = 970;\n",
              "        const THUMBNAIL_PADDING = 5;\n",
              "        const DETAIL_WIDTH = 300;\n",
              "        const DETAIL_ATTENTION_WIDTH = 140;\n",
              "        const DETAIL_BOX_WIDTH = 80;\n",
              "        const DETAIL_BOX_HEIGHT = 18;\n",
              "        const DETAIL_PADDING = 15;\n",
              "        const ATTN_PADDING = 0;\n",
              "        const DETAIL_HEADING_HEIGHT = 25;\n",
              "        const HEADING_TEXT_SIZE = 15;\n",
              "        const HEADING_PADDING = 5;\n",
              "        const TEXT_SIZE = 13;\n",
              "        const TEXT_PADDING = 5;\n",
              "        const LAYER_COLORS = d3.schemeCategory10;\n",
              "        const PALETTE = {\n",
              "            'light': {\n",
              "                'text': 'black',\n",
              "                'background': 'white',\n",
              "                'highlight': '#F5F5F5'\n",
              "            },\n",
              "            'dark': {\n",
              "                'text': '#ccc',\n",
              "                'background': 'black',\n",
              "                'highlight': '#222'\n",
              "            }\n",
              "        }\n",
              "\n",
              "        function render() {\n",
              "\n",
              "            // Set global state variables\n",
              "\n",
              "            var attData = config.attention[config.filter];\n",
              "            config.leftText = attData.left_text;\n",
              "            config.rightText = attData.right_text;\n",
              "            config.attn = attData.attn;\n",
              "            config.numLayers = config.attn.length;\n",
              "            config.numHeads = config.attn[0].length;\n",
              "            config.thumbnailBoxHeight = 7 * (12 / config.totalHeads);\n",
              "            const axisSize = HEADING_TEXT_SIZE + HEADING_PADDING + TEXT_SIZE + TEXT_PADDING;\n",
              "            config.thumbnailHeight = Math.max(config.leftText.length, config.rightText.length) * config.thumbnailBoxHeight + 2 * THUMBNAIL_PADDING;\n",
              "            config.thumbnailWidth = (DIV_WIDTH - axisSize) / config.totalHeads;\n",
              "            config.detailHeight = Math.max(config.leftText.length, config.rightText.length) * DETAIL_BOX_HEIGHT + 2 * DETAIL_PADDING + DETAIL_HEADING_HEIGHT;\n",
              "            config.divHeight = Math.max(config.numLayers * config.thumbnailHeight + axisSize, config.detailHeight);\n",
              "\n",
              "            const vis = $(`#${config.rootDivId} #vis`)\n",
              "            vis.empty();\n",
              "            vis.attr(\"height\", config.divHeight);\n",
              "            config.svg = d3.select(`#${config.rootDivId} #vis`)\n",
              "                .append('svg')\n",
              "                .attr(\"width\", DIV_WIDTH)\n",
              "                .attr(\"height\", config.divHeight)\n",
              "                .attr(\"fill\", getBackgroundColor());\n",
              "\n",
              "            renderAxisLabels();\n",
              "\n",
              "            var i;\n",
              "            var j;\n",
              "            for (i = 0; i < config.numLayers; i++) {\n",
              "                for (j = 0; j < config.numHeads; j++) {\n",
              "                    renderThumbnail(i, j);\n",
              "                }\n",
              "            }\n",
              "        }\n",
              "\n",
              "        function renderAxisLabels() {\n",
              "            const axisSize = HEADING_TEXT_SIZE + HEADING_PADDING + TEXT_SIZE + TEXT_PADDING;\n",
              "            const tableWidth = config.thumbnailWidth * config.heads.length;\n",
              "            config.svg.append(\"text\")\n",
              "                .text(\"Heads\")\n",
              "                .attr(\"fill\", \"black\")\n",
              "                .attr(\"font-weight\", \"bold\")\n",
              "                .attr(\"font-size\", HEADING_TEXT_SIZE + \"px\")\n",
              "                .attr(\"x\", axisSize + tableWidth / 2)\n",
              "                .attr(\"text-anchor\", \"middle\")\n",
              "                .attr(\"y\", 0)\n",
              "                .attr(\"dy\", HEADING_TEXT_SIZE);\n",
              "            for (let i = 0; i < config.numHeads; i++) {\n",
              "                config.svg.append(\"text\")\n",
              "                    .text(config.heads[i])\n",
              "                    .attr(\"fill\", \"black\")\n",
              "                    .attr(\"font-size\", TEXT_SIZE + \"px\")\n",
              "                    .attr(\"x\", axisSize + (i + .5) * config.thumbnailWidth)\n",
              "                    .attr(\"text-anchor\", \"middle\")\n",
              "                    .attr(\"y\", HEADING_TEXT_SIZE + HEADING_PADDING)\n",
              "                    .attr(\"dy\", TEXT_SIZE);\n",
              "            }\n",
              "            let x = 0;\n",
              "            let y = axisSize + config.thumbnailHeight * config.layers.length / 2;\n",
              "            console.log(\"x\", x, y)\n",
              "            config.svg.append(\"text\")\n",
              "                .text(\"Layers\")\n",
              "                .attr(\"fill\", \"black\")\n",
              "                .attr(\"font-weight\", \"bold\")\n",
              "                .attr(\"transform\", \"rotate(270, \" + x  + \", \" + y + \")\")\n",
              "                .attr(\"font-size\", HEADING_TEXT_SIZE + \"px\")\n",
              "                .attr(\"x\", x)\n",
              "                .attr(\"text-anchor\", \"middle\")\n",
              "                .attr(\"y\", y)\n",
              "                .attr(\"dy\", HEADING_TEXT_SIZE);\n",
              "            for (let i = 0; i < config.numLayers; i++) {\n",
              "                x = HEADING_TEXT_SIZE + HEADING_PADDING + TEXT_SIZE; // HACK\n",
              "                y = axisSize + (i + .5) * config.thumbnailHeight;\n",
              "                config.svg.append(\"text\")\n",
              "                    .text(config.layers[i])\n",
              "                    .attr(\"fill\", \"black\")\n",
              "                    .attr(\"font-size\", TEXT_SIZE + \"px\")\n",
              "                    .attr(\"x\", x)\n",
              "                    .attr(\"text-anchor\", \"end\")\n",
              "                    .attr(\"y\", y)\n",
              "                    .attr(\"dy\", TEXT_SIZE / 2);\n",
              "            }\n",
              "        }\n",
              "\n",
              "\n",
              "        function renderThumbnail(layerIndex, headIndex) {\n",
              "            const axisSize = HEADING_TEXT_SIZE + HEADING_PADDING + TEXT_SIZE + TEXT_PADDING\n",
              "            const x = headIndex * config.thumbnailWidth + axisSize;\n",
              "            const y = layerIndex * config.thumbnailHeight + axisSize;\n",
              "            renderThumbnailAttn(x, y, config.attn[layerIndex][headIndex], layerIndex, headIndex);\n",
              "        }\n",
              "\n",
              "        function renderDetail(att, layerIndex, headIndex) {\n",
              "            const axisSize = TEXT_SIZE + HEADING_PADDING + TEXT_SIZE + TEXT_PADDING;\n",
              "            var xOffset = .8 * config.thumbnailWidth;\n",
              "            var maxX = DIV_WIDTH;\n",
              "            var maxY = config.divHeight - 3;\n",
              "            var leftPos = axisSize + headIndex * config.thumbnailWidth;\n",
              "            var x = leftPos + THUMBNAIL_PADDING + xOffset;\n",
              "            if (x < MIN_X) {\n",
              "                x = MIN_X;\n",
              "            } else if (x + DETAIL_WIDTH > maxX) {\n",
              "                x = leftPos + THUMBNAIL_PADDING - DETAIL_WIDTH + 8;\n",
              "            }\n",
              "            var posLeftText = x;\n",
              "            var posAttention = posLeftText + DETAIL_BOX_WIDTH;\n",
              "            var posRightText = posAttention + DETAIL_ATTENTION_WIDTH;\n",
              "            var thumbnailHeight = Math.max(config.leftText.length, config.rightText.length) * config.thumbnailBoxHeight + 2 * THUMBNAIL_PADDING;\n",
              "            var yOffset = 20;\n",
              "            var y = layerIndex * thumbnailHeight + THUMBNAIL_PADDING + yOffset;\n",
              "            if (y < MIN_Y) {\n",
              "                y = MIN_Y;\n",
              "            } else if (y + config.detailHeight > maxY) {\n",
              "                y = maxY - config.detailHeight;\n",
              "            }\n",
              "            renderDetailFrame(x, y, layerIndex);\n",
              "            y = y + DETAIL_PADDING;\n",
              "            renderDetailHeading(x, y, layerIndex, headIndex);\n",
              "            y = y + DETAIL_HEADING_HEIGHT;\n",
              "            renderDetailText(config.leftText, \"leftText\", posLeftText, y , layerIndex);\n",
              "            renderDetailAttn(posAttention, y, att, layerIndex, headIndex);\n",
              "            renderDetailText(config.rightText, \"rightText\", posRightText, y, layerIndex);\n",
              "        }\n",
              "\n",
              "        function renderDetailHeading(x, y, layerIndex, headIndex) {\n",
              "            var fillColor = getTextColor();\n",
              "            config.svg.append(\"text\")\n",
              "                .classed(\"detail\", true)\n",
              "                .text('Layer ' + config.layers[layerIndex] + \", Head \" + config.heads[headIndex])\n",
              "                .attr(\"font-size\", TEXT_SIZE + \"px\")\n",
              "                .attr(\"font-weight\", \"bold\")\n",
              "                .style(\"cursor\", \"default\")\n",
              "                .style(\"-webkit-user-select\", \"none\")\n",
              "                .attr(\"fill\", fillColor)\n",
              "                .attr(\"x\", x + DETAIL_WIDTH / 2)\n",
              "                .attr(\"text-anchor\", \"middle\")\n",
              "                .attr(\"y\", y)\n",
              "                .attr(\"height\", DETAIL_HEADING_HEIGHT)\n",
              "                .attr(\"width\", DETAIL_WIDTH)\n",
              "                .attr(\"dy\", HEADING_TEXT_SIZE);\n",
              "        }\n",
              "\n",
              "        function renderDetailText(text, id, x, y, layerIndex) {\n",
              "            var tokenContainer = config.svg.append(\"svg:g\")\n",
              "                .classed(\"detail\", true)\n",
              "                .selectAll(\"g\")\n",
              "                .data(text)\n",
              "                .enter()\n",
              "                .append(\"g\");\n",
              "\n",
              "            var fillColor = getTextColor();\n",
              "\n",
              "            tokenContainer.append(\"rect\")\n",
              "                .classed(\"highlight\", true)\n",
              "                .attr(\"fill\", fillColor)\n",
              "                .style(\"opacity\", 0.0)\n",
              "                .attr(\"height\", DETAIL_BOX_HEIGHT)\n",
              "                .attr(\"width\", DETAIL_BOX_WIDTH)\n",
              "                .attr(\"x\", x)\n",
              "                .attr(\"y\", function (d, i) {\n",
              "                    return y + i * DETAIL_BOX_HEIGHT;\n",
              "                });\n",
              "\n",
              "            var textContainer = tokenContainer.append(\"text\")\n",
              "                .classed(\"token\", true)\n",
              "                .text(function (d) {\n",
              "                    return d;\n",
              "                })\n",
              "                .attr(\"font-size\", TEXT_SIZE + \"px\")\n",
              "                .style(\"cursor\", \"default\")\n",
              "                .style(\"-webkit-user-select\", \"none\")\n",
              "                .attr(\"fill\", fillColor)\n",
              "                .attr(\"x\", x)\n",
              "                .attr(\"y\", function (d, i) {\n",
              "                    return i * DETAIL_BOX_HEIGHT + y;\n",
              "                })\n",
              "                .attr(\"height\", DETAIL_BOX_HEIGHT)\n",
              "                .attr(\"width\", DETAIL_BOX_WIDTH)\n",
              "                .attr(\"dy\", TEXT_SIZE);\n",
              "\n",
              "            if (id == \"leftText\") {\n",
              "                textContainer.style(\"text-anchor\", \"end\")\n",
              "                    .attr(\"dx\", DETAIL_BOX_WIDTH - 2);\n",
              "                tokenContainer.on(\"mouseover\", function (d, index) {\n",
              "                    highlightSelection(index);\n",
              "                });\n",
              "                tokenContainer.on(\"mouseleave\", function () {\n",
              "                    unhighlightSelection();\n",
              "                });\n",
              "            }\n",
              "        }\n",
              "\n",
              "        function highlightSelection(index) {\n",
              "            config.svg.select(\"#leftText\")\n",
              "                .selectAll(\".highlight\")\n",
              "                .style(\"opacity\", function (d, i) {\n",
              "                    return i == index ? 1.0 : 0.0;\n",
              "                });\n",
              "            config.svg.selectAll(\".attn-line-group\")\n",
              "                .style(\"opacity\", function (d, i) {\n",
              "                    return i == index ? 1.0 : 0.0;\n",
              "                });\n",
              "        }\n",
              "\n",
              "        function unhighlightSelection() {\n",
              "            config.svg.select(\"#leftText\")\n",
              "                .selectAll(\".highlight\")\n",
              "                .style(\"opacity\", 0.0);\n",
              "            config.svg.selectAll(\".attn-line-group\")\n",
              "                .style(\"opacity\", 1);\n",
              "        }\n",
              "\n",
              "        function renderThumbnailAttn(x, y, att, layerIndex, headIndex) {\n",
              "\n",
              "            var attnContainer = config.svg.append(\"svg:g\");\n",
              "\n",
              "            var attnBackground = attnContainer.append(\"rect\")\n",
              "                .attr(\"id\", 'attn_background_' + layerIndex + \"_\" + headIndex)\n",
              "                .classed(\"attn_background\", true)\n",
              "                .attr(\"x\", x)\n",
              "                .attr(\"y\", y)\n",
              "                .attr(\"height\", config.thumbnailHeight)\n",
              "                .attr(\"width\", config.thumbnailWidth)\n",
              "                .attr(\"stroke-width\", 2)\n",
              "                .attr(\"stroke\", getLayerColor(layerIndex))\n",
              "                .attr(\"stroke-opacity\", 0)\n",
              "                .attr(\"fill\", getBackgroundColor());\n",
              "            var x1 = x + THUMBNAIL_PADDING;\n",
              "            var x2 = x1 + config.thumbnailWidth - 14;\n",
              "            var y1 = y + THUMBNAIL_PADDING;\n",
              "\n",
              "            attnContainer.selectAll(\"g\")\n",
              "                .data(att)\n",
              "                .enter()\n",
              "                .append(\"g\") // Add group for each source token\n",
              "                .attr(\"source-index\", function (d, i) { // Save index of source token\n",
              "                    return i;\n",
              "                })\n",
              "                .selectAll(\"line\")\n",
              "                .data(function (d) { // Loop over all target tokens\n",
              "                    return d;\n",
              "                })\n",
              "                .enter() // When entering\n",
              "                .append(\"line\")\n",
              "                .attr(\"x1\", x1)\n",
              "                .attr(\"y1\", function (d) {\n",
              "                    var sourceIndex = +this.parentNode.getAttribute(\"source-index\");\n",
              "                    return y1 + (sourceIndex + .5) * config.thumbnailBoxHeight;\n",
              "                })\n",
              "                .attr(\"x2\", x2)\n",
              "                .attr(\"y2\", function (d, targetIndex) {\n",
              "                    return y1 + (targetIndex + .5) * config.thumbnailBoxHeight;\n",
              "                })\n",
              "                .attr(\"stroke-width\", 2.2)\n",
              "                .attr(\"stroke\", getLayerColor(layerIndex))\n",
              "                .attr(\"stroke-opacity\", function (d) {\n",
              "                    return d;\n",
              "                });\n",
              "\n",
              "            var clickRegion = attnContainer.append(\"rect\")\n",
              "                .attr(\"x\", x)\n",
              "                .attr(\"y\", y)\n",
              "                .attr(\"height\", config.thumbnailHeight)\n",
              "                .attr(\"width\", config.thumbnailWidth)\n",
              "                .style(\"opacity\", 0);\n",
              "\n",
              "            clickRegion.on(\"click\", function (d, index) {\n",
              "                var attnBackgroundOther = config.svg.selectAll(\".attn_background\");\n",
              "                attnBackgroundOther.attr(\"fill\", getBackgroundColor());\n",
              "                attnBackgroundOther.attr(\"stroke-opacity\", 0);\n",
              "\n",
              "                config.svg.selectAll(\".detail\").remove();\n",
              "                if (config.detail_layer != layerIndex || config.detail_head != headIndex) {\n",
              "                    renderDetail(att, layerIndex, headIndex);\n",
              "                    config.detail_layer = layerIndex;\n",
              "                    config.detail_head = headIndex;\n",
              "                    attnBackground.attr(\"fill\", getHighlightColor());\n",
              "                    attnBackground.attr(\"stroke-opacity\", .8);\n",
              "                } else {\n",
              "                    config.detail_layer = null;\n",
              "                    config.detail_head = null;\n",
              "                    attnBackground.attr(\"fill\", getBackgroundColor());\n",
              "                    attnBackground.attr(\"stroke-opacity\", 0);\n",
              "                }\n",
              "            });\n",
              "\n",
              "            clickRegion.on(\"mouseover\", function (d) {\n",
              "                d3.select(this).style(\"cursor\", \"pointer\");\n",
              "            });\n",
              "        }\n",
              "\n",
              "        function renderDetailFrame(x, y, layerIndex) {\n",
              "            var detailFrame = config.svg.append(\"rect\")\n",
              "                .classed(\"detail\", true)\n",
              "                .attr(\"x\", x)\n",
              "                .attr(\"y\", y)\n",
              "                .attr(\"height\", config.detailHeight)\n",
              "                .attr(\"width\", DETAIL_WIDTH)\n",
              "                .style(\"opacity\", 1)\n",
              "                .attr(\"stroke-width\", 1.5)\n",
              "                .attr(\"stroke-opacity\", 0.7)\n",
              "                .attr(\"stroke\", getLayerColor(layerIndex));\n",
              "        }\n",
              "\n",
              "        function renderDetailAttn(x, y, att, layerIndex) {\n",
              "            var attnContainer = config.svg.append(\"svg:g\")\n",
              "                .classed(\"detail\", true)\n",
              "                .attr(\"pointer-events\", \"none\");\n",
              "            attnContainer.selectAll(\"g\")\n",
              "                .data(att)\n",
              "                .enter()\n",
              "                .append(\"g\") // Add group for each source token\n",
              "                .classed('attn-line-group', true)\n",
              "                .attr(\"source-index\", function (d, i) { // Save index of source token\n",
              "                    return i;\n",
              "                })\n",
              "                .selectAll(\"line\")\n",
              "                .data(function (d) { // Loop over all target tokens\n",
              "                    return d;\n",
              "                })\n",
              "                .enter()\n",
              "                .append(\"line\")\n",
              "                .attr(\"x1\", x + ATTN_PADDING)\n",
              "                .attr(\"y1\", function (d) {\n",
              "                    var sourceIndex = +this.parentNode.getAttribute(\"source-index\");\n",
              "                    return y + (sourceIndex + .5) * DETAIL_BOX_HEIGHT;\n",
              "                })\n",
              "                .attr(\"x2\", x + DETAIL_ATTENTION_WIDTH - ATTN_PADDING)\n",
              "                .attr(\"y2\", function (d, targetIndex) {\n",
              "                    return y + (targetIndex + .5) * DETAIL_BOX_HEIGHT;\n",
              "                })\n",
              "                .attr(\"stroke-width\", 2.2)\n",
              "                .attr(\"stroke\", getLayerColor(layerIndex))\n",
              "                .attr(\"stroke-opacity\", function (d) {\n",
              "                    return d;\n",
              "                });\n",
              "        }\n",
              "\n",
              "        function getLayerColor(layer) {\n",
              "          return LAYER_COLORS[config.layers[layer] % 10];\n",
              "        }\n",
              "\n",
              "        function getTextColor() {\n",
              "            return PALETTE[config.mode]['text']\n",
              "        }\n",
              "\n",
              "        function getBackgroundColor() {\n",
              "           return PALETTE[config.mode]['background']\n",
              "        }\n",
              "\n",
              "        function getHighlightColor() {\n",
              "           return PALETTE[config.mode]['highlight']\n",
              "        }\n",
              "\n",
              "        function initialize() {\n",
              "            config.attention = params['attention'];\n",
              "            config.filter = params['default_filter'];\n",
              "            config.mode = params['display_mode'];\n",
              "            config.layers = params['include_layers']\n",
              "            config.heads = params['include_heads']\n",
              "            config.totalHeads = params['total_heads']\n",
              "            config.rootDivId = params['root_div_id'];\n",
              "            $(`#${config.rootDivId} #filter`).on('change', function (e) {\n",
              "                config.filter = e.currentTarget.value;\n",
              "                render();\n",
              "            });\n",
              "        }\n",
              "\n",
              "        initialize();\n",
              "        render();\n",
              "\n",
              "    });"
            ]
          },
          "metadata": {}
        }
      ],
      "source": [
        "model_view(attention, tokens)"
      ]
    },
    {
      "cell_type": "markdown",
      "metadata": {
        "id": "Sh09SzeTGhfg"
      },
      "source": [
        "## SEC 4 - Attention processing"
      ]
    },
    {
      "cell_type": "code",
      "execution_count": null,
      "metadata": {
        "id": "WhP2hMbZGZRa"
      },
      "outputs": [],
      "source": [
        "def average_across_all(attention, token_index = 0): \n",
        "    \"\"\"\n",
        "    returns a vector of averaged attention weights across each (12 heads x 6 layers)  \n",
        "    \"\"\"\n",
        "    attn_heads = torch.cat(attention,dim=1).squeeze()\n",
        "    token_attn_weights = attn_heads[:,token_index,:]\n",
        "    return torch.mean(token_attn_weights,dim=0)\n",
        "\n",
        "def cls_average_across_all(attention): \n",
        "    \"\"\"\n",
        "    returns a vector of averaged attention weights across each (12 heads x 6 layers)  \n",
        "    \"\"\"\n",
        "    attn_heads = torch.cat(attention,dim=1).squeeze()\n",
        "    token_attn_weights = attn_heads[:, :]\n",
        "    return torch.mean(token_attn_weights,dim=0)"
      ]
    },
    {
      "cell_type": "code",
      "execution_count": null,
      "metadata": {
        "id": "eiDyjCLzGbtf"
      },
      "outputs": [],
      "source": [
        "def average_across_heads(attention, token_index = 0): \n",
        "    \"\"\"\n",
        "    returns a (num_layers x num_tokens) tensor of attention weights, averaged across all heads per layer  \n",
        "    \"\"\"\n",
        "    attn_heads = torch.cat(attention,dim=0).squeeze()\n",
        "    attn_heads = torch.mean(attn_heads, dim = 1)\n",
        "    return attn_heads[:,token_index,:]\n",
        "\n",
        "def cls_average_across_heads(attention): \n",
        "    \"\"\"\n",
        "    returns a (num_layers x num_tokens) tensor of attention weights, averaged across all heads per layer  \n",
        "    \"\"\"\n",
        "    attn_heads = torch.cat(attention,dim=0).squeeze()\n",
        "    attn_heads = torch.mean(attn_heads, dim = 1)\n",
        "    return attn_heads[:, :]"
      ]
    },
    {
      "cell_type": "code",
      "execution_count": null,
      "metadata": {
        "id": "wOj3m6NpA5ca"
      },
      "outputs": [],
      "source": [
        "def merge_tokens(attention, tokens):\n",
        "    \"\"\"\n",
        "    attention is a (n-layers = 6)-tuple, where each element of the tuple\n",
        "    is a [1 x 12 x n_tokens x n_tokens]\n",
        "  \n",
        "    returns the merged attentions: (n-layers=6)-tuple, where each element of the\n",
        "    tuple is a [1 x 12 x n_merged_tokens x n_merged_tokens]\n",
        "    \"\"\"\n",
        "    nlayers = len(attention)\n",
        "    batch_size, head_size, n_tokens, n_tokens = attention[0].shape\n",
        "\n",
        "    merged_tokens = []\n",
        "    # attentions only for [cls]\n",
        "    merged_attentions = [torch.permute(torch.zeros((batch_size, head_size, 1, n_tokens)), (2, 3, 0, 1)).to(device) for i\n",
        "                         in range(nlayers)]\n",
        "\n",
        "    wordi = -1\n",
        "    for i in range(len(tokens)):\n",
        "        if (tokens[i].startswith(\"##\")):\n",
        "            merged_tokens[wordi] += tokens[i][2:]\n",
        "        else:\n",
        "            wordi += 1\n",
        "            merged_tokens.append(tokens[i])\n",
        "\n",
        "        for li in range(nlayers):\n",
        "            attention_layer = attention[li]\n",
        "            if (tokens[i].startswith(\"##\")):\n",
        "                merged_attentions[li][0:1, wordi:wordi+1, :, :] += torch.permute(attention_layer[:, :, 0:1, i:i + 1], (2, 3, 0, 1))\n",
        "            else:\n",
        "                merged_attentions[li][0:1, wordi:wordi+1, :, :] = torch.permute(attention_layer[:, :, 0:1, i:i + 1], (2, 3, 0, 1))\n",
        "\n",
        "    merged_attentions = [torch.permute(merged_attentions[i], (2, 3, 0, 1))[:, :, :, :wordi + 1] for i in range(nlayers)]\n",
        "    return merged_attentions, merged_tokens"
      ]
    },
    {
      "cell_type": "code",
      "execution_count": null,
      "metadata": {
        "id": "T-aDd3ofh-hk"
      },
      "outputs": [],
      "source": [
        "from torchmetrics.functional import kl_divergence\n",
        "\n",
        "def get_highest_kl_layer(layer_average, layer_attentions):\n",
        "    max_val = -np.inf\n",
        "    max_pos = None\n",
        "    for i in range(len(layer_attentions[0])):\n",
        "        p = layer_average.unsqueeze(0)\n",
        "        q = layer_attentions[0][i]\n",
        "        kl = kl_divergence(p, q).detach().cpu().numpy()\n",
        "        if kl > max_val:\n",
        "            max_val = kl\n",
        "            max_pos = i\n",
        "    return layer_attentions[0][max_pos]\n",
        "\n",
        "softmax = nn.Softmax(dim=1)"
      ]
    },
    {
      "cell_type": "code",
      "execution_count": null,
      "metadata": {
        "id": "J582yqei-wKn"
      },
      "outputs": [],
      "source": [
        "# HYPERPARAMETERS\n",
        "model_name = 'distilbert-base-uncased-finetuned-sst-2-english'\n",
        "device = torch.device('mps') if torch.backends.mps.is_available() else torch.device('cuda') if torch.cuda.is_available() else torch.device('cpu')\n",
        "tokenizer = AutoTokenizer.from_pretrained(model_name)\n",
        "\n",
        "# prepare data loader across the full data\n",
        "X = df_tweets_final_multiclass['text'].to_numpy()\n",
        "y = df_tweets_final_multiclass['multiclass_sentiment'].to_numpy()\n",
        "\n",
        "analysis_dataset = tokenizer_loop(X, y, tokenizer)\n",
        "\n",
        "#Data Loaders\n",
        "analysis_loader = DataLoader(analysis_dataset, batch_size=1, shuffle=False) #Feel free to experiment with batch sizes\n"
      ]
    },
    {
      "cell_type": "code",
      "execution_count": null,
      "metadata": {
        "id": "8RHDpTsp-Vb2",
        "colab": {
          "base_uri": "https://localhost:8080/"
        },
        "outputId": "cf9850ac-5879-4acb-9ced-cb44d7bfe6e4"
      },
      "outputs": [
        {
          "output_type": "stream",
          "name": "stderr",
          "text": [
            "100%|██████████| 28364/28364 [13:27<00:00, 35.13it/s]\n"
          ]
        }
      ],
      "source": [
        "##### EXTRACT ATTENTION HEAD FROM EACH LAYER - THEN AVERAGE - THEN NOTE\n",
        "\n",
        "from collections import defaultdict\n",
        "from nltk.corpus import stopwords\n",
        "from tqdm import tqdm\n",
        "\n",
        "stop_words = stopwords.words(\"english\")\n",
        "res_dict = defaultdict(list)\n",
        "stop_words = set(stop_words)\n",
        "stop_words.add('[CLS]')\n",
        "stop_words.add('[SEP]')\n",
        "\n",
        "\n",
        "for inputs, masking, labels in tqdm(analysis_loader):\n",
        "    inputs = inputs.to(device)\n",
        "    masking = masking.to(device)\n",
        "\n",
        "    inputs = inputs[0][:torch.sum(masking[0])].unsqueeze(0)\n",
        "    masking = masking[0][:torch.sum(masking[0])].unsqueeze(0)\n",
        "\n",
        "    model_preds = multiclass_model(inputs, attention_mask=masking)\n",
        "    attention_scores = model_preds['attentions']\n",
        "    tokens = tokenizer.convert_ids_to_tokens(inputs[0])\n",
        "    classification = torch.argmax(torch.round(softmax(model_preds['logits']).detach().cpu(), decimals=3)).cpu().numpy()\n",
        "    if classification == 1:\n",
        "        continue\n",
        "    \n",
        "    if classification == 0:\n",
        "        modifier = -1\n",
        "    else:\n",
        "        modifier = 1\n",
        "    \n",
        "    merged_attentions, merged_tokens = merge_tokens(attention_scores, tokens)\n",
        "    layer_averages = cls_average_across_heads(merged_attentions)\n",
        "    \n",
        "    # append the attention scores average\n",
        "    attentions = []\n",
        "    for i in range(len(layer_averages)):\n",
        "        layer_attention = get_highest_kl_layer(layer_averages[i], merged_attentions[i]).detach().cpu().numpy()[0]\n",
        "        attentions.append(layer_attention)\n",
        "\n",
        "    avg_attentions = np.mean(attentions, axis = 0)\n",
        "    for score, word in zip(avg_attentions, merged_tokens):\n",
        "        if word in stop_words:\n",
        "            continue\n",
        "        res_dict[word].append(score*modifier)"
      ]
    },
    {
      "cell_type": "code",
      "source": [
        "np.mean(res_dict['trump'])"
      ],
      "metadata": {
        "colab": {
          "base_uri": "https://localhost:8080/"
        },
        "id": "M4UJQi2_r_6-",
        "outputId": "00a83402-9ba9-4d93-e91a-120ccf233ab5"
      },
      "execution_count": null,
      "outputs": [
        {
          "output_type": "execute_result",
          "data": {
            "text/plain": [
              "-0.002060012849588641"
            ]
          },
          "metadata": {},
          "execution_count": 25
        }
      ]
    },
    {
      "cell_type": "code",
      "source": [
        "import pickle\n",
        "with open(os.path.join(data_root, 'results_dictionary_averaged_layers.pickle'), 'wb') as handle:\n",
        "    pickle.dump(res_dict, handle, protocol=pickle.HIGHEST_PROTOCOL)"
      ],
      "metadata": {
        "id": "pCTuhg86zc83"
      },
      "execution_count": null,
      "outputs": []
    },
    {
      "cell_type": "code",
      "source": [
        "##### EXTRACT ATTENTION HEAD FROM EACH LAYER - DUMP ALL SCORES SEPARATELY\n",
        "\n",
        "from collections import defaultdict\n",
        "from nltk.corpus import stopwords\n",
        "from tqdm import tqdm\n",
        "\n",
        "stop_words = stopwords.words(\"english\")\n",
        "res_dict = defaultdict(list)\n",
        "stop_words = set(stop_words)\n",
        "stop_words.add('[CLS]')\n",
        "stop_words.add('[SEP]')\n",
        "\n",
        "\n",
        "for inputs, masking, labels in tqdm(analysis_loader):\n",
        "    inputs = inputs.to(device)\n",
        "    masking = masking.to(device)\n",
        "\n",
        "    inputs = inputs[0][:torch.sum(masking[0])].unsqueeze(0)\n",
        "    masking = masking[0][:torch.sum(masking[0])].unsqueeze(0)\n",
        "\n",
        "    model_preds = multiclass_model(inputs, attention_mask=masking)\n",
        "    attention_scores = model_preds['attentions']\n",
        "    tokens = tokenizer.convert_ids_to_tokens(inputs[0])\n",
        "    classification = torch.argmax(torch.round(softmax(model_preds['logits']).detach().cpu(), decimals=3)).cpu().numpy()\n",
        "    if classification == 1:\n",
        "        continue\n",
        "    \n",
        "    if classification == 0:\n",
        "        modifier = -1\n",
        "    else:\n",
        "        modifier = 1\n",
        "    \n",
        "    merged_attentions, merged_tokens = merge_tokens(attention_scores, tokens)\n",
        "    layer_averages = cls_average_across_heads(merged_attentions)\n",
        "    \n",
        "    # append the attention scores average\n",
        "    for i in range(len(layer_averages)):\n",
        "        layer_attention = get_highest_kl_layer(layer_averages[i], merged_attentions[i]).detach().cpu().numpy()[0]\n",
        "\n",
        "        for score, word in zip(layer_attention, merged_tokens):\n",
        "            if word in stop_words:\n",
        "                continue\n",
        "            res_dict[word].append(score*modifier)"
      ],
      "metadata": {
        "colab": {
          "base_uri": "https://localhost:8080/"
        },
        "id": "BxzUHCtY0JTa",
        "outputId": "57d48ffe-27ee-4413-d58f-bac8cb7b6aa5"
      },
      "execution_count": null,
      "outputs": [
        {
          "output_type": "stream",
          "name": "stderr",
          "text": [
            "100%|██████████| 28364/28364 [13:04<00:00, 36.18it/s]\n"
          ]
        }
      ]
    },
    {
      "cell_type": "code",
      "source": [
        "import pickle\n",
        "with open(os.path.join(data_root, 'results_dictionary_dump_all_layers_individually.pickle'), 'wb') as handle:\n",
        "    pickle.dump(res_dict, handle, protocol=pickle.HIGHEST_PROTOCOL)"
      ],
      "metadata": {
        "id": "EOraERsX0r8Q"
      },
      "execution_count": null,
      "outputs": []
    },
    {
      "cell_type": "code",
      "source": [
        "##### EXTRACT ATTENTION HEAD FROM EACH LAYER - DUMP ALL SCORES SEPARATELY\n",
        "\n",
        "from collections import defaultdict\n",
        "from nltk.corpus import stopwords\n",
        "from tqdm import tqdm\n",
        "\n",
        "stop_words = stopwords.words(\"english\")\n",
        "res_dict = defaultdict(list)\n",
        "stop_words = set(stop_words)\n",
        "stop_words.add('[CLS]')\n",
        "stop_words.add('[SEP]')\n",
        "\n",
        "\n",
        "for inputs, masking, labels in tqdm(analysis_loader):\n",
        "    inputs = inputs.to(device)\n",
        "    masking = masking.to(device)\n",
        "\n",
        "    inputs = inputs[0][:torch.sum(masking[0])].unsqueeze(0)\n",
        "    masking = masking[0][:torch.sum(masking[0])].unsqueeze(0)\n",
        "\n",
        "    model_preds = multiclass_model(inputs, attention_mask=masking)\n",
        "    attention_scores = model_preds['attentions']\n",
        "    tokens = tokenizer.convert_ids_to_tokens(inputs[0])\n",
        "    classification = torch.argmax(torch.round(softmax(model_preds['logits']).detach().cpu(), decimals=3)).cpu().numpy()\n",
        "    if classification == 1:\n",
        "        continue\n",
        "    \n",
        "    if classification == 0:\n",
        "        modifier = -1\n",
        "    else:\n",
        "        modifier = 1\n",
        "    \n",
        "    merged_attentions, merged_tokens = merge_tokens(attention_scores, tokens)\n",
        "    layer_averages = cls_average_across_heads(merged_attentions)\n",
        "    \n",
        "    # append the attention scores average - look only at the two last layers\n",
        "    for i in range(4, len(layer_averages)):\n",
        "        layer_attention = get_highest_kl_layer(layer_averages[i], merged_attentions[i]).detach().cpu().numpy()[0]\n",
        "\n",
        "        for score, word in zip(layer_attention, merged_tokens):\n",
        "            if word in stop_words:\n",
        "                continue\n",
        "            res_dict[word].append(score*modifier)"
      ],
      "metadata": {
        "id": "ACN_csZaZ6hx",
        "outputId": "9b099e54-5cf0-4b0a-f848-aab4da064a0a",
        "colab": {
          "base_uri": "https://localhost:8080/"
        }
      },
      "execution_count": null,
      "outputs": [
        {
          "output_type": "stream",
          "name": "stderr",
          "text": [
            "100%|██████████| 28364/28364 [08:31<00:00, 55.44it/s]\n"
          ]
        }
      ]
    },
    {
      "cell_type": "code",
      "source": [
        "import pickle\n",
        "with open(os.path.join(data_root, 'results_dictionary_last_two_layers_separate_coefficients.pickle'), 'wb') as handle:\n",
        "    pickle.dump(res_dict, handle, protocol=pickle.HIGHEST_PROTOCOL)"
      ],
      "metadata": {
        "id": "-D2qxtoPtKEk"
      },
      "execution_count": null,
      "outputs": []
    },
    {
      "cell_type": "code",
      "source": [
        "data_root = '/content/drive/MyDrive/College/2022-23 Fall/6.864/6.8610 Final Project/data'  # (for emily)"
      ],
      "metadata": {
        "id": "4cemMLpHtPvC"
      },
      "execution_count": 3,
      "outputs": []
    },
    {
      "cell_type": "code",
      "source": [
        "from statistics import variance\n",
        "\n",
        "ATTN_THRESHOLD = 0.1  # min(abs(min(attns)), abs(max(attns))) > threshold to be included\n",
        "NUM_CONTROVERSIAL = 50  # how many of our top variance words to consider \"controversial\"\n",
        "\n",
        "# corpus_attns = {  # is this the format?\n",
        "#     'apple' : [0.15,0.21,-0.04,0.1],\n",
        "#     'bear' : [-0.2,-0.8,0.2],\n",
        "#     'crayon' : [0.002,0.03,-0.07],\n",
        "# }\n",
        "\n",
        "# things to try: maybe looking for nouns specifically, or feeding in covid related words\n",
        "# our preliminary results are clearly dominated by generic sentiment words (e.g. mostly adjectives)\n",
        "# POS tagging? tagged = nltk.pos_tag(wordsList)\n",
        "\n",
        "def find_polarizing(corpus_attns):\n",
        "  corpus_variances = []  # store (word, var) tuples\n",
        "  print(f\"corpus size: {len(corpus_attns)}\")\n",
        "  for word, attns in corpus_attns.items():\n",
        "      mina, maxa = min(attns), max(attns)\n",
        "      # attns have to both straddle 0 AND have sufficient room around 0\n",
        "      if (mina < 0 and maxa > 0) and min(abs(mina), maxa) > ATTN_THRESHOLD:\n",
        "          corpus_variances.append((word, variance(attns)))\n",
        "  print(f\"eligible size: {len(corpus_variances)}\")  # how many did we get rid of?\n",
        "  corpus_variances.sort(key=lambda x:x[1], reverse=True)  # sort by decreasing variance\n",
        "  # print(corpus_variances[:NUM_CONTROVERSIAL])\n",
        "  return corpus_variances[:NUM_CONTROVERSIAL]"
      ],
      "metadata": {
        "id": "vaLajELxEIeA"
      },
      "execution_count": 4,
      "outputs": []
    },
    {
      "cell_type": "code",
      "source": [
        "import pickle\n",
        "with open(os.path.join(data_root, 'results_dictionary_averaged_layers.pickle'), 'rb') as jar:\n",
        "    averaged_layers_dicts = pickle.load(jar)\n",
        "\n",
        "polarized_averaged_layers = find_polarizing(averaged_layers_dicts)\n",
        "print(polarized_averaged_layers)"
      ],
      "metadata": {
        "colab": {
          "base_uri": "https://localhost:8080/"
        },
        "id": "psTQYJW-ExuA",
        "outputId": "47f02d05-82c0-4309-e887-d8e25719b3b4"
      },
      "execution_count": 5,
      "outputs": [
        {
          "output_type": "stream",
          "name": "stdout",
          "text": [
            "corpus size: 23156\n",
            "eligible size: 449\n",
            "[('terrific', 0.12108985811879514), ('clever', 0.06612875682139849), ('hysterically', 0.05694982794228709), ('elementary', 0.04852517836586081), ('rudely', 0.04529963056319603), ('credible', 0.04420920931644744), ('quietly', 0.043912176360801615), ('fur', 0.03620334545336172), ('casual', 0.03540897451499194), ('fascinating', 0.035338084151844286), ('unsure', 0.035159018701439115), ('wicked', 0.03461076802008126), ('logical', 0.03392264207507112), ('unbelievable', 0.03392112439994984), ('lightly', 0.033860015345427055), ('amazed', 0.03383975461411104), ('mindless', 0.03261739085260703), ('evident', 0.030030637373530268), ('wee', 0.029931474178594188), ('jerk', 0.029560633400791916), ('lol', 0.02903889897295814), ('surprising', 0.02876463351517765), ('qualified', 0.027995922946407736), ('solid', 0.027616193281129554), ('lmao', 0.02680825032860574), ('smart', 0.0266482162993448), ('late', 0.026588324727425852), ('decent', 0.025847866060399793), ('absent', 0.025009353178670094), ('responsive', 0.02426678360914399), ('real', 0.023564307306161797), ('exhausted', 0.023158370106758416), ('acute', 0.023015290971097932), ('green', 0.02284728281812816), ('english', 0.022366806170973277), ('pennsylvania', 0.021840034171561773), ('lethal', 0.02147679803450199), ('iconic', 0.021372927586758364), ('compelling', 0.020854967117448983), ('fresh', 0.020729168500556717), ('cheap', 0.020523868912883162), ('productive', 0.0205140859469715), ('mighty', 0.01978867040334449), ('humble', 0.0197586108157869), ('meaningful', 0.01967918393785202), ('global', 0.01956465727637587), ('responsible', 0.01953500112577479), ('reliable', 0.019424844485159146), ('rich', 0.019045210963065554), ('sensible', 0.018848150029028312)]\n"
          ]
        }
      ]
    },
    {
      "cell_type": "code",
      "source": [
        "with open(os.path.join(data_root, 'results_dictionary_dump_all_layers_individually.pickle'), 'rb') as jar:\n",
        "    averaged_heads_dicts = pickle.load(jar)\n",
        "\n",
        "polarized_averaged_heads = find_polarizing(averaged_heads_dicts)\n",
        "print(polarized_averaged_heads)"
      ],
      "metadata": {
        "colab": {
          "base_uri": "https://localhost:8080/"
        },
        "outputId": "bf1365fa-2630-47a1-d6a4-f3f84b4dac26",
        "id": "bQ5edELLFuWF"
      },
      "execution_count": 6,
      "outputs": [
        {
          "output_type": "stream",
          "name": "stdout",
          "text": [
            "corpus size: 23156\n",
            "eligible size: 3117\n",
            "[('clever', 0.18367463806442214), ('terrific', 0.1825101366853999), ('lighten', 0.13958121084008673), ('lol', 0.13629871956281722), ('elementary', 0.1361257970590345), ('real', 0.13597851588388038), ('fascinating', 0.13374275027965318), ('unbelievable', 0.13203660946432216), ('bleak', 0.13021598800595352), ('credible', 0.1252028618864433), ('heavy', 0.12291286407157946), ('shocking', 0.12136720094126231), ('awkward', 0.12070229694797888), ('unfair', 0.12061447287400717), ('heavily', 0.12042961155691599), ('rudely', 0.11735124250050523), ('fur', 0.1166935407728924), ('mighty', 0.11657463582208265), ('devastating', 0.11652804692229515), ('fresh', 0.11296589784647315), ('global', 0.11283538064479479), ('honest', 0.11271784728116829), ('scary', 0.11162997751868409), ('genuine', 0.11026641947794374), ('funny', 0.10971984604697067), ('lmao', 0.1086837128647104), ('interesting', 0.1083426379101089), ('drunk', 0.10816683671191106), ('smart', 0.10750640130819025), ('illegal', 0.1069743668929646), ('hysterically', 0.10697206785388812), ('disturbed', 0.1066630060424012), ('crazy', 0.10618605283936648), ('amazed', 0.10615149357019339), ('insane', 0.10599464258141925), ('responsible', 0.10588555469070239), ('terrifying', 0.10455686382878275), ('irritating', 0.10442452278662433), ('logical', 0.1036423852163168), ('available', 0.10360297967132476), ('unsure', 0.10312511199039347), ('decent', 0.10185424951620445), ('harmless', 0.10172112873694238), ('kindly', 0.10144967809136773), ('unfairly', 0.10141599283527378), ('appropriate', 0.10098756152581156), ('true', 0.10085469458744924), ('casual', 0.1003017223846226), ('okay', 0.09981297697911667), ('dangerous', 0.09876828680069691)]\n"
          ]
        }
      ]
    },
    {
      "cell_type": "code",
      "source": [
        "with open(os.path.join(data_root, 'results_dictionary_last_two_layers_separate_coefficients.pickle'), 'rb') as jar:\n",
        "    two_layer_dict = pickle.load(jar)\n",
        "\n",
        "polarized_two_layer = find_polarizing(two_layer_dict)\n",
        "print(polarized_two_layer)"
      ],
      "metadata": {
        "colab": {
          "base_uri": "https://localhost:8080/"
        },
        "id": "yKdzxiQZGUtw",
        "outputId": "9b0c2596-5305-4f3b-a833-002ba4b6e417"
      },
      "execution_count": 7,
      "outputs": [
        {
          "output_type": "stream",
          "name": "stdout",
          "text": [
            "corpus size: 23156\n",
            "eligible size: 1228\n",
            "[('clever', 0.6182890406037395), ('terrific', 0.5186136371700296), ('fur', 0.38670859993327045), ('elementary', 0.3848819869942206), ('hysterically', 0.370659631638839), ('credible', 0.3673813532862995), ('real', 0.3595906487121678), ('fascinating', 0.35618549555070667), ('amazed', 0.35350777675609385), ('logical', 0.35073740900958056), ('rudely', 0.34225172162010786), ('harmless', 0.33463774245223515), ('unsure', 0.3335700120314214), ('global', 0.32633783012160605), ('developed', 0.3224834211636439), ('smart', 0.31201711123307085), ('quietly', 0.31181208313231956), ('responsive', 0.3076894242729937), ('decent', 0.30694639414311503), ('mighty', 0.29541259826467103), ('bleak', 0.2938135308348035), ('casual', 0.2849523975340187), ('late', 0.2791665258724729), ('nba', 0.27501132664603295), ('solid', 0.2745496709048405), ('responsible', 0.27386942626829147), ('actual', 0.2702283569097447), ('lol', 0.2699314105432259), ('absent', 0.2691304882099162), ('disturbed', 0.2636368426932102), ('mindless', 0.2633888133136844), ('shy', 0.2612749780081791), ('exhausted', 0.2606597246425843), ('genuine', 0.25651868066855393), ('lightly', 0.2559724474559677), ('iconic', 0.2519125293599464), ('heavy', 0.2518300049000031), ('wicked', 0.2510886638732625), ('fresh', 0.24330501815275327), ('irritating', 0.24205097255515898), ('wee', 0.23855899460421826), ('evident', 0.23757196829196262), ('unbelievable', 0.23627264897675324), ('suitable', 0.23502398620074616), ('qualified', 0.23377130666899917), ('funny', 0.23373511853857024), ('willing', 0.2331523014256732), ('productive', 0.23249572312502526), ('green', 0.23153918388224434), ('okay', 0.23117116309051536)]\n"
          ]
        }
      ]
    }
  ],
  "metadata": {
    "accelerator": "GPU",
    "colab": {
      "collapsed_sections": [
        "l7A47npzmKN7",
        "aR0afzxrq_GI",
        "V4cvsF6jrzPZ"
      ],
      "provenance": [],
      "include_colab_link": true
    },
    "gpuClass": "standard",
    "kernelspec": {
      "display_name": "Python 3.9.13 ('klarity')",
      "language": "python",
      "name": "python3"
    },
    "language_info": {
      "codemirror_mode": {
        "name": "ipython",
        "version": 3
      },
      "file_extension": ".py",
      "mimetype": "text/x-python",
      "name": "python",
      "nbconvert_exporter": "python",
      "pygments_lexer": "ipython3",
      "version": "3.9.13"
    },
    "vscode": {
      "interpreter": {
        "hash": "ae19d00c0c1f30af2ca9ab5f645e7f8a389b49e6e3a1610f53c74b611d1f38b9"
      }
    },
    "widgets": {
      "application/vnd.jupyter.widget-state+json": {
        "f9fcb9b001a0469f971d4401ebd89e09": {
          "model_module": "@jupyter-widgets/controls",
          "model_name": "HBoxModel",
          "model_module_version": "1.5.0",
          "state": {
            "_dom_classes": [],
            "_model_module": "@jupyter-widgets/controls",
            "_model_module_version": "1.5.0",
            "_model_name": "HBoxModel",
            "_view_count": null,
            "_view_module": "@jupyter-widgets/controls",
            "_view_module_version": "1.5.0",
            "_view_name": "HBoxView",
            "box_style": "",
            "children": [
              "IPY_MODEL_e165fb1f3fde431386bff1285a8dbbf9",
              "IPY_MODEL_67af269b21a04affa8627b6841ebcfd0",
              "IPY_MODEL_3ff5fff387534fa8a68dac37a4d45b37"
            ],
            "layout": "IPY_MODEL_fcde8fdb42404ef9b531a38862b7a9b9"
          }
        },
        "e165fb1f3fde431386bff1285a8dbbf9": {
          "model_module": "@jupyter-widgets/controls",
          "model_name": "HTMLModel",
          "model_module_version": "1.5.0",
          "state": {
            "_dom_classes": [],
            "_model_module": "@jupyter-widgets/controls",
            "_model_module_version": "1.5.0",
            "_model_name": "HTMLModel",
            "_view_count": null,
            "_view_module": "@jupyter-widgets/controls",
            "_view_module_version": "1.5.0",
            "_view_name": "HTMLView",
            "description": "",
            "description_tooltip": null,
            "layout": "IPY_MODEL_c6f2e4bbcf454911b0f668c668f913de",
            "placeholder": "​",
            "style": "IPY_MODEL_d34b4f970a6a4736858996b1a80c5902",
            "value": "Downloading: 100%"
          }
        },
        "67af269b21a04affa8627b6841ebcfd0": {
          "model_module": "@jupyter-widgets/controls",
          "model_name": "FloatProgressModel",
          "model_module_version": "1.5.0",
          "state": {
            "_dom_classes": [],
            "_model_module": "@jupyter-widgets/controls",
            "_model_module_version": "1.5.0",
            "_model_name": "FloatProgressModel",
            "_view_count": null,
            "_view_module": "@jupyter-widgets/controls",
            "_view_module_version": "1.5.0",
            "_view_name": "ProgressView",
            "bar_style": "success",
            "description": "",
            "description_tooltip": null,
            "layout": "IPY_MODEL_39463e750abf4377a1eb5c03cda6f69f",
            "max": 48,
            "min": 0,
            "orientation": "horizontal",
            "style": "IPY_MODEL_035ed1c6a0994a8bb2be486a23377cf3",
            "value": 48
          }
        },
        "3ff5fff387534fa8a68dac37a4d45b37": {
          "model_module": "@jupyter-widgets/controls",
          "model_name": "HTMLModel",
          "model_module_version": "1.5.0",
          "state": {
            "_dom_classes": [],
            "_model_module": "@jupyter-widgets/controls",
            "_model_module_version": "1.5.0",
            "_model_name": "HTMLModel",
            "_view_count": null,
            "_view_module": "@jupyter-widgets/controls",
            "_view_module_version": "1.5.0",
            "_view_name": "HTMLView",
            "description": "",
            "description_tooltip": null,
            "layout": "IPY_MODEL_5d5b23820e284aa3b20723a8de22b308",
            "placeholder": "​",
            "style": "IPY_MODEL_dacf5e7a7cb7424b9992688e1078eb6a",
            "value": " 48.0/48.0 [00:00&lt;00:00, 788B/s]"
          }
        },
        "fcde8fdb42404ef9b531a38862b7a9b9": {
          "model_module": "@jupyter-widgets/base",
          "model_name": "LayoutModel",
          "model_module_version": "1.2.0",
          "state": {
            "_model_module": "@jupyter-widgets/base",
            "_model_module_version": "1.2.0",
            "_model_name": "LayoutModel",
            "_view_count": null,
            "_view_module": "@jupyter-widgets/base",
            "_view_module_version": "1.2.0",
            "_view_name": "LayoutView",
            "align_content": null,
            "align_items": null,
            "align_self": null,
            "border": null,
            "bottom": null,
            "display": null,
            "flex": null,
            "flex_flow": null,
            "grid_area": null,
            "grid_auto_columns": null,
            "grid_auto_flow": null,
            "grid_auto_rows": null,
            "grid_column": null,
            "grid_gap": null,
            "grid_row": null,
            "grid_template_areas": null,
            "grid_template_columns": null,
            "grid_template_rows": null,
            "height": null,
            "justify_content": null,
            "justify_items": null,
            "left": null,
            "margin": null,
            "max_height": null,
            "max_width": null,
            "min_height": null,
            "min_width": null,
            "object_fit": null,
            "object_position": null,
            "order": null,
            "overflow": null,
            "overflow_x": null,
            "overflow_y": null,
            "padding": null,
            "right": null,
            "top": null,
            "visibility": null,
            "width": null
          }
        },
        "c6f2e4bbcf454911b0f668c668f913de": {
          "model_module": "@jupyter-widgets/base",
          "model_name": "LayoutModel",
          "model_module_version": "1.2.0",
          "state": {
            "_model_module": "@jupyter-widgets/base",
            "_model_module_version": "1.2.0",
            "_model_name": "LayoutModel",
            "_view_count": null,
            "_view_module": "@jupyter-widgets/base",
            "_view_module_version": "1.2.0",
            "_view_name": "LayoutView",
            "align_content": null,
            "align_items": null,
            "align_self": null,
            "border": null,
            "bottom": null,
            "display": null,
            "flex": null,
            "flex_flow": null,
            "grid_area": null,
            "grid_auto_columns": null,
            "grid_auto_flow": null,
            "grid_auto_rows": null,
            "grid_column": null,
            "grid_gap": null,
            "grid_row": null,
            "grid_template_areas": null,
            "grid_template_columns": null,
            "grid_template_rows": null,
            "height": null,
            "justify_content": null,
            "justify_items": null,
            "left": null,
            "margin": null,
            "max_height": null,
            "max_width": null,
            "min_height": null,
            "min_width": null,
            "object_fit": null,
            "object_position": null,
            "order": null,
            "overflow": null,
            "overflow_x": null,
            "overflow_y": null,
            "padding": null,
            "right": null,
            "top": null,
            "visibility": null,
            "width": null
          }
        },
        "d34b4f970a6a4736858996b1a80c5902": {
          "model_module": "@jupyter-widgets/controls",
          "model_name": "DescriptionStyleModel",
          "model_module_version": "1.5.0",
          "state": {
            "_model_module": "@jupyter-widgets/controls",
            "_model_module_version": "1.5.0",
            "_model_name": "DescriptionStyleModel",
            "_view_count": null,
            "_view_module": "@jupyter-widgets/base",
            "_view_module_version": "1.2.0",
            "_view_name": "StyleView",
            "description_width": ""
          }
        },
        "39463e750abf4377a1eb5c03cda6f69f": {
          "model_module": "@jupyter-widgets/base",
          "model_name": "LayoutModel",
          "model_module_version": "1.2.0",
          "state": {
            "_model_module": "@jupyter-widgets/base",
            "_model_module_version": "1.2.0",
            "_model_name": "LayoutModel",
            "_view_count": null,
            "_view_module": "@jupyter-widgets/base",
            "_view_module_version": "1.2.0",
            "_view_name": "LayoutView",
            "align_content": null,
            "align_items": null,
            "align_self": null,
            "border": null,
            "bottom": null,
            "display": null,
            "flex": null,
            "flex_flow": null,
            "grid_area": null,
            "grid_auto_columns": null,
            "grid_auto_flow": null,
            "grid_auto_rows": null,
            "grid_column": null,
            "grid_gap": null,
            "grid_row": null,
            "grid_template_areas": null,
            "grid_template_columns": null,
            "grid_template_rows": null,
            "height": null,
            "justify_content": null,
            "justify_items": null,
            "left": null,
            "margin": null,
            "max_height": null,
            "max_width": null,
            "min_height": null,
            "min_width": null,
            "object_fit": null,
            "object_position": null,
            "order": null,
            "overflow": null,
            "overflow_x": null,
            "overflow_y": null,
            "padding": null,
            "right": null,
            "top": null,
            "visibility": null,
            "width": null
          }
        },
        "035ed1c6a0994a8bb2be486a23377cf3": {
          "model_module": "@jupyter-widgets/controls",
          "model_name": "ProgressStyleModel",
          "model_module_version": "1.5.0",
          "state": {
            "_model_module": "@jupyter-widgets/controls",
            "_model_module_version": "1.5.0",
            "_model_name": "ProgressStyleModel",
            "_view_count": null,
            "_view_module": "@jupyter-widgets/base",
            "_view_module_version": "1.2.0",
            "_view_name": "StyleView",
            "bar_color": null,
            "description_width": ""
          }
        },
        "5d5b23820e284aa3b20723a8de22b308": {
          "model_module": "@jupyter-widgets/base",
          "model_name": "LayoutModel",
          "model_module_version": "1.2.0",
          "state": {
            "_model_module": "@jupyter-widgets/base",
            "_model_module_version": "1.2.0",
            "_model_name": "LayoutModel",
            "_view_count": null,
            "_view_module": "@jupyter-widgets/base",
            "_view_module_version": "1.2.0",
            "_view_name": "LayoutView",
            "align_content": null,
            "align_items": null,
            "align_self": null,
            "border": null,
            "bottom": null,
            "display": null,
            "flex": null,
            "flex_flow": null,
            "grid_area": null,
            "grid_auto_columns": null,
            "grid_auto_flow": null,
            "grid_auto_rows": null,
            "grid_column": null,
            "grid_gap": null,
            "grid_row": null,
            "grid_template_areas": null,
            "grid_template_columns": null,
            "grid_template_rows": null,
            "height": null,
            "justify_content": null,
            "justify_items": null,
            "left": null,
            "margin": null,
            "max_height": null,
            "max_width": null,
            "min_height": null,
            "min_width": null,
            "object_fit": null,
            "object_position": null,
            "order": null,
            "overflow": null,
            "overflow_x": null,
            "overflow_y": null,
            "padding": null,
            "right": null,
            "top": null,
            "visibility": null,
            "width": null
          }
        },
        "dacf5e7a7cb7424b9992688e1078eb6a": {
          "model_module": "@jupyter-widgets/controls",
          "model_name": "DescriptionStyleModel",
          "model_module_version": "1.5.0",
          "state": {
            "_model_module": "@jupyter-widgets/controls",
            "_model_module_version": "1.5.0",
            "_model_name": "DescriptionStyleModel",
            "_view_count": null,
            "_view_module": "@jupyter-widgets/base",
            "_view_module_version": "1.2.0",
            "_view_name": "StyleView",
            "description_width": ""
          }
        },
        "598d2debaca74f50870dab4a0316447f": {
          "model_module": "@jupyter-widgets/controls",
          "model_name": "HBoxModel",
          "model_module_version": "1.5.0",
          "state": {
            "_dom_classes": [],
            "_model_module": "@jupyter-widgets/controls",
            "_model_module_version": "1.5.0",
            "_model_name": "HBoxModel",
            "_view_count": null,
            "_view_module": "@jupyter-widgets/controls",
            "_view_module_version": "1.5.0",
            "_view_name": "HBoxView",
            "box_style": "",
            "children": [
              "IPY_MODEL_2003ec1efaf14ae8afd56bcf43ed7f97",
              "IPY_MODEL_f6cb4a43fc8943b3ab884c40d6a8542a",
              "IPY_MODEL_63456ceae3db4e95b71ba09261b33698"
            ],
            "layout": "IPY_MODEL_363fa3f82d694460972f3869bcb755dc"
          }
        },
        "2003ec1efaf14ae8afd56bcf43ed7f97": {
          "model_module": "@jupyter-widgets/controls",
          "model_name": "HTMLModel",
          "model_module_version": "1.5.0",
          "state": {
            "_dom_classes": [],
            "_model_module": "@jupyter-widgets/controls",
            "_model_module_version": "1.5.0",
            "_model_name": "HTMLModel",
            "_view_count": null,
            "_view_module": "@jupyter-widgets/controls",
            "_view_module_version": "1.5.0",
            "_view_name": "HTMLView",
            "description": "",
            "description_tooltip": null,
            "layout": "IPY_MODEL_57b3041297d647b081f028873bc8d52e",
            "placeholder": "​",
            "style": "IPY_MODEL_f7eb9c2d457a4570a4758e2fa0717083",
            "value": "Downloading: 100%"
          }
        },
        "f6cb4a43fc8943b3ab884c40d6a8542a": {
          "model_module": "@jupyter-widgets/controls",
          "model_name": "FloatProgressModel",
          "model_module_version": "1.5.0",
          "state": {
            "_dom_classes": [],
            "_model_module": "@jupyter-widgets/controls",
            "_model_module_version": "1.5.0",
            "_model_name": "FloatProgressModel",
            "_view_count": null,
            "_view_module": "@jupyter-widgets/controls",
            "_view_module_version": "1.5.0",
            "_view_name": "ProgressView",
            "bar_style": "success",
            "description": "",
            "description_tooltip": null,
            "layout": "IPY_MODEL_10ddab30fe474d5fb61a1e585b1ff4a9",
            "max": 629,
            "min": 0,
            "orientation": "horizontal",
            "style": "IPY_MODEL_7d417dfc16a3470ea21ff0aa5a3eb63f",
            "value": 629
          }
        },
        "63456ceae3db4e95b71ba09261b33698": {
          "model_module": "@jupyter-widgets/controls",
          "model_name": "HTMLModel",
          "model_module_version": "1.5.0",
          "state": {
            "_dom_classes": [],
            "_model_module": "@jupyter-widgets/controls",
            "_model_module_version": "1.5.0",
            "_model_name": "HTMLModel",
            "_view_count": null,
            "_view_module": "@jupyter-widgets/controls",
            "_view_module_version": "1.5.0",
            "_view_name": "HTMLView",
            "description": "",
            "description_tooltip": null,
            "layout": "IPY_MODEL_57f2fb15d49f4de7941003f10f9ef1e8",
            "placeholder": "​",
            "style": "IPY_MODEL_65f8ba857a8d443093ea508fad6bd21c",
            "value": " 629/629 [00:00&lt;00:00, 7.69kB/s]"
          }
        },
        "363fa3f82d694460972f3869bcb755dc": {
          "model_module": "@jupyter-widgets/base",
          "model_name": "LayoutModel",
          "model_module_version": "1.2.0",
          "state": {
            "_model_module": "@jupyter-widgets/base",
            "_model_module_version": "1.2.0",
            "_model_name": "LayoutModel",
            "_view_count": null,
            "_view_module": "@jupyter-widgets/base",
            "_view_module_version": "1.2.0",
            "_view_name": "LayoutView",
            "align_content": null,
            "align_items": null,
            "align_self": null,
            "border": null,
            "bottom": null,
            "display": null,
            "flex": null,
            "flex_flow": null,
            "grid_area": null,
            "grid_auto_columns": null,
            "grid_auto_flow": null,
            "grid_auto_rows": null,
            "grid_column": null,
            "grid_gap": null,
            "grid_row": null,
            "grid_template_areas": null,
            "grid_template_columns": null,
            "grid_template_rows": null,
            "height": null,
            "justify_content": null,
            "justify_items": null,
            "left": null,
            "margin": null,
            "max_height": null,
            "max_width": null,
            "min_height": null,
            "min_width": null,
            "object_fit": null,
            "object_position": null,
            "order": null,
            "overflow": null,
            "overflow_x": null,
            "overflow_y": null,
            "padding": null,
            "right": null,
            "top": null,
            "visibility": null,
            "width": null
          }
        },
        "57b3041297d647b081f028873bc8d52e": {
          "model_module": "@jupyter-widgets/base",
          "model_name": "LayoutModel",
          "model_module_version": "1.2.0",
          "state": {
            "_model_module": "@jupyter-widgets/base",
            "_model_module_version": "1.2.0",
            "_model_name": "LayoutModel",
            "_view_count": null,
            "_view_module": "@jupyter-widgets/base",
            "_view_module_version": "1.2.0",
            "_view_name": "LayoutView",
            "align_content": null,
            "align_items": null,
            "align_self": null,
            "border": null,
            "bottom": null,
            "display": null,
            "flex": null,
            "flex_flow": null,
            "grid_area": null,
            "grid_auto_columns": null,
            "grid_auto_flow": null,
            "grid_auto_rows": null,
            "grid_column": null,
            "grid_gap": null,
            "grid_row": null,
            "grid_template_areas": null,
            "grid_template_columns": null,
            "grid_template_rows": null,
            "height": null,
            "justify_content": null,
            "justify_items": null,
            "left": null,
            "margin": null,
            "max_height": null,
            "max_width": null,
            "min_height": null,
            "min_width": null,
            "object_fit": null,
            "object_position": null,
            "order": null,
            "overflow": null,
            "overflow_x": null,
            "overflow_y": null,
            "padding": null,
            "right": null,
            "top": null,
            "visibility": null,
            "width": null
          }
        },
        "f7eb9c2d457a4570a4758e2fa0717083": {
          "model_module": "@jupyter-widgets/controls",
          "model_name": "DescriptionStyleModel",
          "model_module_version": "1.5.0",
          "state": {
            "_model_module": "@jupyter-widgets/controls",
            "_model_module_version": "1.5.0",
            "_model_name": "DescriptionStyleModel",
            "_view_count": null,
            "_view_module": "@jupyter-widgets/base",
            "_view_module_version": "1.2.0",
            "_view_name": "StyleView",
            "description_width": ""
          }
        },
        "10ddab30fe474d5fb61a1e585b1ff4a9": {
          "model_module": "@jupyter-widgets/base",
          "model_name": "LayoutModel",
          "model_module_version": "1.2.0",
          "state": {
            "_model_module": "@jupyter-widgets/base",
            "_model_module_version": "1.2.0",
            "_model_name": "LayoutModel",
            "_view_count": null,
            "_view_module": "@jupyter-widgets/base",
            "_view_module_version": "1.2.0",
            "_view_name": "LayoutView",
            "align_content": null,
            "align_items": null,
            "align_self": null,
            "border": null,
            "bottom": null,
            "display": null,
            "flex": null,
            "flex_flow": null,
            "grid_area": null,
            "grid_auto_columns": null,
            "grid_auto_flow": null,
            "grid_auto_rows": null,
            "grid_column": null,
            "grid_gap": null,
            "grid_row": null,
            "grid_template_areas": null,
            "grid_template_columns": null,
            "grid_template_rows": null,
            "height": null,
            "justify_content": null,
            "justify_items": null,
            "left": null,
            "margin": null,
            "max_height": null,
            "max_width": null,
            "min_height": null,
            "min_width": null,
            "object_fit": null,
            "object_position": null,
            "order": null,
            "overflow": null,
            "overflow_x": null,
            "overflow_y": null,
            "padding": null,
            "right": null,
            "top": null,
            "visibility": null,
            "width": null
          }
        },
        "7d417dfc16a3470ea21ff0aa5a3eb63f": {
          "model_module": "@jupyter-widgets/controls",
          "model_name": "ProgressStyleModel",
          "model_module_version": "1.5.0",
          "state": {
            "_model_module": "@jupyter-widgets/controls",
            "_model_module_version": "1.5.0",
            "_model_name": "ProgressStyleModel",
            "_view_count": null,
            "_view_module": "@jupyter-widgets/base",
            "_view_module_version": "1.2.0",
            "_view_name": "StyleView",
            "bar_color": null,
            "description_width": ""
          }
        },
        "57f2fb15d49f4de7941003f10f9ef1e8": {
          "model_module": "@jupyter-widgets/base",
          "model_name": "LayoutModel",
          "model_module_version": "1.2.0",
          "state": {
            "_model_module": "@jupyter-widgets/base",
            "_model_module_version": "1.2.0",
            "_model_name": "LayoutModel",
            "_view_count": null,
            "_view_module": "@jupyter-widgets/base",
            "_view_module_version": "1.2.0",
            "_view_name": "LayoutView",
            "align_content": null,
            "align_items": null,
            "align_self": null,
            "border": null,
            "bottom": null,
            "display": null,
            "flex": null,
            "flex_flow": null,
            "grid_area": null,
            "grid_auto_columns": null,
            "grid_auto_flow": null,
            "grid_auto_rows": null,
            "grid_column": null,
            "grid_gap": null,
            "grid_row": null,
            "grid_template_areas": null,
            "grid_template_columns": null,
            "grid_template_rows": null,
            "height": null,
            "justify_content": null,
            "justify_items": null,
            "left": null,
            "margin": null,
            "max_height": null,
            "max_width": null,
            "min_height": null,
            "min_width": null,
            "object_fit": null,
            "object_position": null,
            "order": null,
            "overflow": null,
            "overflow_x": null,
            "overflow_y": null,
            "padding": null,
            "right": null,
            "top": null,
            "visibility": null,
            "width": null
          }
        },
        "65f8ba857a8d443093ea508fad6bd21c": {
          "model_module": "@jupyter-widgets/controls",
          "model_name": "DescriptionStyleModel",
          "model_module_version": "1.5.0",
          "state": {
            "_model_module": "@jupyter-widgets/controls",
            "_model_module_version": "1.5.0",
            "_model_name": "DescriptionStyleModel",
            "_view_count": null,
            "_view_module": "@jupyter-widgets/base",
            "_view_module_version": "1.2.0",
            "_view_name": "StyleView",
            "description_width": ""
          }
        },
        "b966ae869cf04d34a1671720452fe547": {
          "model_module": "@jupyter-widgets/controls",
          "model_name": "HBoxModel",
          "model_module_version": "1.5.0",
          "state": {
            "_dom_classes": [],
            "_model_module": "@jupyter-widgets/controls",
            "_model_module_version": "1.5.0",
            "_model_name": "HBoxModel",
            "_view_count": null,
            "_view_module": "@jupyter-widgets/controls",
            "_view_module_version": "1.5.0",
            "_view_name": "HBoxView",
            "box_style": "",
            "children": [
              "IPY_MODEL_48074ab504d4464a91f193b49928006d",
              "IPY_MODEL_caa9db85986e46c5ad3d533dfd6a758b",
              "IPY_MODEL_12903f3211e5473080047e1151a0a330"
            ],
            "layout": "IPY_MODEL_b9fbb8ff1abf4b22b3e8ef7625c3b23d"
          }
        },
        "48074ab504d4464a91f193b49928006d": {
          "model_module": "@jupyter-widgets/controls",
          "model_name": "HTMLModel",
          "model_module_version": "1.5.0",
          "state": {
            "_dom_classes": [],
            "_model_module": "@jupyter-widgets/controls",
            "_model_module_version": "1.5.0",
            "_model_name": "HTMLModel",
            "_view_count": null,
            "_view_module": "@jupyter-widgets/controls",
            "_view_module_version": "1.5.0",
            "_view_name": "HTMLView",
            "description": "",
            "description_tooltip": null,
            "layout": "IPY_MODEL_1e3f2aa5e2494db98a680adc4954fa7e",
            "placeholder": "​",
            "style": "IPY_MODEL_7783152362734feea6a18d108e3fffff",
            "value": "Downloading: 100%"
          }
        },
        "caa9db85986e46c5ad3d533dfd6a758b": {
          "model_module": "@jupyter-widgets/controls",
          "model_name": "FloatProgressModel",
          "model_module_version": "1.5.0",
          "state": {
            "_dom_classes": [],
            "_model_module": "@jupyter-widgets/controls",
            "_model_module_version": "1.5.0",
            "_model_name": "FloatProgressModel",
            "_view_count": null,
            "_view_module": "@jupyter-widgets/controls",
            "_view_module_version": "1.5.0",
            "_view_name": "ProgressView",
            "bar_style": "success",
            "description": "",
            "description_tooltip": null,
            "layout": "IPY_MODEL_2a86adbbb860463f880403928c63439f",
            "max": 231508,
            "min": 0,
            "orientation": "horizontal",
            "style": "IPY_MODEL_75679565e03e4be391a804d7c6da1c9f",
            "value": 231508
          }
        },
        "12903f3211e5473080047e1151a0a330": {
          "model_module": "@jupyter-widgets/controls",
          "model_name": "HTMLModel",
          "model_module_version": "1.5.0",
          "state": {
            "_dom_classes": [],
            "_model_module": "@jupyter-widgets/controls",
            "_model_module_version": "1.5.0",
            "_model_name": "HTMLModel",
            "_view_count": null,
            "_view_module": "@jupyter-widgets/controls",
            "_view_module_version": "1.5.0",
            "_view_name": "HTMLView",
            "description": "",
            "description_tooltip": null,
            "layout": "IPY_MODEL_8f80a82f239340d8849efe856d7b745c",
            "placeholder": "​",
            "style": "IPY_MODEL_3ea3d63e0ae84e2697a399e188cc23a5",
            "value": " 232k/232k [00:00&lt;00:00, 246kB/s]"
          }
        },
        "b9fbb8ff1abf4b22b3e8ef7625c3b23d": {
          "model_module": "@jupyter-widgets/base",
          "model_name": "LayoutModel",
          "model_module_version": "1.2.0",
          "state": {
            "_model_module": "@jupyter-widgets/base",
            "_model_module_version": "1.2.0",
            "_model_name": "LayoutModel",
            "_view_count": null,
            "_view_module": "@jupyter-widgets/base",
            "_view_module_version": "1.2.0",
            "_view_name": "LayoutView",
            "align_content": null,
            "align_items": null,
            "align_self": null,
            "border": null,
            "bottom": null,
            "display": null,
            "flex": null,
            "flex_flow": null,
            "grid_area": null,
            "grid_auto_columns": null,
            "grid_auto_flow": null,
            "grid_auto_rows": null,
            "grid_column": null,
            "grid_gap": null,
            "grid_row": null,
            "grid_template_areas": null,
            "grid_template_columns": null,
            "grid_template_rows": null,
            "height": null,
            "justify_content": null,
            "justify_items": null,
            "left": null,
            "margin": null,
            "max_height": null,
            "max_width": null,
            "min_height": null,
            "min_width": null,
            "object_fit": null,
            "object_position": null,
            "order": null,
            "overflow": null,
            "overflow_x": null,
            "overflow_y": null,
            "padding": null,
            "right": null,
            "top": null,
            "visibility": null,
            "width": null
          }
        },
        "1e3f2aa5e2494db98a680adc4954fa7e": {
          "model_module": "@jupyter-widgets/base",
          "model_name": "LayoutModel",
          "model_module_version": "1.2.0",
          "state": {
            "_model_module": "@jupyter-widgets/base",
            "_model_module_version": "1.2.0",
            "_model_name": "LayoutModel",
            "_view_count": null,
            "_view_module": "@jupyter-widgets/base",
            "_view_module_version": "1.2.0",
            "_view_name": "LayoutView",
            "align_content": null,
            "align_items": null,
            "align_self": null,
            "border": null,
            "bottom": null,
            "display": null,
            "flex": null,
            "flex_flow": null,
            "grid_area": null,
            "grid_auto_columns": null,
            "grid_auto_flow": null,
            "grid_auto_rows": null,
            "grid_column": null,
            "grid_gap": null,
            "grid_row": null,
            "grid_template_areas": null,
            "grid_template_columns": null,
            "grid_template_rows": null,
            "height": null,
            "justify_content": null,
            "justify_items": null,
            "left": null,
            "margin": null,
            "max_height": null,
            "max_width": null,
            "min_height": null,
            "min_width": null,
            "object_fit": null,
            "object_position": null,
            "order": null,
            "overflow": null,
            "overflow_x": null,
            "overflow_y": null,
            "padding": null,
            "right": null,
            "top": null,
            "visibility": null,
            "width": null
          }
        },
        "7783152362734feea6a18d108e3fffff": {
          "model_module": "@jupyter-widgets/controls",
          "model_name": "DescriptionStyleModel",
          "model_module_version": "1.5.0",
          "state": {
            "_model_module": "@jupyter-widgets/controls",
            "_model_module_version": "1.5.0",
            "_model_name": "DescriptionStyleModel",
            "_view_count": null,
            "_view_module": "@jupyter-widgets/base",
            "_view_module_version": "1.2.0",
            "_view_name": "StyleView",
            "description_width": ""
          }
        },
        "2a86adbbb860463f880403928c63439f": {
          "model_module": "@jupyter-widgets/base",
          "model_name": "LayoutModel",
          "model_module_version": "1.2.0",
          "state": {
            "_model_module": "@jupyter-widgets/base",
            "_model_module_version": "1.2.0",
            "_model_name": "LayoutModel",
            "_view_count": null,
            "_view_module": "@jupyter-widgets/base",
            "_view_module_version": "1.2.0",
            "_view_name": "LayoutView",
            "align_content": null,
            "align_items": null,
            "align_self": null,
            "border": null,
            "bottom": null,
            "display": null,
            "flex": null,
            "flex_flow": null,
            "grid_area": null,
            "grid_auto_columns": null,
            "grid_auto_flow": null,
            "grid_auto_rows": null,
            "grid_column": null,
            "grid_gap": null,
            "grid_row": null,
            "grid_template_areas": null,
            "grid_template_columns": null,
            "grid_template_rows": null,
            "height": null,
            "justify_content": null,
            "justify_items": null,
            "left": null,
            "margin": null,
            "max_height": null,
            "max_width": null,
            "min_height": null,
            "min_width": null,
            "object_fit": null,
            "object_position": null,
            "order": null,
            "overflow": null,
            "overflow_x": null,
            "overflow_y": null,
            "padding": null,
            "right": null,
            "top": null,
            "visibility": null,
            "width": null
          }
        },
        "75679565e03e4be391a804d7c6da1c9f": {
          "model_module": "@jupyter-widgets/controls",
          "model_name": "ProgressStyleModel",
          "model_module_version": "1.5.0",
          "state": {
            "_model_module": "@jupyter-widgets/controls",
            "_model_module_version": "1.5.0",
            "_model_name": "ProgressStyleModel",
            "_view_count": null,
            "_view_module": "@jupyter-widgets/base",
            "_view_module_version": "1.2.0",
            "_view_name": "StyleView",
            "bar_color": null,
            "description_width": ""
          }
        },
        "8f80a82f239340d8849efe856d7b745c": {
          "model_module": "@jupyter-widgets/base",
          "model_name": "LayoutModel",
          "model_module_version": "1.2.0",
          "state": {
            "_model_module": "@jupyter-widgets/base",
            "_model_module_version": "1.2.0",
            "_model_name": "LayoutModel",
            "_view_count": null,
            "_view_module": "@jupyter-widgets/base",
            "_view_module_version": "1.2.0",
            "_view_name": "LayoutView",
            "align_content": null,
            "align_items": null,
            "align_self": null,
            "border": null,
            "bottom": null,
            "display": null,
            "flex": null,
            "flex_flow": null,
            "grid_area": null,
            "grid_auto_columns": null,
            "grid_auto_flow": null,
            "grid_auto_rows": null,
            "grid_column": null,
            "grid_gap": null,
            "grid_row": null,
            "grid_template_areas": null,
            "grid_template_columns": null,
            "grid_template_rows": null,
            "height": null,
            "justify_content": null,
            "justify_items": null,
            "left": null,
            "margin": null,
            "max_height": null,
            "max_width": null,
            "min_height": null,
            "min_width": null,
            "object_fit": null,
            "object_position": null,
            "order": null,
            "overflow": null,
            "overflow_x": null,
            "overflow_y": null,
            "padding": null,
            "right": null,
            "top": null,
            "visibility": null,
            "width": null
          }
        },
        "3ea3d63e0ae84e2697a399e188cc23a5": {
          "model_module": "@jupyter-widgets/controls",
          "model_name": "DescriptionStyleModel",
          "model_module_version": "1.5.0",
          "state": {
            "_model_module": "@jupyter-widgets/controls",
            "_model_module_version": "1.5.0",
            "_model_name": "DescriptionStyleModel",
            "_view_count": null,
            "_view_module": "@jupyter-widgets/base",
            "_view_module_version": "1.2.0",
            "_view_name": "StyleView",
            "description_width": ""
          }
        },
        "4a44f7fab9cb4d749a6ef19666d6628b": {
          "model_module": "@jupyter-widgets/controls",
          "model_name": "HBoxModel",
          "model_module_version": "1.5.0",
          "state": {
            "_dom_classes": [],
            "_model_module": "@jupyter-widgets/controls",
            "_model_module_version": "1.5.0",
            "_model_name": "HBoxModel",
            "_view_count": null,
            "_view_module": "@jupyter-widgets/controls",
            "_view_module_version": "1.5.0",
            "_view_name": "HBoxView",
            "box_style": "",
            "children": [
              "IPY_MODEL_93114979689b43a0bfba91fb483dd88c",
              "IPY_MODEL_1a25f81cd8024e26ab8dcdb7797fdf1b",
              "IPY_MODEL_7d624c7b431b4c47b3881c7a4a21ba44"
            ],
            "layout": "IPY_MODEL_7c1423399ee045b3adddf0ad19e97ee5"
          }
        },
        "93114979689b43a0bfba91fb483dd88c": {
          "model_module": "@jupyter-widgets/controls",
          "model_name": "HTMLModel",
          "model_module_version": "1.5.0",
          "state": {
            "_dom_classes": [],
            "_model_module": "@jupyter-widgets/controls",
            "_model_module_version": "1.5.0",
            "_model_name": "HTMLModel",
            "_view_count": null,
            "_view_module": "@jupyter-widgets/controls",
            "_view_module_version": "1.5.0",
            "_view_name": "HTMLView",
            "description": "",
            "description_tooltip": null,
            "layout": "IPY_MODEL_96fb2dbc906343928acbb35dc3f80ebb",
            "placeholder": "​",
            "style": "IPY_MODEL_dd0e7ac1cfc44d528b8d2364a85a9fbf",
            "value": "Downloading: 100%"
          }
        },
        "1a25f81cd8024e26ab8dcdb7797fdf1b": {
          "model_module": "@jupyter-widgets/controls",
          "model_name": "FloatProgressModel",
          "model_module_version": "1.5.0",
          "state": {
            "_dom_classes": [],
            "_model_module": "@jupyter-widgets/controls",
            "_model_module_version": "1.5.0",
            "_model_name": "FloatProgressModel",
            "_view_count": null,
            "_view_module": "@jupyter-widgets/controls",
            "_view_module_version": "1.5.0",
            "_view_name": "ProgressView",
            "bar_style": "success",
            "description": "",
            "description_tooltip": null,
            "layout": "IPY_MODEL_d4b1187354094106b429d6cbbcc4baa6",
            "max": 267844284,
            "min": 0,
            "orientation": "horizontal",
            "style": "IPY_MODEL_61314e9d4d9c40b79311874b9eb99608",
            "value": 267844284
          }
        },
        "7d624c7b431b4c47b3881c7a4a21ba44": {
          "model_module": "@jupyter-widgets/controls",
          "model_name": "HTMLModel",
          "model_module_version": "1.5.0",
          "state": {
            "_dom_classes": [],
            "_model_module": "@jupyter-widgets/controls",
            "_model_module_version": "1.5.0",
            "_model_name": "HTMLModel",
            "_view_count": null,
            "_view_module": "@jupyter-widgets/controls",
            "_view_module_version": "1.5.0",
            "_view_name": "HTMLView",
            "description": "",
            "description_tooltip": null,
            "layout": "IPY_MODEL_e42836af63af4ecdaa13762b88a237cd",
            "placeholder": "​",
            "style": "IPY_MODEL_35ef10e5503841fdb592700d15d4df07",
            "value": " 268M/268M [00:03&lt;00:00, 84.6MB/s]"
          }
        },
        "7c1423399ee045b3adddf0ad19e97ee5": {
          "model_module": "@jupyter-widgets/base",
          "model_name": "LayoutModel",
          "model_module_version": "1.2.0",
          "state": {
            "_model_module": "@jupyter-widgets/base",
            "_model_module_version": "1.2.0",
            "_model_name": "LayoutModel",
            "_view_count": null,
            "_view_module": "@jupyter-widgets/base",
            "_view_module_version": "1.2.0",
            "_view_name": "LayoutView",
            "align_content": null,
            "align_items": null,
            "align_self": null,
            "border": null,
            "bottom": null,
            "display": null,
            "flex": null,
            "flex_flow": null,
            "grid_area": null,
            "grid_auto_columns": null,
            "grid_auto_flow": null,
            "grid_auto_rows": null,
            "grid_column": null,
            "grid_gap": null,
            "grid_row": null,
            "grid_template_areas": null,
            "grid_template_columns": null,
            "grid_template_rows": null,
            "height": null,
            "justify_content": null,
            "justify_items": null,
            "left": null,
            "margin": null,
            "max_height": null,
            "max_width": null,
            "min_height": null,
            "min_width": null,
            "object_fit": null,
            "object_position": null,
            "order": null,
            "overflow": null,
            "overflow_x": null,
            "overflow_y": null,
            "padding": null,
            "right": null,
            "top": null,
            "visibility": null,
            "width": null
          }
        },
        "96fb2dbc906343928acbb35dc3f80ebb": {
          "model_module": "@jupyter-widgets/base",
          "model_name": "LayoutModel",
          "model_module_version": "1.2.0",
          "state": {
            "_model_module": "@jupyter-widgets/base",
            "_model_module_version": "1.2.0",
            "_model_name": "LayoutModel",
            "_view_count": null,
            "_view_module": "@jupyter-widgets/base",
            "_view_module_version": "1.2.0",
            "_view_name": "LayoutView",
            "align_content": null,
            "align_items": null,
            "align_self": null,
            "border": null,
            "bottom": null,
            "display": null,
            "flex": null,
            "flex_flow": null,
            "grid_area": null,
            "grid_auto_columns": null,
            "grid_auto_flow": null,
            "grid_auto_rows": null,
            "grid_column": null,
            "grid_gap": null,
            "grid_row": null,
            "grid_template_areas": null,
            "grid_template_columns": null,
            "grid_template_rows": null,
            "height": null,
            "justify_content": null,
            "justify_items": null,
            "left": null,
            "margin": null,
            "max_height": null,
            "max_width": null,
            "min_height": null,
            "min_width": null,
            "object_fit": null,
            "object_position": null,
            "order": null,
            "overflow": null,
            "overflow_x": null,
            "overflow_y": null,
            "padding": null,
            "right": null,
            "top": null,
            "visibility": null,
            "width": null
          }
        },
        "dd0e7ac1cfc44d528b8d2364a85a9fbf": {
          "model_module": "@jupyter-widgets/controls",
          "model_name": "DescriptionStyleModel",
          "model_module_version": "1.5.0",
          "state": {
            "_model_module": "@jupyter-widgets/controls",
            "_model_module_version": "1.5.0",
            "_model_name": "DescriptionStyleModel",
            "_view_count": null,
            "_view_module": "@jupyter-widgets/base",
            "_view_module_version": "1.2.0",
            "_view_name": "StyleView",
            "description_width": ""
          }
        },
        "d4b1187354094106b429d6cbbcc4baa6": {
          "model_module": "@jupyter-widgets/base",
          "model_name": "LayoutModel",
          "model_module_version": "1.2.0",
          "state": {
            "_model_module": "@jupyter-widgets/base",
            "_model_module_version": "1.2.0",
            "_model_name": "LayoutModel",
            "_view_count": null,
            "_view_module": "@jupyter-widgets/base",
            "_view_module_version": "1.2.0",
            "_view_name": "LayoutView",
            "align_content": null,
            "align_items": null,
            "align_self": null,
            "border": null,
            "bottom": null,
            "display": null,
            "flex": null,
            "flex_flow": null,
            "grid_area": null,
            "grid_auto_columns": null,
            "grid_auto_flow": null,
            "grid_auto_rows": null,
            "grid_column": null,
            "grid_gap": null,
            "grid_row": null,
            "grid_template_areas": null,
            "grid_template_columns": null,
            "grid_template_rows": null,
            "height": null,
            "justify_content": null,
            "justify_items": null,
            "left": null,
            "margin": null,
            "max_height": null,
            "max_width": null,
            "min_height": null,
            "min_width": null,
            "object_fit": null,
            "object_position": null,
            "order": null,
            "overflow": null,
            "overflow_x": null,
            "overflow_y": null,
            "padding": null,
            "right": null,
            "top": null,
            "visibility": null,
            "width": null
          }
        },
        "61314e9d4d9c40b79311874b9eb99608": {
          "model_module": "@jupyter-widgets/controls",
          "model_name": "ProgressStyleModel",
          "model_module_version": "1.5.0",
          "state": {
            "_model_module": "@jupyter-widgets/controls",
            "_model_module_version": "1.5.0",
            "_model_name": "ProgressStyleModel",
            "_view_count": null,
            "_view_module": "@jupyter-widgets/base",
            "_view_module_version": "1.2.0",
            "_view_name": "StyleView",
            "bar_color": null,
            "description_width": ""
          }
        },
        "e42836af63af4ecdaa13762b88a237cd": {
          "model_module": "@jupyter-widgets/base",
          "model_name": "LayoutModel",
          "model_module_version": "1.2.0",
          "state": {
            "_model_module": "@jupyter-widgets/base",
            "_model_module_version": "1.2.0",
            "_model_name": "LayoutModel",
            "_view_count": null,
            "_view_module": "@jupyter-widgets/base",
            "_view_module_version": "1.2.0",
            "_view_name": "LayoutView",
            "align_content": null,
            "align_items": null,
            "align_self": null,
            "border": null,
            "bottom": null,
            "display": null,
            "flex": null,
            "flex_flow": null,
            "grid_area": null,
            "grid_auto_columns": null,
            "grid_auto_flow": null,
            "grid_auto_rows": null,
            "grid_column": null,
            "grid_gap": null,
            "grid_row": null,
            "grid_template_areas": null,
            "grid_template_columns": null,
            "grid_template_rows": null,
            "height": null,
            "justify_content": null,
            "justify_items": null,
            "left": null,
            "margin": null,
            "max_height": null,
            "max_width": null,
            "min_height": null,
            "min_width": null,
            "object_fit": null,
            "object_position": null,
            "order": null,
            "overflow": null,
            "overflow_x": null,
            "overflow_y": null,
            "padding": null,
            "right": null,
            "top": null,
            "visibility": null,
            "width": null
          }
        },
        "35ef10e5503841fdb592700d15d4df07": {
          "model_module": "@jupyter-widgets/controls",
          "model_name": "DescriptionStyleModel",
          "model_module_version": "1.5.0",
          "state": {
            "_model_module": "@jupyter-widgets/controls",
            "_model_module_version": "1.5.0",
            "_model_name": "DescriptionStyleModel",
            "_view_count": null,
            "_view_module": "@jupyter-widgets/base",
            "_view_module_version": "1.2.0",
            "_view_name": "StyleView",
            "description_width": ""
          }
        },
        "1d7469b0ad374afaa7919be1b6324b02": {
          "model_module": "@jupyter-widgets/controls",
          "model_name": "HBoxModel",
          "model_module_version": "1.5.0",
          "state": {
            "_dom_classes": [],
            "_model_module": "@jupyter-widgets/controls",
            "_model_module_version": "1.5.0",
            "_model_name": "HBoxModel",
            "_view_count": null,
            "_view_module": "@jupyter-widgets/controls",
            "_view_module_version": "1.5.0",
            "_view_name": "HBoxView",
            "box_style": "",
            "children": [
              "IPY_MODEL_3daea3075c9447c5ae98202b75a8c0da",
              "IPY_MODEL_e2b8fc050e6d4497b96841c50c853beb",
              "IPY_MODEL_c295fc3004654c87b578e3f5d613fee3"
            ],
            "layout": "IPY_MODEL_c2dc08c4ab664010b41f408951ddf9df"
          }
        },
        "3daea3075c9447c5ae98202b75a8c0da": {
          "model_module": "@jupyter-widgets/controls",
          "model_name": "HTMLModel",
          "model_module_version": "1.5.0",
          "state": {
            "_dom_classes": [],
            "_model_module": "@jupyter-widgets/controls",
            "_model_module_version": "1.5.0",
            "_model_name": "HTMLModel",
            "_view_count": null,
            "_view_module": "@jupyter-widgets/controls",
            "_view_module_version": "1.5.0",
            "_view_name": "HTMLView",
            "description": "",
            "description_tooltip": null,
            "layout": "IPY_MODEL_f9bba213087d44218c863dfdf0d4c2c6",
            "placeholder": "​",
            "style": "IPY_MODEL_121300c05a66427da461e69bfa484873",
            "value": "Downloading: 100%"
          }
        },
        "e2b8fc050e6d4497b96841c50c853beb": {
          "model_module": "@jupyter-widgets/controls",
          "model_name": "FloatProgressModel",
          "model_module_version": "1.5.0",
          "state": {
            "_dom_classes": [],
            "_model_module": "@jupyter-widgets/controls",
            "_model_module_version": "1.5.0",
            "_model_name": "FloatProgressModel",
            "_view_count": null,
            "_view_module": "@jupyter-widgets/controls",
            "_view_module_version": "1.5.0",
            "_view_name": "ProgressView",
            "bar_style": "success",
            "description": "",
            "description_tooltip": null,
            "layout": "IPY_MODEL_e3f8373bf89246aa8e06461d0a0ef2ac",
            "max": 48,
            "min": 0,
            "orientation": "horizontal",
            "style": "IPY_MODEL_164b508a22184b9d8957a9800f20b925",
            "value": 48
          }
        },
        "c295fc3004654c87b578e3f5d613fee3": {
          "model_module": "@jupyter-widgets/controls",
          "model_name": "HTMLModel",
          "model_module_version": "1.5.0",
          "state": {
            "_dom_classes": [],
            "_model_module": "@jupyter-widgets/controls",
            "_model_module_version": "1.5.0",
            "_model_name": "HTMLModel",
            "_view_count": null,
            "_view_module": "@jupyter-widgets/controls",
            "_view_module_version": "1.5.0",
            "_view_name": "HTMLView",
            "description": "",
            "description_tooltip": null,
            "layout": "IPY_MODEL_4b9b81747164496899531a7524925990",
            "placeholder": "​",
            "style": "IPY_MODEL_aa0cb5f4ea594815a09e103fed02bb79",
            "value": " 48.0/48.0 [00:00&lt;00:00, 686B/s]"
          }
        },
        "c2dc08c4ab664010b41f408951ddf9df": {
          "model_module": "@jupyter-widgets/base",
          "model_name": "LayoutModel",
          "model_module_version": "1.2.0",
          "state": {
            "_model_module": "@jupyter-widgets/base",
            "_model_module_version": "1.2.0",
            "_model_name": "LayoutModel",
            "_view_count": null,
            "_view_module": "@jupyter-widgets/base",
            "_view_module_version": "1.2.0",
            "_view_name": "LayoutView",
            "align_content": null,
            "align_items": null,
            "align_self": null,
            "border": null,
            "bottom": null,
            "display": null,
            "flex": null,
            "flex_flow": null,
            "grid_area": null,
            "grid_auto_columns": null,
            "grid_auto_flow": null,
            "grid_auto_rows": null,
            "grid_column": null,
            "grid_gap": null,
            "grid_row": null,
            "grid_template_areas": null,
            "grid_template_columns": null,
            "grid_template_rows": null,
            "height": null,
            "justify_content": null,
            "justify_items": null,
            "left": null,
            "margin": null,
            "max_height": null,
            "max_width": null,
            "min_height": null,
            "min_width": null,
            "object_fit": null,
            "object_position": null,
            "order": null,
            "overflow": null,
            "overflow_x": null,
            "overflow_y": null,
            "padding": null,
            "right": null,
            "top": null,
            "visibility": null,
            "width": null
          }
        },
        "f9bba213087d44218c863dfdf0d4c2c6": {
          "model_module": "@jupyter-widgets/base",
          "model_name": "LayoutModel",
          "model_module_version": "1.2.0",
          "state": {
            "_model_module": "@jupyter-widgets/base",
            "_model_module_version": "1.2.0",
            "_model_name": "LayoutModel",
            "_view_count": null,
            "_view_module": "@jupyter-widgets/base",
            "_view_module_version": "1.2.0",
            "_view_name": "LayoutView",
            "align_content": null,
            "align_items": null,
            "align_self": null,
            "border": null,
            "bottom": null,
            "display": null,
            "flex": null,
            "flex_flow": null,
            "grid_area": null,
            "grid_auto_columns": null,
            "grid_auto_flow": null,
            "grid_auto_rows": null,
            "grid_column": null,
            "grid_gap": null,
            "grid_row": null,
            "grid_template_areas": null,
            "grid_template_columns": null,
            "grid_template_rows": null,
            "height": null,
            "justify_content": null,
            "justify_items": null,
            "left": null,
            "margin": null,
            "max_height": null,
            "max_width": null,
            "min_height": null,
            "min_width": null,
            "object_fit": null,
            "object_position": null,
            "order": null,
            "overflow": null,
            "overflow_x": null,
            "overflow_y": null,
            "padding": null,
            "right": null,
            "top": null,
            "visibility": null,
            "width": null
          }
        },
        "121300c05a66427da461e69bfa484873": {
          "model_module": "@jupyter-widgets/controls",
          "model_name": "DescriptionStyleModel",
          "model_module_version": "1.5.0",
          "state": {
            "_model_module": "@jupyter-widgets/controls",
            "_model_module_version": "1.5.0",
            "_model_name": "DescriptionStyleModel",
            "_view_count": null,
            "_view_module": "@jupyter-widgets/base",
            "_view_module_version": "1.2.0",
            "_view_name": "StyleView",
            "description_width": ""
          }
        },
        "e3f8373bf89246aa8e06461d0a0ef2ac": {
          "model_module": "@jupyter-widgets/base",
          "model_name": "LayoutModel",
          "model_module_version": "1.2.0",
          "state": {
            "_model_module": "@jupyter-widgets/base",
            "_model_module_version": "1.2.0",
            "_model_name": "LayoutModel",
            "_view_count": null,
            "_view_module": "@jupyter-widgets/base",
            "_view_module_version": "1.2.0",
            "_view_name": "LayoutView",
            "align_content": null,
            "align_items": null,
            "align_self": null,
            "border": null,
            "bottom": null,
            "display": null,
            "flex": null,
            "flex_flow": null,
            "grid_area": null,
            "grid_auto_columns": null,
            "grid_auto_flow": null,
            "grid_auto_rows": null,
            "grid_column": null,
            "grid_gap": null,
            "grid_row": null,
            "grid_template_areas": null,
            "grid_template_columns": null,
            "grid_template_rows": null,
            "height": null,
            "justify_content": null,
            "justify_items": null,
            "left": null,
            "margin": null,
            "max_height": null,
            "max_width": null,
            "min_height": null,
            "min_width": null,
            "object_fit": null,
            "object_position": null,
            "order": null,
            "overflow": null,
            "overflow_x": null,
            "overflow_y": null,
            "padding": null,
            "right": null,
            "top": null,
            "visibility": null,
            "width": null
          }
        },
        "164b508a22184b9d8957a9800f20b925": {
          "model_module": "@jupyter-widgets/controls",
          "model_name": "ProgressStyleModel",
          "model_module_version": "1.5.0",
          "state": {
            "_model_module": "@jupyter-widgets/controls",
            "_model_module_version": "1.5.0",
            "_model_name": "ProgressStyleModel",
            "_view_count": null,
            "_view_module": "@jupyter-widgets/base",
            "_view_module_version": "1.2.0",
            "_view_name": "StyleView",
            "bar_color": null,
            "description_width": ""
          }
        },
        "4b9b81747164496899531a7524925990": {
          "model_module": "@jupyter-widgets/base",
          "model_name": "LayoutModel",
          "model_module_version": "1.2.0",
          "state": {
            "_model_module": "@jupyter-widgets/base",
            "_model_module_version": "1.2.0",
            "_model_name": "LayoutModel",
            "_view_count": null,
            "_view_module": "@jupyter-widgets/base",
            "_view_module_version": "1.2.0",
            "_view_name": "LayoutView",
            "align_content": null,
            "align_items": null,
            "align_self": null,
            "border": null,
            "bottom": null,
            "display": null,
            "flex": null,
            "flex_flow": null,
            "grid_area": null,
            "grid_auto_columns": null,
            "grid_auto_flow": null,
            "grid_auto_rows": null,
            "grid_column": null,
            "grid_gap": null,
            "grid_row": null,
            "grid_template_areas": null,
            "grid_template_columns": null,
            "grid_template_rows": null,
            "height": null,
            "justify_content": null,
            "justify_items": null,
            "left": null,
            "margin": null,
            "max_height": null,
            "max_width": null,
            "min_height": null,
            "min_width": null,
            "object_fit": null,
            "object_position": null,
            "order": null,
            "overflow": null,
            "overflow_x": null,
            "overflow_y": null,
            "padding": null,
            "right": null,
            "top": null,
            "visibility": null,
            "width": null
          }
        },
        "aa0cb5f4ea594815a09e103fed02bb79": {
          "model_module": "@jupyter-widgets/controls",
          "model_name": "DescriptionStyleModel",
          "model_module_version": "1.5.0",
          "state": {
            "_model_module": "@jupyter-widgets/controls",
            "_model_module_version": "1.5.0",
            "_model_name": "DescriptionStyleModel",
            "_view_count": null,
            "_view_module": "@jupyter-widgets/base",
            "_view_module_version": "1.2.0",
            "_view_name": "StyleView",
            "description_width": ""
          }
        },
        "bc0922708bda468c94b19f05808ca7de": {
          "model_module": "@jupyter-widgets/controls",
          "model_name": "HBoxModel",
          "model_module_version": "1.5.0",
          "state": {
            "_dom_classes": [],
            "_model_module": "@jupyter-widgets/controls",
            "_model_module_version": "1.5.0",
            "_model_name": "HBoxModel",
            "_view_count": null,
            "_view_module": "@jupyter-widgets/controls",
            "_view_module_version": "1.5.0",
            "_view_name": "HBoxView",
            "box_style": "",
            "children": [
              "IPY_MODEL_4945f387e72047cfaf8e9b27d9de5d80",
              "IPY_MODEL_b44fe753caee4800927cc92823999d8b",
              "IPY_MODEL_52115ef0820e4c84925b2cc3cfb30b1c"
            ],
            "layout": "IPY_MODEL_ce5109426fd44fad93d38a736c717145"
          }
        },
        "4945f387e72047cfaf8e9b27d9de5d80": {
          "model_module": "@jupyter-widgets/controls",
          "model_name": "HTMLModel",
          "model_module_version": "1.5.0",
          "state": {
            "_dom_classes": [],
            "_model_module": "@jupyter-widgets/controls",
            "_model_module_version": "1.5.0",
            "_model_name": "HTMLModel",
            "_view_count": null,
            "_view_module": "@jupyter-widgets/controls",
            "_view_module_version": "1.5.0",
            "_view_name": "HTMLView",
            "description": "",
            "description_tooltip": null,
            "layout": "IPY_MODEL_e6977b47e7f548a787b46cd292b58b7a",
            "placeholder": "​",
            "style": "IPY_MODEL_49f5f337d6f0449aac69b2d67c39f09d",
            "value": "Downloading: 100%"
          }
        },
        "b44fe753caee4800927cc92823999d8b": {
          "model_module": "@jupyter-widgets/controls",
          "model_name": "FloatProgressModel",
          "model_module_version": "1.5.0",
          "state": {
            "_dom_classes": [],
            "_model_module": "@jupyter-widgets/controls",
            "_model_module_version": "1.5.0",
            "_model_name": "FloatProgressModel",
            "_view_count": null,
            "_view_module": "@jupyter-widgets/controls",
            "_view_module_version": "1.5.0",
            "_view_name": "ProgressView",
            "bar_style": "success",
            "description": "",
            "description_tooltip": null,
            "layout": "IPY_MODEL_ac71465a7a834acabf3c1e81ebfb1c36",
            "max": 629,
            "min": 0,
            "orientation": "horizontal",
            "style": "IPY_MODEL_a87de836c47e4d9d8c7aabbd665917ce",
            "value": 629
          }
        },
        "52115ef0820e4c84925b2cc3cfb30b1c": {
          "model_module": "@jupyter-widgets/controls",
          "model_name": "HTMLModel",
          "model_module_version": "1.5.0",
          "state": {
            "_dom_classes": [],
            "_model_module": "@jupyter-widgets/controls",
            "_model_module_version": "1.5.0",
            "_model_name": "HTMLModel",
            "_view_count": null,
            "_view_module": "@jupyter-widgets/controls",
            "_view_module_version": "1.5.0",
            "_view_name": "HTMLView",
            "description": "",
            "description_tooltip": null,
            "layout": "IPY_MODEL_2bdf76c1a85049e5b6349893518bc23e",
            "placeholder": "​",
            "style": "IPY_MODEL_e203926febb7465aaa98a3d45d90b4b8",
            "value": " 629/629 [00:00&lt;00:00, 7.59kB/s]"
          }
        },
        "ce5109426fd44fad93d38a736c717145": {
          "model_module": "@jupyter-widgets/base",
          "model_name": "LayoutModel",
          "model_module_version": "1.2.0",
          "state": {
            "_model_module": "@jupyter-widgets/base",
            "_model_module_version": "1.2.0",
            "_model_name": "LayoutModel",
            "_view_count": null,
            "_view_module": "@jupyter-widgets/base",
            "_view_module_version": "1.2.0",
            "_view_name": "LayoutView",
            "align_content": null,
            "align_items": null,
            "align_self": null,
            "border": null,
            "bottom": null,
            "display": null,
            "flex": null,
            "flex_flow": null,
            "grid_area": null,
            "grid_auto_columns": null,
            "grid_auto_flow": null,
            "grid_auto_rows": null,
            "grid_column": null,
            "grid_gap": null,
            "grid_row": null,
            "grid_template_areas": null,
            "grid_template_columns": null,
            "grid_template_rows": null,
            "height": null,
            "justify_content": null,
            "justify_items": null,
            "left": null,
            "margin": null,
            "max_height": null,
            "max_width": null,
            "min_height": null,
            "min_width": null,
            "object_fit": null,
            "object_position": null,
            "order": null,
            "overflow": null,
            "overflow_x": null,
            "overflow_y": null,
            "padding": null,
            "right": null,
            "top": null,
            "visibility": null,
            "width": null
          }
        },
        "e6977b47e7f548a787b46cd292b58b7a": {
          "model_module": "@jupyter-widgets/base",
          "model_name": "LayoutModel",
          "model_module_version": "1.2.0",
          "state": {
            "_model_module": "@jupyter-widgets/base",
            "_model_module_version": "1.2.0",
            "_model_name": "LayoutModel",
            "_view_count": null,
            "_view_module": "@jupyter-widgets/base",
            "_view_module_version": "1.2.0",
            "_view_name": "LayoutView",
            "align_content": null,
            "align_items": null,
            "align_self": null,
            "border": null,
            "bottom": null,
            "display": null,
            "flex": null,
            "flex_flow": null,
            "grid_area": null,
            "grid_auto_columns": null,
            "grid_auto_flow": null,
            "grid_auto_rows": null,
            "grid_column": null,
            "grid_gap": null,
            "grid_row": null,
            "grid_template_areas": null,
            "grid_template_columns": null,
            "grid_template_rows": null,
            "height": null,
            "justify_content": null,
            "justify_items": null,
            "left": null,
            "margin": null,
            "max_height": null,
            "max_width": null,
            "min_height": null,
            "min_width": null,
            "object_fit": null,
            "object_position": null,
            "order": null,
            "overflow": null,
            "overflow_x": null,
            "overflow_y": null,
            "padding": null,
            "right": null,
            "top": null,
            "visibility": null,
            "width": null
          }
        },
        "49f5f337d6f0449aac69b2d67c39f09d": {
          "model_module": "@jupyter-widgets/controls",
          "model_name": "DescriptionStyleModel",
          "model_module_version": "1.5.0",
          "state": {
            "_model_module": "@jupyter-widgets/controls",
            "_model_module_version": "1.5.0",
            "_model_name": "DescriptionStyleModel",
            "_view_count": null,
            "_view_module": "@jupyter-widgets/base",
            "_view_module_version": "1.2.0",
            "_view_name": "StyleView",
            "description_width": ""
          }
        },
        "ac71465a7a834acabf3c1e81ebfb1c36": {
          "model_module": "@jupyter-widgets/base",
          "model_name": "LayoutModel",
          "model_module_version": "1.2.0",
          "state": {
            "_model_module": "@jupyter-widgets/base",
            "_model_module_version": "1.2.0",
            "_model_name": "LayoutModel",
            "_view_count": null,
            "_view_module": "@jupyter-widgets/base",
            "_view_module_version": "1.2.0",
            "_view_name": "LayoutView",
            "align_content": null,
            "align_items": null,
            "align_self": null,
            "border": null,
            "bottom": null,
            "display": null,
            "flex": null,
            "flex_flow": null,
            "grid_area": null,
            "grid_auto_columns": null,
            "grid_auto_flow": null,
            "grid_auto_rows": null,
            "grid_column": null,
            "grid_gap": null,
            "grid_row": null,
            "grid_template_areas": null,
            "grid_template_columns": null,
            "grid_template_rows": null,
            "height": null,
            "justify_content": null,
            "justify_items": null,
            "left": null,
            "margin": null,
            "max_height": null,
            "max_width": null,
            "min_height": null,
            "min_width": null,
            "object_fit": null,
            "object_position": null,
            "order": null,
            "overflow": null,
            "overflow_x": null,
            "overflow_y": null,
            "padding": null,
            "right": null,
            "top": null,
            "visibility": null,
            "width": null
          }
        },
        "a87de836c47e4d9d8c7aabbd665917ce": {
          "model_module": "@jupyter-widgets/controls",
          "model_name": "ProgressStyleModel",
          "model_module_version": "1.5.0",
          "state": {
            "_model_module": "@jupyter-widgets/controls",
            "_model_module_version": "1.5.0",
            "_model_name": "ProgressStyleModel",
            "_view_count": null,
            "_view_module": "@jupyter-widgets/base",
            "_view_module_version": "1.2.0",
            "_view_name": "StyleView",
            "bar_color": null,
            "description_width": ""
          }
        },
        "2bdf76c1a85049e5b6349893518bc23e": {
          "model_module": "@jupyter-widgets/base",
          "model_name": "LayoutModel",
          "model_module_version": "1.2.0",
          "state": {
            "_model_module": "@jupyter-widgets/base",
            "_model_module_version": "1.2.0",
            "_model_name": "LayoutModel",
            "_view_count": null,
            "_view_module": "@jupyter-widgets/base",
            "_view_module_version": "1.2.0",
            "_view_name": "LayoutView",
            "align_content": null,
            "align_items": null,
            "align_self": null,
            "border": null,
            "bottom": null,
            "display": null,
            "flex": null,
            "flex_flow": null,
            "grid_area": null,
            "grid_auto_columns": null,
            "grid_auto_flow": null,
            "grid_auto_rows": null,
            "grid_column": null,
            "grid_gap": null,
            "grid_row": null,
            "grid_template_areas": null,
            "grid_template_columns": null,
            "grid_template_rows": null,
            "height": null,
            "justify_content": null,
            "justify_items": null,
            "left": null,
            "margin": null,
            "max_height": null,
            "max_width": null,
            "min_height": null,
            "min_width": null,
            "object_fit": null,
            "object_position": null,
            "order": null,
            "overflow": null,
            "overflow_x": null,
            "overflow_y": null,
            "padding": null,
            "right": null,
            "top": null,
            "visibility": null,
            "width": null
          }
        },
        "e203926febb7465aaa98a3d45d90b4b8": {
          "model_module": "@jupyter-widgets/controls",
          "model_name": "DescriptionStyleModel",
          "model_module_version": "1.5.0",
          "state": {
            "_model_module": "@jupyter-widgets/controls",
            "_model_module_version": "1.5.0",
            "_model_name": "DescriptionStyleModel",
            "_view_count": null,
            "_view_module": "@jupyter-widgets/base",
            "_view_module_version": "1.2.0",
            "_view_name": "StyleView",
            "description_width": ""
          }
        },
        "d1e6e74cd8d24558a2848c00934a6bae": {
          "model_module": "@jupyter-widgets/controls",
          "model_name": "HBoxModel",
          "model_module_version": "1.5.0",
          "state": {
            "_dom_classes": [],
            "_model_module": "@jupyter-widgets/controls",
            "_model_module_version": "1.5.0",
            "_model_name": "HBoxModel",
            "_view_count": null,
            "_view_module": "@jupyter-widgets/controls",
            "_view_module_version": "1.5.0",
            "_view_name": "HBoxView",
            "box_style": "",
            "children": [
              "IPY_MODEL_61c8b62bc7034c62909d28f4e02e2ae3",
              "IPY_MODEL_47448df2545b4302b68d022bded14164",
              "IPY_MODEL_0b677126177c4ccf86656da12fcdfa0f"
            ],
            "layout": "IPY_MODEL_44c385e6756647b489e541fd0f08a6d3"
          }
        },
        "61c8b62bc7034c62909d28f4e02e2ae3": {
          "model_module": "@jupyter-widgets/controls",
          "model_name": "HTMLModel",
          "model_module_version": "1.5.0",
          "state": {
            "_dom_classes": [],
            "_model_module": "@jupyter-widgets/controls",
            "_model_module_version": "1.5.0",
            "_model_name": "HTMLModel",
            "_view_count": null,
            "_view_module": "@jupyter-widgets/controls",
            "_view_module_version": "1.5.0",
            "_view_name": "HTMLView",
            "description": "",
            "description_tooltip": null,
            "layout": "IPY_MODEL_f90a7d9b6db34671b93fdfb3a5bb059d",
            "placeholder": "​",
            "style": "IPY_MODEL_35cc3ff830fa473eb216f7466bca06df",
            "value": "Downloading: 100%"
          }
        },
        "47448df2545b4302b68d022bded14164": {
          "model_module": "@jupyter-widgets/controls",
          "model_name": "FloatProgressModel",
          "model_module_version": "1.5.0",
          "state": {
            "_dom_classes": [],
            "_model_module": "@jupyter-widgets/controls",
            "_model_module_version": "1.5.0",
            "_model_name": "FloatProgressModel",
            "_view_count": null,
            "_view_module": "@jupyter-widgets/controls",
            "_view_module_version": "1.5.0",
            "_view_name": "ProgressView",
            "bar_style": "success",
            "description": "",
            "description_tooltip": null,
            "layout": "IPY_MODEL_baadcc612070417e99ee41a70cf44258",
            "max": 231508,
            "min": 0,
            "orientation": "horizontal",
            "style": "IPY_MODEL_d41f8fb14b0e43a48a0e9a1e518d7a15",
            "value": 231508
          }
        },
        "0b677126177c4ccf86656da12fcdfa0f": {
          "model_module": "@jupyter-widgets/controls",
          "model_name": "HTMLModel",
          "model_module_version": "1.5.0",
          "state": {
            "_dom_classes": [],
            "_model_module": "@jupyter-widgets/controls",
            "_model_module_version": "1.5.0",
            "_model_name": "HTMLModel",
            "_view_count": null,
            "_view_module": "@jupyter-widgets/controls",
            "_view_module_version": "1.5.0",
            "_view_name": "HTMLView",
            "description": "",
            "description_tooltip": null,
            "layout": "IPY_MODEL_56855a10e39a469c80e6f572bf55a76c",
            "placeholder": "​",
            "style": "IPY_MODEL_e82da416d28f4f35bbd436c715a4adda",
            "value": " 232k/232k [00:00&lt;00:00, 276kB/s]"
          }
        },
        "44c385e6756647b489e541fd0f08a6d3": {
          "model_module": "@jupyter-widgets/base",
          "model_name": "LayoutModel",
          "model_module_version": "1.2.0",
          "state": {
            "_model_module": "@jupyter-widgets/base",
            "_model_module_version": "1.2.0",
            "_model_name": "LayoutModel",
            "_view_count": null,
            "_view_module": "@jupyter-widgets/base",
            "_view_module_version": "1.2.0",
            "_view_name": "LayoutView",
            "align_content": null,
            "align_items": null,
            "align_self": null,
            "border": null,
            "bottom": null,
            "display": null,
            "flex": null,
            "flex_flow": null,
            "grid_area": null,
            "grid_auto_columns": null,
            "grid_auto_flow": null,
            "grid_auto_rows": null,
            "grid_column": null,
            "grid_gap": null,
            "grid_row": null,
            "grid_template_areas": null,
            "grid_template_columns": null,
            "grid_template_rows": null,
            "height": null,
            "justify_content": null,
            "justify_items": null,
            "left": null,
            "margin": null,
            "max_height": null,
            "max_width": null,
            "min_height": null,
            "min_width": null,
            "object_fit": null,
            "object_position": null,
            "order": null,
            "overflow": null,
            "overflow_x": null,
            "overflow_y": null,
            "padding": null,
            "right": null,
            "top": null,
            "visibility": null,
            "width": null
          }
        },
        "f90a7d9b6db34671b93fdfb3a5bb059d": {
          "model_module": "@jupyter-widgets/base",
          "model_name": "LayoutModel",
          "model_module_version": "1.2.0",
          "state": {
            "_model_module": "@jupyter-widgets/base",
            "_model_module_version": "1.2.0",
            "_model_name": "LayoutModel",
            "_view_count": null,
            "_view_module": "@jupyter-widgets/base",
            "_view_module_version": "1.2.0",
            "_view_name": "LayoutView",
            "align_content": null,
            "align_items": null,
            "align_self": null,
            "border": null,
            "bottom": null,
            "display": null,
            "flex": null,
            "flex_flow": null,
            "grid_area": null,
            "grid_auto_columns": null,
            "grid_auto_flow": null,
            "grid_auto_rows": null,
            "grid_column": null,
            "grid_gap": null,
            "grid_row": null,
            "grid_template_areas": null,
            "grid_template_columns": null,
            "grid_template_rows": null,
            "height": null,
            "justify_content": null,
            "justify_items": null,
            "left": null,
            "margin": null,
            "max_height": null,
            "max_width": null,
            "min_height": null,
            "min_width": null,
            "object_fit": null,
            "object_position": null,
            "order": null,
            "overflow": null,
            "overflow_x": null,
            "overflow_y": null,
            "padding": null,
            "right": null,
            "top": null,
            "visibility": null,
            "width": null
          }
        },
        "35cc3ff830fa473eb216f7466bca06df": {
          "model_module": "@jupyter-widgets/controls",
          "model_name": "DescriptionStyleModel",
          "model_module_version": "1.5.0",
          "state": {
            "_model_module": "@jupyter-widgets/controls",
            "_model_module_version": "1.5.0",
            "_model_name": "DescriptionStyleModel",
            "_view_count": null,
            "_view_module": "@jupyter-widgets/base",
            "_view_module_version": "1.2.0",
            "_view_name": "StyleView",
            "description_width": ""
          }
        },
        "baadcc612070417e99ee41a70cf44258": {
          "model_module": "@jupyter-widgets/base",
          "model_name": "LayoutModel",
          "model_module_version": "1.2.0",
          "state": {
            "_model_module": "@jupyter-widgets/base",
            "_model_module_version": "1.2.0",
            "_model_name": "LayoutModel",
            "_view_count": null,
            "_view_module": "@jupyter-widgets/base",
            "_view_module_version": "1.2.0",
            "_view_name": "LayoutView",
            "align_content": null,
            "align_items": null,
            "align_self": null,
            "border": null,
            "bottom": null,
            "display": null,
            "flex": null,
            "flex_flow": null,
            "grid_area": null,
            "grid_auto_columns": null,
            "grid_auto_flow": null,
            "grid_auto_rows": null,
            "grid_column": null,
            "grid_gap": null,
            "grid_row": null,
            "grid_template_areas": null,
            "grid_template_columns": null,
            "grid_template_rows": null,
            "height": null,
            "justify_content": null,
            "justify_items": null,
            "left": null,
            "margin": null,
            "max_height": null,
            "max_width": null,
            "min_height": null,
            "min_width": null,
            "object_fit": null,
            "object_position": null,
            "order": null,
            "overflow": null,
            "overflow_x": null,
            "overflow_y": null,
            "padding": null,
            "right": null,
            "top": null,
            "visibility": null,
            "width": null
          }
        },
        "d41f8fb14b0e43a48a0e9a1e518d7a15": {
          "model_module": "@jupyter-widgets/controls",
          "model_name": "ProgressStyleModel",
          "model_module_version": "1.5.0",
          "state": {
            "_model_module": "@jupyter-widgets/controls",
            "_model_module_version": "1.5.0",
            "_model_name": "ProgressStyleModel",
            "_view_count": null,
            "_view_module": "@jupyter-widgets/base",
            "_view_module_version": "1.2.0",
            "_view_name": "StyleView",
            "bar_color": null,
            "description_width": ""
          }
        },
        "56855a10e39a469c80e6f572bf55a76c": {
          "model_module": "@jupyter-widgets/base",
          "model_name": "LayoutModel",
          "model_module_version": "1.2.0",
          "state": {
            "_model_module": "@jupyter-widgets/base",
            "_model_module_version": "1.2.0",
            "_model_name": "LayoutModel",
            "_view_count": null,
            "_view_module": "@jupyter-widgets/base",
            "_view_module_version": "1.2.0",
            "_view_name": "LayoutView",
            "align_content": null,
            "align_items": null,
            "align_self": null,
            "border": null,
            "bottom": null,
            "display": null,
            "flex": null,
            "flex_flow": null,
            "grid_area": null,
            "grid_auto_columns": null,
            "grid_auto_flow": null,
            "grid_auto_rows": null,
            "grid_column": null,
            "grid_gap": null,
            "grid_row": null,
            "grid_template_areas": null,
            "grid_template_columns": null,
            "grid_template_rows": null,
            "height": null,
            "justify_content": null,
            "justify_items": null,
            "left": null,
            "margin": null,
            "max_height": null,
            "max_width": null,
            "min_height": null,
            "min_width": null,
            "object_fit": null,
            "object_position": null,
            "order": null,
            "overflow": null,
            "overflow_x": null,
            "overflow_y": null,
            "padding": null,
            "right": null,
            "top": null,
            "visibility": null,
            "width": null
          }
        },
        "e82da416d28f4f35bbd436c715a4adda": {
          "model_module": "@jupyter-widgets/controls",
          "model_name": "DescriptionStyleModel",
          "model_module_version": "1.5.0",
          "state": {
            "_model_module": "@jupyter-widgets/controls",
            "_model_module_version": "1.5.0",
            "_model_name": "DescriptionStyleModel",
            "_view_count": null,
            "_view_module": "@jupyter-widgets/base",
            "_view_module_version": "1.2.0",
            "_view_name": "StyleView",
            "description_width": ""
          }
        }
      }
    }
  },
  "nbformat": 4,
  "nbformat_minor": 0
}