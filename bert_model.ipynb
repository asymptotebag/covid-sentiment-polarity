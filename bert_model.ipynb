{
  "cells": [
    {
      "cell_type": "markdown",
      "metadata": {
        "id": "view-in-github",
        "colab_type": "text"
      },
      "source": [
        "<a href=\"https://colab.research.google.com/github/asymptotebag/covid-sentiment-polarity/blob/master/bert_model.ipynb\" target=\"_parent\"><img src=\"https://colab.research.google.com/assets/colab-badge.svg\" alt=\"Open In Colab\"/></a>"
      ]
    },
    {
      "cell_type": "markdown",
      "metadata": {
        "id": "7_09HYZyQQGj"
      },
      "source": [
        "#Token Sentiment Analysis of COVID-19 Topic Tweets\n",
        "\n",
        "\n",
        "##Preliminary Model/Baseline Results"
      ]
    },
    {
      "cell_type": "code",
      "execution_count": null,
      "metadata": {
        "colab": {
          "base_uri": "https://localhost:8080/"
        },
        "id": "_eU_O6R8dpqG",
        "outputId": "23af6860-f457-4646-8ef6-0e0bab95f152"
      },
      "outputs": [
        {
          "output_type": "stream",
          "name": "stdout",
          "text": [
            "Mounted at /content/drive\n"
          ]
        }
      ],
      "source": [
        "import os\n",
        "from google.colab import drive\n",
        "drive.mount('/content/drive')\n",
        "data_root = '/content/drive/MyDrive/6.8610 Final Project/data/'"
      ]
    },
    {
      "cell_type": "code",
      "execution_count": null,
      "metadata": {
        "colab": {
          "base_uri": "https://localhost:8080/"
        },
        "id": "ZlDeCyqr48z9",
        "outputId": "d44cbd25-6529-48f7-fbc6-afca3e23623c"
      },
      "outputs": [
        {
          "output_type": "stream",
          "name": "stdout",
          "text": [
            "Looking in indexes: https://pypi.org/simple, https://us-python.pkg.dev/colab-wheels/public/simple/\n",
            "Collecting transformers\n",
            "  Downloading transformers-4.25.1-py3-none-any.whl (5.8 MB)\n",
            "\u001b[K     |████████████████████████████████| 5.8 MB 32.0 MB/s \n",
            "\u001b[?25hRequirement already satisfied: regex!=2019.12.17 in /usr/local/lib/python3.8/dist-packages (from transformers) (2022.6.2)\n",
            "Requirement already satisfied: numpy>=1.17 in /usr/local/lib/python3.8/dist-packages (from transformers) (1.21.6)\n",
            "Collecting tokenizers!=0.11.3,<0.14,>=0.11.1\n",
            "  Downloading tokenizers-0.13.2-cp38-cp38-manylinux_2_17_x86_64.manylinux2014_x86_64.whl (7.6 MB)\n",
            "\u001b[K     |████████████████████████████████| 7.6 MB 63.3 MB/s \n",
            "\u001b[?25hRequirement already satisfied: requests in /usr/local/lib/python3.8/dist-packages (from transformers) (2.23.0)\n",
            "Collecting huggingface-hub<1.0,>=0.10.0\n",
            "  Downloading huggingface_hub-0.11.1-py3-none-any.whl (182 kB)\n",
            "\u001b[K     |████████████████████████████████| 182 kB 79.8 MB/s \n",
            "\u001b[?25hRequirement already satisfied: tqdm>=4.27 in /usr/local/lib/python3.8/dist-packages (from transformers) (4.64.1)\n",
            "Requirement already satisfied: filelock in /usr/local/lib/python3.8/dist-packages (from transformers) (3.8.0)\n",
            "Requirement already satisfied: pyyaml>=5.1 in /usr/local/lib/python3.8/dist-packages (from transformers) (6.0)\n",
            "Requirement already satisfied: packaging>=20.0 in /usr/local/lib/python3.8/dist-packages (from transformers) (21.3)\n",
            "Requirement already satisfied: typing-extensions>=3.7.4.3 in /usr/local/lib/python3.8/dist-packages (from huggingface-hub<1.0,>=0.10.0->transformers) (4.1.1)\n",
            "Requirement already satisfied: pyparsing!=3.0.5,>=2.0.2 in /usr/local/lib/python3.8/dist-packages (from packaging>=20.0->transformers) (3.0.9)\n",
            "Requirement already satisfied: chardet<4,>=3.0.2 in /usr/local/lib/python3.8/dist-packages (from requests->transformers) (3.0.4)\n",
            "Requirement already satisfied: urllib3!=1.25.0,!=1.25.1,<1.26,>=1.21.1 in /usr/local/lib/python3.8/dist-packages (from requests->transformers) (1.24.3)\n",
            "Requirement already satisfied: certifi>=2017.4.17 in /usr/local/lib/python3.8/dist-packages (from requests->transformers) (2022.9.24)\n",
            "Requirement already satisfied: idna<3,>=2.5 in /usr/local/lib/python3.8/dist-packages (from requests->transformers) (2.10)\n",
            "Installing collected packages: tokenizers, huggingface-hub, transformers\n",
            "Successfully installed huggingface-hub-0.11.1 tokenizers-0.13.2 transformers-4.25.1\n"
          ]
        }
      ],
      "source": [
        "!pip install transformers"
      ]
    },
    {
      "cell_type": "code",
      "execution_count": null,
      "metadata": {
        "colab": {
          "base_uri": "https://localhost:8080/"
        },
        "id": "VFKi-CFEy8L7",
        "outputId": "6a78293b-8728-47ce-b483-242ee3815620"
      },
      "outputs": [
        {
          "output_type": "stream",
          "name": "stdout",
          "text": [
            "cuda\n",
            "GPU 0: Tesla T4 (UUID: GPU-22d626d9-3eeb-9b10-1f2c-01b6e52157b6)\n"
          ]
        }
      ],
      "source": [
        "import torch \n",
        "BATCH_SIZE = 32\n",
        "EPOCH_NUM = 3\n",
        "device = torch.device('mps') if torch.backends.mps.is_available() else torch.device('cuda') if torch.cuda.is_available() else torch.device('cpu')\n",
        "print(device)\n",
        "!nvidia-smi -L"
      ]
    },
    {
      "cell_type": "markdown",
      "metadata": {
        "id": "MhffU2Dc1dXI"
      },
      "source": [
        "## SEC 0 - SHARED FUNCTIONS"
      ]
    },
    {
      "cell_type": "code",
      "execution_count": null,
      "metadata": {
        "id": "brJgp3-p1nEQ"
      },
      "outputs": [],
      "source": [
        "# TRAIN TEST SPLITTING FUNCTIONS\n",
        "\n",
        "from sklearn.model_selection import train_test_split\n",
        "\n",
        "def prepare_data(df_data, random_state = 27, test_perc = 0.2, val_perc = 0.1, sentiment_type = 'binary_sentiment'):\n",
        "    random_state = 27\n",
        "    test_perc = 0.2\n",
        "\n",
        "    X = df_data['text'].to_numpy()\n",
        "    y = df_data[sentiment_type].to_numpy()\n",
        "\n",
        "    # train test splitting\n",
        "    X_train, X_test, y_train, y_test = train_test_split(X, y, test_size=test_perc, random_state=random_state)\n",
        "    X_train, X_val, y_train, y_val = train_test_split(X_train, y_train, test_size= val_perc/(1-test_perc), random_state=random_state)\n",
        "    \n",
        "    # test correctness\n",
        "    assert len(X_train) == len(y_train)\n",
        "    assert len(X_val) == len(y_val)\n",
        "    assert len(X_test) == len(y_test)\n",
        "    \n",
        "    return X_train, X_val, X_test, y_train, y_val, y_test"
      ]
    },
    {
      "cell_type": "code",
      "execution_count": null,
      "metadata": {
        "id": "vggtnwT21jsm"
      },
      "outputs": [],
      "source": [
        "# PLOTTING FUNCTIONS\n",
        "\n",
        "import seaborn as sns\n",
        "\n",
        "def plot_dataset_dists(df_data, class_type='binary_sentiment'):\n",
        "    f, axarr = plt.subplots(1, 3, figsize=(20, 5))\n",
        "    axarr[0].hist(df_data['sentiment'], bins=20, alpha = 0.4, color='blue')\n",
        "    axarr[0].set_title('Sentiment')\n",
        "\n",
        "    axarr[1].hist(df_data['norm_sentiment'], bins=20, alpha = 0.4, color='blue')\n",
        "    axarr[1].set_title('Normalized sentiment')\n",
        "\n",
        "    sns.countplot(ax = axarr[2],x=df_data[class_type])\n",
        "    axarr[2].set_title('Binary sentiment balance')\n",
        "    plt.show()\n",
        "    \n",
        "def check_label_set_balance(label_sets):\n",
        "    train, val, test = label_sets\n",
        "    \n",
        "    f, axarr = plt.subplots(1, 3, figsize=(20, 5))\n",
        "    sns.countplot(ax = axarr[0],x=train)\n",
        "    axarr[0].set_title('Training binary sentiment balance')\n",
        "    \n",
        "    sns.countplot(ax = axarr[1],x=val)\n",
        "    axarr[1].set_title('Validation binary sentiment balance')\n",
        "    \n",
        "    sns.countplot(ax = axarr[2],x=test)\n",
        "    axarr[2].set_title('Test binary sentiment balance')\n",
        "    \n",
        "    plt.show()"
      ]
    },
    {
      "cell_type": "code",
      "execution_count": null,
      "metadata": {
        "id": "PzcppY-91hI6"
      },
      "outputs": [],
      "source": [
        "def flat_accuracy(preds, labels):\n",
        "    pred_flat = np.argmax(preds, axis=1).flatten()\n",
        "    labels_flat = labels.flatten()\n",
        "    return np.sum(pred_flat == labels_flat) / len(labels_flat)\n",
        "\n",
        "\n",
        "def train_model(model, optimizer, epochs,train_data, val_data):\n",
        "    print('Training model ...')\n",
        "    softmax = nn.Softmax(dim=1)\n",
        "    model.train()\n",
        "    \n",
        "    avg_training_loss, avg_train_acc, avg_val_loss, avg_val_acc = [], [], [], []\n",
        "    \n",
        "    for epoch in range(epochs):\n",
        "        total_train_loss = 0\n",
        "        epoch_correctness = torch.tensor([]).to(device)\n",
        "        # train for one epoch\n",
        "        for batch in tqdm(train_data):\n",
        "            model.zero_grad()\n",
        "            \n",
        "            b_tokens = batch[0].to(device)\n",
        "            b_mask = batch[1].to(device)\n",
        "            b_labels = batch[2].to(device)\n",
        "            \n",
        "            outputs = model(b_tokens, attention_mask=b_mask, labels=b_labels)\n",
        "            # training accuracy prep\n",
        "            class_prob = softmax(outputs.logits)\n",
        "            class_pred = torch.argmax(class_prob, axis=1)\n",
        "            pred_correctness = (class_pred == b_labels)\n",
        "            epoch_correctness = torch.cat((epoch_correctness, pred_correctness))\n",
        "\n",
        "            loss = outputs.loss\n",
        "            total_train_loss += loss.item()\n",
        "            loss.backward()\n",
        "            torch.nn.utils.clip_grad_norm_(model.parameters(), 1.0)\n",
        "            optimizer.step()\n",
        "        \n",
        "        epoch_avg_train_loss = total_train_loss / len(train_data)\n",
        "        epoch_avg_train_accuracy = np.sum(epoch_correctness.detach().cpu().numpy()) / (len(train_data)*BATCH_SIZE)\n",
        "        avg_training_loss.append(epoch_avg_train_loss)\n",
        "        avg_train_acc.append(epoch_avg_train_accuracy)\n",
        "        \n",
        "        # evaluate on validation set after training for one epoch\n",
        "        epoch_avg_val_accuracy, epoch_avg_val_loss = validation_loop(model, val_data)\n",
        "        avg_val_loss.append(epoch_avg_val_loss)\n",
        "        avg_val_acc.append(epoch_avg_val_accuracy)\n",
        "        \n",
        "        print('Epoch: {}, Training Loss: {}, Training Acc: {}, Validation Loss: {}, Validation Accuracy: {}'.format(epoch+1, epoch_avg_train_loss, epoch_avg_train_accuracy, epoch_avg_val_loss, epoch_avg_val_accuracy))\n",
        "        \n",
        "    return model, {'train_loss': avg_training_loss, 'validation_loss': avg_val_loss, 'train_acc': avg_train_acc, 'validation_acc': avg_val_acc}\n",
        "        \n",
        "\n",
        "def validation_loop(model, val_data):\n",
        "    print(\"Running Validation...\")\n",
        "    model.eval()\n",
        "    \n",
        "    total_eval_accuracy = 0\n",
        "    total_eval_loss = 0\n",
        "\n",
        "    with torch.no_grad():\n",
        "        for batch in tqdm(val_data):\n",
        "            b_input_ids = batch[0].to(device)\n",
        "            b_input_mask = batch[1].to(device)\n",
        "            b_labels = batch[2].to(device)\n",
        "            \n",
        "            \n",
        "            outputs = model(b_input_ids, attention_mask=b_input_mask, labels=b_labels)\n",
        "            \n",
        "            loss = outputs.loss\n",
        "            logits = outputs.logits\n",
        "            total_eval_loss += loss.item()\n",
        "\n",
        "            logits = logits.detach().cpu().numpy()\n",
        "            label_ids = b_labels.to('cpu').numpy()\n",
        "\n",
        "            total_eval_accuracy += flat_accuracy(logits, label_ids)\n",
        "    \n",
        "    avg_val_accuracy = total_eval_accuracy / len(val_data)\n",
        "    avg_val_loss = total_eval_loss / len(val_data)\n",
        "\n",
        "\n",
        "    return avg_val_accuracy, avg_val_loss\n"
      ]
    },
    {
      "cell_type": "code",
      "execution_count": null,
      "metadata": {
        "id": "Ws7h7zwR1q9U"
      },
      "outputs": [],
      "source": [
        "import torch\n",
        "import transformers\n",
        "from torch.utils.data import TensorDataset, DataLoader\n",
        "from transformers import AutoTokenizer, AutoModelForSequenceClassification, pipeline, AdamW\n",
        "import torch.nn as nn\n",
        "from tqdm import tqdm\n",
        "\n",
        "def tokenizer_loop(x_data, y_labels, tokenizer):\n",
        "    input_ids = []\n",
        "    attention_masks = []\n",
        "    for sent in x_data:\n",
        "        this_encoding = tokenizer.encode_plus(sent, truncation=True, padding='max_length', max_length = 512, return_attention_mask = True, return_tensors = 'pt')\n",
        "        input_ids.append(this_encoding['input_ids'])\n",
        "        attention_masks.append( this_encoding['attention_mask'])\n",
        "    input_ids = torch.cat(input_ids, dim=0)\n",
        "    attention_masks = torch.cat(attention_masks, dim=0)\n",
        "    labels = torch.tensor(y_labels).type(torch.LongTensor)\n",
        "    tokenized_data = TensorDataset(input_ids, attention_masks, labels)\n",
        "    \n",
        "    return tokenized_data"
      ]
    },
    {
      "cell_type": "markdown",
      "metadata": {
        "id": "hzA9hnKvdXYq"
      },
      "source": [
        "## SEC 1 - Data pre-processing"
      ]
    },
    {
      "cell_type": "code",
      "execution_count": null,
      "metadata": {
        "id": "5fHKtpv4dZDK"
      },
      "outputs": [],
      "source": [
        "import pandas as pd\n",
        "import numpy as np\n",
        "import regex as re\n",
        "import sklearn\n",
        "import matplotlib.pyplot as plt\n",
        "from tqdm import tqdm"
      ]
    },
    {
      "cell_type": "code",
      "execution_count": null,
      "metadata": {
        "id": "h8w7Gal5eJWY",
        "colab": {
          "base_uri": "https://localhost:8080/",
          "height": 257
        },
        "outputId": "cdbff344-b979-407e-e9a3-1351ca518d92"
      },
      "outputs": [
        {
          "output_type": "execute_result",
          "data": {
            "text/plain": [
              "   Unnamed: 0            id  \\\n",
              "0           0  1.342326e+18   \n",
              "1           1  1.342326e+18   \n",
              "2           2  1.342326e+18   \n",
              "\n",
              "                                                text  sentiment  \\\n",
              "0  we wish a grand success for supreme hero for s...   0.278125   \n",
              "1  sorry to disappoint but I ve not make a dollar...  -0.750000   \n",
              "2  this be wild the who change the definition of ...   0.237500   \n",
              "\n",
              "                                               tweet  norm_sentiment  \\\n",
              "0  We wish a grand success for Supreme Hero @IamS...        0.639062   \n",
              "1  Sorry to disappoint, but I’ve not made a dolla...        0.125000   \n",
              "2  This is wild.\\nThe WHO changed the definition ...        0.618750   \n",
              "\n",
              "   binary_sentiment  multiclass_sentiment  \n",
              "0                 1                     2  \n",
              "1                 0                     0  \n",
              "2                 1                     2  "
            ],
            "text/html": [
              "\n",
              "  <div id=\"df-f7aaeb32-b960-4ce5-991c-4317dbccf494\">\n",
              "    <div class=\"colab-df-container\">\n",
              "      <div>\n",
              "<style scoped>\n",
              "    .dataframe tbody tr th:only-of-type {\n",
              "        vertical-align: middle;\n",
              "    }\n",
              "\n",
              "    .dataframe tbody tr th {\n",
              "        vertical-align: top;\n",
              "    }\n",
              "\n",
              "    .dataframe thead th {\n",
              "        text-align: right;\n",
              "    }\n",
              "</style>\n",
              "<table border=\"1\" class=\"dataframe\">\n",
              "  <thead>\n",
              "    <tr style=\"text-align: right;\">\n",
              "      <th></th>\n",
              "      <th>Unnamed: 0</th>\n",
              "      <th>id</th>\n",
              "      <th>text</th>\n",
              "      <th>sentiment</th>\n",
              "      <th>tweet</th>\n",
              "      <th>norm_sentiment</th>\n",
              "      <th>binary_sentiment</th>\n",
              "      <th>multiclass_sentiment</th>\n",
              "    </tr>\n",
              "  </thead>\n",
              "  <tbody>\n",
              "    <tr>\n",
              "      <th>0</th>\n",
              "      <td>0</td>\n",
              "      <td>1.342326e+18</td>\n",
              "      <td>we wish a grand success for supreme hero for s...</td>\n",
              "      <td>0.278125</td>\n",
              "      <td>We wish a grand success for Supreme Hero @IamS...</td>\n",
              "      <td>0.639062</td>\n",
              "      <td>1</td>\n",
              "      <td>2</td>\n",
              "    </tr>\n",
              "    <tr>\n",
              "      <th>1</th>\n",
              "      <td>1</td>\n",
              "      <td>1.342326e+18</td>\n",
              "      <td>sorry to disappoint but I ve not make a dollar...</td>\n",
              "      <td>-0.750000</td>\n",
              "      <td>Sorry to disappoint, but I’ve not made a dolla...</td>\n",
              "      <td>0.125000</td>\n",
              "      <td>0</td>\n",
              "      <td>0</td>\n",
              "    </tr>\n",
              "    <tr>\n",
              "      <th>2</th>\n",
              "      <td>2</td>\n",
              "      <td>1.342326e+18</td>\n",
              "      <td>this be wild the who change the definition of ...</td>\n",
              "      <td>0.237500</td>\n",
              "      <td>This is wild.\\nThe WHO changed the definition ...</td>\n",
              "      <td>0.618750</td>\n",
              "      <td>1</td>\n",
              "      <td>2</td>\n",
              "    </tr>\n",
              "  </tbody>\n",
              "</table>\n",
              "</div>\n",
              "      <button class=\"colab-df-convert\" onclick=\"convertToInteractive('df-f7aaeb32-b960-4ce5-991c-4317dbccf494')\"\n",
              "              title=\"Convert this dataframe to an interactive table.\"\n",
              "              style=\"display:none;\">\n",
              "        \n",
              "  <svg xmlns=\"http://www.w3.org/2000/svg\" height=\"24px\"viewBox=\"0 0 24 24\"\n",
              "       width=\"24px\">\n",
              "    <path d=\"M0 0h24v24H0V0z\" fill=\"none\"/>\n",
              "    <path d=\"M18.56 5.44l.94 2.06.94-2.06 2.06-.94-2.06-.94-.94-2.06-.94 2.06-2.06.94zm-11 1L8.5 8.5l.94-2.06 2.06-.94-2.06-.94L8.5 2.5l-.94 2.06-2.06.94zm10 10l.94 2.06.94-2.06 2.06-.94-2.06-.94-.94-2.06-.94 2.06-2.06.94z\"/><path d=\"M17.41 7.96l-1.37-1.37c-.4-.4-.92-.59-1.43-.59-.52 0-1.04.2-1.43.59L10.3 9.45l-7.72 7.72c-.78.78-.78 2.05 0 2.83L4 21.41c.39.39.9.59 1.41.59.51 0 1.02-.2 1.41-.59l7.78-7.78 2.81-2.81c.8-.78.8-2.07 0-2.86zM5.41 20L4 18.59l7.72-7.72 1.47 1.35L5.41 20z\"/>\n",
              "  </svg>\n",
              "      </button>\n",
              "      \n",
              "  <style>\n",
              "    .colab-df-container {\n",
              "      display:flex;\n",
              "      flex-wrap:wrap;\n",
              "      gap: 12px;\n",
              "    }\n",
              "\n",
              "    .colab-df-convert {\n",
              "      background-color: #E8F0FE;\n",
              "      border: none;\n",
              "      border-radius: 50%;\n",
              "      cursor: pointer;\n",
              "      display: none;\n",
              "      fill: #1967D2;\n",
              "      height: 32px;\n",
              "      padding: 0 0 0 0;\n",
              "      width: 32px;\n",
              "    }\n",
              "\n",
              "    .colab-df-convert:hover {\n",
              "      background-color: #E2EBFA;\n",
              "      box-shadow: 0px 1px 2px rgba(60, 64, 67, 0.3), 0px 1px 3px 1px rgba(60, 64, 67, 0.15);\n",
              "      fill: #174EA6;\n",
              "    }\n",
              "\n",
              "    [theme=dark] .colab-df-convert {\n",
              "      background-color: #3B4455;\n",
              "      fill: #D2E3FC;\n",
              "    }\n",
              "\n",
              "    [theme=dark] .colab-df-convert:hover {\n",
              "      background-color: #434B5C;\n",
              "      box-shadow: 0px 1px 3px 1px rgba(0, 0, 0, 0.15);\n",
              "      filter: drop-shadow(0px 1px 2px rgba(0, 0, 0, 0.3));\n",
              "      fill: #FFFFFF;\n",
              "    }\n",
              "  </style>\n",
              "\n",
              "      <script>\n",
              "        const buttonEl =\n",
              "          document.querySelector('#df-f7aaeb32-b960-4ce5-991c-4317dbccf494 button.colab-df-convert');\n",
              "        buttonEl.style.display =\n",
              "          google.colab.kernel.accessAllowed ? 'block' : 'none';\n",
              "\n",
              "        async function convertToInteractive(key) {\n",
              "          const element = document.querySelector('#df-f7aaeb32-b960-4ce5-991c-4317dbccf494');\n",
              "          const dataTable =\n",
              "            await google.colab.kernel.invokeFunction('convertToInteractive',\n",
              "                                                     [key], {});\n",
              "          if (!dataTable) return;\n",
              "\n",
              "          const docLinkHtml = 'Like what you see? Visit the ' +\n",
              "            '<a target=\"_blank\" href=https://colab.research.google.com/notebooks/data_table.ipynb>data table notebook</a>'\n",
              "            + ' to learn more about interactive tables.';\n",
              "          element.innerHTML = '';\n",
              "          dataTable['output_type'] = 'display_data';\n",
              "          await google.colab.output.renderOutput(dataTable, element);\n",
              "          const docLink = document.createElement('div');\n",
              "          docLink.innerHTML = docLinkHtml;\n",
              "          element.appendChild(docLink);\n",
              "        }\n",
              "      </script>\n",
              "    </div>\n",
              "  </div>\n",
              "  "
            ]
          },
          "metadata": {},
          "execution_count": 9
        }
      ],
      "source": [
        "# load prepared dataset\n",
        "df_tweets = pd.read_csv(os.path.join(data_root, 'preprocessed_tweets.csv'))\n",
        "df_tweets.head(3)"
      ]
    },
    {
      "cell_type": "markdown",
      "metadata": {
        "id": "l7A47npzmKN7"
      },
      "source": [
        "## SEC 2.1: TRAINING Model with Binary limited sentiment"
      ]
    },
    {
      "cell_type": "code",
      "execution_count": null,
      "metadata": {
        "id": "BzSeCkuKq_GH",
        "colab": {
          "base_uri": "https://localhost:8080/",
          "height": 353
        },
        "outputId": "43af1e08-9456-4144-d324-776922f066c6"
      },
      "outputs": [
        {
          "output_type": "stream",
          "name": "stdout",
          "text": [
            "Full dataset\n"
          ]
        },
        {
          "output_type": "display_data",
          "data": {
            "text/plain": [
              "<Figure size 1440x360 with 3 Axes>"
            ],
            "image/png": "[encoded data removed]"
          },
          "metadata": {
            "needs_background": "light"
          }
        }
      ],
      "source": [
        "print('Full dataset')\n",
        "plot_dataset_dists(df_tweets)"
      ]
    },
    {
      "cell_type": "code",
      "execution_count": null,
      "metadata": {
        "id": "d57z3KpFq_GH",
        "colab": {
          "base_uri": "https://localhost:8080/",
          "height": 354
        },
        "outputId": "4d8c4391-bfcd-4264-f578-c1ff9caf3a80"
      },
      "outputs": [
        {
          "output_type": "stream",
          "name": "stdout",
          "text": [
            "Limited dataset with 22401 examples\n"
          ]
        },
        {
          "output_type": "display_data",
          "data": {
            "text/plain": [
              "<Figure size 1440x360 with 3 Axes>"
            ],
            "image/png": "[encoded data removed]"
          },
          "metadata": {
            "needs_background": "light"
          }
        }
      ],
      "source": [
        "# LIMIT THE BINARY DATASET TO MORE CONFIDENT REVIEWS\n",
        "### limit by the normalized sentiment keep values up to 0.3 and from 0.7\n",
        "UPPER_LOWER_BOUND = 0.65\n",
        "LOWER_UPPER_BOUND = 0.4\n",
        "df_tweets_final_binary = df_tweets[(df_tweets['norm_sentiment'] <= LOWER_UPPER_BOUND) | (df_tweets['norm_sentiment'] >= UPPER_LOWER_BOUND)]\n",
        "\n",
        "print('Limited dataset with {} examples'.format(len(df_tweets_final_binary)))\n",
        "plot_dataset_dists(df_tweets_final_binary, 'multiclass_sentiment')"
      ]
    },
    {
      "cell_type": "code",
      "execution_count": null,
      "metadata": {
        "id": "1pFmgGv7g3zV"
      },
      "outputs": [],
      "source": [
        "# TRAIN TEST SPLIT\n",
        "X_train, X_val, X_test, y_train_binary, y_val_binary, y_test_binary = prepare_data(df_tweets_final_binary)"
      ]
    },
    {
      "cell_type": "markdown",
      "metadata": {
        "id": "aR0afzxrq_GI"
      },
      "source": [
        "### Torch Dataset pre-paration"
      ]
    },
    {
      "cell_type": "code",
      "execution_count": null,
      "metadata": {
        "id": "SaNKGgD55K47",
        "colab": {
          "base_uri": "https://localhost:8080/",
          "height": 148,
          "referenced_widgets": [
            "6bee43bc63544707b45d451fe7b479c7",
            "a780e3e3168f4e88a0c31cc58b7b3379",
            "695fc557e3434025b00d401009d110cd",
            "c8c52d72aa174e57b12d667df5a8848a",
            "0d6f6a0386a9498eae0d9174a6c0c2bf",
            "bb53d14ca756458ca78baab169dd61ca",
            "cc9f956c91d44280a70df6c339ce69fb",
            "4377122b98c14e628ebd0d8381a841d1",
            "d28622b350cf4f5482ad7e513e23b9d1",
            "69385f95f89a4a6da8953662b8f820e4",
            "043da9748720472da73fce4b1c9c9a42",
            "b1c0cb1de6fa4f70a9ec29307858902c",
            "d289dce8fc8b47a1aa309b788c4d4abe",
            "659cf2761f054f008eb79eb447fa876e",
            "46f87085efa54013b51ee9beba7b80a3",
            "fabea6d5f10e4ec8814863de011fdfbb",
            "54efe24f6e21474e8577ec4865f32125",
            "be2b796d86f142cf8b878e6b6037628c",
            "f6ef7dc313754afd93e0a27c2c9e6fdd",
            "e022dc95a4344bd394c06901f6899c91",
            "d4710befc18747c8bc85a9764d0f69c9",
            "a3b4b782d1dc4cf2ba06d93ce0376034",
            "f1d2b8a962ef48689c88560011a31f69",
            "6292ad065fb849a8a4febfbb72e62c4d",
            "cf0b5f6d123d4e30abb2b91a2762b187",
            "81e55a37f42944579a31e9094e3bf702",
            "3070ff61439d4ed7929f1560b10d76f3",
            "a357d22f91254f618e70605e3cb03ff9",
            "2e61efddef224b3a8b43b3addbe3e490",
            "32da3a532c214088adc6ba4c1c2754b8",
            "fce494f0cae446e1aa668482c6c28374",
            "db855786f1a849f49c2678927d4090bd",
            "627075904bf741b29196a57c283df4a5"
          ]
        },
        "outputId": "05d99c7e-844d-48de-9a65-9ad6ce829d80"
      },
      "outputs": [
        {
          "output_type": "stream",
          "name": "stdout",
          "text": [
            "cuda\n",
            "GPU 0: Tesla T4 (UUID: GPU-22d626d9-3eeb-9b10-1f2c-01b6e52157b6)\n"
          ]
        },
        {
          "output_type": "display_data",
          "data": {
            "text/plain": [
              "Downloading:   0%|          | 0.00/48.0 [00:00<?, ?B/s]"
            ],
            "application/vnd.jupyter.widget-view+json": {
              "version_major": 2,
              "version_minor": 0,
              "model_id": "6bee43bc63544707b45d451fe7b479c7"
            }
          },
          "metadata": {}
        },
        {
          "output_type": "display_data",
          "data": {
            "text/plain": [
              "Downloading:   0%|          | 0.00/629 [00:00<?, ?B/s]"
            ],
            "application/vnd.jupyter.widget-view+json": {
              "version_major": 2,
              "version_minor": 0,
              "model_id": "b1c0cb1de6fa4f70a9ec29307858902c"
            }
          },
          "metadata": {}
        },
        {
          "output_type": "display_data",
          "data": {
            "text/plain": [
              "Downloading:   0%|          | 0.00/232k [00:00<?, ?B/s]"
            ],
            "application/vnd.jupyter.widget-view+json": {
              "version_major": 2,
              "version_minor": 0,
              "model_id": "f1d2b8a962ef48689c88560011a31f69"
            }
          },
          "metadata": {}
        }
      ],
      "source": [
        "# HYPERPARAMETERS\n",
        "BATCH_SIZE = 32\n",
        "EPOCH_NUM = 3\n",
        "model_name = 'distilbert-base-uncased-finetuned-sst-2-english'\n",
        "device = torch.device('mps') if torch.backends.mps.is_available() else torch.device('cuda') if torch.cuda.is_available() else torch.device('cpu')\n",
        "print(device)\n",
        "!nvidia-smi -L\n",
        "\n",
        "tokenizer = AutoTokenizer.from_pretrained(model_name)"
      ]
    },
    {
      "cell_type": "code",
      "execution_count": null,
      "metadata": {
        "id": "hwNRVvLnq_GI",
        "colab": {
          "base_uri": "https://localhost:8080/",
          "height": 432
        },
        "outputId": "300dce55-1f51-4881-e01a-27fd83acadac"
      },
      "outputs": [
        {
          "output_type": "error",
          "ename": "TypeError",
          "evalue": "ignored",
          "traceback": [
            "\u001b[0;31m---------------------------------------------------------------------------\u001b[0m",
            "\u001b[0;31mTypeError\u001b[0m                                 Traceback (most recent call last)",
            "\u001b[0;32m<ipython-input-14-a5eb087f5129>\u001b[0m in \u001b[0;36m<module>\u001b[0;34m\u001b[0m\n\u001b[1;32m      1\u001b[0m \u001b[0;31m# training data\u001b[0m\u001b[0;34m\u001b[0m\u001b[0;34m\u001b[0m\u001b[0;34m\u001b[0m\u001b[0m\n\u001b[0;32m----> 2\u001b[0;31m \u001b[0mtrain_dataset\u001b[0m \u001b[0;34m=\u001b[0m \u001b[0mtokenizer_loop\u001b[0m\u001b[0;34m(\u001b[0m\u001b[0mX_train\u001b[0m\u001b[0;34m,\u001b[0m \u001b[0my_train_binary\u001b[0m\u001b[0;34m,\u001b[0m \u001b[0mtokenizer\u001b[0m\u001b[0;34m)\u001b[0m\u001b[0;34m\u001b[0m\u001b[0;34m\u001b[0m\u001b[0m\n\u001b[0m\u001b[1;32m      3\u001b[0m \u001b[0mval_dataset\u001b[0m \u001b[0;34m=\u001b[0m \u001b[0mtokenizer_loop\u001b[0m\u001b[0;34m(\u001b[0m\u001b[0mX_val\u001b[0m\u001b[0;34m,\u001b[0m \u001b[0my_val_binary\u001b[0m\u001b[0;34m,\u001b[0m \u001b[0mtokenizer\u001b[0m\u001b[0;34m)\u001b[0m\u001b[0;34m\u001b[0m\u001b[0;34m\u001b[0m\u001b[0m\n\u001b[1;32m      4\u001b[0m \u001b[0mtest_dataset\u001b[0m \u001b[0;34m=\u001b[0m \u001b[0mtokenizer_loop\u001b[0m\u001b[0;34m(\u001b[0m\u001b[0mX_test\u001b[0m\u001b[0;34m,\u001b[0m \u001b[0my_test_binary\u001b[0m\u001b[0;34m,\u001b[0m \u001b[0mtokenizer\u001b[0m\u001b[0;34m)\u001b[0m\u001b[0;34m\u001b[0m\u001b[0;34m\u001b[0m\u001b[0m\n\u001b[1;32m      5\u001b[0m \u001b[0;34m\u001b[0m\u001b[0m\n",
            "\u001b[0;32m<ipython-input-7-d2da585bf9c1>\u001b[0m in \u001b[0;36mtokenizer_loop\u001b[0;34m(x_data, y_labels, tokenizer)\u001b[0m\n\u001b[1;32m     10\u001b[0m     \u001b[0mattention_masks\u001b[0m \u001b[0;34m=\u001b[0m \u001b[0;34m[\u001b[0m\u001b[0;34m]\u001b[0m\u001b[0;34m\u001b[0m\u001b[0;34m\u001b[0m\u001b[0m\n\u001b[1;32m     11\u001b[0m     \u001b[0;32mfor\u001b[0m \u001b[0msent\u001b[0m \u001b[0;32min\u001b[0m \u001b[0mx_data\u001b[0m\u001b[0;34m:\u001b[0m\u001b[0;34m\u001b[0m\u001b[0;34m\u001b[0m\u001b[0m\n\u001b[0;32m---> 12\u001b[0;31m         \u001b[0mthis_encoding\u001b[0m \u001b[0;34m=\u001b[0m \u001b[0mtokenizer\u001b[0m\u001b[0;34m.\u001b[0m\u001b[0mencode_plus\u001b[0m\u001b[0;34m(\u001b[0m\u001b[0msent\u001b[0m\u001b[0;34m,\u001b[0m \u001b[0mtruncation\u001b[0m\u001b[0;34m=\u001b[0m\u001b[0;32mTrue\u001b[0m\u001b[0;34m,\u001b[0m \u001b[0mpadding\u001b[0m\u001b[0;34m=\u001b[0m\u001b[0;34m'max_length'\u001b[0m\u001b[0;34m,\u001b[0m \u001b[0mmax_length\u001b[0m \u001b[0;34m=\u001b[0m \u001b[0;36m512\u001b[0m\u001b[0;34m,\u001b[0m \u001b[0mreturn_attention_mask\u001b[0m \u001b[0;34m=\u001b[0m \u001b[0;32mTrue\u001b[0m\u001b[0;34m,\u001b[0m \u001b[0mreturn_tensors\u001b[0m \u001b[0;34m=\u001b[0m \u001b[0;34m'pt'\u001b[0m\u001b[0;34m)\u001b[0m\u001b[0;34m\u001b[0m\u001b[0;34m\u001b[0m\u001b[0m\n\u001b[0m\u001b[1;32m     13\u001b[0m         \u001b[0minput_ids\u001b[0m\u001b[0;34m.\u001b[0m\u001b[0mappend\u001b[0m\u001b[0;34m(\u001b[0m\u001b[0mthis_encoding\u001b[0m\u001b[0;34m[\u001b[0m\u001b[0;34m'input_ids'\u001b[0m\u001b[0;34m]\u001b[0m\u001b[0;34m)\u001b[0m\u001b[0;34m\u001b[0m\u001b[0;34m\u001b[0m\u001b[0m\n\u001b[1;32m     14\u001b[0m         \u001b[0mattention_masks\u001b[0m\u001b[0;34m.\u001b[0m\u001b[0mappend\u001b[0m\u001b[0;34m(\u001b[0m \u001b[0mthis_encoding\u001b[0m\u001b[0;34m[\u001b[0m\u001b[0;34m'attention_mask'\u001b[0m\u001b[0;34m]\u001b[0m\u001b[0;34m)\u001b[0m\u001b[0;34m\u001b[0m\u001b[0;34m\u001b[0m\u001b[0m\n",
            "\u001b[0;32m/usr/local/lib/python3.8/dist-packages/transformers/tokenization_utils_base.py\u001b[0m in \u001b[0;36mencode_plus\u001b[0;34m(self, text, text_pair, add_special_tokens, padding, truncation, max_length, stride, is_split_into_words, pad_to_multiple_of, return_tensors, return_token_type_ids, return_attention_mask, return_overflowing_tokens, return_special_tokens_mask, return_offsets_mapping, return_length, verbose, **kwargs)\u001b[0m\n\u001b[1;32m   2697\u001b[0m         )\n\u001b[1;32m   2698\u001b[0m \u001b[0;34m\u001b[0m\u001b[0m\n\u001b[0;32m-> 2699\u001b[0;31m         return self._encode_plus(\n\u001b[0m\u001b[1;32m   2700\u001b[0m             \u001b[0mtext\u001b[0m\u001b[0;34m=\u001b[0m\u001b[0mtext\u001b[0m\u001b[0;34m,\u001b[0m\u001b[0;34m\u001b[0m\u001b[0;34m\u001b[0m\u001b[0m\n\u001b[1;32m   2701\u001b[0m             \u001b[0mtext_pair\u001b[0m\u001b[0;34m=\u001b[0m\u001b[0mtext_pair\u001b[0m\u001b[0;34m,\u001b[0m\u001b[0;34m\u001b[0m\u001b[0;34m\u001b[0m\u001b[0m\n",
            "\u001b[0;32m/usr/local/lib/python3.8/dist-packages/transformers/tokenization_utils_fast.py\u001b[0m in \u001b[0;36m_encode_plus\u001b[0;34m(self, text, text_pair, add_special_tokens, padding_strategy, truncation_strategy, max_length, stride, is_split_into_words, pad_to_multiple_of, return_tensors, return_token_type_ids, return_attention_mask, return_overflowing_tokens, return_special_tokens_mask, return_offsets_mapping, return_length, verbose, **kwargs)\u001b[0m\n\u001b[1;32m    500\u001b[0m \u001b[0;34m\u001b[0m\u001b[0m\n\u001b[1;32m    501\u001b[0m         \u001b[0mbatched_input\u001b[0m \u001b[0;34m=\u001b[0m \u001b[0;34m[\u001b[0m\u001b[0;34m(\u001b[0m\u001b[0mtext\u001b[0m\u001b[0;34m,\u001b[0m \u001b[0mtext_pair\u001b[0m\u001b[0;34m)\u001b[0m\u001b[0;34m]\u001b[0m \u001b[0;32mif\u001b[0m \u001b[0mtext_pair\u001b[0m \u001b[0;32melse\u001b[0m \u001b[0;34m[\u001b[0m\u001b[0mtext\u001b[0m\u001b[0;34m]\u001b[0m\u001b[0;34m\u001b[0m\u001b[0;34m\u001b[0m\u001b[0m\n\u001b[0;32m--> 502\u001b[0;31m         batched_output = self._batch_encode_plus(\n\u001b[0m\u001b[1;32m    503\u001b[0m             \u001b[0mbatched_input\u001b[0m\u001b[0;34m,\u001b[0m\u001b[0;34m\u001b[0m\u001b[0;34m\u001b[0m\u001b[0m\n\u001b[1;32m    504\u001b[0m             \u001b[0mis_split_into_words\u001b[0m\u001b[0;34m=\u001b[0m\u001b[0mis_split_into_words\u001b[0m\u001b[0;34m,\u001b[0m\u001b[0;34m\u001b[0m\u001b[0;34m\u001b[0m\u001b[0m\n",
            "\u001b[0;32m/usr/local/lib/python3.8/dist-packages/transformers/tokenization_utils_fast.py\u001b[0m in \u001b[0;36m_batch_encode_plus\u001b[0;34m(self, batch_text_or_text_pairs, add_special_tokens, padding_strategy, truncation_strategy, max_length, stride, is_split_into_words, pad_to_multiple_of, return_tensors, return_token_type_ids, return_attention_mask, return_overflowing_tokens, return_special_tokens_mask, return_offsets_mapping, return_length, verbose)\u001b[0m\n\u001b[1;32m    427\u001b[0m         )\n\u001b[1;32m    428\u001b[0m \u001b[0;34m\u001b[0m\u001b[0m\n\u001b[0;32m--> 429\u001b[0;31m         encodings = self._tokenizer.encode_batch(\n\u001b[0m\u001b[1;32m    430\u001b[0m             \u001b[0mbatch_text_or_text_pairs\u001b[0m\u001b[0;34m,\u001b[0m\u001b[0;34m\u001b[0m\u001b[0;34m\u001b[0m\u001b[0m\n\u001b[1;32m    431\u001b[0m             \u001b[0madd_special_tokens\u001b[0m\u001b[0;34m=\u001b[0m\u001b[0madd_special_tokens\u001b[0m\u001b[0;34m,\u001b[0m\u001b[0;34m\u001b[0m\u001b[0;34m\u001b[0m\u001b[0m\n",
            "\u001b[0;31mTypeError\u001b[0m: TextEncodeInput must be Union[TextInputSequence, Tuple[InputSequence, InputSequence]]"
          ]
        }
      ],
      "source": [
        "# training data\n",
        "train_dataset = tokenizer_loop(X_train, y_train_binary, tokenizer)\n",
        "val_dataset = tokenizer_loop(X_val, y_val_binary, tokenizer)\n",
        "test_dataset = tokenizer_loop(X_test, y_test_binary, tokenizer)\n",
        "\n",
        "# visualize the set balances\n",
        "check_label_set_balance([y_train_binary, y_val_binary, y_test_binary])\n",
        "\n",
        "#Data Loaders\n",
        "train_loader = DataLoader(train_dataset, batch_size=BATCH_SIZE, shuffle=True) #Feel free to experiment with batch sizes\n",
        "val_loader = DataLoader(val_dataset, batch_size=BATCH_SIZE, shuffle=False)\n",
        "test_loader = DataLoader(test_dataset, batch_size=BATCH_SIZE, shuffle=False)"
      ]
    },
    {
      "cell_type": "code",
      "execution_count": null,
      "metadata": {
        "id": "UADyP4vLq_GI"
      },
      "outputs": [],
      "source": [
        "model = AutoModelForSequenceClassification.from_pretrained(model_name, output_attentions = True, output_hidden_states=False, num_labels=2)\n",
        "model = model.to(device)\n",
        "optimizer = AdamW(model.parameters(), lr = 5e-5, eps = 1e-8)\n",
        "\n",
        "model, res_dict = train_model(model, optimizer, EPOCH_NUM, train_loader, val_loader)"
      ]
    },
    {
      "cell_type": "code",
      "execution_count": null,
      "metadata": {
        "id": "lxQZVUwGrHAg"
      },
      "outputs": [],
      "source": [
        "model.save_pretrained(os.path.join(data_root, 'binary_transformer'))"
      ]
    },
    {
      "cell_type": "code",
      "execution_count": null,
      "metadata": {
        "id": "oY1TWoZmsEbV"
      },
      "outputs": [],
      "source": [
        "## PLOT THE RESULTING TRAIN/VAL PERFORMANCE\n",
        "train_acc = res_dict['train_acc']\n",
        "val_acc = res_dict['validation_acc']\n",
        "\n",
        "plt.plot([i+1 for i in range(len(train_acc))],train_acc, alpha = 0.6, label = 'Training', linestyle='--', marker='o', color = 'blue')\n",
        "plt.plot([i+1 for i in range(len(train_acc))],val_acc, alpha = 0.6, label = 'Validation', marker='o', color ='red')\n",
        "plt.xlabel('Epoch')\n",
        "plt.xticks([i+1 for i in range(len(train_acc))])\n",
        "plt.ylabel('Accuracy')\n",
        "plt.title('Accuracy comparison - binary model')\n",
        "plt.legend()\n",
        "plt.show()"
      ]
    },
    {
      "cell_type": "code",
      "execution_count": null,
      "metadata": {
        "id": "lI56JT-ptYfg"
      },
      "outputs": [],
      "source": [
        "## Validate performance on the test set\n",
        "avg_test_accuracy, avg_test_loss = validation_loop(model, test_loader)"
      ]
    },
    {
      "cell_type": "code",
      "execution_count": null,
      "metadata": {
        "id": "ThNBI0meuYHf"
      },
      "outputs": [],
      "source": [
        "print('TEST ACCURACY WAS: {}'.format(avg_test_accuracy))"
      ]
    },
    {
      "cell_type": "markdown",
      "metadata": {
        "id": "V4cvsF6jrzPZ"
      },
      "source": [
        "## SEC 2.2: LOADING AND USING PRE-TRAINED BINARY TRANSFORMER"
      ]
    },
    {
      "cell_type": "code",
      "execution_count": null,
      "metadata": {
        "id": "n91GGz1-zwKb"
      },
      "outputs": [],
      "source": [
        "# HYPERPARAMETERS\n",
        "BATCH_SIZE = 32\n",
        "EPOCH_NUM = 5\n",
        "model_name = 'distilbert-base-uncased-finetuned-sst-2-english'\n",
        "#model_name = 'j-hartmann/sentiment-roberta-large-english-3-classes'\n",
        "device = torch.device('mps') if torch.backends.mps.is_available() else torch.device('cuda') if torch.cuda.is_available() else torch.device('cpu')\n",
        "print(device)\n",
        "!nvidia-smi -L\n",
        "\n",
        "tokenizer = AutoTokenizer.from_pretrained(model_name)"
      ]
    },
    {
      "cell_type": "code",
      "execution_count": null,
      "metadata": {
        "id": "Q2aJWppJr6yH"
      },
      "outputs": [],
      "source": [
        "binary_model = AutoModelForSequenceClassification.from_pretrained(os.path.join(data_root, 'binary_transformer')).to(device)"
      ]
    },
    {
      "cell_type": "markdown",
      "metadata": {
        "id": "K-64cAWjmB8Q"
      },
      "source": [
        "## SEC 3 - TRAINING Model with Neutral Sentiment"
      ]
    },
    {
      "cell_type": "code",
      "execution_count": null,
      "metadata": {
        "colab": {
          "base_uri": "https://localhost:8080/",
          "height": 257
        },
        "id": "MktVmkSXmCNq",
        "outputId": "39cfe1ab-c925-482a-b48e-3a2ccef0fc36"
      },
      "outputs": [
        {
          "output_type": "execute_result",
          "data": {
            "text/plain": [
              "   Unnamed: 0            id  \\\n",
              "0           0  1.342326e+18   \n",
              "1           1  1.342326e+18   \n",
              "2           2  1.342326e+18   \n",
              "\n",
              "                                                text  sentiment  \\\n",
              "0  we wish a grand success for supreme hero for s...   0.278125   \n",
              "1  sorry to disappoint but I ve not make a dollar...  -0.750000   \n",
              "2  this be wild the who change the definition of ...   0.237500   \n",
              "\n",
              "                                               tweet  norm_sentiment  \\\n",
              "0  We wish a grand success for Supreme Hero @IamS...        0.639062   \n",
              "1  Sorry to disappoint, but I’ve not made a dolla...        0.125000   \n",
              "2  This is wild.\\nThe WHO changed the definition ...        0.618750   \n",
              "\n",
              "   binary_sentiment  multiclass_sentiment  \n",
              "0                 1                     2  \n",
              "1                 0                     0  \n",
              "2                 1                     2  "
            ],
            "text/html": [
              "\n",
              "  <div id=\"df-c6582f83-0a6d-406b-92ba-feafd95f477f\">\n",
              "    <div class=\"colab-df-container\">\n",
              "      <div>\n",
              "<style scoped>\n",
              "    .dataframe tbody tr th:only-of-type {\n",
              "        vertical-align: middle;\n",
              "    }\n",
              "\n",
              "    .dataframe tbody tr th {\n",
              "        vertical-align: top;\n",
              "    }\n",
              "\n",
              "    .dataframe thead th {\n",
              "        text-align: right;\n",
              "    }\n",
              "</style>\n",
              "<table border=\"1\" class=\"dataframe\">\n",
              "  <thead>\n",
              "    <tr style=\"text-align: right;\">\n",
              "      <th></th>\n",
              "      <th>Unnamed: 0</th>\n",
              "      <th>id</th>\n",
              "      <th>text</th>\n",
              "      <th>sentiment</th>\n",
              "      <th>tweet</th>\n",
              "      <th>norm_sentiment</th>\n",
              "      <th>binary_sentiment</th>\n",
              "      <th>multiclass_sentiment</th>\n",
              "    </tr>\n",
              "  </thead>\n",
              "  <tbody>\n",
              "    <tr>\n",
              "      <th>0</th>\n",
              "      <td>0</td>\n",
              "      <td>1.342326e+18</td>\n",
              "      <td>we wish a grand success for supreme hero for s...</td>\n",
              "      <td>0.278125</td>\n",
              "      <td>We wish a grand success for Supreme Hero @IamS...</td>\n",
              "      <td>0.639062</td>\n",
              "      <td>1</td>\n",
              "      <td>2</td>\n",
              "    </tr>\n",
              "    <tr>\n",
              "      <th>1</th>\n",
              "      <td>1</td>\n",
              "      <td>1.342326e+18</td>\n",
              "      <td>sorry to disappoint but I ve not make a dollar...</td>\n",
              "      <td>-0.750000</td>\n",
              "      <td>Sorry to disappoint, but I’ve not made a dolla...</td>\n",
              "      <td>0.125000</td>\n",
              "      <td>0</td>\n",
              "      <td>0</td>\n",
              "    </tr>\n",
              "    <tr>\n",
              "      <th>2</th>\n",
              "      <td>2</td>\n",
              "      <td>1.342326e+18</td>\n",
              "      <td>this be wild the who change the definition of ...</td>\n",
              "      <td>0.237500</td>\n",
              "      <td>This is wild.\\nThe WHO changed the definition ...</td>\n",
              "      <td>0.618750</td>\n",
              "      <td>1</td>\n",
              "      <td>2</td>\n",
              "    </tr>\n",
              "  </tbody>\n",
              "</table>\n",
              "</div>\n",
              "      <button class=\"colab-df-convert\" onclick=\"convertToInteractive('df-c6582f83-0a6d-406b-92ba-feafd95f477f')\"\n",
              "              title=\"Convert this dataframe to an interactive table.\"\n",
              "              style=\"display:none;\">\n",
              "        \n",
              "  <svg xmlns=\"http://www.w3.org/2000/svg\" height=\"24px\"viewBox=\"0 0 24 24\"\n",
              "       width=\"24px\">\n",
              "    <path d=\"M0 0h24v24H0V0z\" fill=\"none\"/>\n",
              "    <path d=\"M18.56 5.44l.94 2.06.94-2.06 2.06-.94-2.06-.94-.94-2.06-.94 2.06-2.06.94zm-11 1L8.5 8.5l.94-2.06 2.06-.94-2.06-.94L8.5 2.5l-.94 2.06-2.06.94zm10 10l.94 2.06.94-2.06 2.06-.94-2.06-.94-.94-2.06-.94 2.06-2.06.94z\"/><path d=\"M17.41 7.96l-1.37-1.37c-.4-.4-.92-.59-1.43-.59-.52 0-1.04.2-1.43.59L10.3 9.45l-7.72 7.72c-.78.78-.78 2.05 0 2.83L4 21.41c.39.39.9.59 1.41.59.51 0 1.02-.2 1.41-.59l7.78-7.78 2.81-2.81c.8-.78.8-2.07 0-2.86zM5.41 20L4 18.59l7.72-7.72 1.47 1.35L5.41 20z\"/>\n",
              "  </svg>\n",
              "      </button>\n",
              "      \n",
              "  <style>\n",
              "    .colab-df-container {\n",
              "      display:flex;\n",
              "      flex-wrap:wrap;\n",
              "      gap: 12px;\n",
              "    }\n",
              "\n",
              "    .colab-df-convert {\n",
              "      background-color: #E8F0FE;\n",
              "      border: none;\n",
              "      border-radius: 50%;\n",
              "      cursor: pointer;\n",
              "      display: none;\n",
              "      fill: #1967D2;\n",
              "      height: 32px;\n",
              "      padding: 0 0 0 0;\n",
              "      width: 32px;\n",
              "    }\n",
              "\n",
              "    .colab-df-convert:hover {\n",
              "      background-color: #E2EBFA;\n",
              "      box-shadow: 0px 1px 2px rgba(60, 64, 67, 0.3), 0px 1px 3px 1px rgba(60, 64, 67, 0.15);\n",
              "      fill: #174EA6;\n",
              "    }\n",
              "\n",
              "    [theme=dark] .colab-df-convert {\n",
              "      background-color: #3B4455;\n",
              "      fill: #D2E3FC;\n",
              "    }\n",
              "\n",
              "    [theme=dark] .colab-df-convert:hover {\n",
              "      background-color: #434B5C;\n",
              "      box-shadow: 0px 1px 3px 1px rgba(0, 0, 0, 0.15);\n",
              "      filter: drop-shadow(0px 1px 2px rgba(0, 0, 0, 0.3));\n",
              "      fill: #FFFFFF;\n",
              "    }\n",
              "  </style>\n",
              "\n",
              "      <script>\n",
              "        const buttonEl =\n",
              "          document.querySelector('#df-c6582f83-0a6d-406b-92ba-feafd95f477f button.colab-df-convert');\n",
              "        buttonEl.style.display =\n",
              "          google.colab.kernel.accessAllowed ? 'block' : 'none';\n",
              "\n",
              "        async function convertToInteractive(key) {\n",
              "          const element = document.querySelector('#df-c6582f83-0a6d-406b-92ba-feafd95f477f');\n",
              "          const dataTable =\n",
              "            await google.colab.kernel.invokeFunction('convertToInteractive',\n",
              "                                                     [key], {});\n",
              "          if (!dataTable) return;\n",
              "\n",
              "          const docLinkHtml = 'Like what you see? Visit the ' +\n",
              "            '<a target=\"_blank\" href=https://colab.research.google.com/notebooks/data_table.ipynb>data table notebook</a>'\n",
              "            + ' to learn more about interactive tables.';\n",
              "          element.innerHTML = '';\n",
              "          dataTable['output_type'] = 'display_data';\n",
              "          await google.colab.output.renderOutput(dataTable, element);\n",
              "          const docLink = document.createElement('div');\n",
              "          docLink.innerHTML = docLinkHtml;\n",
              "          element.appendChild(docLink);\n",
              "        }\n",
              "      </script>\n",
              "    </div>\n",
              "  </div>\n",
              "  "
            ]
          },
          "metadata": {},
          "execution_count": 14
        }
      ],
      "source": [
        "# add multiclass to the dataset\n",
        "negative_bound = 0.4\n",
        "positive_bound = 0.6\n",
        "\n",
        "def multiclass_sentiment(val):\n",
        "    if val >= positive_bound:\n",
        "        return 2\n",
        "    elif val <= negative_bound:\n",
        "        return 0\n",
        "    else:\n",
        "        return 1\n",
        "\n",
        "df_tweets['multiclass_sentiment'] = df_tweets['norm_sentiment'].apply(multiclass_sentiment)\n",
        "df_tweets.head(3)"
      ]
    },
    {
      "cell_type": "code",
      "execution_count": null,
      "metadata": {
        "id": "7Dccn-uswtZG"
      },
      "outputs": [],
      "source": [
        "# super imbalanced .....\n",
        "print('Full dataset')\n",
        "plot_dataset_dists(df_tweets, 'multiclass_sentiment')"
      ]
    },
    {
      "cell_type": "code",
      "execution_count": null,
      "metadata": {
        "id": "BgspyakBw0GS"
      },
      "outputs": [],
      "source": [
        "# DOWNSAMPLE THE TWEETS to have balanced dataset\n",
        "\n",
        "def sample_tweets(sample_size, df):\n",
        "    sample_size = min(sample_size, len(df))\n",
        "    return df.sample(n=sample_size)\n",
        "\n",
        "# sample size\n",
        "SAMPLE_SIZE = 10000\n",
        "\n",
        "negative_tweets = sample_tweets(SAMPLE_SIZE, df_tweets[df_tweets['multiclass_sentiment'] == 0])\n",
        "neutral_tweets = sample_tweets(SAMPLE_SIZE, df_tweets[df_tweets['multiclass_sentiment'] == 1])\n",
        "positive_tweets = sample_tweets(SAMPLE_SIZE, df_tweets[df_tweets['multiclass_sentiment'] == 2])\n",
        "\n",
        "print('Lengths are neg: {} neutral: {} pos: {}'.format(len(negative_tweets), len(neutral_tweets), len(positive_tweets)))\n",
        "\n",
        "# PUT TOGETHER\n",
        "df_tweets_final_multiclass = pd.concat([negative_tweets, neutral_tweets, positive_tweets])\n",
        "plot_dataset_dists(df_tweets_final_multiclass, 'multiclass_sentiment')"
      ]
    },
    {
      "cell_type": "code",
      "execution_count": null,
      "metadata": {
        "id": "AJS5vguBxChF"
      },
      "outputs": [],
      "source": [
        "X_train, X_val, X_test, y_train_multiclass, y_val_multiclass, y_test_multiclass = prepare_data(df_tweets_final_multiclass, sentiment_type = 'multiclass_sentiment')"
      ]
    },
    {
      "cell_type": "code",
      "execution_count": null,
      "metadata": {
        "id": "A3MY0Z3sxv37"
      },
      "outputs": [],
      "source": [
        "# HYPERPARAMETERS\n",
        "BATCH_SIZE = 32\n",
        "EPOCH_NUM = 5\n",
        "model_name = 'distilbert-base-uncased-finetuned-sst-2-english'\n",
        "#model_name = 'j-hartmann/sentiment-roberta-large-english-3-classes'\n",
        "device = torch.device('mps') if torch.backends.mps.is_available() else torch.device('cuda') if torch.cuda.is_available() else torch.device('cpu')\n",
        "print(device)\n",
        "!nvidia-smi -L\n",
        "\n",
        "tokenizer = AutoTokenizer.from_pretrained(model_name)"
      ]
    },
    {
      "cell_type": "code",
      "execution_count": null,
      "metadata": {
        "id": "LyAnMdAv0qLM"
      },
      "outputs": [],
      "source": [
        "# training data\n",
        "train_dataset = tokenizer_loop(X_train, y_train_multiclass, tokenizer)\n",
        "val_dataset = tokenizer_loop(X_val, y_val_multiclass, tokenizer)\n",
        "test_dataset = tokenizer_loop(X_test, y_test_multiclass, tokenizer)\n",
        "\n",
        "# visualize the set balances\n",
        "check_label_set_balance([y_train_multiclass, y_val_multiclass, y_test_multiclass])\n",
        "\n",
        "#Data Loaders\n",
        "train_loader = DataLoader(train_dataset, batch_size=BATCH_SIZE, shuffle=True) #Feel free to experiment with batch sizes\n",
        "val_loader = DataLoader(val_dataset, batch_size=BATCH_SIZE, shuffle=False)\n",
        "test_loader = DataLoader(test_dataset, batch_size=BATCH_SIZE, shuffle=False)"
      ]
    },
    {
      "cell_type": "code",
      "execution_count": null,
      "metadata": {
        "id": "rcZdz6zZ53RP"
      },
      "outputs": [],
      "source": [
        "del df_tweets"
      ]
    },
    {
      "cell_type": "code",
      "execution_count": null,
      "metadata": {
        "id": "E_kv-Z9I0rAV"
      },
      "outputs": [],
      "source": [
        "multiclass_model = AutoModelForSequenceClassification.from_pretrained(model_name, output_attentions = True, output_hidden_states=False, num_labels=3, ignore_mismatched_sizes=True)\n",
        "multiclass_model = multiclass_model.to(device)"
      ]
    },
    {
      "cell_type": "code",
      "execution_count": null,
      "metadata": {
        "id": "61eSYI1859qg"
      },
      "outputs": [],
      "source": [
        "optimizer = AdamW(multiclass_model.parameters(), lr = 5e-5, eps = 1e-8)\n",
        "\n",
        "multiclass_model, res_dict = train_model(multiclass_model, optimizer, EPOCH_NUM, train_loader, val_loader)"
      ]
    },
    {
      "cell_type": "code",
      "execution_count": null,
      "metadata": {
        "id": "VkL_BR6k2kci"
      },
      "outputs": [],
      "source": [
        "multiclass_model.save_pretrained(os.path.join(data_root, 'multiclass_transformer'))"
      ]
    },
    {
      "cell_type": "code",
      "execution_count": null,
      "metadata": {
        "id": "i5F71pW6ICtV"
      },
      "outputs": [],
      "source": [
        "## PLOT THE RESULTING TRAIN/VAL PERFORMANCE\n",
        "train_acc = res_dict['train_acc']\n",
        "val_acc = res_dict['validation_acc']\n",
        "\n",
        "plt.plot([i+1 for i in range(len(train_acc))],train_acc, alpha = 0.6, label = 'Training', linestyle='--', marker='o', color = 'blue')\n",
        "plt.plot([i+1 for i in range(len(train_acc))],val_acc, alpha = 0.6, label = 'Validation', marker='o', color ='red')\n",
        "plt.xlabel('Epoch')\n",
        "plt.xticks([i+1 for i in range(len(train_acc))])\n",
        "plt.ylabel('Accuracy')\n",
        "plt.title('Accuracy comparison - multiclass model')\n",
        "plt.legend()\n",
        "plt.show()"
      ]
    },
    {
      "cell_type": "code",
      "execution_count": null,
      "metadata": {
        "id": "eWQAvAVXIPeU"
      },
      "outputs": [],
      "source": [
        "avg_test_accuracy, avg_test_loss = validation_loop(multiclass_model, test_loader)\n",
        "print('\\n TEST ACCURACY WAS: {}'.format(avg_test_accuracy))"
      ]
    },
    {
      "cell_type": "code",
      "execution_count": null,
      "metadata": {
        "colab": {
          "base_uri": "https://localhost:8080/",
          "height": 217
        },
        "id": "H8x45jsVIUCR",
        "outputId": "06352f2e-fb7b-4c44-a9c6-618490f192a8"
      },
      "outputs": [
        {
          "ename": "NameError",
          "evalue": "ignored",
          "output_type": "error",
          "traceback": [
            "\u001b[0;31m---------------------------------------------------------------------------\u001b[0m",
            "\u001b[0;31mNameError\u001b[0m                                 Traceback (most recent call last)",
            "\u001b[0;32m<ipython-input-4-3b7b97847acf>\u001b[0m in \u001b[0;36m<module>\u001b[0;34m\u001b[0m\n\u001b[0;32m----> 1\u001b[0;31m \u001b[0minpt\u001b[0m \u001b[0;34m=\u001b[0m \u001b[0mtokenizer\u001b[0m\u001b[0;34m(\u001b[0m\u001b[0;34m'I hate wearing a mask.'\u001b[0m\u001b[0;34m,\u001b[0m \u001b[0mreturn_tensors\u001b[0m\u001b[0;34m=\u001b[0m\u001b[0;34m'pt'\u001b[0m\u001b[0;34m)\u001b[0m\u001b[0;34m\u001b[0m\u001b[0;34m\u001b[0m\u001b[0m\n\u001b[0m\u001b[1;32m      2\u001b[0m \u001b[0moutpt\u001b[0m \u001b[0;34m=\u001b[0m \u001b[0mmulticlass_model\u001b[0m\u001b[0;34m(\u001b[0m\u001b[0minpt\u001b[0m\u001b[0;34m[\u001b[0m\u001b[0;34m'input_ids'\u001b[0m\u001b[0;34m]\u001b[0m\u001b[0;34m.\u001b[0m\u001b[0mto\u001b[0m\u001b[0;34m(\u001b[0m\u001b[0mdevice\u001b[0m\u001b[0;34m)\u001b[0m\u001b[0;34m,\u001b[0m \u001b[0mattention_mask\u001b[0m\u001b[0;34m=\u001b[0m\u001b[0minpt\u001b[0m\u001b[0;34m[\u001b[0m\u001b[0;34m'attention_mask'\u001b[0m\u001b[0;34m]\u001b[0m\u001b[0;34m.\u001b[0m\u001b[0mto\u001b[0m\u001b[0;34m(\u001b[0m\u001b[0mdevice\u001b[0m\u001b[0;34m)\u001b[0m\u001b[0;34m)\u001b[0m\u001b[0;34m\u001b[0m\u001b[0;34m\u001b[0m\u001b[0m\n\u001b[1;32m      3\u001b[0m \u001b[0matt\u001b[0m \u001b[0;34m=\u001b[0m \u001b[0moutpt\u001b[0m\u001b[0;34m[\u001b[0m\u001b[0;34m'attentions'\u001b[0m\u001b[0;34m]\u001b[0m\u001b[0;34m\u001b[0m\u001b[0;34m\u001b[0m\u001b[0m\n\u001b[1;32m      4\u001b[0m \u001b[0moutpt\u001b[0m\u001b[0;34m.\u001b[0m\u001b[0mlogits\u001b[0m\u001b[0;34m\u001b[0m\u001b[0;34m\u001b[0m\u001b[0m\n",
            "\u001b[0;31mNameError\u001b[0m: name 'tokenizer' is not defined"
          ]
        }
      ],
      "source": [
        "inpt = tokenizer('I hate wearing a mask.', return_tensors='pt')\n",
        "outpt = multiclass_model(inpt['input_ids'].to(device), attention_mask=inpt['attention_mask'].to(device))\n",
        "att = outpt['attentions']\n",
        "outpt.logits"
      ]
    },
    {
      "cell_type": "code",
      "execution_count": null,
      "metadata": {
        "id": "eyDy5xOtnkyV"
      },
      "outputs": [],
      "source": [
        "# 6 layers in the model, each layer has 12 attention heads, each head is NxN attention matrix -> CLS + word_len + SEP\n",
        "print(len(att))\n",
        "for level in att:\n",
        "    print(level.shape)"
      ]
    },
    {
      "cell_type": "code",
      "execution_count": null,
      "metadata": {
        "colab": {
          "base_uri": "https://localhost:8080/",
          "height": 200
        },
        "id": "8sXXLBAwoJXm",
        "outputId": "09f994b3-217e-4e7d-dffa-888c257caf4a"
      },
      "outputs": [
        {
          "ename": "NameError",
          "evalue": "ignored",
          "output_type": "error",
          "traceback": [
            "\u001b[0;31m---------------------------------------------------------------------------\u001b[0m",
            "\u001b[0;31mNameError\u001b[0m                                 Traceback (most recent call last)",
            "\u001b[0;32m<ipython-input-5-679ca8c01859>\u001b[0m in \u001b[0;36m<module>\u001b[0;34m\u001b[0m\n\u001b[0;32m----> 1\u001b[0;31m \u001b[0minpt\u001b[0m \u001b[0;34m=\u001b[0m \u001b[0mtorch\u001b[0m\u001b[0;34m.\u001b[0m\u001b[0mzeros\u001b[0m\u001b[0;34m(\u001b[0m\u001b[0mlen\u001b[0m\u001b[0;34m(\u001b[0m\u001b[0mtorch\u001b[0m\u001b[0;34m.\u001b[0m\u001b[0mround\u001b[0m\u001b[0;34m(\u001b[0m\u001b[0matt\u001b[0m\u001b[0;34m[\u001b[0m\u001b[0;36m5\u001b[0m\u001b[0;34m]\u001b[0m\u001b[0;34m,\u001b[0m \u001b[0mdecimals\u001b[0m\u001b[0;34m=\u001b[0m\u001b[0;36m3\u001b[0m\u001b[0;34m)\u001b[0m\u001b[0;34m[\u001b[0m\u001b[0;36m0\u001b[0m\u001b[0;34m]\u001b[0m\u001b[0;34m[\u001b[0m\u001b[0;36m0\u001b[0m\u001b[0;34m]\u001b[0m\u001b[0;34m[\u001b[0m\u001b[0;36m0\u001b[0m\u001b[0;34m]\u001b[0m\u001b[0;34m)\u001b[0m\u001b[0;34m)\u001b[0m\u001b[0;34m.\u001b[0m\u001b[0mto\u001b[0m\u001b[0;34m(\u001b[0m\u001b[0mdevice\u001b[0m\u001b[0;34m)\u001b[0m\u001b[0;34m\u001b[0m\u001b[0;34m\u001b[0m\u001b[0m\n\u001b[0m\u001b[1;32m      2\u001b[0m \u001b[0;32mfor\u001b[0m \u001b[0mi\u001b[0m \u001b[0;32min\u001b[0m \u001b[0mrange\u001b[0m\u001b[0;34m(\u001b[0m\u001b[0;36m12\u001b[0m\u001b[0;34m)\u001b[0m\u001b[0;34m:\u001b[0m\u001b[0;34m\u001b[0m\u001b[0;34m\u001b[0m\u001b[0m\n\u001b[1;32m      3\u001b[0m     \u001b[0minpt\u001b[0m \u001b[0;34m+=\u001b[0m \u001b[0mtorch\u001b[0m\u001b[0;34m.\u001b[0m\u001b[0mround\u001b[0m\u001b[0;34m(\u001b[0m\u001b[0matt\u001b[0m\u001b[0;34m[\u001b[0m\u001b[0;36m5\u001b[0m\u001b[0;34m]\u001b[0m\u001b[0;34m,\u001b[0m \u001b[0mdecimals\u001b[0m\u001b[0;34m=\u001b[0m\u001b[0;36m5\u001b[0m\u001b[0;34m)\u001b[0m\u001b[0;34m[\u001b[0m\u001b[0;36m0\u001b[0m\u001b[0;34m]\u001b[0m\u001b[0;34m[\u001b[0m\u001b[0mi\u001b[0m\u001b[0;34m]\u001b[0m\u001b[0;34m[\u001b[0m\u001b[0;36m0\u001b[0m\u001b[0;34m]\u001b[0m\u001b[0;34m\u001b[0m\u001b[0;34m\u001b[0m\u001b[0m\n",
            "\u001b[0;31mNameError\u001b[0m: name 'att' is not defined"
          ]
        }
      ],
      "source": [
        "inpt = torch.zeros(len(torch.round(att[5], decimals=3)[0][0][0])).to(device)\n",
        "for i in range(12):\n",
        "    inpt += torch.round(att[5], decimals=5)[0][i][0]"
      ]
    },
    {
      "cell_type": "code",
      "execution_count": null,
      "metadata": {
        "colab": {
          "base_uri": "https://localhost:8080/",
          "height": 165
        },
        "id": "GQkXmC9OolKt",
        "outputId": "1f50dfe2-d0cb-4fb0-df8e-04ee6b644763"
      },
      "outputs": [
        {
          "ename": "NameError",
          "evalue": "ignored",
          "output_type": "error",
          "traceback": [
            "\u001b[0;31m---------------------------------------------------------------------------\u001b[0m",
            "\u001b[0;31mNameError\u001b[0m                                 Traceback (most recent call last)",
            "\u001b[0;32m<ipython-input-6-d482cf6f4b02>\u001b[0m in \u001b[0;36m<module>\u001b[0;34m\u001b[0m\n\u001b[0;32m----> 1\u001b[0;31m \u001b[0minpt\u001b[0m\u001b[0;34m[\u001b[0m\u001b[0;36m1\u001b[0m\u001b[0;34m:\u001b[0m\u001b[0;34m-\u001b[0m\u001b[0;36m1\u001b[0m\u001b[0;34m]\u001b[0m\u001b[0;34m\u001b[0m\u001b[0;34m\u001b[0m\u001b[0m\n\u001b[0m",
            "\u001b[0;31mNameError\u001b[0m: name 'inpt' is not defined"
          ]
        }
      ],
      "source": [
        "inpt[1:-1]"
      ]
    },
    {
      "cell_type": "code",
      "execution_count": null,
      "metadata": {
        "id": "4mRHBNGzo6o1"
      },
      "outputs": [],
      "source": [
        "torch.round(att[5], decimals=3)[0][0][0] + torch.round(att[5], decimals=3)[0][0][0] + torch.round(att[5], decimals=3)[0][0][0]"
      ]
    },
    {
      "cell_type": "markdown",
      "metadata": {
        "id": "qtwt_QmOrBwG"
      },
      "source": [
        "## SEC 3.1 - Loading pretrained multiclass model"
      ]
    },
    {
      "cell_type": "code",
      "source": [
        "# add multiclass to the dataset\n",
        "negative_bound = 0.4\n",
        "positive_bound = 0.6\n",
        "\n",
        "def multiclass_sentiment(val):\n",
        "    if val >= positive_bound:\n",
        "        return 2\n",
        "    elif val <= negative_bound:\n",
        "        return 0\n",
        "    else:\n",
        "        return 1\n",
        "\n",
        "df_tweets['multiclass_sentiment'] = df_tweets['norm_sentiment'].apply(multiclass_sentiment)\n",
        "df_tweets.head(3)"
      ],
      "metadata": {
        "colab": {
          "base_uri": "https://localhost:8080/",
          "height": 503
        },
        "id": "moNcEK1aRlCZ",
        "outputId": "98447a8b-eb8d-4d22-9c04-b4ed125b6a14"
      },
      "execution_count": null,
      "outputs": [
        {
          "output_type": "execute_result",
          "data": {
            "text/plain": [
              "   Unnamed: 0            id  \\\n",
              "0           0  1.342326e+18   \n",
              "1           1  1.342326e+18   \n",
              "2           2  1.342326e+18   \n",
              "\n",
              "                                                text  sentiment  \\\n",
              "0  we wish a grand success for supreme hero for s...   0.278125   \n",
              "1  sorry to disappoint but I ve not make a dollar...  -0.750000   \n",
              "2  this be wild the who change the definition of ...   0.237500   \n",
              "\n",
              "                                               tweet  norm_sentiment  \\\n",
              "0  We wish a grand success for Supreme Hero @IamS...        0.639062   \n",
              "1  Sorry to disappoint, but I’ve not made a dolla...        0.125000   \n",
              "2  This is wild.\\nThe WHO changed the definition ...        0.618750   \n",
              "\n",
              "   binary_sentiment  multiclass_sentiment  \n",
              "0                 1                     2  \n",
              "1                 0                     0  \n",
              "2                 1                     2  "
            ],
            "text/html": [
              "\n",
              "  <div id=\"df-51593d7d-228c-46c7-8af6-6cb3d005a7d8\">\n",
              "    <div class=\"colab-df-container\">\n",
              "      <div>\n",
              "<style scoped>\n",
              "    .dataframe tbody tr th:only-of-type {\n",
              "        vertical-align: middle;\n",
              "    }\n",
              "\n",
              "    .dataframe tbody tr th {\n",
              "        vertical-align: top;\n",
              "    }\n",
              "\n",
              "    .dataframe thead th {\n",
              "        text-align: right;\n",
              "    }\n",
              "</style>\n",
              "<table border=\"1\" class=\"dataframe\">\n",
              "  <thead>\n",
              "    <tr style=\"text-align: right;\">\n",
              "      <th></th>\n",
              "      <th>Unnamed: 0</th>\n",
              "      <th>id</th>\n",
              "      <th>text</th>\n",
              "      <th>sentiment</th>\n",
              "      <th>tweet</th>\n",
              "      <th>norm_sentiment</th>\n",
              "      <th>binary_sentiment</th>\n",
              "      <th>multiclass_sentiment</th>\n",
              "    </tr>\n",
              "  </thead>\n",
              "  <tbody>\n",
              "    <tr>\n",
              "      <th>0</th>\n",
              "      <td>0</td>\n",
              "      <td>1.342326e+18</td>\n",
              "      <td>we wish a grand success for supreme hero for s...</td>\n",
              "      <td>0.278125</td>\n",
              "      <td>We wish a grand success for Supreme Hero @IamS...</td>\n",
              "      <td>0.639062</td>\n",
              "      <td>1</td>\n",
              "      <td>2</td>\n",
              "    </tr>\n",
              "    <tr>\n",
              "      <th>1</th>\n",
              "      <td>1</td>\n",
              "      <td>1.342326e+18</td>\n",
              "      <td>sorry to disappoint but I ve not make a dollar...</td>\n",
              "      <td>-0.750000</td>\n",
              "      <td>Sorry to disappoint, but I’ve not made a dolla...</td>\n",
              "      <td>0.125000</td>\n",
              "      <td>0</td>\n",
              "      <td>0</td>\n",
              "    </tr>\n",
              "    <tr>\n",
              "      <th>2</th>\n",
              "      <td>2</td>\n",
              "      <td>1.342326e+18</td>\n",
              "      <td>this be wild the who change the definition of ...</td>\n",
              "      <td>0.237500</td>\n",
              "      <td>This is wild.\\nThe WHO changed the definition ...</td>\n",
              "      <td>0.618750</td>\n",
              "      <td>1</td>\n",
              "      <td>2</td>\n",
              "    </tr>\n",
              "  </tbody>\n",
              "</table>\n",
              "</div>\n",
              "      <button class=\"colab-df-convert\" onclick=\"convertToInteractive('df-51593d7d-228c-46c7-8af6-6cb3d005a7d8')\"\n",
              "              title=\"Convert this dataframe to an interactive table.\"\n",
              "              style=\"display:none;\">\n",
              "        \n",
              "  <svg xmlns=\"http://www.w3.org/2000/svg\" height=\"24px\"viewBox=\"0 0 24 24\"\n",
              "       width=\"24px\">\n",
              "    <path d=\"M0 0h24v24H0V0z\" fill=\"none\"/>\n",
              "    <path d=\"M18.56 5.44l.94 2.06.94-2.06 2.06-.94-2.06-.94-.94-2.06-.94 2.06-2.06.94zm-11 1L8.5 8.5l.94-2.06 2.06-.94-2.06-.94L8.5 2.5l-.94 2.06-2.06.94zm10 10l.94 2.06.94-2.06 2.06-.94-2.06-.94-.94-2.06-.94 2.06-2.06.94z\"/><path d=\"M17.41 7.96l-1.37-1.37c-.4-.4-.92-.59-1.43-.59-.52 0-1.04.2-1.43.59L10.3 9.45l-7.72 7.72c-.78.78-.78 2.05 0 2.83L4 21.41c.39.39.9.59 1.41.59.51 0 1.02-.2 1.41-.59l7.78-7.78 2.81-2.81c.8-.78.8-2.07 0-2.86zM5.41 20L4 18.59l7.72-7.72 1.47 1.35L5.41 20z\"/>\n",
              "  </svg>\n",
              "      </button>\n",
              "      \n",
              "  <style>\n",
              "    .colab-df-container {\n",
              "      display:flex;\n",
              "      flex-wrap:wrap;\n",
              "      gap: 12px;\n",
              "    }\n",
              "\n",
              "    .colab-df-convert {\n",
              "      background-color: #E8F0FE;\n",
              "      border: none;\n",
              "      border-radius: 50%;\n",
              "      cursor: pointer;\n",
              "      display: none;\n",
              "      fill: #1967D2;\n",
              "      height: 32px;\n",
              "      padding: 0 0 0 0;\n",
              "      width: 32px;\n",
              "    }\n",
              "\n",
              "    .colab-df-convert:hover {\n",
              "      background-color: #E2EBFA;\n",
              "      box-shadow: 0px 1px 2px rgba(60, 64, 67, 0.3), 0px 1px 3px 1px rgba(60, 64, 67, 0.15);\n",
              "      fill: #174EA6;\n",
              "    }\n",
              "\n",
              "    [theme=dark] .colab-df-convert {\n",
              "      background-color: #3B4455;\n",
              "      fill: #D2E3FC;\n",
              "    }\n",
              "\n",
              "    [theme=dark] .colab-df-convert:hover {\n",
              "      background-color: #434B5C;\n",
              "      box-shadow: 0px 1px 3px 1px rgba(0, 0, 0, 0.15);\n",
              "      filter: drop-shadow(0px 1px 2px rgba(0, 0, 0, 0.3));\n",
              "      fill: #FFFFFF;\n",
              "    }\n",
              "  </style>\n",
              "\n",
              "      <script>\n",
              "        const buttonEl =\n",
              "          document.querySelector('#df-51593d7d-228c-46c7-8af6-6cb3d005a7d8 button.colab-df-convert');\n",
              "        buttonEl.style.display =\n",
              "          google.colab.kernel.accessAllowed ? 'block' : 'none';\n",
              "\n",
              "        async function convertToInteractive(key) {\n",
              "          const element = document.querySelector('#df-51593d7d-228c-46c7-8af6-6cb3d005a7d8');\n",
              "          const dataTable =\n",
              "            await google.colab.kernel.invokeFunction('convertToInteractive',\n",
              "                                                     [key], {});\n",
              "          if (!dataTable) return;\n",
              "\n",
              "          const docLinkHtml = 'Like what you see? Visit the ' +\n",
              "            '<a target=\"_blank\" href=https://colab.research.google.com/notebooks/data_table.ipynb>data table notebook</a>'\n",
              "            + ' to learn more about interactive tables.';\n",
              "          element.innerHTML = '';\n",
              "          dataTable['output_type'] = 'display_data';\n",
              "          await google.colab.output.renderOutput(dataTable, element);\n",
              "          const docLink = document.createElement('div');\n",
              "          docLink.innerHTML = docLinkHtml;\n",
              "          element.appendChild(docLink);\n",
              "        }\n",
              "      </script>\n",
              "    </div>\n",
              "  </div>\n",
              "  "
            ]
          },
          "metadata": {},
          "execution_count": 10
        }
      ]
    },
    {
      "cell_type": "code",
      "execution_count": null,
      "metadata": {
        "colab": {
          "base_uri": "https://localhost:8080/",
          "height": 336,
          "referenced_widgets": [
            "2c073d4b97034cd58f019d5991f29938",
            "d79f997e5c334a4d803c2c6e2fd7c86b",
            "1de4b257fbe64f54acd9a1d2cb12ff54",
            "ced8f2cb0c6248679ec4eef2904927f3",
            "ecc7f0445b12484a8d4a033951ea4af6",
            "4e274e9bb8b049538fa0a532601970ae",
            "66a36cce17934352ad527fe974aa1010",
            "8df7eb19e9634639a38b1a935f0c6f2f",
            "a382dcf3259d489384f55d40ca3af3be",
            "42569c38f84e4ffea1d3e5127c6e593e",
            "92739ea8206d43e2aebd53d7050a744f",
            "a9832f9a8a5f483982e91ae4a029d48b",
            "36381c4bf51f474db35f22094e9d7b74",
            "7cd968d7672643d7b855486769a11ac0",
            "d27acf7562084c5587f73d187685605b",
            "ab532cc432d74c81bd4a0e0d8b116486",
            "6aed2adec5fe439fb48c039c60788e27",
            "1c77955873bf430381664c1b4a297935",
            "df7d053d5b9c43f886a2fc793fb14144",
            "d4d6bb810c7444ecb2df700f3caa2273",
            "547a0c569003445eb752ffe7de61e8e7",
            "516381f857aa42abb77be325d9161044",
            "f0f3fdfcb8ea40759d0ba8780f8421b1",
            "7a3c79df6cb6483482975c0b1c93b457",
            "b1767797d0be4375987b2cd360a1e8c2",
            "e3c55a5f088341bc877d9ce54e1983b5",
            "09e398de9e3b4070a4ec294b73a17e19",
            "8c85597c162a48e6b567e8e33a5d7df1",
            "2147af9e85f7464d8122f00bec866ccc",
            "9bfa330e9ced4f4e859103bac7ca4160",
            "d36f1c3a6a7e4bccb832257ff06bd400",
            "391d0bb095f84bef9a20177838aa5857",
            "f1c94489b464455f8c3a3accb5e8a05c"
          ]
        },
        "id": "I67_LvO8zp-Q",
        "outputId": "b9fc9643-f940-41b9-c3be-579f2fa9e33c"
      },
      "outputs": [
        {
          "output_type": "stream",
          "name": "stdout",
          "text": [
            "cuda\n",
            "GPU 0: Tesla T4 (UUID: GPU-c6a4db7c-8b41-58e7-fd06-74b4f2b4a071)\n"
          ]
        },
        {
          "output_type": "display_data",
          "data": {
            "text/plain": [
              "Downloading:   0%|          | 0.00/48.0 [00:00<?, ?B/s]"
            ],
            "application/vnd.jupyter.widget-view+json": {
              "version_major": 2,
              "version_minor": 0,
              "model_id": "2c073d4b97034cd58f019d5991f29938"
            }
          },
          "metadata": {}
        },
        {
          "output_type": "display_data",
          "data": {
            "text/plain": [
              "Downloading:   0%|          | 0.00/629 [00:00<?, ?B/s]"
            ],
            "application/vnd.jupyter.widget-view+json": {
              "version_major": 2,
              "version_minor": 0,
              "model_id": "a9832f9a8a5f483982e91ae4a029d48b"
            }
          },
          "metadata": {}
        },
        {
          "output_type": "display_data",
          "data": {
            "text/plain": [
              "Downloading:   0%|          | 0.00/232k [00:00<?, ?B/s]"
            ],
            "application/vnd.jupyter.widget-view+json": {
              "version_major": 2,
              "version_minor": 0,
              "model_id": "f0f3fdfcb8ea40759d0ba8780f8421b1"
            }
          },
          "metadata": {}
        }
      ],
      "source": [
        "# HYPERPARAMETERS\n",
        "BATCH_SIZE = 32\n",
        "EPOCH_NUM = 3\n",
        "model_name = 'distilbert-base-uncased-finetuned-sst-2-english'\n",
        "device = torch.device('mps') if torch.backends.mps.is_available() else torch.device('cuda') if torch.cuda.is_available() else torch.device('cpu')\n",
        "print(device)\n",
        "!nvidia-smi -L\n",
        "\n",
        "tokenizer = AutoTokenizer.from_pretrained(model_name)"
      ]
    },
    {
      "cell_type": "code",
      "execution_count": null,
      "metadata": {
        "id": "M-5V7ql7rDHL"
      },
      "outputs": [],
      "source": [
        "multiclass_model = AutoModelForSequenceClassification.from_pretrained(os.path.join(data_root, 'multiclass_transformer')).to(device)"
      ]
    },
    {
      "cell_type": "markdown",
      "metadata": {
        "id": "bDlMhoVfywHl"
      },
      "source": [
        "## Vizualize attention"
      ]
    },
    {
      "cell_type": "markdown",
      "source": [
        "# New section"
      ],
      "metadata": {
        "id": "u23Ky3rtGNmt"
      }
    },
    {
      "cell_type": "code",
      "execution_count": null,
      "metadata": {
        "colab": {
          "base_uri": "https://localhost:8080/",
          "height": 88
        },
        "id": "5JjLcCz88Dti",
        "outputId": "5b048334-0fbc-4d18-a50e-7be68c335494"
      },
      "outputs": [
        {
          "output_type": "stream",
          "name": "stdout",
          "text": [
            "Label: 2\n",
            "Label: 0.8125\n",
            "Tweet: More horror! https://t.co/AbZkRYTBlE\n"
          ]
        },
        {
          "output_type": "execute_result",
          "data": {
            "text/plain": [
              "'more horror '"
            ],
            "application/vnd.google.colaboratory.intrinsic+json": {
              "type": "string"
            }
          },
          "metadata": {},
          "execution_count": 15
        }
      ],
      "source": [
        "i = 150\n",
        "print('Label: {}'.format(df_tweets['multiclass_sentiment'][i]))\n",
        "print('Label: {}'.format(df_tweets['norm_sentiment'][i]))\n",
        "print('Tweet: {}'.format(df_tweets['tweet'][i]))\n",
        "df_tweets['text'][i]"
      ]
    },
    {
      "cell_type": "code",
      "execution_count": null,
      "metadata": {
        "colab": {
          "base_uri": "https://localhost:8080/",
          "height": 125
        },
        "id": "M2a73puK9kOd",
        "outputId": "529d77ad-297d-4e6e-eb67-12348eb7ccdc"
      },
      "outputs": [
        {
          "output_type": "stream",
          "name": "stdout",
          "text": [
            "Label: 2\n",
            "Label: 0.75\n",
            "Tweet: I bought a beaver pond. This parcel, adjacent to ours, was being sold under power of sale. For many reasons, there was a very real danger of a buyer destroying it ecologically. So we scraped together money and rescued it. 🦫 🐢 🐍 🐸 https://t.co/im53K1mxNr https://t.co/o3mxTY3Wr2\n"
          ]
        },
        {
          "output_type": "execute_result",
          "data": {
            "text/plain": [
              "'I buy a beaver pond this parcel adjacent to ours be be sell under power of sale for many reason there be a very real danger of a buyer destroy it ecologically so we scrape together money and rescue it '"
            ],
            "application/vnd.google.colaboratory.intrinsic+json": {
              "type": "string"
            }
          },
          "metadata": {},
          "execution_count": 16
        }
      ],
      "source": [
        "i = 450\n",
        "print('Label: {}'.format(df_tweets['multiclass_sentiment'][i]))\n",
        "print('Label: {}'.format(df_tweets['norm_sentiment'][i]))\n",
        "print('Tweet: {}'.format(df_tweets['tweet'][i]))\n",
        "df_tweets['text'][i]"
      ]
    },
    {
      "cell_type": "code",
      "execution_count": null,
      "metadata": {
        "colab": {
          "base_uri": "https://localhost:8080/",
          "height": 125
        },
        "id": "h6WPFK0u9yZt",
        "outputId": "2af51e80-a525-4ec3-a74e-6cc9b6a1e9ef"
      },
      "outputs": [
        {
          "output_type": "stream",
          "name": "stdout",
          "text": [
            "Label: 2\n",
            "Label: 0.6390625\n",
            "Tweet: We wish a grand success for Supreme Hero @IamSaiDharamTej, @SVCCofficial for #SoloBrathukeSoBetter release. First Major Theatrical release post lockdown. Watch the movie only in theatres. #CelebrateCinema https://t.co/gjyEFPSOni\n"
          ]
        },
        {
          "output_type": "execute_result",
          "data": {
            "text/plain": [
              "'we wish a grand success for supreme hero for solobrathukesobetter release first major theatrical release post lockdown watch the movie only in theatre celebratecinema'"
            ],
            "application/vnd.google.colaboratory.intrinsic+json": {
              "type": "string"
            }
          },
          "metadata": {},
          "execution_count": 17
        }
      ],
      "source": [
        "i = 0\n",
        "print('Label: {}'.format(df_tweets['multiclass_sentiment'][i]))\n",
        "print('Label: {}'.format(df_tweets['norm_sentiment'][i]))\n",
        "print('Tweet: {}'.format(df_tweets['tweet'][i]))\n",
        "df_tweets['text'][i]"
      ]
    },
    {
      "cell_type": "code",
      "execution_count": null,
      "metadata": {
        "colab": {
          "base_uri": "https://localhost:8080/",
          "height": 991
        },
        "id": "IpiOMgLGyxq6",
        "outputId": "91016d92-0a6e-43cb-9951-a6bdb2ed011c"
      },
      "outputs": [
        {
          "output_type": "stream",
          "name": "stdout",
          "text": [
            "Looking in indexes: https://pypi.org/simple, https://us-python.pkg.dev/colab-wheels/public/simple/\n",
            "Collecting bertviz\n",
            "  Downloading bertviz-1.4.0-py3-none-any.whl (157 kB)\n",
            "\u001b[K     |████████████████████████████████| 157 kB 9.1 MB/s \n",
            "\u001b[?25hRequirement already satisfied: requests in /usr/local/lib/python3.8/dist-packages (from bertviz) (2.23.0)\n",
            "Collecting sentencepiece\n",
            "  Downloading sentencepiece-0.1.97-cp38-cp38-manylinux_2_17_x86_64.manylinux2014_x86_64.whl (1.3 MB)\n",
            "\u001b[K     |████████████████████████████████| 1.3 MB 12.8 MB/s \n",
            "\u001b[?25hCollecting boto3\n",
            "  Downloading boto3-1.26.21-py3-none-any.whl (132 kB)\n",
            "\u001b[K     |████████████████████████████████| 132 kB 59.2 MB/s \n",
            "\u001b[?25hRequirement already satisfied: tqdm in /usr/local/lib/python3.8/dist-packages (from bertviz) (4.64.1)\n",
            "Requirement already satisfied: regex in /usr/local/lib/python3.8/dist-packages (from bertviz) (2022.6.2)\n",
            "Requirement already satisfied: transformers>=2.0 in /usr/local/lib/python3.8/dist-packages (from bertviz) (4.25.1)\n",
            "Requirement already satisfied: torch>=1.0 in /usr/local/lib/python3.8/dist-packages (from bertviz) (1.12.1+cu113)\n",
            "Requirement already satisfied: typing-extensions in /usr/local/lib/python3.8/dist-packages (from torch>=1.0->bertviz) (4.1.1)\n",
            "Requirement already satisfied: tokenizers!=0.11.3,<0.14,>=0.11.1 in /usr/local/lib/python3.8/dist-packages (from transformers>=2.0->bertviz) (0.13.2)\n",
            "Requirement already satisfied: numpy>=1.17 in /usr/local/lib/python3.8/dist-packages (from transformers>=2.0->bertviz) (1.21.6)\n",
            "Requirement already satisfied: packaging>=20.0 in /usr/local/lib/python3.8/dist-packages (from transformers>=2.0->bertviz) (21.3)\n",
            "Requirement already satisfied: pyyaml>=5.1 in /usr/local/lib/python3.8/dist-packages (from transformers>=2.0->bertviz) (6.0)\n",
            "Requirement already satisfied: filelock in /usr/local/lib/python3.8/dist-packages (from transformers>=2.0->bertviz) (3.8.0)\n",
            "Requirement already satisfied: huggingface-hub<1.0,>=0.10.0 in /usr/local/lib/python3.8/dist-packages (from transformers>=2.0->bertviz) (0.11.1)\n",
            "Requirement already satisfied: pyparsing!=3.0.5,>=2.0.2 in /usr/local/lib/python3.8/dist-packages (from packaging>=20.0->transformers>=2.0->bertviz) (3.0.9)\n",
            "Collecting jmespath<2.0.0,>=0.7.1\n",
            "  Downloading jmespath-1.0.1-py3-none-any.whl (20 kB)\n",
            "Collecting boto3\n",
            "  Downloading boto3-1.26.20-py3-none-any.whl (132 kB)\n",
            "\u001b[K     |████████████████████████████████| 132 kB 65.8 MB/s \n",
            "\u001b[?25hCollecting botocore<1.30.0,>=1.29.20\n",
            "  Downloading botocore-1.29.20-py3-none-any.whl (10.2 MB)\n",
            "\u001b[K     |████████████████████████████████| 10.2 MB 49.1 MB/s \n",
            "\u001b[?25hCollecting s3transfer<0.7.0,>=0.6.0\n",
            "  Downloading s3transfer-0.6.0-py3-none-any.whl (79 kB)\n",
            "\u001b[K     |████████████████████████████████| 79 kB 9.2 MB/s \n",
            "\u001b[?25hCollecting urllib3<1.27,>=1.25.4\n",
            "  Downloading urllib3-1.26.13-py2.py3-none-any.whl (140 kB)\n",
            "\u001b[K     |████████████████████████████████| 140 kB 65.8 MB/s \n",
            "\u001b[?25hRequirement already satisfied: python-dateutil<3.0.0,>=2.1 in /usr/local/lib/python3.8/dist-packages (from botocore<1.30.0,>=1.29.20->boto3->bertviz) (2.8.2)\n",
            "Requirement already satisfied: six>=1.5 in /usr/local/lib/python3.8/dist-packages (from python-dateutil<3.0.0,>=2.1->botocore<1.30.0,>=1.29.20->boto3->bertviz) (1.15.0)\n",
            "  Downloading urllib3-1.25.11-py2.py3-none-any.whl (127 kB)\n",
            "\u001b[K     |████████████████████████████████| 127 kB 65.1 MB/s \n",
            "\u001b[?25hRequirement already satisfied: chardet<4,>=3.0.2 in /usr/local/lib/python3.8/dist-packages (from requests->bertviz) (3.0.4)\n",
            "Requirement already satisfied: certifi>=2017.4.17 in /usr/local/lib/python3.8/dist-packages (from requests->bertviz) (2022.9.24)\n",
            "Requirement already satisfied: idna<3,>=2.5 in /usr/local/lib/python3.8/dist-packages (from requests->bertviz) (2.10)\n",
            "Installing collected packages: urllib3, jmespath, botocore, s3transfer, sentencepiece, boto3, bertviz\n",
            "  Attempting uninstall: urllib3\n",
            "    Found existing installation: urllib3 1.24.3\n",
            "    Uninstalling urllib3-1.24.3:\n",
            "      Successfully uninstalled urllib3-1.24.3\n",
            "Successfully installed bertviz-1.4.0 boto3-1.26.20 botocore-1.29.20 jmespath-1.0.1 s3transfer-0.6.0 sentencepiece-0.1.97 urllib3-1.25.11\n"
          ]
        },
        {
          "output_type": "display_data",
          "data": {
            "application/vnd.colab-display-data+json": {
              "pip_warning": {
                "packages": [
                  "urllib3"
                ]
              }
            }
          },
          "metadata": {}
        }
      ],
      "source": [
        "!pip install bertviz"
      ]
    },
    {
      "cell_type": "code",
      "execution_count": null,
      "metadata": {
        "colab": {
          "base_uri": "https://localhost:8080/"
        },
        "id": "WcKUE0tzzBiP",
        "outputId": "5ce811cb-b764-44b2-f695-f4cf698d6c33"
      },
      "outputs": [
        {
          "output_type": "execute_result",
          "data": {
            "text/plain": [
              "tensor([[0.0000, 0.9990, 0.0000]], device='cuda:0', grad_fn=<RoundBackward1>)"
            ]
          },
          "metadata": {},
          "execution_count": 25
        }
      ],
      "source": [
        "# Load model and retrieve attention weights\n",
        "\n",
        "from bertviz import head_view, model_view\n",
        "\n",
        "model = multiclass_model\n",
        "# sentence_a = \"I hate the quarantine and I am depressed that it has lasted so long\"\n",
        "sentence_a = ' '.join(['covid', 'mask', 'quarantine', 'pandemic', 'virus','vaccine','distancing', 'corona', 'trump'])\n",
        "# sentence_a = \"I think covid is great for the society.\"\n",
        "# sentence_a = \"I am angry\"\n",
        "# sentence_a = \"we wish a grand success for supreme hero for solobrathukesobetter release first major theatrical release post lockdown watch the movie only in theatre celebratecinema\"\n",
        "\n",
        "inputs = tokenizer.encode_plus(sentence_a, return_tensors='pt')\n",
        "\n",
        "input_ids = inputs['input_ids'].to(device)\n",
        "att_mask = inputs['attention_mask'].to(device)\n",
        "\n",
        "out = model(input_ids, attention_mask=att_mask)\n",
        "attention = out['attentions']\n",
        "tokens = tokenizer.convert_ids_to_tokens(input_ids[0]) \n",
        "\n",
        "m = nn.Softmax(dim=1)\n",
        "torch.round(m(out['logits']), decimals=3)"
      ]
    },
    {
      "cell_type": "code",
      "source": [
        "print(len(attention))\n",
        "print(attention[0].shape)"
      ],
      "metadata": {
        "colab": {
          "base_uri": "https://localhost:8080/"
        },
        "id": "WhhlOWuAG9s4",
        "outputId": "e2aa9d96-09b4-4591-f094-69f9a4b71e0b"
      },
      "execution_count": null,
      "outputs": [
        {
          "output_type": "stream",
          "name": "stdout",
          "text": [
            "6\n",
            "torch.Size([1, 12, 18, 18])\n"
          ]
        }
      ]
    },
    {
      "cell_type": "code",
      "source": [
        "attention[0][0,0,0].shape"
      ],
      "metadata": {
        "colab": {
          "base_uri": "https://localhost:8080/"
        },
        "id": "zLBoDDDGZh1j",
        "outputId": "3d18f104-d3c0-4e3b-9f74-a7474dc3d283"
      },
      "execution_count": null,
      "outputs": [
        {
          "output_type": "execute_result",
          "data": {
            "text/plain": [
              "torch.Size([18])"
            ]
          },
          "metadata": {},
          "execution_count": 26
        }
      ]
    },
    {
      "cell_type": "code",
      "source": [
        "inputs"
      ],
      "metadata": {
        "colab": {
          "base_uri": "https://localhost:8080/"
        },
        "id": "lAh7O5WG-OL3",
        "outputId": "417cde7d-30fc-4f37-c672-c963e88b7193"
      },
      "execution_count": null,
      "outputs": [
        {
          "output_type": "execute_result",
          "data": {
            "text/plain": [
              "{'input_ids': tensor([[  101,  2522, 17258,  7308, 24209, 20486, 10196,  6090,  3207,  7712,\n",
              "          7865, 17404,  4487, 12693,  6129, 21887,  8398,   102]]), 'attention_mask': tensor([[1, 1, 1, 1, 1, 1, 1, 1, 1, 1, 1, 1, 1, 1, 1, 1, 1, 1]])}"
            ]
          },
          "metadata": {},
          "execution_count": 27
        }
      ]
    },
    {
      "cell_type": "code",
      "source": [
        "tokens"
      ],
      "metadata": {
        "colab": {
          "base_uri": "https://localhost:8080/"
        },
        "id": "dj-THEKQ_PPN",
        "outputId": "1b836273-6e1c-451f-d28a-500037a405d7"
      },
      "execution_count": null,
      "outputs": [
        {
          "output_type": "execute_result",
          "data": {
            "text/plain": [
              "['[CLS]',\n",
              " 'co',\n",
              " '##vid',\n",
              " 'mask',\n",
              " 'qu',\n",
              " '##aran',\n",
              " '##tine',\n",
              " 'pan',\n",
              " '##de',\n",
              " '##mic',\n",
              " 'virus',\n",
              " 'vaccine',\n",
              " 'di',\n",
              " '##stan',\n",
              " '##cing',\n",
              " 'corona',\n",
              " 'trump',\n",
              " '[SEP]']"
            ]
          },
          "metadata": {},
          "execution_count": 72
        }
      ]
    },
    {
      "cell_type": "markdown",
      "source": [
        "##Preparation: Merging attention heads for split up word tokens\n",
        "For example, attn(\"distancing\") -> attn(\"di\") + attn(\"stan\") + attn(\"cing\")"
      ],
      "metadata": {
        "id": "ejkhHZC-kH2w"
      }
    },
    {
      "cell_type": "code",
      "source": [
        "def merge_tokens(attention, tokens):\n",
        "  \"\"\"\n",
        "  attention is a (n-layers = 6)-tuple, where each element of the tuple\n",
        "  is a [1 x 12 x n_tokens x n_tokens]\n",
        "\n",
        "  returns the merged attentions: (n-layers=6)-tuple, where each element of the\n",
        "  tuple is a [1 x 12 x n_merged_tokens x n_merged_tokens]\n",
        "  \"\"\"\n",
        "  nlayers = len(attention)\n",
        "  batch_size, head_size, n_tokens, n_tokens = attention[0].shape\n",
        "\n",
        "  merged_tokens = []\n",
        "  # attentions only for [cls]\n",
        "  merged_attentions = [torch.permute(torch.zeros((batch_size, head_size, 1, n_tokens)), (2, 3, 0, 1)).to(device) for i in range(nlayers)] \n",
        "\n",
        "  wordi = -1\n",
        "  for i in range(len(tokens)):\n",
        "    if (tokens[i].startswith(\"##\")):\n",
        "      merged_tokens[wordi] += tokens[i][2:]\n",
        "    else:\n",
        "      wordi += 1\n",
        "      merged_tokens.append(tokens[i])\n",
        "\n",
        "    for li in range(nlayers):\n",
        "      attention_layer = attention[li]\n",
        "      if (tokens[i].startswith(\"##\")):\n",
        "        merged_attentions[li][0:1] += torch.permute(attention_layer[:, :, 0:1, i:i+1], (2, 3, 0, 1))\n",
        "      else:\n",
        "        merged_attentions[li][0:1] = torch.permute(attention_layer[:, :, 0:1, i:i+1], (2, 3, 0, 1))\n",
        "\n",
        "  merged_attentions = [torch.permute(merged_attentions[i], (2, 3, 0, 1))[:, :, :, :wordi+1] for i in range(nlayers)]\n",
        "  return merged_attentions, merged_tokens"
      ],
      "metadata": {
        "id": "mA_go83hkHS1"
      },
      "execution_count": null,
      "outputs": []
    },
    {
      "cell_type": "code",
      "source": [
        "merged_attentions, merged_tokens = merge_tokens(attention, tokens)"
      ],
      "metadata": {
        "id": "Z1KTNlTlEe-L"
      },
      "execution_count": null,
      "outputs": []
    },
    {
      "cell_type": "code",
      "source": [
        "merged_tokens"
      ],
      "metadata": {
        "colab": {
          "base_uri": "https://localhost:8080/"
        },
        "id": "Nhu9MAw-Zh7N",
        "outputId": "5945d9b2-75be-452a-e2b1-f4ff7cc311af"
      },
      "execution_count": null,
      "outputs": [
        {
          "output_type": "execute_result",
          "data": {
            "text/plain": [
              "['[CLS]',\n",
              " 'covid',\n",
              " 'mask',\n",
              " 'quarantine',\n",
              " 'pandemic',\n",
              " 'virus',\n",
              " 'vaccine',\n",
              " 'distancing',\n",
              " 'corona',\n",
              " 'trump',\n",
              " '[SEP]']"
            ]
          },
          "metadata": {},
          "execution_count": 108
        }
      ]
    },
    {
      "cell_type": "code",
      "source": [
        "print(\"len(merged_attentions):\", len(merged_attentions))\n",
        "print(\"merged attention layer shape: \", merged_attentions[0].shape)"
      ],
      "metadata": {
        "colab": {
          "base_uri": "https://localhost:8080/"
        },
        "id": "XiqUxqs7Zke4",
        "outputId": "7857867f-7c65-4d76-9d69-b715a607bfb3"
      },
      "execution_count": null,
      "outputs": [
        {
          "output_type": "stream",
          "name": "stdout",
          "text": [
            "len(merged_attentions): 6\n",
            "merged attention layer shape:  torch.Size([1, 12, 1, 11])\n"
          ]
        }
      ]
    },
    {
      "cell_type": "markdown",
      "source": [
        "batch size x attention heads x token x token "
      ],
      "metadata": {
        "id": "SEEIz7lQr1OQ"
      }
    },
    {
      "cell_type": "code",
      "source": [
        "def average_across_all(attention, token_index = 0): \n",
        "    \"\"\"\n",
        "    returns a tensor of averaged attention weights across each (batch size x 12 heads x 6 layers)  \n",
        "    \"\"\"\n",
        "    attn_heads = torch.cat(attention,dim=1)\n",
        "    token_attn_weights = attn_heads[:,:,token_index,:]\n",
        "    return torch.mean(token_attn_weights,dim=1)"
      ],
      "metadata": {
        "id": "b58UtHeCYauL"
      },
      "execution_count": null,
      "outputs": []
    },
    {
      "cell_type": "code",
      "source": [
        "#sanity check\n",
        "attn = [torch.ones((32,12,6,6))*i for i in range(4)]\n",
        "avg_attn = average_across_all(attn,0)\n",
        "assert torch.all(torch.eq(avg_attn, 1.5))\n",
        "\n",
        "attn = [torch.ones((32,12,6,6))*0 for i in range(4)]\n",
        "avg_attn = average_across_all(attn,0)\n",
        "assert torch.all(torch.eq(avg_attn, 0))"
      ],
      "metadata": {
        "id": "zEvrPXz_pyGt"
      },
      "execution_count": null,
      "outputs": []
    },
    {
      "cell_type": "code",
      "source": [
        "def average_across_heads(attention, token_index = 0): \n",
        "    \"\"\"\n",
        "    returns a (batch size x num_layers x num_tokens) tensor of attention weights, averaged across all heads per layer  \n",
        "    \"\"\"\n",
        "    attn_heads = torch.stack(attention,dim=1)\n",
        "    attn_heads = torch.mean(attn_heads, dim = 2)\n",
        "    return attn_heads[:,:,token_index,:]"
      ],
      "metadata": {
        "id": "SR0yW_dSnXPM"
      },
      "execution_count": null,
      "outputs": []
    },
    {
      "cell_type": "code",
      "source": [
        "bob = [torch.zeros((32, 12, 7, 7)) for i in range(6)]\n",
        "attn_heads= torch.stack(bob,dim=1)\n",
        "attn_heads= torch.mean(attn_heads, dim = 2)\n",
        "attn_heads[:,:,0,:].shape"
      ],
      "metadata": {
        "colab": {
          "base_uri": "https://localhost:8080/"
        },
        "id": "q5VoN5n5MAT7",
        "outputId": "657cc5bb-a267-4c79-c272-f384468f446c"
      },
      "execution_count": null,
      "outputs": [
        {
          "output_type": "execute_result",
          "data": {
            "text/plain": [
              "torch.Size([32, 6, 7])"
            ]
          },
          "metadata": {},
          "execution_count": 82
        }
      ]
    },
    {
      "cell_type": "code",
      "source": [
        "#sanity check, batch size = 1\n",
        "attn = [torch.ones((1,12,6,6))*i for i in range(6)]\n",
        "avg_attn = average_across_heads(attn,0)\n",
        "for layer in range(6):\n",
        "    assert torch.all(torch.eq(avg_attn[0,layer],layer))\n",
        "\n",
        "# batch size != 0 \n",
        "attn = [torch.ones((2,12,6,6))*i for i in range(6)]\n",
        "avg_attn = average_across_heads(attn,0)\n",
        "for layer in range(6):\n",
        "    for batch in range(2): \n",
        "        assert torch.all(torch.eq(avg_attn[batch,layer],layer))"
      ],
      "metadata": {
        "id": "Tj0XdjMHsEed"
      },
      "execution_count": null,
      "outputs": []
    },
    {
      "cell_type": "code",
      "source": [
        "attention[0].squeeze()[0,0,:] #first layer, first attention head"
      ],
      "metadata": {
        "colab": {
          "base_uri": "https://localhost:8080/"
        },
        "id": "hrQX5BUvR7Oo",
        "outputId": "5eeb1d3a-9be1-47c8-f74c-183a114d08e7"
      },
      "execution_count": null,
      "outputs": [
        {
          "output_type": "execute_result",
          "data": {
            "text/plain": [
              "tensor([0.1941, 0.0620, 0.0887, 0.0965, 0.5587], device='cuda:0',\n",
              "       grad_fn=<SliceBackward0>)"
            ]
          },
          "metadata": {},
          "execution_count": 29
        }
      ]
    },
    {
      "cell_type": "code",
      "execution_count": null,
      "metadata": {
        "colab": {
          "base_uri": "https://localhost:8080/",
          "height": 187
        },
        "id": "-IzgwRFL1FA2",
        "outputId": "ddbaed3f-87c1-48a8-985f-f816f997b3a5"
      },
      "outputs": [
        {
          "output_type": "display_data",
          "data": {
            "text/plain": [
              "<IPython.core.display.HTML object>"
            ],
            "text/html": [
              "<script src=\"https://cdnjs.cloudflare.com/ajax/libs/require.js/2.3.6/require.min.js\"></script>"
            ]
          },
          "metadata": {}
        },
        {
          "output_type": "display_data",
          "data": {
            "text/plain": [
              "<IPython.core.display.HTML object>"
            ],
            "text/html": [
              "      \n",
              "        <div id=\"bertviz-9768a7c7064c4c3f9622a48cc98ea67c\" style=\"font-family:'Helvetica Neue', Helvetica, Arial, sans-serif;\">\n",
              "            <span style=\"user-select:none\">\n",
              "                Layer: <select id=\"layer\"></select>\n",
              "                \n",
              "            </span>\n",
              "            <div id='vis'></div>\n",
              "        </div>\n",
              "    "
            ]
          },
          "metadata": {}
        },
        {
          "output_type": "display_data",
          "data": {
            "text/plain": [
              "<IPython.core.display.Javascript object>"
            ],
            "application/javascript": [
              "/**\n",
              " * @fileoverview Transformer Visualization D3 javascript code.\n",
              " *\n",
              " *\n",
              " *  Based on: https://github.com/tensorflow/tensor2tensor/blob/master/tensor2tensor/visualization/attention.js\n",
              " *\n",
              " * Change log:\n",
              " *\n",
              " * 12/19/18  Jesse Vig   Assorted cleanup. Changed orientation of attention matrices.\n",
              " * 12/29/20  Jesse Vig   Significant refactor.\n",
              " * 12/31/20  Jesse Vig   Support multiple visualizations in single notebook.\n",
              " * 02/06/21  Jesse Vig   Move require config from separate jupyter notebook step\n",
              " * 05/03/21  Jesse Vig   Adjust height of visualization dynamically\n",
              " * 07/25/21  Jesse Vig   Support layer filtering\n",
              " * 03/23/22  Daniel SC   Update requirement URLs for d3 and jQuery (source of bug not allowing end result to be displayed on browsers)\n",
              " **/\n",
              "\n",
              "require.config({\n",
              "  paths: {\n",
              "      d3: 'https://cdnjs.cloudflare.com/ajax/libs/d3/5.7.0/d3.min',\n",
              "    jquery: 'https://cdnjs.cloudflare.com/ajax/libs/jquery/2.0.0/jquery.min',\n",
              "  }\n",
              "});\n",
              "\n",
              "requirejs(['jquery', 'd3'], function ($, d3) {\n",
              "\n",
              "    const params = {\"attention\": [{\"name\": null, \"attn\": [[[[0.19405639171600342, 0.06201070919632912, 0.0887366533279419, 0.09645151346921921, 0.5587447881698608], [0.5895689725875854, 0.07168586552143097, 0.11603238433599472, 0.18168698251247406, 0.041025739163160324], [0.22213223576545715, 0.4189453423023224, 0.06812570989131927, 0.22363190352916718, 0.067164845764637], [0.4687349796295166, 0.14345887303352356, 0.1813669055700302, 0.11699441075325012, 0.08944480866193771], [0.4769851863384247, 0.0608990415930748, 0.05997394770383835, 0.06586188077926636, 0.3362799286842346]], [[0.9929671287536621, 0.0013843384804204106, 0.001968993339687586, 0.0007281758589670062, 0.0029513014014810324], [0.006287270225584507, 0.03762666508555412, 0.16137397289276123, 0.7045882940292358, 0.09012380242347717], [0.02647482044994831, 0.06906803697347641, 0.21187402307987213, 0.2247275710105896, 0.4678555130958557], [0.05959916114807129, 0.05587085708975792, 0.2140478789806366, 0.2844051718711853, 0.38607698678970337], [0.08925815671682358, 0.5029622912406921, 0.10566931962966919, 0.03716927021741867, 0.26494094729423523]], [[0.9440745115280151, 0.0020921577233821154, 0.0019412963883951306, 0.0051685296930372715, 0.046723611652851105], [0.9909594058990479, 0.0003089548845309764, 0.0006372814532369375, 0.001843396807089448, 0.006250990089029074], [0.967442512512207, 0.018954768776893616, 0.00011239375453442335, 0.00015375098155345768, 0.013336560688912868], [0.9588123559951782, 0.0001626319281058386, 0.02284824289381504, 0.0035307432990521193, 0.014646070078015327], [0.5788565278053284, 0.00017557521641720086, 0.0010223428253084421, 0.3213781714439392, 0.09856747835874557]], [[0.8433767557144165, 0.010047093033790588, 0.020853960886597633, 0.03262406215071678, 0.09309806674718857], [0.8620905876159668, 0.004188495688140392, 0.005725265014916658, 0.008612450212240219, 0.11938317120075226], [0.22432461380958557, 0.5341402292251587, 0.08355788886547089, 0.019175171852111816, 0.13880209624767303], [0.3738546073436737, 0.038645509630441666, 0.45466265082359314, 0.10722789913415909, 0.025609297677874565], [0.1348804384469986, 0.0057856799103319645, 0.07413958013057709, 0.1442369520664215, 0.6409574151039124]], [[0.5483711957931519, 0.1324743777513504, 0.12709645926952362, 0.1436513513326645, 0.048406582325696945], [0.29171666502952576, 0.005138196516782045, 0.15835444629192352, 0.2960081100463867, 0.24878260493278503], [0.6316631436347961, 0.026087241247296333, 0.011067146435379982, 0.24581918120384216, 0.08536321669816971], [0.8776523470878601, 0.02229282632470131, 0.02499907836318016, 0.05406401678919792, 0.02099180407822132], [0.005513622425496578, 0.0029694263357669115, 0.0028409508522599936, 0.002906094305217266, 0.9857698678970337]], [[0.6628026962280273, 0.06343149393796921, 0.07215829938650131, 0.09844667464494705, 0.1031607985496521], [0.1351911574602127, 0.002672330942004919, 0.8426122069358826, 0.00400255061686039, 0.015521690249443054], [0.8453419804573059, 0.021398328244686127, 0.018492626026272774, 0.049173347651958466, 0.06559377163648605], [0.2566775381565094, 0.026031842455267906, 0.028828099370002747, 0.0596262663602829, 0.6288362145423889], [0.4461047947406769, 0.040726445615291595, 0.06363271921873093, 0.20428194105625153, 0.24525415897369385]], [[0.9839525818824768, 0.0010495472233742476, 0.004467691760510206, 0.0009787260787561536, 0.009551494382321835], [0.2371351569890976, 0.03255479782819748, 0.11203905940055847, 0.42418786883354187, 0.1940830647945404], [0.6586043238639832, 0.06197260692715645, 0.10662879794836044, 0.07586896419525146, 0.09692531824111938], [0.4901740252971649, 0.03617532178759575, 0.15259146690368652, 0.2303573340177536, 0.09070177376270294], [0.9337578415870667, 0.011656544171273708, 0.012994802556931973, 0.010345554910600185, 0.031245216727256775]], [[0.3405543267726898, 0.13711586594581604, 0.15263818204402924, 0.12596973776817322, 0.2437218874692917], [0.8009675145149231, 0.01596541330218315, 0.0442747101187706, 0.014042248949408531, 0.12475015968084335], [0.7517427802085876, 0.08461932837963104, 0.030209384858608246, 0.0410633347928524, 0.09236522018909454], [0.7810876369476318, 0.04050816223025322, 0.07917910069227219, 0.0445164255797863, 0.05470866709947586], [0.3904185891151428, 0.3271614909172058, 0.09538070112466812, 0.10214559733867645, 0.0848936215043068]], [[0.790198028087616, 0.03569474071264267, 0.04886145889759064, 0.07012493163347244, 0.055120762437582016], [0.06946496665477753, 0.004999159835278988, 0.06926028430461884, 0.3345927596092224, 0.521682858467102], [0.1153179407119751, 0.012781726196408272, 0.04011178016662598, 0.2874133884906769, 0.5443751811981201], [0.48113787174224854, 0.006555660627782345, 0.007719201501458883, 0.14697079360485077, 0.35761645436286926], [0.5639311671257019, 0.047918327152729034, 0.04622010514140129, 0.2676759660243988, 0.07425439357757568]], [[0.6538974046707153, 0.015872729942202568, 0.01988396607339382, 0.02790123037993908, 0.28244468569755554], [0.9653056263923645, 0.0035382979549467564, 0.00024907130864448845, 0.0008746165549382567, 0.03003239445388317], [0.825614333152771, 0.014717582613229752, 0.08134378492832184, 0.00039815905620343983, 0.07792609930038452], [0.9687662720680237, 0.00014799500058870763, 1.690396857156884e-05, 0.013239645399153233, 0.017829276621341705], [0.897297739982605, 0.014147729612886906, 0.007443585898727179, 0.01225355826318264, 0.06885739415884018]], [[0.8747616410255432, 0.023594435304403305, 0.020504318177700043, 0.019016113132238388, 0.06212345138192177], [0.14760242402553558, 0.00047514410107396543, 0.827213704586029, 0.0210160743445158, 0.003692626953125], [0.41371577978134155, 0.0031643249094486237, 0.0019208798184990883, 0.49576959013938904, 0.08542932569980621], [0.10839877277612686, 0.0011088341707363725, 0.0003510887618176639, 0.005740239284932613, 0.8844010829925537], [0.9409611225128174, 0.0013039858313277364, 0.005092828068882227, 0.0021127231884747744, 0.05052931606769562]], [[0.8579161763191223, 0.01669933646917343, 0.02558222785592079, 0.011946131475269794, 0.08785617351531982], [0.242217555642128, 0.010383506305515766, 0.3971751928329468, 0.2533320188522339, 0.09689173847436905], [0.24301430583000183, 0.5913441181182861, 0.0016215417999774218, 0.09662818163633347, 0.06739186495542526], [0.673907995223999, 0.0076759071089327335, 0.031101994216442108, 0.03626884147524834, 0.2510453462600708], [0.5710970163345337, 0.07541648298501968, 0.02203509211540222, 0.11681940406560898, 0.21463197469711304]]], [[[0.9895485639572144, 0.0023988790344446898, 0.0015616652090102434, 0.00010044694499811158, 0.006390455644577742], [3.4618437894096132e-06, 1.7896719555210439e-06, 0.9999935626983643, 2.2878028360651115e-08, 1.227930169989122e-06], [0.0026643977034837008, 0.00022448236995842308, 9.372000204166397e-05, 0.9887069463729858, 0.008310405537486076], [0.0005004592821933329, 7.263337465701625e-05, 3.106847259459755e-07, 5.5686850686242906e-09, 0.9994264841079712], [0.7788365483283997, 0.0027602817863225937, 0.005789742339402437, 7.931614527478814e-05, 0.2125341147184372]], [[0.6834296584129333, 0.014625128358602524, 0.05148184299468994, 0.021987659856677055, 0.2284756600856781], [0.036917079240083694, 0.0009810597402974963, 0.9308555722236633, 0.0005803414387628436, 0.03066588193178177], [0.002136148978024721, 0.9951127171516418, 2.9566501325462013e-05, 2.93859739031177e-05, 0.002692114794626832], [0.538173496723175, 0.03842233121395111, 0.26734110713005066, 0.00245757307857275, 0.15360558032989502], [0.7402718663215637, 0.020015336573123932, 0.04626411199569702, 0.042305562645196915, 0.1511431187391281]], [[0.6189966797828674, 0.008873937651515007, 0.03263574093580246, 0.05015505850315094, 0.2893385589122772], [0.4675518274307251, 0.02456626482307911, 0.014195197261869907, 0.0277943704277277, 0.46589237451553345], [0.6754982471466064, 0.01780715584754944, 0.015131074003875256, 0.010095584206283092, 0.2814679443836212], [0.7103825211524963, 0.018859663978219032, 0.005373367108404636, 0.02104664221405983, 0.2443377822637558], [0.4452921748161316, 0.07204562425613403, 0.040311235934495926, 0.052118852734565735, 0.3902320861816406]], [[0.6493775844573975, 0.0499921478331089, 0.06773852556943893, 0.07504456490278244, 0.15784713625907898], [0.20245780050754547, 0.013033588416874409, 0.01153531763702631, 0.08640724420547485, 0.6865660548210144], [0.3464333713054657, 0.014673102647066116, 0.00687206769362092, 0.17762744426727295, 0.45439401268959045], [0.47864609956741333, 0.19005848467350006, 0.08764922618865967, 0.0007073066662997007, 0.242938831448555], [0.9040210843086243, 0.005535985808819532, 0.019052010029554367, 0.015154186636209488, 0.05623667314648628]], [[0.9152679443359375, 0.02671089395880699, 0.040653228759765625, 0.01493267621845007, 0.002435348927974701], [0.5959824323654175, 0.06905517727136612, 0.2823196351528168, 0.03688706457614899, 0.015755657106637955], [0.12229469418525696, 0.8551582098007202, 0.01704743318259716, 0.004648817703127861, 0.0008508912869729102], [0.9316385984420776, 0.013522484339773655, 0.03437420725822449, 0.019652849063277245, 0.0008119308040477335], [0.007862078957259655, 6.830904021626338e-05, 0.00030108276405371726, 0.0004571574681904167, 0.9913113117218018]], [[0.7587088346481323, 0.029696689918637276, 0.05876249447464943, 0.0744185522198677, 0.07841343432664871], [0.3932379186153412, 0.18663418292999268, 0.04923247918486595, 0.03722807765007019, 0.3336673378944397], [0.5326569080352783, 0.03743494674563408, 0.08171117305755615, 0.013260996900498867, 0.3349359631538391], [0.7709102034568787, 0.0568530298769474, 0.014407055452466011, 0.012863153591752052, 0.14496657252311707], [0.5612412095069885, 0.02462580054998398, 0.06832415610551834, 0.028306614607572556, 0.3175022304058075]], [[0.22763189673423767, 0.04298144578933716, 0.021338727325201035, 0.030762631446123123, 0.6772852540016174], [0.06261947005987167, 0.6421360969543457, 0.0012116662692278624, 0.0002983275044243783, 0.29373449087142944], [0.07518509775400162, 0.002755821915343404, 0.7399337887763977, 0.00013447535457089543, 0.18199080228805542], [0.004187896382063627, 0.0005151163204573095, 0.00010193420894211158, 0.9806087613105774, 0.014586162753403187], [0.16594964265823364, 0.20041154325008392, 0.1569301038980484, 0.1578618288040161, 0.3188468813896179]], [[0.732905387878418, 0.05578703060746193, 0.06062108278274536, 0.06632772833108902, 0.08435878157615662], [0.2790757119655609, 0.37981390953063965, 0.05372186005115509, 0.06761711835861206, 0.21977141499519348], [0.31604284048080444, 0.29250022768974304, 0.06279107183218002, 0.19466686248779297, 0.13399899005889893], [0.44864246249198914, 0.3015921115875244, 0.0849296972155571, 0.0023845145478844643, 0.16245122253894806], [0.931373655796051, 0.018168937414884567, 0.021698083728551865, 0.009767873212695122, 0.018991397693753242]], [[0.9653043746948242, 0.01851663365960121, 0.007294509094208479, 0.007571007125079632, 0.001313459943048656], [0.06965827941894531, 0.7271307706832886, 0.19338856637477875, 0.005635281093418598, 0.00418708473443985], [0.009627108462154865, 0.9896195530891418, 0.0006978697492741048, 3.028395258297678e-05, 2.515454798412975e-05], [0.7014592885971069, 0.14262458682060242, 0.1522187888622284, 0.0014666945207864046, 0.002230624668300152], [0.0036438917741179466, 0.00029601738788187504, 0.0009402171126566827, 0.0001377763255732134, 0.9949821829795837]], [[0.9176242351531982, 0.0003906420315615833, 2.5945451852749102e-05, 9.078759467229247e-05, 0.08186841756105423], [1.7001269725369639e-06, 3.4080990189977456e-06, 0.999992847442627, 9.985635784914848e-08, 1.942839389812434e-06], [1.3039744771958794e-05, 2.5860849746095482e-06, 7.573516995762475e-06, 0.9998002648353577, 0.0001765402703313157], [3.918500442523509e-05, 5.209258688410046e-06, 7.1941705925837596e-09, 1.159879925438645e-08, 0.9999555349349976], [0.9774830341339111, 0.0001528971188236028, 0.00036467588506639004, 6.007001138641499e-05, 0.021939178928732872]], [[0.7759149074554443, 0.04311250150203705, 0.07594098895788193, 0.01509935688227415, 0.0899321585893631], [0.11413257569074631, 0.19241976737976074, 0.6432340145111084, 0.003038988681510091, 0.047174688428640366], [0.5076712369918823, 0.314964234828949, 0.03988524526357651, 0.056820377707481384, 0.08065889030694962], [0.2469872236251831, 0.08489734679460526, 0.009604129008948803, 0.6324746608734131, 0.02603672258555889], [0.9759035110473633, 0.0027959623839706182, 0.00631627207621932, 0.0041729179210960865, 0.010811320506036282]], [[0.7573906183242798, 0.013176955282688141, 0.027991043403744698, 0.006471320986747742, 0.19496996700763702], [0.17864438891410828, 0.04717503860592842, 0.4303230047225952, 0.15664342045783997, 0.187214195728302], [0.16930392384529114, 0.26246562600135803, 0.23246103525161743, 0.10392770916223526, 0.23184169828891754], [0.4860284626483917, 0.1547883301973343, 0.056595176458358765, 0.025037432089447975, 0.27755066752433777], [0.8468018770217896, 0.005388881079852581, 0.010107251815497875, 0.002190437400713563, 0.1355116069316864]]], [[[0.022951390594244003, 0.0057235718704760075, 0.02285224199295044, 0.04312634840607643, 0.9053463339805603], [0.003623624099418521, 0.002568622585386038, 0.007529105991125107, 0.2617587447166443, 0.7245199084281921], [0.0031876687426120043, 0.08690493553876877, 0.0604185126721859, 0.6260938048362732, 0.22339504957199097], [0.0051621138118207455, 0.0008135248790495098, 7.388035010080785e-05, 0.15640419721603394, 0.8375462889671326], [0.0005314791924320161, 5.397665745476843e-07, 3.827452985660784e-07, 1.5866983176238136e-06, 0.9994660019874573]], [[0.02059490792453289, 0.24661387503147125, 0.039048269391059875, 0.6739965081214905, 0.019746340811252594], [0.048542145639657974, 0.3443865180015564, 0.23278069496154785, 0.1779046505689621, 0.1963859647512436], [0.07191367447376251, 0.29298827052116394, 0.310245543718338, 0.03949470818042755, 0.2853577435016632], [0.07952168583869934, 0.20698416233062744, 0.101340152323246, 0.007364263758063316, 0.6047897338867188], [0.005112444516271353, 0.001841202494688332, 0.005794459953904152, 0.0020208763889968395, 0.9852310419082642]], [[0.5384160280227661, 0.027463633567094803, 0.02062828093767166, 0.004340115003287792, 0.4091518521308899], [0.17873212695121765, 0.07760953158140182, 0.02547556906938553, 0.03812583535909653, 0.6800569891929626], [0.11463435739278793, 0.08725074678659439, 0.16742055118083954, 0.12664900720119476, 0.504045307636261], [0.25739586353302, 0.032526228576898575, 0.058618105947971344, 0.00905781239271164, 0.6424020528793335], [0.00021820013353135437, 1.8284765701537253e-07, 8.694785265106475e-07, 3.707670259700535e-07, 0.9997803568840027]], [[0.001972938422113657, 0.0024094555992633104, 0.003916672896593809, 0.010403484106063843, 0.9812973737716675], [0.0026215636171400547, 0.17746469378471375, 1.5477888155146502e-05, 1.6396605133195408e-05, 0.8198820352554321], [0.009111165069043636, 3.974669652961893e-06, 0.03745948523283005, 6.397846874506286e-08, 0.9534252285957336], [0.0014050955651327968, 1.1903613312824746e-06, 4.69127314772777e-09, 0.00035557904629968107, 0.9982380867004395], [2.769510138023179e-05, 3.5743575210744893e-08, 3.49737416804885e-09, 8.230222725558178e-09, 0.9999723434448242]], [[0.03799312189221382, 0.14175857603549957, 0.1192009225487709, 0.3567967414855957, 0.3442506790161133], [0.003191496944054961, 0.1407935470342636, 0.23855780065059662, 0.09865434467792511, 0.5188028216362], [0.0250529944896698, 0.465933233499527, 0.0360407754778862, 0.12232917547225952, 0.3506438136100769], [0.004545087460428476, 0.011315279640257359, 0.001217474928125739, 0.007747215684503317, 0.9751748442649841], [0.0006812303327023983, 3.0417351808864623e-05, 2.604668407002464e-05, 9.912117093335837e-05, 0.9991631507873535]], [[0.00015474687097594142, 0.00011837931378977373, 0.0003284719423390925, 0.0015495303086936474, 0.9978488683700562], [0.007862812839448452, 0.004616749472916126, 0.0063146199099719524, 0.4830082952976227, 0.4981975853443146], [0.0366365872323513, 0.018221380189061165, 0.0010211834451183677, 0.6423602104187012, 0.30176061391830444], [0.014020545408129692, 0.014017123728990555, 0.008752255700528622, 0.0475006178021431, 0.9157094955444336], [1.624933793209493e-05, 9.515694728179369e-06, 1.0400605788163375e-05, 0.00044388213427737355, 0.9995200634002686]], [[0.006345915608108044, 0.0021693550515919924, 0.0029637771658599377, 0.020570091903209686, 0.9679508805274963], [0.017096109688282013, 0.021417755633592606, 0.0027438944671303034, 0.05572217330336571, 0.9030202031135559], [0.1274445652961731, 0.08575769513845444, 0.00218190741725266, 0.17813143134117126, 0.6064844131469727], [0.0028400353621691465, 0.07769263535737991, 0.4466952979564667, 0.08715910464525223, 0.3856129050254822], [7.440827903337777e-05, 2.7109406801173463e-05, 6.275130999711109e-06, 0.0003346509765833616, 0.9995575547218323]], [[0.008474020287394524, 0.0010634815553203225, 0.0004285775066819042, 0.009050379507243633, 0.980983555316925], [0.005671854596585035, 0.002511395141482353, 0.0022519591730087996, 0.018559204414486885, 0.9710054993629456], [0.014317253604531288, 0.4368667006492615, 0.0006937455618754029, 0.12674695253372192, 0.4213753044605255], [0.006114809308201075, 0.01799485646188259, 0.03441591560840607, 0.006561921909451485, 0.9349125027656555], [0.0002209797821706161, 7.890112465247512e-05, 7.668403668503743e-06, 0.0023305153008550406, 0.997361958026886]], [[0.022895166650414467, 0.0008417649660259485, 0.0019564437679946423, 0.0035157783422619104, 0.9707908034324646], [0.06609442830085754, 0.0020167683251202106, 0.005464713089168072, 0.057308342307806015, 0.8691157698631287], [0.1436416357755661, 0.015687646344304085, 0.03758321702480316, 0.02740870974957943, 0.775678813457489], [0.08174213767051697, 0.02918369136750698, 0.008445801213383675, 0.018052563071250916, 0.8625757694244385], [0.0010616467334330082, 0.0006068104994483292, 0.00046925374772399664, 0.0006306100985966623, 0.9972317814826965]], [[0.01915462501347065, 0.005764467641711235, 0.008004262112081051, 0.021846430376172066, 0.9452301859855652], [0.0950254276394844, 0.0018576631555333734, 0.013409019447863102, 0.06769420206546783, 0.8220137357711792], [0.1056276261806488, 0.01193647924810648, 0.0030414850916713476, 0.022035302594304085, 0.8573591113090515], [0.16993370652198792, 0.007797094527631998, 0.010492883622646332, 0.00015920540317893028, 0.8116170763969421], [0.008061852306127548, 0.000801491376478225, 0.0005081762210465968, 0.004948280286043882, 0.9856802225112915]], [[0.005574948154389858, 0.0028281507547944784, 0.001727994647808373, 0.006746124941855669, 0.9831227660179138], [0.031648069620132446, 0.03233478590846062, 0.018169743940234184, 0.0468355156481266, 0.8710117340087891], [0.13857758045196533, 0.3987019658088684, 0.025665894150733948, 0.09486479312181473, 0.3421896994113922], [0.04818161204457283, 0.12101998925209045, 0.03512559458613396, 0.026685286313295364, 0.7689875364303589], [0.000673776725307107, 6.272355676628649e-05, 0.00011428448488004506, 0.0013358559226617217, 0.99781334400177]], [[0.01214606873691082, 0.006622841116040945, 0.000656636490020901, 0.004589387681335211, 0.975985050201416], [0.042273230850696564, 0.04842786490917206, 0.10540597885847092, 0.11426303535699844, 0.6896299123764038], [0.012591996230185032, 0.09558945894241333, 0.009419320151209831, 0.7551549673080444, 0.12724421918392181], [0.058710727840662, 0.058730073273181915, 0.02481231465935707, 0.007227695547044277, 0.8505191206932068], [0.0019749817438423634, 0.0008224352495744824, 0.00020167544425930828, 0.0015289717121049762, 0.9954719543457031]]], [[[0.00033651894773356616, 0.0036778731737285852, 0.0029938281513750553, 0.02380339801311493, 0.9691884517669678], [0.00486623402684927, 0.026676321402192116, 0.007468677591532469, 0.048826925456523895, 0.9121618270874023], [0.00262191379442811, 0.04191973805427551, 0.008609624579548836, 0.033125847578048706, 0.9137229323387146], [0.006690413691103458, 0.0407051257789135, 0.021897656843066216, 0.07294555008411407, 0.8577612042427063], [0.00034630726440809667, 0.001133294077590108, 0.0012843944132328033, 0.002542993053793907, 0.9946929812431335]], [[0.0028620087541639805, 0.017595501616597176, 0.005662455689162016, 0.18781886994838715, 0.7860612273216248], [0.005327051505446434, 0.018506474792957306, 0.02453899011015892, 0.6736002564430237, 0.2780272662639618], [0.0056465994566679, 0.011678332462906837, 0.0033473537769168615, 0.32099151611328125, 0.6583362221717834], [0.0012465498875826597, 0.0005837136995978653, 9.156367741525173e-05, 0.00026982114650309086, 0.9978082776069641], [0.001048427540808916, 0.0003660322690848261, 0.00011746434756787494, 0.0023774716537445784, 0.9960907101631165]], [[9.776440856512636e-05, 0.03932053595781326, 0.015256430022418499, 0.006823435425758362, 0.9385017156600952], [0.0017814110033214092, 0.013996420428156853, 0.11537527292966843, 0.13608096539974213, 0.7327659726142883], [0.009148306213319302, 0.01942296326160431, 0.007529290392994881, 0.03625524789094925, 0.9276442527770996], [0.002106208587065339, 0.002347330329939723, 0.0023827601689845324, 0.0049669514410197735, 0.9881966710090637], [0.00343143567442894, 0.00044458702905103564, 0.0007500149076804519, 0.002314910525456071, 0.9930590391159058]], [[0.0020410127472132444, 0.000986637081950903, 0.00023001916997600347, 0.0019025563960894942, 0.9948397278785706], [0.006333836819976568, 0.0010087450500577688, 0.000347319757565856, 0.018253257498145103, 0.9740568995475769], [0.001018598908558488, 0.0018695207545533776, 0.00010946469410555437, 0.005750379525125027, 0.9912521243095398], [0.015646597370505333, 0.006853697821497917, 0.0020639451686292887, 0.017224444076418877, 0.9582113027572632], [0.008235652931034565, 0.0016561582451686263, 0.0005488995229825377, 0.0014721694169566035, 0.9880870580673218]], [[8.482896373607218e-05, 3.216518962290138e-05, 2.8729580208164407e-06, 0.0021610611584037542, 0.9977191090583801], [0.023434428498148918, 0.004233730025589466, 0.0012843961594626307, 0.03486277535557747, 0.9361847043037415], [0.00516416085883975, 0.9445191621780396, 0.0006038586725480855, 0.012910495512187481, 0.03680232912302017], [0.02881951443850994, 0.007216432597488165, 0.06776094436645508, 0.008656354621052742, 0.887546718120575], [0.00025173748144879937, 2.390405279584229e-05, 1.3729561032960191e-05, 0.0008222411852329969, 0.9988884329795837]], [[0.0005575065151788294, 0.0035954415798187256, 0.008750282227993011, 0.34540969133377075, 0.6416870355606079], [0.0036271812859922647, 0.004060346633195877, 0.02840176224708557, 0.7037831544876099, 0.2601275146007538], [0.001739353989250958, 0.0015079699223861098, 0.0008104119915515184, 0.2921391725540161, 0.7038031816482544], [0.00044801714830100536, 0.00025051634293049574, 6.250676233321428e-05, 0.0026244274340569973, 0.9966145157814026], [7.735806320852134e-06, 1.3083133126201574e-05, 2.326288267795462e-06, 0.0017045910935848951, 0.998272180557251]], [[0.012538328766822815, 0.001007830840535462, 0.0010403773048892617, 0.0035926455166190863, 0.9818207621574402], [0.006732405163347721, 0.002996668918058276, 0.010859315283596516, 0.11071942001581192, 0.8686922192573547], [0.0020716064609587193, 0.0007100867806002498, 0.000495672516990453, 0.04194285348057747, 0.9547797441482544], [0.0002565313770901412, 0.0001130764139816165, 0.0001736082776915282, 0.0009763254784047604, 0.998480498790741], [0.0013254685327410698, 0.00020351700368337333, 4.857044405071065e-05, 0.0008174288086593151, 0.9976049661636353]], [[0.0027736893389374018, 0.0006879375432617962, 0.00010737011325545609, 0.0033344365656375885, 0.9930965304374695], [0.007980592548847198, 0.0010344103211537004, 0.0017621220322325826, 0.00694566685706377, 0.9822772145271301], [0.00013344122271519154, 0.012012815102934837, 0.0004040490894112736, 0.01136736199259758, 0.9760823845863342], [0.0036683008074760437, 0.0011544890003278852, 0.0002488057070877403, 0.002157469280064106, 0.9927709698677063], [0.0013296555262058973, 0.003028438426554203, 0.0006950978422537446, 0.0009525106870569289, 0.993994414806366]], [[0.0033390952739864588, 0.12188374996185303, 0.025214673951268196, 0.10082549601793289, 0.7487369775772095], [0.019470136612653732, 0.038216978311538696, 0.04748750850558281, 0.02449982613325119, 0.8703255653381348], [0.009958624839782715, 0.01311084907501936, 0.009593931958079338, 0.0036030912306159735, 0.9637334942817688], [0.012456817552447319, 0.013571888208389282, 0.015790948644280434, 0.01296077761799097, 0.9452196359634399], [0.0017979078693315387, 0.0008403928950428963, 0.0005482990527525544, 0.0012537459842860699, 0.9955596923828125]], [[0.0004402409540489316, 0.0006129862158559263, 0.00018696593178901821, 0.010378057137131691, 0.9883818030357361], [0.0021059750579297543, 0.0016935805324465036, 0.00033384773996658623, 0.05775702744722366, 0.9381096363067627], [0.011987533420324326, 0.006008105352520943, 0.00035824833321385086, 0.0229378342628479, 0.9587082266807556], [0.006210068706423044, 0.03730272129178047, 0.0018722600070759654, 0.008245933800935745, 0.9463689923286438], [0.0013660957338288426, 0.001038348418660462, 0.000307333713863045, 0.0036655128933489323, 0.9936227202415466]], [[0.00013474376464728266, 0.00027670100098475814, 2.6510995667194948e-05, 0.005784040782600641, 0.9937781095504761], [0.004349448252469301, 0.0014259475283324718, 0.0005208038492128253, 0.42396080493927, 0.5697429776191711], [0.0014495953219011426, 0.0036165639758110046, 0.0003500581660773605, 0.28470173478126526, 0.7098819613456726], [0.00024577841395512223, 0.0004014336736872792, 0.00014174688840284944, 4.8329387936973944e-05, 0.9991627931594849], [0.000327524816384539, 0.00010364870104240254, 2.2374340915121138e-05, 0.00041482338565401733, 0.9991316199302673]], [[0.0019520214991644025, 0.001419349922798574, 0.00021202849166002125, 0.0069494349882006645, 0.9894670844078064], [0.004351270850747824, 0.010861207731068134, 0.00034913612762466073, 0.014418777078390121, 0.9700196981430054], [0.021142542362213135, 0.5343221426010132, 0.00600300682708621, 0.03470798209309578, 0.4038242995738983], [0.0021811823826283216, 0.003699854016304016, 0.0006137604941613972, 0.00557435117661953, 0.9879308938980103], [0.000617773097474128, 0.0003202089574187994, 5.96858881181106e-05, 0.0020716709550470114, 0.9969307780265808]]], [[[9.562940977048129e-05, 0.00044401775812730193, 5.971827340545133e-05, 0.9145706295967102, 0.08482997864484787], [0.001135369180701673, 0.007447868585586548, 0.0008031854522414505, 0.7592758536338806, 0.23133772611618042], [1.3365330232772976e-05, 0.00013872842828277498, 0.00020953042258042842, 0.9611574411392212, 0.038480885326862335], [1.2035587133141235e-05, 1.7125066733569838e-05, 1.8714887346504838e-06, 0.97235107421875, 0.027617905288934708], [4.460209765966283e-06, 2.4822405976010486e-05, 6.872492576803779e-06, 0.026673929765820503, 0.973289966583252]], [[0.00016650324687361717, 0.002610225696116686, 6.279157241806388e-05, 0.05212601646780968, 0.9450345039367676], [0.01394512876868248, 0.00628645857796073, 0.0008452277979813516, 0.013605862855911255, 0.9653173685073853], [0.014328031800687313, 0.036387428641319275, 0.00225149467587471, 0.15627682209014893, 0.7907561659812927], [0.012711632065474987, 0.037162210792303085, 0.001086127944290638, 0.006635262165218592, 0.9424046874046326], [0.000329644070006907, 0.00151855091098696, 0.00018478947458788753, 0.06385787576436996, 0.9341092109680176]], [[1.765403794706799e-05, 0.018467891961336136, 0.002070209477096796, 0.969353199005127, 0.010091075673699379], [0.003451122436672449, 0.01559144351631403, 0.021857857704162598, 0.8136404752731323, 0.1454591304063797], [0.006890397984534502, 0.06275026500225067, 0.04549316316843033, 0.7739152908325195, 0.11095084249973297], [0.012076353654265404, 0.15083706378936768, 0.07992109656333923, 0.5127755403518677, 0.24438993632793427], [0.0011477384250611067, 0.0034630734007805586, 0.001258218428120017, 0.07975870370864868, 0.9143722057342529]], [[3.542781269061379e-05, 0.0005567080806940794, 3.4734923247015104e-05, 0.03424348682165146, 0.9651296734809875], [0.003016789210960269, 0.02906869724392891, 0.01084035076200962, 0.12563171982765198, 0.8314424157142639], [0.004037466831505299, 0.0569092221558094, 0.0043867225758731365, 0.13843919336795807, 0.7962274551391602], [0.02358282543718815, 0.6015228629112244, 0.2113085389137268, 0.039850667119026184, 0.12373511493206024], [0.03197157755494118, 0.017715295776724815, 0.011689637787640095, 0.05465903878211975, 0.883964478969574]], [[0.009229335933923721, 0.28147926926612854, 0.006875376217067242, 0.007830856367945671, 0.6945851445198059], [0.05083417519927025, 0.4200672209262848, 0.11113892495632172, 0.04348691180348396, 0.3744727373123169], [0.015181593596935272, 0.7034834623336792, 0.02733667753636837, 0.08080694824457169, 0.17319130897521973], [0.0034046657383441925, 0.08357901126146317, 0.008348004892468452, 0.04841042682528496, 0.8562579154968262], [0.008891696110367775, 0.022830964997410774, 0.005480894818902016, 0.026871977373957634, 0.9359245300292969]], [[1.663777766225394e-05, 0.000358690187567845, 9.802159911487252e-05, 0.999286949634552, 0.00023978044919203967], [0.011055233888328075, 0.0029384372755885124, 0.0025175069458782673, 0.9495148658752441, 0.03397398442029953], [0.011747175827622414, 0.003771108342334628, 0.002538632368668914, 0.9345834255218506, 0.047359637916088104], [0.03818413242697716, 0.016311584040522575, 0.010297334752976894, 0.8314609527587891, 0.10374592244625092], [0.014986882917582989, 0.026356952264904976, 0.006345183122903109, 0.3801943063735962, 0.5721166729927063]], [[0.010390580631792545, 0.029212072491645813, 0.004462845157831907, 0.002812550636008382, 0.9531220197677612], [0.03238505497574806, 0.24859143793582916, 0.0416998490691185, 0.009841859340667725, 0.6674817800521851], [0.010642079636454582, 0.021199693903326988, 0.2958131432533264, 0.016585461795330048, 0.6557596325874329], [0.0094310212880373, 0.01367984525859356, 0.010364631190896034, 0.024223320186138153, 0.9423011541366577], [0.004354106727987528, 0.00803819764405489, 0.002668422181159258, 0.004803451243788004, 0.9801357984542847]], [[1.7301472325925715e-05, 0.0010318179847672582, 2.3696306016063318e-05, 0.9906643629074097, 0.008262794464826584], [0.00045695898006670177, 0.0035635228268802166, 0.0006568587850779295, 0.9781877994537354, 0.017134753987193108], [0.00012556913134176284, 0.012152625247836113, 0.0018764847191050649, 0.9770852327346802, 0.008760156109929085], [0.00042973191011697054, 0.003812457202002406, 0.00019559245265554637, 0.8230640888214111, 0.1724981814622879], [3.357622699695639e-05, 0.00032531158649362624, 4.2715706513263285e-05, 0.04837299510836601, 0.9512253403663635]], [[0.006442090962082148, 0.1512557715177536, 0.03171056509017944, 0.2487238496541977, 0.5618677735328674], [0.004371549468487501, 0.8094466328620911, 0.11332563310861588, 0.014220652170479298, 0.05863550677895546], [0.002118141623213887, 0.6103597283363342, 0.3328893482685089, 0.0264988224953413, 0.02813398465514183], [0.019577307626605034, 0.29168790578842163, 0.1919035166501999, 0.4053330719470978, 0.0914982333779335], [0.1855868548154831, 0.08403543382883072, 0.07401761412620544, 0.08456432074308395, 0.5717957019805908]], [[0.004682932514697313, 0.009925909340381622, 0.00041605959995649755, 0.005663336720317602, 0.9793117046356201], [0.0023582670837640762, 0.02692769281566143, 0.017548222094774246, 0.06990408152341843, 0.8832617402076721], [0.0016647413140162826, 0.07815179973840714, 0.004033204633742571, 0.045681390911340714, 0.8704688549041748], [0.000896710844244808, 0.00505769532173872, 0.0013255598023533821, 0.004642884247004986, 0.9880771636962891], [0.002369616413488984, 0.0049219983629882336, 0.0013160643866285682, 0.012069672346115112, 0.9793227314949036]], [[0.0045514279045164585, 0.02369951643049717, 0.00202431483194232, 0.6565269827842712, 0.3131977319717407], [0.014903323724865913, 0.09506592899560928, 0.03809063136577606, 0.4114108979701996, 0.4405292272567749], [0.007760884240269661, 0.054170478135347366, 0.011943410150706768, 0.633013129234314, 0.2931121587753296], [0.18536922335624695, 0.16310624778270721, 0.03526772931218147, 0.146977037191391, 0.46927979588508606], [0.0075179715640842915, 0.02380022220313549, 0.00875796377658844, 0.06748433411121368, 0.8924394845962524]], [[0.08594308793544769, 0.06339333951473236, 0.012415879406034946, 0.007287568412721157, 0.830960214138031], [0.025518329814076424, 0.0010843034833669662, 0.010356966406106949, 0.024131422862410545, 0.9389088749885559], [0.026152214035391808, 0.0035490074660629034, 0.0025677746161818504, 0.033738262951374054, 0.9339927434921265], [0.005674699787050486, 0.023838110268115997, 0.013638775795698166, 0.0006849895580671728, 0.9561634063720703], [0.15429818630218506, 0.09293487668037415, 0.0756855458021164, 0.15117594599723816, 0.5259054899215698]]], [[[0.1373031884431839, 0.1597328633069992, 0.06319417804479599, 0.3953310251235962, 0.2444387823343277], [0.14844563603401184, 0.17900985479354858, 0.08473321795463562, 0.34479838609695435, 0.24301299452781677], [0.13981792330741882, 0.17498500645160675, 0.07190589606761932, 0.39941081404685974, 0.21388038992881775], [0.13135774433612823, 0.15040795505046844, 0.08165697753429413, 0.28847524523735046, 0.3481020927429199], [0.051805462688207626, 0.09801433980464935, 0.05584469065070152, 0.2937434911727905, 0.500592052936554]], [[0.05075807124376297, 0.1759924590587616, 0.06751710176467896, 0.29008063673973083, 0.41565170884132385], [0.032267745584249496, 0.10783513635396957, 0.042447689920663834, 0.11127373576164246, 0.706175684928894], [0.027094684541225433, 0.10074269026517868, 0.03567887097597122, 0.11874603480100632, 0.7177376747131348], [0.05303379148244858, 0.16735632717609406, 0.07481192797422409, 0.1467394083738327, 0.558058500289917], [0.030530773103237152, 0.07374854385852814, 0.042511507868766785, 0.13599461317062378, 0.7172144651412964]], [[0.20729634165763855, 0.32202279567718506, 0.40686869621276855, 0.06125586852431297, 0.0025563135277479887], [0.2121366709470749, 0.3214259445667267, 0.35011282563209534, 0.10928472131490707, 0.007039889693260193], [0.19981789588928223, 0.3088633716106415, 0.37803953886032104, 0.10690063238143921, 0.006378629244863987], [0.2309369444847107, 0.28425294160842896, 0.36789992451667786, 0.10838748514652252, 0.00852274987846613], [0.18881277740001678, 0.23111280798912048, 0.20014406740665436, 0.24590781331062317, 0.13402262330055237]], [[0.16913340985774994, 0.325674444437027, 0.4199082553386688, 0.0842854231595993, 0.0009984353091567755], [0.27046921849250793, 0.2558538317680359, 0.3722972571849823, 0.09851612150669098, 0.0028636129572987556], [0.2357405573129654, 0.27169838547706604, 0.4077673852443695, 0.08226976543664932, 0.002523898147046566], [0.20424582064151764, 0.27096834778785706, 0.3578070104122162, 0.15515407919883728, 0.011824756860733032], [0.12476429343223572, 0.11039964854717255, 0.07512687146663666, 0.19235756993293762, 0.49735161662101746]], [[0.00769460154697299, 0.8000181317329407, 0.19050872325897217, 0.0017776188906282187, 9.006603818306758e-07], [0.03625544160604477, 0.789474606513977, 0.17091147601604462, 0.0033446699380874634, 1.388073815178359e-05], [0.03413506597280502, 0.776007890701294, 0.18526457250118256, 0.00456920126453042, 2.3280721507035196e-05], [0.12290044128894806, 0.6629675030708313, 0.2066883146762848, 0.007375809364020824, 6.792855856474489e-05], [0.2829526364803314, 0.1152336373925209, 0.07013469189405441, 0.11253996938467026, 0.4191390872001648]], [[0.15575803816318512, 0.26067277789115906, 0.17494861781597137, 0.18779321014881134, 0.2208273559808731], [0.11254480481147766, 0.27157288789749146, 0.14481087028980255, 0.18403184413909912, 0.287039577960968], [0.12260355800390244, 0.2961905300617218, 0.16129924356937408, 0.1986357420682907, 0.22127094864845276], [0.08947813510894775, 0.13910479843616486, 0.07681304216384888, 0.2481418401002884, 0.44646215438842773], [0.024385353550314903, 0.034172117710113525, 0.025714993476867676, 0.09116047620773315, 0.8245670199394226]], [[0.08202240616083145, 0.15654444694519043, 0.10717763751745224, 0.6524150371551514, 0.0018404193688184023], [0.1736133098602295, 0.2623808979988098, 0.13423046469688416, 0.4019397795200348, 0.02783559449017048], [0.15047100186347961, 0.2500077188014984, 0.14168301224708557, 0.44223737716674805, 0.0156008992344141], [0.14748238027095795, 0.22549356520175934, 0.1292046159505844, 0.4713316559791565, 0.026487689465284348], [0.12294382601976395, 0.13312971591949463, 0.09271671622991562, 0.23120573163032532, 0.4200040400028229]], [[0.12989042699337006, 0.36387932300567627, 0.2962753176689148, 0.07962348312139511, 0.13033142685890198], [0.13115297257900238, 0.2921113073825836, 0.24045000970363617, 0.11653102934360504, 0.2197546809911728], [0.11422087252140045, 0.28343281149864197, 0.24334613978862762, 0.16151663661003113, 0.19748353958129883], [0.12020362913608551, 0.29530876874923706, 0.24032966792583466, 0.20742163062095642, 0.13673631846904755], [0.0787295326590538, 0.1523478776216507, 0.09094934910535812, 0.360922247171402, 0.3170510232448578]], [[0.07075352966785431, 0.13950537145137787, 0.08123880624771118, 0.6883814334869385, 0.02012084797024727], [0.1017952710390091, 0.21549402177333832, 0.13424594700336456, 0.500176191329956, 0.04828863590955734], [0.10392919927835464, 0.15247902274131775, 0.17267069220542908, 0.5114537477493286, 0.059467338025569916], [0.06033872067928314, 0.06122385337948799, 0.038336146622896194, 0.8144384026527405, 0.025662826374173164], [0.030270949006080627, 0.04802952706813812, 0.034596700221300125, 0.1857454925775528, 0.7013573050498962]], [[0.30335158109664917, 0.3465803861618042, 0.12402820587158203, 0.09736744314432144, 0.12867240607738495], [0.39516839385032654, 0.3459148406982422, 0.14923371374607086, 0.060147833079099655, 0.049535270780324936], [0.39988452196121216, 0.29774653911590576, 0.17058561742305756, 0.07139699906110764, 0.06038634851574898], [0.40968769788742065, 0.29200124740600586, 0.17532354593276978, 0.09198155254125595, 0.031005971133708954], [0.1298971027135849, 0.16245132684707642, 0.12308640778064728, 0.1891203373670578, 0.39544478058815]], [[0.15443933010101318, 0.16934247314929962, 0.08846946060657501, 0.5552998781204224, 0.032448798418045044], [0.23338748514652252, 0.21636837720870972, 0.10250065475702286, 0.3700275123119354, 0.0777159333229065], [0.2021557092666626, 0.22186796367168427, 0.10962271690368652, 0.39191558957099915, 0.07443807274103165], [0.1880364716053009, 0.16924619674682617, 0.08659367263317108, 0.42550110816955566, 0.1306225210428238], [0.08730100095272064, 0.104396753013134, 0.0796486958861351, 0.28960928320884705, 0.43904417753219604]], [[0.18327629566192627, 0.4466339945793152, 0.3179780840873718, 0.04560689255595207, 0.006504816468805075], [0.15699240565299988, 0.5146306753158569, 0.2720881700515747, 0.04459872469305992, 0.011690052226185799], [0.15189969539642334, 0.5040495991706848, 0.2793419361114502, 0.0539323128759861, 0.01077647227793932], [0.1743510365486145, 0.44284185767173767, 0.2702009677886963, 0.09612365067005157, 0.016482526436448097], [0.03794373571872711, 0.06289567053318024, 0.055205099284648895, 0.1042931005358696, 0.7396624088287354]]]], \"left_text\": [\"[CLS]\", \"i\", \"am\", \"angry\", \"[SEP]\"], \"right_text\": [\"[CLS]\", \"i\", \"am\", \"angry\", \"[SEP]\"]}], \"default_filter\": \"0\", \"root_div_id\": \"bertviz-9768a7c7064c4c3f9622a48cc98ea67c\", \"layer\": null, \"heads\": null, \"include_layers\": [0, 1, 2, 3, 4, 5]}; // HACK: {\"attention\": [{\"name\": null, \"attn\": [[[[0.19405639171600342, 0.06201070919632912, 0.0887366533279419, 0.09645151346921921, 0.5587447881698608], [0.5895689725875854, 0.07168586552143097, 0.11603238433599472, 0.18168698251247406, 0.041025739163160324], [0.22213223576545715, 0.4189453423023224, 0.06812570989131927, 0.22363190352916718, 0.067164845764637], [0.4687349796295166, 0.14345887303352356, 0.1813669055700302, 0.11699441075325012, 0.08944480866193771], [0.4769851863384247, 0.0608990415930748, 0.05997394770383835, 0.06586188077926636, 0.3362799286842346]], [[0.9929671287536621, 0.0013843384804204106, 0.001968993339687586, 0.0007281758589670062, 0.0029513014014810324], [0.006287270225584507, 0.03762666508555412, 0.16137397289276123, 0.7045882940292358, 0.09012380242347717], [0.02647482044994831, 0.06906803697347641, 0.21187402307987213, 0.2247275710105896, 0.4678555130958557], [0.05959916114807129, 0.05587085708975792, 0.2140478789806366, 0.2844051718711853, 0.38607698678970337], [0.08925815671682358, 0.5029622912406921, 0.10566931962966919, 0.03716927021741867, 0.26494094729423523]], [[0.9440745115280151, 0.0020921577233821154, 0.0019412963883951306, 0.0051685296930372715, 0.046723611652851105], [0.9909594058990479, 0.0003089548845309764, 0.0006372814532369375, 0.001843396807089448, 0.006250990089029074], [0.967442512512207, 0.018954768776893616, 0.00011239375453442335, 0.00015375098155345768, 0.013336560688912868], [0.9588123559951782, 0.0001626319281058386, 0.02284824289381504, 0.0035307432990521193, 0.014646070078015327], [0.5788565278053284, 0.00017557521641720086, 0.0010223428253084421, 0.3213781714439392, 0.09856747835874557]], [[0.8433767557144165, 0.010047093033790588, 0.020853960886597633, 0.03262406215071678, 0.09309806674718857], [0.8620905876159668, 0.004188495688140392, 0.005725265014916658, 0.008612450212240219, 0.11938317120075226], [0.22432461380958557, 0.5341402292251587, 0.08355788886547089, 0.019175171852111816, 0.13880209624767303], [0.3738546073436737, 0.038645509630441666, 0.45466265082359314, 0.10722789913415909, 0.025609297677874565], [0.1348804384469986, 0.0057856799103319645, 0.07413958013057709, 0.1442369520664215, 0.6409574151039124]], [[0.5483711957931519, 0.1324743777513504, 0.12709645926952362, 0.1436513513326645, 0.048406582325696945], [0.29171666502952576, 0.005138196516782045, 0.15835444629192352, 0.2960081100463867, 0.24878260493278503], [0.6316631436347961, 0.026087241247296333, 0.011067146435379982, 0.24581918120384216, 0.08536321669816971], [0.8776523470878601, 0.02229282632470131, 0.02499907836318016, 0.05406401678919792, 0.02099180407822132], [0.005513622425496578, 0.0029694263357669115, 0.0028409508522599936, 0.002906094305217266, 0.9857698678970337]], [[0.6628026962280273, 0.06343149393796921, 0.07215829938650131, 0.09844667464494705, 0.1031607985496521], [0.1351911574602127, 0.002672330942004919, 0.8426122069358826, 0.00400255061686039, 0.015521690249443054], [0.8453419804573059, 0.021398328244686127, 0.018492626026272774, 0.049173347651958466, 0.06559377163648605], [0.2566775381565094, 0.026031842455267906, 0.028828099370002747, 0.0596262663602829, 0.6288362145423889], [0.4461047947406769, 0.040726445615291595, 0.06363271921873093, 0.20428194105625153, 0.24525415897369385]], [[0.9839525818824768, 0.0010495472233742476, 0.004467691760510206, 0.0009787260787561536, 0.009551494382321835], [0.2371351569890976, 0.03255479782819748, 0.11203905940055847, 0.42418786883354187, 0.1940830647945404], [0.6586043238639832, 0.06197260692715645, 0.10662879794836044, 0.07586896419525146, 0.09692531824111938], [0.4901740252971649, 0.03617532178759575, 0.15259146690368652, 0.2303573340177536, 0.09070177376270294], [0.9337578415870667, 0.011656544171273708, 0.012994802556931973, 0.010345554910600185, 0.031245216727256775]], [[0.3405543267726898, 0.13711586594581604, 0.15263818204402924, 0.12596973776817322, 0.2437218874692917], [0.8009675145149231, 0.01596541330218315, 0.0442747101187706, 0.014042248949408531, 0.12475015968084335], [0.7517427802085876, 0.08461932837963104, 0.030209384858608246, 0.0410633347928524, 0.09236522018909454], [0.7810876369476318, 0.04050816223025322, 0.07917910069227219, 0.0445164255797863, 0.05470866709947586], [0.3904185891151428, 0.3271614909172058, 0.09538070112466812, 0.10214559733867645, 0.0848936215043068]], [[0.790198028087616, 0.03569474071264267, 0.04886145889759064, 0.07012493163347244, 0.055120762437582016], [0.06946496665477753, 0.004999159835278988, 0.06926028430461884, 0.3345927596092224, 0.521682858467102], [0.1153179407119751, 0.012781726196408272, 0.04011178016662598, 0.2874133884906769, 0.5443751811981201], [0.48113787174224854, 0.006555660627782345, 0.007719201501458883, 0.14697079360485077, 0.35761645436286926], [0.5639311671257019, 0.047918327152729034, 0.04622010514140129, 0.2676759660243988, 0.07425439357757568]], [[0.6538974046707153, 0.015872729942202568, 0.01988396607339382, 0.02790123037993908, 0.28244468569755554], [0.9653056263923645, 0.0035382979549467564, 0.00024907130864448845, 0.0008746165549382567, 0.03003239445388317], [0.825614333152771, 0.014717582613229752, 0.08134378492832184, 0.00039815905620343983, 0.07792609930038452], [0.9687662720680237, 0.00014799500058870763, 1.690396857156884e-05, 0.013239645399153233, 0.017829276621341705], [0.897297739982605, 0.014147729612886906, 0.007443585898727179, 0.01225355826318264, 0.06885739415884018]], [[0.8747616410255432, 0.023594435304403305, 0.020504318177700043, 0.019016113132238388, 0.06212345138192177], [0.14760242402553558, 0.00047514410107396543, 0.827213704586029, 0.0210160743445158, 0.003692626953125], [0.41371577978134155, 0.0031643249094486237, 0.0019208798184990883, 0.49576959013938904, 0.08542932569980621], [0.10839877277612686, 0.0011088341707363725, 0.0003510887618176639, 0.005740239284932613, 0.8844010829925537], [0.9409611225128174, 0.0013039858313277364, 0.005092828068882227, 0.0021127231884747744, 0.05052931606769562]], [[0.8579161763191223, 0.01669933646917343, 0.02558222785592079, 0.011946131475269794, 0.08785617351531982], [0.242217555642128, 0.010383506305515766, 0.3971751928329468, 0.2533320188522339, 0.09689173847436905], [0.24301430583000183, 0.5913441181182861, 0.0016215417999774218, 0.09662818163633347, 0.06739186495542526], [0.673907995223999, 0.0076759071089327335, 0.031101994216442108, 0.03626884147524834, 0.2510453462600708], [0.5710970163345337, 0.07541648298501968, 0.02203509211540222, 0.11681940406560898, 0.21463197469711304]]], [[[0.9895485639572144, 0.0023988790344446898, 0.0015616652090102434, 0.00010044694499811158, 0.006390455644577742], [3.4618437894096132e-06, 1.7896719555210439e-06, 0.9999935626983643, 2.2878028360651115e-08, 1.227930169989122e-06], [0.0026643977034837008, 0.00022448236995842308, 9.372000204166397e-05, 0.9887069463729858, 0.008310405537486076], [0.0005004592821933329, 7.263337465701625e-05, 3.106847259459755e-07, 5.5686850686242906e-09, 0.9994264841079712], [0.7788365483283997, 0.0027602817863225937, 0.005789742339402437, 7.931614527478814e-05, 0.2125341147184372]], [[0.6834296584129333, 0.014625128358602524, 0.05148184299468994, 0.021987659856677055, 0.2284756600856781], [0.036917079240083694, 0.0009810597402974963, 0.9308555722236633, 0.0005803414387628436, 0.03066588193178177], [0.002136148978024721, 0.9951127171516418, 2.9566501325462013e-05, 2.93859739031177e-05, 0.002692114794626832], [0.538173496723175, 0.03842233121395111, 0.26734110713005066, 0.00245757307857275, 0.15360558032989502], [0.7402718663215637, 0.020015336573123932, 0.04626411199569702, 0.042305562645196915, 0.1511431187391281]], [[0.6189966797828674, 0.008873937651515007, 0.03263574093580246, 0.05015505850315094, 0.2893385589122772], [0.4675518274307251, 0.02456626482307911, 0.014195197261869907, 0.0277943704277277, 0.46589237451553345], [0.6754982471466064, 0.01780715584754944, 0.015131074003875256, 0.010095584206283092, 0.2814679443836212], [0.7103825211524963, 0.018859663978219032, 0.005373367108404636, 0.02104664221405983, 0.2443377822637558], [0.4452921748161316, 0.07204562425613403, 0.040311235934495926, 0.052118852734565735, 0.3902320861816406]], [[0.6493775844573975, 0.0499921478331089, 0.06773852556943893, 0.07504456490278244, 0.15784713625907898], [0.20245780050754547, 0.013033588416874409, 0.01153531763702631, 0.08640724420547485, 0.6865660548210144], [0.3464333713054657, 0.014673102647066116, 0.00687206769362092, 0.17762744426727295, 0.45439401268959045], [0.47864609956741333, 0.19005848467350006, 0.08764922618865967, 0.0007073066662997007, 0.242938831448555], [0.9040210843086243, 0.005535985808819532, 0.019052010029554367, 0.015154186636209488, 0.05623667314648628]], [[0.9152679443359375, 0.02671089395880699, 0.040653228759765625, 0.01493267621845007, 0.002435348927974701], [0.5959824323654175, 0.06905517727136612, 0.2823196351528168, 0.03688706457614899, 0.015755657106637955], [0.12229469418525696, 0.8551582098007202, 0.01704743318259716, 0.004648817703127861, 0.0008508912869729102], [0.9316385984420776, 0.013522484339773655, 0.03437420725822449, 0.019652849063277245, 0.0008119308040477335], [0.007862078957259655, 6.830904021626338e-05, 0.00030108276405371726, 0.0004571574681904167, 0.9913113117218018]], [[0.7587088346481323, 0.029696689918637276, 0.05876249447464943, 0.0744185522198677, 0.07841343432664871], [0.3932379186153412, 0.18663418292999268, 0.04923247918486595, 0.03722807765007019, 0.3336673378944397], [0.5326569080352783, 0.03743494674563408, 0.08171117305755615, 0.013260996900498867, 0.3349359631538391], [0.7709102034568787, 0.0568530298769474, 0.014407055452466011, 0.012863153591752052, 0.14496657252311707], [0.5612412095069885, 0.02462580054998398, 0.06832415610551834, 0.028306614607572556, 0.3175022304058075]], [[0.22763189673423767, 0.04298144578933716, 0.021338727325201035, 0.030762631446123123, 0.6772852540016174], [0.06261947005987167, 0.6421360969543457, 0.0012116662692278624, 0.0002983275044243783, 0.29373449087142944], [0.07518509775400162, 0.002755821915343404, 0.7399337887763977, 0.00013447535457089543, 0.18199080228805542], [0.004187896382063627, 0.0005151163204573095, 0.00010193420894211158, 0.9806087613105774, 0.014586162753403187], [0.16594964265823364, 0.20041154325008392, 0.1569301038980484, 0.1578618288040161, 0.3188468813896179]], [[0.732905387878418, 0.05578703060746193, 0.06062108278274536, 0.06632772833108902, 0.08435878157615662], [0.2790757119655609, 0.37981390953063965, 0.05372186005115509, 0.06761711835861206, 0.21977141499519348], [0.31604284048080444, 0.29250022768974304, 0.06279107183218002, 0.19466686248779297, 0.13399899005889893], [0.44864246249198914, 0.3015921115875244, 0.0849296972155571, 0.0023845145478844643, 0.16245122253894806], [0.931373655796051, 0.018168937414884567, 0.021698083728551865, 0.009767873212695122, 0.018991397693753242]], [[0.9653043746948242, 0.01851663365960121, 0.007294509094208479, 0.007571007125079632, 0.001313459943048656], [0.06965827941894531, 0.7271307706832886, 0.19338856637477875, 0.005635281093418598, 0.00418708473443985], [0.009627108462154865, 0.9896195530891418, 0.0006978697492741048, 3.028395258297678e-05, 2.515454798412975e-05], [0.7014592885971069, 0.14262458682060242, 0.1522187888622284, 0.0014666945207864046, 0.002230624668300152], [0.0036438917741179466, 0.00029601738788187504, 0.0009402171126566827, 0.0001377763255732134, 0.9949821829795837]], [[0.9176242351531982, 0.0003906420315615833, 2.5945451852749102e-05, 9.078759467229247e-05, 0.08186841756105423], [1.7001269725369639e-06, 3.4080990189977456e-06, 0.999992847442627, 9.985635784914848e-08, 1.942839389812434e-06], [1.3039744771958794e-05, 2.5860849746095482e-06, 7.573516995762475e-06, 0.9998002648353577, 0.0001765402703313157], [3.918500442523509e-05, 5.209258688410046e-06, 7.1941705925837596e-09, 1.159879925438645e-08, 0.9999555349349976], [0.9774830341339111, 0.0001528971188236028, 0.00036467588506639004, 6.007001138641499e-05, 0.021939178928732872]], [[0.7759149074554443, 0.04311250150203705, 0.07594098895788193, 0.01509935688227415, 0.0899321585893631], [0.11413257569074631, 0.19241976737976074, 0.6432340145111084, 0.003038988681510091, 0.047174688428640366], [0.5076712369918823, 0.314964234828949, 0.03988524526357651, 0.056820377707481384, 0.08065889030694962], [0.2469872236251831, 0.08489734679460526, 0.009604129008948803, 0.6324746608734131, 0.02603672258555889], [0.9759035110473633, 0.0027959623839706182, 0.00631627207621932, 0.0041729179210960865, 0.010811320506036282]], [[0.7573906183242798, 0.013176955282688141, 0.027991043403744698, 0.006471320986747742, 0.19496996700763702], [0.17864438891410828, 0.04717503860592842, 0.4303230047225952, 0.15664342045783997, 0.187214195728302], [0.16930392384529114, 0.26246562600135803, 0.23246103525161743, 0.10392770916223526, 0.23184169828891754], [0.4860284626483917, 0.1547883301973343, 0.056595176458358765, 0.025037432089447975, 0.27755066752433777], [0.8468018770217896, 0.005388881079852581, 0.010107251815497875, 0.002190437400713563, 0.1355116069316864]]], [[[0.022951390594244003, 0.0057235718704760075, 0.02285224199295044, 0.04312634840607643, 0.9053463339805603], [0.003623624099418521, 0.002568622585386038, 0.007529105991125107, 0.2617587447166443, 0.7245199084281921], [0.0031876687426120043, 0.08690493553876877, 0.0604185126721859, 0.6260938048362732, 0.22339504957199097], [0.0051621138118207455, 0.0008135248790495098, 7.388035010080785e-05, 0.15640419721603394, 0.8375462889671326], [0.0005314791924320161, 5.397665745476843e-07, 3.827452985660784e-07, 1.5866983176238136e-06, 0.9994660019874573]], [[0.02059490792453289, 0.24661387503147125, 0.039048269391059875, 0.6739965081214905, 0.019746340811252594], [0.048542145639657974, 0.3443865180015564, 0.23278069496154785, 0.1779046505689621, 0.1963859647512436], [0.07191367447376251, 0.29298827052116394, 0.310245543718338, 0.03949470818042755, 0.2853577435016632], [0.07952168583869934, 0.20698416233062744, 0.101340152323246, 0.007364263758063316, 0.6047897338867188], [0.005112444516271353, 0.001841202494688332, 0.005794459953904152, 0.0020208763889968395, 0.9852310419082642]], [[0.5384160280227661, 0.027463633567094803, 0.02062828093767166, 0.004340115003287792, 0.4091518521308899], [0.17873212695121765, 0.07760953158140182, 0.02547556906938553, 0.03812583535909653, 0.6800569891929626], [0.11463435739278793, 0.08725074678659439, 0.16742055118083954, 0.12664900720119476, 0.504045307636261], [0.25739586353302, 0.032526228576898575, 0.058618105947971344, 0.00905781239271164, 0.6424020528793335], [0.00021820013353135437, 1.8284765701537253e-07, 8.694785265106475e-07, 3.707670259700535e-07, 0.9997803568840027]], [[0.001972938422113657, 0.0024094555992633104, 0.003916672896593809, 0.010403484106063843, 0.9812973737716675], [0.0026215636171400547, 0.17746469378471375, 1.5477888155146502e-05, 1.6396605133195408e-05, 0.8198820352554321], [0.009111165069043636, 3.974669652961893e-06, 0.03745948523283005, 6.397846874506286e-08, 0.9534252285957336], [0.0014050955651327968, 1.1903613312824746e-06, 4.69127314772777e-09, 0.00035557904629968107, 0.9982380867004395], [2.769510138023179e-05, 3.5743575210744893e-08, 3.49737416804885e-09, 8.230222725558178e-09, 0.9999723434448242]], [[0.03799312189221382, 0.14175857603549957, 0.1192009225487709, 0.3567967414855957, 0.3442506790161133], [0.003191496944054961, 0.1407935470342636, 0.23855780065059662, 0.09865434467792511, 0.5188028216362], [0.0250529944896698, 0.465933233499527, 0.0360407754778862, 0.12232917547225952, 0.3506438136100769], [0.004545087460428476, 0.011315279640257359, 0.001217474928125739, 0.007747215684503317, 0.9751748442649841], [0.0006812303327023983, 3.0417351808864623e-05, 2.604668407002464e-05, 9.912117093335837e-05, 0.9991631507873535]], [[0.00015474687097594142, 0.00011837931378977373, 0.0003284719423390925, 0.0015495303086936474, 0.9978488683700562], [0.007862812839448452, 0.004616749472916126, 0.0063146199099719524, 0.4830082952976227, 0.4981975853443146], [0.0366365872323513, 0.018221380189061165, 0.0010211834451183677, 0.6423602104187012, 0.30176061391830444], [0.014020545408129692, 0.014017123728990555, 0.008752255700528622, 0.0475006178021431, 0.9157094955444336], [1.624933793209493e-05, 9.515694728179369e-06, 1.0400605788163375e-05, 0.00044388213427737355, 0.9995200634002686]], [[0.006345915608108044, 0.0021693550515919924, 0.0029637771658599377, 0.020570091903209686, 0.9679508805274963], [0.017096109688282013, 0.021417755633592606, 0.0027438944671303034, 0.05572217330336571, 0.9030202031135559], [0.1274445652961731, 0.08575769513845444, 0.00218190741725266, 0.17813143134117126, 0.6064844131469727], [0.0028400353621691465, 0.07769263535737991, 0.4466952979564667, 0.08715910464525223, 0.3856129050254822], [7.440827903337777e-05, 2.7109406801173463e-05, 6.275130999711109e-06, 0.0003346509765833616, 0.9995575547218323]], [[0.008474020287394524, 0.0010634815553203225, 0.0004285775066819042, 0.009050379507243633, 0.980983555316925], [0.005671854596585035, 0.002511395141482353, 0.0022519591730087996, 0.018559204414486885, 0.9710054993629456], [0.014317253604531288, 0.4368667006492615, 0.0006937455618754029, 0.12674695253372192, 0.4213753044605255], [0.006114809308201075, 0.01799485646188259, 0.03441591560840607, 0.006561921909451485, 0.9349125027656555], [0.0002209797821706161, 7.890112465247512e-05, 7.668403668503743e-06, 0.0023305153008550406, 0.997361958026886]], [[0.022895166650414467, 0.0008417649660259485, 0.0019564437679946423, 0.0035157783422619104, 0.9707908034324646], [0.06609442830085754, 0.0020167683251202106, 0.005464713089168072, 0.057308342307806015, 0.8691157698631287], [0.1436416357755661, 0.015687646344304085, 0.03758321702480316, 0.02740870974957943, 0.775678813457489], [0.08174213767051697, 0.02918369136750698, 0.008445801213383675, 0.018052563071250916, 0.8625757694244385], [0.0010616467334330082, 0.0006068104994483292, 0.00046925374772399664, 0.0006306100985966623, 0.9972317814826965]], [[0.01915462501347065, 0.005764467641711235, 0.008004262112081051, 0.021846430376172066, 0.9452301859855652], [0.0950254276394844, 0.0018576631555333734, 0.013409019447863102, 0.06769420206546783, 0.8220137357711792], [0.1056276261806488, 0.01193647924810648, 0.0030414850916713476, 0.022035302594304085, 0.8573591113090515], [0.16993370652198792, 0.007797094527631998, 0.010492883622646332, 0.00015920540317893028, 0.8116170763969421], [0.008061852306127548, 0.000801491376478225, 0.0005081762210465968, 0.004948280286043882, 0.9856802225112915]], [[0.005574948154389858, 0.0028281507547944784, 0.001727994647808373, 0.006746124941855669, 0.9831227660179138], [0.031648069620132446, 0.03233478590846062, 0.018169743940234184, 0.0468355156481266, 0.8710117340087891], [0.13857758045196533, 0.3987019658088684, 0.025665894150733948, 0.09486479312181473, 0.3421896994113922], [0.04818161204457283, 0.12101998925209045, 0.03512559458613396, 0.026685286313295364, 0.7689875364303589], [0.000673776725307107, 6.272355676628649e-05, 0.00011428448488004506, 0.0013358559226617217, 0.99781334400177]], [[0.01214606873691082, 0.006622841116040945, 0.000656636490020901, 0.004589387681335211, 0.975985050201416], [0.042273230850696564, 0.04842786490917206, 0.10540597885847092, 0.11426303535699844, 0.6896299123764038], [0.012591996230185032, 0.09558945894241333, 0.009419320151209831, 0.7551549673080444, 0.12724421918392181], [0.058710727840662, 0.058730073273181915, 0.02481231465935707, 0.007227695547044277, 0.8505191206932068], [0.0019749817438423634, 0.0008224352495744824, 0.00020167544425930828, 0.0015289717121049762, 0.9954719543457031]]], [[[0.00033651894773356616, 0.0036778731737285852, 0.0029938281513750553, 0.02380339801311493, 0.9691884517669678], [0.00486623402684927, 0.026676321402192116, 0.007468677591532469, 0.048826925456523895, 0.9121618270874023], [0.00262191379442811, 0.04191973805427551, 0.008609624579548836, 0.033125847578048706, 0.9137229323387146], [0.006690413691103458, 0.0407051257789135, 0.021897656843066216, 0.07294555008411407, 0.8577612042427063], [0.00034630726440809667, 0.001133294077590108, 0.0012843944132328033, 0.002542993053793907, 0.9946929812431335]], [[0.0028620087541639805, 0.017595501616597176, 0.005662455689162016, 0.18781886994838715, 0.7860612273216248], [0.005327051505446434, 0.018506474792957306, 0.02453899011015892, 0.6736002564430237, 0.2780272662639618], [0.0056465994566679, 0.011678332462906837, 0.0033473537769168615, 0.32099151611328125, 0.6583362221717834], [0.0012465498875826597, 0.0005837136995978653, 9.156367741525173e-05, 0.00026982114650309086, 0.9978082776069641], [0.001048427540808916, 0.0003660322690848261, 0.00011746434756787494, 0.0023774716537445784, 0.9960907101631165]], [[9.776440856512636e-05, 0.03932053595781326, 0.015256430022418499, 0.006823435425758362, 0.9385017156600952], [0.0017814110033214092, 0.013996420428156853, 0.11537527292966843, 0.13608096539974213, 0.7327659726142883], [0.009148306213319302, 0.01942296326160431, 0.007529290392994881, 0.03625524789094925, 0.9276442527770996], [0.002106208587065339, 0.002347330329939723, 0.0023827601689845324, 0.0049669514410197735, 0.9881966710090637], [0.00343143567442894, 0.00044458702905103564, 0.0007500149076804519, 0.002314910525456071, 0.9930590391159058]], [[0.0020410127472132444, 0.000986637081950903, 0.00023001916997600347, 0.0019025563960894942, 0.9948397278785706], [0.006333836819976568, 0.0010087450500577688, 0.000347319757565856, 0.018253257498145103, 0.9740568995475769], [0.001018598908558488, 0.0018695207545533776, 0.00010946469410555437, 0.005750379525125027, 0.9912521243095398], [0.015646597370505333, 0.006853697821497917, 0.0020639451686292887, 0.017224444076418877, 0.9582113027572632], [0.008235652931034565, 0.0016561582451686263, 0.0005488995229825377, 0.0014721694169566035, 0.9880870580673218]], [[8.482896373607218e-05, 3.216518962290138e-05, 2.8729580208164407e-06, 0.0021610611584037542, 0.9977191090583801], [0.023434428498148918, 0.004233730025589466, 0.0012843961594626307, 0.03486277535557747, 0.9361847043037415], [0.00516416085883975, 0.9445191621780396, 0.0006038586725480855, 0.012910495512187481, 0.03680232912302017], [0.02881951443850994, 0.007216432597488165, 0.06776094436645508, 0.008656354621052742, 0.887546718120575], [0.00025173748144879937, 2.390405279584229e-05, 1.3729561032960191e-05, 0.0008222411852329969, 0.9988884329795837]], [[0.0005575065151788294, 0.0035954415798187256, 0.008750282227993011, 0.34540969133377075, 0.6416870355606079], [0.0036271812859922647, 0.004060346633195877, 0.02840176224708557, 0.7037831544876099, 0.2601275146007538], [0.001739353989250958, 0.0015079699223861098, 0.0008104119915515184, 0.2921391725540161, 0.7038031816482544], [0.00044801714830100536, 0.00025051634293049574, 6.250676233321428e-05, 0.0026244274340569973, 0.9966145157814026], [7.735806320852134e-06, 1.3083133126201574e-05, 2.326288267795462e-06, 0.0017045910935848951, 0.998272180557251]], [[0.012538328766822815, 0.001007830840535462, 0.0010403773048892617, 0.0035926455166190863, 0.9818207621574402], [0.006732405163347721, 0.002996668918058276, 0.010859315283596516, 0.11071942001581192, 0.8686922192573547], [0.0020716064609587193, 0.0007100867806002498, 0.000495672516990453, 0.04194285348057747, 0.9547797441482544], [0.0002565313770901412, 0.0001130764139816165, 0.0001736082776915282, 0.0009763254784047604, 0.998480498790741], [0.0013254685327410698, 0.00020351700368337333, 4.857044405071065e-05, 0.0008174288086593151, 0.9976049661636353]], [[0.0027736893389374018, 0.0006879375432617962, 0.00010737011325545609, 0.0033344365656375885, 0.9930965304374695], [0.007980592548847198, 0.0010344103211537004, 0.0017621220322325826, 0.00694566685706377, 0.9822772145271301], [0.00013344122271519154, 0.012012815102934837, 0.0004040490894112736, 0.01136736199259758, 0.9760823845863342], [0.0036683008074760437, 0.0011544890003278852, 0.0002488057070877403, 0.002157469280064106, 0.9927709698677063], [0.0013296555262058973, 0.003028438426554203, 0.0006950978422537446, 0.0009525106870569289, 0.993994414806366]], [[0.0033390952739864588, 0.12188374996185303, 0.025214673951268196, 0.10082549601793289, 0.7487369775772095], [0.019470136612653732, 0.038216978311538696, 0.04748750850558281, 0.02449982613325119, 0.8703255653381348], [0.009958624839782715, 0.01311084907501936, 0.009593931958079338, 0.0036030912306159735, 0.9637334942817688], [0.012456817552447319, 0.013571888208389282, 0.015790948644280434, 0.01296077761799097, 0.9452196359634399], [0.0017979078693315387, 0.0008403928950428963, 0.0005482990527525544, 0.0012537459842860699, 0.9955596923828125]], [[0.0004402409540489316, 0.0006129862158559263, 0.00018696593178901821, 0.010378057137131691, 0.9883818030357361], [0.0021059750579297543, 0.0016935805324465036, 0.00033384773996658623, 0.05775702744722366, 0.9381096363067627], [0.011987533420324326, 0.006008105352520943, 0.00035824833321385086, 0.0229378342628479, 0.9587082266807556], [0.006210068706423044, 0.03730272129178047, 0.0018722600070759654, 0.008245933800935745, 0.9463689923286438], [0.0013660957338288426, 0.001038348418660462, 0.000307333713863045, 0.0036655128933489323, 0.9936227202415466]], [[0.00013474376464728266, 0.00027670100098475814, 2.6510995667194948e-05, 0.005784040782600641, 0.9937781095504761], [0.004349448252469301, 0.0014259475283324718, 0.0005208038492128253, 0.42396080493927, 0.5697429776191711], [0.0014495953219011426, 0.0036165639758110046, 0.0003500581660773605, 0.28470173478126526, 0.7098819613456726], [0.00024577841395512223, 0.0004014336736872792, 0.00014174688840284944, 4.8329387936973944e-05, 0.9991627931594849], [0.000327524816384539, 0.00010364870104240254, 2.2374340915121138e-05, 0.00041482338565401733, 0.9991316199302673]], [[0.0019520214991644025, 0.001419349922798574, 0.00021202849166002125, 0.0069494349882006645, 0.9894670844078064], [0.004351270850747824, 0.010861207731068134, 0.00034913612762466073, 0.014418777078390121, 0.9700196981430054], [0.021142542362213135, 0.5343221426010132, 0.00600300682708621, 0.03470798209309578, 0.4038242995738983], [0.0021811823826283216, 0.003699854016304016, 0.0006137604941613972, 0.00557435117661953, 0.9879308938980103], [0.000617773097474128, 0.0003202089574187994, 5.96858881181106e-05, 0.0020716709550470114, 0.9969307780265808]]], [[[9.562940977048129e-05, 0.00044401775812730193, 5.971827340545133e-05, 0.9145706295967102, 0.08482997864484787], [0.001135369180701673, 0.007447868585586548, 0.0008031854522414505, 0.7592758536338806, 0.23133772611618042], [1.3365330232772976e-05, 0.00013872842828277498, 0.00020953042258042842, 0.9611574411392212, 0.038480885326862335], [1.2035587133141235e-05, 1.7125066733569838e-05, 1.8714887346504838e-06, 0.97235107421875, 0.027617905288934708], [4.460209765966283e-06, 2.4822405976010486e-05, 6.872492576803779e-06, 0.026673929765820503, 0.973289966583252]], [[0.00016650324687361717, 0.002610225696116686, 6.279157241806388e-05, 0.05212601646780968, 0.9450345039367676], [0.01394512876868248, 0.00628645857796073, 0.0008452277979813516, 0.013605862855911255, 0.9653173685073853], [0.014328031800687313, 0.036387428641319275, 0.00225149467587471, 0.15627682209014893, 0.7907561659812927], [0.012711632065474987, 0.037162210792303085, 0.001086127944290638, 0.006635262165218592, 0.9424046874046326], [0.000329644070006907, 0.00151855091098696, 0.00018478947458788753, 0.06385787576436996, 0.9341092109680176]], [[1.765403794706799e-05, 0.018467891961336136, 0.002070209477096796, 0.969353199005127, 0.010091075673699379], [0.003451122436672449, 0.01559144351631403, 0.021857857704162598, 0.8136404752731323, 0.1454591304063797], [0.006890397984534502, 0.06275026500225067, 0.04549316316843033, 0.7739152908325195, 0.11095084249973297], [0.012076353654265404, 0.15083706378936768, 0.07992109656333923, 0.5127755403518677, 0.24438993632793427], [0.0011477384250611067, 0.0034630734007805586, 0.001258218428120017, 0.07975870370864868, 0.9143722057342529]], [[3.542781269061379e-05, 0.0005567080806940794, 3.4734923247015104e-05, 0.03424348682165146, 0.9651296734809875], [0.003016789210960269, 0.02906869724392891, 0.01084035076200962, 0.12563171982765198, 0.8314424157142639], [0.004037466831505299, 0.0569092221558094, 0.0043867225758731365, 0.13843919336795807, 0.7962274551391602], [0.02358282543718815, 0.6015228629112244, 0.2113085389137268, 0.039850667119026184, 0.12373511493206024], [0.03197157755494118, 0.017715295776724815, 0.011689637787640095, 0.05465903878211975, 0.883964478969574]], [[0.009229335933923721, 0.28147926926612854, 0.006875376217067242, 0.007830856367945671, 0.6945851445198059], [0.05083417519927025, 0.4200672209262848, 0.11113892495632172, 0.04348691180348396, 0.3744727373123169], [0.015181593596935272, 0.7034834623336792, 0.02733667753636837, 0.08080694824457169, 0.17319130897521973], [0.0034046657383441925, 0.08357901126146317, 0.008348004892468452, 0.04841042682528496, 0.8562579154968262], [0.008891696110367775, 0.022830964997410774, 0.005480894818902016, 0.026871977373957634, 0.9359245300292969]], [[1.663777766225394e-05, 0.000358690187567845, 9.802159911487252e-05, 0.999286949634552, 0.00023978044919203967], [0.011055233888328075, 0.0029384372755885124, 0.0025175069458782673, 0.9495148658752441, 0.03397398442029953], [0.011747175827622414, 0.003771108342334628, 0.002538632368668914, 0.9345834255218506, 0.047359637916088104], [0.03818413242697716, 0.016311584040522575, 0.010297334752976894, 0.8314609527587891, 0.10374592244625092], [0.014986882917582989, 0.026356952264904976, 0.006345183122903109, 0.3801943063735962, 0.5721166729927063]], [[0.010390580631792545, 0.029212072491645813, 0.004462845157831907, 0.002812550636008382, 0.9531220197677612], [0.03238505497574806, 0.24859143793582916, 0.0416998490691185, 0.009841859340667725, 0.6674817800521851], [0.010642079636454582, 0.021199693903326988, 0.2958131432533264, 0.016585461795330048, 0.6557596325874329], [0.0094310212880373, 0.01367984525859356, 0.010364631190896034, 0.024223320186138153, 0.9423011541366577], [0.004354106727987528, 0.00803819764405489, 0.002668422181159258, 0.004803451243788004, 0.9801357984542847]], [[1.7301472325925715e-05, 0.0010318179847672582, 2.3696306016063318e-05, 0.9906643629074097, 0.008262794464826584], [0.00045695898006670177, 0.0035635228268802166, 0.0006568587850779295, 0.9781877994537354, 0.017134753987193108], [0.00012556913134176284, 0.012152625247836113, 0.0018764847191050649, 0.9770852327346802, 0.008760156109929085], [0.00042973191011697054, 0.003812457202002406, 0.00019559245265554637, 0.8230640888214111, 0.1724981814622879], [3.357622699695639e-05, 0.00032531158649362624, 4.2715706513263285e-05, 0.04837299510836601, 0.9512253403663635]], [[0.006442090962082148, 0.1512557715177536, 0.03171056509017944, 0.2487238496541977, 0.5618677735328674], [0.004371549468487501, 0.8094466328620911, 0.11332563310861588, 0.014220652170479298, 0.05863550677895546], [0.002118141623213887, 0.6103597283363342, 0.3328893482685089, 0.0264988224953413, 0.02813398465514183], [0.019577307626605034, 0.29168790578842163, 0.1919035166501999, 0.4053330719470978, 0.0914982333779335], [0.1855868548154831, 0.08403543382883072, 0.07401761412620544, 0.08456432074308395, 0.5717957019805908]], [[0.004682932514697313, 0.009925909340381622, 0.00041605959995649755, 0.005663336720317602, 0.9793117046356201], [0.0023582670837640762, 0.02692769281566143, 0.017548222094774246, 0.06990408152341843, 0.8832617402076721], [0.0016647413140162826, 0.07815179973840714, 0.004033204633742571, 0.045681390911340714, 0.8704688549041748], [0.000896710844244808, 0.00505769532173872, 0.0013255598023533821, 0.004642884247004986, 0.9880771636962891], [0.002369616413488984, 0.0049219983629882336, 0.0013160643866285682, 0.012069672346115112, 0.9793227314949036]], [[0.0045514279045164585, 0.02369951643049717, 0.00202431483194232, 0.6565269827842712, 0.3131977319717407], [0.014903323724865913, 0.09506592899560928, 0.03809063136577606, 0.4114108979701996, 0.4405292272567749], [0.007760884240269661, 0.054170478135347366, 0.011943410150706768, 0.633013129234314, 0.2931121587753296], [0.18536922335624695, 0.16310624778270721, 0.03526772931218147, 0.146977037191391, 0.46927979588508606], [0.0075179715640842915, 0.02380022220313549, 0.00875796377658844, 0.06748433411121368, 0.8924394845962524]], [[0.08594308793544769, 0.06339333951473236, 0.012415879406034946, 0.007287568412721157, 0.830960214138031], [0.025518329814076424, 0.0010843034833669662, 0.010356966406106949, 0.024131422862410545, 0.9389088749885559], [0.026152214035391808, 0.0035490074660629034, 0.0025677746161818504, 0.033738262951374054, 0.9339927434921265], [0.005674699787050486, 0.023838110268115997, 0.013638775795698166, 0.0006849895580671728, 0.9561634063720703], [0.15429818630218506, 0.09293487668037415, 0.0756855458021164, 0.15117594599723816, 0.5259054899215698]]], [[[0.1373031884431839, 0.1597328633069992, 0.06319417804479599, 0.3953310251235962, 0.2444387823343277], [0.14844563603401184, 0.17900985479354858, 0.08473321795463562, 0.34479838609695435, 0.24301299452781677], [0.13981792330741882, 0.17498500645160675, 0.07190589606761932, 0.39941081404685974, 0.21388038992881775], [0.13135774433612823, 0.15040795505046844, 0.08165697753429413, 0.28847524523735046, 0.3481020927429199], [0.051805462688207626, 0.09801433980464935, 0.05584469065070152, 0.2937434911727905, 0.500592052936554]], [[0.05075807124376297, 0.1759924590587616, 0.06751710176467896, 0.29008063673973083, 0.41565170884132385], [0.032267745584249496, 0.10783513635396957, 0.042447689920663834, 0.11127373576164246, 0.706175684928894], [0.027094684541225433, 0.10074269026517868, 0.03567887097597122, 0.11874603480100632, 0.7177376747131348], [0.05303379148244858, 0.16735632717609406, 0.07481192797422409, 0.1467394083738327, 0.558058500289917], [0.030530773103237152, 0.07374854385852814, 0.042511507868766785, 0.13599461317062378, 0.7172144651412964]], [[0.20729634165763855, 0.32202279567718506, 0.40686869621276855, 0.06125586852431297, 0.0025563135277479887], [0.2121366709470749, 0.3214259445667267, 0.35011282563209534, 0.10928472131490707, 0.007039889693260193], [0.19981789588928223, 0.3088633716106415, 0.37803953886032104, 0.10690063238143921, 0.006378629244863987], [0.2309369444847107, 0.28425294160842896, 0.36789992451667786, 0.10838748514652252, 0.00852274987846613], [0.18881277740001678, 0.23111280798912048, 0.20014406740665436, 0.24590781331062317, 0.13402262330055237]], [[0.16913340985774994, 0.325674444437027, 0.4199082553386688, 0.0842854231595993, 0.0009984353091567755], [0.27046921849250793, 0.2558538317680359, 0.3722972571849823, 0.09851612150669098, 0.0028636129572987556], [0.2357405573129654, 0.27169838547706604, 0.4077673852443695, 0.08226976543664932, 0.002523898147046566], [0.20424582064151764, 0.27096834778785706, 0.3578070104122162, 0.15515407919883728, 0.011824756860733032], [0.12476429343223572, 0.11039964854717255, 0.07512687146663666, 0.19235756993293762, 0.49735161662101746]], [[0.00769460154697299, 0.8000181317329407, 0.19050872325897217, 0.0017776188906282187, 9.006603818306758e-07], [0.03625544160604477, 0.789474606513977, 0.17091147601604462, 0.0033446699380874634, 1.388073815178359e-05], [0.03413506597280502, 0.776007890701294, 0.18526457250118256, 0.00456920126453042, 2.3280721507035196e-05], [0.12290044128894806, 0.6629675030708313, 0.2066883146762848, 0.007375809364020824, 6.792855856474489e-05], [0.2829526364803314, 0.1152336373925209, 0.07013469189405441, 0.11253996938467026, 0.4191390872001648]], [[0.15575803816318512, 0.26067277789115906, 0.17494861781597137, 0.18779321014881134, 0.2208273559808731], [0.11254480481147766, 0.27157288789749146, 0.14481087028980255, 0.18403184413909912, 0.287039577960968], [0.12260355800390244, 0.2961905300617218, 0.16129924356937408, 0.1986357420682907, 0.22127094864845276], [0.08947813510894775, 0.13910479843616486, 0.07681304216384888, 0.2481418401002884, 0.44646215438842773], [0.024385353550314903, 0.034172117710113525, 0.025714993476867676, 0.09116047620773315, 0.8245670199394226]], [[0.08202240616083145, 0.15654444694519043, 0.10717763751745224, 0.6524150371551514, 0.0018404193688184023], [0.1736133098602295, 0.2623808979988098, 0.13423046469688416, 0.4019397795200348, 0.02783559449017048], [0.15047100186347961, 0.2500077188014984, 0.14168301224708557, 0.44223737716674805, 0.0156008992344141], [0.14748238027095795, 0.22549356520175934, 0.1292046159505844, 0.4713316559791565, 0.026487689465284348], [0.12294382601976395, 0.13312971591949463, 0.09271671622991562, 0.23120573163032532, 0.4200040400028229]], [[0.12989042699337006, 0.36387932300567627, 0.2962753176689148, 0.07962348312139511, 0.13033142685890198], [0.13115297257900238, 0.2921113073825836, 0.24045000970363617, 0.11653102934360504, 0.2197546809911728], [0.11422087252140045, 0.28343281149864197, 0.24334613978862762, 0.16151663661003113, 0.19748353958129883], [0.12020362913608551, 0.29530876874923706, 0.24032966792583466, 0.20742163062095642, 0.13673631846904755], [0.0787295326590538, 0.1523478776216507, 0.09094934910535812, 0.360922247171402, 0.3170510232448578]], [[0.07075352966785431, 0.13950537145137787, 0.08123880624771118, 0.6883814334869385, 0.02012084797024727], [0.1017952710390091, 0.21549402177333832, 0.13424594700336456, 0.500176191329956, 0.04828863590955734], [0.10392919927835464, 0.15247902274131775, 0.17267069220542908, 0.5114537477493286, 0.059467338025569916], [0.06033872067928314, 0.06122385337948799, 0.038336146622896194, 0.8144384026527405, 0.025662826374173164], [0.030270949006080627, 0.04802952706813812, 0.034596700221300125, 0.1857454925775528, 0.7013573050498962]], [[0.30335158109664917, 0.3465803861618042, 0.12402820587158203, 0.09736744314432144, 0.12867240607738495], [0.39516839385032654, 0.3459148406982422, 0.14923371374607086, 0.060147833079099655, 0.049535270780324936], [0.39988452196121216, 0.29774653911590576, 0.17058561742305756, 0.07139699906110764, 0.06038634851574898], [0.40968769788742065, 0.29200124740600586, 0.17532354593276978, 0.09198155254125595, 0.031005971133708954], [0.1298971027135849, 0.16245132684707642, 0.12308640778064728, 0.1891203373670578, 0.39544478058815]], [[0.15443933010101318, 0.16934247314929962, 0.08846946060657501, 0.5552998781204224, 0.032448798418045044], [0.23338748514652252, 0.21636837720870972, 0.10250065475702286, 0.3700275123119354, 0.0777159333229065], [0.2021557092666626, 0.22186796367168427, 0.10962271690368652, 0.39191558957099915, 0.07443807274103165], [0.1880364716053009, 0.16924619674682617, 0.08659367263317108, 0.42550110816955566, 0.1306225210428238], [0.08730100095272064, 0.104396753013134, 0.0796486958861351, 0.28960928320884705, 0.43904417753219604]], [[0.18327629566192627, 0.4466339945793152, 0.3179780840873718, 0.04560689255595207, 0.006504816468805075], [0.15699240565299988, 0.5146306753158569, 0.2720881700515747, 0.04459872469305992, 0.011690052226185799], [0.15189969539642334, 0.5040495991706848, 0.2793419361114502, 0.0539323128759861, 0.01077647227793932], [0.1743510365486145, 0.44284185767173767, 0.2702009677886963, 0.09612365067005157, 0.016482526436448097], [0.03794373571872711, 0.06289567053318024, 0.055205099284648895, 0.1042931005358696, 0.7396624088287354]]]], \"left_text\": [\"[CLS]\", \"i\", \"am\", \"angry\", \"[SEP]\"], \"right_text\": [\"[CLS]\", \"i\", \"am\", \"angry\", \"[SEP]\"]}], \"default_filter\": \"0\", \"root_div_id\": \"bertviz-9768a7c7064c4c3f9622a48cc98ea67c\", \"layer\": null, \"heads\": null, \"include_layers\": [0, 1, 2, 3, 4, 5]} is a template marker that is replaced by actual params.\n",
              "    const TEXT_SIZE = 15;\n",
              "    const BOXWIDTH = 110;\n",
              "    const BOXHEIGHT = 22.5;\n",
              "    const MATRIX_WIDTH = 115;\n",
              "    const CHECKBOX_SIZE = 20;\n",
              "    const TEXT_TOP = 30;\n",
              "\n",
              "    console.log(\"d3 version\", d3.version)\n",
              "    let headColors;\n",
              "    try {\n",
              "        headColors = d3.scaleOrdinal(d3.schemeCategory10);\n",
              "    } catch (err) {\n",
              "        console.log('Older d3 version')\n",
              "        headColors = d3.scale.category10();\n",
              "    }\n",
              "    let config = {};\n",
              "    initialize();\n",
              "    renderVis();\n",
              "\n",
              "    function initialize() {\n",
              "        config.attention = params['attention'];\n",
              "        config.filter = params['default_filter'];\n",
              "        config.rootDivId = params['root_div_id'];\n",
              "        config.nLayers = config.attention[config.filter]['attn'].length;\n",
              "        config.nHeads = config.attention[config.filter]['attn'][0].length;\n",
              "        config.layers = params['include_layers']\n",
              "\n",
              "        if (params['heads']) {\n",
              "            config.headVis = new Array(config.nHeads).fill(false);\n",
              "            params['heads'].forEach(x => config.headVis[x] = true);\n",
              "        } else {\n",
              "            config.headVis = new Array(config.nHeads).fill(true);\n",
              "        }\n",
              "        config.initialTextLength = config.attention[config.filter].right_text.length;\n",
              "        config.layer_seq = (params['layer'] == null ? 0 : config.layers.findIndex(layer => params['layer'] === layer));\n",
              "        config.layer = config.layers[config.layer_seq]\n",
              "\n",
              "        let layerEl = $(`#${config.rootDivId} #layer`);\n",
              "        for (const layer of config.layers) {\n",
              "            layerEl.append($(\"<option />\").val(layer).text(layer));\n",
              "        }\n",
              "        layerEl.val(config.layer).change();\n",
              "        layerEl.on('change', function (e) {\n",
              "            config.layer = +e.currentTarget.value;\n",
              "            config.layer_seq = config.layers.findIndex(layer => config.layer === layer);\n",
              "            renderVis();\n",
              "        });\n",
              "\n",
              "        $(`#${config.rootDivId} #filter`).on('change', function (e) {\n",
              "            config.filter = e.currentTarget.value;\n",
              "            renderVis();\n",
              "        });\n",
              "    }\n",
              "\n",
              "    function renderVis() {\n",
              "\n",
              "        // Load parameters\n",
              "        const attnData = config.attention[config.filter];\n",
              "        const leftText = attnData.left_text;\n",
              "        const rightText = attnData.right_text;\n",
              "\n",
              "        // Select attention for given layer\n",
              "        const layerAttention = attnData.attn[config.layer_seq];\n",
              "\n",
              "        // Clear vis\n",
              "        $(`#${config.rootDivId} #vis`).empty();\n",
              "\n",
              "        // Determine size of visualization\n",
              "        const height = Math.max(leftText.length, rightText.length) * BOXHEIGHT + TEXT_TOP;\n",
              "        const svg = d3.select(`#${config.rootDivId} #vis`)\n",
              "            .append('svg')\n",
              "            .attr(\"width\", \"100%\")\n",
              "            .attr(\"height\", height + \"px\");\n",
              "\n",
              "        // Display tokens on left and right side of visualization\n",
              "        renderText(svg, leftText, true, layerAttention, 0);\n",
              "        renderText(svg, rightText, false, layerAttention, MATRIX_WIDTH + BOXWIDTH);\n",
              "\n",
              "        // Render attention arcs\n",
              "        renderAttention(svg, layerAttention);\n",
              "\n",
              "        // Draw squares at top of visualization, one for each head\n",
              "        drawCheckboxes(0, svg, layerAttention);\n",
              "    }\n",
              "\n",
              "    function renderText(svg, text, isLeft, attention, leftPos) {\n",
              "\n",
              "        const textContainer = svg.append(\"svg:g\")\n",
              "            .attr(\"id\", isLeft ? \"left\" : \"right\");\n",
              "\n",
              "        // Add attention highlights superimposed over words\n",
              "        textContainer.append(\"g\")\n",
              "            .classed(\"attentionBoxes\", true)\n",
              "            .selectAll(\"g\")\n",
              "            .data(attention)\n",
              "            .enter()\n",
              "            .append(\"g\")\n",
              "            .attr(\"head-index\", (d, i) => i)\n",
              "            .selectAll(\"rect\")\n",
              "            .data(d => isLeft ? d : transpose(d)) // if right text, transpose attention to get right-to-left weights\n",
              "            .enter()\n",
              "            .append(\"rect\")\n",
              "            .attr(\"x\", function () {\n",
              "                var headIndex = +this.parentNode.getAttribute(\"head-index\");\n",
              "                return leftPos + boxOffsets(headIndex);\n",
              "            })\n",
              "            .attr(\"y\", (+1) * BOXHEIGHT)\n",
              "            .attr(\"width\", BOXWIDTH / activeHeads())\n",
              "            .attr(\"height\", BOXHEIGHT)\n",
              "            .attr(\"fill\", function () {\n",
              "                return headColors(+this.parentNode.getAttribute(\"head-index\"))\n",
              "            })\n",
              "            .style(\"opacity\", 0.0);\n",
              "\n",
              "        const tokenContainer = textContainer.append(\"g\").selectAll(\"g\")\n",
              "            .data(text)\n",
              "            .enter()\n",
              "            .append(\"g\");\n",
              "\n",
              "        // Add gray background that appears when hovering over text\n",
              "        tokenContainer.append(\"rect\")\n",
              "            .classed(\"background\", true)\n",
              "            .style(\"opacity\", 0.0)\n",
              "            .attr(\"fill\", \"lightgray\")\n",
              "            .attr(\"x\", leftPos)\n",
              "            .attr(\"y\", (d, i) => TEXT_TOP + i * BOXHEIGHT)\n",
              "            .attr(\"width\", BOXWIDTH)\n",
              "            .attr(\"height\", BOXHEIGHT);\n",
              "\n",
              "        // Add token text\n",
              "        const textEl = tokenContainer.append(\"text\")\n",
              "            .text(d => d)\n",
              "            .attr(\"font-size\", TEXT_SIZE + \"px\")\n",
              "            .style(\"cursor\", \"default\")\n",
              "            .style(\"-webkit-user-select\", \"none\")\n",
              "            .attr(\"x\", leftPos)\n",
              "            .attr(\"y\", (d, i) => TEXT_TOP + i * BOXHEIGHT);\n",
              "\n",
              "        if (isLeft) {\n",
              "            textEl.style(\"text-anchor\", \"end\")\n",
              "                .attr(\"dx\", BOXWIDTH - 0.5 * TEXT_SIZE)\n",
              "                .attr(\"dy\", TEXT_SIZE);\n",
              "        } else {\n",
              "            textEl.style(\"text-anchor\", \"start\")\n",
              "                .attr(\"dx\", +0.5 * TEXT_SIZE)\n",
              "                .attr(\"dy\", TEXT_SIZE);\n",
              "        }\n",
              "\n",
              "        tokenContainer.on(\"mouseover\", function (d, index) {\n",
              "\n",
              "            // Show gray background for moused-over token\n",
              "            textContainer.selectAll(\".background\")\n",
              "                .style(\"opacity\", (d, i) => i === index ? 1.0 : 0.0)\n",
              "\n",
              "            // Reset visibility attribute for any previously highlighted attention arcs\n",
              "            svg.select(\"#attention\")\n",
              "                .selectAll(\"line[visibility='visible']\")\n",
              "                .attr(\"visibility\", null)\n",
              "\n",
              "            // Hide group containing attention arcs\n",
              "            svg.select(\"#attention\").attr(\"visibility\", \"hidden\");\n",
              "\n",
              "            // Set to visible appropriate attention arcs to be highlighted\n",
              "            if (isLeft) {\n",
              "                svg.select(\"#attention\").selectAll(\"line[left-token-index='\" + index + \"']\").attr(\"visibility\", \"visible\");\n",
              "            } else {\n",
              "                svg.select(\"#attention\").selectAll(\"line[right-token-index='\" + index + \"']\").attr(\"visibility\", \"visible\");\n",
              "            }\n",
              "\n",
              "            // Update color boxes superimposed over tokens\n",
              "            const id = isLeft ? \"right\" : \"left\";\n",
              "            const leftPos = isLeft ? MATRIX_WIDTH + BOXWIDTH : 0;\n",
              "            svg.select(\"#\" + id)\n",
              "                .selectAll(\".attentionBoxes\")\n",
              "                .selectAll(\"g\")\n",
              "                .attr(\"head-index\", (d, i) => i)\n",
              "                .selectAll(\"rect\")\n",
              "                .attr(\"x\", function () {\n",
              "                    const headIndex = +this.parentNode.getAttribute(\"head-index\");\n",
              "                    return leftPos + boxOffsets(headIndex);\n",
              "                })\n",
              "                .attr(\"y\", (d, i) => TEXT_TOP + i * BOXHEIGHT)\n",
              "                .attr(\"width\", BOXWIDTH / activeHeads())\n",
              "                .attr(\"height\", BOXHEIGHT)\n",
              "                .style(\"opacity\", function (d) {\n",
              "                    const headIndex = +this.parentNode.getAttribute(\"head-index\");\n",
              "                    if (config.headVis[headIndex])\n",
              "                        if (d) {\n",
              "                            return d[index];\n",
              "                        } else {\n",
              "                            return 0.0;\n",
              "                        }\n",
              "                    else\n",
              "                        return 0.0;\n",
              "                });\n",
              "        });\n",
              "\n",
              "        textContainer.on(\"mouseleave\", function () {\n",
              "\n",
              "            // Unhighlight selected token\n",
              "            d3.select(this).selectAll(\".background\")\n",
              "                .style(\"opacity\", 0.0);\n",
              "\n",
              "            // Reset visibility attributes for previously selected lines\n",
              "            svg.select(\"#attention\")\n",
              "                .selectAll(\"line[visibility='visible']\")\n",
              "                .attr(\"visibility\", null) ;\n",
              "            svg.select(\"#attention\").attr(\"visibility\", \"visible\");\n",
              "\n",
              "            // Reset highlights superimposed over tokens\n",
              "            svg.selectAll(\".attentionBoxes\")\n",
              "                .selectAll(\"g\")\n",
              "                .selectAll(\"rect\")\n",
              "                .style(\"opacity\", 0.0);\n",
              "        });\n",
              "    }\n",
              "\n",
              "    function renderAttention(svg, attention) {\n",
              "\n",
              "        // Remove previous dom elements\n",
              "        svg.select(\"#attention\").remove();\n",
              "\n",
              "        // Add new elements\n",
              "        svg.append(\"g\")\n",
              "            .attr(\"id\", \"attention\") // Container for all attention arcs\n",
              "            .selectAll(\".headAttention\")\n",
              "            .data(attention)\n",
              "            .enter()\n",
              "            .append(\"g\")\n",
              "            .classed(\"headAttention\", true) // Group attention arcs by head\n",
              "            .attr(\"head-index\", (d, i) => i)\n",
              "            .selectAll(\".tokenAttention\")\n",
              "            .data(d => d)\n",
              "            .enter()\n",
              "            .append(\"g\")\n",
              "            .classed(\"tokenAttention\", true) // Group attention arcs by left token\n",
              "            .attr(\"left-token-index\", (d, i) => i)\n",
              "            .selectAll(\"line\")\n",
              "            .data(d => d)\n",
              "            .enter()\n",
              "            .append(\"line\")\n",
              "            .attr(\"x1\", BOXWIDTH)\n",
              "            .attr(\"y1\", function () {\n",
              "                const leftTokenIndex = +this.parentNode.getAttribute(\"left-token-index\")\n",
              "                return TEXT_TOP + leftTokenIndex * BOXHEIGHT + (BOXHEIGHT / 2)\n",
              "            })\n",
              "            .attr(\"x2\", BOXWIDTH + MATRIX_WIDTH)\n",
              "            .attr(\"y2\", (d, rightTokenIndex) => TEXT_TOP + rightTokenIndex * BOXHEIGHT + (BOXHEIGHT / 2))\n",
              "            .attr(\"stroke-width\", 2)\n",
              "            .attr(\"stroke\", function () {\n",
              "                const headIndex = +this.parentNode.parentNode.getAttribute(\"head-index\");\n",
              "                return headColors(headIndex)\n",
              "            })\n",
              "            .attr(\"left-token-index\", function () {\n",
              "                return +this.parentNode.getAttribute(\"left-token-index\")\n",
              "            })\n",
              "            .attr(\"right-token-index\", (d, i) => i)\n",
              "        ;\n",
              "        updateAttention(svg)\n",
              "    }\n",
              "\n",
              "    function updateAttention(svg) {\n",
              "        svg.select(\"#attention\")\n",
              "            .selectAll(\"line\")\n",
              "            .attr(\"stroke-opacity\", function (d) {\n",
              "                const headIndex = +this.parentNode.parentNode.getAttribute(\"head-index\");\n",
              "                // If head is selected\n",
              "                if (config.headVis[headIndex]) {\n",
              "                    // Set opacity to attention weight divided by number of active heads\n",
              "                    return d / activeHeads()\n",
              "                } else {\n",
              "                    return 0.0;\n",
              "                }\n",
              "            })\n",
              "    }\n",
              "\n",
              "    function boxOffsets(i) {\n",
              "        const numHeadsAbove = config.headVis.reduce(\n",
              "            function (acc, val, cur) {\n",
              "                return val && cur < i ? acc + 1 : acc;\n",
              "            }, 0);\n",
              "        return numHeadsAbove * (BOXWIDTH / activeHeads());\n",
              "    }\n",
              "\n",
              "    function activeHeads() {\n",
              "        return config.headVis.reduce(function (acc, val) {\n",
              "            return val ? acc + 1 : acc;\n",
              "        }, 0);\n",
              "    }\n",
              "\n",
              "    function drawCheckboxes(top, svg) {\n",
              "        const checkboxContainer = svg.append(\"g\");\n",
              "        const checkbox = checkboxContainer.selectAll(\"rect\")\n",
              "            .data(config.headVis)\n",
              "            .enter()\n",
              "            .append(\"rect\")\n",
              "            .attr(\"fill\", (d, i) => headColors(i))\n",
              "            .attr(\"x\", (d, i) => i * CHECKBOX_SIZE)\n",
              "            .attr(\"y\", top)\n",
              "            .attr(\"width\", CHECKBOX_SIZE)\n",
              "            .attr(\"height\", CHECKBOX_SIZE);\n",
              "\n",
              "        function updateCheckboxes() {\n",
              "            checkboxContainer.selectAll(\"rect\")\n",
              "                .data(config.headVis)\n",
              "                .attr(\"fill\", (d, i) => d ? headColors(i): lighten(headColors(i)));\n",
              "        }\n",
              "\n",
              "        updateCheckboxes();\n",
              "\n",
              "        checkbox.on(\"click\", function (d, i) {\n",
              "            if (config.headVis[i] && activeHeads() === 1) return;\n",
              "            config.headVis[i] = !config.headVis[i];\n",
              "            updateCheckboxes();\n",
              "            updateAttention(svg);\n",
              "        });\n",
              "\n",
              "        checkbox.on(\"dblclick\", function (d, i) {\n",
              "            // If we double click on the only active head then reset\n",
              "            if (config.headVis[i] && activeHeads() === 1) {\n",
              "                config.headVis = new Array(config.nHeads).fill(true);\n",
              "            } else {\n",
              "                config.headVis = new Array(config.nHeads).fill(false);\n",
              "                config.headVis[i] = true;\n",
              "            }\n",
              "            updateCheckboxes();\n",
              "            updateAttention(svg);\n",
              "        });\n",
              "    }\n",
              "\n",
              "    function lighten(color) {\n",
              "        const c = d3.hsl(color);\n",
              "        const increment = (1 - c.l) * 0.6;\n",
              "        c.l += increment;\n",
              "        c.s -= increment;\n",
              "        return c;\n",
              "    }\n",
              "\n",
              "    function transpose(mat) {\n",
              "        return mat[0].map(function (col, i) {\n",
              "            return mat.map(function (row) {\n",
              "                return row[i];\n",
              "            });\n",
              "        });\n",
              "    }\n",
              "\n",
              "});"
            ]
          },
          "metadata": {}
        }
      ],
      "source": [
        "# layer 4 (actually 5) seems to detect the negative/positive word which causes the classification\n",
        "# Note that the model cant handle negation\n",
        "head_view(attention, tokens)"
      ]
    },
    {
      "cell_type": "code",
      "execution_count": null,
      "metadata": {
        "id": "xwRxJZC86RXY",
        "colab": {
          "base_uri": "https://localhost:8080/"
        },
        "outputId": "adf79a9a-ced9-45e4-e1f8-ec51eecaaa24"
      },
      "outputs": [
        {
          "output_type": "execute_result",
          "data": {
            "text/plain": [
              "['[CLS]',\n",
              " '#',\n",
              " 'arsenal',\n",
              " 'is',\n",
              " 'super',\n",
              " 'strong',\n",
              " 'and',\n",
              " 'great',\n",
              " 'team',\n",
              " '.',\n",
              " '[SEP]']"
            ]
          },
          "metadata": {},
          "execution_count": 27
        }
      ],
      "source": [
        "sentence_a = \"#arsenal is super strong and great team.\"\n",
        "inputs = tokenizer.encode_plus(sentence_a, return_tensors='pt')\n",
        "\n",
        "input_ids = inputs['input_ids'].to(device)\n",
        "tokens = tokenizer.convert_ids_to_tokens(input_ids[0]) \n",
        "\n",
        "tokens"
      ]
    },
    {
      "cell_type": "code",
      "execution_count": null,
      "metadata": {
        "id": "8i7gLAZV7w3W"
      },
      "outputs": [],
      "source": []
    }
  ],
  "metadata": {
    "accelerator": "GPU",
    "colab": {
      "collapsed_sections": [
        "l7A47npzmKN7",
        "aR0afzxrq_GI",
        "V4cvsF6jrzPZ",
        "K-64cAWjmB8Q"
      ],
      "toc_visible": true,
      "provenance": [],
      "include_colab_link": true
    },
    "gpuClass": "standard",
    "kernelspec": {
      "display_name": "Python 3.9.13 ('klarity')",
      "language": "python",
      "name": "python3"
    },
    "language_info": {
      "codemirror_mode": {
        "name": "ipython",
        "version": 3
      },
      "file_extension": ".py",
      "mimetype": "text/x-python",
      "name": "python",
      "nbconvert_exporter": "python",
      "pygments_lexer": "ipython3",
      "version": "3.9.13"
    },
    "vscode": {
      "interpreter": {
        "hash": "ae19d00c0c1f30af2ca9ab5f645e7f8a389b49e6e3a1610f53c74b611d1f38b9"
      }
    },
    "widgets": {
      "application/vnd.jupyter.widget-state+json": {
        "2c073d4b97034cd58f019d5991f29938": {
          "model_module": "@jupyter-widgets/controls",
          "model_name": "HBoxModel",
          "model_module_version": "1.5.0",
          "state": {
            "_dom_classes": [],
            "_model_module": "@jupyter-widgets/controls",
            "_model_module_version": "1.5.0",
            "_model_name": "HBoxModel",
            "_view_count": null,
            "_view_module": "@jupyter-widgets/controls",
            "_view_module_version": "1.5.0",
            "_view_name": "HBoxView",
            "box_style": "",
            "children": [
              "IPY_MODEL_d79f997e5c334a4d803c2c6e2fd7c86b",
              "IPY_MODEL_1de4b257fbe64f54acd9a1d2cb12ff54",
              "IPY_MODEL_ced8f2cb0c6248679ec4eef2904927f3"
            ],
            "layout": "IPY_MODEL_ecc7f0445b12484a8d4a033951ea4af6"
          }
        },
        "d79f997e5c334a4d803c2c6e2fd7c86b": {
          "model_module": "@jupyter-widgets/controls",
          "model_name": "HTMLModel",
          "model_module_version": "1.5.0",
          "state": {
            "_dom_classes": [],
            "_model_module": "@jupyter-widgets/controls",
            "_model_module_version": "1.5.0",
            "_model_name": "HTMLModel",
            "_view_count": null,
            "_view_module": "@jupyter-widgets/controls",
            "_view_module_version": "1.5.0",
            "_view_name": "HTMLView",
            "description": "",
            "description_tooltip": null,
            "layout": "IPY_MODEL_4e274e9bb8b049538fa0a532601970ae",
            "placeholder": "​",
            "style": "IPY_MODEL_66a36cce17934352ad527fe974aa1010",
            "value": "Downloading: 100%"
          }
        },
        "1de4b257fbe64f54acd9a1d2cb12ff54": {
          "model_module": "@jupyter-widgets/controls",
          "model_name": "FloatProgressModel",
          "model_module_version": "1.5.0",
          "state": {
            "_dom_classes": [],
            "_model_module": "@jupyter-widgets/controls",
            "_model_module_version": "1.5.0",
            "_model_name": "FloatProgressModel",
            "_view_count": null,
            "_view_module": "@jupyter-widgets/controls",
            "_view_module_version": "1.5.0",
            "_view_name": "ProgressView",
            "bar_style": "success",
            "description": "",
            "description_tooltip": null,
            "layout": "IPY_MODEL_8df7eb19e9634639a38b1a935f0c6f2f",
            "max": 48,
            "min": 0,
            "orientation": "horizontal",
            "style": "IPY_MODEL_a382dcf3259d489384f55d40ca3af3be",
            "value": 48
          }
        },
        "ced8f2cb0c6248679ec4eef2904927f3": {
          "model_module": "@jupyter-widgets/controls",
          "model_name": "HTMLModel",
          "model_module_version": "1.5.0",
          "state": {
            "_dom_classes": [],
            "_model_module": "@jupyter-widgets/controls",
            "_model_module_version": "1.5.0",
            "_model_name": "HTMLModel",
            "_view_count": null,
            "_view_module": "@jupyter-widgets/controls",
            "_view_module_version": "1.5.0",
            "_view_name": "HTMLView",
            "description": "",
            "description_tooltip": null,
            "layout": "IPY_MODEL_42569c38f84e4ffea1d3e5127c6e593e",
            "placeholder": "​",
            "style": "IPY_MODEL_92739ea8206d43e2aebd53d7050a744f",
            "value": " 48.0/48.0 [00:00&lt;00:00, 1.50kB/s]"
          }
        },
        "ecc7f0445b12484a8d4a033951ea4af6": {
          "model_module": "@jupyter-widgets/base",
          "model_name": "LayoutModel",
          "model_module_version": "1.2.0",
          "state": {
            "_model_module": "@jupyter-widgets/base",
            "_model_module_version": "1.2.0",
            "_model_name": "LayoutModel",
            "_view_count": null,
            "_view_module": "@jupyter-widgets/base",
            "_view_module_version": "1.2.0",
            "_view_name": "LayoutView",
            "align_content": null,
            "align_items": null,
            "align_self": null,
            "border": null,
            "bottom": null,
            "display": null,
            "flex": null,
            "flex_flow": null,
            "grid_area": null,
            "grid_auto_columns": null,
            "grid_auto_flow": null,
            "grid_auto_rows": null,
            "grid_column": null,
            "grid_gap": null,
            "grid_row": null,
            "grid_template_areas": null,
            "grid_template_columns": null,
            "grid_template_rows": null,
            "height": null,
            "justify_content": null,
            "justify_items": null,
            "left": null,
            "margin": null,
            "max_height": null,
            "max_width": null,
            "min_height": null,
            "min_width": null,
            "object_fit": null,
            "object_position": null,
            "order": null,
            "overflow": null,
            "overflow_x": null,
            "overflow_y": null,
            "padding": null,
            "right": null,
            "top": null,
            "visibility": null,
            "width": null
          }
        },
        "4e274e9bb8b049538fa0a532601970ae": {
          "model_module": "@jupyter-widgets/base",
          "model_name": "LayoutModel",
          "model_module_version": "1.2.0",
          "state": {
            "_model_module": "@jupyter-widgets/base",
            "_model_module_version": "1.2.0",
            "_model_name": "LayoutModel",
            "_view_count": null,
            "_view_module": "@jupyter-widgets/base",
            "_view_module_version": "1.2.0",
            "_view_name": "LayoutView",
            "align_content": null,
            "align_items": null,
            "align_self": null,
            "border": null,
            "bottom": null,
            "display": null,
            "flex": null,
            "flex_flow": null,
            "grid_area": null,
            "grid_auto_columns": null,
            "grid_auto_flow": null,
            "grid_auto_rows": null,
            "grid_column": null,
            "grid_gap": null,
            "grid_row": null,
            "grid_template_areas": null,
            "grid_template_columns": null,
            "grid_template_rows": null,
            "height": null,
            "justify_content": null,
            "justify_items": null,
            "left": null,
            "margin": null,
            "max_height": null,
            "max_width": null,
            "min_height": null,
            "min_width": null,
            "object_fit": null,
            "object_position": null,
            "order": null,
            "overflow": null,
            "overflow_x": null,
            "overflow_y": null,
            "padding": null,
            "right": null,
            "top": null,
            "visibility": null,
            "width": null
          }
        },
        "66a36cce17934352ad527fe974aa1010": {
          "model_module": "@jupyter-widgets/controls",
          "model_name": "DescriptionStyleModel",
          "model_module_version": "1.5.0",
          "state": {
            "_model_module": "@jupyter-widgets/controls",
            "_model_module_version": "1.5.0",
            "_model_name": "DescriptionStyleModel",
            "_view_count": null,
            "_view_module": "@jupyter-widgets/base",
            "_view_module_version": "1.2.0",
            "_view_name": "StyleView",
            "description_width": ""
          }
        },
        "8df7eb19e9634639a38b1a935f0c6f2f": {
          "model_module": "@jupyter-widgets/base",
          "model_name": "LayoutModel",
          "model_module_version": "1.2.0",
          "state": {
            "_model_module": "@jupyter-widgets/base",
            "_model_module_version": "1.2.0",
            "_model_name": "LayoutModel",
            "_view_count": null,
            "_view_module": "@jupyter-widgets/base",
            "_view_module_version": "1.2.0",
            "_view_name": "LayoutView",
            "align_content": null,
            "align_items": null,
            "align_self": null,
            "border": null,
            "bottom": null,
            "display": null,
            "flex": null,
            "flex_flow": null,
            "grid_area": null,
            "grid_auto_columns": null,
            "grid_auto_flow": null,
            "grid_auto_rows": null,
            "grid_column": null,
            "grid_gap": null,
            "grid_row": null,
            "grid_template_areas": null,
            "grid_template_columns": null,
            "grid_template_rows": null,
            "height": null,
            "justify_content": null,
            "justify_items": null,
            "left": null,
            "margin": null,
            "max_height": null,
            "max_width": null,
            "min_height": null,
            "min_width": null,
            "object_fit": null,
            "object_position": null,
            "order": null,
            "overflow": null,
            "overflow_x": null,
            "overflow_y": null,
            "padding": null,
            "right": null,
            "top": null,
            "visibility": null,
            "width": null
          }
        },
        "a382dcf3259d489384f55d40ca3af3be": {
          "model_module": "@jupyter-widgets/controls",
          "model_name": "ProgressStyleModel",
          "model_module_version": "1.5.0",
          "state": {
            "_model_module": "@jupyter-widgets/controls",
            "_model_module_version": "1.5.0",
            "_model_name": "ProgressStyleModel",
            "_view_count": null,
            "_view_module": "@jupyter-widgets/base",
            "_view_module_version": "1.2.0",
            "_view_name": "StyleView",
            "bar_color": null,
            "description_width": ""
          }
        },
        "42569c38f84e4ffea1d3e5127c6e593e": {
          "model_module": "@jupyter-widgets/base",
          "model_name": "LayoutModel",
          "model_module_version": "1.2.0",
          "state": {
            "_model_module": "@jupyter-widgets/base",
            "_model_module_version": "1.2.0",
            "_model_name": "LayoutModel",
            "_view_count": null,
            "_view_module": "@jupyter-widgets/base",
            "_view_module_version": "1.2.0",
            "_view_name": "LayoutView",
            "align_content": null,
            "align_items": null,
            "align_self": null,
            "border": null,
            "bottom": null,
            "display": null,
            "flex": null,
            "flex_flow": null,
            "grid_area": null,
            "grid_auto_columns": null,
            "grid_auto_flow": null,
            "grid_auto_rows": null,
            "grid_column": null,
            "grid_gap": null,
            "grid_row": null,
            "grid_template_areas": null,
            "grid_template_columns": null,
            "grid_template_rows": null,
            "height": null,
            "justify_content": null,
            "justify_items": null,
            "left": null,
            "margin": null,
            "max_height": null,
            "max_width": null,
            "min_height": null,
            "min_width": null,
            "object_fit": null,
            "object_position": null,
            "order": null,
            "overflow": null,
            "overflow_x": null,
            "overflow_y": null,
            "padding": null,
            "right": null,
            "top": null,
            "visibility": null,
            "width": null
          }
        },
        "92739ea8206d43e2aebd53d7050a744f": {
          "model_module": "@jupyter-widgets/controls",
          "model_name": "DescriptionStyleModel",
          "model_module_version": "1.5.0",
          "state": {
            "_model_module": "@jupyter-widgets/controls",
            "_model_module_version": "1.5.0",
            "_model_name": "DescriptionStyleModel",
            "_view_count": null,
            "_view_module": "@jupyter-widgets/base",
            "_view_module_version": "1.2.0",
            "_view_name": "StyleView",
            "description_width": ""
          }
        },
        "a9832f9a8a5f483982e91ae4a029d48b": {
          "model_module": "@jupyter-widgets/controls",
          "model_name": "HBoxModel",
          "model_module_version": "1.5.0",
          "state": {
            "_dom_classes": [],
            "_model_module": "@jupyter-widgets/controls",
            "_model_module_version": "1.5.0",
            "_model_name": "HBoxModel",
            "_view_count": null,
            "_view_module": "@jupyter-widgets/controls",
            "_view_module_version": "1.5.0",
            "_view_name": "HBoxView",
            "box_style": "",
            "children": [
              "IPY_MODEL_36381c4bf51f474db35f22094e9d7b74",
              "IPY_MODEL_7cd968d7672643d7b855486769a11ac0",
              "IPY_MODEL_d27acf7562084c5587f73d187685605b"
            ],
            "layout": "IPY_MODEL_ab532cc432d74c81bd4a0e0d8b116486"
          }
        },
        "36381c4bf51f474db35f22094e9d7b74": {
          "model_module": "@jupyter-widgets/controls",
          "model_name": "HTMLModel",
          "model_module_version": "1.5.0",
          "state": {
            "_dom_classes": [],
            "_model_module": "@jupyter-widgets/controls",
            "_model_module_version": "1.5.0",
            "_model_name": "HTMLModel",
            "_view_count": null,
            "_view_module": "@jupyter-widgets/controls",
            "_view_module_version": "1.5.0",
            "_view_name": "HTMLView",
            "description": "",
            "description_tooltip": null,
            "layout": "IPY_MODEL_6aed2adec5fe439fb48c039c60788e27",
            "placeholder": "​",
            "style": "IPY_MODEL_1c77955873bf430381664c1b4a297935",
            "value": "Downloading: 100%"
          }
        },
        "7cd968d7672643d7b855486769a11ac0": {
          "model_module": "@jupyter-widgets/controls",
          "model_name": "FloatProgressModel",
          "model_module_version": "1.5.0",
          "state": {
            "_dom_classes": [],
            "_model_module": "@jupyter-widgets/controls",
            "_model_module_version": "1.5.0",
            "_model_name": "FloatProgressModel",
            "_view_count": null,
            "_view_module": "@jupyter-widgets/controls",
            "_view_module_version": "1.5.0",
            "_view_name": "ProgressView",
            "bar_style": "success",
            "description": "",
            "description_tooltip": null,
            "layout": "IPY_MODEL_df7d053d5b9c43f886a2fc793fb14144",
            "max": 629,
            "min": 0,
            "orientation": "horizontal",
            "style": "IPY_MODEL_d4d6bb810c7444ecb2df700f3caa2273",
            "value": 629
          }
        },
        "d27acf7562084c5587f73d187685605b": {
          "model_module": "@jupyter-widgets/controls",
          "model_name": "HTMLModel",
          "model_module_version": "1.5.0",
          "state": {
            "_dom_classes": [],
            "_model_module": "@jupyter-widgets/controls",
            "_model_module_version": "1.5.0",
            "_model_name": "HTMLModel",
            "_view_count": null,
            "_view_module": "@jupyter-widgets/controls",
            "_view_module_version": "1.5.0",
            "_view_name": "HTMLView",
            "description": "",
            "description_tooltip": null,
            "layout": "IPY_MODEL_547a0c569003445eb752ffe7de61e8e7",
            "placeholder": "​",
            "style": "IPY_MODEL_516381f857aa42abb77be325d9161044",
            "value": " 629/629 [00:00&lt;00:00, 25.7kB/s]"
          }
        },
        "ab532cc432d74c81bd4a0e0d8b116486": {
          "model_module": "@jupyter-widgets/base",
          "model_name": "LayoutModel",
          "model_module_version": "1.2.0",
          "state": {
            "_model_module": "@jupyter-widgets/base",
            "_model_module_version": "1.2.0",
            "_model_name": "LayoutModel",
            "_view_count": null,
            "_view_module": "@jupyter-widgets/base",
            "_view_module_version": "1.2.0",
            "_view_name": "LayoutView",
            "align_content": null,
            "align_items": null,
            "align_self": null,
            "border": null,
            "bottom": null,
            "display": null,
            "flex": null,
            "flex_flow": null,
            "grid_area": null,
            "grid_auto_columns": null,
            "grid_auto_flow": null,
            "grid_auto_rows": null,
            "grid_column": null,
            "grid_gap": null,
            "grid_row": null,
            "grid_template_areas": null,
            "grid_template_columns": null,
            "grid_template_rows": null,
            "height": null,
            "justify_content": null,
            "justify_items": null,
            "left": null,
            "margin": null,
            "max_height": null,
            "max_width": null,
            "min_height": null,
            "min_width": null,
            "object_fit": null,
            "object_position": null,
            "order": null,
            "overflow": null,
            "overflow_x": null,
            "overflow_y": null,
            "padding": null,
            "right": null,
            "top": null,
            "visibility": null,
            "width": null
          }
        },
        "6aed2adec5fe439fb48c039c60788e27": {
          "model_module": "@jupyter-widgets/base",
          "model_name": "LayoutModel",
          "model_module_version": "1.2.0",
          "state": {
            "_model_module": "@jupyter-widgets/base",
            "_model_module_version": "1.2.0",
            "_model_name": "LayoutModel",
            "_view_count": null,
            "_view_module": "@jupyter-widgets/base",
            "_view_module_version": "1.2.0",
            "_view_name": "LayoutView",
            "align_content": null,
            "align_items": null,
            "align_self": null,
            "border": null,
            "bottom": null,
            "display": null,
            "flex": null,
            "flex_flow": null,
            "grid_area": null,
            "grid_auto_columns": null,
            "grid_auto_flow": null,
            "grid_auto_rows": null,
            "grid_column": null,
            "grid_gap": null,
            "grid_row": null,
            "grid_template_areas": null,
            "grid_template_columns": null,
            "grid_template_rows": null,
            "height": null,
            "justify_content": null,
            "justify_items": null,
            "left": null,
            "margin": null,
            "max_height": null,
            "max_width": null,
            "min_height": null,
            "min_width": null,
            "object_fit": null,
            "object_position": null,
            "order": null,
            "overflow": null,
            "overflow_x": null,
            "overflow_y": null,
            "padding": null,
            "right": null,
            "top": null,
            "visibility": null,
            "width": null
          }
        },
        "1c77955873bf430381664c1b4a297935": {
          "model_module": "@jupyter-widgets/controls",
          "model_name": "DescriptionStyleModel",
          "model_module_version": "1.5.0",
          "state": {
            "_model_module": "@jupyter-widgets/controls",
            "_model_module_version": "1.5.0",
            "_model_name": "DescriptionStyleModel",
            "_view_count": null,
            "_view_module": "@jupyter-widgets/base",
            "_view_module_version": "1.2.0",
            "_view_name": "StyleView",
            "description_width": ""
          }
        },
        "df7d053d5b9c43f886a2fc793fb14144": {
          "model_module": "@jupyter-widgets/base",
          "model_name": "LayoutModel",
          "model_module_version": "1.2.0",
          "state": {
            "_model_module": "@jupyter-widgets/base",
            "_model_module_version": "1.2.0",
            "_model_name": "LayoutModel",
            "_view_count": null,
            "_view_module": "@jupyter-widgets/base",
            "_view_module_version": "1.2.0",
            "_view_name": "LayoutView",
            "align_content": null,
            "align_items": null,
            "align_self": null,
            "border": null,
            "bottom": null,
            "display": null,
            "flex": null,
            "flex_flow": null,
            "grid_area": null,
            "grid_auto_columns": null,
            "grid_auto_flow": null,
            "grid_auto_rows": null,
            "grid_column": null,
            "grid_gap": null,
            "grid_row": null,
            "grid_template_areas": null,
            "grid_template_columns": null,
            "grid_template_rows": null,
            "height": null,
            "justify_content": null,
            "justify_items": null,
            "left": null,
            "margin": null,
            "max_height": null,
            "max_width": null,
            "min_height": null,
            "min_width": null,
            "object_fit": null,
            "object_position": null,
            "order": null,
            "overflow": null,
            "overflow_x": null,
            "overflow_y": null,
            "padding": null,
            "right": null,
            "top": null,
            "visibility": null,
            "width": null
          }
        },
        "d4d6bb810c7444ecb2df700f3caa2273": {
          "model_module": "@jupyter-widgets/controls",
          "model_name": "ProgressStyleModel",
          "model_module_version": "1.5.0",
          "state": {
            "_model_module": "@jupyter-widgets/controls",
            "_model_module_version": "1.5.0",
            "_model_name": "ProgressStyleModel",
            "_view_count": null,
            "_view_module": "@jupyter-widgets/base",
            "_view_module_version": "1.2.0",
            "_view_name": "StyleView",
            "bar_color": null,
            "description_width": ""
          }
        },
        "547a0c569003445eb752ffe7de61e8e7": {
          "model_module": "@jupyter-widgets/base",
          "model_name": "LayoutModel",
          "model_module_version": "1.2.0",
          "state": {
            "_model_module": "@jupyter-widgets/base",
            "_model_module_version": "1.2.0",
            "_model_name": "LayoutModel",
            "_view_count": null,
            "_view_module": "@jupyter-widgets/base",
            "_view_module_version": "1.2.0",
            "_view_name": "LayoutView",
            "align_content": null,
            "align_items": null,
            "align_self": null,
            "border": null,
            "bottom": null,
            "display": null,
            "flex": null,
            "flex_flow": null,
            "grid_area": null,
            "grid_auto_columns": null,
            "grid_auto_flow": null,
            "grid_auto_rows": null,
            "grid_column": null,
            "grid_gap": null,
            "grid_row": null,
            "grid_template_areas": null,
            "grid_template_columns": null,
            "grid_template_rows": null,
            "height": null,
            "justify_content": null,
            "justify_items": null,
            "left": null,
            "margin": null,
            "max_height": null,
            "max_width": null,
            "min_height": null,
            "min_width": null,
            "object_fit": null,
            "object_position": null,
            "order": null,
            "overflow": null,
            "overflow_x": null,
            "overflow_y": null,
            "padding": null,
            "right": null,
            "top": null,
            "visibility": null,
            "width": null
          }
        },
        "516381f857aa42abb77be325d9161044": {
          "model_module": "@jupyter-widgets/controls",
          "model_name": "DescriptionStyleModel",
          "model_module_version": "1.5.0",
          "state": {
            "_model_module": "@jupyter-widgets/controls",
            "_model_module_version": "1.5.0",
            "_model_name": "DescriptionStyleModel",
            "_view_count": null,
            "_view_module": "@jupyter-widgets/base",
            "_view_module_version": "1.2.0",
            "_view_name": "StyleView",
            "description_width": ""
          }
        },
        "f0f3fdfcb8ea40759d0ba8780f8421b1": {
          "model_module": "@jupyter-widgets/controls",
          "model_name": "HBoxModel",
          "model_module_version": "1.5.0",
          "state": {
            "_dom_classes": [],
            "_model_module": "@jupyter-widgets/controls",
            "_model_module_version": "1.5.0",
            "_model_name": "HBoxModel",
            "_view_count": null,
            "_view_module": "@jupyter-widgets/controls",
            "_view_module_version": "1.5.0",
            "_view_name": "HBoxView",
            "box_style": "",
            "children": [
              "IPY_MODEL_7a3c79df6cb6483482975c0b1c93b457",
              "IPY_MODEL_b1767797d0be4375987b2cd360a1e8c2",
              "IPY_MODEL_e3c55a5f088341bc877d9ce54e1983b5"
            ],
            "layout": "IPY_MODEL_09e398de9e3b4070a4ec294b73a17e19"
          }
        },
        "7a3c79df6cb6483482975c0b1c93b457": {
          "model_module": "@jupyter-widgets/controls",
          "model_name": "HTMLModel",
          "model_module_version": "1.5.0",
          "state": {
            "_dom_classes": [],
            "_model_module": "@jupyter-widgets/controls",
            "_model_module_version": "1.5.0",
            "_model_name": "HTMLModel",
            "_view_count": null,
            "_view_module": "@jupyter-widgets/controls",
            "_view_module_version": "1.5.0",
            "_view_name": "HTMLView",
            "description": "",
            "description_tooltip": null,
            "layout": "IPY_MODEL_8c85597c162a48e6b567e8e33a5d7df1",
            "placeholder": "​",
            "style": "IPY_MODEL_2147af9e85f7464d8122f00bec866ccc",
            "value": "Downloading: 100%"
          }
        },
        "b1767797d0be4375987b2cd360a1e8c2": {
          "model_module": "@jupyter-widgets/controls",
          "model_name": "FloatProgressModel",
          "model_module_version": "1.5.0",
          "state": {
            "_dom_classes": [],
            "_model_module": "@jupyter-widgets/controls",
            "_model_module_version": "1.5.0",
            "_model_name": "FloatProgressModel",
            "_view_count": null,
            "_view_module": "@jupyter-widgets/controls",
            "_view_module_version": "1.5.0",
            "_view_name": "ProgressView",
            "bar_style": "success",
            "description": "",
            "description_tooltip": null,
            "layout": "IPY_MODEL_9bfa330e9ced4f4e859103bac7ca4160",
            "max": 231508,
            "min": 0,
            "orientation": "horizontal",
            "style": "IPY_MODEL_d36f1c3a6a7e4bccb832257ff06bd400",
            "value": 231508
          }
        },
        "e3c55a5f088341bc877d9ce54e1983b5": {
          "model_module": "@jupyter-widgets/controls",
          "model_name": "HTMLModel",
          "model_module_version": "1.5.0",
          "state": {
            "_dom_classes": [],
            "_model_module": "@jupyter-widgets/controls",
            "_model_module_version": "1.5.0",
            "_model_name": "HTMLModel",
            "_view_count": null,
            "_view_module": "@jupyter-widgets/controls",
            "_view_module_version": "1.5.0",
            "_view_name": "HTMLView",
            "description": "",
            "description_tooltip": null,
            "layout": "IPY_MODEL_391d0bb095f84bef9a20177838aa5857",
            "placeholder": "​",
            "style": "IPY_MODEL_f1c94489b464455f8c3a3accb5e8a05c",
            "value": " 232k/232k [00:00&lt;00:00, 277kB/s]"
          }
        },
        "09e398de9e3b4070a4ec294b73a17e19": {
          "model_module": "@jupyter-widgets/base",
          "model_name": "LayoutModel",
          "model_module_version": "1.2.0",
          "state": {
            "_model_module": "@jupyter-widgets/base",
            "_model_module_version": "1.2.0",
            "_model_name": "LayoutModel",
            "_view_count": null,
            "_view_module": "@jupyter-widgets/base",
            "_view_module_version": "1.2.0",
            "_view_name": "LayoutView",
            "align_content": null,
            "align_items": null,
            "align_self": null,
            "border": null,
            "bottom": null,
            "display": null,
            "flex": null,
            "flex_flow": null,
            "grid_area": null,
            "grid_auto_columns": null,
            "grid_auto_flow": null,
            "grid_auto_rows": null,
            "grid_column": null,
            "grid_gap": null,
            "grid_row": null,
            "grid_template_areas": null,
            "grid_template_columns": null,
            "grid_template_rows": null,
            "height": null,
            "justify_content": null,
            "justify_items": null,
            "left": null,
            "margin": null,
            "max_height": null,
            "max_width": null,
            "min_height": null,
            "min_width": null,
            "object_fit": null,
            "object_position": null,
            "order": null,
            "overflow": null,
            "overflow_x": null,
            "overflow_y": null,
            "padding": null,
            "right": null,
            "top": null,
            "visibility": null,
            "width": null
          }
        },
        "8c85597c162a48e6b567e8e33a5d7df1": {
          "model_module": "@jupyter-widgets/base",
          "model_name": "LayoutModel",
          "model_module_version": "1.2.0",
          "state": {
            "_model_module": "@jupyter-widgets/base",
            "_model_module_version": "1.2.0",
            "_model_name": "LayoutModel",
            "_view_count": null,
            "_view_module": "@jupyter-widgets/base",
            "_view_module_version": "1.2.0",
            "_view_name": "LayoutView",
            "align_content": null,
            "align_items": null,
            "align_self": null,
            "border": null,
            "bottom": null,
            "display": null,
            "flex": null,
            "flex_flow": null,
            "grid_area": null,
            "grid_auto_columns": null,
            "grid_auto_flow": null,
            "grid_auto_rows": null,
            "grid_column": null,
            "grid_gap": null,
            "grid_row": null,
            "grid_template_areas": null,
            "grid_template_columns": null,
            "grid_template_rows": null,
            "height": null,
            "justify_content": null,
            "justify_items": null,
            "left": null,
            "margin": null,
            "max_height": null,
            "max_width": null,
            "min_height": null,
            "min_width": null,
            "object_fit": null,
            "object_position": null,
            "order": null,
            "overflow": null,
            "overflow_x": null,
            "overflow_y": null,
            "padding": null,
            "right": null,
            "top": null,
            "visibility": null,
            "width": null
          }
        },
        "2147af9e85f7464d8122f00bec866ccc": {
          "model_module": "@jupyter-widgets/controls",
          "model_name": "DescriptionStyleModel",
          "model_module_version": "1.5.0",
          "state": {
            "_model_module": "@jupyter-widgets/controls",
            "_model_module_version": "1.5.0",
            "_model_name": "DescriptionStyleModel",
            "_view_count": null,
            "_view_module": "@jupyter-widgets/base",
            "_view_module_version": "1.2.0",
            "_view_name": "StyleView",
            "description_width": ""
          }
        },
        "9bfa330e9ced4f4e859103bac7ca4160": {
          "model_module": "@jupyter-widgets/base",
          "model_name": "LayoutModel",
          "model_module_version": "1.2.0",
          "state": {
            "_model_module": "@jupyter-widgets/base",
            "_model_module_version": "1.2.0",
            "_model_name": "LayoutModel",
            "_view_count": null,
            "_view_module": "@jupyter-widgets/base",
            "_view_module_version": "1.2.0",
            "_view_name": "LayoutView",
            "align_content": null,
            "align_items": null,
            "align_self": null,
            "border": null,
            "bottom": null,
            "display": null,
            "flex": null,
            "flex_flow": null,
            "grid_area": null,
            "grid_auto_columns": null,
            "grid_auto_flow": null,
            "grid_auto_rows": null,
            "grid_column": null,
            "grid_gap": null,
            "grid_row": null,
            "grid_template_areas": null,
            "grid_template_columns": null,
            "grid_template_rows": null,
            "height": null,
            "justify_content": null,
            "justify_items": null,
            "left": null,
            "margin": null,
            "max_height": null,
            "max_width": null,
            "min_height": null,
            "min_width": null,
            "object_fit": null,
            "object_position": null,
            "order": null,
            "overflow": null,
            "overflow_x": null,
            "overflow_y": null,
            "padding": null,
            "right": null,
            "top": null,
            "visibility": null,
            "width": null
          }
        },
        "d36f1c3a6a7e4bccb832257ff06bd400": {
          "model_module": "@jupyter-widgets/controls",
          "model_name": "ProgressStyleModel",
          "model_module_version": "1.5.0",
          "state": {
            "_model_module": "@jupyter-widgets/controls",
            "_model_module_version": "1.5.0",
            "_model_name": "ProgressStyleModel",
            "_view_count": null,
            "_view_module": "@jupyter-widgets/base",
            "_view_module_version": "1.2.0",
            "_view_name": "StyleView",
            "bar_color": null,
            "description_width": ""
          }
        },
        "391d0bb095f84bef9a20177838aa5857": {
          "model_module": "@jupyter-widgets/base",
          "model_name": "LayoutModel",
          "model_module_version": "1.2.0",
          "state": {
            "_model_module": "@jupyter-widgets/base",
            "_model_module_version": "1.2.0",
            "_model_name": "LayoutModel",
            "_view_count": null,
            "_view_module": "@jupyter-widgets/base",
            "_view_module_version": "1.2.0",
            "_view_name": "LayoutView",
            "align_content": null,
            "align_items": null,
            "align_self": null,
            "border": null,
            "bottom": null,
            "display": null,
            "flex": null,
            "flex_flow": null,
            "grid_area": null,
            "grid_auto_columns": null,
            "grid_auto_flow": null,
            "grid_auto_rows": null,
            "grid_column": null,
            "grid_gap": null,
            "grid_row": null,
            "grid_template_areas": null,
            "grid_template_columns": null,
            "grid_template_rows": null,
            "height": null,
            "justify_content": null,
            "justify_items": null,
            "left": null,
            "margin": null,
            "max_height": null,
            "max_width": null,
            "min_height": null,
            "min_width": null,
            "object_fit": null,
            "object_position": null,
            "order": null,
            "overflow": null,
            "overflow_x": null,
            "overflow_y": null,
            "padding": null,
            "right": null,
            "top": null,
            "visibility": null,
            "width": null
          }
        },
        "f1c94489b464455f8c3a3accb5e8a05c": {
          "model_module": "@jupyter-widgets/controls",
          "model_name": "DescriptionStyleModel",
          "model_module_version": "1.5.0",
          "state": {
            "_model_module": "@jupyter-widgets/controls",
            "_model_module_version": "1.5.0",
            "_model_name": "DescriptionStyleModel",
            "_view_count": null,
            "_view_module": "@jupyter-widgets/base",
            "_view_module_version": "1.2.0",
            "_view_name": "StyleView",
            "description_width": ""
          }
        },
        "6bee43bc63544707b45d451fe7b479c7": {
          "model_module": "@jupyter-widgets/controls",
          "model_name": "HBoxModel",
          "model_module_version": "1.5.0",
          "state": {
            "_dom_classes": [],
            "_model_module": "@jupyter-widgets/controls",
            "_model_module_version": "1.5.0",
            "_model_name": "HBoxModel",
            "_view_count": null,
            "_view_module": "@jupyter-widgets/controls",
            "_view_module_version": "1.5.0",
            "_view_name": "HBoxView",
            "box_style": "",
            "children": [
              "IPY_MODEL_a780e3e3168f4e88a0c31cc58b7b3379",
              "IPY_MODEL_695fc557e3434025b00d401009d110cd",
              "IPY_MODEL_c8c52d72aa174e57b12d667df5a8848a"
            ],
            "layout": "IPY_MODEL_0d6f6a0386a9498eae0d9174a6c0c2bf"
          }
        },
        "a780e3e3168f4e88a0c31cc58b7b3379": {
          "model_module": "@jupyter-widgets/controls",
          "model_name": "HTMLModel",
          "model_module_version": "1.5.0",
          "state": {
            "_dom_classes": [],
            "_model_module": "@jupyter-widgets/controls",
            "_model_module_version": "1.5.0",
            "_model_name": "HTMLModel",
            "_view_count": null,
            "_view_module": "@jupyter-widgets/controls",
            "_view_module_version": "1.5.0",
            "_view_name": "HTMLView",
            "description": "",
            "description_tooltip": null,
            "layout": "IPY_MODEL_bb53d14ca756458ca78baab169dd61ca",
            "placeholder": "​",
            "style": "IPY_MODEL_cc9f956c91d44280a70df6c339ce69fb",
            "value": "Downloading: 100%"
          }
        },
        "695fc557e3434025b00d401009d110cd": {
          "model_module": "@jupyter-widgets/controls",
          "model_name": "FloatProgressModel",
          "model_module_version": "1.5.0",
          "state": {
            "_dom_classes": [],
            "_model_module": "@jupyter-widgets/controls",
            "_model_module_version": "1.5.0",
            "_model_name": "FloatProgressModel",
            "_view_count": null,
            "_view_module": "@jupyter-widgets/controls",
            "_view_module_version": "1.5.0",
            "_view_name": "ProgressView",
            "bar_style": "success",
            "description": "",
            "description_tooltip": null,
            "layout": "IPY_MODEL_4377122b98c14e628ebd0d8381a841d1",
            "max": 48,
            "min": 0,
            "orientation": "horizontal",
            "style": "IPY_MODEL_d28622b350cf4f5482ad7e513e23b9d1",
            "value": 48
          }
        },
        "c8c52d72aa174e57b12d667df5a8848a": {
          "model_module": "@jupyter-widgets/controls",
          "model_name": "HTMLModel",
          "model_module_version": "1.5.0",
          "state": {
            "_dom_classes": [],
            "_model_module": "@jupyter-widgets/controls",
            "_model_module_version": "1.5.0",
            "_model_name": "HTMLModel",
            "_view_count": null,
            "_view_module": "@jupyter-widgets/controls",
            "_view_module_version": "1.5.0",
            "_view_name": "HTMLView",
            "description": "",
            "description_tooltip": null,
            "layout": "IPY_MODEL_69385f95f89a4a6da8953662b8f820e4",
            "placeholder": "​",
            "style": "IPY_MODEL_043da9748720472da73fce4b1c9c9a42",
            "value": " 48.0/48.0 [00:00&lt;00:00, 1.01kB/s]"
          }
        },
        "0d6f6a0386a9498eae0d9174a6c0c2bf": {
          "model_module": "@jupyter-widgets/base",
          "model_name": "LayoutModel",
          "model_module_version": "1.2.0",
          "state": {
            "_model_module": "@jupyter-widgets/base",
            "_model_module_version": "1.2.0",
            "_model_name": "LayoutModel",
            "_view_count": null,
            "_view_module": "@jupyter-widgets/base",
            "_view_module_version": "1.2.0",
            "_view_name": "LayoutView",
            "align_content": null,
            "align_items": null,
            "align_self": null,
            "border": null,
            "bottom": null,
            "display": null,
            "flex": null,
            "flex_flow": null,
            "grid_area": null,
            "grid_auto_columns": null,
            "grid_auto_flow": null,
            "grid_auto_rows": null,
            "grid_column": null,
            "grid_gap": null,
            "grid_row": null,
            "grid_template_areas": null,
            "grid_template_columns": null,
            "grid_template_rows": null,
            "height": null,
            "justify_content": null,
            "justify_items": null,
            "left": null,
            "margin": null,
            "max_height": null,
            "max_width": null,
            "min_height": null,
            "min_width": null,
            "object_fit": null,
            "object_position": null,
            "order": null,
            "overflow": null,
            "overflow_x": null,
            "overflow_y": null,
            "padding": null,
            "right": null,
            "top": null,
            "visibility": null,
            "width": null
          }
        },
        "bb53d14ca756458ca78baab169dd61ca": {
          "model_module": "@jupyter-widgets/base",
          "model_name": "LayoutModel",
          "model_module_version": "1.2.0",
          "state": {
            "_model_module": "@jupyter-widgets/base",
            "_model_module_version": "1.2.0",
            "_model_name": "LayoutModel",
            "_view_count": null,
            "_view_module": "@jupyter-widgets/base",
            "_view_module_version": "1.2.0",
            "_view_name": "LayoutView",
            "align_content": null,
            "align_items": null,
            "align_self": null,
            "border": null,
            "bottom": null,
            "display": null,
            "flex": null,
            "flex_flow": null,
            "grid_area": null,
            "grid_auto_columns": null,
            "grid_auto_flow": null,
            "grid_auto_rows": null,
            "grid_column": null,
            "grid_gap": null,
            "grid_row": null,
            "grid_template_areas": null,
            "grid_template_columns": null,
            "grid_template_rows": null,
            "height": null,
            "justify_content": null,
            "justify_items": null,
            "left": null,
            "margin": null,
            "max_height": null,
            "max_width": null,
            "min_height": null,
            "min_width": null,
            "object_fit": null,
            "object_position": null,
            "order": null,
            "overflow": null,
            "overflow_x": null,
            "overflow_y": null,
            "padding": null,
            "right": null,
            "top": null,
            "visibility": null,
            "width": null
          }
        },
        "cc9f956c91d44280a70df6c339ce69fb": {
          "model_module": "@jupyter-widgets/controls",
          "model_name": "DescriptionStyleModel",
          "model_module_version": "1.5.0",
          "state": {
            "_model_module": "@jupyter-widgets/controls",
            "_model_module_version": "1.5.0",
            "_model_name": "DescriptionStyleModel",
            "_view_count": null,
            "_view_module": "@jupyter-widgets/base",
            "_view_module_version": "1.2.0",
            "_view_name": "StyleView",
            "description_width": ""
          }
        },
        "4377122b98c14e628ebd0d8381a841d1": {
          "model_module": "@jupyter-widgets/base",
          "model_name": "LayoutModel",
          "model_module_version": "1.2.0",
          "state": {
            "_model_module": "@jupyter-widgets/base",
            "_model_module_version": "1.2.0",
            "_model_name": "LayoutModel",
            "_view_count": null,
            "_view_module": "@jupyter-widgets/base",
            "_view_module_version": "1.2.0",
            "_view_name": "LayoutView",
            "align_content": null,
            "align_items": null,
            "align_self": null,
            "border": null,
            "bottom": null,
            "display": null,
            "flex": null,
            "flex_flow": null,
            "grid_area": null,
            "grid_auto_columns": null,
            "grid_auto_flow": null,
            "grid_auto_rows": null,
            "grid_column": null,
            "grid_gap": null,
            "grid_row": null,
            "grid_template_areas": null,
            "grid_template_columns": null,
            "grid_template_rows": null,
            "height": null,
            "justify_content": null,
            "justify_items": null,
            "left": null,
            "margin": null,
            "max_height": null,
            "max_width": null,
            "min_height": null,
            "min_width": null,
            "object_fit": null,
            "object_position": null,
            "order": null,
            "overflow": null,
            "overflow_x": null,
            "overflow_y": null,
            "padding": null,
            "right": null,
            "top": null,
            "visibility": null,
            "width": null
          }
        },
        "d28622b350cf4f5482ad7e513e23b9d1": {
          "model_module": "@jupyter-widgets/controls",
          "model_name": "ProgressStyleModel",
          "model_module_version": "1.5.0",
          "state": {
            "_model_module": "@jupyter-widgets/controls",
            "_model_module_version": "1.5.0",
            "_model_name": "ProgressStyleModel",
            "_view_count": null,
            "_view_module": "@jupyter-widgets/base",
            "_view_module_version": "1.2.0",
            "_view_name": "StyleView",
            "bar_color": null,
            "description_width": ""
          }
        },
        "69385f95f89a4a6da8953662b8f820e4": {
          "model_module": "@jupyter-widgets/base",
          "model_name": "LayoutModel",
          "model_module_version": "1.2.0",
          "state": {
            "_model_module": "@jupyter-widgets/base",
            "_model_module_version": "1.2.0",
            "_model_name": "LayoutModel",
            "_view_count": null,
            "_view_module": "@jupyter-widgets/base",
            "_view_module_version": "1.2.0",
            "_view_name": "LayoutView",
            "align_content": null,
            "align_items": null,
            "align_self": null,
            "border": null,
            "bottom": null,
            "display": null,
            "flex": null,
            "flex_flow": null,
            "grid_area": null,
            "grid_auto_columns": null,
            "grid_auto_flow": null,
            "grid_auto_rows": null,
            "grid_column": null,
            "grid_gap": null,
            "grid_row": null,
            "grid_template_areas": null,
            "grid_template_columns": null,
            "grid_template_rows": null,
            "height": null,
            "justify_content": null,
            "justify_items": null,
            "left": null,
            "margin": null,
            "max_height": null,
            "max_width": null,
            "min_height": null,
            "min_width": null,
            "object_fit": null,
            "object_position": null,
            "order": null,
            "overflow": null,
            "overflow_x": null,
            "overflow_y": null,
            "padding": null,
            "right": null,
            "top": null,
            "visibility": null,
            "width": null
          }
        },
        "043da9748720472da73fce4b1c9c9a42": {
          "model_module": "@jupyter-widgets/controls",
          "model_name": "DescriptionStyleModel",
          "model_module_version": "1.5.0",
          "state": {
            "_model_module": "@jupyter-widgets/controls",
            "_model_module_version": "1.5.0",
            "_model_name": "DescriptionStyleModel",
            "_view_count": null,
            "_view_module": "@jupyter-widgets/base",
            "_view_module_version": "1.2.0",
            "_view_name": "StyleView",
            "description_width": ""
          }
        },
        "b1c0cb1de6fa4f70a9ec29307858902c": {
          "model_module": "@jupyter-widgets/controls",
          "model_name": "HBoxModel",
          "model_module_version": "1.5.0",
          "state": {
            "_dom_classes": [],
            "_model_module": "@jupyter-widgets/controls",
            "_model_module_version": "1.5.0",
            "_model_name": "HBoxModel",
            "_view_count": null,
            "_view_module": "@jupyter-widgets/controls",
            "_view_module_version": "1.5.0",
            "_view_name": "HBoxView",
            "box_style": "",
            "children": [
              "IPY_MODEL_d289dce8fc8b47a1aa309b788c4d4abe",
              "IPY_MODEL_659cf2761f054f008eb79eb447fa876e",
              "IPY_MODEL_46f87085efa54013b51ee9beba7b80a3"
            ],
            "layout": "IPY_MODEL_fabea6d5f10e4ec8814863de011fdfbb"
          }
        },
        "d289dce8fc8b47a1aa309b788c4d4abe": {
          "model_module": "@jupyter-widgets/controls",
          "model_name": "HTMLModel",
          "model_module_version": "1.5.0",
          "state": {
            "_dom_classes": [],
            "_model_module": "@jupyter-widgets/controls",
            "_model_module_version": "1.5.0",
            "_model_name": "HTMLModel",
            "_view_count": null,
            "_view_module": "@jupyter-widgets/controls",
            "_view_module_version": "1.5.0",
            "_view_name": "HTMLView",
            "description": "",
            "description_tooltip": null,
            "layout": "IPY_MODEL_54efe24f6e21474e8577ec4865f32125",
            "placeholder": "​",
            "style": "IPY_MODEL_be2b796d86f142cf8b878e6b6037628c",
            "value": "Downloading: 100%"
          }
        },
        "659cf2761f054f008eb79eb447fa876e": {
          "model_module": "@jupyter-widgets/controls",
          "model_name": "FloatProgressModel",
          "model_module_version": "1.5.0",
          "state": {
            "_dom_classes": [],
            "_model_module": "@jupyter-widgets/controls",
            "_model_module_version": "1.5.0",
            "_model_name": "FloatProgressModel",
            "_view_count": null,
            "_view_module": "@jupyter-widgets/controls",
            "_view_module_version": "1.5.0",
            "_view_name": "ProgressView",
            "bar_style": "success",
            "description": "",
            "description_tooltip": null,
            "layout": "IPY_MODEL_f6ef7dc313754afd93e0a27c2c9e6fdd",
            "max": 629,
            "min": 0,
            "orientation": "horizontal",
            "style": "IPY_MODEL_e022dc95a4344bd394c06901f6899c91",
            "value": 629
          }
        },
        "46f87085efa54013b51ee9beba7b80a3": {
          "model_module": "@jupyter-widgets/controls",
          "model_name": "HTMLModel",
          "model_module_version": "1.5.0",
          "state": {
            "_dom_classes": [],
            "_model_module": "@jupyter-widgets/controls",
            "_model_module_version": "1.5.0",
            "_model_name": "HTMLModel",
            "_view_count": null,
            "_view_module": "@jupyter-widgets/controls",
            "_view_module_version": "1.5.0",
            "_view_name": "HTMLView",
            "description": "",
            "description_tooltip": null,
            "layout": "IPY_MODEL_d4710befc18747c8bc85a9764d0f69c9",
            "placeholder": "​",
            "style": "IPY_MODEL_a3b4b782d1dc4cf2ba06d93ce0376034",
            "value": " 629/629 [00:00&lt;00:00, 25.6kB/s]"
          }
        },
        "fabea6d5f10e4ec8814863de011fdfbb": {
          "model_module": "@jupyter-widgets/base",
          "model_name": "LayoutModel",
          "model_module_version": "1.2.0",
          "state": {
            "_model_module": "@jupyter-widgets/base",
            "_model_module_version": "1.2.0",
            "_model_name": "LayoutModel",
            "_view_count": null,
            "_view_module": "@jupyter-widgets/base",
            "_view_module_version": "1.2.0",
            "_view_name": "LayoutView",
            "align_content": null,
            "align_items": null,
            "align_self": null,
            "border": null,
            "bottom": null,
            "display": null,
            "flex": null,
            "flex_flow": null,
            "grid_area": null,
            "grid_auto_columns": null,
            "grid_auto_flow": null,
            "grid_auto_rows": null,
            "grid_column": null,
            "grid_gap": null,
            "grid_row": null,
            "grid_template_areas": null,
            "grid_template_columns": null,
            "grid_template_rows": null,
            "height": null,
            "justify_content": null,
            "justify_items": null,
            "left": null,
            "margin": null,
            "max_height": null,
            "max_width": null,
            "min_height": null,
            "min_width": null,
            "object_fit": null,
            "object_position": null,
            "order": null,
            "overflow": null,
            "overflow_x": null,
            "overflow_y": null,
            "padding": null,
            "right": null,
            "top": null,
            "visibility": null,
            "width": null
          }
        },
        "54efe24f6e21474e8577ec4865f32125": {
          "model_module": "@jupyter-widgets/base",
          "model_name": "LayoutModel",
          "model_module_version": "1.2.0",
          "state": {
            "_model_module": "@jupyter-widgets/base",
            "_model_module_version": "1.2.0",
            "_model_name": "LayoutModel",
            "_view_count": null,
            "_view_module": "@jupyter-widgets/base",
            "_view_module_version": "1.2.0",
            "_view_name": "LayoutView",
            "align_content": null,
            "align_items": null,
            "align_self": null,
            "border": null,
            "bottom": null,
            "display": null,
            "flex": null,
            "flex_flow": null,
            "grid_area": null,
            "grid_auto_columns": null,
            "grid_auto_flow": null,
            "grid_auto_rows": null,
            "grid_column": null,
            "grid_gap": null,
            "grid_row": null,
            "grid_template_areas": null,
            "grid_template_columns": null,
            "grid_template_rows": null,
            "height": null,
            "justify_content": null,
            "justify_items": null,
            "left": null,
            "margin": null,
            "max_height": null,
            "max_width": null,
            "min_height": null,
            "min_width": null,
            "object_fit": null,
            "object_position": null,
            "order": null,
            "overflow": null,
            "overflow_x": null,
            "overflow_y": null,
            "padding": null,
            "right": null,
            "top": null,
            "visibility": null,
            "width": null
          }
        },
        "be2b796d86f142cf8b878e6b6037628c": {
          "model_module": "@jupyter-widgets/controls",
          "model_name": "DescriptionStyleModel",
          "model_module_version": "1.5.0",
          "state": {
            "_model_module": "@jupyter-widgets/controls",
            "_model_module_version": "1.5.0",
            "_model_name": "DescriptionStyleModel",
            "_view_count": null,
            "_view_module": "@jupyter-widgets/base",
            "_view_module_version": "1.2.0",
            "_view_name": "StyleView",
            "description_width": ""
          }
        },
        "f6ef7dc313754afd93e0a27c2c9e6fdd": {
          "model_module": "@jupyter-widgets/base",
          "model_name": "LayoutModel",
          "model_module_version": "1.2.0",
          "state": {
            "_model_module": "@jupyter-widgets/base",
            "_model_module_version": "1.2.0",
            "_model_name": "LayoutModel",
            "_view_count": null,
            "_view_module": "@jupyter-widgets/base",
            "_view_module_version": "1.2.0",
            "_view_name": "LayoutView",
            "align_content": null,
            "align_items": null,
            "align_self": null,
            "border": null,
            "bottom": null,
            "display": null,
            "flex": null,
            "flex_flow": null,
            "grid_area": null,
            "grid_auto_columns": null,
            "grid_auto_flow": null,
            "grid_auto_rows": null,
            "grid_column": null,
            "grid_gap": null,
            "grid_row": null,
            "grid_template_areas": null,
            "grid_template_columns": null,
            "grid_template_rows": null,
            "height": null,
            "justify_content": null,
            "justify_items": null,
            "left": null,
            "margin": null,
            "max_height": null,
            "max_width": null,
            "min_height": null,
            "min_width": null,
            "object_fit": null,
            "object_position": null,
            "order": null,
            "overflow": null,
            "overflow_x": null,
            "overflow_y": null,
            "padding": null,
            "right": null,
            "top": null,
            "visibility": null,
            "width": null
          }
        },
        "e022dc95a4344bd394c06901f6899c91": {
          "model_module": "@jupyter-widgets/controls",
          "model_name": "ProgressStyleModel",
          "model_module_version": "1.5.0",
          "state": {
            "_model_module": "@jupyter-widgets/controls",
            "_model_module_version": "1.5.0",
            "_model_name": "ProgressStyleModel",
            "_view_count": null,
            "_view_module": "@jupyter-widgets/base",
            "_view_module_version": "1.2.0",
            "_view_name": "StyleView",
            "bar_color": null,
            "description_width": ""
          }
        },
        "d4710befc18747c8bc85a9764d0f69c9": {
          "model_module": "@jupyter-widgets/base",
          "model_name": "LayoutModel",
          "model_module_version": "1.2.0",
          "state": {
            "_model_module": "@jupyter-widgets/base",
            "_model_module_version": "1.2.0",
            "_model_name": "LayoutModel",
            "_view_count": null,
            "_view_module": "@jupyter-widgets/base",
            "_view_module_version": "1.2.0",
            "_view_name": "LayoutView",
            "align_content": null,
            "align_items": null,
            "align_self": null,
            "border": null,
            "bottom": null,
            "display": null,
            "flex": null,
            "flex_flow": null,
            "grid_area": null,
            "grid_auto_columns": null,
            "grid_auto_flow": null,
            "grid_auto_rows": null,
            "grid_column": null,
            "grid_gap": null,
            "grid_row": null,
            "grid_template_areas": null,
            "grid_template_columns": null,
            "grid_template_rows": null,
            "height": null,
            "justify_content": null,
            "justify_items": null,
            "left": null,
            "margin": null,
            "max_height": null,
            "max_width": null,
            "min_height": null,
            "min_width": null,
            "object_fit": null,
            "object_position": null,
            "order": null,
            "overflow": null,
            "overflow_x": null,
            "overflow_y": null,
            "padding": null,
            "right": null,
            "top": null,
            "visibility": null,
            "width": null
          }
        },
        "a3b4b782d1dc4cf2ba06d93ce0376034": {
          "model_module": "@jupyter-widgets/controls",
          "model_name": "DescriptionStyleModel",
          "model_module_version": "1.5.0",
          "state": {
            "_model_module": "@jupyter-widgets/controls",
            "_model_module_version": "1.5.0",
            "_model_name": "DescriptionStyleModel",
            "_view_count": null,
            "_view_module": "@jupyter-widgets/base",
            "_view_module_version": "1.2.0",
            "_view_name": "StyleView",
            "description_width": ""
          }
        },
        "f1d2b8a962ef48689c88560011a31f69": {
          "model_module": "@jupyter-widgets/controls",
          "model_name": "HBoxModel",
          "model_module_version": "1.5.0",
          "state": {
            "_dom_classes": [],
            "_model_module": "@jupyter-widgets/controls",
            "_model_module_version": "1.5.0",
            "_model_name": "HBoxModel",
            "_view_count": null,
            "_view_module": "@jupyter-widgets/controls",
            "_view_module_version": "1.5.0",
            "_view_name": "HBoxView",
            "box_style": "",
            "children": [
              "IPY_MODEL_6292ad065fb849a8a4febfbb72e62c4d",
              "IPY_MODEL_cf0b5f6d123d4e30abb2b91a2762b187",
              "IPY_MODEL_81e55a37f42944579a31e9094e3bf702"
            ],
            "layout": "IPY_MODEL_3070ff61439d4ed7929f1560b10d76f3"
          }
        },
        "6292ad065fb849a8a4febfbb72e62c4d": {
          "model_module": "@jupyter-widgets/controls",
          "model_name": "HTMLModel",
          "model_module_version": "1.5.0",
          "state": {
            "_dom_classes": [],
            "_model_module": "@jupyter-widgets/controls",
            "_model_module_version": "1.5.0",
            "_model_name": "HTMLModel",
            "_view_count": null,
            "_view_module": "@jupyter-widgets/controls",
            "_view_module_version": "1.5.0",
            "_view_name": "HTMLView",
            "description": "",
            "description_tooltip": null,
            "layout": "IPY_MODEL_a357d22f91254f618e70605e3cb03ff9",
            "placeholder": "​",
            "style": "IPY_MODEL_2e61efddef224b3a8b43b3addbe3e490",
            "value": "Downloading: 100%"
          }
        },
        "cf0b5f6d123d4e30abb2b91a2762b187": {
          "model_module": "@jupyter-widgets/controls",
          "model_name": "FloatProgressModel",
          "model_module_version": "1.5.0",
          "state": {
            "_dom_classes": [],
            "_model_module": "@jupyter-widgets/controls",
            "_model_module_version": "1.5.0",
            "_model_name": "FloatProgressModel",
            "_view_count": null,
            "_view_module": "@jupyter-widgets/controls",
            "_view_module_version": "1.5.0",
            "_view_name": "ProgressView",
            "bar_style": "success",
            "description": "",
            "description_tooltip": null,
            "layout": "IPY_MODEL_32da3a532c214088adc6ba4c1c2754b8",
            "max": 231508,
            "min": 0,
            "orientation": "horizontal",
            "style": "IPY_MODEL_fce494f0cae446e1aa668482c6c28374",
            "value": 231508
          }
        },
        "81e55a37f42944579a31e9094e3bf702": {
          "model_module": "@jupyter-widgets/controls",
          "model_name": "HTMLModel",
          "model_module_version": "1.5.0",
          "state": {
            "_dom_classes": [],
            "_model_module": "@jupyter-widgets/controls",
            "_model_module_version": "1.5.0",
            "_model_name": "HTMLModel",
            "_view_count": null,
            "_view_module": "@jupyter-widgets/controls",
            "_view_module_version": "1.5.0",
            "_view_name": "HTMLView",
            "description": "",
            "description_tooltip": null,
            "layout": "IPY_MODEL_db855786f1a849f49c2678927d4090bd",
            "placeholder": "​",
            "style": "IPY_MODEL_627075904bf741b29196a57c283df4a5",
            "value": " 232k/232k [00:00&lt;00:00, 265kB/s]"
          }
        },
        "3070ff61439d4ed7929f1560b10d76f3": {
          "model_module": "@jupyter-widgets/base",
          "model_name": "LayoutModel",
          "model_module_version": "1.2.0",
          "state": {
            "_model_module": "@jupyter-widgets/base",
            "_model_module_version": "1.2.0",
            "_model_name": "LayoutModel",
            "_view_count": null,
            "_view_module": "@jupyter-widgets/base",
            "_view_module_version": "1.2.0",
            "_view_name": "LayoutView",
            "align_content": null,
            "align_items": null,
            "align_self": null,
            "border": null,
            "bottom": null,
            "display": null,
            "flex": null,
            "flex_flow": null,
            "grid_area": null,
            "grid_auto_columns": null,
            "grid_auto_flow": null,
            "grid_auto_rows": null,
            "grid_column": null,
            "grid_gap": null,
            "grid_row": null,
            "grid_template_areas": null,
            "grid_template_columns": null,
            "grid_template_rows": null,
            "height": null,
            "justify_content": null,
            "justify_items": null,
            "left": null,
            "margin": null,
            "max_height": null,
            "max_width": null,
            "min_height": null,
            "min_width": null,
            "object_fit": null,
            "object_position": null,
            "order": null,
            "overflow": null,
            "overflow_x": null,
            "overflow_y": null,
            "padding": null,
            "right": null,
            "top": null,
            "visibility": null,
            "width": null
          }
        },
        "a357d22f91254f618e70605e3cb03ff9": {
          "model_module": "@jupyter-widgets/base",
          "model_name": "LayoutModel",
          "model_module_version": "1.2.0",
          "state": {
            "_model_module": "@jupyter-widgets/base",
            "_model_module_version": "1.2.0",
            "_model_name": "LayoutModel",
            "_view_count": null,
            "_view_module": "@jupyter-widgets/base",
            "_view_module_version": "1.2.0",
            "_view_name": "LayoutView",
            "align_content": null,
            "align_items": null,
            "align_self": null,
            "border": null,
            "bottom": null,
            "display": null,
            "flex": null,
            "flex_flow": null,
            "grid_area": null,
            "grid_auto_columns": null,
            "grid_auto_flow": null,
            "grid_auto_rows": null,
            "grid_column": null,
            "grid_gap": null,
            "grid_row": null,
            "grid_template_areas": null,
            "grid_template_columns": null,
            "grid_template_rows": null,
            "height": null,
            "justify_content": null,
            "justify_items": null,
            "left": null,
            "margin": null,
            "max_height": null,
            "max_width": null,
            "min_height": null,
            "min_width": null,
            "object_fit": null,
            "object_position": null,
            "order": null,
            "overflow": null,
            "overflow_x": null,
            "overflow_y": null,
            "padding": null,
            "right": null,
            "top": null,
            "visibility": null,
            "width": null
          }
        },
        "2e61efddef224b3a8b43b3addbe3e490": {
          "model_module": "@jupyter-widgets/controls",
          "model_name": "DescriptionStyleModel",
          "model_module_version": "1.5.0",
          "state": {
            "_model_module": "@jupyter-widgets/controls",
            "_model_module_version": "1.5.0",
            "_model_name": "DescriptionStyleModel",
            "_view_count": null,
            "_view_module": "@jupyter-widgets/base",
            "_view_module_version": "1.2.0",
            "_view_name": "StyleView",
            "description_width": ""
          }
        },
        "32da3a532c214088adc6ba4c1c2754b8": {
          "model_module": "@jupyter-widgets/base",
          "model_name": "LayoutModel",
          "model_module_version": "1.2.0",
          "state": {
            "_model_module": "@jupyter-widgets/base",
            "_model_module_version": "1.2.0",
            "_model_name": "LayoutModel",
            "_view_count": null,
            "_view_module": "@jupyter-widgets/base",
            "_view_module_version": "1.2.0",
            "_view_name": "LayoutView",
            "align_content": null,
            "align_items": null,
            "align_self": null,
            "border": null,
            "bottom": null,
            "display": null,
            "flex": null,
            "flex_flow": null,
            "grid_area": null,
            "grid_auto_columns": null,
            "grid_auto_flow": null,
            "grid_auto_rows": null,
            "grid_column": null,
            "grid_gap": null,
            "grid_row": null,
            "grid_template_areas": null,
            "grid_template_columns": null,
            "grid_template_rows": null,
            "height": null,
            "justify_content": null,
            "justify_items": null,
            "left": null,
            "margin": null,
            "max_height": null,
            "max_width": null,
            "min_height": null,
            "min_width": null,
            "object_fit": null,
            "object_position": null,
            "order": null,
            "overflow": null,
            "overflow_x": null,
            "overflow_y": null,
            "padding": null,
            "right": null,
            "top": null,
            "visibility": null,
            "width": null
          }
        },
        "fce494f0cae446e1aa668482c6c28374": {
          "model_module": "@jupyter-widgets/controls",
          "model_name": "ProgressStyleModel",
          "model_module_version": "1.5.0",
          "state": {
            "_model_module": "@jupyter-widgets/controls",
            "_model_module_version": "1.5.0",
            "_model_name": "ProgressStyleModel",
            "_view_count": null,
            "_view_module": "@jupyter-widgets/base",
            "_view_module_version": "1.2.0",
            "_view_name": "StyleView",
            "bar_color": null,
            "description_width": ""
          }
        },
        "db855786f1a849f49c2678927d4090bd": {
          "model_module": "@jupyter-widgets/base",
          "model_name": "LayoutModel",
          "model_module_version": "1.2.0",
          "state": {
            "_model_module": "@jupyter-widgets/base",
            "_model_module_version": "1.2.0",
            "_model_name": "LayoutModel",
            "_view_count": null,
            "_view_module": "@jupyter-widgets/base",
            "_view_module_version": "1.2.0",
            "_view_name": "LayoutView",
            "align_content": null,
            "align_items": null,
            "align_self": null,
            "border": null,
            "bottom": null,
            "display": null,
            "flex": null,
            "flex_flow": null,
            "grid_area": null,
            "grid_auto_columns": null,
            "grid_auto_flow": null,
            "grid_auto_rows": null,
            "grid_column": null,
            "grid_gap": null,
            "grid_row": null,
            "grid_template_areas": null,
            "grid_template_columns": null,
            "grid_template_rows": null,
            "height": null,
            "justify_content": null,
            "justify_items": null,
            "left": null,
            "margin": null,
            "max_height": null,
            "max_width": null,
            "min_height": null,
            "min_width": null,
            "object_fit": null,
            "object_position": null,
            "order": null,
            "overflow": null,
            "overflow_x": null,
            "overflow_y": null,
            "padding": null,
            "right": null,
            "top": null,
            "visibility": null,
            "width": null
          }
        },
        "627075904bf741b29196a57c283df4a5": {
          "model_module": "@jupyter-widgets/controls",
          "model_name": "DescriptionStyleModel",
          "model_module_version": "1.5.0",
          "state": {
            "_model_module": "@jupyter-widgets/controls",
            "_model_module_version": "1.5.0",
            "_model_name": "DescriptionStyleModel",
            "_view_count": null,
            "_view_module": "@jupyter-widgets/base",
            "_view_module_version": "1.2.0",
            "_view_name": "StyleView",
            "description_width": ""
          }
        }
      }
    }
  },
  "nbformat": 4,
  "nbformat_minor": 0
}