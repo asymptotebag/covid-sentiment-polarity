{
  "nbformat": 4,
  "nbformat_minor": 0,
  "metadata": {
    "colab": {
      "provenance": [],
      "include_colab_link": true
    },
    "kernelspec": {
      "name": "python3",
      "display_name": "Python 3"
    },
    "language_info": {
      "name": "python"
    },
    "gpuClass": "standard"
  },
  "cells": [
    {
      "cell_type": "markdown",
      "metadata": {
        "id": "view-in-github",
        "colab_type": "text"
      },
      "source": [
        "<a href=\"https://colab.research.google.com/github/asymptotebag/covid-sentiment-polarity/blob/master/baseline.ipynb\" target=\"_parent\"><img src=\"https://colab.research.google.com/assets/colab-badge.svg\" alt=\"Open In Colab\"/></a>"
      ]
    },
    {
      "cell_type": "markdown",
      "source": [
        "#Token Sentiment Analysis of COVID-19 Topic Tweets\n",
        "\n",
        "\n",
        "##Preliminary Model/Baseline Results"
      ],
      "metadata": {
        "id": "7_09HYZyQQGj"
      }
    },
    {
      "cell_type": "code",
      "source": [
        "import os\n",
        "data_root = '/data/'"
      ],
      "metadata": {
        "colab": {
          "base_uri": "https://localhost:8080/"
        },
        "id": "_eU_O6R8dpqG",
        "outputId": "7fe488f9-9ed3-452e-f6dd-992435010423"
      },
      "execution_count": null,
      "outputs": [
        {
          "output_type": "stream",
          "name": "stdout",
          "text": [
            "Mounted at /content/drive\n"
          ]
        }
      ]
    },
    {
      "cell_type": "code",
      "source": [
        "import numpy as np\n",
        "import regex as re\n",
        "\"\"\"\n",
        "Obtained from 6.8610 staff code in the file lab_util.py\n",
        "\"\"\"\n",
        "class Tokenizer:\n",
        "  def __init__(self, min_occur=10):\n",
        "    self.word_to_token = {}\n",
        "    self.token_to_word = {}\n",
        "    self.word_count = {}\n",
        "\n",
        "    self.word_to_token['<unk>'] = 0\n",
        "    self.token_to_word[0] = '<unk>'\n",
        "    self.vocab_size = 1\n",
        "\n",
        "    self.min_occur = min_occur\n",
        "\n",
        "  def fit(self, corpus):\n",
        "    for review in corpus:\n",
        "      review = review.strip().lower()\n",
        "      words = re.findall(r\"[\\w']+|[.,!?;]\", review)\n",
        "      for word in words:\n",
        "          if word not in self.word_count:\n",
        "              self.word_count[word] = 0\n",
        "          self.word_count[word] += 1\n",
        "\n",
        "    for review in corpus:\n",
        "      review = review.strip().lower()\n",
        "      words = re.findall(r\"[\\w']+|[.,!?;]\", review)\n",
        "      for word in words:\n",
        "        if self.word_count[word] < self.min_occur:\n",
        "          continue\n",
        "        if word in self.word_to_token:\n",
        "          continue\n",
        "        self.word_to_token[word] = self.vocab_size\n",
        "        self.token_to_word[self.vocab_size] = word\n",
        "        self.vocab_size += 1\n",
        "\n",
        "  def tokenize(self, corpus):\n",
        "    tokenized_corpus = []\n",
        "    for review in corpus:\n",
        "      review = review.strip().lower()\n",
        "      words = re.findall(r\"[\\w']+|[.,!?;]\", review)\n",
        "      tokenized_review = []\n",
        "      for word in words:\n",
        "        if word not in self.word_to_token:\n",
        "          tokenized_review.append(0)\n",
        "        else:\n",
        "          tokenized_review.append(self.word_to_token[word])\n",
        "      tokenized_corpus.append(tokenized_review)\n",
        "    return tokenized_corpus\n",
        "\n",
        "  def de_tokenize(self, tokenized_corpus):\n",
        "    corpus = []\n",
        "    for tokenized_review in tokenized_corpus:\n",
        "      review = []\n",
        "      for token in tokenized_review:\n",
        "        review.append(self.token_to_word[token])\n",
        "      corpus.append(\" \".join(review))\n",
        "    return corpus\n",
        "    \n",
        "class CountVectorizer:\n",
        "  def __init__(self, min_occur=10):\n",
        "    self.tokenizer = Tokenizer(min_occur)\n",
        "\n",
        "  def fit(self, corpus):\n",
        "    self.tokenizer.fit(corpus)\n",
        "\n",
        "  def transform(self, corpus):\n",
        "    n = len(corpus)\n",
        "    X = np.zeros((n, self.tokenizer.vocab_size))\n",
        "    for i, review in enumerate(corpus):\n",
        "      review = review.strip().lower()\n",
        "      words = re.findall(r\"[\\w']+|[.,!?;]\", review)\n",
        "      for word in words:\n",
        "        if word not in self.tokenizer.word_count or self.tokenizer.word_count[word] < self.tokenizer.min_occur:\n",
        "          X[i][0] += 1\n",
        "        else:\n",
        "          X[i][self.tokenizer.word_to_token[word]] += 1\n",
        "    return X"
      ],
      "metadata": {
        "id": "I6XrkE_VU3B9"
      },
      "execution_count": null,
      "outputs": []
    },
    {
      "cell_type": "markdown",
      "source": [
        "## Data processing"
      ],
      "metadata": {
        "id": "hzA9hnKvdXYq"
      }
    },
    {
      "cell_type": "code",
      "source": [
        "import pandas as pd\n",
        "df_tweets = pd.read_csv(os.path.join(data_root, 'multiclass_dataset_final.csv'))\n",
        "df_tweets = df_tweets.dropna(subset=['text'])\n",
        "len(df_tweets)"
      ],
      "metadata": {
        "id": "1JAcL-JYsXTK",
        "colab": {
          "base_uri": "https://localhost:8080/"
        },
        "outputId": "133973b2-4c67-4c61-ec9d-a421b4dcd6fd"
      },
      "execution_count": null,
      "outputs": [
        {
          "output_type": "execute_result",
          "data": {
            "text/plain": [
              "28364"
            ]
          },
          "metadata": {},
          "execution_count": 4
        }
      ]
    },
    {
      "cell_type": "code",
      "source": [
        "# remove neutral tweets\n",
        "def relable_sentiment(x):\n",
        "    if x == 2:\n",
        "        return 1\n",
        "    else:\n",
        "        return 0\n",
        "\n",
        "df_tweets = df_tweets[df_tweets['multiclass_sentiment'] != 1] # remove neutral tweets\n",
        "df_tweets = df_tweets.drop(['Unnamed: 0.1', 'Unnamed: 0', 'id', 'binary_sentiment'], axis=1)\n",
        "df_tweets['binary_sentiment'] = df_tweets['multiclass_sentiment'].apply(relable_sentiment)\n",
        "df_tweets = df_tweets.drop(['multiclass_sentiment', 'norm_sentiment'], axis=1)\n",
        "df_tweets.head(2)"
      ],
      "metadata": {
        "colab": {
          "base_uri": "https://localhost:8080/",
          "height": 112
        },
        "id": "kS17JDUJ6tIM",
        "outputId": "18645782-063c-43e8-adb1-bcdd9b024ed9"
      },
      "execution_count": null,
      "outputs": [
        {
          "output_type": "execute_result",
          "data": {
            "text/plain": [
              "                                                text  sentiment  \\\n",
              "0         so this mean that covid kill they correct   -0.200000   \n",
              "1   I groan at your hand on my body as your hip p...  -0.237037   \n",
              "\n",
              "                                               tweet  binary_sentiment  \n",
              "0  So this means that covid killed them, correct ...                 0  \n",
              "1  @SmokingPena *i groan at your hands on my body...                 0  "
            ],
            "text/html": [
              "\n",
              "  <div id=\"df-88936d23-abcb-4426-beeb-fd5dca99f6d5\">\n",
              "    <div class=\"colab-df-container\">\n",
              "      <div>\n",
              "<style scoped>\n",
              "    .dataframe tbody tr th:only-of-type {\n",
              "        vertical-align: middle;\n",
              "    }\n",
              "\n",
              "    .dataframe tbody tr th {\n",
              "        vertical-align: top;\n",
              "    }\n",
              "\n",
              "    .dataframe thead th {\n",
              "        text-align: right;\n",
              "    }\n",
              "</style>\n",
              "<table border=\"1\" class=\"dataframe\">\n",
              "  <thead>\n",
              "    <tr style=\"text-align: right;\">\n",
              "      <th></th>\n",
              "      <th>text</th>\n",
              "      <th>sentiment</th>\n",
              "      <th>tweet</th>\n",
              "      <th>binary_sentiment</th>\n",
              "    </tr>\n",
              "  </thead>\n",
              "  <tbody>\n",
              "    <tr>\n",
              "      <th>0</th>\n",
              "      <td>so this mean that covid kill they correct</td>\n",
              "      <td>-0.200000</td>\n",
              "      <td>So this means that covid killed them, correct ...</td>\n",
              "      <td>0</td>\n",
              "    </tr>\n",
              "    <tr>\n",
              "      <th>1</th>\n",
              "      <td>I groan at your hand on my body as your hip p...</td>\n",
              "      <td>-0.237037</td>\n",
              "      <td>@SmokingPena *i groan at your hands on my body...</td>\n",
              "      <td>0</td>\n",
              "    </tr>\n",
              "  </tbody>\n",
              "</table>\n",
              "</div>\n",
              "      <button class=\"colab-df-convert\" onclick=\"convertToInteractive('df-88936d23-abcb-4426-beeb-fd5dca99f6d5')\"\n",
              "              title=\"Convert this dataframe to an interactive table.\"\n",
              "              style=\"display:none;\">\n",
              "        \n",
              "  <svg xmlns=\"http://www.w3.org/2000/svg\" height=\"24px\"viewBox=\"0 0 24 24\"\n",
              "       width=\"24px\">\n",
              "    <path d=\"M0 0h24v24H0V0z\" fill=\"none\"/>\n",
              "    <path d=\"M18.56 5.44l.94 2.06.94-2.06 2.06-.94-2.06-.94-.94-2.06-.94 2.06-2.06.94zm-11 1L8.5 8.5l.94-2.06 2.06-.94-2.06-.94L8.5 2.5l-.94 2.06-2.06.94zm10 10l.94 2.06.94-2.06 2.06-.94-2.06-.94-.94-2.06-.94 2.06-2.06.94z\"/><path d=\"M17.41 7.96l-1.37-1.37c-.4-.4-.92-.59-1.43-.59-.52 0-1.04.2-1.43.59L10.3 9.45l-7.72 7.72c-.78.78-.78 2.05 0 2.83L4 21.41c.39.39.9.59 1.41.59.51 0 1.02-.2 1.41-.59l7.78-7.78 2.81-2.81c.8-.78.8-2.07 0-2.86zM5.41 20L4 18.59l7.72-7.72 1.47 1.35L5.41 20z\"/>\n",
              "  </svg>\n",
              "      </button>\n",
              "      \n",
              "  <style>\n",
              "    .colab-df-container {\n",
              "      display:flex;\n",
              "      flex-wrap:wrap;\n",
              "      gap: 12px;\n",
              "    }\n",
              "\n",
              "    .colab-df-convert {\n",
              "      background-color: #E8F0FE;\n",
              "      border: none;\n",
              "      border-radius: 50%;\n",
              "      cursor: pointer;\n",
              "      display: none;\n",
              "      fill: #1967D2;\n",
              "      height: 32px;\n",
              "      padding: 0 0 0 0;\n",
              "      width: 32px;\n",
              "    }\n",
              "\n",
              "    .colab-df-convert:hover {\n",
              "      background-color: #E2EBFA;\n",
              "      box-shadow: 0px 1px 2px rgba(60, 64, 67, 0.3), 0px 1px 3px 1px rgba(60, 64, 67, 0.15);\n",
              "      fill: #174EA6;\n",
              "    }\n",
              "\n",
              "    [theme=dark] .colab-df-convert {\n",
              "      background-color: #3B4455;\n",
              "      fill: #D2E3FC;\n",
              "    }\n",
              "\n",
              "    [theme=dark] .colab-df-convert:hover {\n",
              "      background-color: #434B5C;\n",
              "      box-shadow: 0px 1px 3px 1px rgba(0, 0, 0, 0.15);\n",
              "      filter: drop-shadow(0px 1px 2px rgba(0, 0, 0, 0.3));\n",
              "      fill: #FFFFFF;\n",
              "    }\n",
              "  </style>\n",
              "\n",
              "      <script>\n",
              "        const buttonEl =\n",
              "          document.querySelector('#df-88936d23-abcb-4426-beeb-fd5dca99f6d5 button.colab-df-convert');\n",
              "        buttonEl.style.display =\n",
              "          google.colab.kernel.accessAllowed ? 'block' : 'none';\n",
              "\n",
              "        async function convertToInteractive(key) {\n",
              "          const element = document.querySelector('#df-88936d23-abcb-4426-beeb-fd5dca99f6d5');\n",
              "          const dataTable =\n",
              "            await google.colab.kernel.invokeFunction('convertToInteractive',\n",
              "                                                     [key], {});\n",
              "          if (!dataTable) return;\n",
              "\n",
              "          const docLinkHtml = 'Like what you see? Visit the ' +\n",
              "            '<a target=\"_blank\" href=https://colab.research.google.com/notebooks/data_table.ipynb>data table notebook</a>'\n",
              "            + ' to learn more about interactive tables.';\n",
              "          element.innerHTML = '';\n",
              "          dataTable['output_type'] = 'display_data';\n",
              "          await google.colab.output.renderOutput(dataTable, element);\n",
              "          const docLink = document.createElement('div');\n",
              "          docLink.innerHTML = docLinkHtml;\n",
              "          element.appendChild(docLink);\n",
              "        }\n",
              "      </script>\n",
              "    </div>\n",
              "  </div>\n",
              "  "
            ]
          },
          "metadata": {},
          "execution_count": 5
        }
      ]
    },
    {
      "cell_type": "code",
      "source": [
        "# TRAIN TEST SPLITTING FUNCTIONS\n",
        "\n",
        "from sklearn.model_selection import train_test_split\n",
        "\n",
        "def prepare_data(df_data, random_state = 27, test_perc = 0.2, val_perc = 0.1, sentiment_type = 'binary_sentiment'):\n",
        "    random_state = 27\n",
        "    test_perc = 0.2\n",
        "\n",
        "    X = df_data['text'].to_numpy()\n",
        "    y = df_data[sentiment_type].to_numpy()\n",
        "\n",
        "    # train test splitting\n",
        "    X_train, X_test, y_train, y_test = train_test_split(X, y, test_size=test_perc, random_state=random_state)\n",
        "    X_train, X_val, y_train, y_val = train_test_split(X_train, y_train, test_size= val_perc/(1-test_perc), random_state=random_state)\n",
        "    \n",
        "    # test correctness\n",
        "    assert len(X_train) == len(y_train)\n",
        "    assert len(X_val) == len(y_val)\n",
        "    assert len(X_test) == len(y_test)\n",
        "    \n",
        "    return X_train, X_val, X_test, y_train, y_val, y_test"
      ],
      "metadata": {
        "id": "1pFmgGv7g3zV"
      },
      "execution_count": null,
      "outputs": []
    },
    {
      "cell_type": "code",
      "source": [
        "X_train, X_val, X_test, y_train_binary, y_val_binary, y_test_binary = prepare_data(df_tweets, sentiment_type = 'binary_sentiment')"
      ],
      "metadata": {
        "id": "SYrpkEED6OHS"
      },
      "execution_count": null,
      "outputs": []
    },
    {
      "cell_type": "markdown",
      "source": [
        "##TFIDF"
      ],
      "metadata": {
        "id": "VjZSV4h_jX4S"
      }
    },
    {
      "cell_type": "code",
      "source": [
        "train_reviews = X_train \n",
        "test_reviews = X_test\n",
        "vectorizer = CountVectorizer()\n",
        "vectorizer.fit(train_reviews)\n",
        "bow_matrix = vectorizer.transform(train_reviews)\n",
        "bow_test = vectorizer.transform(test_reviews)"
      ],
      "metadata": {
        "id": "R0NFcRvyknWa"
      },
      "execution_count": null,
      "outputs": []
    },
    {
      "cell_type": "code",
      "source": [
        "print(bow_matrix.shape, bow_test.shape)"
      ],
      "metadata": {
        "colab": {
          "base_uri": "https://localhost:8080/"
        },
        "id": "y9syx_5NlAal",
        "outputId": "a3abfed0-77a7-44bd-b541-462a2560d421"
      },
      "execution_count": null,
      "outputs": [
        {
          "output_type": "stream",
          "name": "stdout",
          "text": [
            "(12854, 2540) (3673, 2540)\n"
          ]
        }
      ]
    },
    {
      "cell_type": "code",
      "source": [
        "class TfidfFeaturizer:\n",
        "    def fit(self, matrix):\n",
        "        V,D = matrix.shape[0],matrix.shape[1]\n",
        "        docs_containing = np.clip(matrix,0,1).sum(axis=-1)       #matrix Vx1 of # docs containing a word_i\n",
        "        self.idf = np.log((D/(docs_containing+1)))\n",
        "    \n",
        "    def transform_tfidf(self, matrix):\n",
        "        V,D = matrix.shape[0], matrix.shape[1]\n",
        "        self.fit(matrix)\n",
        "        tile_idf = np.tile(self.idf, (D,1)).T\n",
        "        output = matrix * tile_idf\n",
        "        assert not np.isnan(self.idf).any()\n",
        "        return output\n",
        "        \n",
        "td_matrix = bow_matrix.T\n",
        "featurizer = TfidfFeaturizer()\n",
        "featurizer.fit(td_matrix)\n",
        "tfidf_matrix = featurizer.transform_tfidf(td_matrix)\n",
        "print(f\"TF-IDF matrix is {tfidf_matrix.shape[0]} x {tfidf_matrix.shape[1]}\")"
      ],
      "metadata": {
        "colab": {
          "base_uri": "https://localhost:8080/"
        },
        "id": "uajhf2VIjZP_",
        "outputId": "61c025f1-9545-4e06-8277-ada092dc1704"
      },
      "execution_count": null,
      "outputs": [
        {
          "output_type": "stream",
          "name": "stdout",
          "text": [
            "TF-IDF matrix is 2540 x 12854\n"
          ]
        }
      ]
    },
    {
      "cell_type": "code",
      "source": [
        "tfidf_test = featurizer.transform_tfidf(bow_test.T).T\n",
        "tfidf_matrix = tfidf_matrix.T"
      ],
      "metadata": {
        "id": "z2NoT4BzjoqS"
      },
      "execution_count": null,
      "outputs": []
    },
    {
      "cell_type": "code",
      "source": [
        "from sklearn.linear_model import LogisticRegression\n",
        "\n",
        "def train_and_eval(train_X, train_y, test_X, test_y):\n",
        "    # Create and train a model that takes as input a feature \n",
        "    # representation of the training data and outputs a sentiment label.\n",
        "    # Make sure to report the training and test accuracy of your model.\n",
        "\n",
        "    # print(train_X.shape, \"trainX shape\", train_y.shape, \"train_y shape\")\n",
        "    model = LogisticRegression(max_iter=2000).fit(train_X,train_y)\n",
        "    return model.score(train_X, train_y), model.score(test_X, test_y),model\n",
        "\n",
        "print('Logistic regression with tf-idf features')\n",
        "#modified from hw \n",
        "train_labels = y_train_binary\n",
        "test_labels  = y_test_binary\n",
        "#end modified from hw \n",
        "t_train_score, t_test_score , t_model = train_and_eval(tfidf_matrix, np.array(train_labels), tfidf_test, np.array(test_labels))"
      ],
      "metadata": {
        "colab": {
          "base_uri": "https://localhost:8080/"
        },
        "id": "NYJXfRgkkCLR",
        "outputId": "ce9b4fac-5880-476a-9cea-55328f0094f0"
      },
      "execution_count": null,
      "outputs": [
        {
          "output_type": "stream",
          "name": "stdout",
          "text": [
            "Logistic regression with tf-idf features\n"
          ]
        }
      ]
    },
    {
      "cell_type": "code",
      "source": [
        "print(\"Training Score: {}\".format(t_train_score))\n",
        "print(\"Testing  Score: {}\".format(t_test_score))"
      ],
      "metadata": {
        "colab": {
          "base_uri": "https://localhost:8080/"
        },
        "id": "VUNYmeGSlaHG",
        "outputId": "8f161b89-adc0-464d-c3f5-7bcf9f4e426a"
      },
      "execution_count": null,
      "outputs": [
        {
          "output_type": "stream",
          "name": "stdout",
          "text": [
            "Training Score: 0.9912867589855298\n",
            "Testing  Score: 0.9044377892730738\n"
          ]
        }
      ]
    },
    {
      "cell_type": "code",
      "source": [
        "babl = np.vectorize(vectorizer.tokenizer.token_to_word.get)"
      ],
      "metadata": {
        "id": "u2bDdixmlyIX"
      },
      "execution_count": null,
      "outputs": []
    },
    {
      "cell_type": "code",
      "source": [
        "def standardize_fancy(coefficients):\n",
        "    pos_max = max(coefficients)\n",
        "    mid = 0\n",
        "    neg_min = min(coefficients)\n",
        "\n",
        "    new_coeff = []\n",
        "    for coef in coefficients:\n",
        "        if coef > 0:\n",
        "            new_coeff.append((coef - 0)/(pos_max - 0))\n",
        "        else:\n",
        "            new_coeff.append((coef - neg_min)/(0 - neg_min)-1)\n",
        "    \n",
        "    return np.array(new_coeff)"
      ],
      "metadata": {
        "id": "TpMw9X-zxtNg"
      },
      "execution_count": null,
      "outputs": []
    },
    {
      "cell_type": "code",
      "source": [
        "tfidf_weight = t_model.coef_.squeeze()\n",
        "# fancy\n",
        "tfidf_weight = standardize_fancy(tfidf_weight)\n",
        "\n",
        "tfidf_weight_top = np.sort(tfidf_weight,)[-5:]\n",
        "tfidf_ind_top = tfidf_weight.argsort()[-5:][::-1]\n",
        "tfidf_word_top = babl(tfidf_ind_top)\n",
        "print(\"tfidf top indices    \", tfidf_ind_top)\n",
        "print(\"tiidf top weights    \", tfidf_weight_top)\n",
        "print(\"tfidf top words      \", tfidf_word_top, \"\\n\")\n",
        "\n",
        "tfidf_weight_bot = np.sort(tfidf_weight,)[:5]\n",
        "tfidf_ind_bot = tfidf_weight.argsort()[:5][::-1]\n",
        "tfidf_word_bot = babl(tfidf_ind_bot)\n",
        "print(\"tfidf bot indices    \", tfidf_ind_bot)\n",
        "print(\"tiidf bot weights    \", tfidf_weight_bot)\n",
        "print(\"tfidf bot words      \", tfidf_word_bot, \"\\n\")"
      ],
      "metadata": {
        "colab": {
          "base_uri": "https://localhost:8080/"
        },
        "id": "Y20gh14RlwiR",
        "outputId": "45deaf30-15fa-4d29-8346-64cec5d696c5"
      },
      "execution_count": null,
      "outputs": [
        {
          "output_type": "stream",
          "name": "stdout",
          "text": [
            "tfidf top indices     [1041   24   41   57  536]\n",
            "tiidf top weights     [0.70247202 0.7172325  0.71890609 0.72759408 1.        ]\n",
            "tfidf top words       ['nice' 'good' 'many' 'happy' 'most'] \n",
            "\n",
            "tfidf bot indices     [ 701 1434  533  547  433]\n",
            "tiidf bot weights     [-1.         -0.71459869 -0.67050115 -0.60267185 -0.56906718]\n",
            "tfidf bot words       ['fail' 'insane' 'stupid' 'sick' 'bad'] \n",
            "\n"
          ]
        }
      ]
    },
    {
      "cell_type": "code",
      "source": [
        "words_of_interest = ['covid', 'mask', 'quarantine', 'pandemic', 'virus','vaccine','distancing', 'corona', 'trump']\n",
        "print(tfidf_weight.shape)"
      ],
      "metadata": {
        "colab": {
          "base_uri": "https://localhost:8080/"
        },
        "id": "ECLfTeh8nbRu",
        "outputId": "8b3bd99a-e340-40c4-e59a-b847f21490ff"
      },
      "execution_count": null,
      "outputs": [
        {
          "output_type": "stream",
          "name": "stdout",
          "text": [
            "(2540,)\n"
          ]
        }
      ]
    },
    {
      "cell_type": "code",
      "source": [
        "for word in words_of_interest: \n",
        "    token_index = vectorizer.tokenizer.word_to_token[word]\n",
        "    print(\"Sentiment score: {} , Word: {}\".format(np.round(tfidf_weight[token_index], 3),word))"
      ],
      "metadata": {
        "colab": {
          "base_uri": "https://localhost:8080/"
        },
        "id": "If0elfW9n6Ts",
        "outputId": "eb1e31f6-0770-41d3-c45e-1384a1afc40a"
      },
      "execution_count": null,
      "outputs": [
        {
          "output_type": "stream",
          "name": "stdout",
          "text": [
            "Sentiment score: -0.025 , Word: covid\n",
            "Sentiment score: -0.008 , Word: mask\n",
            "Sentiment score: -0.059 , Word: quarantine\n",
            "Sentiment score: 0.061 , Word: pandemic\n",
            "Sentiment score: 0.071 , Word: virus\n",
            "Sentiment score: 0.014 , Word: vaccine\n",
            "Sentiment score: 0.123 , Word: distancing\n",
            "Sentiment score: 0.036 , Word: corona\n",
            "Sentiment score: -0.005 , Word: trump\n"
          ]
        }
      ]
    },
    {
      "cell_type": "markdown",
      "source": [
        "##BOW"
      ],
      "metadata": {
        "id": "nSwOMZOLp_qA"
      }
    },
    {
      "cell_type": "code",
      "source": [
        "bow_train_score, bow_test_score, bow_model = train_and_eval(bow_matrix, np.array(train_labels),bow_test, test_labels)\n",
        "print('bow training score:{}'.format(bow_train_score))\n",
        "print('bow testing score:{}'.format(bow_test_score))"
      ],
      "metadata": {
        "colab": {
          "base_uri": "https://localhost:8080/"
        },
        "id": "aRwnXtpGqBIl",
        "outputId": "239bb481-0896-410f-9f90-006348981642"
      },
      "execution_count": null,
      "outputs": [
        {
          "output_type": "stream",
          "name": "stdout",
          "text": [
            "bow training score:0.9699704372179866\n",
            "bow testing score:0.9215899809420093\n"
          ]
        }
      ]
    },
    {
      "cell_type": "code",
      "source": [
        "bow_weight = bow_model.coef_.squeeze()\n",
        "\n",
        "bow_weight = standardize_fancy(bow_weight)\n",
        "\n",
        "bow_weight_top = np.sort(bow_weight)[-5:]\n",
        "bow_ind_top = bow_weight.argsort()[-5:][::-1]\n",
        "bow_word_top = babl(bow_ind_top)\n",
        "\n",
        "print(\"BOW top indices      \", bow_ind_top)\n",
        "print(\"BOW top weights      \", bow_weight_top)\n",
        "print(\"BOW top words        \", bow_word_top, \"\\n\")\n",
        "\n",
        "bow_weight_bot = np.sort(bow_weight)[:5]\n",
        "bow_ind_bot = bow_weight.argsort()[:5][::-1]\n",
        "bow_word_bot = babl(bow_ind_bot)\n",
        "\n",
        "print(\"BOW bot indices      \", bow_ind_bot)\n",
        "print(\"BOW bot weights      \", bow_weight_bot)\n",
        "print(\"BOW bot words        \", bow_word_bot, \"\\n\")"
      ],
      "metadata": {
        "colab": {
          "base_uri": "https://localhost:8080/"
        },
        "id": "C5t3EI77qT3P",
        "outputId": "4ecdcea7-1fb2-430d-a7c2-ea6b6ab51a26"
      },
      "execution_count": null,
      "outputs": [
        {
          "output_type": "stream",
          "name": "stdout",
          "text": [
            "BOW top indices       [750  24 536  57 471]\n",
            "BOW top weights       [0.84239532 0.84382688 0.85874464 0.92340251 1.        ]\n",
            "BOW top words         ['lol' 'good' 'most' 'happy' 'own'] \n",
            "\n",
            "BOW bot indices       [339 874 533 547 433]\n",
            "BOW bot weights       [-1.         -0.79519945 -0.72860134 -0.702407   -0.69883462]\n",
            "BOW bot words         ['sorry' 'dangerous' 'stupid' 'sick' 'bad'] \n",
            "\n"
          ]
        }
      ]
    },
    {
      "cell_type": "code",
      "source": [
        "for word in words_of_interest: \n",
        "    token_index = vectorizer.tokenizer.word_to_token[word]\n",
        "    print(\"Sentiment score: {} , Word: {}\".format(np.round(bow_weight[token_index], 3),word))"
      ],
      "metadata": {
        "colab": {
          "base_uri": "https://localhost:8080/"
        },
        "id": "D7hG4vDDqfH_",
        "outputId": "8343f549-95bc-42de-ef5a-6f17a7af5455"
      },
      "execution_count": null,
      "outputs": [
        {
          "output_type": "stream",
          "name": "stdout",
          "text": [
            "Sentiment score: -0.018 , Word: covid\n",
            "Sentiment score: 0.003 , Word: mask\n",
            "Sentiment score: -0.062 , Word: quarantine\n",
            "Sentiment score: 0.028 , Word: pandemic\n",
            "Sentiment score: -0.009 , Word: virus\n",
            "Sentiment score: 0.028 , Word: vaccine\n",
            "Sentiment score: 0.058 , Word: distancing\n",
            "Sentiment score: 0.013 , Word: corona\n",
            "Sentiment score: -0.021 , Word: trump\n"
          ]
        }
      ]
    },
    {
      "cell_type": "code",
      "source": [
        "abc = [idx for idx, sent in enumerate(X_train) if 'less' in sent]\n",
        "X_train[abc][:5]"
      ],
      "metadata": {
        "colab": {
          "base_uri": "https://localhost:8080/"
        },
        "id": "LqIIKDgQzU6r",
        "outputId": "08a04d4f-2cfb-4475-a796-86f61f8b0004"
      },
      "execution_count": null,
      "outputs": [
        {
          "output_type": "execute_result",
          "data": {
            "text/plain": [
              "array(['there be systematic fake news by liberal amp opposition vulture on covid situation govt need to dispel this through print medium give the rate at which people be come out of hospital amp the less fatality',\n",
              "       'a year today in a heart of a global pandemic when the whole world be on a lockdown the great ghanaian album be bear and the rest be a history no album coulda ever perform well than this album unless stonebwoy himself bring another album ',\n",
              "       'when it be time to plan amp act they be busy with rally amp export vaccine oxygen amp vaccine then allow event like kumbh now try to shift the blame on people never in human history we ever see a more shameless amp irresponsible govt ',\n",
              "       'mr a kejriwal when you be careless about corona guideline to follow in delhi now shout for oxygen vaccine have visit in to in march 21 in delhi ludhiana no one wear mask ',\n",
              "       'fatherless idiot '], dtype=object)"
            ]
          },
          "metadata": {},
          "execution_count": 22
        }
      ]
    },
    {
      "cell_type": "code",
      "source": [
        "bow_matrix.shape"
      ],
      "metadata": {
        "colab": {
          "base_uri": "https://localhost:8080/"
        },
        "id": "AZl7rZt40NBv",
        "outputId": "48fdb6a2-e37e-4b90-818b-f52a7507fe95"
      },
      "execution_count": null,
      "outputs": [
        {
          "output_type": "execute_result",
          "data": {
            "text/plain": [
              "(12854, 2540)"
            ]
          },
          "metadata": {},
          "execution_count": 23
        }
      ]
    },
    {
      "cell_type": "markdown",
      "source": [
        "### PYTORCH POWER"
      ],
      "metadata": {
        "id": "Vwv8oFqw1X3A"
      }
    },
    {
      "cell_type": "code",
      "source": [
        "import torch\n",
        "import torch.nn as nn\n",
        "import torch.nn.functional as F\n",
        "import torch.optim as optim\n",
        "import torch.utils.data as torch_data\n",
        "\n",
        "class ContinuousClassifier(nn.Module):\n",
        "    def __init__(self, vocab_size):\n",
        "        super().__init__()\n",
        "        self.linear = nn.Linear(vocab_size, 1)\n",
        "\n",
        "    def forward(self, x):\n",
        "        x = self.linear(x)\n",
        "        m = nn.Sigmoid()\n",
        "        out = m(x)\n",
        "        return out\n",
        "        "
      ],
      "metadata": {
        "id": "2L6qEQiv1ZiS"
      },
      "execution_count": null,
      "outputs": []
    },
    {
      "cell_type": "code",
      "source": [
        "from tqdm import tqdm\n",
        "\n",
        "def training(loader, vocab_size, n_epochs):\n",
        "    device = torch.device('cuda')  # run on colab gpu\n",
        "    model = ContinuousClassifier(vocab_size).to(device)\n",
        "    opt = optim.Adam(model.parameters(), lr=0.0001)\n",
        "    #opt = optim.SGD(model.parameters(), lr=0.00001, momentum=0.9)\n",
        "\n",
        "    loss_fn = nn.MSELoss(reduction='mean')\n",
        "\n",
        "    losses = []  \n",
        "    for epoch in tqdm(range(n_epochs)):\n",
        "        epoch_loss = 0\n",
        "        for context, label in loader:\n",
        "            preds = model(context.float().to(device))\n",
        "            \n",
        "            model.zero_grad()\n",
        "            loss = loss_fn(preds.float(), label.float().to(device))\n",
        "            loss.backward()\n",
        "            opt.step()\n",
        "            epoch_loss += loss.item()\n",
        "        losses.append(epoch_loss)\n",
        "\n",
        "    embedding_matrix = model.linear.weight.data.cpu().numpy()  # Your code here!\n",
        "\n",
        "    return embedding_matrix, model, losses"
      ],
      "metadata": {
        "id": "QWol1sMy19Qe"
      },
      "execution_count": null,
      "outputs": []
    },
    {
      "cell_type": "code",
      "source": [
        "batch_size = 16\n",
        "loader = torch_data.DataLoader([(bow_matrix[i], y_train_norm[i]) for i in range(len(X_train))], batch_size=batch_size, shuffle=True)\n",
        "\n",
        "nn_weights, model, losses = training(loader, bow_matrix.shape[1], 30)"
      ],
      "metadata": {
        "colab": {
          "base_uri": "https://localhost:8080/"
        },
        "id": "-KFJmqh16JSW",
        "outputId": "7b87dada-df47-404b-a4c2-adb305315131"
      },
      "execution_count": null,
      "outputs": [
        {
          "output_type": "stream",
          "name": "stderr",
          "text": [
            "\r  0%|          | 0/30 [00:00<?, ?it/s]/usr/local/lib/python3.7/dist-packages/torch/nn/modules/loss.py:530: UserWarning: Using a target size (torch.Size([16])) that is different to the input size (torch.Size([16, 1])). This will likely lead to incorrect results due to broadcasting. Please ensure they have the same size.\n",
            "  return F.mse_loss(input, target, reduction=self.reduction)\n",
            "/usr/local/lib/python3.7/dist-packages/torch/nn/modules/loss.py:530: UserWarning: Using a target size (torch.Size([3])) that is different to the input size (torch.Size([3, 1])). This will likely lead to incorrect results due to broadcasting. Please ensure they have the same size.\n",
            "  return F.mse_loss(input, target, reduction=self.reduction)\n",
            "100%|██████████| 30/30 [00:29<00:00,  1.02it/s]\n"
          ]
        }
      ]
    },
    {
      "cell_type": "code",
      "source": [
        "import matplotlib.pyplot as plt\n",
        "plt.plot(losses)\n",
        "plt.title('Epoch loss with batch size = 16')\n",
        "plt.show()"
      ],
      "metadata": {
        "colab": {
          "base_uri": "https://localhost:8080/",
          "height": 281
        },
        "id": "wtH2FO7iCXzp",
        "outputId": "99bd62a8-9f52-448d-b34a-6a12dce76750"
      },
      "execution_count": null,
      "outputs": [
        {
          "output_type": "display_data",
          "data": {
            "text/plain": [
              "<Figure size 432x288 with 1 Axes>"
            ],
            "image/png": "[encoded data removed]"
          },
          "metadata": {
            "needs_background": "light"
          }
        }
      ]
    },
    {
      "cell_type": "code",
      "source": [
        "bow_weight = nn_weights.T.flatten()\n",
        "bow_weight = fancy_sentimentizer(bow_weight)\n",
        "\n",
        "bow_weight_top = np.sort(bow_weight)[-5:]\n",
        "bow_ind_top = bow_weight.argsort()[-5:][::-1]\n",
        "bow_word_top = babl(bow_ind_top)\n",
        "\n",
        "print(\"BOW top indices      \", bow_ind_top)\n",
        "print(\"BOW top weights      \", bow_weight_top)\n",
        "print(\"BOW top words        \", bow_word_top, \"\\n\")\n",
        "\n",
        "\n",
        "bow_weight_bot = np.sort(bow_weight)[:5]\n",
        "bow_ind_bot = bow_weight.argsort()[:5][::-1]\n",
        "bow_word_bot = babl(bow_ind_bot)\n",
        "\n",
        "print(\"BOW bot indices      \", bow_ind_bot)\n",
        "print(\"BOW bot weights      \", bow_weight_bot)\n",
        "print(\"BOW bot words        \", bow_word_bot, \"\\n\")"
      ],
      "metadata": {
        "colab": {
          "base_uri": "https://localhost:8080/"
        },
        "id": "oiZaoIeK9Iah",
        "outputId": "17b6d33d-a09f-49d5-9834-ac5b6698d683"
      },
      "execution_count": null,
      "outputs": [
        {
          "output_type": "stream",
          "name": "stdout",
          "text": [
            "BOW top indices       [1812 1192  277   69  670]\n",
            "BOW top weights       [0.6608989  0.6666434  0.787606   0.88584256 1.        ]\n",
            "BOW top words         ['proud' 'lmao' 'lol' 'beautiful' 'happy'] \n",
            "\n",
            "BOW bot indices       [1162   82 1274 1058  296]\n",
            "BOW bot weights       [-1.         -0.8026257  -0.8020967  -0.73575294 -0.7267262 ]\n",
            "BOW bot words         ['horrible' 'mad' 'evil' 'crazy' 'outrageous'] \n",
            "\n"
          ]
        }
      ]
    },
    {
      "cell_type": "code",
      "source": [
        "for word in words_of_interest: \n",
        "    token_index = vectorizer.tokenizer.word_to_token[word]\n",
        "    print(\"Sentiment score: {} , Word: {}\".format(np.round(bow_weight[token_index], 5),word))"
      ],
      "metadata": {
        "colab": {
          "base_uri": "https://localhost:8080/"
        },
        "id": "cLxO_HntB8wH",
        "outputId": "2efab184-e04c-48bf-c38a-6acc84f99a1b"
      },
      "execution_count": null,
      "outputs": [
        {
          "output_type": "stream",
          "name": "stdout",
          "text": [
            "Sentiment score: 0.07009000331163406 , Word: covid\n",
            "Sentiment score: 0.005779999773949385 , Word: mask\n",
            "Sentiment score: 0.28547999262809753 , Word: quarantine\n",
            "Sentiment score: 0.04077000170946121 , Word: pandemic\n",
            "Sentiment score: -0.05706999823451042 , Word: virus\n",
            "Sentiment score: 0.12188000231981277 , Word: vaccine\n",
            "Sentiment score: 0.132750004529953 , Word: distancing\n",
            "Sentiment score: 0.02589000016450882 , Word: corona\n",
            "Sentiment score: -0.025110000744462013 , Word: trump\n"
          ]
        }
      ]
    },
    {
      "cell_type": "code",
      "source": [
        "#### TF IDF"
      ],
      "metadata": {
        "id": "aF9q1GE8E4Ql"
      },
      "execution_count": null,
      "outputs": []
    },
    {
      "cell_type": "code",
      "source": [
        "batch_size = 16\n",
        "loader = torch_data.DataLoader([(tfidf_matrix[i], y_train_norm[i]) for i in range(len(X_train))], batch_size=batch_size, shuffle=True)\n",
        "\n",
        "nn_weights_tf, model, losses = training(loader, tfidf_matrix.shape[1], 40)"
      ],
      "metadata": {
        "colab": {
          "base_uri": "https://localhost:8080/"
        },
        "id": "apxabTqTFFLf",
        "outputId": "834e65f5-cc10-4537-f93d-0f21871c272b"
      },
      "execution_count": null,
      "outputs": [
        {
          "output_type": "stream",
          "name": "stderr",
          "text": [
            "100%|██████████| 40/40 [00:35<00:00,  1.13it/s]\n"
          ]
        }
      ]
    },
    {
      "cell_type": "code",
      "source": [
        "import matplotlib.pyplot as plt\n",
        "plt.plot(losses)\n",
        "plt.title('Epoch loss with batch size = 16')\n",
        "plt.show()"
      ],
      "metadata": {
        "colab": {
          "base_uri": "https://localhost:8080/",
          "height": 281
        },
        "id": "negfV-cgFPOA",
        "outputId": "66a15f76-0e52-444c-cff5-3d5c011f8115"
      },
      "execution_count": null,
      "outputs": [
        {
          "output_type": "display_data",
          "data": {
            "text/plain": [
              "<Figure size 432x288 with 1 Axes>"
            ],
            "image/png": "[encoded data removed]"
          },
          "metadata": {
            "needs_background": "light"
          }
        }
      ]
    },
    {
      "cell_type": "code",
      "source": [
        "bow_weight = nn_weights_tf.T.flatten()\n",
        "bow_weight = fancy_sentimentizer(bow_weight)\n",
        "\n",
        "bow_weight_top = np.sort(bow_weight)[-5:]\n",
        "bow_ind_top = bow_weight.argsort()[-5:][::-1]\n",
        "bow_word_top = babl(bow_ind_top)\n",
        "\n",
        "print(\"BOW top indices      \", bow_ind_top)\n",
        "print(\"BOW top weights      \", bow_weight_top)\n",
        "print(\"BOW top words        \", bow_word_top, \"\\n\")\n",
        "\n",
        "\n",
        "bow_weight_bot = np.sort(bow_weight)[:5]\n",
        "bow_ind_bot = bow_weight.argsort()[:5][::-1]\n",
        "bow_word_bot = babl(bow_ind_bot)\n",
        "\n",
        "print(\"BOW bot indices      \", bow_ind_bot)\n",
        "print(\"BOW bot weights      \", bow_weight_bot)\n",
        "print(\"BOW bot words        \", bow_word_bot, \"\\n\")"
      ],
      "metadata": {
        "colab": {
          "base_uri": "https://localhost:8080/"
        },
        "id": "bSTQ3xIFFQ3d",
        "outputId": "6347b8cf-0901-407e-c4bf-c1de2a0903c9"
      },
      "execution_count": null,
      "outputs": [
        {
          "output_type": "stream",
          "name": "stdout",
          "text": [
            "BOW top indices       [ 489 1194  752 1907 1590]\n",
            "BOW top weights       [0.86279    0.89482534 0.92735386 0.97195685 1.        ]\n",
            "BOW top words         ['jared' 'permission' 'wealth' 'reassurance' 'timely'] \n",
            "\n",
            "BOW bot indices       [ 693 2104 1896  390  391]\n",
            "BOW bot weights       [-1.         -0.87785435 -0.79389596 -0.59770834 -0.5304843 ]\n",
            "BOW bot words         ['holten' 'bloodmatter' 'premature' 'steward' 'ada'] \n",
            "\n"
          ]
        }
      ]
    },
    {
      "cell_type": "code",
      "source": [
        "for word in words_of_interest: \n",
        "    token_index = vectorizer.tokenizer.word_to_token[word]\n",
        "    print(\"Sentiment score: {} , Word: {}\".format(np.round(bow_weight[token_index], 5),word))"
      ],
      "metadata": {
        "colab": {
          "base_uri": "https://localhost:8080/"
        },
        "id": "V8DhLGegGbGj",
        "outputId": "2b9b3f34-495d-4fc9-e34c-8c43d43bd679"
      },
      "execution_count": null,
      "outputs": [
        {
          "output_type": "stream",
          "name": "stdout",
          "text": [
            "Sentiment score: 0.6454499959945679 , Word: covid\n",
            "Sentiment score: 0.1534000039100647 , Word: mask\n",
            "Sentiment score: 0.47828999161720276 , Word: quarantine\n",
            "Sentiment score: 0.28431999683380127 , Word: pandemic\n",
            "Sentiment score: 0.10083000361919403 , Word: virus\n",
            "Sentiment score: 0.32256001234054565 , Word: vaccine\n",
            "Sentiment score: 0.08641999959945679 , Word: distancing\n",
            "Sentiment score: 0.2902800142765045 , Word: corona\n",
            "Sentiment score: 0.3302299976348877 , Word: trump\n"
          ]
        }
      ]
    }
  ]
}